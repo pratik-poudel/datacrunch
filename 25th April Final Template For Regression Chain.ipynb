{
  "nbformat": 4,
  "nbformat_minor": 0,
  "metadata": {
    "colab": {
      "name": "scratchpad",
      "provenance": [],
      "include_colab_link": true
    },
    "kernelspec": {
      "display_name": "Python 3",
      "name": "python3"
    }
  },
  "cells": [
    {
      "cell_type": "markdown",
      "metadata": {
        "id": "view-in-github",
        "colab_type": "text"
      },
      "source": [
        "<a href=\"https://colab.research.google.com/github/pratik-poudel/datacrunch/blob/main/25th%20April%20Final%20Template%20For%20Regression%20Chain.ipynb\" target=\"_parent\"><img src=\"https://colab.research.google.com/assets/colab-badge.svg\" alt=\"Open In Colab\"/></a>"
      ]
    },
    {
      "cell_type": "code",
      "metadata": {
        "id": "lIYdn1woOS1n"
      },
      "source": [
        "import numpy as np\n",
        "import pandas as pd\n",
        "from collections import defaultdict\n",
        "from tqdm.notebook import tqdm\n",
        "from matplotlib import pyplot as plt\n",
        "import warnings\n",
        "warnings.filterwarnings('ignore')\n",
        "import seaborn as sns\n",
        "import gc\n",
        "# pd.options.display.float_format| = \"{:.2f}\".format\n",
        "pd.options.display.max_columns = 500\n",
        "\n",
        "\n",
        "from sklearn.model_selection import train_test_split\n",
        "from sklearn.metrics import accuracy_score \n",
        "from sklearn.metrics import classification_report \n",
        "import requests\n",
        "from scipy import stats\n",
        "\n",
        "import lightgbm as lgb\n",
        "\n",
        "from tensorflow.keras.callbacks import EarlyStopping, ModelCheckpoint\n",
        "\n",
        "import sklearn\n",
        "from sklearn import *\n",
        "from sklearn.experimental import enable_hist_gradient_boosting\n",
        "from sklearn.utils.testing import all_estimators\n",
        "from sklearn.base import RegressorMixin\n",
        "from sklearn.model_selection import train_test_split\n",
        "from sklearn.metrics import accuracy_score \n",
        "from sklearn.metrics import classification_report \n",
        "from sklearn.metrics import make_scorer\n",
        "from sklearn.model_selection import RepeatedKFold, cross_val_score, KFold\n",
        "from sklearn.multioutput import RegressorChain\n",
        "\n",
        "\n",
        "import requests\n",
        "import time\n",
        "from scipy import stats\n",
        "\n",
        "import lightgbm as lgb\n",
        "import xgboost as xgb"
      ],
      "execution_count": 2,
      "outputs": []
    },
    {
      "cell_type": "code",
      "metadata": {
        "id": "hUj6gu_Bd9Gh"
      },
      "source": [
        "train_datalink_X = 'https://tournament.datacrunch.com/data/X_train.csv'  \n",
        "train_datalink_y = 'https://tournament.datacrunch.com/data/y_train.csv'\n",
        "hackathon_data_link = 'https://tournament.datacrunch.com/data/X_test.csv'"
      ],
      "execution_count": 3,
      "outputs": []
    },
    {
      "cell_type": "code",
      "metadata": {
        "id": "_KBSz1iFd-0q"
      },
      "source": [
        "train = pd.read_csv(train_datalink_X)\n",
        "target = pd.read_csv(train_datalink_y)\n",
        "test = pd.read_csv(hackathon_data_link)"
      ],
      "execution_count": 4,
      "outputs": []
    },
    {
      "cell_type": "code",
      "metadata": {
        "id": "YDsHincId_wE",
        "outputId": "2897508a-8851-4fd7-88a2-7cbd36f26ea5",
        "colab": {
          "base_uri": "https://localhost:8080/"
        }
      },
      "source": [
        "feat= [f for f in train.columns if \"Feature\" in f]\n",
        "print(feat)"
      ],
      "execution_count": 5,
      "outputs": [
        {
          "output_type": "stream",
          "text": [
            "['Feature_1', 'Feature_2', 'Feature_3', 'Feature_4', 'Feature_5', 'Feature_6', 'Feature_7', 'Feature_8', 'Feature_9', 'Feature_10', 'Feature_11', 'Feature_12', 'Feature_13', 'Feature_14']\n"
          ],
          "name": "stdout"
        }
      ]
    },
    {
      "cell_type": "code",
      "metadata": {
        "id": "JhsEduZfeBam"
      },
      "source": [
        "kf = KFold(n_splits=6, random_state=60)\n",
        "\n",
        "def validate(X, y, cv, model_name, actual_test):\n",
        "    oof_pred_r = np.zeros(len(X))\n",
        "    oof_pred_g = np.zeros(len(X))\n",
        "    oof_pred_b = np.zeros(len(X))\n",
        "\n",
        "    original_test_preds = np.zeros((len(actual_test), 3))\n",
        "    cnt = 1\n",
        "    scores_dict = {\"fold\":[],\"score_r\":[],\"score_g\":[], \"score_b\":[]}\n",
        "\n",
        "    for tr_ind , val_ind in cv.split(X, y):\n",
        "        # print(f'Fold:{cnt}, Train set: {len(tr_ind)}, Test set:{len(val_ind)}') \n",
        "        \n",
        "        X_train, X_val = X.iloc[tr_ind], X.iloc[val_ind]\n",
        "        y_train, y_val = y.iloc[tr_ind], y.iloc[val_ind]\n",
        "    \n",
        "        \n",
        "        model_name.fit(X_train,y_train)\n",
        "        val_pred = pd.DataFrame(model_name.predict(X_val), columns=target.columns)\n",
        "\n",
        "        score_r = stats.spearmanr(y_val.target_r, val_pred.target_r)[0]\n",
        "        score_g = stats.spearmanr(y_val.target_g, val_pred.target_g)[0]    \n",
        "        score_b = stats.spearmanr(y_val.target_b, val_pred.target_b)[0]\n",
        "        # print(score_r, score_g, score_b)\n",
        "        scores_dict['fold'].append(cnt)    \n",
        "        scores_dict['score_r'].append(score_r)\n",
        "        scores_dict['score_g'].append(score_g)\n",
        "        scores_dict['score_b'].append(score_b)\n",
        "        \n",
        "        oof_pred_r[val_ind] = val_pred.target_r.values\n",
        "        oof_pred_g[val_ind] = val_pred.target_g.values\n",
        "        oof_pred_b[val_ind] = val_pred.target_b.values\n",
        "\n",
        "        original_test_preds += model_name.predict(actual_test)\n",
        "        \n",
        "        cnt += 1\n",
        "    oof_pred_df = pd.concat([pd.DataFrame(oof_pred_r, columns=['target_r']),\n",
        "                    pd.DataFrame(oof_pred_g, columns=['target_g']),\n",
        "                    pd.DataFrame(oof_pred_b, columns=['target_b'])], axis=1)\n",
        "\n",
        "    # print(\"Final OOF SCORE :\", stats.spearmanr(oof_pred_r, target.target_r)[0])\n",
        "    # print(\"Final OOF SCORE :\",stats.spearmanr(oof_pred_g, target.target_g)[0])\n",
        "    # print(\"Final OOF SCORE :\",stats.spearmanr(oof_pred_b, target.target_b)[0])\n",
        "\n",
        "    original_test_preds = original_test_preds / kf.n_splits\n",
        "    original_test_preds_df = pd.DataFrame(original_test_preds, columns=target.columns)\n",
        "    return pd.DataFrame(scores_dict), oof_pred_df, original_test_preds_df\n",
        "\n",
        "# validation_scores, oof_predictions = validate(train[feat], target, kf, RegressorChain(sklearn.ensemble.RandomForestRegressor(random_state=60, n_jobs=-1)))"
      ],
      "execution_count": 6,
      "outputs": []
    },
    {
      "cell_type": "code",
      "metadata": {
        "id": "rSHAcb2KtTW6"
      },
      "source": [
        "regressors = [  \n",
        "                ('BayesianRidge', sklearn.linear_model.BayesianRidge()),\n",
        "                ('HuberRegressor', sklearn.linear_model.HuberRegressor()),\n",
        "                ('Lars', sklearn.linear_model.Lars()),\n",
        "                ('LassoLarsIC', sklearn.linear_model.LassoLarsIC()),\n",
        "                ('LinearRegression', sklearn.linear_model.LinearRegression()),\n",
        "                ('Ridge', sklearn.linear_model.Ridge()),\n",
        "                ('SGDRegressor', sklearn.linear_model.SGDRegressor()),\n",
        "                ('TransformedTargetRegressor',sklearn.compose.TransformedTargetRegressor()),\n",
        "                \n",
        "                ('AdaBoostRegressor', sklearn.ensemble.AdaBoostRegressor()),\n",
        "                ('BaggingRegressor', sklearn.ensemble.BaggingRegressor()),\n",
        "                \n",
        "                ('DecisionTreeRegressor', sklearn.tree.DecisionTreeRegressor()),\n",
        "                ('ElasticNet', sklearn.linear_model.ElasticNet()),\n",
        "                ('ExtraTreeRegressor', sklearn.tree.ExtraTreeRegressor()),\n",
        "                ('ExtraTreesRegressor', sklearn.ensemble.ExtraTreesRegressor()),\n",
        "                ('GradientBoostingRegressor', sklearn.ensemble.GradientBoostingRegressor()),\n",
        "                ('HistGradientBoostingRegressor',sklearn.ensemble.HistGradientBoostingRegressor()),\n",
        "                \n",
        "                ('Lasso', sklearn.linear_model.Lasso()),\n",
        "                ('LassoLars', sklearn.linear_model.LassoLars()),\n",
        "                \n",
        "                ('OrthogonalMatchingPursuit',sklearn.linear_model.OrthogonalMatchingPursuit()),\n",
        "                ('PassiveAggressiveRegressor',sklearn.linear_model.PassiveAggressiveRegressor()),\n",
        "                ('RANSACRegressor', sklearn.linear_model.RANSACRegressor()),\n",
        "                ('RandomForestRegressor', sklearn.ensemble.RandomForestRegressor()),\n",
        "                \n",
        "                (\"XGBRegressor\", xgb.XGBRegressor(objective='reg:squarederror')),\n",
        "                (\"LGBMRegressor\", lgb.LGBMRegressor())\n",
        "                ]"
      ],
      "execution_count": 8,
      "outputs": []
    },
    {
      "cell_type": "code",
      "metadata": {
        "id": "8OIXCvjRtTT8",
        "outputId": "ba79dede-745a-45a9-d8d5-40652b093104",
        "colab": {
          "base_uri": "https://localhost:8080/"
        }
      },
      "source": [
        "names = []\n",
        "score_r = []\n",
        "score_g = []\n",
        "score_b = []\n",
        "test_preds_model_name= []\n",
        "\n",
        "for i, (name, model) in enumerate(regressors):\n",
        "    print(i+1, name)\n",
        "    if 'random_state' in model.get_params().keys():\n",
        "        model.set_params(random_state=60)\n",
        "    if 'n_jobs' in model.get_params().keys():\n",
        "            model.set_params(n_jobs=-1)\n",
        "\n",
        "    wrapper = RegressorChain(model)\n",
        "\n",
        "    validation_scores , oof_predictions_df, globals()['test_pred_%s' % name] = validate(train[feat], target, kf, wrapper, test)\n",
        "    names.append(name)\n",
        "    test_preds_model_name.append('test_pred_%s' % name)\n",
        "\n",
        "    score_r.append(stats.spearmanr(oof_predictions_df.target_r, target.target_r)[0])\n",
        "    score_g.append(stats.spearmanr(oof_predictions_df.target_g, target.target_g)[0])\n",
        "    score_b.append(stats.spearmanr(oof_predictions_df.target_b, target.target_b)[0])\n",
        "result_df = pd.concat([pd.Series(names), pd.Series(score_r), pd.Series(score_g), pd.Series(score_b)], axis=1)\n",
        "result_df.columns = ['model', 'r_score', 'g_score', 'b_score']\n",
        "result_df['mean_score'] = result_df[['r_score', 'g_score', 'b_score']].mean(axis=1)"
      ],
      "execution_count": 9,
      "outputs": [
        {
          "output_type": "stream",
          "text": [
            "1 BayesianRidge\n",
            "2 HuberRegressor\n",
            "3 Lars\n",
            "4 LassoLarsIC\n",
            "5 LinearRegression\n",
            "6 Ridge\n",
            "7 SGDRegressor\n",
            "8 TransformedTargetRegressor\n",
            "9 AdaBoostRegressor\n",
            "10 BaggingRegressor\n",
            "11 DecisionTreeRegressor\n",
            "12 ElasticNet\n",
            "13 ExtraTreeRegressor\n",
            "14 ExtraTreesRegressor\n",
            "15 GradientBoostingRegressor\n",
            "16 HistGradientBoostingRegressor\n",
            "17 Lasso\n",
            "18 LassoLars\n",
            "19 OrthogonalMatchingPursuit\n",
            "20 PassiveAggressiveRegressor\n",
            "21 RANSACRegressor\n",
            "22 RandomForestRegressor\n",
            "23 XGBRegressor\n",
            "24 LGBMRegressor\n"
          ],
          "name": "stdout"
        }
      ]
    },
    {
      "cell_type": "code",
      "metadata": {
        "id": "b1U7fVnYO6Ha",
        "outputId": "0ebeffb4-ba66-43fc-ec8b-8d193596f237",
        "colab": {
          "base_uri": "https://localhost:8080/"
        }
      },
      "source": [
        "print(test_preds_model_name)"
      ],
      "execution_count": 34,
      "outputs": [
        {
          "output_type": "stream",
          "text": [
            "['test_pred_BayesianRidge', 'test_pred_HuberRegressor', 'test_pred_Lars', 'test_pred_LassoLarsIC', 'test_pred_LinearRegression', 'test_pred_Ridge', 'test_pred_SGDRegressor', 'test_pred_TransformedTargetRegressor', 'test_pred_AdaBoostRegressor', 'test_pred_BaggingRegressor', 'test_pred_DecisionTreeRegressor', 'test_pred_ElasticNet', 'test_pred_ExtraTreeRegressor', 'test_pred_ExtraTreesRegressor', 'test_pred_GradientBoostingRegressor', 'test_pred_HistGradientBoostingRegressor', 'test_pred_Lasso', 'test_pred_LassoLars', 'test_pred_OrthogonalMatchingPursuit', 'test_pred_PassiveAggressiveRegressor', 'test_pred_RANSACRegressor', 'test_pred_RandomForestRegressor', 'test_pred_XGBRegressor', 'test_pred_LGBMRegressor']\n"
          ],
          "name": "stdout"
        }
      ]
    },
    {
      "cell_type": "code",
      "metadata": {
        "id": "zNZCMPor1WBQ",
        "outputId": "4e9fcda9-657f-46d0-db0e-e7ebfde6644b",
        "colab": {
          "base_uri": "https://localhost:8080/",
          "height": 335
        }
      },
      "source": [
        "result_df.sort_values(by='mean_score', ascending=False)[:10]"
      ],
      "execution_count": 33,
      "outputs": [
        {
          "output_type": "execute_result",
          "data": {
            "text/html": [
              "<div>\n",
              "<style scoped>\n",
              "    .dataframe tbody tr th:only-of-type {\n",
              "        vertical-align: middle;\n",
              "    }\n",
              "\n",
              "    .dataframe tbody tr th {\n",
              "        vertical-align: top;\n",
              "    }\n",
              "\n",
              "    .dataframe thead th {\n",
              "        text-align: right;\n",
              "    }\n",
              "</style>\n",
              "<table border=\"1\" class=\"dataframe\">\n",
              "  <thead>\n",
              "    <tr style=\"text-align: right;\">\n",
              "      <th></th>\n",
              "      <th>model</th>\n",
              "      <th>r_score</th>\n",
              "      <th>g_score</th>\n",
              "      <th>b_score</th>\n",
              "      <th>mean_score</th>\n",
              "    </tr>\n",
              "  </thead>\n",
              "  <tbody>\n",
              "    <tr>\n",
              "      <th>6</th>\n",
              "      <td>SGDRegressor</td>\n",
              "      <td>0.094667</td>\n",
              "      <td>0.120938</td>\n",
              "      <td>0.207979</td>\n",
              "      <td>0.141195</td>\n",
              "    </tr>\n",
              "    <tr>\n",
              "      <th>1</th>\n",
              "      <td>HuberRegressor</td>\n",
              "      <td>0.089132</td>\n",
              "      <td>0.132927</td>\n",
              "      <td>0.191780</td>\n",
              "      <td>0.137946</td>\n",
              "    </tr>\n",
              "    <tr>\n",
              "      <th>2</th>\n",
              "      <td>Lars</td>\n",
              "      <td>0.092037</td>\n",
              "      <td>0.135210</td>\n",
              "      <td>0.183478</td>\n",
              "      <td>0.136908</td>\n",
              "    </tr>\n",
              "    <tr>\n",
              "      <th>5</th>\n",
              "      <td>Ridge</td>\n",
              "      <td>0.091919</td>\n",
              "      <td>0.135271</td>\n",
              "      <td>0.183467</td>\n",
              "      <td>0.136886</td>\n",
              "    </tr>\n",
              "    <tr>\n",
              "      <th>3</th>\n",
              "      <td>LassoLarsIC</td>\n",
              "      <td>0.088534</td>\n",
              "      <td>0.136565</td>\n",
              "      <td>0.184120</td>\n",
              "      <td>0.136406</td>\n",
              "    </tr>\n",
              "    <tr>\n",
              "      <th>4</th>\n",
              "      <td>LinearRegression</td>\n",
              "      <td>0.090872</td>\n",
              "      <td>0.131614</td>\n",
              "      <td>0.183077</td>\n",
              "      <td>0.135188</td>\n",
              "    </tr>\n",
              "    <tr>\n",
              "      <th>7</th>\n",
              "      <td>TransformedTargetRegressor</td>\n",
              "      <td>0.090872</td>\n",
              "      <td>0.131614</td>\n",
              "      <td>0.183077</td>\n",
              "      <td>0.135188</td>\n",
              "    </tr>\n",
              "    <tr>\n",
              "      <th>0</th>\n",
              "      <td>BayesianRidge</td>\n",
              "      <td>0.084508</td>\n",
              "      <td>0.136729</td>\n",
              "      <td>0.180989</td>\n",
              "      <td>0.134075</td>\n",
              "    </tr>\n",
              "    <tr>\n",
              "      <th>22</th>\n",
              "      <td>XGBRegressor</td>\n",
              "      <td>0.049208</td>\n",
              "      <td>0.122210</td>\n",
              "      <td>0.182381</td>\n",
              "      <td>0.117933</td>\n",
              "    </tr>\n",
              "    <tr>\n",
              "      <th>14</th>\n",
              "      <td>GradientBoostingRegressor</td>\n",
              "      <td>0.042764</td>\n",
              "      <td>0.117808</td>\n",
              "      <td>0.174805</td>\n",
              "      <td>0.111792</td>\n",
              "    </tr>\n",
              "  </tbody>\n",
              "</table>\n",
              "</div>"
            ],
            "text/plain": [
              "                         model   r_score   g_score   b_score  mean_score\n",
              "6                 SGDRegressor  0.094667  0.120938  0.207979    0.141195\n",
              "1               HuberRegressor  0.089132  0.132927  0.191780    0.137946\n",
              "2                         Lars  0.092037  0.135210  0.183478    0.136908\n",
              "5                        Ridge  0.091919  0.135271  0.183467    0.136886\n",
              "3                  LassoLarsIC  0.088534  0.136565  0.184120    0.136406\n",
              "4             LinearRegression  0.090872  0.131614  0.183077    0.135188\n",
              "7   TransformedTargetRegressor  0.090872  0.131614  0.183077    0.135188\n",
              "0                BayesianRidge  0.084508  0.136729  0.180989    0.134075\n",
              "22                XGBRegressor  0.049208  0.122210  0.182381    0.117933\n",
              "14   GradientBoostingRegressor  0.042764  0.117808  0.174805    0.111792"
            ]
          },
          "metadata": {
            "tags": []
          },
          "execution_count": 33
        }
      ]
    },
    {
      "cell_type": "code",
      "metadata": {
        "id": "W5cgMhhm7pD3"
      },
      "source": [
        "prediction = test_pred_SGDRegressor + test_pred_HuberRegressor + test_pred_Lars + test_pred_Ridge + test_pred_LassoLarsIC"
      ],
      "execution_count": 22,
      "outputs": []
    },
    {
      "cell_type": "code",
      "metadata": {
        "id": "W5D4UBgzRGAJ"
      },
      "source": [
        "prediction = prediction / 5"
      ],
      "execution_count": 29,
      "outputs": []
    },
    {
      "cell_type": "code",
      "metadata": {
        "id": "-T-iaKGJRxm1",
        "outputId": "41489d23-302e-42d3-dd8a-2ed23db9bc11",
        "colab": {
          "base_uri": "https://localhost:8080/",
          "height": 761
        }
      },
      "source": [
        "prediction['target_r'].plot(kind='hist')\n",
        "plt.show()\n",
        "prediction['target_g'].plot(kind='hist')\n",
        "plt.show()\n",
        "prediction['target_b'].plot(kind='hist')\n",
        "plt.show()"
      ],
      "execution_count": 30,
      "outputs": [
        {
          "output_type": "display_data",
          "data": {
            "image/png": "[encoded data removed]",
            "text/plain": [
              "<Figure size 432x288 with 1 Axes>"
            ]
          },
          "metadata": {
            "tags": [],
            "needs_background": "light"
          }
        },
        {
          "output_type": "display_data",
          "data": {
            "image/png": "[encoded data removed]",
            "text/plain": [
              "<Figure size 432x288 with 1 Axes>"
            ]
          },
          "metadata": {
            "tags": [],
            "needs_background": "light"
          }
        },
        {
          "output_type": "display_data",
          "data": {
            "image/png": "[encoded data removed]",
            "text/plain": [
              "<Figure size 432x288 with 1 Axes>"
            ]
          },
          "metadata": {
            "tags": [],
            "needs_background": "light"
          }
        }
      ]
    },
    {
      "cell_type": "code",
      "metadata": {
        "id": "vIJInkGiR2yU",
        "outputId": "38b86b24-ebb7-4f24-f426-7b222541e565",
        "colab": {
          "base_uri": "https://localhost:8080/"
        }
      },
      "source": [
        "API_KEY = \"0GIskIC9Rd1I8sMw6nStutbIbMx7AaZzAyNfuMOVAVWgJtNa1IVQHZAD3WPj\" # <- HERE\n",
        "\n",
        "r = requests.post(\"https://tournament.datacrunch.com/api/submission\",\n",
        "    files = {\n",
        "        \"file\": (\"x\", prediction.to_csv().encode('ascii'))\n",
        "    },\n",
        "    data = {\n",
        "        \"apiKey\": API_KEY\n",
        "    },\n",
        ")\n",
        "\n",
        "if r.status_code == 200:\n",
        "    print(\"Submission submitted :)\")\n",
        "elif r.status_code == 423:\n",
        "    print(\"ERR: Submissions are close\")\n",
        "    print(\"You can only submit during rounds eg: Friday 7pm GMT+1 to Sunday midnight GMT+1.\")\n",
        "    print(\"Or the server is currently crunching the submitted files, please wait some time before retrying.\")\n",
        "elif r.status_code == 422:\n",
        "    print(\"ERR: API Key is missing or empty\")\n",
        "    print(\"Did you forget to fill the API_KEY variable?\")\n",
        "elif r.status_code == 404:\n",
        "    print(\"ERR: Unknown API Key\")\n",
        "    print(\"You should check that the provided API key is valid and is the same as the one you've received by email.\")\n",
        "elif r.status_code == 400:\n",
        "    print(\"ERR: The file must not be empty\")\n",
        "    print(\"You have send a empty file.\")\n",
        "elif r.status_code == 401:\n",
        "    print(\"ERR: Your email hasn't been verified\")\n",
        "    print(\"Please verify your email or contact a cruncher.\")\n",
        "elif r.status_code == 429:\n",
        "    print(\"ERR: Too many submissions\")\n",
        "else:\n",
        "    print(\"ERR: Server returned: \" + str(r.status_code))\n",
        "    print(\"Ouch! It seems that we were not expecting this kind of result from the server, if the probleme persist, contact a cruncher.\")"
      ],
      "execution_count": 31,
      "outputs": [
        {
          "output_type": "stream",
          "text": [
            "Submission submitted :)\n"
          ],
          "name": "stdout"
        }
      ]
    },
    {
      "cell_type": "code",
      "metadata": {
        "id": "yTzOw8JKR7_W"
      },
      "source": [
        ""
      ],
      "execution_count": null,
      "outputs": []
    }
  ]
}