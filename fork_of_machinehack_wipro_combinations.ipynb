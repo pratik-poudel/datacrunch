{
  "metadata": {
    "kernelspec": {
      "language": "python",
      "display_name": "Python 3",
      "name": "python3"
    },
    "language_info": {
      "name": "python",
      "version": "3.7.12",
      "mimetype": "text/x-python",
      "codemirror_mode": {
        "name": "ipython",
        "version": 3
      },
      "pygments_lexer": "ipython3",
      "nbconvert_exporter": "python",
      "file_extension": ".py"
    },
    "colab": {
      "name": "fork-of-machinehack-wipro.ipynb",
      "provenance": [],
      "include_colab_link": true
    }
  },
  "nbformat_minor": 0,
  "nbformat": 4,
  "cells": [
    {
      "cell_type": "markdown",
      "metadata": {
        "id": "view-in-github",
        "colab_type": "text"
      },
      "source": [
        "<a href=\"https://colab.research.google.com/github/pratik-poudel/datacrunch/blob/main/fork_of_machinehack_wipro_combinations.ipynb\" target=\"_parent\"><img src=\"https://colab.research.google.com/assets/colab-badge.svg\" alt=\"Open In Colab\"/></a>"
      ]
    },
    {
      "cell_type": "code",
      "source": [
        "# pip install feature-engine"
      ],
      "metadata": {
        "execution": {
          "iopub.status.busy": "2022-02-03T17:28:18.558555Z",
          "iopub.execute_input": "2022-02-03T17:28:18.559228Z",
          "iopub.status.idle": "2022-02-03T17:28:18.577435Z",
          "shell.execute_reply.started": "2022-02-03T17:28:18.559105Z",
          "shell.execute_reply": "2022-02-03T17:28:18.576834Z"
        },
        "trusted": true,
        "id": "1abaFf8rKNwP"
      },
      "execution_count": null,
      "outputs": []
    },
    {
      "cell_type": "code",
      "source": [
        "pip install optuna"
      ],
      "metadata": {
        "execution": {
          "iopub.status.busy": "2022-02-03T17:28:18.579144Z",
          "iopub.execute_input": "2022-02-03T17:28:18.57961Z",
          "iopub.status.idle": "2022-02-03T17:28:18.583341Z",
          "shell.execute_reply.started": "2022-02-03T17:28:18.579569Z",
          "shell.execute_reply": "2022-02-03T17:28:18.582488Z"
        },
        "trusted": true,
        "colab": {
          "base_uri": "https://localhost:8080/"
        },
        "id": "tt-jPn9JKNwd",
        "outputId": "5e4453b0-b080-4c6c-81ea-85941b44ad9d"
      },
      "execution_count": 1,
      "outputs": [
        {
          "output_type": "stream",
          "name": "stdout",
          "text": [
            "Requirement already satisfied: optuna in /usr/local/lib/python3.7/dist-packages (2.10.0)\n",
            "Requirement already satisfied: cliff in /usr/local/lib/python3.7/dist-packages (from optuna) (3.10.0)\n",
            "Requirement already satisfied: sqlalchemy>=1.1.0 in /usr/local/lib/python3.7/dist-packages (from optuna) (1.4.31)\n",
            "Requirement already satisfied: cmaes>=0.8.2 in /usr/local/lib/python3.7/dist-packages (from optuna) (0.8.2)\n",
            "Requirement already satisfied: colorlog in /usr/local/lib/python3.7/dist-packages (from optuna) (6.6.0)\n",
            "Requirement already satisfied: packaging>=20.0 in /usr/local/lib/python3.7/dist-packages (from optuna) (21.3)\n",
            "Requirement already satisfied: scipy!=1.4.0 in /usr/local/lib/python3.7/dist-packages (from optuna) (1.4.1)\n",
            "Requirement already satisfied: numpy in /usr/local/lib/python3.7/dist-packages (from optuna) (1.19.5)\n",
            "Requirement already satisfied: alembic in /usr/local/lib/python3.7/dist-packages (from optuna) (1.7.6)\n",
            "Requirement already satisfied: tqdm in /usr/local/lib/python3.7/dist-packages (from optuna) (4.62.3)\n",
            "Requirement already satisfied: PyYAML in /usr/local/lib/python3.7/dist-packages (from optuna) (3.13)\n",
            "Requirement already satisfied: pyparsing!=3.0.5,>=2.0.2 in /usr/local/lib/python3.7/dist-packages (from packaging>=20.0->optuna) (3.0.7)\n",
            "Requirement already satisfied: greenlet!=0.4.17 in /usr/local/lib/python3.7/dist-packages (from sqlalchemy>=1.1.0->optuna) (1.1.2)\n",
            "Requirement already satisfied: importlib-metadata in /usr/local/lib/python3.7/dist-packages (from sqlalchemy>=1.1.0->optuna) (4.10.1)\n",
            "Requirement already satisfied: Mako in /usr/local/lib/python3.7/dist-packages (from alembic->optuna) (1.1.6)\n",
            "Requirement already satisfied: importlib-resources in /usr/local/lib/python3.7/dist-packages (from alembic->optuna) (5.4.0)\n",
            "Requirement already satisfied: PrettyTable>=0.7.2 in /usr/local/lib/python3.7/dist-packages (from cliff->optuna) (3.0.0)\n",
            "Requirement already satisfied: stevedore>=2.0.1 in /usr/local/lib/python3.7/dist-packages (from cliff->optuna) (3.5.0)\n",
            "Requirement already satisfied: pbr!=2.1.0,>=2.0.0 in /usr/local/lib/python3.7/dist-packages (from cliff->optuna) (5.8.1)\n",
            "Requirement already satisfied: autopage>=0.4.0 in /usr/local/lib/python3.7/dist-packages (from cliff->optuna) (0.5.0)\n",
            "Requirement already satisfied: cmd2>=1.0.0 in /usr/local/lib/python3.7/dist-packages (from cliff->optuna) (2.3.3)\n",
            "Requirement already satisfied: attrs>=16.3.0 in /usr/local/lib/python3.7/dist-packages (from cmd2>=1.0.0->cliff->optuna) (21.4.0)\n",
            "Requirement already satisfied: wcwidth>=0.1.7 in /usr/local/lib/python3.7/dist-packages (from cmd2>=1.0.0->cliff->optuna) (0.2.5)\n",
            "Requirement already satisfied: typing-extensions in /usr/local/lib/python3.7/dist-packages (from cmd2>=1.0.0->cliff->optuna) (3.10.0.2)\n",
            "Requirement already satisfied: pyperclip>=1.6 in /usr/local/lib/python3.7/dist-packages (from cmd2>=1.0.0->cliff->optuna) (1.8.2)\n",
            "Requirement already satisfied: zipp>=0.5 in /usr/local/lib/python3.7/dist-packages (from importlib-metadata->sqlalchemy>=1.1.0->optuna) (3.7.0)\n",
            "Requirement already satisfied: MarkupSafe>=0.9.2 in /usr/local/lib/python3.7/dist-packages (from Mako->alembic->optuna) (2.0.1)\n"
          ]
        }
      ]
    },
    {
      "cell_type": "code",
      "source": [
        "import numpy as np # linear algebra\n",
        "import pandas as pd # data processing, CSV file I/O (e.g. pd.read_csv)\n",
        "\n",
        "import os\n",
        "\n",
        "import seaborn as sns\n",
        "import matplotlib.pyplot as plt\n",
        "from sklearn.model_selection import train_test_split, KFold, TimeSeriesSplit, GroupKFold, StratifiedKFold\n",
        "from sklearn.metrics import mean_squared_error\n",
        "from sklearn.linear_model import LinearRegression\n",
        "from sklearn.experimental import enable_hist_gradient_boosting\n",
        "from sklearn.ensemble import HistGradientBoostingRegressor, RandomForestRegressor, AdaBoostRegressor, GradientBoostingRegressor\n",
        "from sklearn.tree import DecisionTreeRegressor, ExtraTreeRegressor\n",
        "from sklearn.model_selection import GridSearchCV\n",
        "from sklearn.tree import DecisionTreeRegressor\n",
        "from sklearn.preprocessing import StandardScaler, MinMaxScaler\n",
        "\n",
        "import lightgbm as lgb\n",
        "from tqdm import tqdm\n",
        "\n",
        "from scipy import stats\n",
        "import warnings\n",
        "warnings.filterwarnings('ignore')\n",
        "\n",
        "from itertools import combinations, permutations, combinations_with_replacement\n",
        "\n",
        "import optuna\n",
        "from IPython.display import clear_output\n",
        "\n",
        "pd.set_option('display.max_columns', None)"
      ],
      "metadata": {
        "_uuid": "8f2839f25d086af736a60e9eeb907d3b93b6e0e5",
        "_cell_guid": "b1076dfc-b9ad-4769-8c92-a6c4dae69d19",
        "execution": {
          "iopub.status.busy": "2022-02-07T11:32:07.942132Z",
          "iopub.execute_input": "2022-02-07T11:32:07.942866Z",
          "iopub.status.idle": "2022-02-07T11:32:10.930252Z",
          "shell.execute_reply.started": "2022-02-07T11:32:07.942720Z",
          "shell.execute_reply": "2022-02-07T11:32:10.929127Z"
        },
        "trusted": true,
        "colab": {
          "base_uri": "https://localhost:8080/"
        },
        "id": "LwTS9VmAKNwf",
        "outputId": "04db5289-f5c4-4114-f7ce-92f6e30db557"
      },
      "execution_count": 2,
      "outputs": [
        {
          "output_type": "stream",
          "name": "stderr",
          "text": [
            "/usr/local/lib/python3.7/dist-packages/sklearn/experimental/enable_hist_gradient_boosting.py:17: UserWarning: Since version 1.0, it is not needed to import enable_hist_gradient_boosting anymore. HistGradientBoostingClassifier and HistGradientBoostingRegressor are now stable and can be normally imported from sklearn.ensemble.\n",
            "  \"Since version 1.0, \"\n"
          ]
        }
      ]
    },
    {
      "cell_type": "markdown",
      "source": [
        "# Group Time Series"
      ],
      "metadata": {
        "id": "uiBrdSmxK0WJ"
      }
    },
    {
      "cell_type": "code",
      "source": [
        "from sklearn.model_selection._split import _BaseKFold, indexable, _num_samples\n",
        "from sklearn.utils.validation import _deprecate_positional_args\n",
        "\n",
        "# https://github.com/getgaurav2/scikit-learn/blob/d4a3af5cc9da3a76f0266932644b884c99724c57/sklearn/model_selection/_split.py#L2243\n",
        "class GroupTimeSeriesSplit(_BaseKFold):\n",
        "    \"\"\"Time Series cross-validator variant with non-overlapping groups.\n",
        "    Provides train/test indices to split time series data samples\n",
        "    that are observed at fixed time intervals according to a\n",
        "    third-party provided group.\n",
        "    In each split, test indices must be higher than before, and thus shuffling\n",
        "    in cross validator is inappropriate.\n",
        "    This cross-validation object is a variation of :class:`KFold`.\n",
        "    In the kth split, it returns first k folds as train set and the\n",
        "    (k+1)th fold as test set.\n",
        "    The same group will not appear in two different folds (the number of\n",
        "    distinct groups has to be at least equal to the number of folds).\n",
        "    Note that unlike standard cross-validation methods, successive\n",
        "    training sets are supersets of those that come before them.\n",
        "    Read more in the :ref:`User Guide <cross_validation>`.\n",
        "    Parameters\n",
        "    ----------\n",
        "    n_splits : int, default=5\n",
        "        Number of splits. Must be at least 2.\n",
        "    max_train_size : int, default=None\n",
        "        Maximum size for a single training set.\n",
        "    Examples\n",
        "    --------\n",
        "    >>> import numpy as np\n",
        "    >>> from sklearn.model_selection import GroupTimeSeriesSplit\n",
        "    >>> groups = np.array(['a', 'a', 'a', 'a', 'a', 'a',\\\n",
        "                           'b', 'b', 'b', 'b', 'b',\\\n",
        "                           'c', 'c', 'c', 'c',\\\n",
        "                           'd', 'd', 'd'])\n",
        "    >>> gtss = GroupTimeSeriesSplit(n_splits=3)\n",
        "    >>> for train_idx, test_idx in gtss.split(groups, groups=groups):\n",
        "    ...     print(\"TRAIN:\", train_idx, \"TEST:\", test_idx)\n",
        "    ...     print(\"TRAIN GROUP:\", groups[train_idx],\\\n",
        "                  \"TEST GROUP:\", groups[test_idx])\n",
        "    TRAIN: [0, 1, 2, 3, 4, 5] TEST: [6, 7, 8, 9, 10]\n",
        "    TRAIN GROUP: ['a' 'a' 'a' 'a' 'a' 'a']\\\n",
        "    TEST GROUP: ['b' 'b' 'b' 'b' 'b']\n",
        "    TRAIN: [0, 1, 2, 3, 4, 5, 6, 7, 8, 9, 10] TEST: [11, 12, 13, 14]\n",
        "    TRAIN GROUP: ['a' 'a' 'a' 'a' 'a' 'a' 'b' 'b' 'b' 'b' 'b']\\\n",
        "    TEST GROUP: ['c' 'c' 'c' 'c']\n",
        "    TRAIN: [0, 1, 2, 3, 4, 5, 6, 7, 8, 9, 10, 11, 12, 13, 14]\\\n",
        "    TEST: [15, 16, 17]\n",
        "    TRAIN GROUP: ['a' 'a' 'a' 'a' 'a' 'a' 'b' 'b' 'b' 'b' 'b' 'c' 'c' 'c' 'c']\\\n",
        "    TEST GROUP: ['d' 'd' 'd']\n",
        "    \"\"\"\n",
        "    @_deprecate_positional_args\n",
        "    def __init__(self,\n",
        "                 n_splits=5,\n",
        "                 *,\n",
        "                 max_train_size=None\n",
        "                 ):\n",
        "        super().__init__(n_splits, shuffle=False, random_state=None)\n",
        "        self.max_train_size = max_train_size\n",
        "\n",
        "    def split(self, X, y=None, groups=None):\n",
        "        \"\"\"Generate indices to split data into training and test set.\n",
        "        Parameters\n",
        "        ----------\n",
        "        X : array-like of shape (n_samples, n_features)\n",
        "            Training data, where n_samples is the number of samples\n",
        "            and n_features is the number of features.\n",
        "        y : array-like of shape (n_samples,)\n",
        "            Always ignored, exists for compatibility.\n",
        "        groups : array-like of shape (n_samples,)\n",
        "            Group labels for the samples used while splitting the dataset into\n",
        "            train/test set.\n",
        "        Yields\n",
        "        ------\n",
        "        train : ndarray\n",
        "            The training set indices for that split.\n",
        "        test : ndarray\n",
        "            The testing set indices for that split.\n",
        "        \"\"\"\n",
        "        if groups is None:\n",
        "            raise ValueError(\n",
        "                \"The 'groups' parameter should not be None\")\n",
        "        X, y, groups = indexable(X, y, groups)\n",
        "        n_samples = _num_samples(X)\n",
        "        n_splits = self.n_splits\n",
        "        n_folds = n_splits + 1\n",
        "        group_dict = {}\n",
        "        u, ind = np.unique(groups, return_index=True)\n",
        "        unique_groups = u[np.argsort(ind)]\n",
        "        n_samples = _num_samples(X)\n",
        "        n_groups = _num_samples(unique_groups)\n",
        "        for idx in np.arange(n_samples):\n",
        "            if (groups[idx] in group_dict):\n",
        "                group_dict[groups[idx]].append(idx)\n",
        "            else:\n",
        "                group_dict[groups[idx]] = [idx]\n",
        "        if n_folds > n_groups:\n",
        "            raise ValueError(\n",
        "                (\"Cannot have number of folds={0} greater than\"\n",
        "                 \" the number of groups={1}\").format(n_folds,\n",
        "                                                     n_groups))\n",
        "        group_test_size = n_groups // n_folds\n",
        "        group_test_starts = range(n_groups - n_splits * group_test_size,\n",
        "                                  n_groups, group_test_size)\n",
        "        for group_test_start in group_test_starts:\n",
        "            train_array = []\n",
        "            test_array = []\n",
        "            for train_group_idx in unique_groups[:group_test_start]:\n",
        "                train_array_tmp = group_dict[train_group_idx]\n",
        "                train_array = np.sort(np.unique(\n",
        "                                      np.concatenate((train_array,\n",
        "                                                      train_array_tmp)),\n",
        "                                      axis=None), axis=None)\n",
        "            train_end = train_array.size\n",
        "            if self.max_train_size and self.max_train_size < train_end:\n",
        "                train_array = train_array[train_end -\n",
        "                                          self.max_train_size:train_end]\n",
        "            for test_group_idx in unique_groups[group_test_start:\n",
        "                                                group_test_start +\n",
        "                                                group_test_size]:\n",
        "                test_array_tmp = group_dict[test_group_idx]\n",
        "                test_array = np.sort(np.unique(\n",
        "                                              np.concatenate((test_array,\n",
        "                                                              test_array_tmp)),\n",
        "                                     axis=None), axis=None)\n",
        "            yield [int(i) for i in train_array], [int(i) for i in test_array]"
      ],
      "metadata": {
        "jupyter": {
          "source_hidden": true
        },
        "execution": {
          "iopub.status.busy": "2022-02-07T11:32:10.932545Z",
          "iopub.execute_input": "2022-02-07T11:32:10.932952Z",
          "iopub.status.idle": "2022-02-07T11:32:10.953366Z",
          "shell.execute_reply.started": "2022-02-07T11:32:10.932918Z",
          "shell.execute_reply": "2022-02-07T11:32:10.952613Z"
        },
        "trusted": true,
        "id": "gwiYp8MMKNwk"
      },
      "execution_count": 3,
      "outputs": []
    },
    {
      "cell_type": "markdown",
      "source": [
        "# Load Data"
      ],
      "metadata": {
        "id": "HbcqJs1wKNwx"
      }
    },
    {
      "cell_type": "code",
      "source": [
        "train = pd.read_csv('/content/train.csv')\n",
        "test = pd.read_csv('/content/test.csv')"
      ],
      "metadata": {
        "execution": {
          "iopub.status.busy": "2022-02-07T11:32:10.954601Z",
          "iopub.execute_input": "2022-02-07T11:32:10.955016Z",
          "iopub.status.idle": "2022-02-07T11:32:11.770296Z",
          "shell.execute_reply.started": "2022-02-07T11:32:10.954969Z",
          "shell.execute_reply": "2022-02-07T11:32:11.769414Z"
        },
        "trusted": true,
        "id": "g4pt_IpeKNw1"
      },
      "execution_count": 5,
      "outputs": []
    },
    {
      "cell_type": "code",
      "source": [
        "cols = ['Year', 'Month', 'Day', 'Hour', 'Minute', 'Cloud Type',\n",
        "        'Dew Point', 'Temperature', 'Pressure',\n",
        "        'Relative Humidity', 'Solar Zenith Angle','Precipitable Water', \n",
        "        'Wind Direction', 'Wind Speed', \n",
        "        'Clearsky DHI', 'Clearsky DNI', 'Clearsky GHI']\n",
        "train = train[cols]\n",
        "test = test[cols]"
      ],
      "metadata": {
        "execution": {
          "iopub.status.busy": "2022-02-07T11:32:11.772563Z",
          "iopub.execute_input": "2022-02-07T11:32:11.773050Z",
          "iopub.status.idle": "2022-02-07T11:32:11.801920Z",
          "shell.execute_reply.started": "2022-02-07T11:32:11.773005Z",
          "shell.execute_reply": "2022-02-07T11:32:11.801037Z"
        },
        "trusted": true,
        "id": "9fj2WrJYKNw3"
      },
      "execution_count": 6,
      "outputs": []
    },
    {
      "cell_type": "code",
      "source": [
        "col_names = [\"_\".join(i) for i in train.columns.str.lower().str.split(\" \")]\n",
        "train.columns = col_names\n",
        "test.columns = col_names"
      ],
      "metadata": {
        "execution": {
          "iopub.status.busy": "2022-02-07T11:32:11.803196Z",
          "iopub.execute_input": "2022-02-07T11:32:11.803483Z",
          "iopub.status.idle": "2022-02-07T11:32:11.819095Z",
          "shell.execute_reply.started": "2022-02-07T11:32:11.803443Z",
          "shell.execute_reply": "2022-02-07T11:32:11.818240Z"
        },
        "trusted": true,
        "id": "QhSSNrusKNw7"
      },
      "execution_count": 7,
      "outputs": []
    },
    {
      "cell_type": "code",
      "source": [
        "# pd.pivot_table(train,index='month', columns='year', values='clearsky_dhi').plot(subplots=True, figsize=(15, 10))\n",
        "# plt.show()"
      ],
      "metadata": {
        "execution": {
          "iopub.status.busy": "2022-02-07T11:32:12.592090Z",
          "iopub.execute_input": "2022-02-07T11:32:12.592650Z",
          "iopub.status.idle": "2022-02-07T11:32:13.938090Z",
          "shell.execute_reply.started": "2022-02-07T11:32:12.592592Z",
          "shell.execute_reply": "2022-02-07T11:32:13.936994Z"
        },
        "trusted": true,
        "id": "oKAYWKvWKNxB"
      },
      "execution_count": 8,
      "outputs": []
    },
    {
      "cell_type": "code",
      "source": [
        "# pd.pivot_table(train,index='month',columns='year', values='clearsky_dni').plot(subplots=True, figsize=(15,10))\n",
        "# plt.show()"
      ],
      "metadata": {
        "execution": {
          "iopub.status.busy": "2022-02-07T11:32:13.943706Z",
          "iopub.execute_input": "2022-02-07T11:32:13.944055Z",
          "iopub.status.idle": "2022-02-07T11:32:15.445696Z",
          "shell.execute_reply.started": "2022-02-07T11:32:13.944017Z",
          "shell.execute_reply": "2022-02-07T11:32:15.444875Z"
        },
        "trusted": true,
        "id": "OcvUz1RmKNxD"
      },
      "execution_count": 9,
      "outputs": []
    },
    {
      "cell_type": "code",
      "source": [
        "# pd.pivot_table(train,index='month', columns='year', values='clearsky_ghi').plot(subplots=True, figsize=(15, 10))\n",
        "# plt.show()"
      ],
      "metadata": {
        "execution": {
          "iopub.status.busy": "2022-02-07T11:32:15.545382Z",
          "iopub.execute_input": "2022-02-07T11:32:15.545801Z",
          "iopub.status.idle": "2022-02-07T11:32:16.766136Z",
          "shell.execute_reply.started": "2022-02-07T11:32:15.545768Z",
          "shell.execute_reply": "2022-02-07T11:32:16.765536Z"
        },
        "trusted": true,
        "id": "ivUvzaWJKNxE"
      },
      "execution_count": 10,
      "outputs": []
    },
    {
      "cell_type": "markdown",
      "source": [
        "# Clean Data Sets"
      ],
      "metadata": {
        "id": "AKP8g9CXKNxG"
      }
    },
    {
      "cell_type": "code",
      "source": [
        "def find_boundaries(df_train,df_test, variable, distance):\n",
        "    \n",
        "    IQR = df_train[variable].quantile(0.75) - df_train[variable].quantile(0.25)\n",
        "    lower_boundary = df_train[variable].quantile(0.25) - (IQR * distance)\n",
        "    upper_boundary = df_train[variable].quantile(0.75) + (IQR * distance)\n",
        "    print(lower_boundary, upper_boundary)\n",
        "    #cap at min and maximum values\n",
        "    df_train[variable] = np.where(df_train[variable] > upper_boundary,upper_boundary,\n",
        "                                     np.where(df_train[variable] < lower_boundary,lower_boundary, df_train[variable]))\n",
        "    df_test[variable] = np.where(df_test[variable] > upper_boundary,upper_boundary,\n",
        "                                     np.where(df_test[variable] < lower_boundary,lower_boundary, df_test[variable]))\n",
        "    \n",
        "#     display(df.head())\n",
        "    return df_train, df_test"
      ],
      "metadata": {
        "execution": {
          "iopub.status.busy": "2022-02-07T11:32:19.997371Z",
          "iopub.execute_input": "2022-02-07T11:32:19.997847Z",
          "iopub.status.idle": "2022-02-07T11:32:20.005836Z",
          "shell.execute_reply.started": "2022-02-07T11:32:19.997811Z",
          "shell.execute_reply": "2022-02-07T11:32:20.004963Z"
        },
        "trusted": true,
        "id": "Z1Kp6TICKNxH"
      },
      "execution_count": 11,
      "outputs": []
    },
    {
      "cell_type": "code",
      "source": [
        "train, test = find_boundaries(train,test, 'dew_point', 1)\n",
        "train, test = find_boundaries(train, test,'temperature', 1.5)\n",
        "train, test = find_boundaries(train, test,'relative_humidity', 1.5)\n",
        "train, test = find_boundaries(train, test,'wind_speed', 1.5)\n",
        "train, test = find_boundaries(train, test,'pressure', 0.75)"
      ],
      "metadata": {
        "execution": {
          "iopub.status.busy": "2022-02-07T11:32:20.422111Z",
          "iopub.execute_input": "2022-02-07T11:32:20.422439Z",
          "iopub.status.idle": "2022-02-07T11:32:20.505884Z",
          "shell.execute_reply.started": "2022-02-07T11:32:20.422403Z",
          "shell.execute_reply": "2022-02-07T11:32:20.504824Z"
        },
        "trusted": true,
        "colab": {
          "base_uri": "https://localhost:8080/"
        },
        "id": "NFpNyUFbKNxI",
        "outputId": "8f24dc43-9ffe-4358-be71-5f3e8933912c"
      },
      "execution_count": 12,
      "outputs": [
        {
          "output_type": "stream",
          "name": "stdout",
          "text": [
            "-5.0 34.0\n",
            "-7.5 44.5\n",
            "17.050000000000004 146.49\n",
            "-1.2499999999999998 5.55\n",
            "992.5 1017.5\n"
          ]
        }
      ]
    },
    {
      "cell_type": "code",
      "source": [
        "def get_box_plots(df, columns, name='Train'):\n",
        "    plt.figure(figsize=(20, 14))\n",
        "    plt.subplots_adjust(hspace=0.4)\n",
        "    plt.suptitle(f\"{name} Box Plots Of Float Columns\", fontsize=18, y=0.95)\n",
        "\n",
        "    # loop through the length of tickers and keep track of index\n",
        "    for n, ticker in enumerate(columns):\n",
        "\n",
        "        ax = plt.subplot(3, 4, n + 1)\n",
        "        df[ticker].plot(kind='box', ax=ax, )\n",
        "    plt.show()"
      ],
      "metadata": {
        "execution": {
          "iopub.status.busy": "2022-02-07T11:32:23.845556Z",
          "iopub.execute_input": "2022-02-07T11:32:23.845904Z",
          "iopub.status.idle": "2022-02-07T11:32:23.853814Z",
          "shell.execute_reply.started": "2022-02-07T11:32:23.845869Z",
          "shell.execute_reply": "2022-02-07T11:32:23.852494Z"
        },
        "trusted": true,
        "id": "lyrKlCoTKNxK"
      },
      "execution_count": 13,
      "outputs": []
    },
    {
      "cell_type": "code",
      "source": [
        "# get_box_plots(test, train.select_dtypes('float').columns)"
      ],
      "metadata": {
        "execution": {
          "iopub.status.busy": "2022-02-07T11:32:24.122276Z",
          "iopub.execute_input": "2022-02-07T11:32:24.122565Z",
          "iopub.status.idle": "2022-02-07T11:32:24.127062Z",
          "shell.execute_reply.started": "2022-02-07T11:32:24.122536Z",
          "shell.execute_reply": "2022-02-07T11:32:24.125869Z"
        },
        "trusted": true,
        "id": "bl3-DzS9KNxL"
      },
      "execution_count": 14,
      "outputs": []
    },
    {
      "cell_type": "code",
      "source": [
        "# get_box_plots(test, tr.select_dtypes('float').columns)"
      ],
      "metadata": {
        "execution": {
          "iopub.status.busy": "2022-02-07T11:32:24.412316Z",
          "iopub.execute_input": "2022-02-07T11:32:24.412672Z",
          "iopub.status.idle": "2022-02-07T11:32:24.417310Z",
          "shell.execute_reply.started": "2022-02-07T11:32:24.412626Z",
          "shell.execute_reply": "2022-02-07T11:32:24.416155Z"
        },
        "trusted": true,
        "id": "aK7TMt8RKNxL"
      },
      "execution_count": 15,
      "outputs": []
    },
    {
      "cell_type": "code",
      "source": [
        "def get_hist_plots(df, columns, name=\"Train\" ):\n",
        "    plt.figure(figsize=(20,14))\n",
        "    plt.subplots_adjust(hspace=0.4)\n",
        "    plt.suptitle(f\"{name}\", fontsize=18, y=0.96)\n",
        "    for ind, col in enumerate(columns):\n",
        "        ax = plt.subplot(3, 4 , ind+1)\n",
        "        train[col].plot(kind='hist')\n",
        "        ax.set_title(col)"
      ],
      "metadata": {
        "execution": {
          "iopub.status.busy": "2022-02-07T11:32:24.599596Z",
          "iopub.execute_input": "2022-02-07T11:32:24.599898Z",
          "iopub.status.idle": "2022-02-07T11:32:24.608801Z",
          "shell.execute_reply.started": "2022-02-07T11:32:24.599866Z",
          "shell.execute_reply": "2022-02-07T11:32:24.607697Z"
        },
        "trusted": true,
        "id": "dVjUBencKNxM"
      },
      "execution_count": 16,
      "outputs": []
    },
    {
      "cell_type": "code",
      "source": [
        "# get_hist_plots(train, train.select_dtypes('float').columns)\n",
        "\n",
        "# get_hist_plots(test, train.select_dtypes('float').columns, name= \"Test\")"
      ],
      "metadata": {
        "execution": {
          "iopub.status.busy": "2022-02-07T11:32:25.096441Z",
          "iopub.execute_input": "2022-02-07T11:32:25.096826Z",
          "iopub.status.idle": "2022-02-07T11:32:25.101688Z",
          "shell.execute_reply.started": "2022-02-07T11:32:25.096786Z",
          "shell.execute_reply": "2022-02-07T11:32:25.100505Z"
        },
        "trusted": true,
        "id": "fH0BtitAKNxN"
      },
      "execution_count": 17,
      "outputs": []
    },
    {
      "cell_type": "code",
      "source": [
        "def get_rare_categories(df, column, percentage = 0.05):\n",
        "    plt.figure(figsize=(12, 6))\n",
        "    fig = train[column].value_counts(normalize=True).plot.bar()\n",
        "    fig.axhline(y=0.08, color='red')\n",
        "    fig.set_title(f'Identifying Rare Categories For {column}')\n",
        "    plt.show()"
      ],
      "metadata": {
        "execution": {
          "iopub.status.busy": "2022-02-07T11:32:25.356859Z",
          "iopub.execute_input": "2022-02-07T11:32:25.357115Z",
          "iopub.status.idle": "2022-02-07T11:32:25.363061Z",
          "shell.execute_reply.started": "2022-02-07T11:32:25.357087Z",
          "shell.execute_reply": "2022-02-07T11:32:25.361919Z"
        },
        "trusted": true,
        "id": "UfXGAntVKNxQ"
      },
      "execution_count": 18,
      "outputs": []
    },
    {
      "cell_type": "code",
      "source": [
        "def find_frequent_labels(df, variable, tolerance):\n",
        "    temp = df[variable].value_counts() / len(df)\n",
        "    frequent = [x for x in temp.loc[temp>tolerance].index.values]\n",
        "    return frequent"
      ],
      "metadata": {
        "execution": {
          "iopub.status.busy": "2022-02-07T11:32:25.890274Z",
          "iopub.execute_input": "2022-02-07T11:32:25.890594Z",
          "iopub.status.idle": "2022-02-07T11:32:25.895979Z",
          "shell.execute_reply.started": "2022-02-07T11:32:25.890562Z",
          "shell.execute_reply": "2022-02-07T11:32:25.895243Z"
        },
        "trusted": true,
        "id": "XRZmC2GmKNxW"
      },
      "execution_count": 19,
      "outputs": []
    },
    {
      "cell_type": "code",
      "source": [
        "# # Infrequent Categories\n",
        "# frequent_cat = find_frequent_labels(train, 'fill_flag', 0.05)\n",
        "# frequent_cat"
      ],
      "metadata": {
        "execution": {
          "iopub.status.busy": "2022-02-07T11:32:26.151432Z",
          "iopub.execute_input": "2022-02-07T11:32:26.151956Z",
          "iopub.status.idle": "2022-02-07T11:32:26.156148Z",
          "shell.execute_reply.started": "2022-02-07T11:32:26.151917Z",
          "shell.execute_reply": "2022-02-07T11:32:26.155164Z"
        },
        "trusted": true,
        "id": "NAj4hpc1KNxX"
      },
      "execution_count": 20,
      "outputs": []
    },
    {
      "cell_type": "code",
      "source": [
        "train['cloud_type'] = train['cloud_type'].replace(to_replace=[1, 7, 8, 9, 10], value=[2,7,7,7,7 ])\n",
        "test['cloud_type'] = test['cloud_type'].replace(to_replace=[8, 9], value=[7,7 ])"
      ],
      "metadata": {
        "execution": {
          "iopub.status.busy": "2022-02-07T11:32:26.644129Z",
          "iopub.execute_input": "2022-02-07T11:32:26.644642Z",
          "iopub.status.idle": "2022-02-07T11:32:26.656597Z",
          "shell.execute_reply.started": "2022-02-07T11:32:26.644591Z",
          "shell.execute_reply": "2022-02-07T11:32:26.655954Z"
        },
        "trusted": true,
        "id": "cvdBE4m3KNxY"
      },
      "execution_count": 21,
      "outputs": []
    },
    {
      "cell_type": "code",
      "source": [
        "train['season'] = train['month'].replace(to_replace=[3, 4, 5, \n",
        "                                   6, 7, 8, \n",
        "                                   9, 10, 11, \n",
        "                                   12, 1, 2], \n",
        "                       value=[1, 1,1,\n",
        "                              2, 2, 2, \n",
        "                              3, 3, 3, \n",
        "                              4, 4, 4])\n",
        "\n",
        "train['daytime'] = train['hour'].apply(lambda x: 1 if x >=6 and x <=18 else 0)\n",
        "\n",
        "test['season'] = test['month'].replace(to_replace=[3, 4, 5, \n",
        "                                   6, 7, 8, \n",
        "                                   9, 10, 11, \n",
        "                                   12, 1, 2], \n",
        "                       value=[1, 1,1,\n",
        "                              2, 2, 2, \n",
        "                              3, 3, 3, \n",
        "                              4, 4, 4])\n",
        "\n",
        "test['daytime'] = test['hour'].apply(lambda x: 1 if x >=6 and x <=18 else 0)"
      ],
      "metadata": {
        "execution": {
          "iopub.status.busy": "2022-02-07T11:32:27.287135Z",
          "iopub.execute_input": "2022-02-07T11:32:27.287655Z",
          "iopub.status.idle": "2022-02-07T11:32:27.436936Z",
          "shell.execute_reply.started": "2022-02-07T11:32:27.287604Z",
          "shell.execute_reply": "2022-02-07T11:32:27.435846Z"
        },
        "trusted": true,
        "id": "p9hRp4qnKNxZ"
      },
      "execution_count": 22,
      "outputs": []
    },
    {
      "cell_type": "code",
      "source": [
        "features = ['year', 'season','month', 'day', 'hour', 'daytime','minute', 'cloud_type','dew_point',\n",
        "       'temperature', 'pressure', 'relative_humidity', 'solar_zenith_angle',\n",
        "       'precipitable_water', 'wind_direction', 'wind_speed']\n",
        "y1 = train['clearsky_dhi']\n",
        "y2 = train['clearsky_dni']\n",
        "y3 = train['clearsky_ghi']"
      ],
      "metadata": {
        "execution": {
          "iopub.status.busy": "2022-02-07T11:32:31.420872Z",
          "iopub.execute_input": "2022-02-07T11:32:31.421210Z",
          "iopub.status.idle": "2022-02-07T11:32:31.428273Z",
          "shell.execute_reply.started": "2022-02-07T11:32:31.421155Z",
          "shell.execute_reply": "2022-02-07T11:32:31.427463Z"
        },
        "trusted": true,
        "id": "oDcjr-KiKNxa"
      },
      "execution_count": 23,
      "outputs": []
    },
    {
      "cell_type": "code",
      "source": [
        "# train = train[features]\n",
        "# test = test[features]"
      ],
      "metadata": {
        "execution": {
          "iopub.status.busy": "2022-02-07T11:32:34.044410Z",
          "iopub.execute_input": "2022-02-07T11:32:34.044980Z",
          "iopub.status.idle": "2022-02-07T11:32:34.102009Z",
          "shell.execute_reply.started": "2022-02-07T11:32:34.044943Z",
          "shell.execute_reply": "2022-02-07T11:32:34.100848Z"
        },
        "trusted": true,
        "id": "hu1jsoZaKNxa"
      },
      "execution_count": 24,
      "outputs": []
    },
    {
      "cell_type": "markdown",
      "source": [
        "# More Features"
      ],
      "metadata": {
        "id": "BLc6BgwNKNxb"
      }
    },
    {
      "cell_type": "code",
      "source": [
        "def get_aggregations(df, groupby, name):\n",
        "    feature_names = [ 'max', 'min','mean', 'median', 'std', 'mad']\n",
        "    operations = ['max', 'min', 'mean', 'median', 'std', 'mad']\n",
        "    all_df=[]\n",
        "    \n",
        "    for i in ['dew_point','temperature', 'pressure', 'relative_humidity', \n",
        "              'solar_zenith_angle','precipitable_water', 'wind_direction', 'wind_speed']:\n",
        "#         print(i)\n",
        "        temp = pd.DataFrame()\n",
        "        temp[feature_names] =df.groupby(groupby)[i].agg(operations)\n",
        "        temp.columns = [f'{name}_{i}_{j}' for j in operations]\n",
        "        all_df.append(temp)\n",
        "    all_df = pd.concat(all_df, axis=1).reset_index()\n",
        "    df_ = pd.merge(df, all_df, left_on=groupby, right_on=groupby, how='left')\n",
        "    return df_"
      ],
      "metadata": {
        "execution": {
          "iopub.status.busy": "2022-02-07T11:32:37.040304Z",
          "iopub.execute_input": "2022-02-07T11:32:37.041321Z",
          "iopub.status.idle": "2022-02-07T11:32:37.050132Z",
          "shell.execute_reply.started": "2022-02-07T11:32:37.041278Z",
          "shell.execute_reply": "2022-02-07T11:32:37.048968Z"
        },
        "trusted": true,
        "id": "i9hbsc3YKNxc"
      },
      "execution_count": 25,
      "outputs": []
    },
    {
      "cell_type": "code",
      "source": [
        "train_= get_aggregations(train, ['year', 'month'],'month' )\n",
        "train_ = get_aggregations(train_, ['year', 'month', 'day'],'day' )\n",
        "train_ = get_aggregations(train_, ['year','season'],'season' )\n",
        "train_ = get_aggregations(train_, ['year','month', 'day', 'daytime'],'daytime' )"
      ],
      "metadata": {
        "execution": {
          "iopub.status.busy": "2022-02-07T11:32:38.712045Z",
          "iopub.execute_input": "2022-02-07T11:32:38.712509Z",
          "iopub.status.idle": "2022-02-07T11:33:18.118447Z",
          "shell.execute_reply.started": "2022-02-07T11:32:38.712462Z",
          "shell.execute_reply": "2022-02-07T11:33:18.117684Z"
        },
        "trusted": true,
        "id": "IBYTvY5KKNxd"
      },
      "execution_count": 26,
      "outputs": []
    },
    {
      "cell_type": "code",
      "source": [
        "test_= get_aggregations(test, ['year', 'month'],'month' )\n",
        "test_ = get_aggregations(test_, ['year', 'month', 'day'],'day' )\n",
        "test_ = get_aggregations(test_, ['year','season'],'season' )\n",
        "test_ = get_aggregations(test_, ['year','month', 'day', 'daytime'],'daytime' )"
      ],
      "metadata": {
        "execution": {
          "iopub.status.busy": "2022-02-07T11:33:18.120021Z",
          "iopub.execute_input": "2022-02-07T11:33:18.120410Z",
          "iopub.status.idle": "2022-02-07T11:33:22.324277Z",
          "shell.execute_reply.started": "2022-02-07T11:33:18.120382Z",
          "shell.execute_reply": "2022-02-07T11:33:22.323655Z"
        },
        "trusted": true,
        "id": "BAc1cVlbKNxe"
      },
      "execution_count": 27,
      "outputs": []
    },
    {
      "cell_type": "code",
      "source": [
        "original = ['year', 'season', 'month', 'day', 'hour', 'daytime', 'minute',\n",
        "       'cloud_type', 'dew_point', 'temperature', 'pressure',\n",
        "       'relative_humidity', 'solar_zenith_angle', 'precipitable_water',\n",
        "       'wind_direction', 'wind_speed']"
      ],
      "metadata": {
        "execution": {
          "iopub.status.busy": "2022-02-07T11:38:03.590928Z",
          "iopub.execute_input": "2022-02-07T11:38:03.591550Z",
          "iopub.status.idle": "2022-02-07T11:38:03.597006Z",
          "shell.execute_reply.started": "2022-02-07T11:38:03.591492Z",
          "shell.execute_reply": "2022-02-07T11:38:03.596431Z"
        },
        "trusted": true,
        "id": "982Qs0JVKNxf"
      },
      "execution_count": 28,
      "outputs": []
    },
    {
      "cell_type": "code",
      "source": [
        "corr_features = [col for col in train_.columns if col not in original + ['clearsky_dhi', 'clearsky_dni', 'clearsky_ghi']]"
      ],
      "metadata": {
        "execution": {
          "iopub.status.busy": "2022-02-07T11:38:22.804629Z",
          "iopub.execute_input": "2022-02-07T11:38:22.805070Z",
          "iopub.status.idle": "2022-02-07T11:38:22.810189Z",
          "shell.execute_reply.started": "2022-02-07T11:38:22.805035Z",
          "shell.execute_reply": "2022-02-07T11:38:22.809551Z"
        },
        "trusted": true,
        "id": "yPbCxg4RKNxg"
      },
      "execution_count": 30,
      "outputs": []
    },
    {
      "cell_type": "code",
      "source": [
        "corr_matrix = train_[corr_features].corr().abs()\n",
        "\n",
        "upper_tri = corr_matrix.where(np.triu(np.ones(corr_matrix.shape),k=1).astype(np.bool))\n",
        "\n",
        "to_drop = [column for column in upper_tri.columns if any(upper_tri[column] > 0.95)]\n",
        "\n",
        "print(to_drop)"
      ],
      "metadata": {
        "execution": {
          "iopub.status.busy": "2022-02-07T11:38:56.134205Z",
          "iopub.execute_input": "2022-02-07T11:38:56.135341Z",
          "iopub.status.idle": "2022-02-07T11:39:13.859529Z",
          "shell.execute_reply.started": "2022-02-07T11:38:56.135285Z",
          "shell.execute_reply": "2022-02-07T11:39:13.858374Z"
        },
        "trusted": true,
        "colab": {
          "base_uri": "https://localhost:8080/"
        },
        "id": "5jdzEGI4KNxh",
        "outputId": "ea4a96ec-f1cd-49eb-b3ac-6e5292979b5e"
      },
      "execution_count": 31,
      "outputs": [
        {
          "output_type": "stream",
          "name": "stdout",
          "text": [
            "['month_dew_point_median', 'month_dew_point_std', 'month_dew_point_mad', 'month_temperature_min', 'month_temperature_mean', 'month_temperature_median', 'month_temperature_mad', 'month_pressure_mad', 'month_relative_humidity_median', 'month_relative_humidity_mad', 'month_solar_zenith_angle_min', 'month_solar_zenith_angle_mean', 'month_solar_zenith_angle_median', 'month_solar_zenith_angle_mad', 'month_precipitable_water_mean', 'month_precipitable_water_median', 'month_precipitable_water_mad', 'month_wind_direction_median', 'month_wind_direction_mad', 'month_wind_speed_median', 'month_wind_speed_mad', 'day_dew_point_mean', 'day_dew_point_median', 'day_dew_point_mad', 'day_temperature_min', 'day_temperature_mean', 'day_temperature_median', 'day_temperature_mad', 'day_pressure_median', 'day_pressure_mad', 'day_relative_humidity_median', 'day_relative_humidity_mad', 'day_solar_zenith_angle_max', 'day_solar_zenith_angle_min', 'day_solar_zenith_angle_mean', 'day_solar_zenith_angle_median', 'day_solar_zenith_angle_std', 'day_solar_zenith_angle_mad', 'day_precipitable_water_mean', 'day_precipitable_water_median', 'day_precipitable_water_mad', 'day_wind_direction_median', 'day_wind_direction_mad', 'day_wind_speed_median', 'day_wind_speed_mad', 'season_dew_point_median', 'season_dew_point_mad', 'season_temperature_min', 'season_temperature_mean', 'season_temperature_median', 'season_temperature_mad', 'season_pressure_mad', 'season_relative_humidity_median', 'season_relative_humidity_mad', 'season_solar_zenith_angle_mean', 'season_solar_zenith_angle_median', 'season_solar_zenith_angle_mad', 'season_precipitable_water_min', 'season_precipitable_water_mean', 'season_precipitable_water_median', 'season_precipitable_water_mad', 'season_wind_direction_median', 'season_wind_direction_mad', 'season_wind_speed_median', 'season_wind_speed_mad', 'daytime_dew_point_max', 'daytime_dew_point_min', 'daytime_dew_point_mean', 'daytime_dew_point_median', 'daytime_dew_point_mad', 'daytime_temperature_max', 'daytime_temperature_min', 'daytime_temperature_mean', 'daytime_temperature_median', 'daytime_temperature_mad', 'daytime_pressure_mean', 'daytime_pressure_median', 'daytime_pressure_mad', 'daytime_relative_humidity_min', 'daytime_relative_humidity_mean', 'daytime_relative_humidity_mad', 'daytime_solar_zenith_angle_max', 'daytime_solar_zenith_angle_min', 'daytime_solar_zenith_angle_mean', 'daytime_solar_zenith_angle_median', 'daytime_solar_zenith_angle_mad', 'daytime_precipitable_water_max', 'daytime_precipitable_water_min', 'daytime_precipitable_water_mean', 'daytime_precipitable_water_median', 'daytime_precipitable_water_mad', 'daytime_wind_direction_mean', 'daytime_wind_direction_mad', 'daytime_wind_speed_max', 'daytime_wind_speed_mean', 'daytime_wind_speed_median', 'daytime_wind_speed_mad']\n"
          ]
        }
      ]
    },
    {
      "cell_type": "code",
      "source": [
        "train_ = train_.drop(columns=to_drop, axis=1)\n",
        "test_ = test_.drop(columns=to_drop, axis=1)"
      ],
      "metadata": {
        "execution": {
          "iopub.status.busy": "2022-02-07T11:39:28.841348Z",
          "iopub.execute_input": "2022-02-07T11:39:28.842243Z",
          "iopub.status.idle": "2022-02-07T11:39:28.908694Z",
          "shell.execute_reply.started": "2022-02-07T11:39:28.842196Z",
          "shell.execute_reply": "2022-02-07T11:39:28.907771Z"
        },
        "trusted": true,
        "id": "FhfgbO9YKNxj"
      },
      "execution_count": 32,
      "outputs": []
    },
    {
      "cell_type": "code",
      "source": [
        "train_.shape, test_.shape"
      ],
      "metadata": {
        "execution": {
          "iopub.status.busy": "2022-02-07T11:39:42.863369Z",
          "iopub.execute_input": "2022-02-07T11:39:42.864445Z",
          "iopub.status.idle": "2022-02-07T11:39:42.870477Z",
          "shell.execute_reply.started": "2022-02-07T11:39:42.864404Z",
          "shell.execute_reply": "2022-02-07T11:39:42.869824Z"
        },
        "trusted": true,
        "colab": {
          "base_uri": "https://localhost:8080/"
        },
        "id": "1f5WpIIvKNxk",
        "outputId": "fca223ad-c2aa-4a27-ad0e-fd0aab1074fc"
      },
      "execution_count": 34,
      "outputs": [
        {
          "output_type": "execute_result",
          "data": {
            "text/plain": [
              "((175296, 114), (17520, 114))"
            ]
          },
          "metadata": {},
          "execution_count": 34
        }
      ]
    },
    {
      "cell_type": "code",
      "source": [
        "# train_df = pd.concat([train_, y1, y2, y3], axis=1)"
      ],
      "metadata": {
        "id": "84dUjSkEqBhW"
      },
      "execution_count": 77,
      "outputs": []
    },
    {
      "cell_type": "markdown",
      "source": [
        "# Encode Categorical Data"
      ],
      "metadata": {
        "id": "o-JY3MzWKNxl"
      }
    },
    {
      "cell_type": "code",
      "source": [
        "!pip install category_encoders"
      ],
      "metadata": {
        "colab": {
          "base_uri": "https://localhost:8080/"
        },
        "id": "JtW7Swo5pjS7",
        "outputId": "228a17d0-1cea-48c9-d82c-88689d23f3bd"
      },
      "execution_count": 35,
      "outputs": [
        {
          "output_type": "stream",
          "name": "stdout",
          "text": [
            "Requirement already satisfied: category_encoders in /usr/local/lib/python3.7/dist-packages (2.3.0)\n",
            "Requirement already satisfied: patsy>=0.5.1 in /usr/local/lib/python3.7/dist-packages (from category_encoders) (0.5.2)\n",
            "Requirement already satisfied: scipy>=1.0.0 in /usr/local/lib/python3.7/dist-packages (from category_encoders) (1.4.1)\n",
            "Requirement already satisfied: scikit-learn>=0.20.0 in /usr/local/lib/python3.7/dist-packages (from category_encoders) (1.0.2)\n",
            "Requirement already satisfied: numpy>=1.14.0 in /usr/local/lib/python3.7/dist-packages (from category_encoders) (1.19.5)\n",
            "Requirement already satisfied: pandas>=0.21.1 in /usr/local/lib/python3.7/dist-packages (from category_encoders) (1.3.5)\n",
            "Requirement already satisfied: statsmodels>=0.9.0 in /usr/local/lib/python3.7/dist-packages (from category_encoders) (0.10.2)\n",
            "Requirement already satisfied: pytz>=2017.3 in /usr/local/lib/python3.7/dist-packages (from pandas>=0.21.1->category_encoders) (2018.9)\n",
            "Requirement already satisfied: python-dateutil>=2.7.3 in /usr/local/lib/python3.7/dist-packages (from pandas>=0.21.1->category_encoders) (2.8.2)\n",
            "Requirement already satisfied: six in /usr/local/lib/python3.7/dist-packages (from patsy>=0.5.1->category_encoders) (1.15.0)\n",
            "Requirement already satisfied: threadpoolctl>=2.0.0 in /usr/local/lib/python3.7/dist-packages (from scikit-learn>=0.20.0->category_encoders) (3.1.0)\n",
            "Requirement already satisfied: joblib>=0.11 in /usr/local/lib/python3.7/dist-packages (from scikit-learn>=0.20.0->category_encoders) (1.1.0)\n"
          ]
        }
      ]
    },
    {
      "cell_type": "code",
      "source": [
        "import category_encoders"
      ],
      "metadata": {
        "execution": {
          "iopub.status.busy": "2022-02-07T11:39:50.438013Z",
          "iopub.execute_input": "2022-02-07T11:39:50.438314Z",
          "iopub.status.idle": "2022-02-07T11:39:50.443528Z",
          "shell.execute_reply.started": "2022-02-07T11:39:50.438286Z",
          "shell.execute_reply": "2022-02-07T11:39:50.442445Z"
        },
        "trusted": true,
        "id": "avQC5SRoKNxl"
      },
      "execution_count": 36,
      "outputs": []
    },
    {
      "cell_type": "code",
      "source": [
        "train_df = train_.copy()\n",
        "list(range(2009, 2019))"
      ],
      "metadata": {
        "colab": {
          "base_uri": "https://localhost:8080/"
        },
        "id": "2tuQP6itppjN",
        "outputId": "4a636abd-d490-413d-94ba-f423d94a1181"
      },
      "execution_count": 39,
      "outputs": [
        {
          "output_type": "execute_result",
          "data": {
            "text/plain": [
              "[2009, 2010, 2011, 2012, 2013, 2014, 2015, 2016, 2017, 2018]"
            ]
          },
          "metadata": {},
          "execution_count": 39
        }
      ]
    },
    {
      "cell_type": "code",
      "source": [
        "train_data = train_df[train_df.year.isin([2009, 2010, 2011, 2012, 2013, 2014, 2015, 2016])]\n",
        "val_data = train_df[train_df.year.isin([2017, 2018])]"
      ],
      "metadata": {
        "id": "P69zzPswpzn3"
      },
      "execution_count": 40,
      "outputs": []
    },
    {
      "cell_type": "code",
      "source": [
        "cat = ['season','month','day','hour','daytime','minute','cloud_type']\n",
        "encoded_df_train = train_data[cat]\n",
        "encoded_df_val = val_data[cat]\n",
        "encoded_df_test = test_[cat]"
      ],
      "metadata": {
        "execution": {
          "iopub.status.busy": "2022-02-07T11:33:58.358993Z",
          "iopub.execute_input": "2022-02-07T11:33:58.359294Z",
          "iopub.status.idle": "2022-02-07T11:33:58.619682Z",
          "shell.execute_reply.started": "2022-02-07T11:33:58.359255Z",
          "shell.execute_reply": "2022-02-07T11:33:58.618678Z"
        },
        "trusted": true,
        "id": "e4G2jXoLKNxm"
      },
      "execution_count": 41,
      "outputs": []
    },
    {
      "cell_type": "code",
      "source": [
        "encoder = category_encoders.CatBoostEncoder(cols=cat)\n",
        "encoder.fit(encoded_df_train, train_data['clearsky_dni'])"
      ],
      "metadata": {
        "execution": {
          "iopub.status.busy": "2022-02-07T11:34:01.684659Z",
          "iopub.execute_input": "2022-02-07T11:34:01.685377Z",
          "iopub.status.idle": "2022-02-07T11:34:01.698664Z",
          "shell.execute_reply.started": "2022-02-07T11:34:01.685342Z",
          "shell.execute_reply": "2022-02-07T11:34:01.697307Z"
        },
        "trusted": true,
        "colab": {
          "base_uri": "https://localhost:8080/"
        },
        "id": "GXdEvMPrKNxn",
        "outputId": "93c980ec-b271-41f7-fcd0-c723ce6a1ceb"
      },
      "execution_count": 42,
      "outputs": [
        {
          "output_type": "execute_result",
          "data": {
            "text/plain": [
              "CatBoostEncoder(cols=['season', 'month', 'day', 'hour', 'daytime', 'minute',\n",
              "                      'cloud_type'])"
            ]
          },
          "metadata": {},
          "execution_count": 42
        }
      ]
    },
    {
      "cell_type": "code",
      "source": [
        "features_train = encoder.transform(encoded_df_train)\n",
        "features_val = encoder.transform(encoded_df_val)\n",
        "features_test = encoder.transform(encoded_df_test)"
      ],
      "metadata": {
        "execution": {
          "iopub.status.busy": "2022-02-07T11:34:09.611134Z",
          "iopub.execute_input": "2022-02-07T11:34:09.612053Z",
          "iopub.status.idle": "2022-02-07T11:34:11.196233Z",
          "shell.execute_reply.started": "2022-02-07T11:34:09.612014Z",
          "shell.execute_reply": "2022-02-07T11:34:11.195645Z"
        },
        "trusted": true,
        "id": "eW4FKnPgKNxn"
      },
      "execution_count": 43,
      "outputs": []
    },
    {
      "cell_type": "code",
      "source": [
        "fdf = pd.concat([features_train, features_val])"
      ],
      "metadata": {
        "id": "pB7d5yajrAxV"
      },
      "execution_count": 44,
      "outputs": []
    },
    {
      "cell_type": "code",
      "source": [
        "train_df = train_df.drop(columns=cat)"
      ],
      "metadata": {
        "id": "buQI0ExirDti"
      },
      "execution_count": 45,
      "outputs": []
    },
    {
      "cell_type": "code",
      "source": [
        "train_df = pd.concat([fdf, train_df], axis=1)"
      ],
      "metadata": {
        "id": "ypMvUogxrjHZ"
      },
      "execution_count": 46,
      "outputs": []
    },
    {
      "cell_type": "code",
      "source": [
        "test_= test_.drop(columns= cat)"
      ],
      "metadata": {
        "id": "li1xXTpVrpZu"
      },
      "execution_count": 47,
      "outputs": []
    },
    {
      "cell_type": "code",
      "source": [
        "test_df = pd.concat([features_test, test_], axis=1)"
      ],
      "metadata": {
        "id": "175TeKIar1k5"
      },
      "execution_count": 48,
      "outputs": []
    },
    {
      "cell_type": "markdown",
      "source": [
        "# Combinations"
      ],
      "metadata": {
        "id": "y1ij_sXOKNx1"
      }
    },
    {
      "cell_type": "code",
      "source": [
        "def run_lgb(X , y, test_data ):\n",
        "    \n",
        "    params = {\n",
        "    'boosting_type': 'gbdt',\n",
        "    'objective': 'regression',\n",
        "    'metric': 'mean_squared_error',\n",
        "    'random_state':2021,\n",
        "    'verbose':-1, \n",
        "    'early_stopping_rounds':50,\n",
        "    'num_leaves': 40, \n",
        "    'max_depth': 4, \n",
        "    # 'min_child_weight': 5, \n",
        "    # 'feature_fraction': 0.7398835483954241, \n",
        "    # 'bagging_fraction': 0.5287430772867108,\n",
        "    # 'bagging_freq': 6, \n",
        "    # 'min_child_samples': 51, \n",
        "    # 'lambda_l1': 1.7798097405444633e-05,\n",
        "    # 'lambda_l2': 1.3516742170658552e-05, \n",
        "    # 'learning_rate': 0.09771288727057821, \n",
        "    # 'max_bin': 114, \n",
        "    'num_boost_round': 300\n",
        "\n",
        " }\n",
        "    ts =   KFold(n_splits=5, shuffle=True)\n",
        "\n",
        "    oof_pred = np.zeros(len(X))\n",
        "    test_pred = np.zeros(len(test_data))\n",
        "\n",
        "    for tr_ind, val_ind in ts.split(X, y):\n",
        "        X_train, X_val = X.iloc[tr_ind], X.iloc[val_ind]\n",
        "        y_train, y_val = y.iloc[tr_ind], y.iloc[val_ind]\n",
        "\n",
        "\n",
        "        tr_data = lgb.Dataset(X_train, y_train)\n",
        "        va_data = lgb.Dataset(X_val, y_val)\n",
        "        model = lgb.train(params = params,\n",
        "                      train_set = tr_data, \n",
        "                      valid_sets = [tr_data, va_data],\n",
        "                      verbose_eval = 300,\n",
        "                     )\n",
        "\n",
        "        val_pred = model.predict(X_val)\n",
        "        oof_pred[val_ind] = val_pred\n",
        "        test_pred += model.predict(test_data)\n",
        "        \n",
        "    mse= mean_squared_error(y, oof_pred)\n",
        "    test_pred = test_pred / ts.n_splits\n",
        "    return mse, oof_pred, test_pred"
      ],
      "metadata": {
        "execution": {
          "iopub.status.busy": "2022-02-06T15:26:12.294185Z",
          "iopub.execute_input": "2022-02-06T15:26:12.294502Z",
          "iopub.status.idle": "2022-02-06T15:26:12.305619Z",
          "shell.execute_reply.started": "2022-02-06T15:26:12.29447Z",
          "shell.execute_reply": "2022-02-06T15:26:12.304559Z"
        },
        "trusted": true,
        "id": "PlSrIj2WKNx2"
      },
      "execution_count": 164,
      "outputs": []
    },
    {
      "cell_type": "code",
      "source": [
        "def run_combinations(cols_for_combination,length, target, train, test):\n",
        "    comb = []\n",
        "    oof_preds= []\n",
        "    test_preds = []\n",
        "    for i in combinations(cols_for_combination, length):\n",
        "        comb.append(list(i))\n",
        "    allmse = []\n",
        "    names = names= [\"_\".join(i) for i in comb]\n",
        "    for cols in tqdm(comb):\n",
        "        mse, oof, tpred = run_lgb(train[cols], train[target], test[cols])\n",
        "        allmse.append(mse)\n",
        "        oof_preds.append(oof)\n",
        "        test_preds.append(tpred)\n",
        "    df = pd.DataFrame(allmse).T\n",
        "    df.columns = names\n",
        "    oof_preds= np.column_stack(oof_preds)\n",
        "    test_preds= np.column_stack(test_preds)\n",
        "    oof_preds = pd.DataFrame(oof_preds, columns=df.columns)\n",
        "    test_preds = pd.DataFrame(test_preds, columns=df.columns)\n",
        "    \n",
        "    return df, oof_preds, test_preds"
      ],
      "metadata": {
        "execution": {
          "iopub.status.busy": "2022-02-06T15:26:17.612744Z",
          "iopub.execute_input": "2022-02-06T15:26:17.613094Z",
          "iopub.status.idle": "2022-02-06T15:26:17.623379Z",
          "shell.execute_reply.started": "2022-02-06T15:26:17.613055Z",
          "shell.execute_reply": "2022-02-06T15:26:17.622244Z"
        },
        "trusted": true,
        "id": "YJtylBIvKNx2"
      },
      "execution_count": 165,
      "outputs": []
    },
    {
      "cell_type": "code",
      "source": [
        "train_df.shape"
      ],
      "metadata": {
        "colab": {
          "base_uri": "https://localhost:8080/"
        },
        "id": "0mI3NuOKyjLG",
        "outputId": "71393468-d522-4ff8-8e94-75ed9b8e492a"
      },
      "execution_count": 166,
      "outputs": [
        {
          "output_type": "execute_result",
          "data": {
            "text/plain": [
              "(175296, 114)"
            ]
          },
          "metadata": {},
          "execution_count": 166
        }
      ]
    },
    {
      "cell_type": "code",
      "source": [
        "columns = train_df.corrwith(train_df['clearsky_dni']).abs().sort_values().tail(20).index.to_list()"
      ],
      "metadata": {
        "id": "OfwxgL1Utuel"
      },
      "execution_count": 181,
      "outputs": []
    },
    {
      "cell_type": "code",
      "source": [
        "# columns"
      ],
      "metadata": {
        "id": "ww8IIL22yNRw"
      },
      "execution_count": 182,
      "outputs": []
    },
    {
      "cell_type": "code",
      "source": [
        "columns.remove('clearsky_dni')\n",
        "columns.remove('clearsky_dhi')\n",
        "columns.remove('clearsky_ghi')"
      ],
      "metadata": {
        "id": "aSmNpQdox_hN"
      },
      "execution_count": 183,
      "outputs": []
    },
    {
      "cell_type": "code",
      "source": [
        "# columns= ['hour', 'solar_zenith_angle','relative_humidity']"
      ],
      "metadata": {
        "id": "FUVtENhFwZLN"
      },
      "execution_count": 184,
      "outputs": []
    },
    {
      "cell_type": "code",
      "source": [
        "three_comb_score, oof_pred_df3, test_pred_df3 = run_combinations(columns, 3, 'clearsky_dni', train_df, test_df)"
      ],
      "metadata": {
        "execution": {
          "iopub.status.busy": "2022-02-06T15:26:18.835333Z",
          "iopub.execute_input": "2022-02-06T15:26:18.835682Z",
          "iopub.status.idle": "2022-02-06T15:34:59.639793Z",
          "shell.execute_reply.started": "2022-02-06T15:26:18.83565Z",
          "shell.execute_reply": "2022-02-06T15:34:59.638869Z"
        },
        "trusted": true,
        "id": "n3i1BCxrKNx3"
      },
      "execution_count": null,
      "outputs": []
    },
    {
      "cell_type": "code",
      "source": [
        ""
      ],
      "metadata": {
        "id": "LK-K5dC1tVft"
      },
      "execution_count": null,
      "outputs": []
    },
    {
      "cell_type": "code",
      "source": [
        ""
      ],
      "metadata": {
        "id": "kXHQvgK3tVVu"
      },
      "execution_count": null,
      "outputs": []
    },
    {
      "cell_type": "code",
      "source": [
        "mse_dhi = run_model(model_params=p, y=y1)\n",
        "mse_dni = run_model(model_params=p, y=y2)\n",
        "mse_ghi = run_model(model_params=p, y=y3)\n",
        "print(mse_dhi, mse_dni, mse_ghi)\n",
        "print((mse_dhi + mse_dni + mse_ghi)/ 3)"
      ],
      "metadata": {
        "execution": {
          "iopub.status.busy": "2022-02-06T12:14:25.415038Z",
          "iopub.execute_input": "2022-02-06T12:14:25.415366Z",
          "iopub.status.idle": "2022-02-06T12:16:32.018334Z",
          "shell.execute_reply.started": "2022-02-06T12:14:25.41533Z",
          "shell.execute_reply": "2022-02-06T12:16:32.017452Z"
        },
        "trusted": true,
        "id": "Lq4-FnIPKNx9"
      },
      "execution_count": null,
      "outputs": []
    },
    {
      "cell_type": "code",
      "source": [
        "def collect_predictions(model_params, y, test_data):\n",
        "    y_true =[]\n",
        "    predicted_y = []\n",
        "    features = ['month', 'day', 'hour', 'minute', 'cloud_type', 'dew_point',\n",
        "       'temperature', 'pressure', 'relative_humidity', 'solar_zenith_angle',\n",
        "       'precipitable_water', 'wind_direction', 'wind_speed', 'fill_flag', 'year']\n",
        "    test_data = test_data[features]\n",
        "    test_data = test_data.drop(columns=['year'])\n",
        "    test_predictions = np.zeros((len(test_data)))\n",
        "    for tr_ind, val_ind in gts.split(X, y, groups=X['year']):\n",
        "        X_train, X_val = X.iloc[tr_ind], X.iloc[val_ind]\n",
        "        y_train, y_val = y.iloc[tr_ind], y.iloc[val_ind]\n",
        "        X_train = X_train.drop(columns=['year'])\n",
        "        X_val= X_val.drop(columns=['year'])\n",
        "\n",
        "        tr_data = lgb.Dataset(X_train, y_train)\n",
        "        va_data = lgb.Dataset(X_val, y_val)\n",
        "        \n",
        "        model_dni = lgb.train(params = model_params,\n",
        "                          train_set = tr_data, \n",
        "                          valid_sets = [tr_data, va_data],\n",
        "                          verbose_eval = None,\n",
        "                             )\n",
        "        val_pred_dni = model_dni.predict(X_val,num_iteration=model_dni.best_iteration)\n",
        "        y_true.append(y_val.values)\n",
        "        predicted_y.append(val_pred_dni)\n",
        "        test_predictions += model_dni.predict(test_data,num_iteration=model_dni.best_iteration)\n",
        "    test_predictions = test_predictions/ gts.n_splits\n",
        "    y_true = np.hstack(y_true)\n",
        "    predicted_y = np.hstack(predicted_y)\n",
        "    mse_dni= mean_squared_error(y_true, predicted_y)\n",
        "    \n",
        "    return mse_dni, test_predictions"
      ],
      "metadata": {
        "execution": {
          "iopub.status.busy": "2022-02-06T12:16:32.020158Z",
          "iopub.execute_input": "2022-02-06T12:16:32.020467Z",
          "iopub.status.idle": "2022-02-06T12:16:32.035545Z",
          "shell.execute_reply.started": "2022-02-06T12:16:32.020433Z",
          "shell.execute_reply": "2022-02-06T12:16:32.034509Z"
        },
        "trusted": true,
        "id": "8Du1MSKfKNx_"
      },
      "execution_count": null,
      "outputs": []
    },
    {
      "cell_type": "code",
      "source": [
        "mse_dhi, test_pred_dhi, = collect_predictions(model_params=p, y=y1, test_data = test)\n",
        "mse_dni, test_pred_dni= collect_predictions(model_params=p, y=y2, test_data = test)\n",
        "mse_ghi, test_pred_ghi = collect_predictions(model_params=p, y=y3, test_data = test)"
      ],
      "metadata": {
        "execution": {
          "iopub.status.busy": "2022-02-06T12:16:32.037046Z",
          "iopub.execute_input": "2022-02-06T12:16:32.037981Z",
          "iopub.status.idle": "2022-02-06T12:18:52.588454Z",
          "shell.execute_reply.started": "2022-02-06T12:16:32.037931Z",
          "shell.execute_reply": "2022-02-06T12:18:52.587746Z"
        },
        "trusted": true,
        "id": "XBD6D8a7KNyA"
      },
      "execution_count": null,
      "outputs": []
    },
    {
      "cell_type": "code",
      "source": [
        "mse_dhi, mse_dni, mse_ghi"
      ],
      "metadata": {
        "execution": {
          "iopub.status.busy": "2022-02-06T12:21:21.685681Z",
          "iopub.execute_input": "2022-02-06T12:21:21.686037Z",
          "iopub.status.idle": "2022-02-06T12:21:21.692707Z",
          "shell.execute_reply.started": "2022-02-06T12:21:21.686003Z",
          "shell.execute_reply": "2022-02-06T12:21:21.691956Z"
        },
        "trusted": true,
        "id": "s_q9zELJKNyB"
      },
      "execution_count": null,
      "outputs": []
    },
    {
      "cell_type": "code",
      "source": [
        "(mse_dhi+ mse_dni+ mse_ghi)/ 3"
      ],
      "metadata": {
        "execution": {
          "iopub.status.busy": "2022-02-06T12:21:22.001531Z",
          "iopub.execute_input": "2022-02-06T12:21:22.001894Z",
          "iopub.status.idle": "2022-02-06T12:21:22.009773Z",
          "shell.execute_reply.started": "2022-02-06T12:21:22.001856Z",
          "shell.execute_reply": "2022-02-06T12:21:22.008718Z"
        },
        "trusted": true,
        "id": "42n9RIUwKNyB"
      },
      "execution_count": null,
      "outputs": []
    },
    {
      "cell_type": "code",
      "source": [
        "sub = pd.DataFrame()\n",
        "sub['Clearsky DHI'] = test_pred_dhi\n",
        "sub['Clearsky DNI'] = test_pred_dni\n",
        "sub['Clearsky GHI'] = test_pred_ghi"
      ],
      "metadata": {
        "execution": {
          "iopub.status.busy": "2022-02-06T12:21:23.400821Z",
          "iopub.execute_input": "2022-02-06T12:21:23.401274Z",
          "iopub.status.idle": "2022-02-06T12:21:23.412001Z",
          "shell.execute_reply.started": "2022-02-06T12:21:23.401232Z",
          "shell.execute_reply": "2022-02-06T12:21:23.411089Z"
        },
        "trusted": true,
        "id": "iYAWBuYNKNyB"
      },
      "execution_count": null,
      "outputs": []
    },
    {
      "cell_type": "code",
      "source": [
        "sub.hist(figsize=(20, 6))\n",
        "plt.show()\n",
        "pd.concat([y1, y2, y3], axis=1).hist(figsize=(20, 6))\n",
        "plt.show()"
      ],
      "metadata": {
        "execution": {
          "iopub.status.busy": "2022-02-06T12:21:24.343173Z",
          "iopub.execute_input": "2022-02-06T12:21:24.34437Z",
          "iopub.status.idle": "2022-02-06T12:21:26.008185Z",
          "shell.execute_reply.started": "2022-02-06T12:21:24.344314Z",
          "shell.execute_reply": "2022-02-06T12:21:26.007556Z"
        },
        "trusted": true,
        "id": "MoPKmnW5KNyC"
      },
      "execution_count": null,
      "outputs": []
    },
    {
      "cell_type": "code",
      "source": [
        "sub.to_csv('my_submission_file.csv', index=False)"
      ],
      "metadata": {
        "execution": {
          "iopub.status.busy": "2022-02-06T11:51:26.407101Z",
          "iopub.execute_input": "2022-02-06T11:51:26.408085Z",
          "iopub.status.idle": "2022-02-06T11:51:26.538275Z",
          "shell.execute_reply.started": "2022-02-06T11:51:26.407977Z",
          "shell.execute_reply": "2022-02-06T11:51:26.53724Z"
        },
        "trusted": true,
        "id": "lKap_WW_KNyC"
      },
      "execution_count": null,
      "outputs": []
    },
    {
      "cell_type": "code",
      "source": [
        ""
      ],
      "metadata": {
        "id": "_0vOYPC4KNyC"
      },
      "execution_count": null,
      "outputs": []
    },
    {
      "cell_type": "code",
      "source": [
        ""
      ],
      "metadata": {
        "id": "U7vtKHgRKNyC"
      },
      "execution_count": null,
      "outputs": []
    },
    {
      "cell_type": "code",
      "source": [
        ""
      ],
      "metadata": {
        "id": "r4m0wgC5KNyD"
      },
      "execution_count": null,
      "outputs": []
    },
    {
      "cell_type": "code",
      "source": [
        ""
      ],
      "metadata": {
        "id": "rpScqPmPsAv7"
      },
      "execution_count": null,
      "outputs": []
    },
    {
      "cell_type": "code",
      "source": [
        ""
      ],
      "metadata": {
        "id": "1UBlSixesAse"
      },
      "execution_count": null,
      "outputs": []
    },
    {
      "cell_type": "markdown",
      "source": [
        "# RUN OPTUNA GROUP TIME SPLIT"
      ],
      "metadata": {
        "id": "1oyrf2RHKNxp"
      }
    },
    {
      "cell_type": "code",
      "source": [
        "gts = GroupTimeSeriesSplit(n_splits=5)\n",
        "\n",
        "def run_model(model_params,X, y):\n",
        "    y_true =[]\n",
        "    predicted_y = []\n",
        "\n",
        "    for tr_ind, val_ind in gts.split(X, y, groups = X['year']):\n",
        "        X_train, X_val = X.iloc[tr_ind], X.iloc[val_ind]\n",
        "        y_train, y_val = y.iloc[tr_ind], y.iloc[val_ind]\n",
        "\n",
        "        X_train = X_train.drop(columns=['year'])\n",
        "        X_val= X_val.drop(columns=['year'])\n",
        "                \n",
        "        cat = ['season','month','day','hour','daytime','minute','cloud_type']\n",
        "        encoded_df_train = X_train[cat]\n",
        "        encoded_df_val = X_val[cat]\n",
        "        encoder = category_encoders.CatBoostEncoder(cols=cat)\n",
        "        encoder.fit(encoded_df_train, y_train)\n",
        "        features_train = encoder.transform(encoded_df_train).reset_index(drop=True)\n",
        "        features_val = encoder.transform(encoded_df_val).reset_index(drop=True)\n",
        "        \n",
        "        not_to_scale = ['year','season','month','day','hour','daytime','minute','cloud_type',]\n",
        "        to_scale = [col for col in X.columns if col not in not_to_scale ]\n",
        "        ss = StandardScaler()\n",
        "        train_scaled = pd.DataFrame(ss.fit_transform(X_train[to_scale]), columns=to_scale).reset_index(drop=True)\n",
        "        val_scaled = pd.DataFrame(ss.transform(X_val[to_scale]), columns=to_scale).reset_index(drop=True)\n",
        "        \n",
        "\n",
        "        X_train = pd.concat([features_train,train_scaled ], axis=1)\n",
        "        X_val = pd.concat([features_val,val_scaled], axis=1)\n",
        "\n",
        "        tr_data = lgb.Dataset(X_train, y_train)\n",
        "        va_data = lgb.Dataset(X_val, y_val)\n",
        "        \n",
        "        model_dni = lgb.train(params = model_params,\n",
        "                          train_set = tr_data, \n",
        "                          valid_sets = [tr_data, va_data],\n",
        "                          verbose_eval = None,\n",
        "                             )\n",
        "        val_pred_dni = model_dni.predict(X_val,num_iteration=model_dni.best_iteration)\n",
        "        y_true.append(y_val.values)\n",
        "        print(mean_squared_error(np.expm1(y_val), np.expm1(val_pred_dni)))\n",
        "        predicted_y.append(val_pred_dni)\n",
        "    y_true= np.hstack(y_true)\n",
        "    predicted_y = np.hstack(predicted_y)    \n",
        "    mse = mean_squared_error(np.expm1(y_true), np.expm1(predicted_y))\n",
        "    return mse\n"
      ],
      "metadata": {
        "execution": {
          "iopub.status.busy": "2022-02-07T12:15:19.884544Z",
          "iopub.execute_input": "2022-02-07T12:15:19.884900Z",
          "iopub.status.idle": "2022-02-07T12:15:19.903627Z",
          "shell.execute_reply.started": "2022-02-07T12:15:19.884867Z",
          "shell.execute_reply": "2022-02-07T12:15:19.902424Z"
        },
        "trusted": true,
        "id": "J_nOMfMGKNxr"
      },
      "execution_count": null,
      "outputs": []
    },
    {
      "cell_type": "code",
      "source": [
        "def objective(trial):    \n",
        "    params = {\n",
        "    'boosting_type': 'gbdt',\n",
        "    'objective': 'regression',\n",
        "    'metric': 'mean_squared_error',\n",
        "    'early_stopping_rounds': 10, \n",
        "    'random_state': 2021, \n",
        "    'verbose':-1,\n",
        "    'num_leaves': trial.suggest_int('num_leaves', 4, 256),\n",
        "    'max_depth': trial.suggest_int('max_depth', 4, 16),\n",
        "    'min_child_weight': trial.suggest_int('min_child_weight', 1, 16),\n",
        "    'feature_fraction': trial.suggest_uniform('feature_fraction', 0.4, 1.0),\n",
        "    'bagging_fraction': trial.suggest_uniform('bagging_fraction', 0.4, 1.0),\n",
        "    'bagging_freq': trial.suggest_int('bagging_freq', 1, 8),\n",
        "    'min_child_samples': trial.suggest_int('min_child_samples', 4, 80),\n",
        "    'lambda_l1': trial.suggest_loguniform('lambda_l1', 1e-8, 1.0),\n",
        "    'lambda_l2': trial.suggest_loguniform('lambda_l2', 1e-8, 1.0),\n",
        "    'learning_rate' : trial.suggest_uniform('learning_rate', 0.01, 0.99),\n",
        "    'max_bin': trial.suggest_int('max_bin', 10, 200),\n",
        "    'num_boost_round' :trial.suggest_int('num_boost_round', 500, 1500),        \n",
        "#     'categorical_column': trial.suggest_categorical('categorical_column', [ 0, 1, 2, 3, 4, 13, \n",
        "#         [0, 1], [0, 2], [0, 3], [0, 4], [0, 13], [1, 2], [1, 3], [1, 4], [1, 13], [2, 3], [2, 4], [2, 13], [3, 4], [3, 13], [4, 13], \n",
        "#         [0, 1, 2], [0, 1, 3], [0, 1, 4], [0, 1, 13], [0, 2, 3], [0, 2, 4], [0, 2, 13], [0, 3, 4], [0, 3, 13], [0, 4, 13], [1, 2, 3], [1, 2, 4], \n",
        "#         [1, 2, 13], [1, 3, 4], [1, 3, 13], [1, 4, 13], [2, 3, 4], [2, 3, 13], [2, 4, 13], [3, 4, 13], [0, 1, 2, 3], [0, 1, 2, 4], [0, 1, 2, 13],\n",
        "#         [0, 1, 3, 4], [0, 1, 3, 13], [0, 1, 4, 13], [0, 2, 3, 4], [0, 2, 3, 13], [0, 2, 4, 13], [0, 3, 4, 13], [1, 2, 3, 4], [1, 2, 3, 13],\n",
        "#         [1, 2, 4, 13], [1, 3, 4, 13], [2, 3, 4, 13], [0, 1, 2, 3], [0, 1, 2, 4], [0, 1, 2, 13], [0, 1, 3, 4], [0, 1, 3, 13], [0, 1, 4, 13], \n",
        "#         [0, 2, 3, 4], [0, 2, 3, 13], [0, 2, 4, 13], [0, 3, 4, 13], [1, 2, 3, 4], [1, 2, 3, 13], [1, 2, 4, 13], [1, 3, 4, 13], [2, 3, 4, 13]\n",
        "#     ])\n",
        "    }\n",
        "    \n",
        "    gts = GroupTimeSeriesSplit(n_splits=5)\n",
        "    mse_dni = run_model(model_params=params,X=train_, y=y2_log)\n",
        "    clear_output()\n",
        "    return mse_dni"
      ],
      "metadata": {
        "execution": {
          "iopub.status.busy": "2022-02-07T12:15:38.504397Z",
          "iopub.execute_input": "2022-02-07T12:15:38.504699Z",
          "iopub.status.idle": "2022-02-07T12:15:38.517335Z",
          "shell.execute_reply.started": "2022-02-07T12:15:38.504664Z",
          "shell.execute_reply": "2022-02-07T12:15:38.515982Z"
        },
        "trusted": true,
        "id": "7ZQj-72dKNxs"
      },
      "execution_count": null,
      "outputs": []
    },
    {
      "cell_type": "code",
      "source": [
        "%%time\n",
        "N_TRIALS = 100\n",
        "\n",
        "study = optuna.create_study(direction='minimize')\n",
        "study.optimize(objective, n_trials=N_TRIALS, show_progress_bar= True)\n",
        "study.best_params, study.best_value"
      ],
      "metadata": {
        "execution": {
          "iopub.status.busy": "2022-02-07T12:15:39.017451Z",
          "iopub.execute_input": "2022-02-07T12:15:39.021505Z"
        },
        "trusted": true,
        "id": "2OK8MlYMKNxs"
      },
      "execution_count": null,
      "outputs": []
    },
    {
      "cell_type": "code",
      "source": [
        ""
      ],
      "metadata": {
        "id": "kKMe0xaZKNxt"
      },
      "execution_count": null,
      "outputs": []
    },
    {
      "cell_type": "code",
      "source": [
        ""
      ],
      "metadata": {
        "id": "gLtz8aTQKNxu"
      },
      "execution_count": null,
      "outputs": []
    },
    {
      "cell_type": "code",
      "source": [
        ""
      ],
      "metadata": {
        "id": "ZLEgKqWwKNxv"
      },
      "execution_count": null,
      "outputs": []
    },
    {
      "cell_type": "code",
      "source": [
        "kf = StratifiedKFold(n_splits=5, shuffle=False, random_state=2319)\n",
        "models = []\n",
        "feature_importance_df = pd.DataFrame()\n",
        "param =  {'num_leaves': 200,\n",
        "             'objective': 'regression',\n",
        "             'learning_rate': 0.03,\n",
        "             'boosting': 'gbdt',\n",
        "             'subsample': 0.5,\n",
        "             'feature_fraction': 0.7,\n",
        "             'n_jobs': -1,\n",
        "             'seed': 50,\n",
        "             'metric': 'rmse', \n",
        "          'verbose': -1\n",
        "              }\n",
        "p= {'boosting_type': 'gbdt',\n",
        " 'objective': 'regression',\n",
        " 'metric': 'mean_squared_error',\n",
        " 'early_stopping_rounds': 10,\n",
        " 'random_state': 2021,\n",
        " 'verbose': -1}\n",
        "\n",
        "oof = np.zeros(len(train_df))\n",
        "  \n",
        "for tr_idx, val_idx in tqdm(kf.split(X,X['year']), total = 5):\n",
        "    tr_x, tr_y = X.iloc[tr_idx], y.iloc[tr_idx]\n",
        "    vl_x, vl_y = X.iloc[val_idx], y.iloc[val_idx]\n",
        "    break\n",
        "    tr_x = tr_x.drop(columns=['year'])\n",
        "    vl_x = vl_x.drop(columns=['year'])\n",
        "    \n",
        "    tr_data = lgb.Dataset(tr_x, label = tr_y)\n",
        "    vl_data = lgb.Dataset(vl_x, label = vl_y)\n",
        "    clf = lgb.train(param, tr_data, 200, valid_sets = [tr_data, vl_data], verbose_eval = 100, \n",
        "                    early_stopping_rounds = 50)\n",
        "\n",
        "    fold_importance_df = pd.DataFrame()\n",
        "    fold_importance_df[\"feature\"] = tr_x.columns\n",
        "    fold_importance_df[\"importance\"] = clf.feature_importance()\n",
        "\n",
        "    feature_importance_df = pd.concat([feature_importance_df, fold_importance_df], axis=0)\n",
        "    models.append(clf)\n",
        "    oof[val_idx] = clf.predict(vl_x)\n",
        "mean_squared_error(pd.Series(np.expm1(oof)), y2)"
      ],
      "metadata": {
        "execution": {
          "iopub.status.busy": "2022-02-07T11:22:56.255101Z",
          "iopub.execute_input": "2022-02-07T11:22:56.255377Z",
          "iopub.status.idle": "2022-02-07T11:22:56.374612Z",
          "shell.execute_reply.started": "2022-02-07T11:22:56.255351Z",
          "shell.execute_reply": "2022-02-07T11:22:56.373374Z"
        },
        "trusted": true,
        "id": "ELzrRQ-fKNxv"
      },
      "execution_count": null,
      "outputs": []
    },
    {
      "cell_type": "code",
      "source": [
        "tr_x.year.unique()"
      ],
      "metadata": {
        "execution": {
          "iopub.status.busy": "2022-02-07T11:23:22.617426Z",
          "iopub.execute_input": "2022-02-07T11:23:22.617939Z",
          "iopub.status.idle": "2022-02-07T11:23:22.626706Z",
          "shell.execute_reply.started": "2022-02-07T11:23:22.617910Z",
          "shell.execute_reply": "2022-02-07T11:23:22.624717Z"
        },
        "trusted": true,
        "id": "4R6XVVvZKNxw"
      },
      "execution_count": null,
      "outputs": []
    },
    {
      "cell_type": "code",
      "source": [
        "tr_x[tr_x['year'] == 2009]"
      ],
      "metadata": {
        "execution": {
          "iopub.status.busy": "2022-02-07T11:24:06.440866Z",
          "iopub.execute_input": "2022-02-07T11:24:06.441190Z",
          "iopub.status.idle": "2022-02-07T11:24:06.565223Z",
          "shell.execute_reply.started": "2022-02-07T11:24:06.441143Z",
          "shell.execute_reply": "2022-02-07T11:24:06.564605Z"
        },
        "trusted": true,
        "id": "dopnAioyKNxw"
      },
      "execution_count": null,
      "outputs": []
    },
    {
      "cell_type": "code",
      "source": [
        "vl_x[vl_x.year == 2009]"
      ],
      "metadata": {
        "execution": {
          "iopub.status.busy": "2022-02-07T11:24:27.941026Z",
          "iopub.execute_input": "2022-02-07T11:24:27.941303Z",
          "iopub.status.idle": "2022-02-07T11:24:28.063249Z",
          "shell.execute_reply.started": "2022-02-07T11:24:27.941278Z",
          "shell.execute_reply": "2022-02-07T11:24:28.062491Z"
        },
        "trusted": true,
        "id": "rb3SF80MKNxx"
      },
      "execution_count": null,
      "outputs": []
    },
    {
      "cell_type": "code",
      "source": [
        "cols = (feature_importance_df[[\"feature\", \"importance\"]]\n",
        "        .groupby(\"feature\")\n",
        "        .mean()\n",
        "        .sort_values(by=\"importance\", ascending=False)[:20].index)\n",
        "best_features = feature_importance_df.loc[feature_importance_df.feature.isin(cols)]"
      ],
      "metadata": {
        "execution": {
          "iopub.status.busy": "2022-02-07T11:20:38.030985Z",
          "iopub.execute_input": "2022-02-07T11:20:38.031308Z",
          "iopub.status.idle": "2022-02-07T11:20:38.043005Z",
          "shell.execute_reply.started": "2022-02-07T11:20:38.031273Z",
          "shell.execute_reply": "2022-02-07T11:20:38.042277Z"
        },
        "trusted": true,
        "id": "xwo0NQcUKNxx"
      },
      "execution_count": null,
      "outputs": []
    },
    {
      "cell_type": "code",
      "source": [
        "plt.figure(figsize=(14,10))\n",
        "sns.barplot(x=\"importance\", y=\"feature\", data=best_features.sort_values(by=\"importance\",ascending=False))\n",
        "plt.title('LightGBM Features (averaged over folds)')\n",
        "plt.tight_layout()"
      ],
      "metadata": {
        "execution": {
          "iopub.status.busy": "2022-02-07T11:20:38.045158Z",
          "iopub.execute_input": "2022-02-07T11:20:38.045575Z",
          "iopub.status.idle": "2022-02-07T11:20:39.152495Z",
          "shell.execute_reply.started": "2022-02-07T11:20:38.045529Z",
          "shell.execute_reply": "2022-02-07T11:20:39.151304Z"
        },
        "trusted": true,
        "id": "q6gbBEGQKNxx"
      },
      "execution_count": null,
      "outputs": []
    },
    {
      "cell_type": "code",
      "source": [
        ""
      ],
      "metadata": {
        "id": "ezgvlzcDKNxy"
      },
      "execution_count": null,
      "outputs": []
    },
    {
      "cell_type": "code",
      "source": [
        "y_true =[]\n",
        "predicted_y = []\n",
        "for tr_ind, val_ind in gts.split(X, y, groups=X['year']\n",
        "                                              ):\n",
        "    X_train, X_val = X.iloc[tr_ind], X.iloc[val_ind]\n",
        "    y_train, y_val = y.iloc[tr_ind], y.iloc[val_ind]\n",
        "    X_train = X_train.drop(columns=['year'])\n",
        "    X_val= X_val.drop(columns=['year'])\n",
        "    display(X_train.shape)\n",
        "\n",
        "#     model = HistGradientBoostingRegressor()\n",
        "#     model.fit(X_train, y_train)\n",
        "    \n",
        "    tr_data = lgb.Dataset(X_train, y_train)\n",
        "    va_data = lgb.Dataset(X_val, y_val)\n",
        "\n",
        "    model = lgb.train(params = p,\n",
        "                      train_set = tr_data, \n",
        "                      valid_sets = [tr_data, va_data],\n",
        "                      verbose_eval = 100,\n",
        "                         )\n",
        "    \n",
        "    val_pred= model.predict(X_val)\n",
        "#     print(mean_squared_error(y_val, val_pred))\n",
        "    y_true.append(y_val.values)\n",
        "    predicted_y.append(val_pred) \n",
        "mse= mean_squared_error(np.hstack(y_true), np.hstack(predicted_y))\n",
        "mse"
      ],
      "metadata": {
        "execution": {
          "iopub.status.busy": "2022-02-07T10:56:13.572198Z",
          "iopub.execute_input": "2022-02-07T10:56:13.573294Z",
          "iopub.status.idle": "2022-02-07T10:56:37.875015Z",
          "shell.execute_reply.started": "2022-02-07T10:56:13.573203Z",
          "shell.execute_reply": "2022-02-07T10:56:37.874407Z"
        },
        "trusted": true,
        "id": "W2C1dcrDKNxy"
      },
      "execution_count": null,
      "outputs": []
    },
    {
      "cell_type": "code",
      "source": [
        "pd.Series(model.feature_importance(), index=X_train.columns).sort_values(ascending=False)[:30]"
      ],
      "metadata": {
        "execution": {
          "iopub.status.busy": "2022-02-07T10:22:27.222043Z",
          "iopub.execute_input": "2022-02-07T10:22:27.222526Z",
          "iopub.status.idle": "2022-02-07T10:22:27.231615Z",
          "shell.execute_reply.started": "2022-02-07T10:22:27.222494Z",
          "shell.execute_reply": "2022-02-07T10:22:27.230683Z"
        },
        "trusted": true,
        "id": "aNoidz2tKNxz"
      },
      "execution_count": null,
      "outputs": []
    },
    {
      "cell_type": "code",
      "source": [
        ""
      ],
      "metadata": {
        "id": "75OTE9-oKNx0"
      },
      "execution_count": null,
      "outputs": []
    },
    {
      "cell_type": "code",
      "source": [
        ""
      ],
      "metadata": {
        "id": "Vnqq9fuoKNx0"
      },
      "execution_count": null,
      "outputs": []
    },
    {
      "cell_type": "code",
      "source": [
        ""
      ],
      "metadata": {
        "id": "FhFB26LMKNx0"
      },
      "execution_count": null,
      "outputs": []
    },
    {
      "cell_type": "code",
      "source": [
        ""
      ],
      "metadata": {
        "id": "tQ0jberRKNx1"
      },
      "execution_count": null,
      "outputs": []
    },
    {
      "cell_type": "code",
      "source": [
        ""
      ],
      "metadata": {
        "id": "od2V4HTPKNx1"
      },
      "execution_count": null,
      "outputs": []
    },
    {
      "cell_type": "code",
      "source": [
        ""
      ],
      "metadata": {
        "id": "4Y7JL_emKNx1"
      },
      "execution_count": null,
      "outputs": []
    }
  ]
}