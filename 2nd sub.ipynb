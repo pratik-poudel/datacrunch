{
  "nbformat": 4,
  "nbformat_minor": 0,
  "metadata": {
    "colab": {
      "name": "scratchpad",
      "provenance": [],
      "machine_shape": "hm",
      "include_colab_link": true
    },
    "kernelspec": {
      "display_name": "Python 3",
      "name": "python3"
    }
  },
  "cells": [
    {
      "cell_type": "markdown",
      "metadata": {
        "id": "view-in-github",
        "colab_type": "text"
      },
      "source": [
        "<a href=\"https://colab.research.google.com/github/pratik-poudel/datacrunch/blob/main/2nd%20sub.ipynb\" target=\"_parent\"><img src=\"https://colab.research.google.com/assets/colab-badge.svg\" alt=\"Open In Colab\"/></a>"
      ]
    },
    {
      "cell_type": "code",
      "metadata": {
        "id": "lIYdn1woOS1n"
      },
      "source": [
        "import numpy as np\n",
        "import pandas as pd\n",
        "from collections import defaultdict\n",
        "from tqdm.notebook import tqdm\n",
        "from matplotlib import pyplot as plt\n",
        "import warnings\n",
        "warnings.filterwarnings('ignore')\n",
        "import seaborn as sns\n",
        "import gc\n",
        "# pd.options.display.float_format| = \"{:.2f}\".format\n",
        "pd.options.display.max_columns = 500"
      ],
      "execution_count": 84,
      "outputs": []
    },
    {
      "cell_type": "code",
      "metadata": {
        "id": "-Fp6KUxlw_3G"
      },
      "source": [
        "train_datalink_X = 'https://tournament.datacrunch.com/data/X_train.csv'  \n",
        "train_datalink_y = 'https://tournament.datacrunch.com/data/y_train.csv'\n",
        "hackathon_data_link = 'https://tournament.datacrunch.com/data/X_test.csv'"
      ],
      "execution_count": 85,
      "outputs": []
    },
    {
      "cell_type": "code",
      "metadata": {
        "id": "EH7b596jxFEG"
      },
      "source": [
        "train = pd.read_csv(train_datalink_X)\n",
        "target = pd.read_csv(train_datalink_y)"
      ],
      "execution_count": 86,
      "outputs": []
    },
    {
      "cell_type": "code",
      "metadata": {
        "id": "2XkowUpsxHEx"
      },
      "source": [
        "train= pd.concat([train, target], axis=1)"
      ],
      "execution_count": 87,
      "outputs": []
    },
    {
      "cell_type": "code",
      "metadata": {
        "id": "_y_q943qxciB"
      },
      "source": [
        "feat = [f for f in train.columns if 'feature' in f]"
      ],
      "execution_count": 88,
      "outputs": []
    },
    {
      "cell_type": "code",
      "metadata": {
        "id": "MTbzQk14Gttg",
        "outputId": "60229c26-8c8a-4fa1-ad7e-7fff6195745a",
        "colab": {
          "base_uri": "https://localhost:8080/"
        }
      },
      "source": [
        "corr = train[feat].corrwith(train['target_b']).abs().sort_values(ascending=False)\n",
        "corr"
      ],
      "execution_count": 96,
      "outputs": [
        {
          "output_type": "execute_result",
          "data": {
            "text/plain": [
              "feature_17    0.580176\n",
              "feature_18    0.579122\n",
              "feature_23    0.576289\n",
              "feature_19    0.569179\n",
              "feature_4     0.508592\n",
              "feature_22    0.506588\n",
              "feature_3     0.503777\n",
              "feature_12    0.492320\n",
              "feature_11    0.487851\n",
              "feature_5     0.486753\n",
              "feature_9     0.484760\n",
              "feature_6     0.468131\n",
              "feature_16    0.452890\n",
              "feature_13    0.451803\n",
              "feature_2     0.446912\n",
              "feature_10    0.442965\n",
              "feature_8     0.372610\n",
              "feature_21    0.369069\n",
              "feature_1     0.304332\n",
              "feature_15    0.285051\n",
              "feature_7     0.202240\n",
              "feature_28    0.165029\n",
              "feature_29    0.103618\n",
              "feature_27    0.066473\n",
              "feature_26    0.056053\n",
              "feature_20    0.051908\n",
              "feature_24    0.040494\n",
              "feature_25    0.031161\n",
              "feature_14    0.007604\n",
              "dtype: float64"
            ]
          },
          "metadata": {
            "tags": []
          },
          "execution_count": 96
        }
      ]
    },
    {
      "cell_type": "code",
      "metadata": {
        "id": "mzAUDirII8UN",
        "outputId": "5dfb1f2f-1b26-48fe-a52a-91877c4d1df7",
        "colab": {
          "base_uri": "https://localhost:8080/"
        }
      },
      "source": [
        "len(corr[corr > 0.05])"
      ],
      "execution_count": 102,
      "outputs": [
        {
          "output_type": "execute_result",
          "data": {
            "text/plain": [
              "26"
            ]
          },
          "metadata": {
            "tags": []
          },
          "execution_count": 102
        }
      ]
    },
    {
      "cell_type": "code",
      "metadata": {
        "id": "-8nq1l12G0R7",
        "outputId": "9f4ffca6-8767-4857-8517-5768bfe51f09",
        "colab": {
          "base_uri": "https://localhost:8080/"
        }
      },
      "source": [
        "four_combinations = []\n",
        "from itertools import combinations, permutations, combinations_with_replacement\n",
        "for i in combinations(corr[corr > 0.05].index.to_list(), 4):\n",
        "    four_combinations.append(list(i))\n",
        "len(four_combinations)"
      ],
      "execution_count": 104,
      "outputs": [
        {
          "output_type": "execute_result",
          "data": {
            "text/plain": [
              "14950"
            ]
          },
          "metadata": {
            "tags": []
          },
          "execution_count": 104
        }
      ]
    },
    {
      "cell_type": "code",
      "metadata": {
        "id": "91ED0jD6G1ET",
        "outputId": "d2c88fff-da94-4a23-943f-d22e88a1d91d",
        "colab": {
          "base_uri": "https://localhost:8080/"
        }
      },
      "source": [
        "operators = [\"+\",\"-\",\"*\",\"/\"]\n",
        "op_list = []\n",
        "for i in combinations_with_replacement(operators, 3):\n",
        "    # print(i)\n",
        "    op_list.append(list(i))\n",
        "len(op_list)"
      ],
      "execution_count": 105,
      "outputs": [
        {
          "output_type": "execute_result",
          "data": {
            "text/plain": [
              "20"
            ]
          },
          "metadata": {
            "tags": []
          },
          "execution_count": 105
        }
      ]
    },
    {
      "cell_type": "code",
      "metadata": {
        "id": "lRbaLUi3HITc",
        "outputId": "31e36d3f-703c-4fad-9748-114fb7d5c455",
        "colab": {
          "base_uri": "https://localhost:8080/"
        }
      },
      "source": [
        "for_calc = []\n",
        "for i in four_combinations[:1]:\n",
        "    for x, y  in enumerate(op_list):\n",
        "        f_calc = (\"df['computed_\" + str(x) + \"'] =\" + \"train[a]\" + y[0] + \"train[b]\" + y[1] + \n",
        "                  \"train[c]\" + y[2] + \"train[d]\" \n",
        "                #   + y[3] + \"train[e]\" + y[4] + \"train[f]\" + \n",
        "                #  y[5] + \"train[g]\" + y[6] + \"train[h]\" + y[7] + \"train[i]\" + y[8]+ \"train[j]\"\n",
        "                 )\n",
        "        for_calc.append(f_calc)\n",
        "len(for_calc)"
      ],
      "execution_count": 106,
      "outputs": [
        {
          "output_type": "execute_result",
          "data": {
            "text/plain": [
              "20"
            ]
          },
          "metadata": {
            "tags": []
          },
          "execution_count": 106
        }
      ]
    },
    {
      "cell_type": "code",
      "metadata": {
        "id": "4_fX5GFDHaFk",
        "outputId": "d924409d-4040-49cf-edf2-e7d152ab3704",
        "colab": {
          "base_uri": "https://localhost:8080/"
        }
      },
      "source": [
        "feature_names = []\n",
        "for i in four_combinations:\n",
        "    for x, y  in enumerate(op_list):\n",
        "        f_name = (i[0] + y[0] + i[1] + y[1] + i[2] + y[2] + i[3] \n",
        "                #   + y[3] \n",
        "                #   + i[4] \n",
        "                #   + y[4]\n",
        "                #  + i[5] + y[5] + i[6] + y[6] + i[7] + y[7] + i[8] + y[8] + i[9]\n",
        "                )\n",
        "        feature_names.append(f_name)\n",
        "len(feature_names)"
      ],
      "execution_count": 107,
      "outputs": [
        {
          "output_type": "execute_result",
          "data": {
            "text/plain": [
              "299000"
            ]
          },
          "metadata": {
            "tags": []
          },
          "execution_count": 107
        }
      ]
    },
    {
      "cell_type": "code",
      "metadata": {
        "id": "rvsctTszH2LL",
        "outputId": "64c30f03-6f31-4661-eab1-bb66424ae86a",
        "colab": {
          "base_uri": "https://localhost:8080/"
        }
      },
      "source": [
        "len(feature_names) == len(for_calc) * len(four_combinations)"
      ],
      "execution_count": 108,
      "outputs": [
        {
          "output_type": "execute_result",
          "data": {
            "text/plain": [
              "True"
            ]
          },
          "metadata": {
            "tags": []
          },
          "execution_count": 108
        }
      ]
    },
    {
      "cell_type": "code",
      "metadata": {
        "id": "mH5a6Rv1IXC6",
        "outputId": "62dfda3f-68f0-4237-c7e5-3433e41fb150",
        "colab": {
          "base_uri": "https://localhost:8080/"
        }
      },
      "source": [
        "for i in for_calc:\n",
        "    print(i)"
      ],
      "execution_count": 109,
      "outputs": [
        {
          "output_type": "stream",
          "text": [
            "df['computed_0'] =train[a]+train[b]+train[c]+train[d]\n",
            "df['computed_1'] =train[a]+train[b]+train[c]-train[d]\n",
            "df['computed_2'] =train[a]+train[b]+train[c]*train[d]\n",
            "df['computed_3'] =train[a]+train[b]+train[c]/train[d]\n",
            "df['computed_4'] =train[a]+train[b]-train[c]-train[d]\n",
            "df['computed_5'] =train[a]+train[b]-train[c]*train[d]\n",
            "df['computed_6'] =train[a]+train[b]-train[c]/train[d]\n",
            "df['computed_7'] =train[a]+train[b]*train[c]*train[d]\n",
            "df['computed_8'] =train[a]+train[b]*train[c]/train[d]\n",
            "df['computed_9'] =train[a]+train[b]/train[c]/train[d]\n",
            "df['computed_10'] =train[a]-train[b]-train[c]-train[d]\n",
            "df['computed_11'] =train[a]-train[b]-train[c]*train[d]\n",
            "df['computed_12'] =train[a]-train[b]-train[c]/train[d]\n",
            "df['computed_13'] =train[a]-train[b]*train[c]*train[d]\n",
            "df['computed_14'] =train[a]-train[b]*train[c]/train[d]\n",
            "df['computed_15'] =train[a]-train[b]/train[c]/train[d]\n",
            "df['computed_16'] =train[a]*train[b]*train[c]*train[d]\n",
            "df['computed_17'] =train[a]*train[b]*train[c]/train[d]\n",
            "df['computed_18'] =train[a]*train[b]/train[c]/train[d]\n",
            "df['computed_19'] =train[a]/train[b]/train[c]/train[d]\n"
          ],
          "name": "stdout"
        }
      ]
    },
    {
      "cell_type": "code",
      "metadata": {
        "id": "pbCHvwZdIaUU",
        "outputId": "2b85dfea-b6c6-4069-9e0c-c8af1f34075f",
        "colab": {
          "base_uri": "https://localhost:8080/"
        }
      },
      "source": [
        "%%time\n",
        "from google.colab import output\n",
        "score = []\n",
        "count = 0\n",
        "df = pd.DataFrame()\n",
        "for z in four_combinations:\n",
        "    a = z[0]\n",
        "    b = z[1]\n",
        "    c = z[2]\n",
        "    d = z[3]\n",
        "    # e = z[4]\n",
        "    # f = z[5]\n",
        "    # g = z[6]\n",
        "    # h = z[7]\n",
        "    # i = z[8]\n",
        "    # j = z[9]\n",
        "    \n",
        "    df['computed_0'] =train[a]+train[b]+train[c]+train[d]\n",
        "    df['computed_1'] =train[a]+train[b]+train[c]-train[d]\n",
        "    df['computed_2'] =train[a]+train[b]+train[c]*train[d]\n",
        "    df['computed_3'] =train[a]+train[b]+train[c]/train[d]\n",
        "    df['computed_4'] =train[a]+train[b]-train[c]-train[d]\n",
        "    df['computed_5'] =train[a]+train[b]-train[c]*train[d]\n",
        "    df['computed_6'] =train[a]+train[b]-train[c]/train[d]\n",
        "    df['computed_7'] =train[a]+train[b]*train[c]*train[d]\n",
        "    df['computed_8'] =train[a]+train[b]*train[c]/train[d]\n",
        "    df['computed_9'] =train[a]+train[b]/train[c]/train[d]\n",
        "    df['computed_10'] =train[a]-train[b]-train[c]-train[d]\n",
        "    df['computed_11'] =train[a]-train[b]-train[c]*train[d]\n",
        "    df['computed_12'] =train[a]-train[b]-train[c]/train[d]\n",
        "    df['computed_13'] =train[a]-train[b]*train[c]*train[d]\n",
        "    df['computed_14'] =train[a]-train[b]*train[c]/train[d]\n",
        "    df['computed_15'] =train[a]-train[b]/train[c]/train[d]\n",
        "    df['computed_16'] =train[a]*train[b]*train[c]*train[d]\n",
        "    df['computed_17'] =train[a]*train[b]*train[c]/train[d]\n",
        "    df['computed_18'] =train[a]*train[b]/train[c]/train[d]\n",
        "    df['computed_19'] =train[a]/train[b]/train[c]/train[d]\n",
        "    f = [fe for fe in df.columns if 'computed' in fe]\n",
        "    for i in df[f].corrwith(train['target_b']).values:\n",
        "        score.append(i)\n",
        "    count += 1\n",
        "    print(count, \"done out of \", len(four_combinations) )\n",
        "    if count % 10 ==0:\n",
        "        output.clear()"
      ],
      "execution_count": 126,
      "outputs": [
        {
          "output_type": "stream",
          "text": [
            "CPU times: user 21min 6s, sys: 1min 31s, total: 22min 38s\n",
            "Wall time: 21min 7s\n"
          ],
          "name": "stdout"
        }
      ]
    },
    {
      "cell_type": "code",
      "metadata": {
        "id": "jlWvBOjQI5G8"
      },
      "source": [
        "result = pd.DataFrame(zip(feature_names, score), columns=['feature', 'score'])\n",
        "# result['score'] = np.abs(result['score'])\n",
        "# result.dropna(inplace=True)"
      ],
      "execution_count": 179,
      "outputs": []
    },
    {
      "cell_type": "code",
      "metadata": {
        "id": "7HokOtLWMHFB"
      },
      "source": [
        "result.sort_values(by='score', ascending=False, inplace=True)"
      ],
      "execution_count": 180,
      "outputs": []
    },
    {
      "cell_type": "code",
      "metadata": {
        "id": "6LdsAEKZTrOx",
        "outputId": "b66b81cd-eb58-4940-909e-0a37f04d9bc1",
        "colab": {
          "base_uri": "https://localhost:8080/",
          "height": 419
        }
      },
      "source": [
        "result[result['score'] < 0]"
      ],
      "execution_count": 182,
      "outputs": [
        {
          "output_type": "execute_result",
          "data": {
            "text/html": [
              "<div>\n",
              "<style scoped>\n",
              "    .dataframe tbody tr th:only-of-type {\n",
              "        vertical-align: middle;\n",
              "    }\n",
              "\n",
              "    .dataframe tbody tr th {\n",
              "        vertical-align: top;\n",
              "    }\n",
              "\n",
              "    .dataframe thead th {\n",
              "        text-align: right;\n",
              "    }\n",
              "</style>\n",
              "<table border=\"1\" class=\"dataframe\">\n",
              "  <thead>\n",
              "    <tr style=\"text-align: right;\">\n",
              "      <th></th>\n",
              "      <th>feature</th>\n",
              "      <th>score</th>\n",
              "    </tr>\n",
              "  </thead>\n",
              "  <tbody>\n",
              "    <tr>\n",
              "      <th>19351</th>\n",
              "      <td>feature_17-feature_4-feature_27*feature_26</td>\n",
              "      <td>-0.000023</td>\n",
              "    </tr>\n",
              "    <tr>\n",
              "      <th>177431</th>\n",
              "      <td>feature_4-feature_8-feature_28*feature_29</td>\n",
              "      <td>-0.000081</td>\n",
              "    </tr>\n",
              "    <tr>\n",
              "      <th>114610</th>\n",
              "      <td>feature_23-feature_6-feature_26-feature_20</td>\n",
              "      <td>-0.000118</td>\n",
              "    </tr>\n",
              "    <tr>\n",
              "      <th>288231</th>\n",
              "      <td>feature_13-feature_1-feature_28*feature_27</td>\n",
              "      <td>-0.000126</td>\n",
              "    </tr>\n",
              "    <tr>\n",
              "      <th>296170</th>\n",
              "      <td>feature_8-feature_7-feature_29-feature_27</td>\n",
              "      <td>-0.000178</td>\n",
              "    </tr>\n",
              "    <tr>\n",
              "      <th>...</th>\n",
              "      <td>...</td>\n",
              "      <td>...</td>\n",
              "    </tr>\n",
              "    <tr>\n",
              "      <th>7762</th>\n",
              "      <td>feature_17+feature_23+feature_11*feature_28</td>\n",
              "      <td>-0.625907</td>\n",
              "    </tr>\n",
              "    <tr>\n",
              "      <th>48262</th>\n",
              "      <td>feature_18+feature_23+feature_11*feature_29</td>\n",
              "      <td>-0.626390</td>\n",
              "    </tr>\n",
              "    <tr>\n",
              "      <th>7782</th>\n",
              "      <td>feature_17+feature_23+feature_11*feature_29</td>\n",
              "      <td>-0.626538</td>\n",
              "    </tr>\n",
              "    <tr>\n",
              "      <th>46782</th>\n",
              "      <td>feature_18+feature_23+feature_4*feature_29</td>\n",
              "      <td>-0.626694</td>\n",
              "    </tr>\n",
              "    <tr>\n",
              "      <th>6302</th>\n",
              "      <td>feature_17+feature_23+feature_4*feature_29</td>\n",
              "      <td>-0.626883</td>\n",
              "    </tr>\n",
              "  </tbody>\n",
              "</table>\n",
              "<p>121721 rows × 2 columns</p>\n",
              "</div>"
            ],
            "text/plain": [
              "                                            feature     score\n",
              "19351    feature_17-feature_4-feature_27*feature_26 -0.000023\n",
              "177431    feature_4-feature_8-feature_28*feature_29 -0.000081\n",
              "114610   feature_23-feature_6-feature_26-feature_20 -0.000118\n",
              "288231   feature_13-feature_1-feature_28*feature_27 -0.000126\n",
              "296170    feature_8-feature_7-feature_29-feature_27 -0.000178\n",
              "...                                             ...       ...\n",
              "7762    feature_17+feature_23+feature_11*feature_28 -0.625907\n",
              "48262   feature_18+feature_23+feature_11*feature_29 -0.626390\n",
              "7782    feature_17+feature_23+feature_11*feature_29 -0.626538\n",
              "46782    feature_18+feature_23+feature_4*feature_29 -0.626694\n",
              "6302     feature_17+feature_23+feature_4*feature_29 -0.626883\n",
              "\n",
              "[121721 rows x 2 columns]"
            ]
          },
          "metadata": {
            "tags": []
          },
          "execution_count": 182
        }
      ]
    },
    {
      "cell_type": "code",
      "metadata": {
        "id": "sfm3UFaBby6y",
        "outputId": "9d94bd34-5023-428f-d08a-524a77a09958",
        "colab": {
          "base_uri": "https://localhost:8080/"
        }
      },
      "source": [
        "(train['feature_17'] + train['feature_23'] + train['feature_4'] * train['feature_29']).corr(target['target_b'])"
      ],
      "execution_count": 184,
      "outputs": [
        {
          "output_type": "execute_result",
          "data": {
            "text/plain": [
              "-0.6268831486700219"
            ]
          },
          "metadata": {
            "tags": []
          },
          "execution_count": 184
        }
      ]
    },
    {
      "cell_type": "code",
      "metadata": {
        "id": "PuFDndh2MHrl"
      },
      "source": [
        "split = []\n",
        "for i in result[result['score'] > 0.62]['feature'].values:\n",
        "    split.append(i)"
      ],
      "execution_count": 162,
      "outputs": []
    },
    {
      "cell_type": "code",
      "metadata": {
        "id": "ZsmKcsshc9qb",
        "outputId": "11b6041d-49d9-4b19-e5c5-2c71db39f363",
        "colab": {
          "base_uri": "https://localhost:8080/",
          "height": 35
        }
      },
      "source": [
        "split[0]"
      ],
      "execution_count": 188,
      "outputs": [
        {
          "output_type": "execute_result",
          "data": {
            "application/vnd.google.colaboratory.intrinsic+json": {
              "type": "string"
            },
            "text/plain": [
              "'feature_17+feature_23+feature_4*feature_29'"
            ]
          },
          "metadata": {
            "tags": []
          },
          "execution_count": 188
        }
      ]
    },
    {
      "cell_type": "code",
      "metadata": {
        "id": "KoBEtMj4dBE5"
      },
      "source": [
        ""
      ],
      "execution_count": null,
      "outputs": []
    },
    {
      "cell_type": "code",
      "metadata": {
        "id": "wU6wGG1BMOy8"
      },
      "source": [
        "import re\n",
        "feature_split = [] \n",
        "symbol_split = []\n",
        "all_name = []\n",
        "for i in split:\n",
        "    all_name.append(i)\n",
        "    features_list = re.split('[- + * /]',i)\n",
        "    maths = re.findall(r\"([\\+\\-\\*\\/]+)\", i)\n",
        "    feature_split.append(features_list)\n",
        "    symbol_split.append(maths + [0])"
      ],
      "execution_count": 164,
      "outputs": []
    },
    {
      "cell_type": "code",
      "metadata": {
        "id": "txAHh1T0dDXv",
        "outputId": "728fb2c5-1aa1-4a6d-a39e-b1056cf78907",
        "colab": {
          "base_uri": "https://localhost:8080/"
        }
      },
      "source": [
        "feature_split[0]"
      ],
      "execution_count": 189,
      "outputs": [
        {
          "output_type": "execute_result",
          "data": {
            "text/plain": [
              "['feature_17', 'feature_23', 'feature_4', 'feature_29']"
            ]
          },
          "metadata": {
            "tags": []
          },
          "execution_count": 189
        }
      ]
    },
    {
      "cell_type": "code",
      "metadata": {
        "id": "ZvmKg2guMosW",
        "outputId": "6d738bb0-b988-4dc3-d58e-e8d72c81504d",
        "colab": {
          "base_uri": "https://localhost:8080/"
        }
      },
      "source": [
        "count = 0\n",
        "for i,j in zip(feature_split, symbol_split):\n",
        "#     print([train.columns.get_loc(i[index]) for index in range(len(i))])\n",
        "#     print(len(i))\n",
        "    feature_name = all_name[count]\n",
        "    print(\"df['\"+feature_name+\"']\", \"= \" \"df[\"+\"'\"+i[0]+\"'\"+\"]\", str(j[0]), \"df[\"+\"'\"+i[1]+\"'\"+\"]\", str(j[1]), \"df[\"+\"'\"+i[2]+\"'\"+\"]\",\n",
        "        str(j[2]), \"df[\"+\"'\"+i[3]+\"'\"+\"]\"\n",
        "    )\n",
        "    count += 1"
      ],
      "execution_count": 191,
      "outputs": [
        {
          "output_type": "stream",
          "text": [
            "df['feature_17+feature_23+feature_4*feature_29'] = df['feature_17'] + df['feature_23'] + df['feature_4'] * df['feature_29']\n",
            "df['feature_18+feature_23+feature_4*feature_29'] = df['feature_18'] + df['feature_23'] + df['feature_4'] * df['feature_29']\n",
            "df['feature_17+feature_23+feature_11*feature_29'] = df['feature_17'] + df['feature_23'] + df['feature_11'] * df['feature_29']\n",
            "df['feature_18+feature_23+feature_11*feature_29'] = df['feature_18'] + df['feature_23'] + df['feature_11'] * df['feature_29']\n",
            "df['feature_17+feature_23+feature_11*feature_28'] = df['feature_17'] + df['feature_23'] + df['feature_11'] * df['feature_28']\n",
            "df['feature_17+feature_23+feature_3*feature_29'] = df['feature_17'] + df['feature_23'] + df['feature_3'] * df['feature_29']\n",
            "df['feature_17+feature_23+feature_12*feature_29'] = df['feature_17'] + df['feature_23'] + df['feature_12'] * df['feature_29']\n",
            "df['feature_18+feature_23+feature_11*feature_28'] = df['feature_18'] + df['feature_23'] + df['feature_11'] * df['feature_28']\n",
            "df['feature_18+feature_23+feature_3*feature_29'] = df['feature_18'] + df['feature_23'] + df['feature_3'] * df['feature_29']\n",
            "df['feature_17+feature_23+feature_9*feature_29'] = df['feature_17'] + df['feature_23'] + df['feature_9'] * df['feature_29']\n",
            "df['feature_18+feature_23+feature_12*feature_29'] = df['feature_18'] + df['feature_23'] + df['feature_12'] * df['feature_29']\n",
            "df['feature_18+feature_23+feature_9*feature_29'] = df['feature_18'] + df['feature_23'] + df['feature_9'] * df['feature_29']\n",
            "df['feature_17+feature_23+feature_4*feature_28'] = df['feature_17'] + df['feature_23'] + df['feature_4'] * df['feature_28']\n",
            "df['feature_17+feature_23+feature_11*feature_21'] = df['feature_17'] + df['feature_23'] + df['feature_11'] * df['feature_21']\n",
            "df['feature_17+feature_23+feature_5*feature_29'] = df['feature_17'] + df['feature_23'] + df['feature_5'] * df['feature_29']\n",
            "df['feature_18+feature_23+feature_4*feature_28'] = df['feature_18'] + df['feature_23'] + df['feature_4'] * df['feature_28']\n",
            "df['feature_17+feature_23+feature_4*feature_21'] = df['feature_17'] + df['feature_23'] + df['feature_4'] * df['feature_21']\n",
            "df['feature_18+feature_23+feature_5*feature_29'] = df['feature_18'] + df['feature_23'] + df['feature_5'] * df['feature_29']\n",
            "df['feature_18+feature_23+feature_11*feature_21'] = df['feature_18'] + df['feature_23'] + df['feature_11'] * df['feature_21']\n",
            "df['feature_17+feature_23+feature_5*feature_28'] = df['feature_17'] + df['feature_23'] + df['feature_5'] * df['feature_28']\n",
            "df['feature_17+feature_23+feature_12*feature_28'] = df['feature_17'] + df['feature_23'] + df['feature_12'] * df['feature_28']\n",
            "df['feature_17+feature_23+feature_3*feature_21'] = df['feature_17'] + df['feature_23'] + df['feature_3'] * df['feature_21']\n",
            "df['feature_18+feature_23+feature_5*feature_28'] = df['feature_18'] + df['feature_23'] + df['feature_5'] * df['feature_28']\n",
            "df['feature_17+feature_23+feature_22*feature_29'] = df['feature_17'] + df['feature_23'] + df['feature_22'] * df['feature_29']\n",
            "df['feature_18+feature_23+feature_4*feature_21'] = df['feature_18'] + df['feature_23'] + df['feature_4'] * df['feature_21']\n",
            "df['feature_18+feature_23+feature_12*feature_28'] = df['feature_18'] + df['feature_23'] + df['feature_12'] * df['feature_28']\n",
            "df['feature_17+feature_23+feature_9*feature_28'] = df['feature_17'] + df['feature_23'] + df['feature_9'] * df['feature_28']\n",
            "df['feature_18+feature_23+feature_9*feature_28'] = df['feature_18'] + df['feature_23'] + df['feature_9'] * df['feature_28']\n",
            "df['feature_18+feature_23+feature_22*feature_29'] = df['feature_18'] + df['feature_23'] + df['feature_22'] * df['feature_29']\n",
            "df['feature_17+feature_23+feature_22*feature_21'] = df['feature_17'] + df['feature_23'] + df['feature_22'] * df['feature_21']\n",
            "df['feature_18+feature_23+feature_3*feature_21'] = df['feature_18'] + df['feature_23'] + df['feature_3'] * df['feature_21']\n",
            "df['feature_17+feature_23+feature_12*feature_21'] = df['feature_17'] + df['feature_23'] + df['feature_12'] * df['feature_21']\n",
            "df['feature_17+feature_23+feature_22*feature_28'] = df['feature_17'] + df['feature_23'] + df['feature_22'] * df['feature_28']\n",
            "df['feature_17+feature_23+feature_5*feature_21'] = df['feature_17'] + df['feature_23'] + df['feature_5'] * df['feature_21']\n",
            "df['feature_18+feature_23+feature_22*feature_21'] = df['feature_18'] + df['feature_23'] + df['feature_22'] * df['feature_21']\n",
            "df['feature_18+feature_23+feature_22*feature_28'] = df['feature_18'] + df['feature_23'] + df['feature_22'] * df['feature_28']\n",
            "df['feature_17+feature_23+feature_9*feature_21'] = df['feature_17'] + df['feature_23'] + df['feature_9'] * df['feature_21']\n",
            "df['feature_17+feature_23+feature_6*feature_29'] = df['feature_17'] + df['feature_23'] + df['feature_6'] * df['feature_29']\n",
            "df['feature_17+feature_23+feature_3*feature_28'] = df['feature_17'] + df['feature_23'] + df['feature_3'] * df['feature_28']\n",
            "df['feature_18+feature_23+feature_12*feature_21'] = df['feature_18'] + df['feature_23'] + df['feature_12'] * df['feature_21']\n",
            "df['feature_17+feature_23+feature_6*feature_28'] = df['feature_17'] + df['feature_23'] + df['feature_6'] * df['feature_28']\n",
            "df['feature_18+feature_23+feature_6*feature_29'] = df['feature_18'] + df['feature_23'] + df['feature_6'] * df['feature_29']\n",
            "df['feature_17+feature_23+feature_2*feature_29'] = df['feature_17'] + df['feature_23'] + df['feature_2'] * df['feature_29']\n",
            "df['feature_18+feature_23+feature_3*feature_28'] = df['feature_18'] + df['feature_23'] + df['feature_3'] * df['feature_28']\n",
            "df['feature_18+feature_23+feature_5*feature_21'] = df['feature_18'] + df['feature_23'] + df['feature_5'] * df['feature_21']\n",
            "df['feature_18+feature_23+feature_6*feature_28'] = df['feature_18'] + df['feature_23'] + df['feature_6'] * df['feature_28']\n",
            "df['feature_18+feature_23+feature_2*feature_29'] = df['feature_18'] + df['feature_23'] + df['feature_2'] * df['feature_29']\n",
            "df['feature_17+feature_23+feature_13*feature_29'] = df['feature_17'] + df['feature_23'] + df['feature_13'] * df['feature_29']\n",
            "df['feature_18+feature_23+feature_9*feature_21'] = df['feature_18'] + df['feature_23'] + df['feature_9'] * df['feature_21']\n",
            "df['feature_18+feature_23+feature_13*feature_29'] = df['feature_18'] + df['feature_23'] + df['feature_13'] * df['feature_29']\n",
            "df['feature_17+feature_23+feature_10*feature_29'] = df['feature_17'] + df['feature_23'] + df['feature_10'] * df['feature_29']\n",
            "df['feature_18+feature_23+feature_10*feature_29'] = df['feature_18'] + df['feature_23'] + df['feature_10'] * df['feature_29']\n",
            "df['feature_17+feature_23+feature_13*feature_28'] = df['feature_17'] + df['feature_23'] + df['feature_13'] * df['feature_28']\n",
            "df['feature_17+feature_23+feature_2*feature_21'] = df['feature_17'] + df['feature_23'] + df['feature_2'] * df['feature_21']\n",
            "df['feature_17+feature_23+feature_2*feature_28'] = df['feature_17'] + df['feature_23'] + df['feature_2'] * df['feature_28']\n",
            "df['feature_18+feature_23+feature_13*feature_28'] = df['feature_18'] + df['feature_23'] + df['feature_13'] * df['feature_28']\n",
            "df['feature_23+feature_19+feature_11*feature_29'] = df['feature_23'] + df['feature_19'] + df['feature_11'] * df['feature_29']\n",
            "df['feature_17+feature_23+feature_6*feature_21'] = df['feature_17'] + df['feature_23'] + df['feature_6'] * df['feature_21']\n",
            "df['feature_18+feature_23+feature_2*feature_28'] = df['feature_18'] + df['feature_23'] + df['feature_2'] * df['feature_28']\n",
            "df['feature_17+feature_23+feature_11+feature_21'] = df['feature_17'] + df['feature_23'] + df['feature_11'] + df['feature_21']\n",
            "df['feature_17+feature_23+feature_4+feature_21'] = df['feature_17'] + df['feature_23'] + df['feature_4'] + df['feature_21']\n",
            "df['feature_23+feature_19+feature_4*feature_29'] = df['feature_23'] + df['feature_19'] + df['feature_4'] * df['feature_29']\n",
            "df['feature_18+feature_23+feature_2*feature_21'] = df['feature_18'] + df['feature_23'] + df['feature_2'] * df['feature_21']\n",
            "df['feature_23+feature_19+feature_11*feature_28'] = df['feature_23'] + df['feature_19'] + df['feature_11'] * df['feature_28']\n",
            "df['feature_17+feature_23+feature_19*feature_21'] = df['feature_17'] + df['feature_23'] + df['feature_19'] * df['feature_21']\n",
            "df['feature_18+feature_23+feature_19*feature_21'] = df['feature_18'] + df['feature_23'] + df['feature_19'] * df['feature_21']\n",
            "df['feature_17+feature_23+feature_16*feature_21'] = df['feature_17'] + df['feature_23'] + df['feature_16'] * df['feature_21']\n",
            "df['feature_18+feature_23+feature_6*feature_21'] = df['feature_18'] + df['feature_23'] + df['feature_6'] * df['feature_21']\n",
            "df['feature_18+feature_23+feature_11+feature_21'] = df['feature_18'] + df['feature_23'] + df['feature_11'] + df['feature_21']\n",
            "df['feature_18+feature_23+feature_4+feature_21'] = df['feature_18'] + df['feature_23'] + df['feature_4'] + df['feature_21']\n",
            "df['feature_18+feature_23+feature_5+feature_28'] = df['feature_18'] + df['feature_23'] + df['feature_5'] + df['feature_28']\n",
            "df['feature_17+feature_23+feature_13*feature_21'] = df['feature_17'] + df['feature_23'] + df['feature_13'] * df['feature_21']\n",
            "df['feature_17+feature_23+feature_5+feature_28'] = df['feature_17'] + df['feature_23'] + df['feature_5'] + df['feature_28']\n",
            "df['feature_23+feature_19+feature_11*feature_21'] = df['feature_23'] + df['feature_19'] + df['feature_11'] * df['feature_21']\n",
            "df['feature_18+feature_23+feature_4+feature_29'] = df['feature_18'] + df['feature_23'] + df['feature_4'] + df['feature_29']\n",
            "df['feature_17+feature_23+feature_4+feature_29'] = df['feature_17'] + df['feature_23'] + df['feature_4'] + df['feature_29']\n",
            "df['feature_18+feature_23+feature_4+feature_28'] = df['feature_18'] + df['feature_23'] + df['feature_4'] + df['feature_28']\n",
            "df['feature_17+feature_23+feature_22+feature_28'] = df['feature_17'] + df['feature_23'] + df['feature_22'] + df['feature_28']\n",
            "df['feature_17+feature_23+feature_4+feature_28'] = df['feature_17'] + df['feature_23'] + df['feature_4'] + df['feature_28']\n",
            "df['feature_18+feature_23+feature_22+feature_28'] = df['feature_18'] + df['feature_23'] + df['feature_22'] + df['feature_28']\n",
            "df['feature_23+feature_19+feature_3*feature_29'] = df['feature_23'] + df['feature_19'] + df['feature_3'] * df['feature_29']\n",
            "df['feature_18+feature_23+feature_16*feature_21'] = df['feature_18'] + df['feature_23'] + df['feature_16'] * df['feature_21']\n",
            "df['feature_18+feature_23+feature_13*feature_21'] = df['feature_18'] + df['feature_23'] + df['feature_13'] * df['feature_21']\n",
            "df['feature_17+feature_23+feature_4*feature_26'] = df['feature_17'] + df['feature_23'] + df['feature_4'] * df['feature_26']\n",
            "df['feature_17+feature_23+feature_10*feature_21'] = df['feature_17'] + df['feature_23'] + df['feature_10'] * df['feature_21']\n",
            "df['feature_23+feature_19+feature_12*feature_29'] = df['feature_23'] + df['feature_19'] + df['feature_12'] * df['feature_29']\n",
            "df['feature_17+feature_23+feature_10*feature_28'] = df['feature_17'] + df['feature_23'] + df['feature_10'] * df['feature_28']\n",
            "df['feature_17+feature_23+feature_11*feature_26'] = df['feature_17'] + df['feature_23'] + df['feature_11'] * df['feature_26']\n",
            "df['feature_23+feature_19+feature_4*feature_28'] = df['feature_23'] + df['feature_19'] + df['feature_4'] * df['feature_28']\n",
            "df['feature_17+feature_23+feature_3+feature_21'] = df['feature_17'] + df['feature_23'] + df['feature_3'] + df['feature_21']\n",
            "df['feature_23+feature_19+feature_4*feature_21'] = df['feature_23'] + df['feature_19'] + df['feature_4'] * df['feature_21']\n",
            "df['feature_23+feature_19+feature_3*feature_21'] = df['feature_23'] + df['feature_19'] + df['feature_3'] * df['feature_21']\n",
            "df['feature_18+feature_23+feature_10*feature_28'] = df['feature_18'] + df['feature_23'] + df['feature_10'] * df['feature_28']\n"
          ],
          "name": "stdout"
        }
      ]
    },
    {
      "cell_type": "code",
      "metadata": {
        "id": "CvPshLbjNQVv"
      },
      "source": [
        "def additional_feature(df):\n",
        "    df['feature_17+feature_23+feature_4*feature_29'] = df['feature_17'] + df['feature_23'] + df['feature_4'] * df['feature_29']\n",
        "    df['feature_18+feature_23+feature_4*feature_29'] = df['feature_18'] + df['feature_23'] + df['feature_4'] * df['feature_29']\n",
        "    df['feature_17+feature_23+feature_11*feature_29'] = df['feature_17'] + df['feature_23'] + df['feature_11'] * df['feature_29']\n",
        "    df['feature_18+feature_23+feature_11*feature_29'] = df['feature_18'] + df['feature_23'] + df['feature_11'] * df['feature_29']\n",
        "    df['feature_17+feature_23+feature_11*feature_28'] = df['feature_17'] + df['feature_23'] + df['feature_11'] * df['feature_28']\n",
        "    df['feature_17+feature_23+feature_3*feature_29'] = df['feature_17'] + df['feature_23'] + df['feature_3'] * df['feature_29']\n",
        "    df['feature_17+feature_23+feature_12*feature_29'] = df['feature_17'] + df['feature_23'] + df['feature_12'] * df['feature_29']\n",
        "    df['feature_18+feature_23+feature_11*feature_28'] = df['feature_18'] + df['feature_23'] + df['feature_11'] * df['feature_28']\n",
        "    df['feature_18+feature_23+feature_3*feature_29'] = df['feature_18'] + df['feature_23'] + df['feature_3'] * df['feature_29']\n",
        "    df['feature_17+feature_23+feature_9*feature_29'] = df['feature_17'] + df['feature_23'] + df['feature_9'] * df['feature_29']\n",
        "    df['feature_18+feature_23+feature_12*feature_29'] = df['feature_18'] + df['feature_23'] + df['feature_12'] * df['feature_29']\n",
        "    df['feature_18+feature_23+feature_9*feature_29'] = df['feature_18'] + df['feature_23'] + df['feature_9'] * df['feature_29']\n",
        "    df['feature_17+feature_23+feature_4*feature_28'] = df['feature_17'] + df['feature_23'] + df['feature_4'] * df['feature_28']\n",
        "    df['feature_17+feature_23+feature_11*feature_21'] = df['feature_17'] + df['feature_23'] + df['feature_11'] * df['feature_21']\n",
        "    df['feature_17+feature_23+feature_5*feature_29'] = df['feature_17'] + df['feature_23'] + df['feature_5'] * df['feature_29']\n",
        "    df['feature_18+feature_23+feature_4*feature_28'] = df['feature_18'] + df['feature_23'] + df['feature_4'] * df['feature_28']\n",
        "    df['feature_17+feature_23+feature_4*feature_21'] = df['feature_17'] + df['feature_23'] + df['feature_4'] * df['feature_21']\n",
        "    df['feature_18+feature_23+feature_5*feature_29'] = df['feature_18'] + df['feature_23'] + df['feature_5'] * df['feature_29']\n",
        "    df['feature_18+feature_23+feature_11*feature_21'] = df['feature_18'] + df['feature_23'] + df['feature_11'] * df['feature_21']\n",
        "    df['feature_17+feature_23+feature_5*feature_28'] = df['feature_17'] + df['feature_23'] + df['feature_5'] * df['feature_28']\n",
        "    df['feature_17+feature_23+feature_12*feature_28'] = df['feature_17'] + df['feature_23'] + df['feature_12'] * df['feature_28']\n",
        "    df['feature_17+feature_23+feature_3*feature_21'] = df['feature_17'] + df['feature_23'] + df['feature_3'] * df['feature_21']\n",
        "    df['feature_18+feature_23+feature_5*feature_28'] = df['feature_18'] + df['feature_23'] + df['feature_5'] * df['feature_28']\n",
        "    df['feature_17+feature_23+feature_22*feature_29'] = df['feature_17'] + df['feature_23'] + df['feature_22'] * df['feature_29']\n",
        "    df['feature_18+feature_23+feature_4*feature_21'] = df['feature_18'] + df['feature_23'] + df['feature_4'] * df['feature_21']\n",
        "    df['feature_18+feature_23+feature_12*feature_28'] = df['feature_18'] + df['feature_23'] + df['feature_12'] * df['feature_28']\n",
        "    df['feature_17+feature_23+feature_9*feature_28'] = df['feature_17'] + df['feature_23'] + df['feature_9'] * df['feature_28']\n",
        "    df['feature_18+feature_23+feature_9*feature_28'] = df['feature_18'] + df['feature_23'] + df['feature_9'] * df['feature_28']\n",
        "    df['feature_18+feature_23+feature_22*feature_29'] = df['feature_18'] + df['feature_23'] + df['feature_22'] * df['feature_29']\n",
        "    df['feature_17+feature_23+feature_22*feature_21'] = df['feature_17'] + df['feature_23'] + df['feature_22'] * df['feature_21']\n",
        "    df['feature_18+feature_23+feature_3*feature_21'] = df['feature_18'] + df['feature_23'] + df['feature_3'] * df['feature_21']\n",
        "    df['feature_17+feature_23+feature_12*feature_21'] = df['feature_17'] + df['feature_23'] + df['feature_12'] * df['feature_21']\n",
        "    df['feature_17+feature_23+feature_22*feature_28'] = df['feature_17'] + df['feature_23'] + df['feature_22'] * df['feature_28']\n",
        "    df['feature_17+feature_23+feature_5*feature_21'] = df['feature_17'] + df['feature_23'] + df['feature_5'] * df['feature_21']\n",
        "    df['feature_18+feature_23+feature_22*feature_21'] = df['feature_18'] + df['feature_23'] + df['feature_22'] * df['feature_21']\n",
        "    df['feature_18+feature_23+feature_22*feature_28'] = df['feature_18'] + df['feature_23'] + df['feature_22'] * df['feature_28']\n",
        "    df['feature_17+feature_23+feature_9*feature_21'] = df['feature_17'] + df['feature_23'] + df['feature_9'] * df['feature_21']\n",
        "    df['feature_17+feature_23+feature_6*feature_29'] = df['feature_17'] + df['feature_23'] + df['feature_6'] * df['feature_29']\n",
        "    df['feature_17+feature_23+feature_3*feature_28'] = df['feature_17'] + df['feature_23'] + df['feature_3'] * df['feature_28']\n",
        "    df['feature_18+feature_23+feature_12*feature_21'] = df['feature_18'] + df['feature_23'] + df['feature_12'] * df['feature_21']\n",
        "    df['feature_17+feature_23+feature_6*feature_28'] = df['feature_17'] + df['feature_23'] + df['feature_6'] * df['feature_28']\n",
        "    df['feature_18+feature_23+feature_6*feature_29'] = df['feature_18'] + df['feature_23'] + df['feature_6'] * df['feature_29']\n",
        "    df['feature_17+feature_23+feature_2*feature_29'] = df['feature_17'] + df['feature_23'] + df['feature_2'] * df['feature_29']\n",
        "    df['feature_18+feature_23+feature_3*feature_28'] = df['feature_18'] + df['feature_23'] + df['feature_3'] * df['feature_28']\n",
        "    df['feature_18+feature_23+feature_5*feature_21'] = df['feature_18'] + df['feature_23'] + df['feature_5'] * df['feature_21']\n",
        "    df['feature_18+feature_23+feature_6*feature_28'] = df['feature_18'] + df['feature_23'] + df['feature_6'] * df['feature_28']\n",
        "    df['feature_18+feature_23+feature_2*feature_29'] = df['feature_18'] + df['feature_23'] + df['feature_2'] * df['feature_29']\n",
        "    df['feature_17+feature_23+feature_13*feature_29'] = df['feature_17'] + df['feature_23'] + df['feature_13'] * df['feature_29']\n",
        "    df['feature_18+feature_23+feature_9*feature_21'] = df['feature_18'] + df['feature_23'] + df['feature_9'] * df['feature_21']\n",
        "    df['feature_18+feature_23+feature_13*feature_29'] = df['feature_18'] + df['feature_23'] + df['feature_13'] * df['feature_29']\n",
        "    df['feature_17+feature_23+feature_10*feature_29'] = df['feature_17'] + df['feature_23'] + df['feature_10'] * df['feature_29']\n",
        "    df['feature_18+feature_23+feature_10*feature_29'] = df['feature_18'] + df['feature_23'] + df['feature_10'] * df['feature_29']\n",
        "    df['feature_17+feature_23+feature_13*feature_28'] = df['feature_17'] + df['feature_23'] + df['feature_13'] * df['feature_28']\n",
        "    df['feature_17+feature_23+feature_2*feature_21'] = df['feature_17'] + df['feature_23'] + df['feature_2'] * df['feature_21']\n",
        "    df['feature_17+feature_23+feature_2*feature_28'] = df['feature_17'] + df['feature_23'] + df['feature_2'] * df['feature_28']\n",
        "    df['feature_18+feature_23+feature_13*feature_28'] = df['feature_18'] + df['feature_23'] + df['feature_13'] * df['feature_28']\n",
        "    df['feature_23+feature_19+feature_11*feature_29'] = df['feature_23'] + df['feature_19'] + df['feature_11'] * df['feature_29']\n",
        "    df['feature_17+feature_23+feature_6*feature_21'] = df['feature_17'] + df['feature_23'] + df['feature_6'] * df['feature_21']\n",
        "    df['feature_18+feature_23+feature_2*feature_28'] = df['feature_18'] + df['feature_23'] + df['feature_2'] * df['feature_28']\n",
        "    df['feature_17+feature_23+feature_11+feature_21'] = df['feature_17'] + df['feature_23'] + df['feature_11'] + df['feature_21']\n",
        "    df['feature_17+feature_23+feature_4+feature_21'] = df['feature_17'] + df['feature_23'] + df['feature_4'] + df['feature_21']\n",
        "    df['feature_23+feature_19+feature_4*feature_29'] = df['feature_23'] + df['feature_19'] + df['feature_4'] * df['feature_29']\n",
        "    df['feature_18+feature_23+feature_2*feature_21'] = df['feature_18'] + df['feature_23'] + df['feature_2'] * df['feature_21']\n",
        "    df['feature_23+feature_19+feature_11*feature_28'] = df['feature_23'] + df['feature_19'] + df['feature_11'] * df['feature_28']\n",
        "    df['feature_17+feature_23+feature_19*feature_21'] = df['feature_17'] + df['feature_23'] + df['feature_19'] * df['feature_21']\n",
        "    df['feature_18+feature_23+feature_19*feature_21'] = df['feature_18'] + df['feature_23'] + df['feature_19'] * df['feature_21']\n",
        "    df['feature_17+feature_23+feature_16*feature_21'] = df['feature_17'] + df['feature_23'] + df['feature_16'] * df['feature_21']\n",
        "    df['feature_18+feature_23+feature_6*feature_21'] = df['feature_18'] + df['feature_23'] + df['feature_6'] * df['feature_21']\n",
        "    df['feature_18+feature_23+feature_11+feature_21'] = df['feature_18'] + df['feature_23'] + df['feature_11'] + df['feature_21']\n",
        "    df['feature_18+feature_23+feature_4+feature_21'] = df['feature_18'] + df['feature_23'] + df['feature_4'] + df['feature_21']\n",
        "    df['feature_18+feature_23+feature_5+feature_28'] = df['feature_18'] + df['feature_23'] + df['feature_5'] + df['feature_28']\n",
        "    df['feature_17+feature_23+feature_13*feature_21'] = df['feature_17'] + df['feature_23'] + df['feature_13'] * df['feature_21']\n",
        "    df['feature_17+feature_23+feature_5+feature_28'] = df['feature_17'] + df['feature_23'] + df['feature_5'] + df['feature_28']\n",
        "    df['feature_23+feature_19+feature_11*feature_21'] = df['feature_23'] + df['feature_19'] + df['feature_11'] * df['feature_21']\n",
        "    df['feature_18+feature_23+feature_4+feature_29'] = df['feature_18'] + df['feature_23'] + df['feature_4'] + df['feature_29']\n",
        "    df['feature_17+feature_23+feature_4+feature_29'] = df['feature_17'] + df['feature_23'] + df['feature_4'] + df['feature_29']\n",
        "    df['feature_18+feature_23+feature_4+feature_28'] = df['feature_18'] + df['feature_23'] + df['feature_4'] + df['feature_28']\n",
        "    df['feature_17+feature_23+feature_22+feature_28'] = df['feature_17'] + df['feature_23'] + df['feature_22'] + df['feature_28']\n",
        "    df['feature_17+feature_23+feature_4+feature_28'] = df['feature_17'] + df['feature_23'] + df['feature_4'] + df['feature_28']\n",
        "    df['feature_18+feature_23+feature_22+feature_28'] = df['feature_18'] + df['feature_23'] + df['feature_22'] + df['feature_28']\n",
        "    df['feature_23+feature_19+feature_3*feature_29'] = df['feature_23'] + df['feature_19'] + df['feature_3'] * df['feature_29']\n",
        "    df['feature_18+feature_23+feature_16*feature_21'] = df['feature_18'] + df['feature_23'] + df['feature_16'] * df['feature_21']\n",
        "    df['feature_18+feature_23+feature_13*feature_21'] = df['feature_18'] + df['feature_23'] + df['feature_13'] * df['feature_21']\n",
        "    df['feature_17+feature_23+feature_4*feature_26'] = df['feature_17'] + df['feature_23'] + df['feature_4'] * df['feature_26']\n",
        "    df['feature_17+feature_23+feature_10*feature_21'] = df['feature_17'] + df['feature_23'] + df['feature_10'] * df['feature_21']\n",
        "    df['feature_23+feature_19+feature_12*feature_29'] = df['feature_23'] + df['feature_19'] + df['feature_12'] * df['feature_29']\n",
        "    df['feature_17+feature_23+feature_10*feature_28'] = df['feature_17'] + df['feature_23'] + df['feature_10'] * df['feature_28']\n",
        "    df['feature_17+feature_23+feature_11*feature_26'] = df['feature_17'] + df['feature_23'] + df['feature_11'] * df['feature_26']\n",
        "    df['feature_23+feature_19+feature_4*feature_28'] = df['feature_23'] + df['feature_19'] + df['feature_4'] * df['feature_28']\n",
        "    df['feature_17+feature_23+feature_3+feature_21'] = df['feature_17'] + df['feature_23'] + df['feature_3'] + df['feature_21']\n",
        "    df['feature_23+feature_19+feature_4*feature_21'] = df['feature_23'] + df['feature_19'] + df['feature_4'] * df['feature_21']\n",
        "    df['feature_23+feature_19+feature_3*feature_21'] = df['feature_23'] + df['feature_19'] + df['feature_3'] * df['feature_21']\n",
        "    df['feature_18+feature_23+feature_10*feature_28'] = df['feature_18'] + df['feature_23'] + df['feature_10'] * df['feature_28']\n",
        "    return df"
      ],
      "execution_count": 192,
      "outputs": []
    },
    {
      "cell_type": "code",
      "metadata": {
        "id": "idwaOhDtNUzt"
      },
      "source": [
        "train = pd.read_csv(train_datalink_X)\n",
        "target = pd.read_csv(train_datalink_y)"
      ],
      "execution_count": 193,
      "outputs": []
    },
    {
      "cell_type": "code",
      "metadata": {
        "id": "bnBCTL8hbEEL"
      },
      "source": [
        "train = additional_feature(train)"
      ],
      "execution_count": 194,
      "outputs": []
    },
    {
      "cell_type": "code",
      "metadata": {
        "id": "KP865KeZclPh",
        "outputId": "a8ef034b-d9bc-4320-a326-ff8e65b7a3fb",
        "colab": {
          "base_uri": "https://localhost:8080/"
        }
      },
      "source": [
        "train.corrwith(target['target_b']).abs().sort_values(ascending=False)"
      ],
      "execution_count": 198,
      "outputs": [
        {
          "output_type": "execute_result",
          "data": {
            "text/plain": [
              "feature_17+feature_23+feature_4*feature_29     0.626883\n",
              "feature_18+feature_23+feature_4*feature_29     0.626694\n",
              "feature_17+feature_23+feature_11*feature_29    0.626538\n",
              "feature_18+feature_23+feature_11*feature_29    0.626390\n",
              "feature_17+feature_23+feature_11*feature_28    0.625907\n",
              "                                                 ...   \n",
              "feature_20                                     0.051908\n",
              "feature_24                                     0.040494\n",
              "feature_25                                     0.031161\n",
              "moons                                          0.011741\n",
              "feature_14                                     0.007604\n",
              "Length: 123, dtype: float64"
            ]
          },
          "metadata": {
            "tags": []
          },
          "execution_count": 198
        }
      ]
    },
    {
      "cell_type": "code",
      "metadata": {
        "id": "i4M8akJNOSQ3"
      },
      "source": [
        "test = pd.read_csv(hackathon_data_link)"
      ],
      "execution_count": 199,
      "outputs": []
    },
    {
      "cell_type": "code",
      "metadata": {
        "id": "-cb1gHO4d0_N",
        "outputId": "385b829e-3b9b-40a1-f782-589f37a606ad",
        "colab": {
          "base_uri": "https://localhost:8080/"
        }
      },
      "source": [
        "test = additional_feature(test)\n",
        "test.shape, train.shape"
      ],
      "execution_count": 200,
      "outputs": [
        {
          "output_type": "execute_result",
          "data": {
            "text/plain": [
              "((48537, 124), (91075, 124))"
            ]
          },
          "metadata": {
            "tags": []
          },
          "execution_count": 200
        }
      ]
    },
    {
      "cell_type": "code",
      "metadata": {
        "id": "IQw1NSMjd5zL"
      },
      "source": [
        "train.drop(columns=['id', 'moons'], inplace=True)\n",
        "test.drop(columns=['id', 'moons'], inplace=True)"
      ],
      "execution_count": 202,
      "outputs": []
    },
    {
      "cell_type": "code",
      "metadata": {
        "id": "njGPytRyeTTa"
      },
      "source": [
        "from sklearn.model_selection import train_test_split\n",
        "from sklearn.metrics import accuracy_score \n",
        "from sklearn.metrics import classification_report \n",
        "import requests\n",
        "from scipy import stats"
      ],
      "execution_count": 204,
      "outputs": []
    },
    {
      "cell_type": "code",
      "metadata": {
        "id": "1YT8JjQld7ws"
      },
      "source": [
        "def xg_boost_hackathon(data, target):\n",
        "    X, y = data, target\n",
        "    X_train, X_test, y_train, y_test = train_test_split(X, y, test_size=0.25, shuffle=False)\n",
        "    import lightgbm as lgb\n",
        "    train_set = lgb.Dataset(X_train, y_train)\n",
        "    val_set = lgb.Dataset(X_test, y_test)\n",
        "    params = {'n_estimators':5000,\n",
        "                'boosting_type': 'gbdt',\n",
        "                'objective': 'regression',\n",
        "                'metric': 'rmse',\n",
        "                'subsample': 0.75,\n",
        "                'subsample_freq': 1,\n",
        "                'learning_rate': 0.01,\n",
        "                'feature_fraction': 0.9,\n",
        "                'max_depth': 15,\n",
        "                'lambda_l1': 1,  \n",
        "                'lambda_l2': 1,\n",
        "                }\n",
        "\n",
        "    model = lgb.train(params, train_set, valid_sets=[train_set, val_set], verbose_eval = 100, early_stopping_rounds=100)\n",
        "\n",
        "    pred = model.predict(X_test)\n",
        "    scorer(y_test, pred)\n",
        "\n",
        "    return model"
      ],
      "execution_count": 203,
      "outputs": []
    },
    {
      "cell_type": "code",
      "metadata": {
        "id": "0_OLPWuxeWhZ"
      },
      "source": [
        "def scorer(y_test, y_pred):\n",
        "    score = (stats.spearmanr(y_test, y_pred))[0]\n",
        "    print('Score as calculated for the leader board (っಠ‿ಠ)っ {}'.format(score))"
      ],
      "execution_count": 205,
      "outputs": []
    },
    {
      "cell_type": "code",
      "metadata": {
        "id": "WNEi_nzeeOns",
        "outputId": "68331d21-5803-42da-8738-1ecaf4d2b429",
        "colab": {
          "base_uri": "https://localhost:8080/"
        }
      },
      "source": [
        "model_target_r = xg_boost_hackathon(train, target.target_r)\n",
        "# Making prediction for target g\n",
        "model_target_g = xg_boost_hackathon(train, target.target_g)\n",
        "# Making prediction for target b\n",
        "model_target_b = xg_boost_hackathon(train, target.target_b)"
      ],
      "execution_count": 206,
      "outputs": [
        {
          "output_type": "stream",
          "text": [
            "Training until validation scores don't improve for 100 rounds.\n",
            "[100]\ttraining's rmse: 0.327627\tvalid_1's rmse: 0.339066\n",
            "[200]\ttraining's rmse: 0.321809\tvalid_1's rmse: 0.335873\n",
            "[300]\ttraining's rmse: 0.319217\tvalid_1's rmse: 0.335692\n",
            "Early stopping, best iteration is:\n",
            "[258]\ttraining's rmse: 0.320166\tvalid_1's rmse: 0.335609\n",
            "Score as calculated for the leader board (っಠ‿ಠ)っ 0.3628602916232251\n",
            "Training until validation scores don't improve for 100 rounds.\n",
            "[100]\ttraining's rmse: 0.311591\tvalid_1's rmse: 0.309206\n",
            "[200]\ttraining's rmse: 0.302248\tvalid_1's rmse: 0.301867\n",
            "[300]\ttraining's rmse: 0.298846\tvalid_1's rmse: 0.300917\n",
            "[400]\ttraining's rmse: 0.29672\tvalid_1's rmse: 0.301121\n",
            "Early stopping, best iteration is:\n",
            "[309]\ttraining's rmse: 0.298626\tvalid_1's rmse: 0.30087\n",
            "Score as calculated for the leader board (っಠ‿ಠ)っ 0.5238083121210776\n",
            "Training until validation scores don't improve for 100 rounds.\n",
            "[100]\ttraining's rmse: 0.281872\tvalid_1's rmse: 0.279675\n",
            "[200]\ttraining's rmse: 0.267264\tvalid_1's rmse: 0.267919\n",
            "[300]\ttraining's rmse: 0.262789\tvalid_1's rmse: 0.266644\n",
            "[400]\ttraining's rmse: 0.260247\tvalid_1's rmse: 0.266988\n",
            "Early stopping, best iteration is:\n",
            "[317]\ttraining's rmse: 0.262285\tvalid_1's rmse: 0.266609\n",
            "Score as calculated for the leader board (っಠ‿ಠ)っ 0.6582857388315166\n"
          ],
          "name": "stdout"
        }
      ]
    },
    {
      "cell_type": "code",
      "metadata": {
        "id": "JIxGD6WDec8k"
      },
      "source": [
        "test  = additional_feature(test)"
      ],
      "execution_count": 207,
      "outputs": []
    },
    {
      "cell_type": "code",
      "metadata": {
        "id": "HwsqCA4ceq2E"
      },
      "source": [
        "prediction = pd.DataFrame()\n",
        "prediction['target_r'] = model_target_r.predict(test)\n",
        "prediction['target_g'] = model_target_g.predict(test)\n",
        "prediction['target_b'] = model_target_b.predict(test)"
      ],
      "execution_count": 209,
      "outputs": []
    },
    {
      "cell_type": "code",
      "metadata": {
        "id": "6FvQl9QBerwb",
        "outputId": "a885cde0-67a5-48da-e033-8b3300c01934",
        "colab": {
          "base_uri": "https://localhost:8080/"
        }
      },
      "source": [
        "API_KEY = \"0GIskIC9Rd1I8sMw6nStutbIbMx7AaZzAyNfuMOVAVWgJtNa1IVQHZAD3WPj\" # <- HERE\n",
        "\n",
        "r = requests.post(\"https://tournament.datacrunch.com/api/submission\",\n",
        "    files = {\n",
        "        \"file\": (\"x\", prediction.to_csv().encode('ascii'))\n",
        "    },\n",
        "    data = {\n",
        "        \"apiKey\": API_KEY\n",
        "    },\n",
        ")\n",
        "\n",
        "if r.status_code == 200:\n",
        "    print(\"Submission submitted :)\")\n",
        "elif r.status_code == 423:\n",
        "    print(\"ERR: Submissions are close\")\n",
        "    print(\"You can only submit during rounds eg: Friday 7pm GMT+1 to Sunday midnight GMT+1.\")\n",
        "    print(\"Or the server is currently crunching the submitted files, please wait some time before retrying.\")\n",
        "elif r.status_code == 422:\n",
        "    print(\"ERR: API Key is missing or empty\")\n",
        "    print(\"Did you forget to fill the API_KEY variable?\")\n",
        "elif r.status_code == 404:\n",
        "    print(\"ERR: Unknown API Key\")\n",
        "    print(\"You should check that the provided API key is valid and is the same as the one you've received by email.\")\n",
        "elif r.status_code == 400:\n",
        "    print(\"ERR: The file must not be empty\")\n",
        "    print(\"You have send a empty file.\")\n",
        "elif r.status_code == 401:\n",
        "    print(\"ERR: Your email hasn't been verified\")\n",
        "    print(\"Please verify your email or contact a cruncher.\")\n",
        "elif r.status_code == 429:\n",
        "    print(\"ERR: Too many submissions\")\n",
        "else:\n",
        "    print(\"ERR: Server returned: \" + str(r.status_code))\n",
        "    print(\"Ouch! It seems that we were not expecting this kind of result from the server, if the probleme persist, contact a cruncher.\")"
      ],
      "execution_count": 210,
      "outputs": [
        {
          "output_type": "stream",
          "text": [
            "Submission submitted :)\n"
          ],
          "name": "stdout"
        }
      ]
    },
    {
      "cell_type": "code",
      "metadata": {
        "id": "IJCG7kX1e4tF",
        "outputId": "a2b69863-5d8d-4462-bcb4-5750dd352fe2",
        "colab": {
          "base_uri": "https://localhost:8080/"
        }
      },
      "source": [
        "46.86 * 3.24"
      ],
      "execution_count": 211,
      "outputs": [
        {
          "output_type": "execute_result",
          "data": {
            "text/plain": [
              "151.8264"
            ]
          },
          "metadata": {
            "tags": []
          },
          "execution_count": 211
        }
      ]
    },
    {
      "cell_type": "code",
      "metadata": {
        "id": "2WIE4pRQfD7v"
      },
      "source": [
        ""
      ],
      "execution_count": null,
      "outputs": []
    }
  ]
}