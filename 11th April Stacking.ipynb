{
  "nbformat": 4,
  "nbformat_minor": 0,
  "metadata": {
    "colab": {
      "name": "scratchpad",
      "provenance": [],
      "machine_shape": "hm",
      "include_colab_link": true
    },
    "kernelspec": {
      "display_name": "Python 3",
      "name": "python3"
    }
  },
  "cells": [
    {
      "cell_type": "markdown",
      "metadata": {
        "id": "view-in-github",
        "colab_type": "text"
      },
      "source": [
        "<a href=\"https://colab.research.google.com/github/pratik-poudel/datacrunch/blob/main/11th%20April%20Stacking.ipynb\" target=\"_parent\"><img src=\"https://colab.research.google.com/assets/colab-badge.svg\" alt=\"Open In Colab\"/></a>"
      ]
    },
    {
      "cell_type": "code",
      "metadata": {
        "id": "lIYdn1woOS1n"
      },
      "source": [
        "import numpy as np\n",
        "import pandas as pd\n",
        "from collections import defaultdict\n",
        "from tqdm.notebook import tqdm\n",
        "from matplotlib import pyplot as plt\n",
        "import warnings\n",
        "warnings.filterwarnings('ignore')\n",
        "import seaborn as sns\n",
        "import gc\n",
        "# pd.options.display.float_format| = \"{:.2f}\".format\n",
        "pd.options.display.max_columns = 500\n",
        "\n",
        "\n",
        "from sklearn.model_selection import train_test_split\n",
        "from sklearn.metrics import accuracy_score \n",
        "from sklearn.metrics import classification_report \n",
        "import requests\n",
        "from scipy import stats\n",
        "\n",
        "import lightgbm as lgb"
      ],
      "execution_count": 1,
      "outputs": []
    },
    {
      "cell_type": "code",
      "metadata": {
        "id": "WlAILdRkw9Oj"
      },
      "source": [
        "train_datalink_X = 'https://tournament.datacrunch.com/data/X_train.csv'  \n",
        "train_datalink_y = 'https://tournament.datacrunch.com/data/y_train.csv'\n",
        "hackathon_data_link = 'https://tournament.datacrunch.com/data/X_test.csv'\n",
        "\n",
        "train = pd.read_csv(train_datalink_X)\n",
        "target = pd.read_csv(train_datalink_y)\n",
        "test = pd.read_csv(hackathon_data_link)"
      ],
      "execution_count": 2,
      "outputs": []
    },
    {
      "cell_type": "code",
      "metadata": {
        "id": "FVA2qi_tn4au",
        "outputId": "49f54327-3a97-4664-8505-a442705b1d7f",
        "colab": {
          "base_uri": "https://localhost:8080/"
        }
      },
      "source": [
        "print(train.shape, test.shape)"
      ],
      "execution_count": 3,
      "outputs": [
        {
          "output_type": "stream",
          "text": [
            "(91075, 31) (48537, 31)\n"
          ],
          "name": "stdout"
        }
      ]
    },
    {
      "cell_type": "code",
      "metadata": {
        "id": "Xsohav-doHEa",
        "outputId": "ed2cbe78-afc8-459c-9c38-db8ea6365328",
        "colab": {
          "base_uri": "https://localhost:8080/",
          "height": 217
        }
      },
      "source": [
        "train.head()"
      ],
      "execution_count": 4,
      "outputs": [
        {
          "output_type": "execute_result",
          "data": {
            "text/html": [
              "<div>\n",
              "<style scoped>\n",
              "    .dataframe tbody tr th:only-of-type {\n",
              "        vertical-align: middle;\n",
              "    }\n",
              "\n",
              "    .dataframe tbody tr th {\n",
              "        vertical-align: top;\n",
              "    }\n",
              "\n",
              "    .dataframe thead th {\n",
              "        text-align: right;\n",
              "    }\n",
              "</style>\n",
              "<table border=\"1\" class=\"dataframe\">\n",
              "  <thead>\n",
              "    <tr style=\"text-align: right;\">\n",
              "      <th></th>\n",
              "      <th>id</th>\n",
              "      <th>moons</th>\n",
              "      <th>feature_1</th>\n",
              "      <th>feature_2</th>\n",
              "      <th>feature_3</th>\n",
              "      <th>feature_4</th>\n",
              "      <th>feature_5</th>\n",
              "      <th>feature_6</th>\n",
              "      <th>feature_7</th>\n",
              "      <th>feature_8</th>\n",
              "      <th>feature_9</th>\n",
              "      <th>feature_10</th>\n",
              "      <th>feature_11</th>\n",
              "      <th>feature_12</th>\n",
              "      <th>feature_13</th>\n",
              "      <th>feature_14</th>\n",
              "      <th>feature_15</th>\n",
              "      <th>feature_16</th>\n",
              "      <th>feature_17</th>\n",
              "      <th>feature_18</th>\n",
              "      <th>feature_19</th>\n",
              "      <th>feature_20</th>\n",
              "      <th>feature_21</th>\n",
              "      <th>feature_22</th>\n",
              "      <th>feature_23</th>\n",
              "      <th>feature_24</th>\n",
              "      <th>feature_25</th>\n",
              "      <th>feature_26</th>\n",
              "      <th>feature_27</th>\n",
              "      <th>feature_28</th>\n",
              "      <th>feature_29</th>\n",
              "    </tr>\n",
              "  </thead>\n",
              "  <tbody>\n",
              "    <tr>\n",
              "      <th>0</th>\n",
              "      <td>0x5314efb4ebe6edb3</td>\n",
              "      <td>0</td>\n",
              "      <td>0.00</td>\n",
              "      <td>0.00</td>\n",
              "      <td>0.00</td>\n",
              "      <td>0.25</td>\n",
              "      <td>0.25</td>\n",
              "      <td>0.25</td>\n",
              "      <td>0.00</td>\n",
              "      <td>0.25</td>\n",
              "      <td>0.50</td>\n",
              "      <td>0.50</td>\n",
              "      <td>0.50</td>\n",
              "      <td>0.25</td>\n",
              "      <td>0.50</td>\n",
              "      <td>1.00</td>\n",
              "      <td>0.00</td>\n",
              "      <td>0.00</td>\n",
              "      <td>0.25</td>\n",
              "      <td>0.25</td>\n",
              "      <td>0.25</td>\n",
              "      <td>1.00</td>\n",
              "      <td>0.00</td>\n",
              "      <td>0.25</td>\n",
              "      <td>0.25</td>\n",
              "      <td>1.00</td>\n",
              "      <td>0.75</td>\n",
              "      <td>0.25</td>\n",
              "      <td>0.50</td>\n",
              "      <td>0.50</td>\n",
              "      <td>0.50</td>\n",
              "    </tr>\n",
              "    <tr>\n",
              "      <th>1</th>\n",
              "      <td>0xdce321dc608a6e75</td>\n",
              "      <td>0</td>\n",
              "      <td>0.50</td>\n",
              "      <td>0.00</td>\n",
              "      <td>0.25</td>\n",
              "      <td>0.00</td>\n",
              "      <td>0.25</td>\n",
              "      <td>0.25</td>\n",
              "      <td>0.75</td>\n",
              "      <td>0.50</td>\n",
              "      <td>0.00</td>\n",
              "      <td>0.00</td>\n",
              "      <td>0.00</td>\n",
              "      <td>0.00</td>\n",
              "      <td>0.00</td>\n",
              "      <td>0.75</td>\n",
              "      <td>0.00</td>\n",
              "      <td>0.25</td>\n",
              "      <td>0.25</td>\n",
              "      <td>0.25</td>\n",
              "      <td>0.25</td>\n",
              "      <td>0.50</td>\n",
              "      <td>0.25</td>\n",
              "      <td>0.00</td>\n",
              "      <td>0.50</td>\n",
              "      <td>0.00</td>\n",
              "      <td>1.00</td>\n",
              "      <td>0.00</td>\n",
              "      <td>0.25</td>\n",
              "      <td>1.00</td>\n",
              "      <td>1.00</td>\n",
              "    </tr>\n",
              "    <tr>\n",
              "      <th>2</th>\n",
              "      <td>0x5638d323a6eb0d6</td>\n",
              "      <td>0</td>\n",
              "      <td>0.00</td>\n",
              "      <td>0.00</td>\n",
              "      <td>0.00</td>\n",
              "      <td>0.00</td>\n",
              "      <td>0.00</td>\n",
              "      <td>0.00</td>\n",
              "      <td>0.50</td>\n",
              "      <td>0.25</td>\n",
              "      <td>0.00</td>\n",
              "      <td>0.00</td>\n",
              "      <td>0.00</td>\n",
              "      <td>0.00</td>\n",
              "      <td>0.00</td>\n",
              "      <td>0.75</td>\n",
              "      <td>0.25</td>\n",
              "      <td>0.00</td>\n",
              "      <td>0.00</td>\n",
              "      <td>0.00</td>\n",
              "      <td>0.00</td>\n",
              "      <td>0.50</td>\n",
              "      <td>0.00</td>\n",
              "      <td>0.00</td>\n",
              "      <td>0.00</td>\n",
              "      <td>0.75</td>\n",
              "      <td>0.00</td>\n",
              "      <td>1.00</td>\n",
              "      <td>1.00</td>\n",
              "      <td>0.50</td>\n",
              "      <td>0.50</td>\n",
              "    </tr>\n",
              "    <tr>\n",
              "      <th>3</th>\n",
              "      <td>0x76913fe81685babe</td>\n",
              "      <td>0</td>\n",
              "      <td>0.25</td>\n",
              "      <td>0.25</td>\n",
              "      <td>0.25</td>\n",
              "      <td>0.25</td>\n",
              "      <td>0.25</td>\n",
              "      <td>0.25</td>\n",
              "      <td>0.50</td>\n",
              "      <td>0.75</td>\n",
              "      <td>0.25</td>\n",
              "      <td>0.25</td>\n",
              "      <td>0.25</td>\n",
              "      <td>0.25</td>\n",
              "      <td>0.25</td>\n",
              "      <td>0.75</td>\n",
              "      <td>0.50</td>\n",
              "      <td>0.50</td>\n",
              "      <td>0.25</td>\n",
              "      <td>0.25</td>\n",
              "      <td>0.50</td>\n",
              "      <td>0.50</td>\n",
              "      <td>0.50</td>\n",
              "      <td>0.25</td>\n",
              "      <td>0.25</td>\n",
              "      <td>0.50</td>\n",
              "      <td>0.75</td>\n",
              "      <td>0.00</td>\n",
              "      <td>0.00</td>\n",
              "      <td>1.00</td>\n",
              "      <td>0.75</td>\n",
              "    </tr>\n",
              "    <tr>\n",
              "      <th>4</th>\n",
              "      <td>0xadb2bb2a7f67542f</td>\n",
              "      <td>0</td>\n",
              "      <td>0.50</td>\n",
              "      <td>1.00</td>\n",
              "      <td>1.00</td>\n",
              "      <td>1.00</td>\n",
              "      <td>1.00</td>\n",
              "      <td>1.00</td>\n",
              "      <td>0.50</td>\n",
              "      <td>0.25</td>\n",
              "      <td>1.00</td>\n",
              "      <td>1.00</td>\n",
              "      <td>1.00</td>\n",
              "      <td>1.00</td>\n",
              "      <td>1.00</td>\n",
              "      <td>0.75</td>\n",
              "      <td>0.75</td>\n",
              "      <td>0.75</td>\n",
              "      <td>0.75</td>\n",
              "      <td>0.75</td>\n",
              "      <td>1.00</td>\n",
              "      <td>0.75</td>\n",
              "      <td>1.00</td>\n",
              "      <td>1.00</td>\n",
              "      <td>1.00</td>\n",
              "      <td>1.00</td>\n",
              "      <td>0.50</td>\n",
              "      <td>1.00</td>\n",
              "      <td>1.00</td>\n",
              "      <td>0.75</td>\n",
              "      <td>0.50</td>\n",
              "    </tr>\n",
              "  </tbody>\n",
              "</table>\n",
              "</div>"
            ],
            "text/plain": [
              "                   id  moons  feature_1  feature_2  feature_3  feature_4  \\\n",
              "0  0x5314efb4ebe6edb3      0       0.00       0.00       0.00       0.25   \n",
              "1  0xdce321dc608a6e75      0       0.50       0.00       0.25       0.00   \n",
              "2   0x5638d323a6eb0d6      0       0.00       0.00       0.00       0.00   \n",
              "3  0x76913fe81685babe      0       0.25       0.25       0.25       0.25   \n",
              "4  0xadb2bb2a7f67542f      0       0.50       1.00       1.00       1.00   \n",
              "\n",
              "   feature_5  feature_6  feature_7  feature_8  feature_9  feature_10  \\\n",
              "0       0.25       0.25       0.00       0.25       0.50        0.50   \n",
              "1       0.25       0.25       0.75       0.50       0.00        0.00   \n",
              "2       0.00       0.00       0.50       0.25       0.00        0.00   \n",
              "3       0.25       0.25       0.50       0.75       0.25        0.25   \n",
              "4       1.00       1.00       0.50       0.25       1.00        1.00   \n",
              "\n",
              "   feature_11  feature_12  feature_13  feature_14  feature_15  feature_16  \\\n",
              "0        0.50        0.25        0.50        1.00        0.00        0.00   \n",
              "1        0.00        0.00        0.00        0.75        0.00        0.25   \n",
              "2        0.00        0.00        0.00        0.75        0.25        0.00   \n",
              "3        0.25        0.25        0.25        0.75        0.50        0.50   \n",
              "4        1.00        1.00        1.00        0.75        0.75        0.75   \n",
              "\n",
              "   feature_17  feature_18  feature_19  feature_20  feature_21  feature_22  \\\n",
              "0        0.25        0.25        0.25        1.00        0.00        0.25   \n",
              "1        0.25        0.25        0.25        0.50        0.25        0.00   \n",
              "2        0.00        0.00        0.00        0.50        0.00        0.00   \n",
              "3        0.25        0.25        0.50        0.50        0.50        0.25   \n",
              "4        0.75        0.75        1.00        0.75        1.00        1.00   \n",
              "\n",
              "   feature_23  feature_24  feature_25  feature_26  feature_27  feature_28  \\\n",
              "0        0.25        1.00        0.75        0.25        0.50        0.50   \n",
              "1        0.50        0.00        1.00        0.00        0.25        1.00   \n",
              "2        0.00        0.75        0.00        1.00        1.00        0.50   \n",
              "3        0.25        0.50        0.75        0.00        0.00        1.00   \n",
              "4        1.00        1.00        0.50        1.00        1.00        0.75   \n",
              "\n",
              "   feature_29  \n",
              "0        0.50  \n",
              "1        1.00  \n",
              "2        0.50  \n",
              "3        0.75  \n",
              "4        0.50  "
            ]
          },
          "metadata": {
            "tags": []
          },
          "execution_count": 4
        }
      ]
    },
    {
      "cell_type": "code",
      "metadata": {
        "id": "ophtKf14xA9F"
      },
      "source": [
        "def scorer(y_test, y_pred):\n",
        "    score = (stats.spearmanr(y_test, y_pred))[0]\n",
        "    print('Score as calculated for the leader board (っಠ‿ಠ)っ {}'.format(score))\n",
        "    return score"
      ],
      "execution_count": 13,
      "outputs": []
    },
    {
      "cell_type": "code",
      "metadata": {
        "id": "VCva33z-xFwh"
      },
      "source": [
        "import sklearn\n",
        "from sklearn.utils.testing import all_estimators\n",
        "from sklearn.base import RegressorMixin"
      ],
      "execution_count": 14,
      "outputs": []
    },
    {
      "cell_type": "code",
      "metadata": {
        "id": "YhysNmyu5WYU",
        "colab": {
          "base_uri": "https://localhost:8080/",
          "height": 35
        },
        "outputId": "c53f363c-6810-4c68-a51a-f2a38a2de0b4"
      },
      "source": [
        "sklearn.__version__"
      ],
      "execution_count": 15,
      "outputs": [
        {
          "output_type": "execute_result",
          "data": {
            "application/vnd.google.colaboratory.intrinsic+json": {
              "type": "string"
            },
            "text/plain": [
              "'0.22.2.post1'"
            ]
          },
          "metadata": {
            "tags": []
          },
          "execution_count": 15
        }
      ]
    },
    {
      "cell_type": "code",
      "metadata": {
        "id": "oLBcYs264vwI"
      },
      "source": [
        "from sklearn import *\n",
        "from sklearn.experimental import enable_hist_gradient_boosting"
      ],
      "execution_count": 16,
      "outputs": []
    },
    {
      "cell_type": "code",
      "metadata": {
        "id": "yyNvwqmzxYiT"
      },
      "source": [
        "regressors = [\n",
        "                ('AdaBoostRegressor', sklearn.ensemble.AdaBoostRegressor()),\n",
        "                ('BaggingRegressor', sklearn.ensemble.BaggingRegressor()),\n",
        "                ('BayesianRidge', sklearn.linear_model.BayesianRidge()),\n",
        "                ('DecisionTreeRegressor', sklearn.tree.DecisionTreeRegressor()),\n",
        "                ('ElasticNet', sklearn.linear_model.ElasticNet()),\n",
        "                ('ExtraTreeRegressor', sklearn.tree.ExtraTreeRegressor()),\n",
        "                ('ExtraTreesRegressor', sklearn.ensemble.ExtraTreesRegressor()),\n",
        "                ('GradientBoostingRegressor', sklearn.ensemble.GradientBoostingRegressor()),\n",
        "                ('HistGradientBoostingRegressor',sklearn.ensemble.HistGradientBoostingRegressor()),\n",
        "                ('HuberRegressor', sklearn.linear_model.HuberRegressor()),\n",
        "                ('Lars', sklearn.linear_model.Lars()),\n",
        "                ('Lasso', sklearn.linear_model.Lasso()),\n",
        "                ('LassoLars', sklearn.linear_model.LassoLars()),\n",
        "                ('LassoLarsIC', sklearn.linear_model.LassoLarsIC()),\n",
        "                ('LinearRegression', sklearn.linear_model.LinearRegression()),\n",
        "                ('OrthogonalMatchingPursuit',sklearn.linear_model.OrthogonalMatchingPursuit()),\n",
        "                ('PassiveAggressiveRegressor',sklearn.linear_model.PassiveAggressiveRegressor()),\n",
        "                ('RANSACRegressor', sklearn.linear_model.RANSACRegressor()),\n",
        "                ('RandomForestRegressor', sklearn.ensemble.RandomForestRegressor()),\n",
        "                ('Ridge', sklearn.linear_model.Ridge()),\n",
        "                ('SGDRegressor', sklearn.linear_model.SGDRegressor()),\n",
        "                ('TransformedTargetRegressor',sklearn.compose.TransformedTargetRegressor())\n",
        "                \n",
        "                ]"
      ],
      "execution_count": 17,
      "outputs": []
    },
    {
      "cell_type": "code",
      "metadata": {
        "id": "ciaytIN0yUCN"
      },
      "source": [
        "from sklearn.metrics import make_scorer\n",
        "from sklearn.model_selection import RepeatedKFold, cross_val_score\n",
        "my_scorer = make_scorer(scorer, greater_is_better=True)\n",
        "\n",
        "feat= [f for f in train.columns if \"feature\" in f]\n",
        "\n",
        "cv = RepeatedKFold(n_splits=3, n_repeats=2, random_state=60)"
      ],
      "execution_count": 22,
      "outputs": []
    },
    {
      "cell_type": "code",
      "metadata": {
        "id": "xjQZAiDXoXyU"
      },
      "source": [
        "# train[feat].corrwith(target.target_r).abs().sort_values()"
      ],
      "execution_count": null,
      "outputs": []
    },
    {
      "cell_type": "markdown",
      "metadata": {
        "id": "UJPqXbWF2jIB"
      },
      "source": [
        "# TARGET R"
      ]
    },
    {
      "cell_type": "code",
      "metadata": {
        "colab": {
          "base_uri": "https://localhost:8080/",
          "height": 946
        },
        "id": "ZtDeHb2S0Ev0",
        "outputId": "b2e31d64-e64c-428b-a215-02839c3612ff"
      },
      "source": [
        "%%time\n",
        "results, names = list(), list()\n",
        "mean_scores = []\n",
        "std_scores = []\n",
        "for name, model in regressors:\n",
        "    if 'random_state' in model.get_params().keys():\n",
        "        model.set_params(random_state=60)\n",
        "    start = time.time()\n",
        "    scores = cross_val_score(model, train[feat], target['target_g'], scoring=my_scorer, n_jobs=-1, cv= cv)\n",
        "    results.append(scores)\n",
        "    names.append(name)\n",
        "    mean_scores.append(np.mean(scores))\n",
        "    std_scores.append(np.std(scores))\n",
        "    end = time.time()\n",
        "    print('>%s %.3f (%.3f), (%.3f)' % (name, np.mean(scores), np.std(scores), end-start))\n",
        "\n",
        "df1 = pd.DataFrame(np.column_stack([names, mean_scores, std_scores]), \n",
        "                   columns=['models', 'mean_score', 'std_score'])\n",
        "df2 = pd.DataFrame(results, columns=[\"\".join('score'+ str(i)) for i in range(6) ])\n",
        "final_df = pd.concat([df1, df2], axis=1)\n",
        "int_cols = [f for f in final_df.columns if \"score\" in f]\n",
        "for i in int_cols:\n",
        "    final_df[i] = final_df[i].astype('float')\n",
        "\n",
        "final_df.sort_values('mean_score', ascending=False, inplace=True)\n",
        "\n",
        "plt.figure(figsize=(12, 6))\n",
        "plt.boxplot(final_df.iloc[:, 3:].values.tolist(), labels=final_df['models'].to_list(), showmeans=True, )\n",
        "plt.xticks(rotation = 90)\n",
        "plt.show()"
      ],
      "execution_count": 26,
      "outputs": [
        {
          "output_type": "stream",
          "text": [
            ">AdaBoostRegressor 0.347 (0.003)\n",
            ">BaggingRegressor 0.319 (0.004)\n",
            ">BayesianRidge 0.368 (0.004)\n",
            ">DecisionTreeRegressor 0.165 (0.004)\n",
            ">ElasticNet nan (nan)\n",
            ">ExtraTreeRegressor 0.162 (0.007)\n",
            ">ExtraTreesRegressor 0.376 (0.004)\n",
            ">GradientBoostingRegressor 0.388 (0.004)\n",
            ">HistGradientBoostingRegressor 0.401 (0.005)\n",
            ">HuberRegressor 0.368 (0.004)\n",
            ">Lars 0.342 (0.042)\n",
            ">Lasso nan (nan)\n",
            ">LassoLars nan (nan)\n",
            ">LassoLarsIC 0.368 (0.004)\n",
            ">LinearRegression 0.368 (0.004)\n",
            ">OrthogonalMatchingPursuit 0.340 (0.005)\n",
            ">PassiveAggressiveRegressor 0.265 (0.040)\n",
            ">RANSACRegressor 0.145 (0.032)\n",
            ">RandomForestRegressor 0.388 (0.005)\n",
            ">Ridge 0.368 (0.004)\n",
            ">SGDRegressor 0.367 (0.004)\n",
            ">TransformedTargetRegressor 0.368 (0.004)\n"
          ],
          "name": "stdout"
        },
        {
          "output_type": "display_data",
          "data": {
            "image/png": "[encoded data removed]",
            "text/plain": [
              "<Figure size 864x432 with 1 Axes>"
            ]
          },
          "metadata": {
            "tags": [],
            "needs_background": "light"
          }
        },
        {
          "output_type": "stream",
          "text": [
            "CPU times: user 3.79 s, sys: 569 ms, total: 4.36 s\n",
            "Wall time: 4min 58s\n"
          ],
          "name": "stdout"
        }
      ]
    },
    {
      "cell_type": "code",
      "metadata": {
        "id": "bOHmHU4zCF8-"
      },
      "source": [
        ""
      ],
      "execution_count": null,
      "outputs": []
    },
    {
      "cell_type": "markdown",
      "metadata": {
        "id": "WiUfkq8X2uGh"
      },
      "source": [
        "# TARGET G"
      ]
    },
    {
      "cell_type": "code",
      "metadata": {
        "colab": {
          "base_uri": "https://localhost:8080/",
          "height": 946
        },
        "id": "JvxiMLc-2uGy",
        "outputId": "b2ef4c4f-247d-4f3c-ce14-f273dc3bf2f2"
      },
      "source": [
        "%%time\n",
        "import time\n",
        "results, names = list(), list()\n",
        "mean_scores = []\n",
        "std_scores = []\n",
        "for name, model in regressors:\n",
        "    if 'random_state' in model.get_params().keys():\n",
        "        model.set_params(random_state=60)\n",
        "    start = time.time()\n",
        "    scores = cross_val_score(model, train[feat], target['target_g'], scoring=my_scorer, n_jobs=-1, cv= cv)\n",
        "    results.append(scores)\n",
        "    names.append(name)\n",
        "    mean_scores.append(np.mean(scores))\n",
        "    std_scores.append(np.std(scores))\n",
        "    end = time.time()\n",
        "    print('>%s %.3f (%.3f), (%.3f)' % (name, np.mean(scores), np.std(scores), end-start))\n",
        "\n",
        "df1 = pd.DataFrame(np.column_stack([names, mean_scores, std_scores]), \n",
        "                   columns=['models', 'mean_score', 'std_score'])\n",
        "df2 = pd.DataFrame(results, columns=[\"\".join('score'+ str(i)) for i in range(6) ])\n",
        "final_df = pd.concat([df1, df2], axis=1)\n",
        "int_cols = [f for f in final_df.columns if \"score\" in f]\n",
        "for i in int_cols:\n",
        "    final_df[i] = final_df[i].astype('float')\n",
        "\n",
        "final_df.sort_values('mean_score', ascending=False, inplace=True)\n",
        "\n",
        "plt.figure(figsize=(12, 6))\n",
        "plt.boxplot(final_df.iloc[:, 3:].values.tolist(), labels=final_df['models'].to_list(), showmeans=True, )\n",
        "plt.xticks(rotation = 90)\n",
        "plt.show()"
      ],
      "execution_count": 31,
      "outputs": [
        {
          "output_type": "stream",
          "text": [
            ">AdaBoostRegressor 0.485 (0.005), (7.276)\n",
            ">BaggingRegressor 0.467 (0.002), (12.073)\n",
            ">BayesianRidge 0.503 (0.003), (0.544)\n",
            ">DecisionTreeRegressor 0.281 (0.004), (2.021)\n",
            ">ElasticNet nan (nan), (0.283)\n",
            ">ExtraTreeRegressor 0.278 (0.007), (1.324)\n",
            ">ExtraTreesRegressor 0.520 (0.002), (110.316)\n",
            ">GradientBoostingRegressor 0.524 (0.002), (32.043)\n",
            ">HistGradientBoostingRegressor 0.538 (0.002), (4.877)\n",
            ">HuberRegressor 0.503 (0.003), (4.346)\n",
            ">Lars 0.499 (0.008), (0.307)\n",
            ">Lasso nan (nan), (0.275)\n",
            ">LassoLars nan (nan), (0.289)\n",
            ">LassoLarsIC 0.503 (0.003), (0.366)\n",
            ">LinearRegression 0.503 (0.003), (0.402)\n",
            ">OrthogonalMatchingPursuit 0.468 (0.002), (0.282)\n",
            ">PassiveAggressiveRegressor 0.434 (0.029), (0.539)\n",
            ">RANSACRegressor 0.267 (0.052), (1.485)\n",
            ">RandomForestRegressor 0.525 (0.002), (114.821)\n",
            ">Ridge 0.503 (0.003), (0.352)\n",
            ">SGDRegressor 0.503 (0.003), (0.972)\n",
            ">TransformedTargetRegressor 0.503 (0.003), (0.407)\n"
          ],
          "name": "stdout"
        },
        {
          "output_type": "display_data",
          "data": {
            "image/png": "[encoded data removed]",
            "text/plain": [
              "<Figure size 864x432 with 1 Axes>"
            ]
          },
          "metadata": {
            "tags": [],
            "needs_background": "light"
          }
        },
        {
          "output_type": "stream",
          "text": [
            "CPU times: user 3.85 s, sys: 714 ms, total: 4.56 s\n",
            "Wall time: 4min 56s\n"
          ],
          "name": "stdout"
        }
      ]
    },
    {
      "cell_type": "code",
      "metadata": {
        "id": "fj7Q_k6t2uG0",
        "outputId": "f6748119-7ba6-4bf4-a938-681d03d9ebef",
        "colab": {
          "base_uri": "https://localhost:8080/",
          "height": 707
        }
      },
      "source": [
        "final_df"
      ],
      "execution_count": 32,
      "outputs": [
        {
          "output_type": "execute_result",
          "data": {
            "text/html": [
              "<div>\n",
              "<style scoped>\n",
              "    .dataframe tbody tr th:only-of-type {\n",
              "        vertical-align: middle;\n",
              "    }\n",
              "\n",
              "    .dataframe tbody tr th {\n",
              "        vertical-align: top;\n",
              "    }\n",
              "\n",
              "    .dataframe thead th {\n",
              "        text-align: right;\n",
              "    }\n",
              "</style>\n",
              "<table border=\"1\" class=\"dataframe\">\n",
              "  <thead>\n",
              "    <tr style=\"text-align: right;\">\n",
              "      <th></th>\n",
              "      <th>models</th>\n",
              "      <th>mean_score</th>\n",
              "      <th>std_score</th>\n",
              "      <th>score0</th>\n",
              "      <th>score1</th>\n",
              "      <th>score2</th>\n",
              "      <th>score3</th>\n",
              "      <th>score4</th>\n",
              "      <th>score5</th>\n",
              "    </tr>\n",
              "  </thead>\n",
              "  <tbody>\n",
              "    <tr>\n",
              "      <th>8</th>\n",
              "      <td>HistGradientBoostingRegressor</td>\n",
              "      <td>0.538384</td>\n",
              "      <td>0.002417</td>\n",
              "      <td>0.536784</td>\n",
              "      <td>0.542405</td>\n",
              "      <td>0.535199</td>\n",
              "      <td>0.536674</td>\n",
              "      <td>0.539917</td>\n",
              "      <td>0.539327</td>\n",
              "    </tr>\n",
              "    <tr>\n",
              "      <th>18</th>\n",
              "      <td>RandomForestRegressor</td>\n",
              "      <td>0.525327</td>\n",
              "      <td>0.002183</td>\n",
              "      <td>0.524024</td>\n",
              "      <td>0.527006</td>\n",
              "      <td>0.522424</td>\n",
              "      <td>0.523320</td>\n",
              "      <td>0.528410</td>\n",
              "      <td>0.526777</td>\n",
              "    </tr>\n",
              "    <tr>\n",
              "      <th>7</th>\n",
              "      <td>GradientBoostingRegressor</td>\n",
              "      <td>0.524376</td>\n",
              "      <td>0.002260</td>\n",
              "      <td>0.523923</td>\n",
              "      <td>0.527698</td>\n",
              "      <td>0.520938</td>\n",
              "      <td>0.522457</td>\n",
              "      <td>0.526258</td>\n",
              "      <td>0.524982</td>\n",
              "    </tr>\n",
              "    <tr>\n",
              "      <th>6</th>\n",
              "      <td>ExtraTreesRegressor</td>\n",
              "      <td>0.519630</td>\n",
              "      <td>0.001763</td>\n",
              "      <td>0.520044</td>\n",
              "      <td>0.521921</td>\n",
              "      <td>0.516293</td>\n",
              "      <td>0.519132</td>\n",
              "      <td>0.520973</td>\n",
              "      <td>0.519415</td>\n",
              "    </tr>\n",
              "    <tr>\n",
              "      <th>2</th>\n",
              "      <td>BayesianRidge</td>\n",
              "      <td>0.503048</td>\n",
              "      <td>0.002739</td>\n",
              "      <td>0.501923</td>\n",
              "      <td>0.505964</td>\n",
              "      <td>0.501252</td>\n",
              "      <td>0.500025</td>\n",
              "      <td>0.507586</td>\n",
              "      <td>0.501538</td>\n",
              "    </tr>\n",
              "    <tr>\n",
              "      <th>19</th>\n",
              "      <td>Ridge</td>\n",
              "      <td>0.503044</td>\n",
              "      <td>0.002751</td>\n",
              "      <td>0.501917</td>\n",
              "      <td>0.505971</td>\n",
              "      <td>0.501253</td>\n",
              "      <td>0.499989</td>\n",
              "      <td>0.507599</td>\n",
              "      <td>0.501532</td>\n",
              "    </tr>\n",
              "    <tr>\n",
              "      <th>21</th>\n",
              "      <td>TransformedTargetRegressor</td>\n",
              "      <td>0.503043</td>\n",
              "      <td>0.002752</td>\n",
              "      <td>0.501917</td>\n",
              "      <td>0.505973</td>\n",
              "      <td>0.501253</td>\n",
              "      <td>0.499986</td>\n",
              "      <td>0.507599</td>\n",
              "      <td>0.501531</td>\n",
              "    </tr>\n",
              "    <tr>\n",
              "      <th>14</th>\n",
              "      <td>LinearRegression</td>\n",
              "      <td>0.503043</td>\n",
              "      <td>0.002752</td>\n",
              "      <td>0.501917</td>\n",
              "      <td>0.505973</td>\n",
              "      <td>0.501253</td>\n",
              "      <td>0.499986</td>\n",
              "      <td>0.507599</td>\n",
              "      <td>0.501531</td>\n",
              "    </tr>\n",
              "    <tr>\n",
              "      <th>13</th>\n",
              "      <td>LassoLarsIC</td>\n",
              "      <td>0.503043</td>\n",
              "      <td>0.002728</td>\n",
              "      <td>0.501917</td>\n",
              "      <td>0.505908</td>\n",
              "      <td>0.501247</td>\n",
              "      <td>0.500057</td>\n",
              "      <td>0.507599</td>\n",
              "      <td>0.501531</td>\n",
              "    </tr>\n",
              "    <tr>\n",
              "      <th>9</th>\n",
              "      <td>HuberRegressor</td>\n",
              "      <td>0.502970</td>\n",
              "      <td>0.002711</td>\n",
              "      <td>0.501849</td>\n",
              "      <td>0.505665</td>\n",
              "      <td>0.501374</td>\n",
              "      <td>0.499884</td>\n",
              "      <td>0.507580</td>\n",
              "      <td>0.501468</td>\n",
              "    </tr>\n",
              "    <tr>\n",
              "      <th>20</th>\n",
              "      <td>SGDRegressor</td>\n",
              "      <td>0.502756</td>\n",
              "      <td>0.002762</td>\n",
              "      <td>0.502090</td>\n",
              "      <td>0.505448</td>\n",
              "      <td>0.501162</td>\n",
              "      <td>0.499382</td>\n",
              "      <td>0.507376</td>\n",
              "      <td>0.501076</td>\n",
              "    </tr>\n",
              "    <tr>\n",
              "      <th>10</th>\n",
              "      <td>Lars</td>\n",
              "      <td>0.499405</td>\n",
              "      <td>0.007746</td>\n",
              "      <td>0.499954</td>\n",
              "      <td>0.505216</td>\n",
              "      <td>0.500330</td>\n",
              "      <td>0.483355</td>\n",
              "      <td>0.507599</td>\n",
              "      <td>0.499975</td>\n",
              "    </tr>\n",
              "    <tr>\n",
              "      <th>0</th>\n",
              "      <td>AdaBoostRegressor</td>\n",
              "      <td>0.484752</td>\n",
              "      <td>0.005309</td>\n",
              "      <td>0.487002</td>\n",
              "      <td>0.482474</td>\n",
              "      <td>0.475266</td>\n",
              "      <td>0.484907</td>\n",
              "      <td>0.492970</td>\n",
              "      <td>0.485894</td>\n",
              "    </tr>\n",
              "    <tr>\n",
              "      <th>15</th>\n",
              "      <td>OrthogonalMatchingPursuit</td>\n",
              "      <td>0.467550</td>\n",
              "      <td>0.002273</td>\n",
              "      <td>0.468310</td>\n",
              "      <td>0.467487</td>\n",
              "      <td>0.466812</td>\n",
              "      <td>0.463485</td>\n",
              "      <td>0.471171</td>\n",
              "      <td>0.468036</td>\n",
              "    </tr>\n",
              "    <tr>\n",
              "      <th>1</th>\n",
              "      <td>BaggingRegressor</td>\n",
              "      <td>0.467490</td>\n",
              "      <td>0.002167</td>\n",
              "      <td>0.467284</td>\n",
              "      <td>0.469294</td>\n",
              "      <td>0.465810</td>\n",
              "      <td>0.464071</td>\n",
              "      <td>0.470698</td>\n",
              "      <td>0.467781</td>\n",
              "    </tr>\n",
              "    <tr>\n",
              "      <th>16</th>\n",
              "      <td>PassiveAggressiveRegressor</td>\n",
              "      <td>0.434294</td>\n",
              "      <td>0.028730</td>\n",
              "      <td>0.436666</td>\n",
              "      <td>0.419466</td>\n",
              "      <td>0.448153</td>\n",
              "      <td>0.466434</td>\n",
              "      <td>0.379185</td>\n",
              "      <td>0.455858</td>\n",
              "    </tr>\n",
              "    <tr>\n",
              "      <th>3</th>\n",
              "      <td>DecisionTreeRegressor</td>\n",
              "      <td>0.280916</td>\n",
              "      <td>0.003920</td>\n",
              "      <td>0.278717</td>\n",
              "      <td>0.276226</td>\n",
              "      <td>0.288654</td>\n",
              "      <td>0.281862</td>\n",
              "      <td>0.278799</td>\n",
              "      <td>0.281238</td>\n",
              "    </tr>\n",
              "    <tr>\n",
              "      <th>5</th>\n",
              "      <td>ExtraTreeRegressor</td>\n",
              "      <td>0.277644</td>\n",
              "      <td>0.006655</td>\n",
              "      <td>0.286327</td>\n",
              "      <td>0.281029</td>\n",
              "      <td>0.265496</td>\n",
              "      <td>0.278639</td>\n",
              "      <td>0.273324</td>\n",
              "      <td>0.281051</td>\n",
              "    </tr>\n",
              "    <tr>\n",
              "      <th>17</th>\n",
              "      <td>RANSACRegressor</td>\n",
              "      <td>0.266952</td>\n",
              "      <td>0.051728</td>\n",
              "      <td>0.276648</td>\n",
              "      <td>0.170225</td>\n",
              "      <td>0.309035</td>\n",
              "      <td>0.235212</td>\n",
              "      <td>0.326342</td>\n",
              "      <td>0.284248</td>\n",
              "    </tr>\n",
              "    <tr>\n",
              "      <th>4</th>\n",
              "      <td>ElasticNet</td>\n",
              "      <td>NaN</td>\n",
              "      <td>NaN</td>\n",
              "      <td>NaN</td>\n",
              "      <td>NaN</td>\n",
              "      <td>NaN</td>\n",
              "      <td>NaN</td>\n",
              "      <td>NaN</td>\n",
              "      <td>NaN</td>\n",
              "    </tr>\n",
              "    <tr>\n",
              "      <th>11</th>\n",
              "      <td>Lasso</td>\n",
              "      <td>NaN</td>\n",
              "      <td>NaN</td>\n",
              "      <td>NaN</td>\n",
              "      <td>NaN</td>\n",
              "      <td>NaN</td>\n",
              "      <td>NaN</td>\n",
              "      <td>NaN</td>\n",
              "      <td>NaN</td>\n",
              "    </tr>\n",
              "    <tr>\n",
              "      <th>12</th>\n",
              "      <td>LassoLars</td>\n",
              "      <td>NaN</td>\n",
              "      <td>NaN</td>\n",
              "      <td>NaN</td>\n",
              "      <td>NaN</td>\n",
              "      <td>NaN</td>\n",
              "      <td>NaN</td>\n",
              "      <td>NaN</td>\n",
              "      <td>NaN</td>\n",
              "    </tr>\n",
              "  </tbody>\n",
              "</table>\n",
              "</div>"
            ],
            "text/plain": [
              "                           models  mean_score  std_score    score0    score1  \\\n",
              "8   HistGradientBoostingRegressor    0.538384   0.002417  0.536784  0.542405   \n",
              "18          RandomForestRegressor    0.525327   0.002183  0.524024  0.527006   \n",
              "7       GradientBoostingRegressor    0.524376   0.002260  0.523923  0.527698   \n",
              "6             ExtraTreesRegressor    0.519630   0.001763  0.520044  0.521921   \n",
              "2                   BayesianRidge    0.503048   0.002739  0.501923  0.505964   \n",
              "19                          Ridge    0.503044   0.002751  0.501917  0.505971   \n",
              "21     TransformedTargetRegressor    0.503043   0.002752  0.501917  0.505973   \n",
              "14               LinearRegression    0.503043   0.002752  0.501917  0.505973   \n",
              "13                    LassoLarsIC    0.503043   0.002728  0.501917  0.505908   \n",
              "9                  HuberRegressor    0.502970   0.002711  0.501849  0.505665   \n",
              "20                   SGDRegressor    0.502756   0.002762  0.502090  0.505448   \n",
              "10                           Lars    0.499405   0.007746  0.499954  0.505216   \n",
              "0               AdaBoostRegressor    0.484752   0.005309  0.487002  0.482474   \n",
              "15      OrthogonalMatchingPursuit    0.467550   0.002273  0.468310  0.467487   \n",
              "1                BaggingRegressor    0.467490   0.002167  0.467284  0.469294   \n",
              "16     PassiveAggressiveRegressor    0.434294   0.028730  0.436666  0.419466   \n",
              "3           DecisionTreeRegressor    0.280916   0.003920  0.278717  0.276226   \n",
              "5              ExtraTreeRegressor    0.277644   0.006655  0.286327  0.281029   \n",
              "17                RANSACRegressor    0.266952   0.051728  0.276648  0.170225   \n",
              "4                      ElasticNet         NaN        NaN       NaN       NaN   \n",
              "11                          Lasso         NaN        NaN       NaN       NaN   \n",
              "12                      LassoLars         NaN        NaN       NaN       NaN   \n",
              "\n",
              "      score2    score3    score4    score5  \n",
              "8   0.535199  0.536674  0.539917  0.539327  \n",
              "18  0.522424  0.523320  0.528410  0.526777  \n",
              "7   0.520938  0.522457  0.526258  0.524982  \n",
              "6   0.516293  0.519132  0.520973  0.519415  \n",
              "2   0.501252  0.500025  0.507586  0.501538  \n",
              "19  0.501253  0.499989  0.507599  0.501532  \n",
              "21  0.501253  0.499986  0.507599  0.501531  \n",
              "14  0.501253  0.499986  0.507599  0.501531  \n",
              "13  0.501247  0.500057  0.507599  0.501531  \n",
              "9   0.501374  0.499884  0.507580  0.501468  \n",
              "20  0.501162  0.499382  0.507376  0.501076  \n",
              "10  0.500330  0.483355  0.507599  0.499975  \n",
              "0   0.475266  0.484907  0.492970  0.485894  \n",
              "15  0.466812  0.463485  0.471171  0.468036  \n",
              "1   0.465810  0.464071  0.470698  0.467781  \n",
              "16  0.448153  0.466434  0.379185  0.455858  \n",
              "3   0.288654  0.281862  0.278799  0.281238  \n",
              "5   0.265496  0.278639  0.273324  0.281051  \n",
              "17  0.309035  0.235212  0.326342  0.284248  \n",
              "4        NaN       NaN       NaN       NaN  \n",
              "11       NaN       NaN       NaN       NaN  \n",
              "12       NaN       NaN       NaN       NaN  "
            ]
          },
          "metadata": {
            "tags": []
          },
          "execution_count": 32
        }
      ]
    },
    {
      "cell_type": "markdown",
      "metadata": {
        "id": "WeTIgkdm2xcs"
      },
      "source": [
        "# TARGET B"
      ]
    },
    {
      "cell_type": "code",
      "metadata": {
        "id": "1xX73_l12xct"
      },
      "source": [
        "%%time\n",
        "results, names = list(), list()\n",
        "mean_scores = []\n",
        "std_scores = []\n",
        "for name, model in regressors:\n",
        "    if 'random_state' in model.get_params().keys():\n",
        "        model.set_params(random_state=60)\n",
        "    scores = cross_val_score(model, train[feat], target['target_b'], scoring=my_scorer, n_jobs=-1, cv= cv)\n",
        "    results.append(scores)\n",
        "    names.append(name)\n",
        "    mean_scores.append(np.mean(scores))\n",
        "    std_scores.append(np.std(scores))\n",
        "    print('>%s %.3f (%.3f)' % (name, np.mean(scores), np.std(scores)))\n",
        "\n",
        "df1 = pd.DataFrame(np.column_stack([names, mean_scores, std_scores]), \n",
        "                   columns=['models', 'mean_score', 'std_score'])\n",
        "df2 = pd.DataFrame(results, columns=[\"\".join('score'+ str(i)) for i in range(6) ])\n",
        "final_df = pd.concat([df1, df2], axis=1)\n",
        "int_cols = [f for f in final_df.columns if \"score\" in f]\n",
        "for i in int_cols:\n",
        "    final_df[i] = final_df[i].astype('float')\n",
        "\n",
        "final_df.sort_values('mean_score', ascending=False, inplace=True)\n",
        "\n",
        "plt.figure(figsize=(12, 6))\n",
        "plt.boxplot(final_df.iloc[:, 3:].values.tolist(), labels=final_df['models'].to_list(), showmeans=True, )\n",
        "plt.xticks(rotation = 90)\n",
        "plt.show()"
      ],
      "execution_count": null,
      "outputs": []
    },
    {
      "cell_type": "code",
      "metadata": {
        "id": "4twBL8D8EVrB",
        "colab": {
          "base_uri": "https://localhost:8080/",
          "height": 335
        },
        "outputId": "18089384-db05-4036-d323-cacb472e8ea7"
      },
      "source": [
        "# get a stacking ensemble of models\n",
        "\n",
        "from sklearn.ensemble import StackingRegressor\n",
        "def get_stacking():\n",
        "\t# define the base models\n",
        "\tlevel0 = list()\n",
        "\tlevel0.append(('histgradient', sklearn.ensemble.HistGradientBoostingRegressor()))\n",
        "\tlevel0.append(('rf', sklearn.ensemble.RandomForestRegressor()))\n",
        "\tlevel0.append(('ttr', sklearn.compose.TransformedTargetRegressor()))\n",
        "\t# define meta learner model\n",
        "\tlevel1 = sklearn.linear_model.LinearRegression()\n",
        "\t# define the stacking ensemble\n",
        "\tmodel = StackingRegressor(estimators=level0, final_estimator=level1, cv=3, n_jobs=-1)\n",
        "\treturn model\n",
        " \n",
        "# get a list of models to evaluate\n",
        "def get_models():\n",
        "\tmodels = dict()\n",
        "\tmodels['histgradient'] = sklearn.ensemble.HistGradientBoostingRegressor()\n",
        "\tmodels['rf'] = sklearn.ensemble.RandomForestRegressor()\n",
        "\tmodels['ttr'] = sklearn.compose.TransformedTargetRegressor()\n",
        "\tmodels['stacking'] = get_stacking()\n",
        "\treturn models\n",
        " \n",
        "# evaluate a given model using cross-validation\n",
        "def evaluate_model(model, X, y):\n",
        "\tcv = RepeatedKFold(n_splits=3, n_repeats=2, random_state=60)\n",
        "\tscores = cross_val_score(model, X, y, scoring=my_scorer, cv=cv, n_jobs=-1, error_score='raise')\n",
        "\treturn scores\n",
        " \n",
        "# define dataset\n",
        "X, y = train[feat], target['target_r']\n",
        "# get the models to evaluate\n",
        "models = get_models()\n",
        "# evaluate the models and store results\n",
        "results, names = list(), list()\n",
        "for name, model in models.items():\n",
        "\tscores = evaluate_model(model, X, y)\n",
        "\tresults.append(scores)\n",
        "\tnames.append(name)\n",
        "\tprint('>%s %.3f (%.3f)' % (name, np.mean(scores), np.std(scores)))\n",
        "# plot model performance for comparison\n",
        "plt.boxplot(results, labels=names, showmeans=True)\n",
        "plt.show()"
      ],
      "execution_count": 35,
      "outputs": [
        {
          "output_type": "stream",
          "text": [
            ">histgradient 0.401 (0.005)\n",
            ">rf 0.387 (0.005)\n",
            ">ttr 0.368 (0.004)\n",
            ">stacking 0.395 (0.005)\n"
          ],
          "name": "stdout"
        },
        {
          "output_type": "display_data",
          "data": {
            "image/png": "[encoded data removed]",
            "text/plain": [
              "<Figure size 432x288 with 1 Axes>"
            ]
          },
          "metadata": {
            "tags": [],
            "needs_background": "light"
          }
        }
      ]
    },
    {
      "cell_type": "code",
      "metadata": {
        "id": "fgqvxA4dVMJl"
      },
      "source": [
        ""
      ],
      "execution_count": null,
      "outputs": []
    },
    {
      "cell_type": "code",
      "metadata": {
        "id": "1b4y0ciqV10l"
      },
      "source": [
        ""
      ],
      "execution_count": null,
      "outputs": []
    },
    {
      "cell_type": "code",
      "metadata": {
        "id": "e8StWPBfX1V5",
        "colab": {
          "base_uri": "https://localhost:8080/"
        },
        "outputId": "7b657fc6-c07b-473c-8b2f-8f07a5568f71"
      },
      "source": [
        "%%time\n",
        "seed = 60\n",
        "\n",
        "# define the base models\n",
        "level0 = list()\n",
        "level0.append(('histgradient', sklearn.ensemble.HistGradientBoostingRegressor(random_state=seed)))\n",
        "level0.append(('rf', sklearn.ensemble.RandomForestRegressor(random_state=seed)))\n",
        "level0.append(('ttr', sklearn.compose.TransformedTargetRegressor()))\n",
        "# define meta learner model\n",
        "level1 = sklearn.linear_model.LinearRegression(n_jobs=-1)\n",
        "# define the stacking ensemble\n",
        "model = StackingRegressor(estimators=level0, final_estimator=level1, cv=5, n_jobs=-1)\n",
        "\n",
        "\n",
        "prediction= pd.DataFrame()\n",
        "model.fit(train[feat], target['target_r'])\n",
        "prediction['target_r'] = model.predict(test[feat])\n",
        "print(\"Done target RRRRR\")\n",
        "model.fit(train[feat], target['target_g'])\n",
        "prediction['target_g'] = model.predict(test[feat])\n",
        "print(\"Done target GGGGGG\")\n",
        "\n",
        "model.fit(train[feat], target['target_b'])\n",
        "prediction['target_b'] = model.predict(test[feat])\n",
        "print(\"Done target BBBBB\")\n"
      ],
      "execution_count": 40,
      "outputs": [
        {
          "output_type": "stream",
          "text": [
            "Done target RRRRR\n",
            "Done target GGGGGG\n",
            "Done target BBBBB\n",
            "CPU times: user 23.6 s, sys: 6.12 s, total: 29.7 s\n",
            "Wall time: 11min 10s\n"
          ],
          "name": "stdout"
        }
      ]
    },
    {
      "cell_type": "code",
      "metadata": {
        "id": "71BIVVj1YBQi",
        "colab": {
          "base_uri": "https://localhost:8080/"
        },
        "outputId": "b64b2e29-5a9c-4881-c1c8-601eaaa87a7a"
      },
      "source": [
        "prediction[prediction['target_r'] > 1],prediction[prediction['target_g'] > 1], prediction[prediction['target_b'] > 1]"
      ],
      "execution_count": 41,
      "outputs": [
        {
          "output_type": "execute_result",
          "data": {
            "text/plain": [
              "(Empty DataFrame\n",
              " Columns: [target_r, target_g, target_b]\n",
              " Index: [], Empty DataFrame\n",
              " Columns: [target_r, target_g, target_b]\n",
              " Index: [], Empty DataFrame\n",
              " Columns: [target_r, target_g, target_b]\n",
              " Index: [])"
            ]
          },
          "metadata": {
            "tags": []
          },
          "execution_count": 41
        }
      ]
    },
    {
      "cell_type": "code",
      "metadata": {
        "id": "2W15H2i1YKPG",
        "colab": {
          "base_uri": "https://localhost:8080/"
        },
        "outputId": "ea9429d8-2370-412a-c1db-00bace43798a"
      },
      "source": [
        "prediction[prediction['target_r'] < 0],prediction[prediction['target_g'] < 0], prediction[prediction['target_b'] < 0],"
      ],
      "execution_count": 42,
      "outputs": [
        {
          "output_type": "execute_result",
          "data": {
            "text/plain": [
              "(Empty DataFrame\n",
              " Columns: [target_r, target_g, target_b]\n",
              " Index: [], Empty DataFrame\n",
              " Columns: [target_r, target_g, target_b]\n",
              " Index: [], Empty DataFrame\n",
              " Columns: [target_r, target_g, target_b]\n",
              " Index: [])"
            ]
          },
          "metadata": {
            "tags": []
          },
          "execution_count": 42
        }
      ]
    },
    {
      "cell_type": "code",
      "metadata": {
        "id": "YXV5fgkYYKL2",
        "outputId": "848adbe8-a1d6-485e-c2fb-8469821ebfdb",
        "colab": {
          "base_uri": "https://localhost:8080/",
          "height": 406
        }
      },
      "source": [
        "prediction"
      ],
      "execution_count": 43,
      "outputs": [
        {
          "output_type": "execute_result",
          "data": {
            "text/html": [
              "<div>\n",
              "<style scoped>\n",
              "    .dataframe tbody tr th:only-of-type {\n",
              "        vertical-align: middle;\n",
              "    }\n",
              "\n",
              "    .dataframe tbody tr th {\n",
              "        vertical-align: top;\n",
              "    }\n",
              "\n",
              "    .dataframe thead th {\n",
              "        text-align: right;\n",
              "    }\n",
              "</style>\n",
              "<table border=\"1\" class=\"dataframe\">\n",
              "  <thead>\n",
              "    <tr style=\"text-align: right;\">\n",
              "      <th></th>\n",
              "      <th>target_r</th>\n",
              "      <th>target_g</th>\n",
              "      <th>target_b</th>\n",
              "    </tr>\n",
              "  </thead>\n",
              "  <tbody>\n",
              "    <tr>\n",
              "      <th>0</th>\n",
              "      <td>0.477603</td>\n",
              "      <td>0.443273</td>\n",
              "      <td>0.414115</td>\n",
              "    </tr>\n",
              "    <tr>\n",
              "      <th>1</th>\n",
              "      <td>0.584325</td>\n",
              "      <td>0.581000</td>\n",
              "      <td>0.609419</td>\n",
              "    </tr>\n",
              "    <tr>\n",
              "      <th>2</th>\n",
              "      <td>0.397445</td>\n",
              "      <td>0.319316</td>\n",
              "      <td>0.239058</td>\n",
              "    </tr>\n",
              "    <tr>\n",
              "      <th>3</th>\n",
              "      <td>0.566447</td>\n",
              "      <td>0.586047</td>\n",
              "      <td>0.606841</td>\n",
              "    </tr>\n",
              "    <tr>\n",
              "      <th>4</th>\n",
              "      <td>0.430467</td>\n",
              "      <td>0.426972</td>\n",
              "      <td>0.392520</td>\n",
              "    </tr>\n",
              "    <tr>\n",
              "      <th>...</th>\n",
              "      <td>...</td>\n",
              "      <td>...</td>\n",
              "      <td>...</td>\n",
              "    </tr>\n",
              "    <tr>\n",
              "      <th>48532</th>\n",
              "      <td>0.599235</td>\n",
              "      <td>0.653622</td>\n",
              "      <td>0.710890</td>\n",
              "    </tr>\n",
              "    <tr>\n",
              "      <th>48533</th>\n",
              "      <td>0.740221</td>\n",
              "      <td>0.835180</td>\n",
              "      <td>0.909756</td>\n",
              "    </tr>\n",
              "    <tr>\n",
              "      <th>48534</th>\n",
              "      <td>0.630251</td>\n",
              "      <td>0.750545</td>\n",
              "      <td>0.836620</td>\n",
              "    </tr>\n",
              "    <tr>\n",
              "      <th>48535</th>\n",
              "      <td>0.722905</td>\n",
              "      <td>0.826749</td>\n",
              "      <td>0.889345</td>\n",
              "    </tr>\n",
              "    <tr>\n",
              "      <th>48536</th>\n",
              "      <td>0.269580</td>\n",
              "      <td>0.151532</td>\n",
              "      <td>0.050899</td>\n",
              "    </tr>\n",
              "  </tbody>\n",
              "</table>\n",
              "<p>48537 rows × 3 columns</p>\n",
              "</div>"
            ],
            "text/plain": [
              "       target_r  target_g  target_b\n",
              "0      0.477603  0.443273  0.414115\n",
              "1      0.584325  0.581000  0.609419\n",
              "2      0.397445  0.319316  0.239058\n",
              "3      0.566447  0.586047  0.606841\n",
              "4      0.430467  0.426972  0.392520\n",
              "...         ...       ...       ...\n",
              "48532  0.599235  0.653622  0.710890\n",
              "48533  0.740221  0.835180  0.909756\n",
              "48534  0.630251  0.750545  0.836620\n",
              "48535  0.722905  0.826749  0.889345\n",
              "48536  0.269580  0.151532  0.050899\n",
              "\n",
              "[48537 rows x 3 columns]"
            ]
          },
          "metadata": {
            "tags": []
          },
          "execution_count": 43
        }
      ]
    },
    {
      "cell_type": "code",
      "metadata": {
        "id": "6xPdyO4DYKIf"
      },
      "source": [
        ""
      ],
      "execution_count": null,
      "outputs": []
    },
    {
      "cell_type": "code",
      "metadata": {
        "id": "VVAiTaeTYKEb"
      },
      "source": [
        ""
      ],
      "execution_count": null,
      "outputs": []
    },
    {
      "cell_type": "code",
      "metadata": {
        "id": "l3kNJkXKYBNH",
        "colab": {
          "base_uri": "https://localhost:8080/"
        },
        "outputId": "3c9a2434-e408-4361-8554-a0bae1408d88"
      },
      "source": [
        "API_KEY = \"0GIskIC9Rd1I8sMw6nStutbIbMx7AaZzAyNfuMOVAVWgJtNa1IVQHZAD3WPj\" # <- HERE\n",
        "\n",
        "r = requests.post(\"https://tournament.datacrunch.com/api/submission\",\n",
        "    files = {\n",
        "        \"file\": (\"x\", prediction.to_csv().encode('ascii'))\n",
        "    },\n",
        "    data = {\n",
        "        \"apiKey\": API_KEY\n",
        "    },\n",
        ")\n",
        "\n",
        "if r.status_code == 200:\n",
        "    print(\"Submission submitted :)\")\n",
        "elif r.status_code == 423:\n",
        "    print(\"ERR: Submissions are close\")\n",
        "    print(\"You can only submit during rounds eg: Friday 7pm GMT+1 to Sunday midnight GMT+1.\")\n",
        "    print(\"Or the server is currently crunching the submitted files, please wait some time before retrying.\")\n",
        "elif r.status_code == 422:\n",
        "    print(\"ERR: API Key is missing or empty\")\n",
        "    print(\"Did you forget to fill the API_KEY variable?\")\n",
        "elif r.status_code == 404:\n",
        "    print(\"ERR: Unknown API Key\")\n",
        "    print(\"You should check that the provided API key is valid and is the same as the one you've received by email.\")\n",
        "elif r.status_code == 400:\n",
        "    print(\"ERR: The file must not be empty\")\n",
        "    print(\"You have send a empty file.\")\n",
        "elif r.status_code == 401:\n",
        "    print(\"ERR: Your email hasn't been verified\")\n",
        "    print(\"Please verify your email or contact a cruncher.\")\n",
        "elif r.status_code == 429:\n",
        "    print(\"ERR: Too many submissions\")\n",
        "else:\n",
        "    print(\"ERR: Server returned: \" + str(r.status_code))\n",
        "    print(\"Ouch! It seems that we were not expecting this kind of result from the server, if the probleme persist, contact a cruncher.\")"
      ],
      "execution_count": 44,
      "outputs": [
        {
          "output_type": "stream",
          "text": [
            "Submission submitted :)\n"
          ],
          "name": "stdout"
        }
      ]
    },
    {
      "cell_type": "code",
      "metadata": {
        "id": "rhq-UGq7Z0de"
      },
      "source": [
        ""
      ],
      "execution_count": null,
      "outputs": []
    }
  ]
}