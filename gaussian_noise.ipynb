{
  "nbformat": 4,
  "nbformat_minor": 0,
  "metadata": {
    "colab": {
      "name": "scratchpad",
      "provenance": [],
      "machine_shape": "hm",
      "include_colab_link": true
    },
    "kernelspec": {
      "display_name": "Python 3",
      "name": "python3"
    },
    "accelerator": "GPU"
  },
  "cells": [
    {
      "cell_type": "markdown",
      "metadata": {
        "id": "view-in-github",
        "colab_type": "text"
      },
      "source": [
        "<a href=\"https://colab.research.google.com/github/pratik-poudel/datacrunch/blob/main/gaussian_noise.ipynb\" target=\"_parent\"><img src=\"https://colab.research.google.com/assets/colab-badge.svg\" alt=\"Open In Colab\"/></a>"
      ]
    },
    {
      "cell_type": "code",
      "metadata": {
        "id": "lIYdn1woOS1n"
      },
      "source": [
        "import numpy as np\n",
        "import pandas as pd\n",
        "from collections import defaultdict\n",
        "from tqdm.notebook import tqdm\n",
        "from matplotlib import pyplot as plt\n",
        "import warnings\n",
        "warnings.filterwarnings('ignore')\n",
        "import seaborn as sns\n",
        "import gc\n",
        "# pd.options.display.float_format| = \"{:.2f}\".format\n",
        "pd.options.display.max_columns = 500\n",
        "\n",
        "\n",
        "from sklearn.model_selection import train_test_split\n",
        "from sklearn.metrics import accuracy_score \n",
        "from sklearn.metrics import classification_report , mean_squared_error, make_scorer\n",
        "import requests\n",
        "from scipy import stats\n",
        "from numpy import absolute\n",
        "from numpy import mean\n",
        "from numpy import std\n",
        "\n",
        "import lightgbm as lgb\n",
        "\n",
        "from sklearn.datasets import make_regression\n",
        "from sklearn.linear_model import LinearRegression\n",
        "from sklearn.neighbors import KNeighborsRegressor\n",
        "from sklearn.tree import DecisionTreeRegressor\n",
        "from sklearn.model_selection import cross_val_score\n",
        "from sklearn.model_selection import RepeatedKFold\n",
        "from sklearn.multioutput import RegressorChain\n",
        "from sklearn.multioutput import MultiOutputRegressor\n",
        "from sklearn.ensemble import ExtraTreesRegressor\n",
        "from sklearn.svm import LinearSVR\n",
        "from sklearn.linear_model import SGDRegressor\n",
        "\n",
        "\n",
        "from tensorflow.keras.models import Sequential\n",
        "from tensorflow.keras.layers import Dense, GaussianNoise, Activation\n",
        "from tensorflow.keras.optimizers import SGD"
      ],
      "execution_count": 171,
      "outputs": []
    },
    {
      "cell_type": "code",
      "metadata": {
        "id": "Z3DS9iVpVmxH"
      },
      "source": [
        "train_datalink_X = 'https://tournament.datacrunch.com/data/X_train.csv'  \n",
        "train_datalink_y = 'https://tournament.datacrunch.com/data/y_train.csv'\n",
        "hackathon_data_link = 'https://tournament.datacrunch.com/data/X_test.csv'"
      ],
      "execution_count": 64,
      "outputs": []
    },
    {
      "cell_type": "code",
      "metadata": {
        "id": "tfaiSzgNVova"
      },
      "source": [
        "train = pd.read_csv(train_datalink_X)\n",
        "target = pd.read_csv(train_datalink_y)\n",
        "test = pd.read_csv(hackathon_data_link)"
      ],
      "execution_count": 65,
      "outputs": []
    },
    {
      "cell_type": "code",
      "metadata": {
        "id": "sWnzIajGJ5p0"
      },
      "source": [
        "features = [f for f in train.columns if 'feature' in f]\n",
        "X_train, X_test, y_train, y_test = train_test_split(train[features], target, test_size=0.25, shuffle=False)"
      ],
      "execution_count": 66,
      "outputs": []
    },
    {
      "cell_type": "code",
      "metadata": {
        "id": "zogCKkhaPtG-"
      },
      "source": [
        "def scorer(y_test, y_pred):\n",
        "    score = (stats.spearmanr(y_test, y_pred))[0]\n",
        "    print('Score as calculated for the leader board (っಠ‿ಠ)っ {}'.format(score))"
      ],
      "execution_count": 72,
      "outputs": []
    },
    {
      "cell_type": "code",
      "metadata": {
        "id": "KHfIASu7Kf6C"
      },
      "source": [
        "\n",
        "def evaluate_model(n_nodes,train_x, train_y, test_x, test_y):\n",
        "    n_input, n_classes = train_x.shape[1], train_y.shape[1]\n",
        "\n",
        "    model = Sequential()\n",
        "    model.add(Dense(n_nodes, input_dim=n_input, activation='relu',kernel_initializer='he_uniform'))\n",
        "    model.add(Dense(n_classes, activation='sigmoid'))\n",
        "    opt = SGD(lr=0.01, momentum=0.9)\n",
        "    model.compile(loss='mse', optimizer=opt, metrics=['mean_squared_error'])\n",
        "    history = model.fit(train_x, train_y, epochs=100, verbose=0, batch_size=4096)\n",
        "    preds = model.predict(X_test)\n",
        "    scorer(test_y.target_r, preds[:, 0])\n",
        "    scorer(test_y.target_g, preds[:, 1])\n",
        "    scorer(test_y.target_b, preds[:, 2])\n",
        "\n",
        "\n",
        "    _, test_mse = model.evaluate(test_x, test_y, verbose=0, batch_size=4096)\n",
        "\n",
        "    return history, test_mse,model"
      ],
      "execution_count": 90,
      "outputs": []
    },
    {
      "cell_type": "code",
      "metadata": {
        "id": "9ACXOdgXLNWb",
        "outputId": "ce2ba43a-b228-49ef-9f87-44ec7582ecda",
        "colab": {
          "base_uri": "https://localhost:8080/",
          "height": 762
        }
      },
      "source": [
        "num_nodes = [32, 64, 128, 256, 512, 1024, 2048]\n",
        "for n_nodes in num_nodes:\n",
        "    history, result, model = evaluate_model(n_nodes,X_train, y_train, X_test, y_test)\n",
        "    print('nodes=%d: %.3f' % (n_nodes, result))\n",
        "    plt.plot(history.history['loss'], label=str(n_nodes))\n",
        "plt.legend()\n",
        "plt.show()"
      ],
      "execution_count": 91,
      "outputs": [
        {
          "output_type": "stream",
          "text": [
            "Score as calculated for the leader board (っಠ‿ಠ)っ 0.34539817332516826\n",
            "Score as calculated for the leader board (っಠ‿ಠ)っ 0.5109059564090986\n",
            "Score as calculated for the leader board (っಠ‿ಠ)っ 0.6601408757103979\n",
            "nodes=32: 0.092\n",
            "Score as calculated for the leader board (っಠ‿ಠ)っ 0.36102505628282355\n",
            "Score as calculated for the leader board (っಠ‿ಠ)っ 0.5178270196807437\n",
            "Score as calculated for the leader board (っಠ‿ಠ)っ 0.6577577064175488\n",
            "nodes=64: 0.092\n",
            "Score as calculated for the leader board (っಠ‿ಠ)っ 0.3477057934305178\n",
            "Score as calculated for the leader board (っಠ‿ಠ)っ 0.5138090122010022\n",
            "Score as calculated for the leader board (っಠ‿ಠ)っ 0.6581103535471083\n",
            "nodes=128: 0.092\n",
            "Score as calculated for the leader board (っಠ‿ಠ)っ 0.3500879288488816\n",
            "Score as calculated for the leader board (っಠ‿ಠ)っ 0.515409523892172\n",
            "Score as calculated for the leader board (っಠ‿ಠ)っ -0.5991926084127158\n",
            "nodes=256: 0.198\n",
            "Score as calculated for the leader board (っಠ‿ಠ)っ 0.3456225615627132\n",
            "Score as calculated for the leader board (っಠ‿ಠ)っ 0.5108906762064623\n",
            "Score as calculated for the leader board (っಠ‿ಠ)っ 0.6476300223680944\n",
            "nodes=512: 0.094\n",
            "Score as calculated for the leader board (っಠ‿ಠ)っ 0.34129127450503394\n",
            "Score as calculated for the leader board (っಠ‿ಠ)っ -0.29378746497102337\n",
            "Score as calculated for the leader board (っಠ‿ಠ)っ 0.6499961136127956\n",
            "nodes=1024: 0.194\n",
            "Score as calculated for the leader board (っಠ‿ಠ)っ 0.3481138471733415\n",
            "Score as calculated for the leader board (っಠ‿ಠ)っ -0.12605611058829005\n",
            "Score as calculated for the leader board (っಠ‿ಠ)っ -0.32000919934970845\n",
            "nodes=2048: 0.299\n"
          ],
          "name": "stdout"
        },
        {
          "output_type": "display_data",
          "data": {
            "image/png": "[encoded data removed]",
            "text/plain": [
              "<Figure size 432x288 with 1 Axes>"
            ]
          },
          "metadata": {
            "tags": [],
            "needs_background": "light"
          }
        }
      ]
    },
    {
      "cell_type": "code",
      "metadata": {
        "id": "Vkx7mjq3SUky"
      },
      "source": [
        ""
      ],
      "execution_count": null,
      "outputs": []
    },
    {
      "cell_type": "code",
      "metadata": {
        "id": "mtB2BtnlMSVB"
      },
      "source": [
        "from sklearn.metrics import mean_squared_error\n",
        "def evaluate_model(n_layers,train_x, train_y, test_x, test_y):\n",
        "    n_input, n_classes = train_x.shape[1], train_y.shape[1]\n",
        "\n",
        "    model = Sequential()\n",
        "    model.add(Dense(64, input_dim=n_input, activation='relu',kernel_initializer='he_uniform'))\n",
        "    for _ in range(1, n_layers):\n",
        "        model.add(Dense(64, activation='relu', kernel_initializer='he_uniform'))\n",
        "\n",
        "    model.add(Dense(n_classes, activation='sigmoid'))\n",
        "    opt = SGD(lr=0.01, momentum=0.9)\n",
        "    model.compile(loss='mean_squared_logarithmic_error', optimizer=opt, metrics=['mean_squared_error'])\n",
        "    history = model.fit(train_x, train_y, epochs=25, validation_data=(test_x, test_y), verbose=1, batch_size=64)\n",
        "    preds = model.predict(X_test)\n",
        "    print(\"TARGET_R: \", mean_squared_error(test_y.target_r, preds[:, 0]))\n",
        "    print(\"TARGET_G: \", mean_squared_error(test_y.target_g, preds[:, 1]))\n",
        "    print(\"TARGET_B: \", mean_squared_error(test_y.target_b, preds[:, 2]))\n",
        "\n",
        "    scorer(test_y.target_r, preds[:, 0])\n",
        "    scorer(test_y.target_g, preds[:, 1])\n",
        "    scorer(test_y.target_b, preds[:, 2])\n",
        "    _, test_mse = model.evaluate(test_x, test_y, verbose=0, batch_size=64)\n",
        "    return history, test_mse, model"
      ],
      "execution_count": 158,
      "outputs": []
    },
    {
      "cell_type": "code",
      "metadata": {
        "id": "gW1wgtSq5qtq"
      },
      "source": [
        "from sklearn.metrics import mean_squared_error\n",
        "def evaluate_model(gaus_noise,train_x, train_y, test_x, test_y):\n",
        "    n_input, n_classes = train_x.shape[1], train_y.shape[1]\n",
        "\n",
        "    model = Sequential()\n",
        "    model.add(Dense(64, input_dim=n_input, activation='relu',kernel_initializer='he_uniform'))\n",
        "    for _ in range(1, 10):\n",
        "        model.add(Dense(64,kernel_initializer='he_uniform'))\n",
        "        model.add(GaussianNoise(gaus_noise))\n",
        "        model.add(Activation('relu'))\n",
        "\n",
        "    model.add(Dense(n_classes, activation='sigmoid'))\n",
        "    opt = SGD(lr=0.01, momentum=0.9)\n",
        "    model.compile(loss='mean_squared_logarithmic_error', optimizer=opt, metrics=['mean_squared_error'])\n",
        "    history = model.fit(train_x, train_y, epochs=50, validation_data=(test_x, test_y), verbose=0, batch_size=64)\n",
        "    preds = model.predict(X_test)\n",
        "    print(\"TARGET_R: \", mean_squared_error(test_y.target_r, preds[:, 0]))\n",
        "    print(\"TARGET_G: \", mean_squared_error(test_y.target_g, preds[:, 1]))\n",
        "    print(\"TARGET_B: \", mean_squared_error(test_y.target_b, preds[:, 2]))\n",
        "\n",
        "    scorer(test_y.target_r, preds[:, 0])\n",
        "    scorer(test_y.target_g, preds[:, 1])\n",
        "    scorer(test_y.target_b, preds[:, 2])\n",
        "    _, test_mse = model.evaluate(test_x, test_y, verbose=0, batch_size=64)\n",
        "    return history, test_mse, model"
      ],
      "execution_count": 188,
      "outputs": []
    },
    {
      "cell_type": "code",
      "metadata": {
        "id": "OEB3RBELOGAO",
        "outputId": "847baa9a-758c-4cac-c318-13bf6bd0a097",
        "colab": {
          "base_uri": "https://localhost:8080/",
          "height": 1000
        }
      },
      "source": [
        "noise = [0.1, 0.15, 0.2, 0.25, 0.3, 0.35]\n",
        "for gaus_noise in noise:\n",
        "\n",
        "    history,result, model = evaluate_model(gaus_noise, X_train, y_train , X_test, y_test)\n",
        "    print('layers=%d: %.3f' % (gaus_noise, result))\n",
        "    plt.plot(history.history['mean_squared_error'], label=str(n_layers))\n",
        "plt.legend()\n",
        "plt.show()"
      ],
      "execution_count": 190,
      "outputs": [
        {
          "output_type": "stream",
          "text": [
            "TARGET_R:  0.11389539643460088\n",
            "TARGET_G:  0.08969730612502264\n",
            "TARGET_B:  0.07060400985056982\n",
            "Score as calculated for the leader board (っಠ‿ಠ)っ 0.35747810257555346\n",
            "Score as calculated for the leader board (っಠ‿ಠ)っ 0.5279347429908543\n",
            "Score as calculated for the leader board (っಠ‿ಠ)っ 0.6664886420747524\n",
            "layers=0: 0.091\n",
            "TARGET_R:  0.11324901747352091\n",
            "TARGET_G:  0.0898309954501411\n",
            "TARGET_B:  0.0706831179649443\n",
            "Score as calculated for the leader board (っಠ‿ಠ)っ 0.35652573328502946\n",
            "Score as calculated for the leader board (っಠ‿ಠ)っ 0.524424912411082\n",
            "Score as calculated for the leader board (っಠ‿ಠ)っ 0.6625022355603143\n",
            "layers=0: 0.091\n",
            "TARGET_R:  0.11289628657954555\n",
            "TARGET_G:  0.08866942771868756\n",
            "TARGET_B:  0.06959068588113347\n",
            "Score as calculated for the leader board (っಠ‿ಠ)っ 0.3624043107343664\n",
            "Score as calculated for the leader board (っಠ‿ಠ)っ 0.5306668104333255\n",
            "Score as calculated for the leader board (っಠ‿ಠ)っ 0.6658398222014392\n",
            "layers=0: 0.090\n",
            "TARGET_R:  0.11383871442105116\n",
            "TARGET_G:  0.08941891622633291\n",
            "TARGET_B:  0.07026804131638756\n",
            "Score as calculated for the leader board (っಠ‿ಠ)っ 0.357185576809217\n",
            "Score as calculated for the leader board (っಠ‿ಠ)っ 0.5281707216164552\n",
            "Score as calculated for the leader board (っಠ‿ಠ)っ 0.6646655235521709\n",
            "layers=0: 0.091\n",
            "TARGET_R:  0.11297732817817178\n",
            "TARGET_G:  0.08908692191434957\n",
            "TARGET_B:  0.0700244140092115\n",
            "Score as calculated for the leader board (っಠ‿ಠ)っ 0.36180080161990935\n",
            "Score as calculated for the leader board (っಠ‿ಠ)っ 0.5294698385229438\n",
            "Score as calculated for the leader board (っಠ‿ಠ)っ 0.6653191924458711\n",
            "layers=0: 0.091\n",
            "TARGET_R:  0.11310748701623713\n",
            "TARGET_G:  0.08869272836634756\n",
            "TARGET_B:  0.06960928301963457\n",
            "Score as calculated for the leader board (っಠ‿ಠ)っ 0.3586179007021327\n",
            "Score as calculated for the leader board (っಠ‿ಠ)っ 0.5310892083105241\n",
            "Score as calculated for the leader board (っಠ‿ಠ)っ 0.6700984704149648\n",
            "layers=0: 0.090\n"
          ],
          "name": "stdout"
        },
        {
          "output_type": "display_data",
          "data": {
            "image/png": "[encoded data removed]",
            "text/plain": [
              "<Figure size 432x288 with 1 Axes>"
            ]
          },
          "metadata": {
            "tags": [],
            "needs_background": "light"
          }
        }
      ]
    },
    {
      "cell_type": "code",
      "metadata": {
        "id": "p_u73X3MSxsf",
        "outputId": "9e90a297-73d3-4e83-b2dc-bde15e3fb37e",
        "colab": {
          "base_uri": "https://localhost:8080/",
          "height": 277
        }
      },
      "source": [
        "plt.subplot(211)\n",
        "plt.title('MSE Loss', pad=-40)\n",
        "plt.plot(history.history['mean_squared_error'], label='train')\n",
        "plt.plot(history.history['val_mean_squared_error'], label='test')\n",
        "plt.legend()\n",
        "# plot accuracy learning curves\n",
        "plt.subplot(212)\n",
        "plt.title('LOGARITHMIC', pad=-40)\n",
        "plt.plot(history.history['loss'], label='train')\n",
        "plt.plot(history.history['val_loss'], label='test')\n",
        "plt.legend()\n",
        "plt.show()\n"
      ],
      "execution_count": 184,
      "outputs": [
        {
          "output_type": "display_data",
          "data": {
            "image/png": "[encoded data removed]",
            "text/plain": [
              "<Figure size 432x288 with 2 Axes>"
            ]
          },
          "metadata": {
            "tags": [],
            "needs_background": "light"
          }
        }
      ]
    },
    {
      "cell_type": "code",
      "metadata": {
        "id": "xHEG86RJAD_y"
      },
      "source": [
        "from sklearn.metrics import mean_squared_error\n",
        "def evaluate_model(n_layers,train_x, train_y, test_x, test_y):\n",
        "    n_input, n_classes = train_x.shape[1], train_y.shape[1]\n",
        "\n",
        "    model = Sequential()\n",
        "    model.add(Dense(64, input_dim=n_input, activation='relu',kernel_initializer='he_uniform'))\n",
        "    for _ in range(1, n_layers):\n",
        "        model.add(Dense(64,kernel_initializer='he_uniform'))\n",
        "        model.add(GaussianNoise(0.35))\n",
        "        model.add(Activation('relu'))\n",
        "\n",
        "    model.add(Dense(n_classes, activation='sigmoid'))\n",
        "    opt = SGD(lr=0.01, momentum=0.9)\n",
        "    model.compile(loss='mean_squared_logarithmic_error', optimizer=opt, metrics=['mean_squared_error'])\n",
        "    history = model.fit(train_x, train_y, epochs=50, validation_data=(test_x, test_y), verbose=0, batch_size=64)\n",
        "    preds = model.predict(X_test)\n",
        "    print(\"TARGET_R: \", mean_squared_error(test_y.target_r, preds[:, 0]))\n",
        "    print(\"TARGET_G: \", mean_squared_error(test_y.target_g, preds[:, 1]))\n",
        "    print(\"TARGET_B: \", mean_squared_error(test_y.target_b, preds[:, 2]))\n",
        "\n",
        "    scorer(test_y.target_r, preds[:, 0])\n",
        "    scorer(test_y.target_g, preds[:, 1])\n",
        "    scorer(test_y.target_b, preds[:, 2])\n",
        "    _, test_mse = model.evaluate(test_x, test_y, verbose=0, batch_size=64)\n",
        "    return history, test_mse, model"
      ],
      "execution_count": 191,
      "outputs": []
    },
    {
      "cell_type": "code",
      "metadata": {
        "id": "3Ovkd86cAQeU",
        "outputId": "e4242cf4-41c5-4ec1-c2be-2bff8758bd06",
        "colab": {
          "base_uri": "https://localhost:8080/",
          "height": 388
        }
      },
      "source": [
        "layers = [10]\n",
        "for n_layers in layers:\n",
        "\n",
        "    history,result, model = evaluate_model(n_layers, X_train, y_train , X_test, y_test)\n",
        "    print('layers=%d: %.3f' % (gaus_noise, result))\n",
        "    plt.plot(history.history['mean_squared_error'], label=str(n_layers))\n",
        "plt.legend()\n",
        "plt.show()"
      ],
      "execution_count": 195,
      "outputs": [
        {
          "output_type": "stream",
          "text": [
            "TARGET_R:  0.11434029731942279\n",
            "TARGET_G:  0.08984548254180572\n",
            "TARGET_B:  0.07107053659386393\n",
            "Score as calculated for the leader board (っಠ‿ಠ)っ 0.3573367663493907\n",
            "Score as calculated for the leader board (っಠ‿ಠ)っ 0.5317825633122959\n",
            "Score as calculated for the leader board (っಠ‿ಠ)っ 0.6704623899702783\n",
            "layers=0: 0.092\n"
          ],
          "name": "stdout"
        },
        {
          "output_type": "display_data",
          "data": {
            "image/png": "[encoded data removed]",
            "text/plain": [
              "<Figure size 432x288 with 1 Axes>"
            ]
          },
          "metadata": {
            "tags": [],
            "needs_background": "light"
          }
        }
      ]
    },
    {
      "cell_type": "code",
      "metadata": {
        "id": "uCUD7rPHDBfv",
        "outputId": "5fae8cdd-c6f7-48fc-a1cf-4ef74b3e9422",
        "colab": {
          "base_uri": "https://localhost:8080/",
          "height": 277
        }
      },
      "source": [
        "plt.subplot(211)\n",
        "plt.title('MSE Loss', pad=-40)\n",
        "plt.plot(history.history['mean_squared_error'], label='train')\n",
        "plt.plot(history.history['val_mean_squared_error'], label='test')\n",
        "plt.legend()\n",
        "# plot accuracy learning curves\n",
        "plt.subplot(212)\n",
        "plt.title('LOGARITHMIC', pad=-40)\n",
        "plt.plot(history.history['loss'], label='train')\n",
        "plt.plot(history.history['val_loss'], label='test')\n",
        "plt.legend()\n",
        "plt.show()\n"
      ],
      "execution_count": 196,
      "outputs": [
        {
          "output_type": "display_data",
          "data": {
            "image/png": "[encoded data removed]",
            "text/plain": [
              "<Figure size 432x288 with 2 Axes>"
            ]
          },
          "metadata": {
            "tags": [],
            "needs_background": "light"
          }
        }
      ]
    },
    {
      "cell_type": "code",
      "metadata": {
        "id": "mhlFU11rDh2w",
        "outputId": "f5f8af3e-39b2-48ac-a2d9-eecd23344a62",
        "colab": {
          "base_uri": "https://localhost:8080/"
        }
      },
      "source": [
        "model.summary()"
      ],
      "execution_count": 197,
      "outputs": [
        {
          "output_type": "stream",
          "text": [
            "Model: \"sequential_116\"\n",
            "_________________________________________________________________\n",
            "Layer (type)                 Output Shape              Param #   \n",
            "=================================================================\n",
            "dense_2397 (Dense)           (None, 64)                1920      \n",
            "_________________________________________________________________\n",
            "dense_2398 (Dense)           (None, 64)                4160      \n",
            "_________________________________________________________________\n",
            "gaussian_noise_195 (Gaussian (None, 64)                0         \n",
            "_________________________________________________________________\n",
            "activation_195 (Activation)  (None, 64)                0         \n",
            "_________________________________________________________________\n",
            "dense_2399 (Dense)           (None, 64)                4160      \n",
            "_________________________________________________________________\n",
            "gaussian_noise_196 (Gaussian (None, 64)                0         \n",
            "_________________________________________________________________\n",
            "activation_196 (Activation)  (None, 64)                0         \n",
            "_________________________________________________________________\n",
            "dense_2400 (Dense)           (None, 64)                4160      \n",
            "_________________________________________________________________\n",
            "gaussian_noise_197 (Gaussian (None, 64)                0         \n",
            "_________________________________________________________________\n",
            "activation_197 (Activation)  (None, 64)                0         \n",
            "_________________________________________________________________\n",
            "dense_2401 (Dense)           (None, 64)                4160      \n",
            "_________________________________________________________________\n",
            "gaussian_noise_198 (Gaussian (None, 64)                0         \n",
            "_________________________________________________________________\n",
            "activation_198 (Activation)  (None, 64)                0         \n",
            "_________________________________________________________________\n",
            "dense_2402 (Dense)           (None, 64)                4160      \n",
            "_________________________________________________________________\n",
            "gaussian_noise_199 (Gaussian (None, 64)                0         \n",
            "_________________________________________________________________\n",
            "activation_199 (Activation)  (None, 64)                0         \n",
            "_________________________________________________________________\n",
            "dense_2403 (Dense)           (None, 64)                4160      \n",
            "_________________________________________________________________\n",
            "gaussian_noise_200 (Gaussian (None, 64)                0         \n",
            "_________________________________________________________________\n",
            "activation_200 (Activation)  (None, 64)                0         \n",
            "_________________________________________________________________\n",
            "dense_2404 (Dense)           (None, 64)                4160      \n",
            "_________________________________________________________________\n",
            "gaussian_noise_201 (Gaussian (None, 64)                0         \n",
            "_________________________________________________________________\n",
            "activation_201 (Activation)  (None, 64)                0         \n",
            "_________________________________________________________________\n",
            "dense_2405 (Dense)           (None, 64)                4160      \n",
            "_________________________________________________________________\n",
            "gaussian_noise_202 (Gaussian (None, 64)                0         \n",
            "_________________________________________________________________\n",
            "activation_202 (Activation)  (None, 64)                0         \n",
            "_________________________________________________________________\n",
            "dense_2406 (Dense)           (None, 64)                4160      \n",
            "_________________________________________________________________\n",
            "gaussian_noise_203 (Gaussian (None, 64)                0         \n",
            "_________________________________________________________________\n",
            "activation_203 (Activation)  (None, 64)                0         \n",
            "_________________________________________________________________\n",
            "dense_2407 (Dense)           (None, 3)                 195       \n",
            "=================================================================\n",
            "Total params: 39,555\n",
            "Trainable params: 39,555\n",
            "Non-trainable params: 0\n",
            "_________________________________________________________________\n"
          ],
          "name": "stdout"
        }
      ]
    },
    {
      "cell_type": "code",
      "metadata": {
        "id": "iByXPbSXeMfN"
      },
      "source": [
        "prediction = pd.DataFrame(model.predict(test[features]), columns=['target_r', 'target_g', 'target_b'])"
      ],
      "execution_count": 198,
      "outputs": []
    },
    {
      "cell_type": "code",
      "metadata": {
        "id": "VNRfIsuxDIHo",
        "outputId": "b2b55737-61d7-4452-c5aa-05824389a032",
        "colab": {
          "base_uri": "https://localhost:8080/",
          "height": 406
        }
      },
      "source": [
        "prediction"
      ],
      "execution_count": 199,
      "outputs": [
        {
          "output_type": "execute_result",
          "data": {
            "text/html": [
              "<div>\n",
              "<style scoped>\n",
              "    .dataframe tbody tr th:only-of-type {\n",
              "        vertical-align: middle;\n",
              "    }\n",
              "\n",
              "    .dataframe tbody tr th {\n",
              "        vertical-align: top;\n",
              "    }\n",
              "\n",
              "    .dataframe thead th {\n",
              "        text-align: right;\n",
              "    }\n",
              "</style>\n",
              "<table border=\"1\" class=\"dataframe\">\n",
              "  <thead>\n",
              "    <tr style=\"text-align: right;\">\n",
              "      <th></th>\n",
              "      <th>target_r</th>\n",
              "      <th>target_g</th>\n",
              "      <th>target_b</th>\n",
              "    </tr>\n",
              "  </thead>\n",
              "  <tbody>\n",
              "    <tr>\n",
              "      <th>0</th>\n",
              "      <td>0.449978</td>\n",
              "      <td>0.423645</td>\n",
              "      <td>0.355693</td>\n",
              "    </tr>\n",
              "    <tr>\n",
              "      <th>1</th>\n",
              "      <td>0.507157</td>\n",
              "      <td>0.516224</td>\n",
              "      <td>0.494657</td>\n",
              "    </tr>\n",
              "    <tr>\n",
              "      <th>2</th>\n",
              "      <td>0.362974</td>\n",
              "      <td>0.307590</td>\n",
              "      <td>0.230854</td>\n",
              "    </tr>\n",
              "    <tr>\n",
              "      <th>3</th>\n",
              "      <td>0.533579</td>\n",
              "      <td>0.566961</td>\n",
              "      <td>0.593300</td>\n",
              "    </tr>\n",
              "    <tr>\n",
              "      <th>4</th>\n",
              "      <td>0.455176</td>\n",
              "      <td>0.429934</td>\n",
              "      <td>0.360449</td>\n",
              "    </tr>\n",
              "    <tr>\n",
              "      <th>...</th>\n",
              "      <td>...</td>\n",
              "      <td>...</td>\n",
              "      <td>...</td>\n",
              "    </tr>\n",
              "    <tr>\n",
              "      <th>48532</th>\n",
              "      <td>0.592149</td>\n",
              "      <td>0.635045</td>\n",
              "      <td>0.642429</td>\n",
              "    </tr>\n",
              "    <tr>\n",
              "      <th>48533</th>\n",
              "      <td>0.692236</td>\n",
              "      <td>0.778208</td>\n",
              "      <td>0.850559</td>\n",
              "    </tr>\n",
              "    <tr>\n",
              "      <th>48534</th>\n",
              "      <td>0.638516</td>\n",
              "      <td>0.701385</td>\n",
              "      <td>0.737456</td>\n",
              "    </tr>\n",
              "    <tr>\n",
              "      <th>48535</th>\n",
              "      <td>0.686040</td>\n",
              "      <td>0.772011</td>\n",
              "      <td>0.856419</td>\n",
              "    </tr>\n",
              "    <tr>\n",
              "      <th>48536</th>\n",
              "      <td>0.213301</td>\n",
              "      <td>0.131832</td>\n",
              "      <td>0.069255</td>\n",
              "    </tr>\n",
              "  </tbody>\n",
              "</table>\n",
              "<p>48537 rows × 3 columns</p>\n",
              "</div>"
            ],
            "text/plain": [
              "       target_r  target_g  target_b\n",
              "0      0.449978  0.423645  0.355693\n",
              "1      0.507157  0.516224  0.494657\n",
              "2      0.362974  0.307590  0.230854\n",
              "3      0.533579  0.566961  0.593300\n",
              "4      0.455176  0.429934  0.360449\n",
              "...         ...       ...       ...\n",
              "48532  0.592149  0.635045  0.642429\n",
              "48533  0.692236  0.778208  0.850559\n",
              "48534  0.638516  0.701385  0.737456\n",
              "48535  0.686040  0.772011  0.856419\n",
              "48536  0.213301  0.131832  0.069255\n",
              "\n",
              "[48537 rows x 3 columns]"
            ]
          },
          "metadata": {
            "tags": []
          },
          "execution_count": 199
        }
      ]
    },
    {
      "cell_type": "code",
      "metadata": {
        "id": "kSaNmatDkKr6",
        "outputId": "eb1991fe-ea2f-466e-fbcb-513ddcbbe89c",
        "colab": {
          "base_uri": "https://localhost:8080/"
        }
      },
      "source": [
        "API_KEY = \"0GIskIC9Rd1I8sMw6nStutbIbMx7AaZzAyNfuMOVAVWgJtNa1IVQHZAD3WPj\" # <- HERE\n",
        "\n",
        "r = requests.post(\"https://tournament.datacrunch.com/api/submission\",\n",
        "    files = {\n",
        "        \"file\": (\"x\", prediction.to_csv().encode('ascii'))\n",
        "    },\n",
        "    data = {\n",
        "        \"apiKey\": API_KEY\n",
        "    },\n",
        ")\n",
        "\n",
        "if r.status_code == 200:\n",
        "    print(\"Submission submitted :)\")\n",
        "elif r.status_code == 423:\n",
        "    print(\"ERR: Submissions are close\")\n",
        "    print(\"You can only submit during rounds eg: Friday 7pm GMT+1 to Sunday midnight GMT+1.\")\n",
        "    print(\"Or the server is currently crunching the submitted files, please wait some time before retrying.\")\n",
        "elif r.status_code == 422:\n",
        "    print(\"ERR: API Key is missing or empty\")\n",
        "    print(\"Did you forget to fill the API_KEY variable?\")\n",
        "elif r.status_code == 404:\n",
        "    print(\"ERR: Unknown API Key\")\n",
        "    print(\"You should check that the provided API key is valid and is the same as the one you've received by email.\")\n",
        "elif r.status_code == 400:\n",
        "    print(\"ERR: The file must not be empty\")\n",
        "    print(\"You have send a empty file.\")\n",
        "elif r.status_code == 401:\n",
        "    print(\"ERR: Your email hasn't been verified\")\n",
        "    print(\"Please verify your email or contact a cruncher.\")\n",
        "elif r.status_code == 429:\n",
        "    print(\"ERR: Too many submissions\")\n",
        "else:\n",
        "    print(\"ERR: Server returned: \" + str(r.status_code))\n",
        "    print(\"Ouch! It seems that we were not expecting this kind of result from the server, if the probleme persist, contact a cruncher.\")"
      ],
      "execution_count": 201,
      "outputs": [
        {
          "output_type": "stream",
          "text": [
            "Submission submitted :)\n"
          ],
          "name": "stdout"
        }
      ]
    },
    {
      "cell_type": "code",
      "metadata": {
        "id": "qFxWKaTVkLCD"
      },
      "source": [
        ""
      ],
      "execution_count": null,
      "outputs": []
    }
  ]
}