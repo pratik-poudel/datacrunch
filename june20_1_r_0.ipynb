{
  "nbformat": 4,
  "nbformat_minor": 0,
  "metadata": {
    "colab": {
      "name": "scratchpad",
      "provenance": [],
      "include_colab_link": true
    },
    "kernelspec": {
      "display_name": "Python 3",
      "name": "python3"
    }
  },
  "cells": [
    {
      "cell_type": "markdown",
      "metadata": {
        "id": "view-in-github",
        "colab_type": "text"
      },
      "source": [
        "<a href=\"https://colab.research.google.com/github/pratik-poudel/datacrunch/blob/main/june20_1_r_0.ipynb\" target=\"_parent\"><img src=\"https://colab.research.google.com/assets/colab-badge.svg\" alt=\"Open In Colab\"/></a>"
      ]
    },
    {
      "cell_type": "code",
      "metadata": {
        "id": "lIYdn1woOS1n"
      },
      "source": [
        "import numpy as np\n",
        "import pandas as pd\n",
        "from collections import defaultdict\n",
        "from tqdm.notebook import tqdm\n",
        "from matplotlib import pyplot as plt\n",
        "import warnings\n",
        "warnings.filterwarnings('ignore')\n",
        "import seaborn as sns\n",
        "import gc\n",
        "# pd.options.display.float_format| = \"{:.2f}\".format\n",
        "pd.options.display.max_columns = 500\n",
        "\n",
        "import requests\n",
        "from scipy import stats\n",
        "\n",
        "import lightgbm as lgb\n",
        "\n",
        "# from tensorflow.keras.callbacks import EarlyStopping, ModelCheckpoint\n",
        "\n",
        "import sklearn\n",
        "from sklearn import *\n",
        "from sklearn.experimental import enable_hist_gradient_boosting\n",
        "# from sklearn.utils.testing import all_estimators\n",
        "from sklearn.base import RegressorMixin\n",
        "from sklearn.metrics import accuracy_score \n",
        "from sklearn.metrics import classification_report \n",
        "from sklearn.metrics import make_scorer\n",
        "from sklearn.model_selection import RepeatedKFold, cross_val_score, KFold, GroupKFold\n",
        "from sklearn.multioutput import RegressorChain\n",
        "\n",
        "\n",
        "import requests\n",
        "import time\n",
        "from scipy import stats\n",
        "\n",
        "import lightgbm as lgb\n",
        "# import xgboost as xgb\n",
        "\n",
        "import matplotlib.pyplot as plt\n",
        "import matplotlib.style as style\n",
        "import seaborn as sns\n",
        "from matplotlib import pyplot\n",
        "from matplotlib.ticker import ScalarFormatter\n",
        "sns.set_context(\"talk\")\n",
        "style.use('seaborn-colorblind')\n",
        "\n",
        "\n",
        "from itertools import combinations, permutations, combinations_with_replacement\n"
      ],
      "execution_count": 1,
      "outputs": []
    },
    {
      "cell_type": "code",
      "metadata": {
        "id": "KRtMekH9ahPF"
      },
      "source": [
        "train_datalink_X = 'https://tournament.datacrunch.com/data/X_train.csv'  \n",
        "train_datalink_y = 'https://tournament.datacrunch.com/data/y_train.csv'\n",
        "hackathon_data_link = 'https://tournament.datacrunch.com/data/X_test.csv'\n",
        "\n",
        "train = pd.read_csv(train_datalink_X) # X\n",
        "target = pd.read_csv(train_datalink_y) # y\n",
        "test = pd.read_csv(hackathon_data_link)\n",
        "\n",
        "train.columns = train.columns.str.lower()\n",
        "target.columns = target.columns.str.lower()\n",
        "test.columns = test.columns.str.lower()\n",
        "\n",
        "train.drop(columns=['id'], inplace=True)\n",
        "test.drop(columns=['id'], inplace=True)"
      ],
      "execution_count": 2,
      "outputs": []
    },
    {
      "cell_type": "code",
      "metadata": {
        "id": "tBem1pwUajTs",
        "colab": {
          "base_uri": "https://localhost:8080/"
        },
        "outputId": "6f2b705d-25ed-435d-d1a1-ec7f13cdc503"
      },
      "source": [
        "# train.shape, test.shape"
      ],
      "execution_count": null,
      "outputs": [
        {
          "output_type": "execute_result",
          "data": {
            "text/plain": [
              "((624650, 50), (3746, 50))"
            ]
          },
          "metadata": {
            "tags": []
          },
          "execution_count": 42
        }
      ]
    },
    {
      "cell_type": "code",
      "metadata": {
        "id": "lAct3CNKbtyf"
      },
      "source": [
        "# train_all = pd.concat([train, target], axis=1)"
      ],
      "execution_count": null,
      "outputs": []
    },
    {
      "cell_type": "code",
      "metadata": {
        "id": "lO5yXVuFa50H"
      },
      "source": [
        "# moons = [557, 558]\n",
        "# test = train_all[train_all.moons.isin(moons)]"
      ],
      "execution_count": null,
      "outputs": []
    },
    {
      "cell_type": "code",
      "metadata": {
        "id": "D96tmmxNc9St"
      },
      "source": [
        "# test_target = test[['target_r', 'target_g', 'target_b']]\n",
        "# test = test.drop(columns = ['target_r', 'target_g', 'target_b'] )"
      ],
      "execution_count": null,
      "outputs": []
    },
    {
      "cell_type": "code",
      "metadata": {
        "id": "si3Iuci-a9St"
      },
      "source": [
        "# train_all.drop(test.index, inplace=True)"
      ],
      "execution_count": null,
      "outputs": []
    },
    {
      "cell_type": "code",
      "metadata": {
        "id": "jzMx_4t7cheH"
      },
      "source": [
        "# train = train_all.drop(columns = ['target_r', 'target_g', 'target_b'] )\n",
        "# target = train_all[['target_r', 'target_g', 'target_b']]"
      ],
      "execution_count": null,
      "outputs": []
    },
    {
      "cell_type": "code",
      "metadata": {
        "id": "lnQi5VDsbVnt"
      },
      "source": [
        "r = train.corrwith(target.target_r, method='spearman')\n",
        "g = train.corrwith(target.target_g, method='spearman')\n",
        "b = train.corrwith(target.target_b, method='spearman')"
      ],
      "execution_count": 3,
      "outputs": []
    },
    {
      "cell_type": "code",
      "metadata": {
        "id": "EUPzClL5bn1G",
        "colab": {
          "base_uri": "https://localhost:8080/"
        },
        "outputId": "bb190e32-2b59-4480-a50e-44d6306f8f18"
      },
      "source": [
        "r.sort_values()"
      ],
      "execution_count": 4,
      "outputs": [
        {
          "output_type": "execute_result",
          "data": {
            "text/plain": [
              "feature_32   -0.023317\n",
              "feature_30   -0.022804\n",
              "feature_31   -0.022050\n",
              "feature_29   -0.021814\n",
              "feature_34   -0.021716\n",
              "feature_33   -0.021668\n",
              "feature_35   -0.021525\n",
              "feature_14   -0.020593\n",
              "feature_13   -0.020227\n",
              "feature_17   -0.019305\n",
              "feature_18   -0.018226\n",
              "feature_15   -0.017483\n",
              "feature_20   -0.017438\n",
              "feature_8    -0.017181\n",
              "feature_11   -0.017151\n",
              "feature_10   -0.016753\n",
              "feature_21   -0.016385\n",
              "feature_12   -0.016275\n",
              "feature_19   -0.016024\n",
              "feature_9    -0.015837\n",
              "feature_1    -0.014891\n",
              "feature_16   -0.014497\n",
              "feature_36   -0.014131\n",
              "feature_37   -0.012225\n",
              "feature_38   -0.011596\n",
              "feature_39   -0.011101\n",
              "feature_40   -0.011029\n",
              "feature_41   -0.010891\n",
              "feature_42   -0.010738\n",
              "feature_22   -0.010594\n",
              "feature_43   -0.010239\n",
              "feature_2    -0.010236\n",
              "feature_44   -0.007703\n",
              "feature_23   -0.007516\n",
              "feature_3    -0.007183\n",
              "feature_45   -0.006075\n",
              "feature_24   -0.006065\n",
              "feature_46   -0.005286\n",
              "feature_4    -0.005244\n",
              "feature_5    -0.003456\n",
              "feature_47   -0.003112\n",
              "feature_25   -0.002507\n",
              "feature_48   -0.001535\n",
              "feature_49   -0.000895\n",
              "feature_6    -0.000472\n",
              "feature_26   -0.000176\n",
              "moons         0.000019\n",
              "feature_7     0.000049\n",
              "feature_28    0.001440\n",
              "feature_27    0.001617\n",
              "dtype: float64"
            ]
          },
          "metadata": {
            "tags": []
          },
          "execution_count": 4
        }
      ]
    },
    {
      "cell_type": "code",
      "metadata": {
        "id": "V3KYk0Hxd26p"
      },
      "source": [
        "# def calculate_combination_corr(train_dataset, train_target, combination):\n",
        "\n",
        "#     features = [f for f in train_dataset.columns if 'feature' in f]\n",
        "#     X = train_dataset[features].copy()\n",
        "#     y = train_target.copy()\n",
        "    \n",
        "#     comb= []\n",
        "#     for i in combinations(X.columns, combination):\n",
        "#         comb.append(i)\n",
        "#     score_r = []\n",
        "#     score_g = []\n",
        "#     score_b = []\n",
        "    \n",
        "#     for i in tqdm(comb):\n",
        "#         tr = X[list(i)].values\n",
        "#         cir_mean = stats.circmean(tr, axis=1)\n",
        "#         spearman_r  = stats.spearmanr(cir_mean, y.target_r.values)[0]\n",
        "#         spearman_g  = stats.spearmanr(cir_mean, y.target_g.values)[0]\n",
        "#         spearman_b  = stats.spearmanr(cir_mean, y.target_b.values)[0]\n",
        "    \n",
        "#         score_r.append(spearman_r)\n",
        "#         score_g.append(spearman_g)\n",
        "#         score_b.append(spearman_b)\n",
        "\n",
        "#     return pd.DataFrame(zip(comb, score_r, score_g, score_b), columns=['feature', 'score_r', 'score_g', 'score_b'])"
      ],
      "execution_count": null,
      "outputs": []
    },
    {
      "cell_type": "code",
      "metadata": {
        "id": "P3FSlpgyjklz"
      },
      "source": [
        "def spearman_r(preds, dtrain):\n",
        "    labels = dtrain.get_label()\n",
        "    score = (stats.spearmanr(labels, preds))[0]\n",
        "    return 'spearman_r', score, True\n",
        "def spearman_g(preds, dtrain):\n",
        "    labels = dtrain.get_label()\n",
        "    score = (stats.spearmanr(labels, preds))[0]\n",
        "    return 'spearman_g', score, True\n",
        "def spearman_b(preds, dtrain):\n",
        "    labels = dtrain.get_label()\n",
        "    score = (stats.spearmanr(labels, preds))[0]\n",
        "    return 'spearman_b', score, True"
      ],
      "execution_count": 7,
      "outputs": []
    },
    {
      "cell_type": "code",
      "metadata": {
        "id": "o3HMKDD4d20-"
      },
      "source": [
        "def run_lgb(train_dataset, target, best_fold, actual_test):\n",
        "    num_boost_round= 1000\n",
        "    params = {\n",
        "        'boosting_type': 'gbdt',\n",
        "        'objective': 'regression',\n",
        "        'metric': 'custom',\n",
        "        'random_state':60,\n",
        "    }\n",
        "    X =  train_dataset.copy()\n",
        "    y = target[['target_r', 'target_g', 'target_b']]\n",
        "\n",
        "    oof_pred_r = np.zeros(len(X))\n",
        "    oof_pred_g = np.zeros(len(X))\n",
        "    oof_pred_b = np.zeros(len(X))\n",
        "\n",
        "    original_test_preds_r = np.zeros(len(test))\n",
        "    original_test_preds_g = np.zeros(len(test))\n",
        "    original_test_preds_b = np.zeros(len(test))\n",
        "\n",
        "    kf = GroupKFold(n_splits=best_fold)\n",
        "\n",
        "    features = [f for f in X.columns if 'feature' in f]\n",
        "    cnt = 1\n",
        "    for tr_ind , val_ind in kf.split(X, y, \n",
        "                                    X['moons']\n",
        "                                    ):\n",
        "        print(f'Fold:{cnt}, Train set: {len(tr_ind)}, Test set:{len(val_ind)}') \n",
        "        X= X[features]\n",
        "        X_train, X_val = X.iloc[tr_ind], X.iloc[val_ind]\n",
        "        y_train, y_val = y.iloc[tr_ind], y.iloc[val_ind]\n",
        "      \n",
        "        # print(X_train.shape)\n",
        "        tr_data_r = lgb.Dataset(X_train, y_train.target_r)\n",
        "        va_data_r = lgb.Dataset(X_val, y_val.target_r)\n",
        "\n",
        "        tr_data_g = lgb.Dataset(X_train, y_train.target_g)\n",
        "        va_data_g = lgb.Dataset(X_val, y_val.target_g)\n",
        "\n",
        "        tr_data_b = lgb.Dataset(X_train, y_train.target_b)\n",
        "        va_data_b = lgb.Dataset(X_val, y_val.target_b)\n",
        "        \n",
        "        evals_result = {}\n",
        "\n",
        "        print(\"\\nMODEL R *********************************************************************************************\")\n",
        "        model_r = lgb.train(params, tr_data_r, \n",
        "                            valid_sets=[tr_data_r, va_data_r], \n",
        "                            verbose_eval=200, \n",
        "                            num_boost_round=num_boost_round, \n",
        "                            early_stopping_rounds=50,\n",
        "                            feval=spearman_r, \n",
        "                            evals_result=evals_result)\n",
        "        print(\"\\nMODEL G *********************************************************************************************\")\n",
        "\n",
        "        model_g = lgb.train(params, tr_data_g, \n",
        "                            valid_sets=[tr_data_g, va_data_g], \n",
        "                            verbose_eval=200, \n",
        "                            num_boost_round=num_boost_round, \n",
        "                            early_stopping_rounds=50,\n",
        "                            feval = spearman_g, \n",
        "                            evals_result=evals_result)\n",
        "        \n",
        "        print(\"\\nMODEL B *********************************************************************************************\")\n",
        "        model_b = lgb.train(params, tr_data_b, \n",
        "                            valid_sets=[tr_data_b, va_data_b], \n",
        "                            verbose_eval=200, \n",
        "                            num_boost_round=num_boost_round, \n",
        "                            early_stopping_rounds=50, \n",
        "                            feval = spearman_b, \n",
        "                            evals_result=evals_result)\n",
        "\n",
        "        val_pred_r = model_r.predict(X_val, num_iteration= model_r.best_iteration)\n",
        "        val_pred_g = model_g.predict(X_val,  num_iteration= model_r.best_iteration)\n",
        "        val_pred_b = model_b.predict(X_val,  num_iteration= model_r.best_iteration)\n",
        "\n",
        "        oof_pred_r[val_ind] = val_pred_r\n",
        "        oof_pred_g[val_ind] = val_pred_g\n",
        "        oof_pred_b[val_ind] = val_pred_b\n",
        "\n",
        "        print(\"FOLD \", cnt, \"COMPLETED\")\n",
        "        # print()\n",
        "        # print(\"*******\" * 10  )\n",
        "        cnt += 1\n",
        "        \n",
        "        actual_test = actual_test[features]\n",
        "        print(actual_test.shape)\n",
        "        original_test_preds_r += model_r.predict(actual_test,  num_iteration= model_r.best_iteration)\n",
        "        original_test_preds_g += model_g.predict(actual_test,  num_iteration= model_r.best_iteration)\n",
        "        original_test_preds_b += model_b.predict(actual_test,  num_iteration= model_r.best_iteration)\n",
        "\n",
        "    original_test_preds_r = original_test_preds_r / kf.n_splits\n",
        "    original_test_preds_g = original_test_preds_g / kf.n_splits\n",
        "    original_test_preds_b = original_test_preds_b / kf.n_splits\n",
        "\n",
        "\n",
        "    oof_pred_df = pd.concat([pd.DataFrame(oof_pred_r, columns=['target_r']),\n",
        "                            pd.DataFrame(oof_pred_g, columns=['target_g']),\n",
        "                            pd.DataFrame(oof_pred_b, columns=['target_b'])], axis=1)\n",
        "\n",
        "    score_r = stats.spearmanr(oof_pred_df.target_r, y.target_r)[0] * 100\n",
        "    score_g = stats.spearmanr(oof_pred_df.target_g, y.target_g)[0] * 100\n",
        "    score_b = stats.spearmanr(oof_pred_df.target_b, y.target_b)[0] * 100\n",
        "\n",
        "\n",
        "    prediction = pd.concat([pd.DataFrame(original_test_preds_r, columns=['target_r']),\n",
        "                    pd.DataFrame(original_test_preds_g, columns=['target_g']),\n",
        "                    pd.DataFrame(original_test_preds_b, columns=['target_b'])], axis=1)\n",
        "    print(score_r, score_g, score_b)\n",
        "    score = (score_r+score_g+score_b)/ 3\n",
        "    print(score)\n",
        "\n",
        "    return oof_pred_df, prediction, model_r, model_g, model_b"
      ],
      "execution_count": 10,
      "outputs": []
    },
    {
      "cell_type": "code",
      "metadata": {
        "id": "LYpKOYfUd2xm",
        "colab": {
          "base_uri": "https://localhost:8080/"
        },
        "outputId": "7a148716-12dd-4737-9051-3c263db1308d"
      },
      "source": [
        "oof_pred_df, prediction, r, g, b = run_lgb(train, target,5, test)"
      ],
      "execution_count": 11,
      "outputs": [
        {
          "output_type": "stream",
          "text": [
            "Fold:1, Train set: 499539, Test set:125111\n",
            "\n",
            "MODEL R *********************************************************************************************\n",
            "Training until validation scores don't improve for 50 rounds.\n",
            "[200]\ttraining's spearman_r: 0.255065\tvalid_1's spearman_r: 0.163962\n",
            "[400]\ttraining's spearman_r: 0.337599\tvalid_1's spearman_r: 0.210379\n",
            "[600]\ttraining's spearman_r: 0.391501\tvalid_1's spearman_r: 0.241883\n",
            "[800]\ttraining's spearman_r: 0.43264\tvalid_1's spearman_r: 0.265177\n",
            "[1000]\ttraining's spearman_r: 0.464007\tvalid_1's spearman_r: 0.282551\n",
            "Did not meet early stopping. Best iteration is:\n",
            "[1000]\ttraining's spearman_r: 0.464007\tvalid_1's spearman_r: 0.282551\n",
            "\n",
            "MODEL G *********************************************************************************************\n",
            "Training until validation scores don't improve for 50 rounds.\n",
            "[200]\ttraining's spearman_g: 0.311641\tvalid_1's spearman_g: 0.265795\n",
            "[400]\ttraining's spearman_g: 0.407989\tvalid_1's spearman_g: 0.341736\n",
            "[600]\ttraining's spearman_g: 0.465865\tvalid_1's spearman_g: 0.386121\n",
            "[800]\ttraining's spearman_g: 0.508876\tvalid_1's spearman_g: 0.420018\n",
            "[1000]\ttraining's spearman_g: 0.542685\tvalid_1's spearman_g: 0.446152\n",
            "Did not meet early stopping. Best iteration is:\n",
            "[1000]\ttraining's spearman_g: 0.542685\tvalid_1's spearman_g: 0.446152\n",
            "\n",
            "MODEL B *********************************************************************************************\n",
            "Training until validation scores don't improve for 50 rounds.\n",
            "[200]\ttraining's spearman_b: 0.349408\tvalid_1's spearman_b: 0.316019\n",
            "[400]\ttraining's spearman_b: 0.452133\tvalid_1's spearman_b: 0.403659\n",
            "[600]\ttraining's spearman_b: 0.514916\tvalid_1's spearman_b: 0.456352\n",
            "[800]\ttraining's spearman_b: 0.557926\tvalid_1's spearman_b: 0.49264\n",
            "[1000]\ttraining's spearman_b: 0.592738\tvalid_1's spearman_b: 0.522583\n",
            "Did not meet early stopping. Best iteration is:\n",
            "[1000]\ttraining's spearman_b: 0.592738\tvalid_1's spearman_b: 0.522583\n",
            "FOLD  1 COMPLETED\n",
            "(442353, 49)\n",
            "Fold:2, Train set: 499605, Test set:125045\n",
            "\n",
            "MODEL R *********************************************************************************************\n",
            "Training until validation scores don't improve for 50 rounds.\n",
            "[200]\ttraining's spearman_r: 0.254622\tvalid_1's spearman_r: 0.172885\n",
            "[400]\ttraining's spearman_r: 0.336024\tvalid_1's spearman_r: 0.222515\n",
            "[600]\ttraining's spearman_r: 0.390419\tvalid_1's spearman_r: 0.255077\n",
            "[800]\ttraining's spearman_r: 0.429373\tvalid_1's spearman_r: 0.279797\n",
            "[1000]\ttraining's spearman_r: 0.460353\tvalid_1's spearman_r: 0.298705\n",
            "Did not meet early stopping. Best iteration is:\n",
            "[1000]\ttraining's spearman_r: 0.460353\tvalid_1's spearman_r: 0.298705\n",
            "\n",
            "MODEL G *********************************************************************************************\n",
            "Training until validation scores don't improve for 50 rounds.\n",
            "[200]\ttraining's spearman_g: 0.305309\tvalid_1's spearman_g: 0.260315\n",
            "[400]\ttraining's spearman_g: 0.399563\tvalid_1's spearman_g: 0.338863\n",
            "[600]\ttraining's spearman_g: 0.458318\tvalid_1's spearman_g: 0.385419\n",
            "[800]\ttraining's spearman_g: 0.501578\tvalid_1's spearman_g: 0.420374\n",
            "[1000]\ttraining's spearman_g: 0.535419\tvalid_1's spearman_g: 0.447819\n",
            "Did not meet early stopping. Best iteration is:\n",
            "[1000]\ttraining's spearman_g: 0.535419\tvalid_1's spearman_g: 0.447819\n",
            "\n",
            "MODEL B *********************************************************************************************\n",
            "Training until validation scores don't improve for 50 rounds.\n",
            "[200]\ttraining's spearman_b: 0.347736\tvalid_1's spearman_b: 0.314032\n",
            "[400]\ttraining's spearman_b: 0.449617\tvalid_1's spearman_b: 0.404229\n",
            "[600]\ttraining's spearman_b: 0.511913\tvalid_1's spearman_b: 0.459625\n",
            "[800]\ttraining's spearman_b: 0.556033\tvalid_1's spearman_b: 0.497891\n",
            "[1000]\ttraining's spearman_b: 0.589494\tvalid_1's spearman_b: 0.527725\n",
            "Did not meet early stopping. Best iteration is:\n",
            "[1000]\ttraining's spearman_b: 0.589494\tvalid_1's spearman_b: 0.527725\n",
            "FOLD  2 COMPLETED\n",
            "(442353, 49)\n",
            "Fold:3, Train set: 499540, Test set:125110\n",
            "\n",
            "MODEL R *********************************************************************************************\n",
            "Training until validation scores don't improve for 50 rounds.\n",
            "[200]\ttraining's spearman_r: 0.25639\tvalid_1's spearman_r: 0.17005\n",
            "[400]\ttraining's spearman_r: 0.339512\tvalid_1's spearman_r: 0.218871\n",
            "[600]\ttraining's spearman_r: 0.393453\tvalid_1's spearman_r: 0.25053\n",
            "[800]\ttraining's spearman_r: 0.43271\tvalid_1's spearman_r: 0.271829\n",
            "[1000]\ttraining's spearman_r: 0.465311\tvalid_1's spearman_r: 0.291245\n",
            "Did not meet early stopping. Best iteration is:\n",
            "[1000]\ttraining's spearman_r: 0.465311\tvalid_1's spearman_r: 0.291245\n",
            "\n",
            "MODEL G *********************************************************************************************\n",
            "Training until validation scores don't improve for 50 rounds.\n",
            "[200]\ttraining's spearman_g: 0.309267\tvalid_1's spearman_g: 0.260271\n",
            "[400]\ttraining's spearman_g: 0.402349\tvalid_1's spearman_g: 0.333048\n",
            "[600]\ttraining's spearman_g: 0.462515\tvalid_1's spearman_g: 0.381975\n",
            "[800]\ttraining's spearman_g: 0.507352\tvalid_1's spearman_g: 0.417269\n",
            "[1000]\ttraining's spearman_g: 0.542299\tvalid_1's spearman_g: 0.444979\n",
            "Did not meet early stopping. Best iteration is:\n",
            "[1000]\ttraining's spearman_g: 0.542299\tvalid_1's spearman_g: 0.444979\n",
            "\n",
            "MODEL B *********************************************************************************************\n",
            "Training until validation scores don't improve for 50 rounds.\n",
            "[200]\ttraining's spearman_b: 0.346596\tvalid_1's spearman_b: 0.314093\n",
            "[400]\ttraining's spearman_b: 0.449376\tvalid_1's spearman_b: 0.40266\n",
            "[600]\ttraining's spearman_b: 0.512469\tvalid_1's spearman_b: 0.455367\n",
            "[800]\ttraining's spearman_b: 0.558416\tvalid_1's spearman_b: 0.496025\n",
            "[1000]\ttraining's spearman_b: 0.59372\tvalid_1's spearman_b: 0.526825\n",
            "Did not meet early stopping. Best iteration is:\n",
            "[1000]\ttraining's spearman_b: 0.59372\tvalid_1's spearman_b: 0.526825\n",
            "FOLD  3 COMPLETED\n",
            "(442353, 49)\n",
            "Fold:4, Train set: 499540, Test set:125110\n",
            "\n",
            "MODEL R *********************************************************************************************\n",
            "Training until validation scores don't improve for 50 rounds.\n",
            "[200]\ttraining's spearman_r: 0.248951\tvalid_1's spearman_r: 0.16086\n",
            "[400]\ttraining's spearman_r: 0.332918\tvalid_1's spearman_r: 0.209655\n",
            "[600]\ttraining's spearman_r: 0.388149\tvalid_1's spearman_r: 0.239837\n",
            "[800]\ttraining's spearman_r: 0.428744\tvalid_1's spearman_r: 0.264291\n",
            "[1000]\ttraining's spearman_r: 0.460231\tvalid_1's spearman_r: 0.282213\n",
            "Did not meet early stopping. Best iteration is:\n",
            "[1000]\ttraining's spearman_r: 0.460231\tvalid_1's spearman_r: 0.282213\n",
            "\n",
            "MODEL G *********************************************************************************************\n",
            "Training until validation scores don't improve for 50 rounds.\n",
            "[200]\ttraining's spearman_g: 0.306596\tvalid_1's spearman_g: 0.254949\n",
            "[400]\ttraining's spearman_g: 0.403093\tvalid_1's spearman_g: 0.333825\n",
            "[600]\ttraining's spearman_g: 0.462251\tvalid_1's spearman_g: 0.379805\n",
            "[800]\ttraining's spearman_g: 0.505563\tvalid_1's spearman_g: 0.413134\n",
            "[1000]\ttraining's spearman_g: 0.539076\tvalid_1's spearman_g: 0.438829\n",
            "Did not meet early stopping. Best iteration is:\n",
            "[1000]\ttraining's spearman_g: 0.539076\tvalid_1's spearman_g: 0.438829\n",
            "\n",
            "MODEL B *********************************************************************************************\n",
            "Training until validation scores don't improve for 50 rounds.\n",
            "[200]\ttraining's spearman_b: 0.346664\tvalid_1's spearman_b: 0.313095\n",
            "[400]\ttraining's spearman_b: 0.450797\tvalid_1's spearman_b: 0.404819\n",
            "[600]\ttraining's spearman_b: 0.511654\tvalid_1's spearman_b: 0.456631\n",
            "[800]\ttraining's spearman_b: 0.557592\tvalid_1's spearman_b: 0.49473\n",
            "[1000]\ttraining's spearman_b: 0.592986\tvalid_1's spearman_b: 0.525509\n",
            "Did not meet early stopping. Best iteration is:\n",
            "[1000]\ttraining's spearman_b: 0.592986\tvalid_1's spearman_b: 0.525509\n",
            "FOLD  4 COMPLETED\n",
            "(442353, 49)\n",
            "Fold:5, Train set: 500376, Test set:124274\n",
            "\n",
            "MODEL R *********************************************************************************************\n",
            "Training until validation scores don't improve for 50 rounds.\n",
            "[200]\ttraining's spearman_r: 0.255901\tvalid_1's spearman_r: 0.17409\n",
            "[400]\ttraining's spearman_r: 0.338815\tvalid_1's spearman_r: 0.217851\n",
            "[600]\ttraining's spearman_r: 0.392486\tvalid_1's spearman_r: 0.249718\n",
            "[800]\ttraining's spearman_r: 0.433248\tvalid_1's spearman_r: 0.271502\n",
            "[1000]\ttraining's spearman_r: 0.464399\tvalid_1's spearman_r: 0.288295\n",
            "Did not meet early stopping. Best iteration is:\n",
            "[1000]\ttraining's spearman_r: 0.464399\tvalid_1's spearman_r: 0.288295\n",
            "\n",
            "MODEL G *********************************************************************************************\n",
            "Training until validation scores don't improve for 50 rounds.\n",
            "[200]\ttraining's spearman_g: 0.310441\tvalid_1's spearman_g: 0.261707\n",
            "[400]\ttraining's spearman_g: 0.406321\tvalid_1's spearman_g: 0.33795\n",
            "[600]\ttraining's spearman_g: 0.465903\tvalid_1's spearman_g: 0.384334\n",
            "[800]\ttraining's spearman_g: 0.507772\tvalid_1's spearman_g: 0.416625\n",
            "[1000]\ttraining's spearman_g: 0.540773\tvalid_1's spearman_g: 0.442068\n",
            "Did not meet early stopping. Best iteration is:\n",
            "[1000]\ttraining's spearman_g: 0.540773\tvalid_1's spearman_g: 0.442068\n",
            "\n",
            "MODEL B *********************************************************************************************\n",
            "Training until validation scores don't improve for 50 rounds.\n",
            "[200]\ttraining's spearman_b: 0.350944\tvalid_1's spearman_b: 0.321275\n",
            "[400]\ttraining's spearman_b: 0.449779\tvalid_1's spearman_b: 0.404605\n",
            "[600]\ttraining's spearman_b: 0.513398\tvalid_1's spearman_b: 0.45829\n",
            "[800]\ttraining's spearman_b: 0.55755\tvalid_1's spearman_b: 0.496763\n",
            "[1000]\ttraining's spearman_b: 0.59102\tvalid_1's spearman_b: 0.524885\n",
            "Did not meet early stopping. Best iteration is:\n",
            "[1000]\ttraining's spearman_b: 0.59102\tvalid_1's spearman_b: 0.524885\n",
            "FOLD  5 COMPLETED\n",
            "(442353, 49)\n",
            "28.85966986141943 44.397232096811884 52.55152177638415\n",
            "41.93614124487182\n"
          ],
          "name": "stdout"
        }
      ]
    },
    {
      "cell_type": "code",
      "metadata": {
        "id": "YC-qts1qknqt",
        "outputId": "6ca5f961-d0bc-4fa4-8077-fc94e31b2d8b",
        "colab": {
          "base_uri": "https://localhost:8080/",
          "height": 297
        }
      },
      "source": [
        "prediction.describe()"
      ],
      "execution_count": 12,
      "outputs": [
        {
          "output_type": "execute_result",
          "data": {
            "text/html": [
              "<div>\n",
              "<style scoped>\n",
              "    .dataframe tbody tr th:only-of-type {\n",
              "        vertical-align: middle;\n",
              "    }\n",
              "\n",
              "    .dataframe tbody tr th {\n",
              "        vertical-align: top;\n",
              "    }\n",
              "\n",
              "    .dataframe thead th {\n",
              "        text-align: right;\n",
              "    }\n",
              "</style>\n",
              "<table border=\"1\" class=\"dataframe\">\n",
              "  <thead>\n",
              "    <tr style=\"text-align: right;\">\n",
              "      <th></th>\n",
              "      <th>target_r</th>\n",
              "      <th>target_g</th>\n",
              "      <th>target_b</th>\n",
              "    </tr>\n",
              "  </thead>\n",
              "  <tbody>\n",
              "    <tr>\n",
              "      <th>count</th>\n",
              "      <td>442353.000000</td>\n",
              "      <td>442353.000000</td>\n",
              "      <td>442353.000000</td>\n",
              "    </tr>\n",
              "    <tr>\n",
              "      <th>mean</th>\n",
              "      <td>0.498839</td>\n",
              "      <td>0.497949</td>\n",
              "      <td>0.498416</td>\n",
              "    </tr>\n",
              "    <tr>\n",
              "      <th>std</th>\n",
              "      <td>0.029127</td>\n",
              "      <td>0.040435</td>\n",
              "      <td>0.049123</td>\n",
              "    </tr>\n",
              "    <tr>\n",
              "      <th>min</th>\n",
              "      <td>0.243215</td>\n",
              "      <td>0.178438</td>\n",
              "      <td>0.171884</td>\n",
              "    </tr>\n",
              "    <tr>\n",
              "      <th>25%</th>\n",
              "      <td>0.482011</td>\n",
              "      <td>0.473326</td>\n",
              "      <td>0.468597</td>\n",
              "    </tr>\n",
              "    <tr>\n",
              "      <th>50%</th>\n",
              "      <td>0.499977</td>\n",
              "      <td>0.498947</td>\n",
              "      <td>0.499941</td>\n",
              "    </tr>\n",
              "    <tr>\n",
              "      <th>75%</th>\n",
              "      <td>0.516820</td>\n",
              "      <td>0.523498</td>\n",
              "      <td>0.529754</td>\n",
              "    </tr>\n",
              "    <tr>\n",
              "      <th>max</th>\n",
              "      <td>0.695555</td>\n",
              "      <td>0.755375</td>\n",
              "      <td>0.757637</td>\n",
              "    </tr>\n",
              "  </tbody>\n",
              "</table>\n",
              "</div>"
            ],
            "text/plain": [
              "            target_r       target_g       target_b\n",
              "count  442353.000000  442353.000000  442353.000000\n",
              "mean        0.498839       0.497949       0.498416\n",
              "std         0.029127       0.040435       0.049123\n",
              "min         0.243215       0.178438       0.171884\n",
              "25%         0.482011       0.473326       0.468597\n",
              "50%         0.499977       0.498947       0.499941\n",
              "75%         0.516820       0.523498       0.529754\n",
              "max         0.695555       0.755375       0.757637"
            ]
          },
          "metadata": {
            "tags": []
          },
          "execution_count": 12
        }
      ]
    },
    {
      "cell_type": "code",
      "metadata": {
        "id": "9Wb2jOo21-Q3",
        "outputId": "9049c2d1-9707-4740-e52e-28e9280a8ebb",
        "colab": {
          "base_uri": "https://localhost:8080/"
        }
      },
      "source": [
        "for i in prediction.columns:\n",
        "    print(prediction[i].nunique())"
      ],
      "execution_count": 14,
      "outputs": [
        {
          "output_type": "stream",
          "text": [
            "407987\n",
            "407959\n",
            "407845\n"
          ],
          "name": "stdout"
        }
      ]
    },
    {
      "cell_type": "code",
      "metadata": {
        "id": "XF5OMoTkkS0F",
        "colab": {
          "base_uri": "https://localhost:8080/",
          "height": 752
        },
        "outputId": "4884e577-b9e9-4a72-9fd7-63b6f6134998"
      },
      "source": [
        "fig, axes = plt.subplots(nrows=2, ncols=3)\n",
        "figsize=(20, 12)\n",
        "oof_pred_df['target_r'].plot(kind='hist', ax=axes[0][0], figsize=figsize, title='R')\n",
        "oof_pred_df['target_g'].plot(kind='hist', ax=axes[0][1], figsize=figsize, title=\"G\")\n",
        "oof_pred_df['target_b'].plot(kind='hist', ax=axes[0][2], figsize=figsize, title=\"B\")\n",
        "prediction['target_r'].plot(kind='hist', ax=axes[1][0], figsize=figsize, title='R')\n",
        "prediction['target_g'].plot(kind='hist', ax=axes[1][1], figsize=figsize, title='G')\n",
        "prediction['target_b'].plot(kind='hist', ax=axes[1][2], figsize=figsize, title='B')"
      ],
      "execution_count": 15,
      "outputs": [
        {
          "output_type": "execute_result",
          "data": {
            "text/plain": [
              "<matplotlib.axes._subplots.AxesSubplot at 0x7f794cd3e450>"
            ]
          },
          "metadata": {
            "tags": []
          },
          "execution_count": 15
        },
        {
          "output_type": "display_data",
          "data": {
            "image/png": "[encoded data removed]",
            "text/plain": [
              "<Figure size 1440x864 with 6 Axes>"
            ]
          },
          "metadata": {
            "tags": [],
            "needs_background": "light"
          }
        }
      ]
    },
    {
      "cell_type": "code",
      "metadata": {
        "id": "8dhGcVtOsKHM",
        "outputId": "b172ec4f-6adf-4632-e95f-b3b831f34881",
        "colab": {
          "base_uri": "https://localhost:8080/"
        }
      },
      "source": [
        "API_KEY = \"0GIskIC9Rd1I8sMw6nStutbIbMx7AaZzAyNfuMOVAVWgJtNa1IVQHZAD3WPj\" # <- HERE\n",
        "\n",
        "r = requests.post(\"https://tournament.datacrunch.com/api/submission\",\n",
        "    files = {\n",
        "        \"file\": (\"x\", prediction.to_csv().encode('ascii'))\n",
        "    },\n",
        "    data = {\n",
        "        \"apiKey\": API_KEY\n",
        "    },\n",
        ")\n",
        "\n",
        "if r.status_code == 200:\n",
        "    print(\"Submission submitted :)\")\n",
        "elif r.status_code == 423:\n",
        "    print(\"ERR: Submissions are close\")\n",
        "    print(\"You can only submit during rounds eg: Friday 7pm GMT+1 to Sunday midnight GMT+1.\")\n",
        "    print(\"Or the server is currently crunching the submitted files, please wait some time before retrying.\")\n",
        "elif r.status_code == 422:\n",
        "    print(\"ERR: API Key is missing or empty\")\n",
        "    print(\"Did you forget to fill the API_KEY variable?\")\n",
        "elif r.status_code == 404:\n",
        "    print(\"ERR: Unknown API Key\")\n",
        "    print(\"You should check that the provided API key is valid and is the same as the one you've received by email.\")\n",
        "elif r.status_code == 400:\n",
        "    print(\"ERR: The file must not be empty\")\n",
        "    print(\"You have send a empty file.\")\n",
        "elif r.status_code == 401:\n",
        "    print(\"ERR: Your email hasn't been verified\")\n",
        "    print(\"Please verify your email or contact a cruncher.\")\n",
        "elif r.status_code == 429:\n",
        "    print(\"ERR: Too many submissions\")\n",
        "else:\n",
        "    print(\"ERR: Server returned: \" + str(r.status_code))\n",
        "    print(\"Ouch! It seems that we were not expecting this kind of result from the server, if the probleme persist, contact a cruncher.\")"
      ],
      "execution_count": 18,
      "outputs": [
        {
          "output_type": "stream",
          "text": [
            "Submission submitted :)\n"
          ],
          "name": "stdout"
        }
      ]
    },
    {
      "cell_type": "code",
      "metadata": {
        "id": "lFnlJ5hu2Lcz"
      },
      "source": [
        ""
      ],
      "execution_count": null,
      "outputs": []
    }
  ]
}