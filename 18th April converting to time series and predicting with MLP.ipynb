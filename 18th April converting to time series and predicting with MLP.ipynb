{
  "nbformat": 4,
  "nbformat_minor": 0,
  "metadata": {
    "colab": {
      "name": "scratchpad",
      "provenance": [],
      "machine_shape": "hm",
      "include_colab_link": true
    },
    "kernelspec": {
      "display_name": "Python 3",
      "name": "python3"
    },
    "accelerator": "GPU"
  },
  "cells": [
    {
      "cell_type": "markdown",
      "metadata": {
        "id": "view-in-github",
        "colab_type": "text"
      },
      "source": [
        "<a href=\"https://colab.research.google.com/github/pratik-poudel/datacrunch/blob/main/18th%20April%20converting%20to%20time%20series%20and%20predicting%20with%20MLP.ipynb\" target=\"_parent\"><img src=\"https://colab.research.google.com/assets/colab-badge.svg\" alt=\"Open In Colab\"/></a>"
      ]
    },
    {
      "cell_type": "code",
      "metadata": {
        "id": "lIYdn1woOS1n"
      },
      "source": [
        "import numpy as np\n",
        "import pandas as pd\n",
        "from collections import defaultdict\n",
        "from tqdm.notebook import tqdm\n",
        "from matplotlib import pyplot as plt\n",
        "import warnings\n",
        "warnings.filterwarnings('ignore')\n",
        "import seaborn as sns\n",
        "import gc\n",
        "# pd.options.display.float_format| = \"{:.2f}\".format\n",
        "pd.options.display.max_columns = 500\n",
        "\n",
        "\n",
        "from sklearn.model_selection import train_test_split\n",
        "from sklearn.metrics import accuracy_score \n",
        "from sklearn.metrics import classification_report \n",
        "import requests\n",
        "from scipy import stats\n",
        "\n",
        "import lightgbm as lgb\n",
        "\n",
        "from tensorflow.keras.callbacks import EarlyStopping, ModelCheckpoint\n"
      ],
      "execution_count": 106,
      "outputs": []
    },
    {
      "cell_type": "code",
      "metadata": {
        "id": "-Fp6KUxlw_3G"
      },
      "source": [
        "train_datalink_X = 'https://tournament.datacrunch.com/data/X_train.csv'  \n",
        "train_datalink_y = 'https://tournament.datacrunch.com/data/y_train.csv'\n",
        "hackathon_data_link = 'https://tournament.datacrunch.com/data/X_test.csv'"
      ],
      "execution_count": 107,
      "outputs": []
    },
    {
      "cell_type": "code",
      "metadata": {
        "id": "EH7b596jxFEG"
      },
      "source": [
        "train = pd.read_csv(train_datalink_X)\n",
        "target = pd.read_csv(train_datalink_y)\n",
        "test = pd.read_csv(hackathon_data_link)"
      ],
      "execution_count": 108,
      "outputs": []
    },
    {
      "cell_type": "code",
      "metadata": {
        "id": "IcFYYvIN-0AN"
      },
      "source": [
        "train = pd.concat([train, target], axis=1)"
      ],
      "execution_count": 109,
      "outputs": []
    },
    {
      "cell_type": "code",
      "metadata": {
        "id": "ZF5_9STO1GKb"
      },
      "source": [
        "train = train.drop(['Moons', 'id'], axis=1)"
      ],
      "execution_count": 110,
      "outputs": []
    },
    {
      "cell_type": "code",
      "metadata": {
        "id": "4VdsAQhY4DmT",
        "outputId": "e0376fe0-6ef1-48b1-9b9b-eb116f7ba2f0",
        "colab": {
          "base_uri": "https://localhost:8080/"
        }
      },
      "source": [
        "train.shape[0] - (478+478)"
      ],
      "execution_count": 111,
      "outputs": [
        {
          "output_type": "execute_result",
          "data": {
            "text/plain": [
              "5582"
            ]
          },
          "metadata": {
            "tags": []
          },
          "execution_count": 111
        }
      ]
    },
    {
      "cell_type": "code",
      "metadata": {
        "id": "ysLsAohLO34r"
      },
      "source": [
        "validation_data = train[5582: ]\n",
        "train_data = train[:5582]"
      ],
      "execution_count": 112,
      "outputs": []
    },
    {
      "cell_type": "code",
      "metadata": {
        "colab": {
          "base_uri": "https://localhost:8080/"
        },
        "id": "wrj3XSqmYYBB",
        "outputId": "a0c66809-a4dc-4e91-8256-00218a7c2bee"
      },
      "source": [
        "features = [f for f in train_data.columns if 'Feature' in f]\n",
        "len(features)"
      ],
      "execution_count": 113,
      "outputs": [
        {
          "output_type": "execute_result",
          "data": {
            "text/plain": [
              "13"
            ]
          },
          "metadata": {
            "tags": []
          },
          "execution_count": 113
        }
      ]
    },
    {
      "cell_type": "markdown",
      "metadata": {
        "id": "poRcC-PmPIws"
      },
      "source": [
        "# TRAINING"
      ]
    },
    {
      "cell_type": "code",
      "metadata": {
        "id": "IAeBShzMO_h8"
      },
      "source": [
        "def scorer(y_test, y_pred):\n",
        "    score = (stats.spearmanr(y_test, y_pred))[0]\n",
        "    # print('Score as calculated for the leader board (っಠ‿ಠ)っ {}'.format(score))\n",
        "    return score"
      ],
      "execution_count": 114,
      "outputs": []
    },
    {
      "cell_type": "code",
      "metadata": {
        "id": "HT8sI09oPMQ2"
      },
      "source": [
        "# train[:10][['Feature_1', 'target_r']]"
      ],
      "execution_count": 115,
      "outputs": []
    },
    {
      "cell_type": "code",
      "metadata": {
        "id": "IgE--0v-7ZKL"
      },
      "source": [
        ""
      ],
      "execution_count": 115,
      "outputs": []
    },
    {
      "cell_type": "code",
      "metadata": {
        "id": "N_hPzUj3TQF9"
      },
      "source": [
        "def split_sequences(sequences, n_steps):\n",
        "    X, y = list(), list()   \n",
        "    for i in range(len(sequences)):\n",
        "# find the end of this pattern\n",
        "        end_ix = i + n_steps\n",
        "# check if we are beyond the dataset\n",
        "        if end_ix > len(sequences):\n",
        "            break\n",
        "# gather input and output parts of the pattern\n",
        "        seq_x, seq_y = sequences[i:end_ix, :-3], sequences[end_ix-1, -3:]\n",
        "        # print(seq_x.shape)\n",
        "        # print(seq_y.shape)\n",
        "        # print(seq_x, seq_y)\n",
        "        X.append(seq_x)\n",
        "        y.append(seq_y)\n",
        "    return np.array(X), np.array(y)\n",
        "\n"
      ],
      "execution_count": 116,
      "outputs": []
    },
    {
      "cell_type": "code",
      "metadata": {
        "id": "DVQm-15LvxgE"
      },
      "source": [
        "train_data_arr = np.array(train_data)\n",
        "validation_data_arr = np.array(validation_data)"
      ],
      "execution_count": 117,
      "outputs": []
    },
    {
      "cell_type": "code",
      "metadata": {
        "id": "MMSwWHAbv1Nz",
        "colab": {
          "base_uri": "https://localhost:8080/"
        },
        "outputId": "ef6404a9-da2e-4c23-a58f-f000de8435ac"
      },
      "source": [
        "train_data_arr.shape, validation_data_arr.shape"
      ],
      "execution_count": 118,
      "outputs": [
        {
          "output_type": "execute_result",
          "data": {
            "text/plain": [
              "((5582, 16), (956, 16))"
            ]
          },
          "metadata": {
            "tags": []
          },
          "execution_count": 118
        }
      ]
    },
    {
      "cell_type": "code",
      "metadata": {
        "id": "zCoDgbLgYybo"
      },
      "source": [
        "%matplotlib inline\n",
        "def plot_metric(history, metric):\n",
        "    train_metrics = history.history[metric]\n",
        "    val_metrics = history.history['val_'+metric]\n",
        "    epochs = range(1, len(train_metrics) + 1)\n",
        "    plt.plot(epochs, train_metrics)\n",
        "    plt.plot(epochs, val_metrics)\n",
        "    plt.title('Training and validation '+ metric)\n",
        "    plt.xlabel(\"Epochs\")\n",
        "    plt.ylabel(metric)\n",
        "    plt.legend([\"train_\"+metric, 'val_'+metric])\n",
        "    plt.show()"
      ],
      "execution_count": 119,
      "outputs": []
    },
    {
      "cell_type": "code",
      "metadata": {
        "id": "dmjX1feYAUaB",
        "outputId": "2369545a-5167-4804-8824-3fc2c63b49d5",
        "colab": {
          "base_uri": "https://localhost:8080/"
        }
      },
      "source": [
        "y_train"
      ],
      "execution_count": 126,
      "outputs": [
        {
          "output_type": "execute_result",
          "data": {
            "text/plain": [
              "array([[1.  , 0.5 , 0.25],\n",
              "       [0.  , 0.5 , 0.5 ],\n",
              "       [0.5 , 0.5 , 0.5 ],\n",
              "       ...,\n",
              "       [0.75, 0.25, 0.  ],\n",
              "       [0.  , 0.  , 0.  ],\n",
              "       [1.  , 1.  , 1.  ]])"
            ]
          },
          "metadata": {
            "tags": []
          },
          "execution_count": 126
        }
      ]
    },
    {
      "cell_type": "code",
      "metadata": {
        "id": "mR-XTuWxViYh",
        "colab": {
          "base_uri": "https://localhost:8080/",
          "height": 809
        },
        "outputId": "4ea54a77-8187-4b8d-caf2-7b1305c63094"
      },
      "source": [
        "np.random.seed(60)\n",
        "df = []\n",
        "for i in [14,28]:\n",
        "    n_steps = i\n",
        "    print( \"TIME STEPS : --------> \" , i)\n",
        "    X_train, y_train = split_sequences(train_data_arr, n_steps)\n",
        "    X_val, y_val = split_sequences(validation_data_arr, n_steps)\n",
        "\n",
        "    n_input = X_train.shape[1] * X_train.shape[2]\n",
        "    X_train = X_train.reshape((X_train.shape[0], n_input))\n",
        "    X_val = X_val.reshape((X_val.shape[0], n_input))\n",
        "\n",
        "    from keras.models import Sequential\n",
        "    from keras.layers import Dense\n",
        "\n",
        "\n",
        "    model = Sequential()\n",
        "    model.add(Dense(1024, activation='relu', input_dim=n_input))\n",
        "    model.add(Dense(512, activation='relu'))\n",
        "    model.add(Dense(256, activation='relu'))\n",
        "    model.add(Dense(150, activation='relu'))\n",
        "    model.add(Dense(50, activation='relu'))\n",
        "    model.add(Dense(3))\n",
        "    model.compile(optimizer='rmsprop', loss='mse')\n",
        "\n",
        "    early_stopping = EarlyStopping(monitor='val_loss', mode='min', verbose=1, patience=15)\n",
        "    mcp_save = ModelCheckpoint('./model.hdf5', save_best_only=True, monitor='val_loss', mode='min')\n",
        "\n",
        "    batch_size = 512\n",
        "    epochs = 250\n",
        "\n",
        "    history = model.fit(X_train, y_train, epochs=epochs, batch_size=batch_size,verbose=None, validation_data=(X_val, y_val), \n",
        "                        callbacks=[early_stopping, mcp_save], shuffle=False)\n",
        "\n",
        "    \n",
        "    plot_metric(history, 'loss')\n",
        "    plt.show()\n",
        "\n",
        "    model.load_weights('model.hdf5')\n",
        "    preds= model.predict(X_val, batch_size=batch_size)\n",
        "    cols = ['target_r', 'target_g', 'target_b']\n",
        "    preds = pd.DataFrame(preds, columns=cols)\n",
        "\n",
        "    scores = []\n",
        "    scores.append(n_steps)\n",
        "    scores.append(scorer(y_val[:, 0], preds.target_r))\n",
        "    scores.append(scorer(y_val[:, 1], preds.target_g))\n",
        "    scores.append(scorer(y_val[:, 2], preds.target_b))\n",
        "    df.append(pd.DataFrame(scores))\n",
        "    print(scores)\n",
        "    print(\" \")\n",
        "    print(\" \")\n"
      ],
      "execution_count": 134,
      "outputs": [
        {
          "output_type": "stream",
          "text": [
            "TIME STEPS : -------->  14\n",
            "Epoch 00017: early stopping\n"
          ],
          "name": "stdout"
        },
        {
          "output_type": "display_data",
          "data": {
            "image/png": "[encoded data removed]",
            "text/plain": [
              "<Figure size 432x288 with 1 Axes>"
            ]
          },
          "metadata": {
            "tags": [],
            "needs_background": "light"
          }
        },
        {
          "output_type": "stream",
          "text": [
            "WARNING:tensorflow:7 out of the last 12 calls to <function Model.make_predict_function.<locals>.predict_function at 0x7fbcbbf7db00> triggered tf.function retracing. Tracing is expensive and the excessive number of tracings could be due to (1) creating @tf.function repeatedly in a loop, (2) passing tensors with different shapes, (3) passing Python objects instead of tensors. For (1), please define your @tf.function outside of the loop. For (2), @tf.function has experimental_relax_shapes=True option that relaxes argument shapes that can avoid unnecessary retracing. For (3), please refer to https://www.tensorflow.org/guide/function#controlling_retracing and https://www.tensorflow.org/api_docs/python/tf/function for  more details.\n",
            "[14, 0.047970775662251296, 0.11084684835530803, 0.12964554658173777]\n",
            " \n",
            " \n",
            "TIME STEPS : -------->  28\n",
            "Epoch 00018: early stopping\n"
          ],
          "name": "stdout"
        },
        {
          "output_type": "display_data",
          "data": {
            "image/png": "[encoded data removed]",
            "text/plain": [
              "<Figure size 432x288 with 1 Axes>"
            ]
          },
          "metadata": {
            "tags": [],
            "needs_background": "light"
          }
        },
        {
          "output_type": "stream",
          "text": [
            "WARNING:tensorflow:6 out of the last 11 calls to <function Model.make_predict_function.<locals>.predict_function at 0x7fbcbc7637a0> triggered tf.function retracing. Tracing is expensive and the excessive number of tracings could be due to (1) creating @tf.function repeatedly in a loop, (2) passing tensors with different shapes, (3) passing Python objects instead of tensors. For (1), please define your @tf.function outside of the loop. For (2), @tf.function has experimental_relax_shapes=True option that relaxes argument shapes that can avoid unnecessary retracing. For (3), please refer to https://www.tensorflow.org/guide/function#controlling_retracing and https://www.tensorflow.org/api_docs/python/tf/function for  more details.\n",
            "[28, 0.04118189357926253, 0.09946219142419957, 0.09008119506346376]\n",
            " \n",
            " \n"
          ],
          "name": "stdout"
        }
      ]
    },
    {
      "cell_type": "code",
      "metadata": {
        "id": "RnPAF_k4ajT1"
      },
      "source": [
        "df = pd.concat(df, axis=1)\n",
        "df.columns = df.iloc[0]\n",
        "df.drop(df.index[0], inplace=True)"
      ],
      "execution_count": 121,
      "outputs": []
    },
    {
      "cell_type": "code",
      "metadata": {
        "id": "oyiYYpfgbBu5",
        "colab": {
          "base_uri": "https://localhost:8080/",
          "height": 111
        },
        "outputId": "e2fb7d84-d0af-4a7e-91f5-db4085109379"
      },
      "source": [
        "df.T"
      ],
      "execution_count": 122,
      "outputs": [
        {
          "output_type": "execute_result",
          "data": {
            "text/html": [
              "<div>\n",
              "<style scoped>\n",
              "    .dataframe tbody tr th:only-of-type {\n",
              "        vertical-align: middle;\n",
              "    }\n",
              "\n",
              "    .dataframe tbody tr th {\n",
              "        vertical-align: top;\n",
              "    }\n",
              "\n",
              "    .dataframe thead th {\n",
              "        text-align: right;\n",
              "    }\n",
              "</style>\n",
              "<table border=\"1\" class=\"dataframe\">\n",
              "  <thead>\n",
              "    <tr style=\"text-align: right;\">\n",
              "      <th></th>\n",
              "      <th>1</th>\n",
              "      <th>2</th>\n",
              "      <th>3</th>\n",
              "    </tr>\n",
              "    <tr>\n",
              "      <th>0</th>\n",
              "      <th></th>\n",
              "      <th></th>\n",
              "      <th></th>\n",
              "    </tr>\n",
              "  </thead>\n",
              "  <tbody>\n",
              "    <tr>\n",
              "      <th>30.0</th>\n",
              "      <td>0.094938</td>\n",
              "      <td>0.144218</td>\n",
              "      <td>0.132706</td>\n",
              "    </tr>\n",
              "  </tbody>\n",
              "</table>\n",
              "</div>"
            ],
            "text/plain": [
              "             1         2         3\n",
              "0                                 \n",
              "30.0  0.094938  0.144218  0.132706"
            ]
          },
          "metadata": {
            "tags": []
          },
          "execution_count": 122
        }
      ]
    },
    {
      "cell_type": "code",
      "metadata": {
        "id": "0T6-SCSYivm7"
      },
      "source": [
        "# df.T.max()"
      ],
      "execution_count": 59,
      "outputs": []
    },
    {
      "cell_type": "markdown",
      "metadata": {
        "id": "xM6Vtwnj4-DP"
      },
      "source": [
        "# NEW"
      ]
    },
    {
      "cell_type": "code",
      "metadata": {
        "id": "DoD58bWHl4TT"
      },
      "source": [
        "train = pd.read_csv(train_datalink_X)\n",
        "target = pd.read_csv(train_datalink_y)\n",
        "test = pd.read_csv(hackathon_data_link)"
      ],
      "execution_count": 78,
      "outputs": []
    },
    {
      "cell_type": "code",
      "metadata": {
        "id": "PoNreJ6al4TU"
      },
      "source": [
        "train = pd.concat([train, target], axis=1)\n",
        "train = train.drop(['id', 'Moons'], axis=1)"
      ],
      "execution_count": 79,
      "outputs": []
    },
    {
      "cell_type": "code",
      "metadata": {
        "colab": {
          "base_uri": "https://localhost:8080/"
        },
        "id": "e4N_B0Uml4TV",
        "outputId": "3d663fa8-e028-4583-d0dc-a92ea627f833"
      },
      "source": [
        "train.shape"
      ],
      "execution_count": 80,
      "outputs": [
        {
          "output_type": "execute_result",
          "data": {
            "text/plain": [
              "(6538, 16)"
            ]
          },
          "metadata": {
            "tags": []
          },
          "execution_count": 80
        }
      ]
    },
    {
      "cell_type": "code",
      "metadata": {
        "id": "FIqNqm542BkY",
        "outputId": "41bb3cca-11e5-4f55-8eb5-ae160638f094",
        "colab": {
          "base_uri": "https://localhost:8080/"
        }
      },
      "source": [
        "features = [f for f in train_data.columns if 'Feature' in f]\n",
        "len(features)"
      ],
      "execution_count": 81,
      "outputs": [
        {
          "output_type": "execute_result",
          "data": {
            "text/plain": [
              "13"
            ]
          },
          "metadata": {
            "tags": []
          },
          "execution_count": 81
        }
      ]
    },
    {
      "cell_type": "code",
      "metadata": {
        "id": "wqOkmqAKl4TW"
      },
      "source": [
        "validation_data = train[5582: ]\n",
        "train_data = train[:5582]"
      ],
      "execution_count": 82,
      "outputs": []
    },
    {
      "cell_type": "code",
      "metadata": {
        "id": "FrtUgIS9i16f",
        "colab": {
          "base_uri": "https://localhost:8080/"
        },
        "outputId": "9d7e9d78-343f-4eb5-e3cf-0086a70ef45c"
      },
      "source": [
        "validation_data.shape[0] - 7"
      ],
      "execution_count": 83,
      "outputs": [
        {
          "output_type": "execute_result",
          "data": {
            "text/plain": [
              "949"
            ]
          },
          "metadata": {
            "tags": []
          },
          "execution_count": 83
        }
      ]
    },
    {
      "cell_type": "code",
      "metadata": {
        "id": "MONi5CFncH9r",
        "colab": {
          "base_uri": "https://localhost:8080/"
        },
        "outputId": "d24b9923-2397-4a9d-d9d2-3128c5958506"
      },
      "source": [
        "test_merge = validation_data[950:]\n",
        "test_merge.shape"
      ],
      "execution_count": 84,
      "outputs": [
        {
          "output_type": "execute_result",
          "data": {
            "text/plain": [
              "(6, 16)"
            ]
          },
          "metadata": {
            "tags": []
          },
          "execution_count": 84
        }
      ]
    },
    {
      "cell_type": "code",
      "metadata": {
        "id": "SEplxHsA5aQP",
        "outputId": "4f7bd93f-321e-4d85-da9b-69fe672cf7aa",
        "colab": {
          "base_uri": "https://localhost:8080/"
        }
      },
      "source": [
        "test.shape"
      ],
      "execution_count": 85,
      "outputs": [
        {
          "output_type": "execute_result",
          "data": {
            "text/plain": [
              "(3436, 15)"
            ]
          },
          "metadata": {
            "tags": []
          },
          "execution_count": 85
        }
      ]
    },
    {
      "cell_type": "code",
      "metadata": {
        "id": "urPZXRKtcWX8"
      },
      "source": [
        "cols = ['target_r', 'target_g', 'target_b']\n",
        "test_merge.drop(columns=cols, inplace=True)"
      ],
      "execution_count": 86,
      "outputs": []
    },
    {
      "cell_type": "code",
      "metadata": {
        "id": "P_dBWHAwclLn",
        "outputId": "f4bfcb4e-caf8-4d82-cb5c-0509c7c445f6",
        "colab": {
          "base_uri": "https://localhost:8080/"
        }
      },
      "source": [
        "validation_data = validation_data[:950]\n",
        "validation_data.shape"
      ],
      "execution_count": 87,
      "outputs": [
        {
          "output_type": "execute_result",
          "data": {
            "text/plain": [
              "(950, 16)"
            ]
          },
          "metadata": {
            "tags": []
          },
          "execution_count": 87
        }
      ]
    },
    {
      "cell_type": "code",
      "metadata": {
        "id": "KHwMNbxIb5TZ",
        "colab": {
          "base_uri": "https://localhost:8080/"
        },
        "outputId": "0bf47178-b60e-4d42-92d1-435129cad664"
      },
      "source": [
        "train_data_arr = np.array(train_data)\n",
        "validation_data_arr = np.array(validation_data)\n",
        "validation_data_arr.shape"
      ],
      "execution_count": 88,
      "outputs": [
        {
          "output_type": "execute_result",
          "data": {
            "text/plain": [
              "(950, 16)"
            ]
          },
          "metadata": {
            "tags": []
          },
          "execution_count": 88
        }
      ]
    },
    {
      "cell_type": "code",
      "metadata": {
        "id": "8m9gmn2-baw4",
        "colab": {
          "base_uri": "https://localhost:8080/",
          "height": 403
        },
        "outputId": "34342b34-fa69-478e-9f62-8fdeae3c14cf"
      },
      "source": [
        "np.random.seed(60)\n",
        "n_steps = 7\n",
        "X_train, y_train = split_sequences(train_data_arr, n_steps)\n",
        "print(X_train.shape)\n",
        "X_val, y_val = split_sequences(validation_data_arr, n_steps)\n",
        "print(X_val.shape)\n",
        "n_input = X_train.shape[1] * X_train.shape[2]\n",
        "X_train = X_train.reshape((X_train.shape[0], n_input))\n",
        "X_val = X_val.reshape((X_val.shape[0], n_input))\n",
        "\n",
        "from keras.models import Sequential\n",
        "from keras.layers import Dense\n",
        "\n",
        "\n",
        "model = Sequential()\n",
        "model.add(Dense(1024, activation='sigmoid', input_dim=n_input))\n",
        "model.add(Dense(512, activation='relu'))\n",
        "# model.add(Dense(256, activation='relu'))\n",
        "model.add(Dense(150, activation='relu'))\n",
        "# model.add(Dense(50, activation='relu'))\n",
        "model.add(Dense(3))\n",
        "model.compile(optimizer='rmsprop', loss='mse')\n",
        "\n",
        "early_stopping = EarlyStopping(monitor='val_loss', mode='min', verbose=1, patience=15)\n",
        "mcp_save = ModelCheckpoint('./model.hdf5', save_best_only=True, monitor='val_loss', mode='min')\n",
        "\n",
        "batch_size = 64\n",
        "epochs = 250\n",
        "\n",
        "history = model.fit(X_train, y_train, epochs=epochs, batch_size=batch_size,verbose=0, validation_data=(X_val, y_val), \n",
        "                    callbacks=[early_stopping, mcp_save], shuffle=True)\n",
        "\n",
        "\n",
        "plot_metric(history, 'loss')\n",
        "\n",
        "model.load_weights('model.hdf5')\n",
        "preds= model.predict(X_val, batch_size=batch_size)\n",
        "cols = ['target_r', 'target_g', 'target_b']\n",
        "preds = pd.DataFrame(preds, columns=cols)\n",
        "\n",
        "print(scorer(y_val[:, 0], preds.target_r))\n",
        "print(scorer(y_val[:, 1], preds.target_g))\n",
        "print(scorer(y_val[:, 2], preds.target_b))"
      ],
      "execution_count": 89,
      "outputs": [
        {
          "output_type": "stream",
          "text": [
            "(5576, 7, 13)\n",
            "(944, 7, 13)\n",
            "Epoch 00024: early stopping\n"
          ],
          "name": "stdout"
        },
        {
          "output_type": "display_data",
          "data": {
            "image/png": "[encoded data removed]",
            "text/plain": [
              "<Figure size 432x288 with 1 Axes>"
            ]
          },
          "metadata": {
            "tags": [],
            "needs_background": "light"
          }
        },
        {
          "output_type": "stream",
          "text": [
            "0.0878476682448086\n",
            "0.13055533619744233\n",
            "0.1789274529685126\n"
          ],
          "name": "stdout"
        }
      ]
    },
    {
      "cell_type": "code",
      "metadata": {
        "id": "jiN9Fu7Z2gK1",
        "outputId": "f3f6fc3c-e111-49af-e754-28e32e8e5cc5",
        "colab": {
          "base_uri": "https://localhost:8080/"
        }
      },
      "source": [
        "X_val.shape"
      ],
      "execution_count": 90,
      "outputs": [
        {
          "output_type": "execute_result",
          "data": {
            "text/plain": [
              "(944, 91)"
            ]
          },
          "metadata": {
            "tags": []
          },
          "execution_count": 90
        }
      ]
    },
    {
      "cell_type": "code",
      "metadata": {
        "id": "zH5UDkAAbars",
        "colab": {
          "base_uri": "https://localhost:8080/"
        },
        "outputId": "e8669b68-f0cf-4ae3-e0c4-7c86d093b58c"
      },
      "source": [
        "test_data_with_lag = pd.concat([test_merge, test])\n",
        "test_data_with_lag.shape"
      ],
      "execution_count": 91,
      "outputs": [
        {
          "output_type": "execute_result",
          "data": {
            "text/plain": [
              "(3442, 15)"
            ]
          },
          "metadata": {
            "tags": []
          },
          "execution_count": 91
        }
      ]
    },
    {
      "cell_type": "code",
      "metadata": {
        "id": "9sQxUrL23PM2",
        "outputId": "8d64076b-db86-4ad2-baa4-c6e2f733247a",
        "colab": {
          "base_uri": "https://localhost:8080/"
        }
      },
      "source": [
        "test.shape[0]"
      ],
      "execution_count": 96,
      "outputs": [
        {
          "output_type": "execute_result",
          "data": {
            "text/plain": [
              "3436"
            ]
          },
          "metadata": {
            "tags": []
          },
          "execution_count": 96
        }
      ]
    },
    {
      "cell_type": "code",
      "metadata": {
        "id": "xalveW4Xji0K"
      },
      "source": [
        "def split_sequences_for_prediction(sequences, n_steps):\n",
        "    X= list()   \n",
        "    for i in range(len(sequences)):\n",
        "# find the end of this pattern\n",
        "        end_ix = i + n_steps\n",
        "# check if we are beyond the dataset\n",
        "        if end_ix > len(sequences):\n",
        "            break\n",
        "# gather input and output parts of the pattern\n",
        "        seq_x =sequences[i:end_ix]\n",
        "        # print(seq_x)\n",
        "        X.append(seq_x)\n",
        "    return np.array(X)"
      ],
      "execution_count": 93,
      "outputs": []
    },
    {
      "cell_type": "code",
      "metadata": {
        "id": "JOHA1W6qjixU"
      },
      "source": [
        "preds_data = split_sequences_for_prediction(np.array(test_data_with_lag[features]), 7)"
      ],
      "execution_count": 94,
      "outputs": []
    },
    {
      "cell_type": "code",
      "metadata": {
        "id": "LIII01T-lNZn",
        "colab": {
          "base_uri": "https://localhost:8080/"
        },
        "outputId": "e88ba760-41de-4ea7-d270-ded682ac8f05"
      },
      "source": [
        "preds_data.shape"
      ],
      "execution_count": 95,
      "outputs": [
        {
          "output_type": "execute_result",
          "data": {
            "text/plain": [
              "(3436, 7, 13)"
            ]
          },
          "metadata": {
            "tags": []
          },
          "execution_count": 95
        }
      ]
    },
    {
      "cell_type": "code",
      "metadata": {
        "id": "fNeU4ysY3eTQ",
        "outputId": "744e3c50-4f48-4d9a-e643-a536ed0491ca",
        "colab": {
          "base_uri": "https://localhost:8080/"
        }
      },
      "source": [
        "n_input"
      ],
      "execution_count": 97,
      "outputs": [
        {
          "output_type": "execute_result",
          "data": {
            "text/plain": [
              "91"
            ]
          },
          "metadata": {
            "tags": []
          },
          "execution_count": 97
        }
      ]
    },
    {
      "cell_type": "code",
      "metadata": {
        "id": "hfc_y3f3j7av",
        "colab": {
          "base_uri": "https://localhost:8080/"
        },
        "outputId": "c580ea50-a453-4291-8c8e-b5830dedf962"
      },
      "source": [
        "preds_data = preds_data.reshape((preds_data.shape[0], n_input))\n",
        "preds_data.shape"
      ],
      "execution_count": 98,
      "outputs": [
        {
          "output_type": "execute_result",
          "data": {
            "text/plain": [
              "(3436, 91)"
            ]
          },
          "metadata": {
            "tags": []
          },
          "execution_count": 98
        }
      ]
    },
    {
      "cell_type": "code",
      "metadata": {
        "id": "huOGl8Lyj7Xx"
      },
      "source": [
        "prediction = pd.DataFrame(model.predict(preds_data, batch_size=batch_size))"
      ],
      "execution_count": 99,
      "outputs": []
    },
    {
      "cell_type": "code",
      "metadata": {
        "id": "KQPmRrQqj7VB"
      },
      "source": [
        "prediction.columns = cols"
      ],
      "execution_count": 100,
      "outputs": []
    },
    {
      "cell_type": "code",
      "metadata": {
        "id": "e_OXlGtDktZk",
        "colab": {
          "base_uri": "https://localhost:8080/",
          "height": 419
        },
        "outputId": "f9e224b4-80d8-4491-a102-56040cb169cd"
      },
      "source": [
        "prediction"
      ],
      "execution_count": 101,
      "outputs": [
        {
          "output_type": "execute_result",
          "data": {
            "text/html": [
              "<div>\n",
              "<style scoped>\n",
              "    .dataframe tbody tr th:only-of-type {\n",
              "        vertical-align: middle;\n",
              "    }\n",
              "\n",
              "    .dataframe tbody tr th {\n",
              "        vertical-align: top;\n",
              "    }\n",
              "\n",
              "    .dataframe thead th {\n",
              "        text-align: right;\n",
              "    }\n",
              "</style>\n",
              "<table border=\"1\" class=\"dataframe\">\n",
              "  <thead>\n",
              "    <tr style=\"text-align: right;\">\n",
              "      <th></th>\n",
              "      <th>target_r</th>\n",
              "      <th>target_g</th>\n",
              "      <th>target_b</th>\n",
              "    </tr>\n",
              "  </thead>\n",
              "  <tbody>\n",
              "    <tr>\n",
              "      <th>0</th>\n",
              "      <td>0.451949</td>\n",
              "      <td>0.485571</td>\n",
              "      <td>0.479100</td>\n",
              "    </tr>\n",
              "    <tr>\n",
              "      <th>1</th>\n",
              "      <td>0.515320</td>\n",
              "      <td>0.563264</td>\n",
              "      <td>0.559257</td>\n",
              "    </tr>\n",
              "    <tr>\n",
              "      <th>2</th>\n",
              "      <td>0.531052</td>\n",
              "      <td>0.585539</td>\n",
              "      <td>0.580225</td>\n",
              "    </tr>\n",
              "    <tr>\n",
              "      <th>3</th>\n",
              "      <td>0.502462</td>\n",
              "      <td>0.543493</td>\n",
              "      <td>0.529647</td>\n",
              "    </tr>\n",
              "    <tr>\n",
              "      <th>4</th>\n",
              "      <td>0.512574</td>\n",
              "      <td>0.567146</td>\n",
              "      <td>0.553700</td>\n",
              "    </tr>\n",
              "    <tr>\n",
              "      <th>...</th>\n",
              "      <td>...</td>\n",
              "      <td>...</td>\n",
              "      <td>...</td>\n",
              "    </tr>\n",
              "    <tr>\n",
              "      <th>3431</th>\n",
              "      <td>0.478427</td>\n",
              "      <td>0.524198</td>\n",
              "      <td>0.522410</td>\n",
              "    </tr>\n",
              "    <tr>\n",
              "      <th>3432</th>\n",
              "      <td>0.441706</td>\n",
              "      <td>0.479511</td>\n",
              "      <td>0.474017</td>\n",
              "    </tr>\n",
              "    <tr>\n",
              "      <th>3433</th>\n",
              "      <td>0.444057</td>\n",
              "      <td>0.479488</td>\n",
              "      <td>0.475646</td>\n",
              "    </tr>\n",
              "    <tr>\n",
              "      <th>3434</th>\n",
              "      <td>0.463426</td>\n",
              "      <td>0.504783</td>\n",
              "      <td>0.500447</td>\n",
              "    </tr>\n",
              "    <tr>\n",
              "      <th>3435</th>\n",
              "      <td>0.445270</td>\n",
              "      <td>0.480954</td>\n",
              "      <td>0.478342</td>\n",
              "    </tr>\n",
              "  </tbody>\n",
              "</table>\n",
              "<p>3436 rows × 3 columns</p>\n",
              "</div>"
            ],
            "text/plain": [
              "      target_r  target_g  target_b\n",
              "0     0.451949  0.485571  0.479100\n",
              "1     0.515320  0.563264  0.559257\n",
              "2     0.531052  0.585539  0.580225\n",
              "3     0.502462  0.543493  0.529647\n",
              "4     0.512574  0.567146  0.553700\n",
              "...        ...       ...       ...\n",
              "3431  0.478427  0.524198  0.522410\n",
              "3432  0.441706  0.479511  0.474017\n",
              "3433  0.444057  0.479488  0.475646\n",
              "3434  0.463426  0.504783  0.500447\n",
              "3435  0.445270  0.480954  0.478342\n",
              "\n",
              "[3436 rows x 3 columns]"
            ]
          },
          "metadata": {
            "tags": []
          },
          "execution_count": 101
        }
      ]
    },
    {
      "cell_type": "markdown",
      "metadata": {
        "id": "3DRAjG2hPGW7"
      },
      "source": [
        "# Predictions"
      ]
    },
    {
      "cell_type": "code",
      "metadata": {
        "id": "cYyekZi2wXgE",
        "colab": {
          "base_uri": "https://localhost:8080/",
          "height": 283
        },
        "outputId": "5a34ccb3-3515-422d-be12-4145c19ce939"
      },
      "source": [
        "prediction['target_b'].plot(kind='hist')"
      ],
      "execution_count": 104,
      "outputs": [
        {
          "output_type": "execute_result",
          "data": {
            "text/plain": [
              "<matplotlib.axes._subplots.AxesSubplot at 0x7fbd41888710>"
            ]
          },
          "metadata": {
            "tags": []
          },
          "execution_count": 104
        },
        {
          "output_type": "display_data",
          "data": {
            "image/png": "[encoded data removed]",
            "text/plain": [
              "<Figure size 432x288 with 1 Axes>"
            ]
          },
          "metadata": {
            "tags": [],
            "needs_background": "light"
          }
        }
      ]
    },
    {
      "cell_type": "code",
      "metadata": {
        "id": "6FvQl9QBerwb",
        "colab": {
          "base_uri": "https://localhost:8080/"
        },
        "outputId": "bad15c36-20b5-4cd9-e602-0cc71c630417"
      },
      "source": [
        "API_KEY = \"0GIskIC9Rd1I8sMw6nStutbIbMx7AaZzAyNfuMOVAVWgJtNa1IVQHZAD3WPj\" # <- HERE\n",
        "\n",
        "r = requests.post(\"https://tournament.datacrunch.com/api/submission\",\n",
        "    files = {\n",
        "        \"file\": (\"x\", prediction.to_csv().encode('ascii'))\n",
        "    },\n",
        "    data = {\n",
        "        \"apiKey\": API_KEY\n",
        "    },\n",
        ")\n",
        "\n",
        "if r.status_code == 200:\n",
        "    print(\"Submission submitted :)\")\n",
        "elif r.status_code == 423:\n",
        "    print(\"ERR: Submissions are close\")\n",
        "    print(\"You can only submit during rounds eg: Friday 7pm GMT+1 to Sunday midnight GMT+1.\")\n",
        "    print(\"Or the server is currently crunching the submitted files, please wait some time before retrying.\")\n",
        "elif r.status_code == 422:\n",
        "    print(\"ERR: API Key is missing or empty\")\n",
        "    print(\"Did you forget to fill the API_KEY variable?\")\n",
        "elif r.status_code == 404:\n",
        "    print(\"ERR: Unknown API Key\")\n",
        "    print(\"You should check that the provided API key is valid and is the same as the one you've received by email.\")\n",
        "elif r.status_code == 400:\n",
        "    print(\"ERR: The file must not be empty\")\n",
        "    print(\"You have send a empty file.\")\n",
        "elif r.status_code == 401:\n",
        "    print(\"ERR: Your email hasn't been verified\")\n",
        "    print(\"Please verify your email or contact a cruncher.\")\n",
        "elif r.status_code == 429:\n",
        "    print(\"ERR: Too many submissions\")\n",
        "else:\n",
        "    print(\"ERR: Server returned: \" + str(r.status_code))\n",
        "    print(\"Ouch! It seems that we were not expecting this kind of result from the server, if the probleme persist, contact a cruncher.\")"
      ],
      "execution_count": 105,
      "outputs": [
        {
          "output_type": "stream",
          "text": [
            "Submission submitted :)\n"
          ],
          "name": "stdout"
        }
      ]
    },
    {
      "cell_type": "code",
      "metadata": {
        "id": "2WIE4pRQfD7v"
      },
      "source": [
        ""
      ],
      "execution_count": null,
      "outputs": []
    }
  ]
}