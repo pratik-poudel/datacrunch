{
  "nbformat": 4,
  "nbformat_minor": 0,
  "metadata": {
    "colab": {
      "name": "scratchpad",
      "provenance": [],
      "machine_shape": "hm",
      "include_colab_link": true
    },
    "kernelspec": {
      "display_name": "Python 3",
      "name": "python3"
    },
    "accelerator": "GPU"
  },
  "cells": [
    {
      "cell_type": "markdown",
      "metadata": {
        "id": "view-in-github",
        "colab_type": "text"
      },
      "source": [
        "<a href=\"https://colab.research.google.com/github/pratik-poudel/datacrunch/blob/main/four_combinations%20for%20datacrunch.ipynb\" target=\"_parent\"><img src=\"https://colab.research.google.com/assets/colab-badge.svg\" alt=\"Open In Colab\"/></a>"
      ]
    },
    {
      "cell_type": "code",
      "metadata": {
        "id": "lIYdn1woOS1n"
      },
      "source": [
        "import numpy as np\n",
        "import pandas as pd\n",
        "from collections import defaultdict\n",
        "from tqdm.notebook import tqdm\n",
        "from matplotlib import pyplot as plt\n",
        "import warnings\n",
        "warnings.filterwarnings('ignore')\n",
        "import seaborn as sns\n",
        "import gc\n",
        "# pd.options.display.float_format| = \"{:.2f}\".format\n",
        "pd.options.display.max_columns = 500\n",
        "\n",
        "\n",
        "from sklearn.model_selection import train_test_split\n",
        "from sklearn.metrics import accuracy_score \n",
        "from sklearn.metrics import classification_report \n",
        "import requests\n",
        "from scipy import stats\n",
        "\n",
        "import lightgbm as lgb\n",
        "\n",
        "from tensorflow.keras.callbacks import EarlyStopping, ModelCheckpoint\n"
      ],
      "execution_count": 60,
      "outputs": []
    },
    {
      "cell_type": "code",
      "metadata": {
        "id": "-Fp6KUxlw_3G"
      },
      "source": [
        "train_datalink_X = 'https://tournament.datacrunch.com/data/X_train.csv'  \n",
        "train_datalink_y = 'https://tournament.datacrunch.com/data/y_train.csv'\n",
        "hackathon_data_link = 'https://tournament.datacrunch.com/data/X_test.csv'"
      ],
      "execution_count": 122,
      "outputs": []
    },
    {
      "cell_type": "code",
      "metadata": {
        "id": "EH7b596jxFEG"
      },
      "source": [
        "train = pd.read_csv(train_datalink_X)\n",
        "target = pd.read_csv(train_datalink_y)\n",
        "test = pd.read_csv(hackathon_data_link)"
      ],
      "execution_count": 123,
      "outputs": []
    },
    {
      "cell_type": "code",
      "metadata": {
        "id": "IcFYYvIN-0AN"
      },
      "source": [
        "# train = pd.concat([train, target], axis=1)"
      ],
      "execution_count": 124,
      "outputs": []
    },
    {
      "cell_type": "code",
      "metadata": {
        "id": "ysLsAohLO34r"
      },
      "source": [
        "validation_data = train[13000: ]\n",
        "train_data = train[:13000]"
      ],
      "execution_count": 125,
      "outputs": []
    },
    {
      "cell_type": "code",
      "metadata": {
        "id": "QdeogpHsF7nG",
        "colab": {
          "base_uri": "https://localhost:8080/"
        },
        "outputId": "9231b43a-2428-4299-b344-960e0bdfd772"
      },
      "source": [
        "features = [f for f in train_data.columns if 'Feature' in f]\n",
        "len(features)"
      ],
      "execution_count": 126,
      "outputs": [
        {
          "output_type": "execute_result",
          "data": {
            "text/plain": [
              "14"
            ]
          },
          "metadata": {
            "tags": []
          },
          "execution_count": 126
        }
      ]
    },
    {
      "cell_type": "code",
      "metadata": {
        "id": "c1wwiklpmZ3F"
      },
      "source": [
        "all_cols = ['Feature_1', 'Feature_2', 'Feature_3', 'Feature_4', 'Feature_5',\n",
        "       'Feature_6', 'Feature_7', 'Feature_8', 'Feature_9', 'Feature_10',\n",
        "       'Feature_11', 'Feature_12', 'Feature_13', 'Feature_14']"
      ],
      "execution_count": 127,
      "outputs": []
    },
    {
      "cell_type": "code",
      "metadata": {
        "colab": {
          "base_uri": "https://localhost:8080/"
        },
        "id": "g6J7VTlknT-S",
        "outputId": "871e5d6a-58f8-4908-9677-32d22a7834e2"
      },
      "source": [
        "validation_data.shape"
      ],
      "execution_count": 128,
      "outputs": [
        {
          "output_type": "execute_result",
          "data": {
            "text/plain": [
              "(1687, 14)"
            ]
          },
          "metadata": {
            "tags": []
          },
          "execution_count": 128
        }
      ]
    },
    {
      "cell_type": "code",
      "metadata": {
        "id": "QF6FgW4oq1ZC"
      },
      "source": [
        "from sklearn.preprocessing import StandardScaler\n",
        "sc = StandardScaler()\n",
        "train_data = pd.DataFrame(sc.fit_transform(train_data), columns=all_cols)\n",
        "validation_data = pd.DataFrame(sc.transform(validation_data), columns=all_cols)"
      ],
      "execution_count": 129,
      "outputs": []
    },
    {
      "cell_type": "code",
      "metadata": {
        "colab": {
          "base_uri": "https://localhost:8080/",
          "height": 391
        },
        "id": "9mnv-j2XnXs2",
        "outputId": "88284c0f-f056-43cb-c83c-402c305842a1"
      },
      "source": [
        "target[13000:]"
      ],
      "execution_count": 130,
      "outputs": [
        {
          "output_type": "execute_result",
          "data": {
            "text/html": [
              "<div>\n",
              "<style scoped>\n",
              "    .dataframe tbody tr th:only-of-type {\n",
              "        vertical-align: middle;\n",
              "    }\n",
              "\n",
              "    .dataframe tbody tr th {\n",
              "        vertical-align: top;\n",
              "    }\n",
              "\n",
              "    .dataframe thead th {\n",
              "        text-align: right;\n",
              "    }\n",
              "</style>\n",
              "<table border=\"1\" class=\"dataframe\">\n",
              "  <thead>\n",
              "    <tr style=\"text-align: right;\">\n",
              "      <th></th>\n",
              "      <th>target_r</th>\n",
              "      <th>target_g</th>\n",
              "      <th>target_b</th>\n",
              "    </tr>\n",
              "  </thead>\n",
              "  <tbody>\n",
              "    <tr>\n",
              "      <th>13000</th>\n",
              "      <td>0.25</td>\n",
              "      <td>0.25</td>\n",
              "      <td>0.25</td>\n",
              "    </tr>\n",
              "    <tr>\n",
              "      <th>13001</th>\n",
              "      <td>0.25</td>\n",
              "      <td>0.25</td>\n",
              "      <td>0.25</td>\n",
              "    </tr>\n",
              "    <tr>\n",
              "      <th>13002</th>\n",
              "      <td>0.00</td>\n",
              "      <td>0.00</td>\n",
              "      <td>0.00</td>\n",
              "    </tr>\n",
              "    <tr>\n",
              "      <th>13003</th>\n",
              "      <td>0.50</td>\n",
              "      <td>0.50</td>\n",
              "      <td>0.50</td>\n",
              "    </tr>\n",
              "    <tr>\n",
              "      <th>13004</th>\n",
              "      <td>0.25</td>\n",
              "      <td>0.50</td>\n",
              "      <td>0.50</td>\n",
              "    </tr>\n",
              "    <tr>\n",
              "      <th>...</th>\n",
              "      <td>...</td>\n",
              "      <td>...</td>\n",
              "      <td>...</td>\n",
              "    </tr>\n",
              "    <tr>\n",
              "      <th>14682</th>\n",
              "      <td>0.00</td>\n",
              "      <td>0.50</td>\n",
              "      <td>0.50</td>\n",
              "    </tr>\n",
              "    <tr>\n",
              "      <th>14683</th>\n",
              "      <td>0.00</td>\n",
              "      <td>0.50</td>\n",
              "      <td>0.50</td>\n",
              "    </tr>\n",
              "    <tr>\n",
              "      <th>14684</th>\n",
              "      <td>0.00</td>\n",
              "      <td>0.25</td>\n",
              "      <td>0.00</td>\n",
              "    </tr>\n",
              "    <tr>\n",
              "      <th>14685</th>\n",
              "      <td>0.00</td>\n",
              "      <td>0.50</td>\n",
              "      <td>0.50</td>\n",
              "    </tr>\n",
              "    <tr>\n",
              "      <th>14686</th>\n",
              "      <td>0.75</td>\n",
              "      <td>0.75</td>\n",
              "      <td>1.00</td>\n",
              "    </tr>\n",
              "  </tbody>\n",
              "</table>\n",
              "<p>1687 rows × 3 columns</p>\n",
              "</div>"
            ],
            "text/plain": [
              "       target_r  target_g  target_b\n",
              "13000      0.25      0.25      0.25\n",
              "13001      0.25      0.25      0.25\n",
              "13002      0.00      0.00      0.00\n",
              "13003      0.50      0.50      0.50\n",
              "13004      0.25      0.50      0.50\n",
              "...         ...       ...       ...\n",
              "14682      0.00      0.50      0.50\n",
              "14683      0.00      0.50      0.50\n",
              "14684      0.00      0.25      0.00\n",
              "14685      0.00      0.50      0.50\n",
              "14686      0.75      0.75      1.00\n",
              "\n",
              "[1687 rows x 3 columns]"
            ]
          },
          "metadata": {
            "tags": []
          },
          "execution_count": 130
        }
      ]
    },
    {
      "cell_type": "code",
      "metadata": {
        "id": "Fdp8oyvQmpNI"
      },
      "source": [
        "train_data = pd.concat([train_data, target[:13000]], axis=1)\n",
        "validation_data = pd.concat([validation_data, target[13000:].reset_index(drop=True)], axis=1)"
      ],
      "execution_count": 133,
      "outputs": []
    },
    {
      "cell_type": "markdown",
      "metadata": {
        "id": "poRcC-PmPIws"
      },
      "source": [
        "# TRAINING"
      ]
    },
    {
      "cell_type": "code",
      "metadata": {
        "id": "IAeBShzMO_h8"
      },
      "source": [
        "def scorer(y_test, y_pred):\n",
        "    score = (stats.spearmanr(y_test, y_pred))[0]\n",
        "    # print('Score as calculated for the leader board (っಠ‿ಠ)っ {}'.format(score))\n",
        "    return score"
      ],
      "execution_count": 134,
      "outputs": []
    },
    {
      "cell_type": "code",
      "metadata": {
        "id": "HT8sI09oPMQ2"
      },
      "source": [
        "# train[:10][['Feature_1', 'target_r']]"
      ],
      "execution_count": 135,
      "outputs": []
    },
    {
      "cell_type": "code",
      "metadata": {
        "id": "N_hPzUj3TQF9"
      },
      "source": [
        "def split_sequences(sequences, n_steps):\n",
        "    X, y = list(), list()   \n",
        "    for i in range(len(sequences)):\n",
        "        # find the end of this pattern\n",
        "        end_ix = i + n_steps\n",
        "        # check if we are beyond the dataset\n",
        "        if end_ix > len(sequences):\n",
        "            break\n",
        "        # gather input and output parts of the pattern\n",
        "        seq_x, seq_y = sequences[i:end_ix, :-3], sequences[end_ix-1, -3:]\n",
        "        # print(seq_x)\n",
        "        X.append(seq_x)\n",
        "        y.append(seq_y)\n",
        "    return np.array(X), np.array(y)"
      ],
      "execution_count": 136,
      "outputs": []
    },
    {
      "cell_type": "code",
      "metadata": {
        "id": "DVQm-15LvxgE"
      },
      "source": [
        "train_data_arr = np.array(train_data)\n",
        "validation_data_arr = np.array(validation_data)"
      ],
      "execution_count": 137,
      "outputs": []
    },
    {
      "cell_type": "code",
      "metadata": {
        "id": "MMSwWHAbv1Nz",
        "colab": {
          "base_uri": "https://localhost:8080/"
        },
        "outputId": "809dc72f-f307-4238-b0b3-483cd2fcb710"
      },
      "source": [
        "train_data_arr.shape, validation_data_arr.shape"
      ],
      "execution_count": 138,
      "outputs": [
        {
          "output_type": "execute_result",
          "data": {
            "text/plain": [
              "((13000, 17), (1687, 17))"
            ]
          },
          "metadata": {
            "tags": []
          },
          "execution_count": 138
        }
      ]
    },
    {
      "cell_type": "code",
      "metadata": {
        "id": "zCoDgbLgYybo"
      },
      "source": [
        "%matplotlib inline\n",
        "def plot_metric(history, metric):\n",
        "    train_metrics = history.history[metric]\n",
        "    val_metrics = history.history['val_'+metric]\n",
        "    epochs = range(1, len(train_metrics) + 1)\n",
        "    plt.plot(epochs, train_metrics)\n",
        "    plt.plot(epochs, val_metrics)\n",
        "    plt.title('Training and validation '+ metric)\n",
        "    plt.xlabel(\"Epochs\")\n",
        "    plt.ylabel(metric)\n",
        "    plt.legend([\"train_\"+metric, 'val_'+metric])\n",
        "    plt.show()"
      ],
      "execution_count": 139,
      "outputs": []
    },
    {
      "cell_type": "code",
      "metadata": {
        "id": "mR-XTuWxViYh"
      },
      "source": [
        "# np.random.seed(60)\n",
        "# df = []\n",
        "# for i in range(1,30):\n",
        "#     n_steps = i\n",
        "#     X_train, y_train = split_sequences(train_data_arr, n_steps)\n",
        "#     X_val, y_val = split_sequences(validation_data_arr, n_steps)\n",
        "\n",
        "#     n_input = X_train.shape[1] * X_train.shape[2]\n",
        "#     X_train = X_train.reshape((X_train.shape[0], n_input))\n",
        "#     X_val = X_val.reshape((X_val.shape[0], n_input))\n",
        "\n",
        "#     from keras.models import Sequential\n",
        "#     from keras.layers import Dense\n",
        "\n",
        "\n",
        "#     model = Sequential()\n",
        "#     model.add(Dense(1024, activation='sigmoid', input_dim=n_input))\n",
        "#     model.add(Dense(512, activation='relu'))\n",
        "#     # model.add(Dense(256, activation='relu'))\n",
        "#     model.add(Dense(150, activation='relu'))\n",
        "#     # model.add(Dense(50, activation='relu'))\n",
        "#     model.add(Dense(3))\n",
        "#     model.compile(optimizer='rmsprop', loss='mse')\n",
        "\n",
        "#     early_stopping = EarlyStopping(monitor='val_loss', mode='min', verbose=1, patience=15)\n",
        "#     mcp_save = ModelCheckpoint('./model.hdf5', save_best_only=True, monitor='val_loss', mode='min')\n",
        "\n",
        "#     batch_size = 64\n",
        "#     epochs = 250\n",
        "\n",
        "#     history = model.fit(X_train, y_train, epochs=epochs, batch_size=batch_size,verbose=0, validation_data=(X_val, y_val), \n",
        "#                         callbacks=[early_stopping, mcp_save], shuffle=False)\n",
        "\n",
        "    \n",
        "#     # plot_metric(history, 'loss')\n",
        "#     print( \"TIME STEPS : --------> \" , i)\n",
        "\n",
        "#     model.load_weights('model.hdf5')\n",
        "#     preds= model.predict(X_val, batch_size=batch_size)\n",
        "#     cols = ['target_r', 'target_g', 'target_b']\n",
        "#     preds = pd.DataFrame(preds, columns=cols)\n",
        "\n",
        "#     scores = []\n",
        "#     scores.append(n_steps)\n",
        "#     scores.append(scorer(y_val[:, 0], preds.target_r))\n",
        "#     scores.append(scorer(y_val[:, 1], preds.target_g))\n",
        "#     scores.append(scorer(y_val[:, 2], preds.target_b))\n",
        "#     df.append(pd.DataFrame(scores))"
      ],
      "execution_count": 14,
      "outputs": []
    },
    {
      "cell_type": "code",
      "metadata": {
        "id": "RnPAF_k4ajT1"
      },
      "source": [
        "# df = pd.concat(df, axis=1)\n",
        "# df.columns = df.iloc[0]\n",
        "# df.drop(df.index[0], inplace=True)"
      ],
      "execution_count": 15,
      "outputs": []
    },
    {
      "cell_type": "code",
      "metadata": {
        "id": "oyiYYpfgbBu5"
      },
      "source": [
        "# df.T"
      ],
      "execution_count": 16,
      "outputs": []
    },
    {
      "cell_type": "code",
      "metadata": {
        "id": "0T6-SCSYivm7"
      },
      "source": [
        "# df.T.max()"
      ],
      "execution_count": 17,
      "outputs": []
    },
    {
      "cell_type": "code",
      "metadata": {
        "id": "DoD58bWHl4TT"
      },
      "source": [
        "train = pd.read_csv(train_datalink_X)\n",
        "target = pd.read_csv(train_datalink_y)\n",
        "test = pd.read_csv(hackathon_data_link)"
      ],
      "execution_count": 140,
      "outputs": []
    },
    {
      "cell_type": "code",
      "metadata": {
        "id": "qjorTEK2ogEJ"
      },
      "source": [
        "validation_data = train[13000: ]\n",
        "train_data = train[:13000]"
      ],
      "execution_count": 142,
      "outputs": []
    },
    {
      "cell_type": "code",
      "metadata": {
        "id": "9R-c7x9doas2"
      },
      "source": [
        "from sklearn.preprocessing import StandardScaler\n",
        "sc = StandardScaler()\n",
        "train_data = pd.DataFrame(sc.fit_transform(train_data), columns=all_cols)\n",
        "validation_data = pd.DataFrame(sc.transform(validation_data), columns=all_cols)"
      ],
      "execution_count": 143,
      "outputs": []
    },
    {
      "cell_type": "code",
      "metadata": {
        "id": "9STPf_uVoapY"
      },
      "source": [
        "test_merge = validation_data[1682:]"
      ],
      "execution_count": 145,
      "outputs": []
    },
    {
      "cell_type": "code",
      "metadata": {
        "id": "1KGwOa5Uoagn"
      },
      "source": [
        "validation_data = validation_data[:1682]"
      ],
      "execution_count": 147,
      "outputs": []
    },
    {
      "cell_type": "code",
      "metadata": {
        "colab": {
          "base_uri": "https://localhost:8080/"
        },
        "id": "goVtSu8HpJtp",
        "outputId": "3d0fc480-6cfa-4a6e-e89d-82b6cf9878a1"
      },
      "source": [
        "validation_data.shape"
      ],
      "execution_count": 152,
      "outputs": [
        {
          "output_type": "execute_result",
          "data": {
            "text/plain": [
              "(1682, 14)"
            ]
          },
          "metadata": {
            "tags": []
          },
          "execution_count": 152
        }
      ]
    },
    {
      "cell_type": "code",
      "metadata": {
        "id": "wqOkmqAKl4TW"
      },
      "source": [
        "train_data = pd.concat([train_data, target[:13000]], axis=1)\n",
        "validation_data = pd.concat([validation_data, target[13000:14682].reset_index(drop=True)], axis=1)"
      ],
      "execution_count": 153,
      "outputs": []
    },
    {
      "cell_type": "code",
      "metadata": {
        "id": "KHwMNbxIb5TZ",
        "colab": {
          "base_uri": "https://localhost:8080/"
        },
        "outputId": "8b83f062-3567-4917-e75d-a202ed6cef95"
      },
      "source": [
        "train_data_arr = np.array(train_data)\n",
        "validation_data_arr = np.array(validation_data)\n",
        "validation_data_arr.shape"
      ],
      "execution_count": 154,
      "outputs": [
        {
          "output_type": "execute_result",
          "data": {
            "text/plain": [
              "(1682, 17)"
            ]
          },
          "metadata": {
            "tags": []
          },
          "execution_count": 154
        }
      ]
    },
    {
      "cell_type": "code",
      "metadata": {
        "id": "8m9gmn2-baw4",
        "colab": {
          "base_uri": "https://localhost:8080/",
          "height": 365
        },
        "outputId": "9479998e-5c50-4023-c371-8ce734713a0b"
      },
      "source": [
        "np.random.seed(60)\n",
        "n_steps = 6\n",
        "X_train, y_train = split_sequences(train_data_arr, n_steps)\n",
        "X_val, y_val = split_sequences(validation_data_arr, n_steps)\n",
        "\n",
        "n_input = X_train.shape[1] * X_train.shape[2]\n",
        "X_train = X_train.reshape((X_train.shape[0], n_input))\n",
        "X_val = X_val.reshape((X_val.shape[0], n_input))\n",
        "\n",
        "from keras.models import Sequential\n",
        "from keras.layers import Dense\n",
        "\n",
        "\n",
        "model = Sequential()\n",
        "model.add(Dense(1024, activation='sigmoid', input_dim=n_input))\n",
        "model.add(Dense(512, activation='relu'))\n",
        "# model.add(Dense(256, activation='relu'))\n",
        "model.add(Dense(150, activation='relu'))\n",
        "# model.add(Dense(50, activation='relu'))\n",
        "model.add(Dense(3))\n",
        "model.compile(optimizer='rmsprop', loss='mse')\n",
        "\n",
        "early_stopping = EarlyStopping(monitor='val_loss', mode='min', verbose=1, patience=15)\n",
        "mcp_save = ModelCheckpoint('./model.hdf5', save_best_only=True, monitor='val_loss', mode='min')\n",
        "\n",
        "batch_size = 64\n",
        "epochs = 250\n",
        "\n",
        "history = model.fit(X_train, y_train, epochs=epochs, batch_size=batch_size,verbose=0, validation_data=(X_val, y_val), \n",
        "                    callbacks=[early_stopping, mcp_save], shuffle=True)\n",
        "\n",
        "\n",
        "plot_metric(history, 'loss')\n",
        "\n",
        "model.load_weights('model.hdf5')\n",
        "preds= model.predict(X_val, batch_size=batch_size)\n",
        "cols = ['target_r', 'target_g', 'target_b']\n",
        "preds = pd.DataFrame(preds, columns=cols)\n",
        "\n",
        "print(scorer(y_val[:, 0], preds.target_r))\n",
        "print(scorer(y_val[:, 1], preds.target_g))\n",
        "print(scorer(y_val[:, 2], preds.target_b))"
      ],
      "execution_count": 155,
      "outputs": [
        {
          "output_type": "stream",
          "text": [
            "Epoch 00028: early stopping\n"
          ],
          "name": "stdout"
        },
        {
          "output_type": "display_data",
          "data": {
            "image/png": "[encoded data removed]",
            "text/plain": [
              "<Figure size 432x288 with 1 Axes>"
            ]
          },
          "metadata": {
            "tags": [],
            "needs_background": "light"
          }
        },
        {
          "output_type": "stream",
          "text": [
            "0.017702771307542678\n",
            "0.12008677621704257\n",
            "0.09373270886512512\n"
          ],
          "name": "stdout"
        }
      ]
    },
    {
      "cell_type": "code",
      "metadata": {
        "id": "zH5UDkAAbars",
        "colab": {
          "base_uri": "https://localhost:8080/"
        },
        "outputId": "b037215f-f6fa-4cf8-d37e-b65da9a59075"
      },
      "source": [
        "test_data_with_lag = pd.concat([test_merge, test])\n",
        "test_data_with_lag.shape"
      ],
      "execution_count": 156,
      "outputs": [
        {
          "output_type": "execute_result",
          "data": {
            "text/plain": [
              "(14448, 14)"
            ]
          },
          "metadata": {
            "tags": []
          },
          "execution_count": 156
        }
      ]
    },
    {
      "cell_type": "code",
      "metadata": {
        "id": "xalveW4Xji0K"
      },
      "source": [
        "def split_sequences_for_prediction(sequences, n_steps):\n",
        "    X= list()   \n",
        "    for i in range(len(sequences)):\n",
        "    # find the end of this pattern\n",
        "        end_ix = i + n_steps\n",
        "    # check if we are beyond the dataset\n",
        "        if end_ix > len(sequences):\n",
        "            break\n",
        "    # gather input and output parts of the pattern\n",
        "        seq_x =sequences[i:end_ix]\n",
        "        # print(seq_x)\n",
        "        X.append(seq_x)\n",
        "    return np.array(X)"
      ],
      "execution_count": 157,
      "outputs": []
    },
    {
      "cell_type": "code",
      "metadata": {
        "id": "JOHA1W6qjixU"
      },
      "source": [
        "preds_data = split_sequences_for_prediction(np.array(test_data_with_lag), 6)"
      ],
      "execution_count": 158,
      "outputs": []
    },
    {
      "cell_type": "code",
      "metadata": {
        "id": "LIII01T-lNZn",
        "colab": {
          "base_uri": "https://localhost:8080/"
        },
        "outputId": "407e455b-fc93-4b11-c017-4128e7842844"
      },
      "source": [
        "preds_data.shape"
      ],
      "execution_count": 159,
      "outputs": [
        {
          "output_type": "execute_result",
          "data": {
            "text/plain": [
              "(14443, 6, 14)"
            ]
          },
          "metadata": {
            "tags": []
          },
          "execution_count": 159
        }
      ]
    },
    {
      "cell_type": "code",
      "metadata": {
        "id": "hfc_y3f3j7av",
        "colab": {
          "base_uri": "https://localhost:8080/"
        },
        "outputId": "975ebd5b-0928-44d4-8af7-aead6aefd745"
      },
      "source": [
        "preds_data = preds_data.reshape((preds_data.shape[0], n_input))\n",
        "preds_data.shape"
      ],
      "execution_count": 160,
      "outputs": [
        {
          "output_type": "execute_result",
          "data": {
            "text/plain": [
              "(14443, 84)"
            ]
          },
          "metadata": {
            "tags": []
          },
          "execution_count": 160
        }
      ]
    },
    {
      "cell_type": "code",
      "metadata": {
        "id": "huOGl8Lyj7Xx"
      },
      "source": [
        "prediction = pd.DataFrame(model.predict(preds_data, batch_size=batch_size))"
      ],
      "execution_count": 161,
      "outputs": []
    },
    {
      "cell_type": "code",
      "metadata": {
        "id": "KQPmRrQqj7VB"
      },
      "source": [
        "prediction.columns = cols"
      ],
      "execution_count": 162,
      "outputs": []
    },
    {
      "cell_type": "code",
      "metadata": {
        "id": "e_OXlGtDktZk",
        "colab": {
          "base_uri": "https://localhost:8080/",
          "height": 391
        },
        "outputId": "b11e6abd-4844-417b-e817-1a72fffb086c"
      },
      "source": [
        "prediction"
      ],
      "execution_count": 164,
      "outputs": [
        {
          "output_type": "execute_result",
          "data": {
            "text/html": [
              "<div>\n",
              "<style scoped>\n",
              "    .dataframe tbody tr th:only-of-type {\n",
              "        vertical-align: middle;\n",
              "    }\n",
              "\n",
              "    .dataframe tbody tr th {\n",
              "        vertical-align: top;\n",
              "    }\n",
              "\n",
              "    .dataframe thead th {\n",
              "        text-align: right;\n",
              "    }\n",
              "</style>\n",
              "<table border=\"1\" class=\"dataframe\">\n",
              "  <thead>\n",
              "    <tr style=\"text-align: right;\">\n",
              "      <th></th>\n",
              "      <th>target_r</th>\n",
              "      <th>target_g</th>\n",
              "      <th>target_b</th>\n",
              "    </tr>\n",
              "  </thead>\n",
              "  <tbody>\n",
              "    <tr>\n",
              "      <th>0</th>\n",
              "      <td>0.646894</td>\n",
              "      <td>0.682599</td>\n",
              "      <td>0.665862</td>\n",
              "    </tr>\n",
              "    <tr>\n",
              "      <th>1</th>\n",
              "      <td>0.576411</td>\n",
              "      <td>0.569824</td>\n",
              "      <td>0.599991</td>\n",
              "    </tr>\n",
              "    <tr>\n",
              "      <th>2</th>\n",
              "      <td>0.600224</td>\n",
              "      <td>0.647431</td>\n",
              "      <td>0.613021</td>\n",
              "    </tr>\n",
              "    <tr>\n",
              "      <th>3</th>\n",
              "      <td>0.538781</td>\n",
              "      <td>0.473264</td>\n",
              "      <td>0.406301</td>\n",
              "    </tr>\n",
              "    <tr>\n",
              "      <th>4</th>\n",
              "      <td>0.583156</td>\n",
              "      <td>0.551013</td>\n",
              "      <td>0.531323</td>\n",
              "    </tr>\n",
              "    <tr>\n",
              "      <th>...</th>\n",
              "      <td>...</td>\n",
              "      <td>...</td>\n",
              "      <td>...</td>\n",
              "    </tr>\n",
              "    <tr>\n",
              "      <th>14438</th>\n",
              "      <td>0.458901</td>\n",
              "      <td>0.427847</td>\n",
              "      <td>0.391024</td>\n",
              "    </tr>\n",
              "    <tr>\n",
              "      <th>14439</th>\n",
              "      <td>0.516775</td>\n",
              "      <td>0.474247</td>\n",
              "      <td>0.428844</td>\n",
              "    </tr>\n",
              "    <tr>\n",
              "      <th>14440</th>\n",
              "      <td>0.471891</td>\n",
              "      <td>0.430729</td>\n",
              "      <td>0.394004</td>\n",
              "    </tr>\n",
              "    <tr>\n",
              "      <th>14441</th>\n",
              "      <td>0.496247</td>\n",
              "      <td>0.463383</td>\n",
              "      <td>0.428657</td>\n",
              "    </tr>\n",
              "    <tr>\n",
              "      <th>14442</th>\n",
              "      <td>0.544634</td>\n",
              "      <td>0.493438</td>\n",
              "      <td>0.419936</td>\n",
              "    </tr>\n",
              "  </tbody>\n",
              "</table>\n",
              "<p>14443 rows × 3 columns</p>\n",
              "</div>"
            ],
            "text/plain": [
              "       target_r  target_g  target_b\n",
              "0      0.646894  0.682599  0.665862\n",
              "1      0.576411  0.569824  0.599991\n",
              "2      0.600224  0.647431  0.613021\n",
              "3      0.538781  0.473264  0.406301\n",
              "4      0.583156  0.551013  0.531323\n",
              "...         ...       ...       ...\n",
              "14438  0.458901  0.427847  0.391024\n",
              "14439  0.516775  0.474247  0.428844\n",
              "14440  0.471891  0.430729  0.394004\n",
              "14441  0.496247  0.463383  0.428657\n",
              "14442  0.544634  0.493438  0.419936\n",
              "\n",
              "[14443 rows x 3 columns]"
            ]
          },
          "metadata": {
            "tags": []
          },
          "execution_count": 164
        }
      ]
    },
    {
      "cell_type": "code",
      "metadata": {
        "id": "UcDcBH-Jh_nC"
      },
      "source": [
        ""
      ],
      "execution_count": null,
      "outputs": []
    },
    {
      "cell_type": "markdown",
      "metadata": {
        "id": "e9rfNhxziAGi"
      },
      "source": [
        "# Other Models"
      ]
    },
    {
      "cell_type": "code",
      "metadata": {
        "id": "oMwd_96g9RcZ"
      },
      "source": [
        "from sklearn.ensemble import AdaBoostRegressor\n",
        "from sklearn.preprocessing import StandardScaler\n",
        "from sklearn.svm import LinearSVR, NuSVR"
      ],
      "execution_count": 176,
      "outputs": []
    },
    {
      "cell_type": "code",
      "metadata": {
        "id": "H9-JyRCIpvZd"
      },
      "source": [
        "train = pd.read_csv(train_datalink_X)\n",
        "target = pd.read_csv(train_datalink_y)\n",
        "test = pd.read_csv(hackathon_data_link)\n",
        "train = pd.concat([train, target], axis=1)"
      ],
      "execution_count": 167,
      "outputs": []
    },
    {
      "cell_type": "code",
      "metadata": {
        "id": "1NNgVGku3kSM"
      },
      "source": [
        "corr = train[features].corrwith(train['target_g']).abs().sort_values(ascending=False)"
      ],
      "execution_count": 267,
      "outputs": []
    },
    {
      "cell_type": "code",
      "metadata": {
        "id": "HADAupQP9Vyj",
        "outputId": "269065ea-9a4f-4386-edc5-87fbba68e0e8",
        "colab": {
          "base_uri": "https://localhost:8080/"
        }
      },
      "source": [
        "corr"
      ],
      "execution_count": 268,
      "outputs": [
        {
          "output_type": "execute_result",
          "data": {
            "text/plain": [
              "Feature_4     0.165860\n",
              "Feature_14    0.132732\n",
              "Feature_13    0.068288\n",
              "Feature_11    0.058478\n",
              "Feature_9     0.051720\n",
              "Feature_12    0.049055\n",
              "Feature_10    0.043745\n",
              "Feature_1     0.040303\n",
              "Feature_2     0.033834\n",
              "Feature_6     0.032089\n",
              "Feature_3     0.021898\n",
              "Feature_7     0.017425\n",
              "Feature_5     0.016203\n",
              "Feature_8     0.009146\n",
              "dtype: float64"
            ]
          },
          "metadata": {
            "tags": []
          },
          "execution_count": 268
        }
      ]
    },
    {
      "cell_type": "code",
      "metadata": {
        "id": "8_9lvH8X3kPt"
      },
      "source": [
        "four_combinations = []\n",
        "from itertools import combinations, permutations, combinations_with_replacement\n",
        "for i in combinations(corr.index.to_list(), 4):\n",
        "    four_combinations.append(list(i))"
      ],
      "execution_count": 269,
      "outputs": []
    },
    {
      "cell_type": "code",
      "metadata": {
        "id": "kFC_qfn23kNV",
        "outputId": "6ed6f757-9504-4ed3-dc83-f0c0daecd2b3",
        "colab": {
          "base_uri": "https://localhost:8080/"
        }
      },
      "source": [
        "len(four_combinations)"
      ],
      "execution_count": 270,
      "outputs": [
        {
          "output_type": "execute_result",
          "data": {
            "text/plain": [
              "1001"
            ]
          },
          "metadata": {
            "tags": []
          },
          "execution_count": 270
        }
      ]
    },
    {
      "cell_type": "code",
      "metadata": {
        "id": "U8B5s_xY4gT3",
        "outputId": "f8d94b18-0c01-4174-d48a-b7c46aa3b2f0",
        "colab": {
          "base_uri": "https://localhost:8080/"
        }
      },
      "source": [
        "four_combinations[0]"
      ],
      "execution_count": 271,
      "outputs": [
        {
          "output_type": "execute_result",
          "data": {
            "text/plain": [
              "['Feature_4', 'Feature_14', 'Feature_13', 'Feature_11']"
            ]
          },
          "metadata": {
            "tags": []
          },
          "execution_count": 271
        }
      ]
    },
    {
      "cell_type": "code",
      "metadata": {
        "id": "aVC3UBvc3kJ-"
      },
      "source": [
        "operators = [\"+\",\"-\",\"*\",\"/\"]\n",
        "op_list = []\n",
        "for i in combinations_with_replacement(operators, 3):\n",
        "    # print(i)\n",
        "    op_list.append(list(i))"
      ],
      "execution_count": 272,
      "outputs": []
    },
    {
      "cell_type": "code",
      "metadata": {
        "id": "z_XL-N0v3kEd"
      },
      "source": [
        "for_calc = []\n",
        "for i in four_combinations[:1]:\n",
        "    for x, y  in enumerate(op_list):\n",
        "        f_calc = (\"df['computed_\" + str(x) + \"'] =\" + \"train[a]\" + y[0] + \"train[b]\" + y[1] + \n",
        "                  \"train[c]\" + y[2] + \"train[d]\" \n",
        "                #   + y[3] + \"train[e]\" + y[4] + \"train[f]\" + \n",
        "                #  y[5] + \"train[g]\" + y[6] + \"train[h]\" + y[7] + \"train[i]\" + y[8]+ \"train[j]\"\n",
        "                 )\n",
        "        for_calc.append(f_calc)"
      ],
      "execution_count": 273,
      "outputs": []
    },
    {
      "cell_type": "code",
      "metadata": {
        "id": "fhSeOM3L4WF2"
      },
      "source": [
        "feature_names = []\n",
        "for i in four_combinations:\n",
        "    for x, y  in enumerate(op_list):\n",
        "        f_name = (i[0] + y[0] + i[1] + y[1] + i[2] + y[2] + i[3] \n",
        "                #   + y[3] + i[4] + y[4] +\n",
        "                #  i[5] + y[5] + i[6] + y[6] + i[7] + y[7] + i[8] + y[8] + i[9]\n",
        "                )\n",
        "        feature_names.append(f_name)\n",
        "        "
      ],
      "execution_count": 274,
      "outputs": []
    },
    {
      "cell_type": "code",
      "metadata": {
        "id": "UrCdaXYD4wSe",
        "outputId": "ab2beb21-0065-4524-c52b-9683e8e7d713",
        "colab": {
          "base_uri": "https://localhost:8080/"
        }
      },
      "source": [
        "for i in for_calc:\n",
        "    print(i)"
      ],
      "execution_count": 275,
      "outputs": [
        {
          "output_type": "stream",
          "text": [
            "df['computed_0'] =train[a]+train[b]+train[c]+train[d]\n",
            "df['computed_1'] =train[a]+train[b]+train[c]-train[d]\n",
            "df['computed_2'] =train[a]+train[b]+train[c]*train[d]\n",
            "df['computed_3'] =train[a]+train[b]+train[c]/train[d]\n",
            "df['computed_4'] =train[a]+train[b]-train[c]-train[d]\n",
            "df['computed_5'] =train[a]+train[b]-train[c]*train[d]\n",
            "df['computed_6'] =train[a]+train[b]-train[c]/train[d]\n",
            "df['computed_7'] =train[a]+train[b]*train[c]*train[d]\n",
            "df['computed_8'] =train[a]+train[b]*train[c]/train[d]\n",
            "df['computed_9'] =train[a]+train[b]/train[c]/train[d]\n",
            "df['computed_10'] =train[a]-train[b]-train[c]-train[d]\n",
            "df['computed_11'] =train[a]-train[b]-train[c]*train[d]\n",
            "df['computed_12'] =train[a]-train[b]-train[c]/train[d]\n",
            "df['computed_13'] =train[a]-train[b]*train[c]*train[d]\n",
            "df['computed_14'] =train[a]-train[b]*train[c]/train[d]\n",
            "df['computed_15'] =train[a]-train[b]/train[c]/train[d]\n",
            "df['computed_16'] =train[a]*train[b]*train[c]*train[d]\n",
            "df['computed_17'] =train[a]*train[b]*train[c]/train[d]\n",
            "df['computed_18'] =train[a]*train[b]/train[c]/train[d]\n",
            "df['computed_19'] =train[a]/train[b]/train[c]/train[d]\n"
          ],
          "name": "stdout"
        }
      ]
    },
    {
      "cell_type": "code",
      "metadata": {
        "id": "zeRRl2tB4wPl",
        "outputId": "5ac5ebf3-0907-4272-f340-13d1664ee7cb",
        "colab": {
          "base_uri": "https://localhost:8080/"
        }
      },
      "source": [
        "from google.colab import output\n",
        "score = []\n",
        "count = 0\n",
        "df= pd.DataFrame()\n",
        "for z in four_combinations:\n",
        "    a = z[0]\n",
        "    b = z[1]\n",
        "    c = z[2]\n",
        "    d = z[3]\n",
        "    # e = z[4]\n",
        "    # f = z[5]\n",
        "    # g = z[6]\n",
        "    # h = z[7]\n",
        "    # i = z[8]\n",
        "    # j = z[9]\n",
        "    \n",
        "    df['computed_0'] =train[a]+train[b]+train[c]+train[d]\n",
        "    df['computed_1'] =train[a]+train[b]+train[c]-train[d]\n",
        "    df['computed_2'] =train[a]+train[b]+train[c]*train[d]\n",
        "    df['computed_3'] =train[a]+train[b]+train[c]/train[d]\n",
        "    df['computed_4'] =train[a]+train[b]-train[c]-train[d]\n",
        "    df['computed_5'] =train[a]+train[b]-train[c]*train[d]\n",
        "    df['computed_6'] =train[a]+train[b]-train[c]/train[d]\n",
        "    df['computed_7'] =train[a]+train[b]*train[c]*train[d]\n",
        "    df['computed_8'] =train[a]+train[b]*train[c]/train[d]\n",
        "    df['computed_9'] =train[a]+train[b]/train[c]/train[d]\n",
        "    df['computed_10'] =train[a]-train[b]-train[c]-train[d]\n",
        "    df['computed_11'] =train[a]-train[b]-train[c]*train[d]\n",
        "    df['computed_12'] =train[a]-train[b]-train[c]/train[d]\n",
        "    df['computed_13'] =train[a]-train[b]*train[c]*train[d]\n",
        "    df['computed_14'] =train[a]-train[b]*train[c]/train[d]\n",
        "    df['computed_15'] =train[a]-train[b]/train[c]/train[d]\n",
        "    df['computed_16'] =train[a]*train[b]*train[c]*train[d]\n",
        "    df['computed_17'] =train[a]*train[b]*train[c]/train[d]\n",
        "    df['computed_18'] =train[a]*train[b]/train[c]/train[d]\n",
        "    df['computed_19'] =train[a]/train[b]/train[c]/train[d]\n",
        "    \n",
        "    count += 1\n",
        "    print(\"Done \", count , \" out of \", len(four_combinations))\n",
        "    if count % 10 == 0:\n",
        "        output.clear()\n",
        "    \n",
        "    for i in df.corrwith(train['target_g']).abs().values:\n",
        "        score.append(i)"
      ],
      "execution_count": 282,
      "outputs": [
        {
          "output_type": "stream",
          "text": [
            "Done  1001  out of  1001\n"
          ],
          "name": "stdout"
        }
      ]
    },
    {
      "cell_type": "code",
      "metadata": {
        "id": "blGVm9S-4WMW",
        "outputId": "0eeb01c5-143c-4d08-ed54-5be734678c47",
        "colab": {
          "base_uri": "https://localhost:8080/",
          "height": 391
        }
      },
      "source": [
        "results = pd.DataFrame(zip(feature_names, score), columns=['features', 'score']).sort_values(by='score',ascending=False)\n",
        "results"
      ],
      "execution_count": 283,
      "outputs": [
        {
          "output_type": "execute_result",
          "data": {
            "text/html": [
              "<div>\n",
              "<style scoped>\n",
              "    .dataframe tbody tr th:only-of-type {\n",
              "        vertical-align: middle;\n",
              "    }\n",
              "\n",
              "    .dataframe tbody tr th {\n",
              "        vertical-align: top;\n",
              "    }\n",
              "\n",
              "    .dataframe thead th {\n",
              "        text-align: right;\n",
              "    }\n",
              "</style>\n",
              "<table border=\"1\" class=\"dataframe\">\n",
              "  <thead>\n",
              "    <tr style=\"text-align: right;\">\n",
              "      <th></th>\n",
              "      <th>features</th>\n",
              "      <th>score</th>\n",
              "    </tr>\n",
              "  </thead>\n",
              "  <tbody>\n",
              "    <tr>\n",
              "      <th>1205</th>\n",
              "      <td>Feature_4+Feature_14-Feature_3*Feature_7</td>\n",
              "      <td>0.216584</td>\n",
              "    </tr>\n",
              "    <tr>\n",
              "      <th>1225</th>\n",
              "      <td>Feature_4+Feature_14-Feature_3*Feature_5</td>\n",
              "      <td>0.214179</td>\n",
              "    </tr>\n",
              "    <tr>\n",
              "      <th>1081</th>\n",
              "      <td>Feature_4+Feature_14+Feature_2-Feature_5</td>\n",
              "      <td>0.212024</td>\n",
              "    </tr>\n",
              "    <tr>\n",
              "      <th>945</th>\n",
              "      <td>Feature_4+Feature_14-Feature_1*Feature_3</td>\n",
              "      <td>0.211845</td>\n",
              "    </tr>\n",
              "    <tr>\n",
              "      <th>345</th>\n",
              "      <td>Feature_4+Feature_14-Feature_11*Feature_3</td>\n",
              "      <td>0.211732</td>\n",
              "    </tr>\n",
              "    <tr>\n",
              "      <th>...</th>\n",
              "      <td>...</td>\n",
              "      <td>...</td>\n",
              "    </tr>\n",
              "    <tr>\n",
              "      <th>20014</th>\n",
              "      <td>Feature_3-Feature_7*Feature_5/Feature_8</td>\n",
              "      <td>NaN</td>\n",
              "    </tr>\n",
              "    <tr>\n",
              "      <th>20015</th>\n",
              "      <td>Feature_3-Feature_7/Feature_5/Feature_8</td>\n",
              "      <td>NaN</td>\n",
              "    </tr>\n",
              "    <tr>\n",
              "      <th>20017</th>\n",
              "      <td>Feature_3*Feature_7*Feature_5/Feature_8</td>\n",
              "      <td>NaN</td>\n",
              "    </tr>\n",
              "    <tr>\n",
              "      <th>20018</th>\n",
              "      <td>Feature_3*Feature_7/Feature_5/Feature_8</td>\n",
              "      <td>NaN</td>\n",
              "    </tr>\n",
              "    <tr>\n",
              "      <th>20019</th>\n",
              "      <td>Feature_3/Feature_7/Feature_5/Feature_8</td>\n",
              "      <td>NaN</td>\n",
              "    </tr>\n",
              "  </tbody>\n",
              "</table>\n",
              "<p>20020 rows × 2 columns</p>\n",
              "</div>"
            ],
            "text/plain": [
              "                                        features     score\n",
              "1205    Feature_4+Feature_14-Feature_3*Feature_7  0.216584\n",
              "1225    Feature_4+Feature_14-Feature_3*Feature_5  0.214179\n",
              "1081    Feature_4+Feature_14+Feature_2-Feature_5  0.212024\n",
              "945     Feature_4+Feature_14-Feature_1*Feature_3  0.211845\n",
              "345    Feature_4+Feature_14-Feature_11*Feature_3  0.211732\n",
              "...                                          ...       ...\n",
              "20014    Feature_3-Feature_7*Feature_5/Feature_8       NaN\n",
              "20015    Feature_3-Feature_7/Feature_5/Feature_8       NaN\n",
              "20017    Feature_3*Feature_7*Feature_5/Feature_8       NaN\n",
              "20018    Feature_3*Feature_7/Feature_5/Feature_8       NaN\n",
              "20019    Feature_3/Feature_7/Feature_5/Feature_8       NaN\n",
              "\n",
              "[20020 rows x 2 columns]"
            ]
          },
          "metadata": {
            "tags": []
          },
          "execution_count": 283
        }
      ]
    },
    {
      "cell_type": "code",
      "metadata": {
        "id": "ovQPgdzG9Gwq"
      },
      "source": [
        "split = results[results['score'] > 0.21]['features'].to_list()"
      ],
      "execution_count": 288,
      "outputs": []
    },
    {
      "cell_type": "code",
      "metadata": {
        "id": "oN4lIRva_DWR"
      },
      "source": [
        "import re\n",
        "feature_split = [] \n",
        "symbol_split = []\n",
        "all_name = []\n",
        "for i in split:\n",
        "    all_name.append(i)\n",
        "    features_list = re.split('[- + * /]',i)\n",
        "    maths = re.findall(r\"([\\+\\-\\*\\/]+)\", i)\n",
        "    feature_split.append(features_list)\n",
        "    symbol_split.append(maths + [0])"
      ],
      "execution_count": 290,
      "outputs": []
    },
    {
      "cell_type": "code",
      "metadata": {
        "id": "V3Bi47eM_DN3",
        "outputId": "490eebbf-01c7-45a7-c028-cb23048cc4aa",
        "colab": {
          "base_uri": "https://localhost:8080/"
        }
      },
      "source": [
        "count = 0\n",
        "for i,j in zip(feature_split, symbol_split):\n",
        "#     print([train.columns.get_loc(i[index]) for index in range(len(i))])\n",
        "#     print(len(i))\n",
        "    feature_name = all_name[count]\n",
        "    print(\"df['\"+feature_name+\"']\", \"= \" \"df[\"+\"'\"+i[0]+\"'\"+\"]\", str(j[0]), \"df[\"+\"'\"+i[1]+\"'\"+\"]\", str(j[1]), \"df[\"+\"'\"+i[2]+\"'\"+\"]\" , str(j[2]), \"df[\"+\"'\"+i[3]+\"'\"+\"]\"\n",
        "    \n",
        "    )\n",
        "    count += 1"
      ],
      "execution_count": 298,
      "outputs": [
        {
          "output_type": "stream",
          "text": [
            "df['Feature_4+Feature_14-Feature_3*Feature_7'] = df['Feature_4'] + df['Feature_14'] - df['Feature_3'] * df['Feature_7']\n",
            "df['Feature_4+Feature_14-Feature_3*Feature_5'] = df['Feature_4'] + df['Feature_14'] - df['Feature_3'] * df['Feature_5']\n",
            "df['Feature_4+Feature_14+Feature_2-Feature_5'] = df['Feature_4'] + df['Feature_14'] + df['Feature_2'] - df['Feature_5']\n",
            "df['Feature_4+Feature_14-Feature_1*Feature_3'] = df['Feature_4'] + df['Feature_14'] - df['Feature_1'] * df['Feature_3']\n",
            "df['Feature_4+Feature_14-Feature_11*Feature_3'] = df['Feature_4'] + df['Feature_14'] - df['Feature_11'] * df['Feature_3']\n",
            "df['Feature_4+Feature_14-Feature_2*Feature_3'] = df['Feature_4'] + df['Feature_14'] - df['Feature_2'] * df['Feature_3']\n",
            "df['Feature_4+Feature_14-Feature_13*Feature_10'] = df['Feature_4'] + df['Feature_14'] - df['Feature_13'] * df['Feature_10']\n",
            "df['Feature_4+Feature_14-Feature_13*Feature_11'] = df['Feature_4'] + df['Feature_14'] - df['Feature_13'] * df['Feature_11']\n",
            "df['Feature_4+Feature_14-Feature_10*Feature_7'] = df['Feature_4'] + df['Feature_14'] - df['Feature_10'] * df['Feature_7']\n",
            "df['Feature_4+Feature_14-Feature_10*Feature_1'] = df['Feature_4'] + df['Feature_14'] - df['Feature_10'] * df['Feature_1']\n",
            "df['Feature_4+Feature_14-Feature_10*Feature_2'] = df['Feature_4'] + df['Feature_14'] - df['Feature_10'] * df['Feature_2']\n",
            "df['Feature_4+Feature_14-Feature_12*Feature_10'] = df['Feature_4'] + df['Feature_14'] - df['Feature_12'] * df['Feature_10']\n",
            "df['Feature_4+Feature_14-Feature_10*Feature_5'] = df['Feature_4'] + df['Feature_14'] - df['Feature_10'] * df['Feature_5']\n"
          ],
          "name": "stdout"
        }
      ]
    },
    {
      "cell_type": "code",
      "metadata": {
        "id": "HoLwxCYFAHSb"
      },
      "source": [
        "def additional_features(df):\n",
        "    df['Feature_4+Feature_14-Feature_3*Feature_7'] = df['Feature_4'] + df['Feature_14'] - df['Feature_3'] * df['Feature_7']\n",
        "    df['Feature_4+Feature_14-Feature_3*Feature_5'] = df['Feature_4'] + df['Feature_14'] - df['Feature_3'] * df['Feature_5']\n",
        "    df['Feature_4+Feature_14+Feature_2-Feature_5'] = df['Feature_4'] + df['Feature_14'] + df['Feature_2'] - df['Feature_5']\n",
        "    df['Feature_4+Feature_14-Feature_1*Feature_3'] = df['Feature_4'] + df['Feature_14'] - df['Feature_1'] * df['Feature_3']\n",
        "    df['Feature_4+Feature_14-Feature_11*Feature_3'] = df['Feature_4'] + df['Feature_14'] - df['Feature_11'] * df['Feature_3']\n",
        "    df['Feature_4+Feature_14-Feature_2*Feature_3'] = df['Feature_4'] + df['Feature_14'] - df['Feature_2'] * df['Feature_3']\n",
        "    df['Feature_4+Feature_14-Feature_13*Feature_10'] = df['Feature_4'] + df['Feature_14'] - df['Feature_13'] * df['Feature_10']\n",
        "    df['Feature_4+Feature_14-Feature_13*Feature_11'] = df['Feature_4'] + df['Feature_14'] - df['Feature_13'] * df['Feature_11']\n",
        "    df['Feature_4+Feature_14-Feature_10*Feature_7'] = df['Feature_4'] + df['Feature_14'] - df['Feature_10'] * df['Feature_7']\n",
        "    df['Feature_4+Feature_14-Feature_10*Feature_1'] = df['Feature_4'] + df['Feature_14'] - df['Feature_10'] * df['Feature_1']\n",
        "    df['Feature_4+Feature_14-Feature_10*Feature_2'] = df['Feature_4'] + df['Feature_14'] - df['Feature_10'] * df['Feature_2']\n",
        "    df['Feature_4+Feature_14-Feature_12*Feature_10'] = df['Feature_4'] + df['Feature_14'] - df['Feature_12'] * df['Feature_10']\n",
        "    df['Feature_4+Feature_14-Feature_10*Feature_5'] = df['Feature_4'] + df['Feature_14'] - df['Feature_10'] * df['Feature_5']\n",
        "    return df\n"
      ],
      "execution_count": 299,
      "outputs": []
    },
    {
      "cell_type": "code",
      "metadata": {
        "id": "NzGk7BooAHOg"
      },
      "source": [
        "train = additional_features(train)"
      ],
      "execution_count": 301,
      "outputs": []
    },
    {
      "cell_type": "code",
      "metadata": {
        "id": "DrY3SwRlAdRt"
      },
      "source": [
        ""
      ],
      "execution_count": null,
      "outputs": []
    },
    {
      "cell_type": "code",
      "metadata": {
        "id": "wD50ss-OAdOu"
      },
      "source": [
        ""
      ],
      "execution_count": null,
      "outputs": []
    },
    {
      "cell_type": "code",
      "metadata": {
        "id": "h9em--YKAdLz"
      },
      "source": [
        ""
      ],
      "execution_count": null,
      "outputs": []
    },
    {
      "cell_type": "code",
      "metadata": {
        "id": "Ka3IA1U4AHIm"
      },
      "source": [
        ""
      ],
      "execution_count": null,
      "outputs": []
    },
    {
      "cell_type": "code",
      "metadata": {
        "colab": {
          "base_uri": "https://localhost:8080/"
        },
        "id": "jhL4PX4E0oUZ",
        "outputId": "846cfc8f-7636-4b0a-cdcb-4c72733dc49c"
      },
      "source": [
        "sc = StandardScaler()\n",
        "X_train, X_test, y_train, y_test = train_test_split(train[features], train['target_r'], test_size=0.25, shuffle=False, random_state=60)\n",
        "X_train = sc.fit_transform(X_train)\n",
        "X_test = sc.transform(X_test)\n",
        "model_b = AdaBoostRegressor(random_state=60, learning_rate=0.0001)\n",
        "model_b.fit(X_train, y_train)\n",
        "preds = model_b.predict(X_test)\n",
        "scorer(preds, y_test)"
      ],
      "execution_count": 227,
      "outputs": [
        {
          "output_type": "execute_result",
          "data": {
            "text/plain": [
              "0.10292780544119763"
            ]
          },
          "metadata": {
            "tags": []
          },
          "execution_count": 227
        }
      ]
    },
    {
      "cell_type": "code",
      "metadata": {
        "id": "UvJzFQZ3h_g7"
      },
      "source": [
        "test = sc.transform(test)"
      ],
      "execution_count": 169,
      "outputs": []
    },
    {
      "cell_type": "code",
      "metadata": {
        "colab": {
          "base_uri": "https://localhost:8080/",
          "height": 391
        },
        "id": "z80HLWfailuP",
        "outputId": "18243c2b-2e0b-4562-be13-475a652350a2"
      },
      "source": [
        "prediction['target_b'] = model_b.predict(test)\n",
        "prediction"
      ],
      "execution_count": 170,
      "outputs": [
        {
          "output_type": "execute_result",
          "data": {
            "text/html": [
              "<div>\n",
              "<style scoped>\n",
              "    .dataframe tbody tr th:only-of-type {\n",
              "        vertical-align: middle;\n",
              "    }\n",
              "\n",
              "    .dataframe tbody tr th {\n",
              "        vertical-align: top;\n",
              "    }\n",
              "\n",
              "    .dataframe thead th {\n",
              "        text-align: right;\n",
              "    }\n",
              "</style>\n",
              "<table border=\"1\" class=\"dataframe\">\n",
              "  <thead>\n",
              "    <tr style=\"text-align: right;\">\n",
              "      <th></th>\n",
              "      <th>target_r</th>\n",
              "      <th>target_g</th>\n",
              "      <th>target_b</th>\n",
              "    </tr>\n",
              "  </thead>\n",
              "  <tbody>\n",
              "    <tr>\n",
              "      <th>0</th>\n",
              "      <td>0.646894</td>\n",
              "      <td>0.682599</td>\n",
              "      <td>0.597933</td>\n",
              "    </tr>\n",
              "    <tr>\n",
              "      <th>1</th>\n",
              "      <td>0.576411</td>\n",
              "      <td>0.569824</td>\n",
              "      <td>0.432730</td>\n",
              "    </tr>\n",
              "    <tr>\n",
              "      <th>2</th>\n",
              "      <td>0.600224</td>\n",
              "      <td>0.647431</td>\n",
              "      <td>0.448555</td>\n",
              "    </tr>\n",
              "    <tr>\n",
              "      <th>3</th>\n",
              "      <td>0.538781</td>\n",
              "      <td>0.473264</td>\n",
              "      <td>0.432730</td>\n",
              "    </tr>\n",
              "    <tr>\n",
              "      <th>4</th>\n",
              "      <td>0.583156</td>\n",
              "      <td>0.551013</td>\n",
              "      <td>0.570312</td>\n",
              "    </tr>\n",
              "    <tr>\n",
              "      <th>...</th>\n",
              "      <td>...</td>\n",
              "      <td>...</td>\n",
              "      <td>...</td>\n",
              "    </tr>\n",
              "    <tr>\n",
              "      <th>14438</th>\n",
              "      <td>0.458901</td>\n",
              "      <td>0.427847</td>\n",
              "      <td>0.432730</td>\n",
              "    </tr>\n",
              "    <tr>\n",
              "      <th>14439</th>\n",
              "      <td>0.516775</td>\n",
              "      <td>0.474247</td>\n",
              "      <td>0.496716</td>\n",
              "    </tr>\n",
              "    <tr>\n",
              "      <th>14440</th>\n",
              "      <td>0.471891</td>\n",
              "      <td>0.430729</td>\n",
              "      <td>0.432730</td>\n",
              "    </tr>\n",
              "    <tr>\n",
              "      <th>14441</th>\n",
              "      <td>0.496247</td>\n",
              "      <td>0.463383</td>\n",
              "      <td>0.552260</td>\n",
              "    </tr>\n",
              "    <tr>\n",
              "      <th>14442</th>\n",
              "      <td>0.544634</td>\n",
              "      <td>0.493438</td>\n",
              "      <td>0.570312</td>\n",
              "    </tr>\n",
              "  </tbody>\n",
              "</table>\n",
              "<p>14443 rows × 3 columns</p>\n",
              "</div>"
            ],
            "text/plain": [
              "       target_r  target_g  target_b\n",
              "0      0.646894  0.682599  0.597933\n",
              "1      0.576411  0.569824  0.432730\n",
              "2      0.600224  0.647431  0.448555\n",
              "3      0.538781  0.473264  0.432730\n",
              "4      0.583156  0.551013  0.570312\n",
              "...         ...       ...       ...\n",
              "14438  0.458901  0.427847  0.432730\n",
              "14439  0.516775  0.474247  0.496716\n",
              "14440  0.471891  0.430729  0.432730\n",
              "14441  0.496247  0.463383  0.552260\n",
              "14442  0.544634  0.493438  0.570312\n",
              "\n",
              "[14443 rows x 3 columns]"
            ]
          },
          "metadata": {
            "tags": []
          },
          "execution_count": 170
        }
      ]
    },
    {
      "cell_type": "code",
      "metadata": {
        "colab": {
          "base_uri": "https://localhost:8080/",
          "height": 277
        },
        "id": "P9WYMAmyilnW",
        "outputId": "bab7af0a-e7d1-4fee-90b5-45211b50daf1"
      },
      "source": [
        "prediction.describe()"
      ],
      "execution_count": 171,
      "outputs": [
        {
          "output_type": "execute_result",
          "data": {
            "text/html": [
              "<div>\n",
              "<style scoped>\n",
              "    .dataframe tbody tr th:only-of-type {\n",
              "        vertical-align: middle;\n",
              "    }\n",
              "\n",
              "    .dataframe tbody tr th {\n",
              "        vertical-align: top;\n",
              "    }\n",
              "\n",
              "    .dataframe thead th {\n",
              "        text-align: right;\n",
              "    }\n",
              "</style>\n",
              "<table border=\"1\" class=\"dataframe\">\n",
              "  <thead>\n",
              "    <tr style=\"text-align: right;\">\n",
              "      <th></th>\n",
              "      <th>target_r</th>\n",
              "      <th>target_g</th>\n",
              "      <th>target_b</th>\n",
              "    </tr>\n",
              "  </thead>\n",
              "  <tbody>\n",
              "    <tr>\n",
              "      <th>count</th>\n",
              "      <td>14443.000000</td>\n",
              "      <td>14443.000000</td>\n",
              "      <td>14443.000000</td>\n",
              "    </tr>\n",
              "    <tr>\n",
              "      <th>mean</th>\n",
              "      <td>0.495957</td>\n",
              "      <td>0.454951</td>\n",
              "      <td>0.475460</td>\n",
              "    </tr>\n",
              "    <tr>\n",
              "      <th>std</th>\n",
              "      <td>0.036694</td>\n",
              "      <td>0.037610</td>\n",
              "      <td>0.081547</td>\n",
              "    </tr>\n",
              "    <tr>\n",
              "      <th>min</th>\n",
              "      <td>0.318154</td>\n",
              "      <td>0.267882</td>\n",
              "      <td>0.262215</td>\n",
              "    </tr>\n",
              "    <tr>\n",
              "      <th>25%</th>\n",
              "      <td>0.476601</td>\n",
              "      <td>0.436153</td>\n",
              "      <td>0.432432</td>\n",
              "    </tr>\n",
              "    <tr>\n",
              "      <th>50%</th>\n",
              "      <td>0.500896</td>\n",
              "      <td>0.457928</td>\n",
              "      <td>0.432730</td>\n",
              "    </tr>\n",
              "    <tr>\n",
              "      <th>75%</th>\n",
              "      <td>0.520782</td>\n",
              "      <td>0.478341</td>\n",
              "      <td>0.545854</td>\n",
              "    </tr>\n",
              "    <tr>\n",
              "      <th>max</th>\n",
              "      <td>0.646894</td>\n",
              "      <td>0.682599</td>\n",
              "      <td>0.670515</td>\n",
              "    </tr>\n",
              "  </tbody>\n",
              "</table>\n",
              "</div>"
            ],
            "text/plain": [
              "           target_r      target_g      target_b\n",
              "count  14443.000000  14443.000000  14443.000000\n",
              "mean       0.495957      0.454951      0.475460\n",
              "std        0.036694      0.037610      0.081547\n",
              "min        0.318154      0.267882      0.262215\n",
              "25%        0.476601      0.436153      0.432432\n",
              "50%        0.500896      0.457928      0.432730\n",
              "75%        0.520782      0.478341      0.545854\n",
              "max        0.646894      0.682599      0.670515"
            ]
          },
          "metadata": {
            "tags": []
          },
          "execution_count": 171
        }
      ]
    },
    {
      "cell_type": "markdown",
      "metadata": {
        "id": "3DRAjG2hPGW7"
      },
      "source": [
        "# Predictions"
      ]
    },
    {
      "cell_type": "code",
      "metadata": {
        "id": "cYyekZi2wXgE",
        "colab": {
          "base_uri": "https://localhost:8080/",
          "height": 282
        },
        "outputId": "806c924d-5b3f-4b8d-a592-d6546257b77a"
      },
      "source": [
        "prediction['target_b'].plot(kind='hist')"
      ],
      "execution_count": 173,
      "outputs": [
        {
          "output_type": "execute_result",
          "data": {
            "text/plain": [
              "<matplotlib.axes._subplots.AxesSubplot at 0x7f06c5f83790>"
            ]
          },
          "metadata": {
            "tags": []
          },
          "execution_count": 173
        },
        {
          "output_type": "display_data",
          "data": {
            "image/png": "[encoded data removed]",
            "text/plain": [
              "<Figure size 432x288 with 1 Axes>"
            ]
          },
          "metadata": {
            "tags": [],
            "needs_background": "light"
          }
        }
      ]
    },
    {
      "cell_type": "code",
      "metadata": {
        "id": "6FvQl9QBerwb",
        "colab": {
          "base_uri": "https://localhost:8080/"
        },
        "outputId": "ce19d40b-10e7-4ef7-d3aa-3aa4545a95d5"
      },
      "source": [
        "API_KEY = \"0GIskIC9Rd1I8sMw6nStutbIbMx7AaZzAyNfuMOVAVWgJtNa1IVQHZAD3WPj\" # <- HERE\n",
        "\n",
        "r = requests.post(\"https://tournament.datacrunch.com/api/submission\",\n",
        "    files = {\n",
        "        \"file\": (\"x\", prediction.to_csv().encode('ascii'))\n",
        "    },\n",
        "    data = {\n",
        "        \"apiKey\": API_KEY\n",
        "    },\n",
        ")\n",
        "\n",
        "if r.status_code == 200:\n",
        "    print(\"Submission submitted :)\")\n",
        "elif r.status_code == 423:\n",
        "    print(\"ERR: Submissions are close\")\n",
        "    print(\"You can only submit during rounds eg: Friday 7pm GMT+1 to Sunday midnight GMT+1.\")\n",
        "    print(\"Or the server is currently crunching the submitted files, please wait some time before retrying.\")\n",
        "elif r.status_code == 422:\n",
        "    print(\"ERR: API Key is missing or empty\")\n",
        "    print(\"Did you forget to fill the API_KEY variable?\")\n",
        "elif r.status_code == 404:\n",
        "    print(\"ERR: Unknown API Key\")\n",
        "    print(\"You should check that the provided API key is valid and is the same as the one you've received by email.\")\n",
        "elif r.status_code == 400:\n",
        "    print(\"ERR: The file must not be empty\")\n",
        "    print(\"You have send a empty file.\")\n",
        "elif r.status_code == 401:\n",
        "    print(\"ERR: Your email hasn't been verified\")\n",
        "    print(\"Please verify your email or contact a cruncher.\")\n",
        "elif r.status_code == 429:\n",
        "    print(\"ERR: Too many submissions\")\n",
        "else:\n",
        "    print(\"ERR: Server returned: \" + str(r.status_code))\n",
        "    print(\"Ouch! It seems that we were not expecting this kind of result from the server, if the probleme persist, contact a cruncher.\")"
      ],
      "execution_count": 174,
      "outputs": [
        {
          "output_type": "stream",
          "text": [
            "Submission submitted :)\n"
          ],
          "name": "stdout"
        }
      ]
    },
    {
      "cell_type": "code",
      "metadata": {
        "id": "tmRW8E1ojDbQ"
      },
      "source": [
        ""
      ],
      "execution_count": null,
      "outputs": []
    }
  ]
}