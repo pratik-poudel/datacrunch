{
  "nbformat": 4,
  "nbformat_minor": 0,
  "metadata": {
    "colab": {
      "name": "scratchpad",
      "provenance": [],
      "machine_shape": "hm",
      "include_colab_link": true
    },
    "kernelspec": {
      "display_name": "Python 3",
      "name": "python3"
    },
    "accelerator": "GPU"
  },
  "cells": [
    {
      "cell_type": "markdown",
      "metadata": {
        "id": "view-in-github",
        "colab_type": "text"
      },
      "source": [
        "<a href=\"https://colab.research.google.com/github/pratik-poudel/datacrunch/blob/main/28th%20march%20time%20series%20%2B%20AdaBoostRegressor.ipynb\" target=\"_parent\"><img src=\"https://colab.research.google.com/assets/colab-badge.svg\" alt=\"Open In Colab\"/></a>"
      ]
    },
    {
      "cell_type": "code",
      "metadata": {
        "id": "lIYdn1woOS1n"
      },
      "source": [
        "import numpy as np\n",
        "import pandas as pd\n",
        "from collections import defaultdict\n",
        "from tqdm.notebook import tqdm\n",
        "from matplotlib import pyplot as plt\n",
        "import warnings\n",
        "warnings.filterwarnings('ignore')\n",
        "import seaborn as sns\n",
        "import gc\n",
        "# pd.options.display.float_format| = \"{:.2f}\".format\n",
        "pd.options.display.max_columns = 500\n",
        "\n",
        "\n",
        "from sklearn.model_selection import train_test_split\n",
        "from sklearn.metrics import accuracy_score \n",
        "from sklearn.metrics import classification_report \n",
        "import requests\n",
        "from scipy import stats\n",
        "\n",
        "import lightgbm as lgb\n",
        "\n",
        "from tensorflow.keras.callbacks import EarlyStopping, ModelCheckpoint\n"
      ],
      "execution_count": 1,
      "outputs": []
    },
    {
      "cell_type": "code",
      "metadata": {
        "id": "-Fp6KUxlw_3G"
      },
      "source": [
        "train_datalink_X = 'https://tournament.datacrunch.com/data/X_train.csv'  \n",
        "train_datalink_y = 'https://tournament.datacrunch.com/data/y_train.csv'\n",
        "hackathon_data_link = 'https://tournament.datacrunch.com/data/X_test.csv'"
      ],
      "execution_count": 2,
      "outputs": []
    },
    {
      "cell_type": "code",
      "metadata": {
        "id": "EH7b596jxFEG"
      },
      "source": [
        "train = pd.read_csv(train_datalink_X)\n",
        "target = pd.read_csv(train_datalink_y)\n",
        "test = pd.read_csv(hackathon_data_link)"
      ],
      "execution_count": 3,
      "outputs": []
    },
    {
      "cell_type": "code",
      "metadata": {
        "id": "IcFYYvIN-0AN"
      },
      "source": [
        "train = pd.concat([train, target], axis=1)"
      ],
      "execution_count": 4,
      "outputs": []
    },
    {
      "cell_type": "code",
      "metadata": {
        "id": "ysLsAohLO34r"
      },
      "source": [
        "validation_data = train[13000: ]\n",
        "train_data = train[:13000]"
      ],
      "execution_count": 5,
      "outputs": []
    },
    {
      "cell_type": "code",
      "metadata": {
        "id": "QdeogpHsF7nG",
        "colab": {
          "base_uri": "https://localhost:8080/"
        },
        "outputId": "88592eed-d17c-479e-8079-fc99c087e701"
      },
      "source": [
        "features = [f for f in train_data.columns if 'Feature' in f]\n",
        "len(features)"
      ],
      "execution_count": 6,
      "outputs": [
        {
          "output_type": "execute_result",
          "data": {
            "text/plain": [
              "14"
            ]
          },
          "metadata": {
            "tags": []
          },
          "execution_count": 6
        }
      ]
    },
    {
      "cell_type": "code",
      "metadata": {
        "colab": {
          "base_uri": "https://localhost:8080/"
        },
        "id": "QF6FgW4oq1ZC",
        "outputId": "7acd0560-70fa-4231-cecc-28af9a1f68e6"
      },
      "source": [
        "train_data.shape"
      ],
      "execution_count": 7,
      "outputs": [
        {
          "output_type": "execute_result",
          "data": {
            "text/plain": [
              "(13000, 17)"
            ]
          },
          "metadata": {
            "tags": []
          },
          "execution_count": 7
        }
      ]
    },
    {
      "cell_type": "markdown",
      "metadata": {
        "id": "poRcC-PmPIws"
      },
      "source": [
        "# TRAINING"
      ]
    },
    {
      "cell_type": "code",
      "metadata": {
        "id": "IAeBShzMO_h8"
      },
      "source": [
        "def scorer(y_test, y_pred):\n",
        "    score = (stats.spearmanr(y_test, y_pred))[0]\n",
        "    # print('Score as calculated for the leader board (っಠ‿ಠ)っ {}'.format(score))\n",
        "    return score"
      ],
      "execution_count": 8,
      "outputs": []
    },
    {
      "cell_type": "code",
      "metadata": {
        "id": "HT8sI09oPMQ2"
      },
      "source": [
        "# train[:10][['Feature_1', 'target_r']]"
      ],
      "execution_count": 9,
      "outputs": []
    },
    {
      "cell_type": "code",
      "metadata": {
        "id": "N_hPzUj3TQF9"
      },
      "source": [
        "def split_sequences(sequences, n_steps):\n",
        "    X, y = list(), list()   \n",
        "    for i in range(len(sequences)):\n",
        "        # find the end of this pattern\n",
        "        end_ix = i + n_steps\n",
        "        # check if we are beyond the dataset\n",
        "        if end_ix > len(sequences):\n",
        "            break\n",
        "        # gather input and output parts of the pattern\n",
        "        seq_x, seq_y = sequences[i:end_ix, :-3], sequences[end_ix-1, -3:]\n",
        "        # print(seq_x)\n",
        "        X.append(seq_x)\n",
        "        y.append(seq_y)\n",
        "    return np.array(X), np.array(y)"
      ],
      "execution_count": 10,
      "outputs": []
    },
    {
      "cell_type": "code",
      "metadata": {
        "id": "DVQm-15LvxgE"
      },
      "source": [
        "train_data_arr = np.array(train_data)\n",
        "validation_data_arr = np.array(validation_data)"
      ],
      "execution_count": 11,
      "outputs": []
    },
    {
      "cell_type": "code",
      "metadata": {
        "id": "MMSwWHAbv1Nz",
        "colab": {
          "base_uri": "https://localhost:8080/"
        },
        "outputId": "e8708178-3d2e-4476-fdb7-8bc5160363b2"
      },
      "source": [
        "train_data_arr.shape, validation_data_arr.shape"
      ],
      "execution_count": 12,
      "outputs": [
        {
          "output_type": "execute_result",
          "data": {
            "text/plain": [
              "((13000, 17), (1687, 17))"
            ]
          },
          "metadata": {
            "tags": []
          },
          "execution_count": 12
        }
      ]
    },
    {
      "cell_type": "code",
      "metadata": {
        "id": "zCoDgbLgYybo"
      },
      "source": [
        "%matplotlib inline\n",
        "def plot_metric(history, metric):\n",
        "    train_metrics = history.history[metric]\n",
        "    val_metrics = history.history['val_'+metric]\n",
        "    epochs = range(1, len(train_metrics) + 1)\n",
        "    plt.plot(epochs, train_metrics)\n",
        "    plt.plot(epochs, val_metrics)\n",
        "    plt.title('Training and validation '+ metric)\n",
        "    plt.xlabel(\"Epochs\")\n",
        "    plt.ylabel(metric)\n",
        "    plt.legend([\"train_\"+metric, 'val_'+metric])\n",
        "    plt.show()"
      ],
      "execution_count": 13,
      "outputs": []
    },
    {
      "cell_type": "code",
      "metadata": {
        "id": "mR-XTuWxViYh"
      },
      "source": [
        "# np.random.seed(60)\n",
        "# df = []\n",
        "# for i in range(1,30):\n",
        "#     n_steps = i\n",
        "#     X_train, y_train = split_sequences(train_data_arr, n_steps)\n",
        "#     X_val, y_val = split_sequences(validation_data_arr, n_steps)\n",
        "\n",
        "#     n_input = X_train.shape[1] * X_train.shape[2]\n",
        "#     X_train = X_train.reshape((X_train.shape[0], n_input))\n",
        "#     X_val = X_val.reshape((X_val.shape[0], n_input))\n",
        "\n",
        "#     from keras.models import Sequential\n",
        "#     from keras.layers import Dense\n",
        "\n",
        "\n",
        "#     model = Sequential()\n",
        "#     model.add(Dense(1024, activation='sigmoid', input_dim=n_input))\n",
        "#     model.add(Dense(512, activation='relu'))\n",
        "#     # model.add(Dense(256, activation='relu'))\n",
        "#     model.add(Dense(150, activation='relu'))\n",
        "#     # model.add(Dense(50, activation='relu'))\n",
        "#     model.add(Dense(3))\n",
        "#     model.compile(optimizer='rmsprop', loss='mse')\n",
        "\n",
        "#     early_stopping = EarlyStopping(monitor='val_loss', mode='min', verbose=1, patience=15)\n",
        "#     mcp_save = ModelCheckpoint('./model.hdf5', save_best_only=True, monitor='val_loss', mode='min')\n",
        "\n",
        "#     batch_size = 64\n",
        "#     epochs = 250\n",
        "\n",
        "#     history = model.fit(X_train, y_train, epochs=epochs, batch_size=batch_size,verbose=0, validation_data=(X_val, y_val), \n",
        "#                         callbacks=[early_stopping, mcp_save], shuffle=False)\n",
        "\n",
        "    \n",
        "#     # plot_metric(history, 'loss')\n",
        "#     print( \"TIME STEPS : --------> \" , i)\n",
        "\n",
        "#     model.load_weights('model.hdf5')\n",
        "#     preds= model.predict(X_val, batch_size=batch_size)\n",
        "#     cols = ['target_r', 'target_g', 'target_b']\n",
        "#     preds = pd.DataFrame(preds, columns=cols)\n",
        "\n",
        "#     scores = []\n",
        "#     scores.append(n_steps)\n",
        "#     scores.append(scorer(y_val[:, 0], preds.target_r))\n",
        "#     scores.append(scorer(y_val[:, 1], preds.target_g))\n",
        "#     scores.append(scorer(y_val[:, 2], preds.target_b))\n",
        "#     df.append(pd.DataFrame(scores))"
      ],
      "execution_count": 14,
      "outputs": []
    },
    {
      "cell_type": "code",
      "metadata": {
        "id": "RnPAF_k4ajT1"
      },
      "source": [
        "# df = pd.concat(df, axis=1)\n",
        "# df.columns = df.iloc[0]\n",
        "# df.drop(df.index[0], inplace=True)"
      ],
      "execution_count": 15,
      "outputs": []
    },
    {
      "cell_type": "code",
      "metadata": {
        "id": "oyiYYpfgbBu5"
      },
      "source": [
        "# df.T"
      ],
      "execution_count": 16,
      "outputs": []
    },
    {
      "cell_type": "code",
      "metadata": {
        "id": "0T6-SCSYivm7"
      },
      "source": [
        "# df.T.max()"
      ],
      "execution_count": 17,
      "outputs": []
    },
    {
      "cell_type": "code",
      "metadata": {
        "id": "DoD58bWHl4TT"
      },
      "source": [
        "train = pd.read_csv(train_datalink_X)\n",
        "target = pd.read_csv(train_datalink_y)\n",
        "test = pd.read_csv(hackathon_data_link)"
      ],
      "execution_count": 29,
      "outputs": []
    },
    {
      "cell_type": "code",
      "metadata": {
        "id": "PoNreJ6al4TU"
      },
      "source": [
        "train = pd.concat([train, target], axis=1)"
      ],
      "execution_count": 30,
      "outputs": []
    },
    {
      "cell_type": "code",
      "metadata": {
        "id": "wqOkmqAKl4TW"
      },
      "source": [
        "validation_data = train[13000: ]\n",
        "train_data = train[:13000]"
      ],
      "execution_count": 31,
      "outputs": []
    },
    {
      "cell_type": "code",
      "metadata": {
        "colab": {
          "base_uri": "https://localhost:8080/"
        },
        "id": "PbM4-DRxl4TW",
        "outputId": "3369c637-38d8-4a86-d35e-bfbb9442e39a"
      },
      "source": [
        "features = [f for f in train_data.columns if 'Feature' in f]\n",
        "len(features)"
      ],
      "execution_count": 32,
      "outputs": [
        {
          "output_type": "execute_result",
          "data": {
            "text/plain": [
              "14"
            ]
          },
          "metadata": {
            "tags": []
          },
          "execution_count": 32
        }
      ]
    },
    {
      "cell_type": "code",
      "metadata": {
        "id": "FrtUgIS9i16f",
        "colab": {
          "base_uri": "https://localhost:8080/"
        },
        "outputId": "d504a316-aeba-4c5e-ed93-0201be029abc"
      },
      "source": [
        "validation_data.shape[0] - 6"
      ],
      "execution_count": 33,
      "outputs": [
        {
          "output_type": "execute_result",
          "data": {
            "text/plain": [
              "1681"
            ]
          },
          "metadata": {
            "tags": []
          },
          "execution_count": 33
        }
      ]
    },
    {
      "cell_type": "code",
      "metadata": {
        "id": "MONi5CFncH9r"
      },
      "source": [
        "test_merge = validation_data[1682:]"
      ],
      "execution_count": 34,
      "outputs": []
    },
    {
      "cell_type": "code",
      "metadata": {
        "id": "urPZXRKtcWX8"
      },
      "source": [
        "cols = ['target_r', 'target_g', 'target_b']\n",
        "test_merge.drop(columns=cols, inplace=True)"
      ],
      "execution_count": 35,
      "outputs": []
    },
    {
      "cell_type": "code",
      "metadata": {
        "id": "P_dBWHAwclLn"
      },
      "source": [
        "validation_data = validation_data[:1682]"
      ],
      "execution_count": 36,
      "outputs": []
    },
    {
      "cell_type": "code",
      "metadata": {
        "id": "KHwMNbxIb5TZ",
        "colab": {
          "base_uri": "https://localhost:8080/"
        },
        "outputId": "f686acae-aaf0-4452-cdeb-974906ebc4fc"
      },
      "source": [
        "train_data_arr = np.array(train_data)\n",
        "validation_data_arr = np.array(validation_data)\n",
        "validation_data_arr.shape"
      ],
      "execution_count": 37,
      "outputs": [
        {
          "output_type": "execute_result",
          "data": {
            "text/plain": [
              "(1682, 17)"
            ]
          },
          "metadata": {
            "tags": []
          },
          "execution_count": 37
        }
      ]
    },
    {
      "cell_type": "code",
      "metadata": {
        "id": "8m9gmn2-baw4",
        "colab": {
          "base_uri": "https://localhost:8080/",
          "height": 365
        },
        "outputId": "5c94049f-c477-4b35-87c3-291d91386d82"
      },
      "source": [
        "np.random.seed(60)\n",
        "n_steps = 6\n",
        "X_train, y_train = split_sequences(train_data_arr, n_steps)\n",
        "X_val, y_val = split_sequences(validation_data_arr, n_steps)\n",
        "\n",
        "n_input = X_train.shape[1] * X_train.shape[2]\n",
        "X_train = X_train.reshape((X_train.shape[0], n_input))\n",
        "X_val = X_val.reshape((X_val.shape[0], n_input))\n",
        "\n",
        "from keras.models import Sequential\n",
        "from keras.layers import Dense\n",
        "\n",
        "\n",
        "model = Sequential()\n",
        "model.add(Dense(1024, activation='sigmoid', input_dim=n_input))\n",
        "model.add(Dense(512, activation='relu'))\n",
        "# model.add(Dense(256, activation='relu'))\n",
        "model.add(Dense(150, activation='relu'))\n",
        "# model.add(Dense(50, activation='relu'))\n",
        "model.add(Dense(3))\n",
        "model.compile(optimizer='rmsprop', loss='mse')\n",
        "\n",
        "early_stopping = EarlyStopping(monitor='val_loss', mode='min', verbose=1, patience=15)\n",
        "mcp_save = ModelCheckpoint('./model.hdf5', save_best_only=True, monitor='val_loss', mode='min')\n",
        "\n",
        "batch_size = 64\n",
        "epochs = 250\n",
        "\n",
        "history = model.fit(X_train, y_train, epochs=epochs, batch_size=batch_size,verbose=0, validation_data=(X_val, y_val), \n",
        "                    callbacks=[early_stopping, mcp_save], shuffle=True)\n",
        "\n",
        "\n",
        "plot_metric(history, 'loss')\n",
        "\n",
        "model.load_weights('model.hdf5')\n",
        "preds= model.predict(X_val, batch_size=batch_size)\n",
        "cols = ['target_r', 'target_g', 'target_b']\n",
        "preds = pd.DataFrame(preds, columns=cols)\n",
        "\n",
        "print(scorer(y_val[:, 0], preds.target_r))\n",
        "print(scorer(y_val[:, 1], preds.target_g))\n",
        "print(scorer(y_val[:, 2], preds.target_b))"
      ],
      "execution_count": 38,
      "outputs": [
        {
          "output_type": "stream",
          "text": [
            "Epoch 00034: early stopping\n"
          ],
          "name": "stdout"
        },
        {
          "output_type": "display_data",
          "data": {
            "image/png": "[encoded data removed]",
            "text/plain": [
              "<Figure size 432x288 with 1 Axes>"
            ]
          },
          "metadata": {
            "tags": [],
            "needs_background": "light"
          }
        },
        {
          "output_type": "stream",
          "text": [
            "0.026464750145748745\n",
            "0.09355211076002505\n",
            "0.11827061113840846\n"
          ],
          "name": "stdout"
        }
      ]
    },
    {
      "cell_type": "code",
      "metadata": {
        "id": "zH5UDkAAbars",
        "colab": {
          "base_uri": "https://localhost:8080/"
        },
        "outputId": "9e345941-4527-4df3-968d-37dc0d9563c7"
      },
      "source": [
        "test_data_with_lag = pd.concat([test_merge, test])\n",
        "test_data_with_lag.shape"
      ],
      "execution_count": 39,
      "outputs": [
        {
          "output_type": "execute_result",
          "data": {
            "text/plain": [
              "(14448, 14)"
            ]
          },
          "metadata": {
            "tags": []
          },
          "execution_count": 39
        }
      ]
    },
    {
      "cell_type": "code",
      "metadata": {
        "id": "xalveW4Xji0K"
      },
      "source": [
        "def split_sequences_for_prediction(sequences, n_steps):\n",
        "    X= list()   \n",
        "    for i in range(len(sequences)):\n",
        "# find the end of this pattern\n",
        "        end_ix = i + n_steps\n",
        "# check if we are beyond the dataset\n",
        "        if end_ix > len(sequences):\n",
        "            break\n",
        "# gather input and output parts of the pattern\n",
        "        seq_x =sequences[i:end_ix]\n",
        "        # print(seq_x)\n",
        "        X.append(seq_x)\n",
        "    return np.array(X)"
      ],
      "execution_count": 40,
      "outputs": []
    },
    {
      "cell_type": "code",
      "metadata": {
        "id": "JOHA1W6qjixU"
      },
      "source": [
        "preds_data = split_sequences_for_prediction(np.array(test_data_with_lag), 6)"
      ],
      "execution_count": 41,
      "outputs": []
    },
    {
      "cell_type": "code",
      "metadata": {
        "id": "LIII01T-lNZn",
        "colab": {
          "base_uri": "https://localhost:8080/"
        },
        "outputId": "fc78a5d2-9d18-45b5-953f-5cae7cba1c12"
      },
      "source": [
        "preds_data.shape"
      ],
      "execution_count": 42,
      "outputs": [
        {
          "output_type": "execute_result",
          "data": {
            "text/plain": [
              "(14443, 6, 14)"
            ]
          },
          "metadata": {
            "tags": []
          },
          "execution_count": 42
        }
      ]
    },
    {
      "cell_type": "code",
      "metadata": {
        "id": "hfc_y3f3j7av",
        "colab": {
          "base_uri": "https://localhost:8080/"
        },
        "outputId": "376d16ba-69fb-4afc-d3f1-06f9afb60f42"
      },
      "source": [
        "preds_data = preds_data.reshape((preds_data.shape[0], n_input))\n",
        "preds_data.shape"
      ],
      "execution_count": 43,
      "outputs": [
        {
          "output_type": "execute_result",
          "data": {
            "text/plain": [
              "(14443, 84)"
            ]
          },
          "metadata": {
            "tags": []
          },
          "execution_count": 43
        }
      ]
    },
    {
      "cell_type": "code",
      "metadata": {
        "id": "huOGl8Lyj7Xx"
      },
      "source": [
        "prediction = pd.DataFrame(model.predict(preds_data, batch_size=batch_size))"
      ],
      "execution_count": 44,
      "outputs": []
    },
    {
      "cell_type": "code",
      "metadata": {
        "id": "KQPmRrQqj7VB"
      },
      "source": [
        "prediction.columns = cols"
      ],
      "execution_count": 45,
      "outputs": []
    },
    {
      "cell_type": "code",
      "metadata": {
        "id": "e_OXlGtDktZk",
        "colab": {
          "base_uri": "https://localhost:8080/",
          "height": 391
        },
        "outputId": "aa251087-24dc-475f-f10e-e2dfd8ba5c63"
      },
      "source": [
        "prediction"
      ],
      "execution_count": 46,
      "outputs": [
        {
          "output_type": "execute_result",
          "data": {
            "text/html": [
              "<div>\n",
              "<style scoped>\n",
              "    .dataframe tbody tr th:only-of-type {\n",
              "        vertical-align: middle;\n",
              "    }\n",
              "\n",
              "    .dataframe tbody tr th {\n",
              "        vertical-align: top;\n",
              "    }\n",
              "\n",
              "    .dataframe thead th {\n",
              "        text-align: right;\n",
              "    }\n",
              "</style>\n",
              "<table border=\"1\" class=\"dataframe\">\n",
              "  <thead>\n",
              "    <tr style=\"text-align: right;\">\n",
              "      <th></th>\n",
              "      <th>target_r</th>\n",
              "      <th>target_g</th>\n",
              "      <th>target_b</th>\n",
              "    </tr>\n",
              "  </thead>\n",
              "  <tbody>\n",
              "    <tr>\n",
              "      <th>0</th>\n",
              "      <td>0.626972</td>\n",
              "      <td>0.640377</td>\n",
              "      <td>0.720730</td>\n",
              "    </tr>\n",
              "    <tr>\n",
              "      <th>1</th>\n",
              "      <td>0.608932</td>\n",
              "      <td>0.618129</td>\n",
              "      <td>0.700788</td>\n",
              "    </tr>\n",
              "    <tr>\n",
              "      <th>2</th>\n",
              "      <td>0.561535</td>\n",
              "      <td>0.548107</td>\n",
              "      <td>0.603757</td>\n",
              "    </tr>\n",
              "    <tr>\n",
              "      <th>3</th>\n",
              "      <td>0.557595</td>\n",
              "      <td>0.542370</td>\n",
              "      <td>0.596115</td>\n",
              "    </tr>\n",
              "    <tr>\n",
              "      <th>4</th>\n",
              "      <td>0.593016</td>\n",
              "      <td>0.594495</td>\n",
              "      <td>0.667984</td>\n",
              "    </tr>\n",
              "    <tr>\n",
              "      <th>...</th>\n",
              "      <td>...</td>\n",
              "      <td>...</td>\n",
              "      <td>...</td>\n",
              "    </tr>\n",
              "    <tr>\n",
              "      <th>14438</th>\n",
              "      <td>0.510495</td>\n",
              "      <td>0.477843</td>\n",
              "      <td>0.513263</td>\n",
              "    </tr>\n",
              "    <tr>\n",
              "      <th>14439</th>\n",
              "      <td>0.586274</td>\n",
              "      <td>0.584526</td>\n",
              "      <td>0.654207</td>\n",
              "    </tr>\n",
              "    <tr>\n",
              "      <th>14440</th>\n",
              "      <td>0.569906</td>\n",
              "      <td>0.560406</td>\n",
              "      <td>0.620916</td>\n",
              "    </tr>\n",
              "    <tr>\n",
              "      <th>14441</th>\n",
              "      <td>0.647605</td>\n",
              "      <td>0.643958</td>\n",
              "      <td>0.688672</td>\n",
              "    </tr>\n",
              "    <tr>\n",
              "      <th>14442</th>\n",
              "      <td>0.723606</td>\n",
              "      <td>0.755503</td>\n",
              "      <td>0.816397</td>\n",
              "    </tr>\n",
              "  </tbody>\n",
              "</table>\n",
              "<p>14443 rows × 3 columns</p>\n",
              "</div>"
            ],
            "text/plain": [
              "       target_r  target_g  target_b\n",
              "0      0.626972  0.640377  0.720730\n",
              "1      0.608932  0.618129  0.700788\n",
              "2      0.561535  0.548107  0.603757\n",
              "3      0.557595  0.542370  0.596115\n",
              "4      0.593016  0.594495  0.667984\n",
              "...         ...       ...       ...\n",
              "14438  0.510495  0.477843  0.513263\n",
              "14439  0.586274  0.584526  0.654207\n",
              "14440  0.569906  0.560406  0.620916\n",
              "14441  0.647605  0.643958  0.688672\n",
              "14442  0.723606  0.755503  0.816397\n",
              "\n",
              "[14443 rows x 3 columns]"
            ]
          },
          "metadata": {
            "tags": []
          },
          "execution_count": 46
        }
      ]
    },
    {
      "cell_type": "code",
      "metadata": {
        "id": "UcDcBH-Jh_nC"
      },
      "source": [
        ""
      ],
      "execution_count": null,
      "outputs": []
    },
    {
      "cell_type": "markdown",
      "metadata": {
        "id": "e9rfNhxziAGi"
      },
      "source": [
        "# Other Models"
      ]
    },
    {
      "cell_type": "code",
      "metadata": {
        "id": "5aJ1p2rzh_j0"
      },
      "source": [
        ""
      ],
      "execution_count": null,
      "outputs": []
    },
    {
      "cell_type": "code",
      "metadata": {
        "id": "oMwd_96g9RcZ"
      },
      "source": [
        "from sklearn.ensemble import AdaBoostRegressor\n",
        "from sklearn.preprocessing import StandardScaler"
      ],
      "execution_count": 49,
      "outputs": []
    },
    {
      "cell_type": "code",
      "metadata": {
        "colab": {
          "base_uri": "https://localhost:8080/"
        },
        "id": "jhL4PX4E0oUZ",
        "outputId": "b4fe8211-0dd2-428c-d0b3-9f5e9b0ac2c5"
      },
      "source": [
        "sc = StandardScaler()\n",
        "X_train, X_test, y_train, y_test = train_test_split(train[features], train['target_b'], test_size=0.25, shuffle=False, random_state=60)\n",
        "X_train = sc.fit_transform(X_train)\n",
        "X_test = sc.transform(X_test)\n",
        "model_b = AdaBoostRegressor(random_state=60)\n",
        "model_b.fit(X_train, y_train)\n",
        "preds = model_b.predict(X_test)\n",
        "scorer(preds, y_test)"
      ],
      "execution_count": 50,
      "outputs": [
        {
          "output_type": "execute_result",
          "data": {
            "text/plain": [
              "0.19817358328052032"
            ]
          },
          "metadata": {
            "tags": []
          },
          "execution_count": 50
        }
      ]
    },
    {
      "cell_type": "code",
      "metadata": {
        "id": "UvJzFQZ3h_g7"
      },
      "source": [
        "test = sc.transform(test)"
      ],
      "execution_count": 52,
      "outputs": []
    },
    {
      "cell_type": "code",
      "metadata": {
        "id": "z80HLWfailuP",
        "outputId": "4470c6f0-eeb2-4949-826c-25e9d30529de",
        "colab": {
          "base_uri": "https://localhost:8080/",
          "height": 391
        }
      },
      "source": [
        "prediction['target_b'] = model_b.predict(test)\n",
        "prediction"
      ],
      "execution_count": 53,
      "outputs": [
        {
          "output_type": "execute_result",
          "data": {
            "text/html": [
              "<div>\n",
              "<style scoped>\n",
              "    .dataframe tbody tr th:only-of-type {\n",
              "        vertical-align: middle;\n",
              "    }\n",
              "\n",
              "    .dataframe tbody tr th {\n",
              "        vertical-align: top;\n",
              "    }\n",
              "\n",
              "    .dataframe thead th {\n",
              "        text-align: right;\n",
              "    }\n",
              "</style>\n",
              "<table border=\"1\" class=\"dataframe\">\n",
              "  <thead>\n",
              "    <tr style=\"text-align: right;\">\n",
              "      <th></th>\n",
              "      <th>target_r</th>\n",
              "      <th>target_g</th>\n",
              "      <th>target_b</th>\n",
              "    </tr>\n",
              "  </thead>\n",
              "  <tbody>\n",
              "    <tr>\n",
              "      <th>0</th>\n",
              "      <td>0.626972</td>\n",
              "      <td>0.640377</td>\n",
              "      <td>0.597933</td>\n",
              "    </tr>\n",
              "    <tr>\n",
              "      <th>1</th>\n",
              "      <td>0.608932</td>\n",
              "      <td>0.618129</td>\n",
              "      <td>0.432730</td>\n",
              "    </tr>\n",
              "    <tr>\n",
              "      <th>2</th>\n",
              "      <td>0.561535</td>\n",
              "      <td>0.548107</td>\n",
              "      <td>0.448555</td>\n",
              "    </tr>\n",
              "    <tr>\n",
              "      <th>3</th>\n",
              "      <td>0.557595</td>\n",
              "      <td>0.542370</td>\n",
              "      <td>0.432730</td>\n",
              "    </tr>\n",
              "    <tr>\n",
              "      <th>4</th>\n",
              "      <td>0.593016</td>\n",
              "      <td>0.594495</td>\n",
              "      <td>0.570312</td>\n",
              "    </tr>\n",
              "    <tr>\n",
              "      <th>...</th>\n",
              "      <td>...</td>\n",
              "      <td>...</td>\n",
              "      <td>...</td>\n",
              "    </tr>\n",
              "    <tr>\n",
              "      <th>14438</th>\n",
              "      <td>0.510495</td>\n",
              "      <td>0.477843</td>\n",
              "      <td>0.432730</td>\n",
              "    </tr>\n",
              "    <tr>\n",
              "      <th>14439</th>\n",
              "      <td>0.586274</td>\n",
              "      <td>0.584526</td>\n",
              "      <td>0.496716</td>\n",
              "    </tr>\n",
              "    <tr>\n",
              "      <th>14440</th>\n",
              "      <td>0.569906</td>\n",
              "      <td>0.560406</td>\n",
              "      <td>0.432730</td>\n",
              "    </tr>\n",
              "    <tr>\n",
              "      <th>14441</th>\n",
              "      <td>0.647605</td>\n",
              "      <td>0.643958</td>\n",
              "      <td>0.552260</td>\n",
              "    </tr>\n",
              "    <tr>\n",
              "      <th>14442</th>\n",
              "      <td>0.723606</td>\n",
              "      <td>0.755503</td>\n",
              "      <td>0.570312</td>\n",
              "    </tr>\n",
              "  </tbody>\n",
              "</table>\n",
              "<p>14443 rows × 3 columns</p>\n",
              "</div>"
            ],
            "text/plain": [
              "       target_r  target_g  target_b\n",
              "0      0.626972  0.640377  0.597933\n",
              "1      0.608932  0.618129  0.432730\n",
              "2      0.561535  0.548107  0.448555\n",
              "3      0.557595  0.542370  0.432730\n",
              "4      0.593016  0.594495  0.570312\n",
              "...         ...       ...       ...\n",
              "14438  0.510495  0.477843  0.432730\n",
              "14439  0.586274  0.584526  0.496716\n",
              "14440  0.569906  0.560406  0.432730\n",
              "14441  0.647605  0.643958  0.552260\n",
              "14442  0.723606  0.755503  0.570312\n",
              "\n",
              "[14443 rows x 3 columns]"
            ]
          },
          "metadata": {
            "tags": []
          },
          "execution_count": 53
        }
      ]
    },
    {
      "cell_type": "code",
      "metadata": {
        "id": "P9WYMAmyilnW",
        "outputId": "310eb11a-39cd-4152-dc4c-1316f2bd9ebb",
        "colab": {
          "base_uri": "https://localhost:8080/",
          "height": 277
        }
      },
      "source": [
        "prediction.describe()"
      ],
      "execution_count": 54,
      "outputs": [
        {
          "output_type": "execute_result",
          "data": {
            "text/html": [
              "<div>\n",
              "<style scoped>\n",
              "    .dataframe tbody tr th:only-of-type {\n",
              "        vertical-align: middle;\n",
              "    }\n",
              "\n",
              "    .dataframe tbody tr th {\n",
              "        vertical-align: top;\n",
              "    }\n",
              "\n",
              "    .dataframe thead th {\n",
              "        text-align: right;\n",
              "    }\n",
              "</style>\n",
              "<table border=\"1\" class=\"dataframe\">\n",
              "  <thead>\n",
              "    <tr style=\"text-align: right;\">\n",
              "      <th></th>\n",
              "      <th>target_r</th>\n",
              "      <th>target_g</th>\n",
              "      <th>target_b</th>\n",
              "    </tr>\n",
              "  </thead>\n",
              "  <tbody>\n",
              "    <tr>\n",
              "      <th>count</th>\n",
              "      <td>14443.000000</td>\n",
              "      <td>14443.000000</td>\n",
              "      <td>14443.000000</td>\n",
              "    </tr>\n",
              "    <tr>\n",
              "      <th>mean</th>\n",
              "      <td>0.589707</td>\n",
              "      <td>0.576980</td>\n",
              "      <td>0.475460</td>\n",
              "    </tr>\n",
              "    <tr>\n",
              "      <th>std</th>\n",
              "      <td>0.049312</td>\n",
              "      <td>0.063177</td>\n",
              "      <td>0.081547</td>\n",
              "    </tr>\n",
              "    <tr>\n",
              "      <th>min</th>\n",
              "      <td>0.429070</td>\n",
              "      <td>0.373711</td>\n",
              "      <td>0.262215</td>\n",
              "    </tr>\n",
              "    <tr>\n",
              "      <th>25%</th>\n",
              "      <td>0.555452</td>\n",
              "      <td>0.532862</td>\n",
              "      <td>0.432432</td>\n",
              "    </tr>\n",
              "    <tr>\n",
              "      <th>50%</th>\n",
              "      <td>0.589001</td>\n",
              "      <td>0.575914</td>\n",
              "      <td>0.432730</td>\n",
              "    </tr>\n",
              "    <tr>\n",
              "      <th>75%</th>\n",
              "      <td>0.621909</td>\n",
              "      <td>0.619073</td>\n",
              "      <td>0.545854</td>\n",
              "    </tr>\n",
              "    <tr>\n",
              "      <th>max</th>\n",
              "      <td>0.774284</td>\n",
              "      <td>0.828214</td>\n",
              "      <td>0.670515</td>\n",
              "    </tr>\n",
              "  </tbody>\n",
              "</table>\n",
              "</div>"
            ],
            "text/plain": [
              "           target_r      target_g      target_b\n",
              "count  14443.000000  14443.000000  14443.000000\n",
              "mean       0.589707      0.576980      0.475460\n",
              "std        0.049312      0.063177      0.081547\n",
              "min        0.429070      0.373711      0.262215\n",
              "25%        0.555452      0.532862      0.432432\n",
              "50%        0.589001      0.575914      0.432730\n",
              "75%        0.621909      0.619073      0.545854\n",
              "max        0.774284      0.828214      0.670515"
            ]
          },
          "metadata": {
            "tags": []
          },
          "execution_count": 54
        }
      ]
    },
    {
      "cell_type": "markdown",
      "metadata": {
        "id": "3DRAjG2hPGW7"
      },
      "source": [
        "# Predictions"
      ]
    },
    {
      "cell_type": "code",
      "metadata": {
        "id": "cYyekZi2wXgE",
        "colab": {
          "base_uri": "https://localhost:8080/",
          "height": 282
        },
        "outputId": "a88fc54e-f621-4298-e55a-c061efc6920c"
      },
      "source": [
        "prediction['target_g'].plot(kind='hist')"
      ],
      "execution_count": 55,
      "outputs": [
        {
          "output_type": "execute_result",
          "data": {
            "text/plain": [
              "<matplotlib.axes._subplots.AxesSubplot at 0x7f06cbb24f90>"
            ]
          },
          "metadata": {
            "tags": []
          },
          "execution_count": 55
        },
        {
          "output_type": "display_data",
          "data": {
            "image/png": "[encoded data removed]",
            "text/plain": [
              "<Figure size 432x288 with 1 Axes>"
            ]
          },
          "metadata": {
            "tags": [],
            "needs_background": "light"
          }
        }
      ]
    },
    {
      "cell_type": "code",
      "metadata": {
        "id": "6FvQl9QBerwb",
        "colab": {
          "base_uri": "https://localhost:8080/"
        },
        "outputId": "51ba8d91-3f5f-4657-be1d-ba8d05e99ba0"
      },
      "source": [
        "API_KEY = \"0GIskIC9Rd1I8sMw6nStutbIbMx7AaZzAyNfuMOVAVWgJtNa1IVQHZAD3WPj\" # <- HERE\n",
        "\n",
        "r = requests.post(\"https://tournament.datacrunch.com/api/submission\",\n",
        "    files = {\n",
        "        \"file\": (\"x\", prediction.to_csv().encode('ascii'))\n",
        "    },\n",
        "    data = {\n",
        "        \"apiKey\": API_KEY\n",
        "    },\n",
        ")\n",
        "\n",
        "if r.status_code == 200:\n",
        "    print(\"Submission submitted :)\")\n",
        "elif r.status_code == 423:\n",
        "    print(\"ERR: Submissions are close\")\n",
        "    print(\"You can only submit during rounds eg: Friday 7pm GMT+1 to Sunday midnight GMT+1.\")\n",
        "    print(\"Or the server is currently crunching the submitted files, please wait some time before retrying.\")\n",
        "elif r.status_code == 422:\n",
        "    print(\"ERR: API Key is missing or empty\")\n",
        "    print(\"Did you forget to fill the API_KEY variable?\")\n",
        "elif r.status_code == 404:\n",
        "    print(\"ERR: Unknown API Key\")\n",
        "    print(\"You should check that the provided API key is valid and is the same as the one you've received by email.\")\n",
        "elif r.status_code == 400:\n",
        "    print(\"ERR: The file must not be empty\")\n",
        "    print(\"You have send a empty file.\")\n",
        "elif r.status_code == 401:\n",
        "    print(\"ERR: Your email hasn't been verified\")\n",
        "    print(\"Please verify your email or contact a cruncher.\")\n",
        "elif r.status_code == 429:\n",
        "    print(\"ERR: Too many submissions\")\n",
        "else:\n",
        "    print(\"ERR: Server returned: \" + str(r.status_code))\n",
        "    print(\"Ouch! It seems that we were not expecting this kind of result from the server, if the probleme persist, contact a cruncher.\")"
      ],
      "execution_count": 56,
      "outputs": [
        {
          "output_type": "stream",
          "text": [
            "Submission submitted :)\n"
          ],
          "name": "stdout"
        }
      ]
    },
    {
      "cell_type": "code",
      "metadata": {
        "id": "2WIE4pRQfD7v",
        "outputId": "a08e8abf-88aa-42d9-b85f-6c9f99cfe61d",
        "colab": {
          "base_uri": "https://localhost:8080/"
        }
      },
      "source": [
        "(12.53+4.12+3.93)/3 * 65"
      ],
      "execution_count": 59,
      "outputs": [
        {
          "output_type": "execute_result",
          "data": {
            "text/plain": [
              "445.9"
            ]
          },
          "metadata": {
            "tags": []
          },
          "execution_count": 59
        }
      ]
    },
    {
      "cell_type": "code",
      "metadata": {
        "id": "tmRW8E1ojDbQ"
      },
      "source": [
        ""
      ],
      "execution_count": null,
      "outputs": []
    }
  ]
}