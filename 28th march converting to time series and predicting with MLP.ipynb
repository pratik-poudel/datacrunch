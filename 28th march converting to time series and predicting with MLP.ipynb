{
  "nbformat": 4,
  "nbformat_minor": 0,
  "metadata": {
    "colab": {
      "name": "scratchpad",
      "provenance": [],
      "toc_visible": true,
      "machine_shape": "hm",
      "include_colab_link": true
    },
    "kernelspec": {
      "display_name": "Python 3",
      "name": "python3"
    },
    "accelerator": "GPU"
  },
  "cells": [
    {
      "cell_type": "markdown",
      "metadata": {
        "id": "view-in-github",
        "colab_type": "text"
      },
      "source": [
        "<a href=\"https://colab.research.google.com/github/pratik-poudel/datacrunch/blob/main/28th%20march%20converting%20to%20time%20series%20and%20predicting%20with%20MLP.ipynb\" target=\"_parent\"><img src=\"https://colab.research.google.com/assets/colab-badge.svg\" alt=\"Open In Colab\"/></a>"
      ]
    },
    {
      "cell_type": "code",
      "metadata": {
        "id": "lIYdn1woOS1n"
      },
      "source": [
        "import numpy as np\n",
        "import pandas as pd\n",
        "from collections import defaultdict\n",
        "from tqdm.notebook import tqdm\n",
        "from matplotlib import pyplot as plt\n",
        "import warnings\n",
        "warnings.filterwarnings('ignore')\n",
        "import seaborn as sns\n",
        "import gc\n",
        "# pd.options.display.float_format| = \"{:.2f}\".format\n",
        "pd.options.display.max_columns = 500\n",
        "\n",
        "\n",
        "from sklearn.model_selection import train_test_split\n",
        "from sklearn.metrics import accuracy_score \n",
        "from sklearn.metrics import classification_report \n",
        "import requests\n",
        "from scipy import stats\n",
        "\n",
        "import lightgbm as lgb\n",
        "\n",
        "from tensorflow.keras.callbacks import EarlyStopping, ModelCheckpoint\n"
      ],
      "execution_count": 2,
      "outputs": []
    },
    {
      "cell_type": "code",
      "metadata": {
        "id": "-Fp6KUxlw_3G"
      },
      "source": [
        "train_datalink_X = 'https://tournament.datacrunch.com/data/X_train.csv'  \n",
        "train_datalink_y = 'https://tournament.datacrunch.com/data/y_train.csv'\n",
        "hackathon_data_link = 'https://tournament.datacrunch.com/data/X_test.csv'"
      ],
      "execution_count": 56,
      "outputs": []
    },
    {
      "cell_type": "code",
      "metadata": {
        "id": "EH7b596jxFEG"
      },
      "source": [
        "train = pd.read_csv(train_datalink_X)\n",
        "target = pd.read_csv(train_datalink_y)\n",
        "test = pd.read_csv(hackathon_data_link)"
      ],
      "execution_count": 112,
      "outputs": []
    },
    {
      "cell_type": "code",
      "metadata": {
        "id": "IcFYYvIN-0AN"
      },
      "source": [
        "train = pd.concat([train, target], axis=1)"
      ],
      "execution_count": 58,
      "outputs": []
    },
    {
      "cell_type": "code",
      "metadata": {
        "colab": {
          "base_uri": "https://localhost:8080/"
        },
        "id": "wrj3XSqmYYBB",
        "outputId": "458790a0-d48b-4b1e-c300-c8fd659d9890"
      },
      "source": [
        "train.shape"
      ],
      "execution_count": 59,
      "outputs": [
        {
          "output_type": "execute_result",
          "data": {
            "text/plain": [
              "(14687, 17)"
            ]
          },
          "metadata": {
            "tags": []
          },
          "execution_count": 59
        }
      ]
    },
    {
      "cell_type": "code",
      "metadata": {
        "id": "ysLsAohLO34r"
      },
      "source": [
        "validation_data = train[13000: ]\n",
        "train_data = train[:13000]"
      ],
      "execution_count": 60,
      "outputs": []
    },
    {
      "cell_type": "code",
      "metadata": {
        "id": "QdeogpHsF7nG",
        "colab": {
          "base_uri": "https://localhost:8080/"
        },
        "outputId": "eb127c96-bee6-47d8-cd3b-5681bc690c45"
      },
      "source": [
        "features = [f for f in train_data.columns if 'Feature' in f]\n",
        "len(features)"
      ],
      "execution_count": 61,
      "outputs": [
        {
          "output_type": "execute_result",
          "data": {
            "text/plain": [
              "14"
            ]
          },
          "metadata": {
            "tags": []
          },
          "execution_count": 61
        }
      ]
    },
    {
      "cell_type": "code",
      "metadata": {
        "colab": {
          "base_uri": "https://localhost:8080/"
        },
        "id": "QF6FgW4oq1ZC",
        "outputId": "b1a9520d-6586-415e-d7cd-3e8da5660771"
      },
      "source": [
        "train_data.shape"
      ],
      "execution_count": 62,
      "outputs": [
        {
          "output_type": "execute_result",
          "data": {
            "text/plain": [
              "(13000, 17)"
            ]
          },
          "metadata": {
            "tags": []
          },
          "execution_count": 62
        }
      ]
    },
    {
      "cell_type": "markdown",
      "metadata": {
        "id": "poRcC-PmPIws"
      },
      "source": [
        "# TRAINING"
      ]
    },
    {
      "cell_type": "code",
      "metadata": {
        "id": "IAeBShzMO_h8"
      },
      "source": [
        "def scorer(y_test, y_pred):\n",
        "    score = (stats.spearmanr(y_test, y_pred))[0]\n",
        "    # print('Score as calculated for the leader board (っಠ‿ಠ)っ {}'.format(score))\n",
        "    return score"
      ],
      "execution_count": 63,
      "outputs": []
    },
    {
      "cell_type": "code",
      "metadata": {
        "id": "HT8sI09oPMQ2"
      },
      "source": [
        "# train[:10][['Feature_1', 'target_r']]"
      ],
      "execution_count": 64,
      "outputs": []
    },
    {
      "cell_type": "code",
      "metadata": {
        "id": "N_hPzUj3TQF9"
      },
      "source": [
        "def split_sequences(sequences, n_steps):\n",
        "    X, y = list(), list()   \n",
        "    for i in range(len(sequences)):\n",
        "# find the end of this pattern\n",
        "        end_ix = i + n_steps\n",
        "# check if we are beyond the dataset\n",
        "        if end_ix > len(sequences):\n",
        "            break\n",
        "# gather input and output parts of the pattern\n",
        "        seq_x, seq_y = sequences[i:end_ix, :-3], sequences[end_ix-1, -3:]\n",
        "        # print(seq_x)\n",
        "        X.append(seq_x)\n",
        "        y.append(seq_y)\n",
        "    return np.array(X), np.array(y)"
      ],
      "execution_count": 65,
      "outputs": []
    },
    {
      "cell_type": "code",
      "metadata": {
        "id": "DVQm-15LvxgE"
      },
      "source": [
        "train_data_arr = np.array(train_data)\n",
        "validation_data_arr = np.array(validation_data)"
      ],
      "execution_count": 66,
      "outputs": []
    },
    {
      "cell_type": "code",
      "metadata": {
        "id": "MMSwWHAbv1Nz",
        "outputId": "590e26c7-bffd-4b00-97e4-d541f87b9e2a",
        "colab": {
          "base_uri": "https://localhost:8080/"
        }
      },
      "source": [
        "train_data_arr.shape, validation_data_arr.shape"
      ],
      "execution_count": 67,
      "outputs": [
        {
          "output_type": "execute_result",
          "data": {
            "text/plain": [
              "((13000, 17), (1687, 17))"
            ]
          },
          "metadata": {
            "tags": []
          },
          "execution_count": 67
        }
      ]
    },
    {
      "cell_type": "code",
      "metadata": {
        "id": "zCoDgbLgYybo"
      },
      "source": [
        "%matplotlib inline\n",
        "def plot_metric(history, metric):\n",
        "    train_metrics = history.history[metric]\n",
        "    val_metrics = history.history['val_'+metric]\n",
        "    epochs = range(1, len(train_metrics) + 1)\n",
        "    plt.plot(epochs, train_metrics)\n",
        "    plt.plot(epochs, val_metrics)\n",
        "    plt.title('Training and validation '+ metric)\n",
        "    plt.xlabel(\"Epochs\")\n",
        "    plt.ylabel(metric)\n",
        "    plt.legend([\"train_\"+metric, 'val_'+metric])\n",
        "    plt.show()"
      ],
      "execution_count": 68,
      "outputs": []
    },
    {
      "cell_type": "code",
      "metadata": {
        "id": "mR-XTuWxViYh",
        "outputId": "9ff030ab-a2e7-46e0-cb31-79c275e037df",
        "colab": {
          "base_uri": "https://localhost:8080/"
        }
      },
      "source": [
        "np.random.seed(60)\n",
        "df = []\n",
        "for i in range(1,30):\n",
        "    n_steps = i\n",
        "    X_train, y_train = split_sequences(train_data_arr, n_steps)\n",
        "    X_val, y_val = split_sequences(validation_data_arr, n_steps)\n",
        "\n",
        "    n_input = X_train.shape[1] * X_train.shape[2]\n",
        "    X_train = X_train.reshape((X_train.shape[0], n_input))\n",
        "    X_val = X_val.reshape((X_val.shape[0], n_input))\n",
        "\n",
        "    from keras.models import Sequential\n",
        "    from keras.layers import Dense\n",
        "\n",
        "\n",
        "    model = Sequential()\n",
        "    model.add(Dense(1024, activation='sigmoid', input_dim=n_input))\n",
        "    model.add(Dense(512, activation='relu'))\n",
        "    # model.add(Dense(256, activation='relu'))\n",
        "    model.add(Dense(150, activation='relu'))\n",
        "    # model.add(Dense(50, activation='relu'))\n",
        "    model.add(Dense(3))\n",
        "    model.compile(optimizer='rmsprop', loss='mse')\n",
        "\n",
        "    early_stopping = EarlyStopping(monitor='val_loss', mode='min', verbose=1, patience=15)\n",
        "    mcp_save = ModelCheckpoint('./model.hdf5', save_best_only=True, monitor='val_loss', mode='min')\n",
        "\n",
        "    batch_size = 64\n",
        "    epochs = 250\n",
        "\n",
        "    history = model.fit(X_train, y_train, epochs=epochs, batch_size=batch_size,verbose=0, validation_data=(X_val, y_val), \n",
        "                        callbacks=[early_stopping, mcp_save], shuffle=False)\n",
        "\n",
        "    \n",
        "    # plot_metric(history, 'loss')\n",
        "    print( \"TIME STEPS : --------> \" , i)\n",
        "\n",
        "    model.load_weights('model.hdf5')\n",
        "    preds= model.predict(X_val, batch_size=batch_size)\n",
        "    cols = ['target_r', 'target_g', 'target_b']\n",
        "    preds = pd.DataFrame(preds, columns=cols)\n",
        "\n",
        "    scores = []\n",
        "    scores.append(n_steps)\n",
        "    scores.append(scorer(y_val[:, 0], preds.target_r))\n",
        "    scores.append(scorer(y_val[:, 1], preds.target_g))\n",
        "    scores.append(scorer(y_val[:, 2], preds.target_b))\n",
        "    df.append(pd.DataFrame(scores))"
      ],
      "execution_count": 69,
      "outputs": [
        {
          "output_type": "stream",
          "text": [
            "Epoch 00035: early stopping\n",
            "TIME STEPS : -------->  1\n",
            "Epoch 00048: early stopping\n",
            "TIME STEPS : -------->  2\n",
            "Epoch 00037: early stopping\n",
            "TIME STEPS : -------->  3\n",
            "Epoch 00031: early stopping\n",
            "TIME STEPS : -------->  4\n",
            "Epoch 00051: early stopping\n",
            "TIME STEPS : -------->  5\n",
            "Epoch 00057: early stopping\n",
            "TIME STEPS : -------->  6\n",
            "Epoch 00059: early stopping\n",
            "TIME STEPS : -------->  7\n",
            "Epoch 00052: early stopping\n",
            "TIME STEPS : -------->  8\n",
            "Epoch 00016: early stopping\n",
            "TIME STEPS : -------->  9\n",
            "Epoch 00018: early stopping\n",
            "TIME STEPS : -------->  10\n",
            "Epoch 00017: early stopping\n",
            "TIME STEPS : -------->  11\n",
            "Epoch 00016: early stopping\n",
            "TIME STEPS : -------->  12\n",
            "Epoch 00016: early stopping\n",
            "TIME STEPS : -------->  13\n",
            "Epoch 00016: early stopping\n",
            "TIME STEPS : -------->  14\n",
            "Epoch 00016: early stopping\n",
            "TIME STEPS : -------->  15\n",
            "Epoch 00017: early stopping\n",
            "TIME STEPS : -------->  16\n",
            "Epoch 00016: early stopping\n",
            "TIME STEPS : -------->  17\n",
            "Epoch 00027: early stopping\n",
            "TIME STEPS : -------->  18\n",
            "Epoch 00016: early stopping\n",
            "TIME STEPS : -------->  19\n",
            "Epoch 00016: early stopping\n",
            "TIME STEPS : -------->  20\n",
            "Epoch 00025: early stopping\n",
            "TIME STEPS : -------->  21\n",
            "Epoch 00041: early stopping\n",
            "TIME STEPS : -------->  22\n",
            "Epoch 00027: early stopping\n",
            "TIME STEPS : -------->  23\n",
            "Epoch 00026: early stopping\n",
            "TIME STEPS : -------->  24\n",
            "Epoch 00029: early stopping\n",
            "TIME STEPS : -------->  25\n",
            "Epoch 00033: early stopping\n",
            "TIME STEPS : -------->  26\n",
            "Epoch 00026: early stopping\n",
            "TIME STEPS : -------->  27\n",
            "Epoch 00016: early stopping\n",
            "TIME STEPS : -------->  28\n",
            "Epoch 00033: early stopping\n",
            "TIME STEPS : -------->  29\n"
          ],
          "name": "stdout"
        }
      ]
    },
    {
      "cell_type": "code",
      "metadata": {
        "id": "RnPAF_k4ajT1"
      },
      "source": [
        "df = pd.concat(df, axis=1)\n",
        "df.columns = df.iloc[0]\n",
        "df.drop(df.index[0], inplace=True)"
      ],
      "execution_count": 70,
      "outputs": []
    },
    {
      "cell_type": "code",
      "metadata": {
        "id": "oyiYYpfgbBu5",
        "outputId": "0fea948a-b833-4cc6-c940-f6989de7ffd4",
        "colab": {
          "base_uri": "https://localhost:8080/",
          "height": 910
        }
      },
      "source": [
        "df.T"
      ],
      "execution_count": 71,
      "outputs": [
        {
          "output_type": "execute_result",
          "data": {
            "text/html": [
              "<div>\n",
              "<style scoped>\n",
              "    .dataframe tbody tr th:only-of-type {\n",
              "        vertical-align: middle;\n",
              "    }\n",
              "\n",
              "    .dataframe tbody tr th {\n",
              "        vertical-align: top;\n",
              "    }\n",
              "\n",
              "    .dataframe thead th {\n",
              "        text-align: right;\n",
              "    }\n",
              "</style>\n",
              "<table border=\"1\" class=\"dataframe\">\n",
              "  <thead>\n",
              "    <tr style=\"text-align: right;\">\n",
              "      <th></th>\n",
              "      <th>1</th>\n",
              "      <th>2</th>\n",
              "      <th>3</th>\n",
              "    </tr>\n",
              "    <tr>\n",
              "      <th>0</th>\n",
              "      <th></th>\n",
              "      <th></th>\n",
              "      <th></th>\n",
              "    </tr>\n",
              "  </thead>\n",
              "  <tbody>\n",
              "    <tr>\n",
              "      <th>1.0</th>\n",
              "      <td>0.069022</td>\n",
              "      <td>0.139454</td>\n",
              "      <td>0.090283</td>\n",
              "    </tr>\n",
              "    <tr>\n",
              "      <th>2.0</th>\n",
              "      <td>0.084482</td>\n",
              "      <td>0.151932</td>\n",
              "      <td>0.115996</td>\n",
              "    </tr>\n",
              "    <tr>\n",
              "      <th>3.0</th>\n",
              "      <td>0.096924</td>\n",
              "      <td>0.143710</td>\n",
              "      <td>0.095952</td>\n",
              "    </tr>\n",
              "    <tr>\n",
              "      <th>4.0</th>\n",
              "      <td>0.056247</td>\n",
              "      <td>0.150244</td>\n",
              "      <td>0.109253</td>\n",
              "    </tr>\n",
              "    <tr>\n",
              "      <th>5.0</th>\n",
              "      <td>0.098886</td>\n",
              "      <td>0.146413</td>\n",
              "      <td>0.089365</td>\n",
              "    </tr>\n",
              "    <tr>\n",
              "      <th>6.0</th>\n",
              "      <td>0.145689</td>\n",
              "      <td>0.165880</td>\n",
              "      <td>0.099518</td>\n",
              "    </tr>\n",
              "    <tr>\n",
              "      <th>7.0</th>\n",
              "      <td>0.070272</td>\n",
              "      <td>0.147437</td>\n",
              "      <td>0.086676</td>\n",
              "    </tr>\n",
              "    <tr>\n",
              "      <th>8.0</th>\n",
              "      <td>0.088554</td>\n",
              "      <td>0.136054</td>\n",
              "      <td>0.095780</td>\n",
              "    </tr>\n",
              "    <tr>\n",
              "      <th>9.0</th>\n",
              "      <td>0.021500</td>\n",
              "      <td>0.108197</td>\n",
              "      <td>0.075088</td>\n",
              "    </tr>\n",
              "    <tr>\n",
              "      <th>10.0</th>\n",
              "      <td>-0.026360</td>\n",
              "      <td>0.119233</td>\n",
              "      <td>0.064231</td>\n",
              "    </tr>\n",
              "    <tr>\n",
              "      <th>11.0</th>\n",
              "      <td>0.005326</td>\n",
              "      <td>0.131052</td>\n",
              "      <td>0.069830</td>\n",
              "    </tr>\n",
              "    <tr>\n",
              "      <th>12.0</th>\n",
              "      <td>0.001355</td>\n",
              "      <td>0.102558</td>\n",
              "      <td>0.056616</td>\n",
              "    </tr>\n",
              "    <tr>\n",
              "      <th>13.0</th>\n",
              "      <td>-0.005634</td>\n",
              "      <td>0.101349</td>\n",
              "      <td>0.063427</td>\n",
              "    </tr>\n",
              "    <tr>\n",
              "      <th>14.0</th>\n",
              "      <td>-0.020616</td>\n",
              "      <td>0.092076</td>\n",
              "      <td>0.068610</td>\n",
              "    </tr>\n",
              "    <tr>\n",
              "      <th>15.0</th>\n",
              "      <td>-0.033198</td>\n",
              "      <td>0.090016</td>\n",
              "      <td>0.051291</td>\n",
              "    </tr>\n",
              "    <tr>\n",
              "      <th>16.0</th>\n",
              "      <td>-0.018887</td>\n",
              "      <td>0.111842</td>\n",
              "      <td>0.066548</td>\n",
              "    </tr>\n",
              "    <tr>\n",
              "      <th>17.0</th>\n",
              "      <td>-0.024970</td>\n",
              "      <td>0.091864</td>\n",
              "      <td>0.070604</td>\n",
              "    </tr>\n",
              "    <tr>\n",
              "      <th>18.0</th>\n",
              "      <td>0.114895</td>\n",
              "      <td>0.163080</td>\n",
              "      <td>0.098703</td>\n",
              "    </tr>\n",
              "    <tr>\n",
              "      <th>19.0</th>\n",
              "      <td>-0.026832</td>\n",
              "      <td>0.083091</td>\n",
              "      <td>0.062681</td>\n",
              "    </tr>\n",
              "    <tr>\n",
              "      <th>20.0</th>\n",
              "      <td>-0.011463</td>\n",
              "      <td>0.087343</td>\n",
              "      <td>0.068955</td>\n",
              "    </tr>\n",
              "    <tr>\n",
              "      <th>21.0</th>\n",
              "      <td>0.052322</td>\n",
              "      <td>0.164460</td>\n",
              "      <td>0.105421</td>\n",
              "    </tr>\n",
              "    <tr>\n",
              "      <th>22.0</th>\n",
              "      <td>0.032981</td>\n",
              "      <td>0.184481</td>\n",
              "      <td>0.110559</td>\n",
              "    </tr>\n",
              "    <tr>\n",
              "      <th>23.0</th>\n",
              "      <td>0.083933</td>\n",
              "      <td>0.157671</td>\n",
              "      <td>0.092364</td>\n",
              "    </tr>\n",
              "    <tr>\n",
              "      <th>24.0</th>\n",
              "      <td>0.071098</td>\n",
              "      <td>0.165498</td>\n",
              "      <td>0.102640</td>\n",
              "    </tr>\n",
              "    <tr>\n",
              "      <th>25.0</th>\n",
              "      <td>0.058908</td>\n",
              "      <td>0.134374</td>\n",
              "      <td>0.086134</td>\n",
              "    </tr>\n",
              "    <tr>\n",
              "      <th>26.0</th>\n",
              "      <td>0.043578</td>\n",
              "      <td>0.124448</td>\n",
              "      <td>0.090824</td>\n",
              "    </tr>\n",
              "    <tr>\n",
              "      <th>27.0</th>\n",
              "      <td>0.059864</td>\n",
              "      <td>0.148566</td>\n",
              "      <td>0.100005</td>\n",
              "    </tr>\n",
              "    <tr>\n",
              "      <th>28.0</th>\n",
              "      <td>-0.049928</td>\n",
              "      <td>0.032759</td>\n",
              "      <td>0.035814</td>\n",
              "    </tr>\n",
              "    <tr>\n",
              "      <th>29.0</th>\n",
              "      <td>0.011561</td>\n",
              "      <td>0.133833</td>\n",
              "      <td>0.095542</td>\n",
              "    </tr>\n",
              "  </tbody>\n",
              "</table>\n",
              "</div>"
            ],
            "text/plain": [
              "             1         2         3\n",
              "0                                 \n",
              "1.0   0.069022  0.139454  0.090283\n",
              "2.0   0.084482  0.151932  0.115996\n",
              "3.0   0.096924  0.143710  0.095952\n",
              "4.0   0.056247  0.150244  0.109253\n",
              "5.0   0.098886  0.146413  0.089365\n",
              "6.0   0.145689  0.165880  0.099518\n",
              "7.0   0.070272  0.147437  0.086676\n",
              "8.0   0.088554  0.136054  0.095780\n",
              "9.0   0.021500  0.108197  0.075088\n",
              "10.0 -0.026360  0.119233  0.064231\n",
              "11.0  0.005326  0.131052  0.069830\n",
              "12.0  0.001355  0.102558  0.056616\n",
              "13.0 -0.005634  0.101349  0.063427\n",
              "14.0 -0.020616  0.092076  0.068610\n",
              "15.0 -0.033198  0.090016  0.051291\n",
              "16.0 -0.018887  0.111842  0.066548\n",
              "17.0 -0.024970  0.091864  0.070604\n",
              "18.0  0.114895  0.163080  0.098703\n",
              "19.0 -0.026832  0.083091  0.062681\n",
              "20.0 -0.011463  0.087343  0.068955\n",
              "21.0  0.052322  0.164460  0.105421\n",
              "22.0  0.032981  0.184481  0.110559\n",
              "23.0  0.083933  0.157671  0.092364\n",
              "24.0  0.071098  0.165498  0.102640\n",
              "25.0  0.058908  0.134374  0.086134\n",
              "26.0  0.043578  0.124448  0.090824\n",
              "27.0  0.059864  0.148566  0.100005\n",
              "28.0 -0.049928  0.032759  0.035814\n",
              "29.0  0.011561  0.133833  0.095542"
            ]
          },
          "metadata": {
            "tags": []
          },
          "execution_count": 71
        }
      ]
    },
    {
      "cell_type": "code",
      "metadata": {
        "id": "0T6-SCSYivm7",
        "outputId": "4898c32d-ff91-4405-f499-f1ad2255eda0",
        "colab": {
          "base_uri": "https://localhost:8080/"
        }
      },
      "source": [
        "df.T.max()"
      ],
      "execution_count": 72,
      "outputs": [
        {
          "output_type": "execute_result",
          "data": {
            "text/plain": [
              "1    0.145689\n",
              "2    0.184481\n",
              "3    0.115996\n",
              "dtype: float64"
            ]
          },
          "metadata": {
            "tags": []
          },
          "execution_count": 72
        }
      ]
    },
    {
      "cell_type": "code",
      "metadata": {
        "id": "DoD58bWHl4TT"
      },
      "source": [
        "train = pd.read_csv(train_datalink_X)\n",
        "target = pd.read_csv(train_datalink_y)\n",
        "test = pd.read_csv(hackathon_data_link)"
      ],
      "execution_count": 128,
      "outputs": []
    },
    {
      "cell_type": "code",
      "metadata": {
        "id": "PoNreJ6al4TU"
      },
      "source": [
        "train = pd.concat([train, target], axis=1)"
      ],
      "execution_count": 129,
      "outputs": []
    },
    {
      "cell_type": "code",
      "metadata": {
        "colab": {
          "base_uri": "https://localhost:8080/"
        },
        "id": "e4N_B0Uml4TV",
        "outputId": "b9f83c49-c2b7-4f4b-bfae-506195a7beea"
      },
      "source": [
        "train.shape"
      ],
      "execution_count": 130,
      "outputs": [
        {
          "output_type": "execute_result",
          "data": {
            "text/plain": [
              "(14687, 17)"
            ]
          },
          "metadata": {
            "tags": []
          },
          "execution_count": 130
        }
      ]
    },
    {
      "cell_type": "code",
      "metadata": {
        "id": "wqOkmqAKl4TW"
      },
      "source": [
        "validation_data = train[13000: ]\n",
        "train_data = train[:13000]"
      ],
      "execution_count": 131,
      "outputs": []
    },
    {
      "cell_type": "code",
      "metadata": {
        "colab": {
          "base_uri": "https://localhost:8080/"
        },
        "id": "PbM4-DRxl4TW",
        "outputId": "7a92e474-3bb2-499d-ce5f-159ea0a2aac7"
      },
      "source": [
        "features = [f for f in train_data.columns if 'Feature' in f]\n",
        "len(features)"
      ],
      "execution_count": 132,
      "outputs": [
        {
          "output_type": "execute_result",
          "data": {
            "text/plain": [
              "14"
            ]
          },
          "metadata": {
            "tags": []
          },
          "execution_count": 132
        }
      ]
    },
    {
      "cell_type": "code",
      "metadata": {
        "id": "FrtUgIS9i16f",
        "outputId": "47f183c8-5384-43d9-8f26-7341907d2867",
        "colab": {
          "base_uri": "https://localhost:8080/"
        }
      },
      "source": [
        "validation_data.shape[0] - 6"
      ],
      "execution_count": 134,
      "outputs": [
        {
          "output_type": "execute_result",
          "data": {
            "text/plain": [
              "1681"
            ]
          },
          "metadata": {
            "tags": []
          },
          "execution_count": 134
        }
      ]
    },
    {
      "cell_type": "code",
      "metadata": {
        "id": "MONi5CFncH9r",
        "outputId": "f6df7cc1-fe6e-4f26-9cdd-e8110cd2a045",
        "colab": {
          "base_uri": "https://localhost:8080/"
        }
      },
      "source": [
        "test_merge = validation_data[1682:]\n",
        "cols"
      ],
      "execution_count": 135,
      "outputs": [
        {
          "output_type": "execute_result",
          "data": {
            "text/plain": [
              "['target_r', 'target_g', 'target_b']"
            ]
          },
          "metadata": {
            "tags": []
          },
          "execution_count": 135
        }
      ]
    },
    {
      "cell_type": "code",
      "metadata": {
        "id": "urPZXRKtcWX8"
      },
      "source": [
        "cols = ['target_r', 'target_g', 'target_b']\n",
        "test_merge.drop(columns=cols, inplace=True)"
      ],
      "execution_count": 136,
      "outputs": []
    },
    {
      "cell_type": "code",
      "metadata": {
        "id": "P_dBWHAwclLn"
      },
      "source": [
        "validation_data = validation_data[:1682]"
      ],
      "execution_count": 137,
      "outputs": []
    },
    {
      "cell_type": "code",
      "metadata": {
        "id": "KHwMNbxIb5TZ",
        "outputId": "b95c4fc6-8dfa-4da5-9024-513319dc2bf1",
        "colab": {
          "base_uri": "https://localhost:8080/"
        }
      },
      "source": [
        "train_data_arr = np.array(train_data)\n",
        "validation_data_arr = np.array(validation_data)\n",
        "validation_data_arr.shape"
      ],
      "execution_count": 138,
      "outputs": [
        {
          "output_type": "execute_result",
          "data": {
            "text/plain": [
              "(1682, 17)"
            ]
          },
          "metadata": {
            "tags": []
          },
          "execution_count": 138
        }
      ]
    },
    {
      "cell_type": "code",
      "metadata": {
        "id": "8m9gmn2-baw4",
        "outputId": "263c0767-5ec3-4c8a-e5e4-ef81056632a9",
        "colab": {
          "base_uri": "https://localhost:8080/",
          "height": 365
        }
      },
      "source": [
        "np.random.seed(60)\n",
        "n_steps = 6\n",
        "X_train, y_train = split_sequences(train_data_arr, n_steps)\n",
        "X_val, y_val = split_sequences(validation_data_arr, n_steps)\n",
        "\n",
        "n_input = X_train.shape[1] * X_train.shape[2]\n",
        "X_train = X_train.reshape((X_train.shape[0], n_input))\n",
        "X_val = X_val.reshape((X_val.shape[0], n_input))\n",
        "\n",
        "from keras.models import Sequential\n",
        "from keras.layers import Dense\n",
        "\n",
        "\n",
        "model = Sequential()\n",
        "model.add(Dense(1024, activation='sigmoid', input_dim=n_input))\n",
        "model.add(Dense(512, activation='relu'))\n",
        "# model.add(Dense(256, activation='relu'))\n",
        "model.add(Dense(150, activation='relu'))\n",
        "# model.add(Dense(50, activation='relu'))\n",
        "model.add(Dense(3))\n",
        "model.compile(optimizer='rmsprop', loss='mse')\n",
        "\n",
        "early_stopping = EarlyStopping(monitor='val_loss', mode='min', verbose=1, patience=15)\n",
        "mcp_save = ModelCheckpoint('./model.hdf5', save_best_only=True, monitor='val_loss', mode='min')\n",
        "\n",
        "batch_size = 64\n",
        "epochs = 250\n",
        "\n",
        "history = model.fit(X_train, y_train, epochs=epochs, batch_size=batch_size,verbose=0, validation_data=(X_val, y_val), \n",
        "                    callbacks=[early_stopping, mcp_save], shuffle=True)\n",
        "\n",
        "\n",
        "plot_metric(history, 'loss')\n",
        "\n",
        "model.load_weights('model.hdf5')\n",
        "preds= model.predict(X_val, batch_size=batch_size)\n",
        "cols = ['target_r', 'target_g', 'target_b']\n",
        "preds = pd.DataFrame(preds, columns=cols)\n",
        "\n",
        "print(scorer(y_val[:, 0], preds.target_r))\n",
        "print(scorer(y_val[:, 1], preds.target_g))\n",
        "print(scorer(y_val[:, 2], preds.target_b))"
      ],
      "execution_count": 139,
      "outputs": [
        {
          "output_type": "stream",
          "text": [
            "Epoch 00021: early stopping\n"
          ],
          "name": "stdout"
        },
        {
          "output_type": "display_data",
          "data": {
            "image/png": "[encoded data removed]",
            "text/plain": [
              "<Figure size 432x288 with 1 Axes>"
            ]
          },
          "metadata": {
            "tags": [],
            "needs_background": "light"
          }
        },
        {
          "output_type": "stream",
          "text": [
            "0.12411323168316316\n",
            "0.19117337588327812\n",
            "0.15196726653555218\n"
          ],
          "name": "stdout"
        }
      ]
    },
    {
      "cell_type": "code",
      "metadata": {
        "id": "zH5UDkAAbars",
        "outputId": "84aeb9b2-bec3-4916-bee0-0e5480cb93db",
        "colab": {
          "base_uri": "https://localhost:8080/"
        }
      },
      "source": [
        "test_data_with_lag = pd.concat([test_merge, test])\n",
        "test_data_with_lag.shape"
      ],
      "execution_count": 141,
      "outputs": [
        {
          "output_type": "execute_result",
          "data": {
            "text/plain": [
              "(14448, 14)"
            ]
          },
          "metadata": {
            "tags": []
          },
          "execution_count": 141
        }
      ]
    },
    {
      "cell_type": "code",
      "metadata": {
        "id": "xalveW4Xji0K"
      },
      "source": [
        "def split_sequences_for_prediction(sequences, n_steps):\n",
        "    X= list()   \n",
        "    for i in range(len(sequences)):\n",
        "# find the end of this pattern\n",
        "        end_ix = i + n_steps\n",
        "# check if we are beyond the dataset\n",
        "        if end_ix > len(sequences):\n",
        "            break\n",
        "# gather input and output parts of the pattern\n",
        "        seq_x =sequences[i:end_ix]\n",
        "        # print(seq_x)\n",
        "        X.append(seq_x)\n",
        "    return np.array(X)"
      ],
      "execution_count": 142,
      "outputs": []
    },
    {
      "cell_type": "code",
      "metadata": {
        "id": "JOHA1W6qjixU"
      },
      "source": [
        "preds_data = split_sequences_for_prediction(np.array(test_data_with_lag), 6)"
      ],
      "execution_count": 143,
      "outputs": []
    },
    {
      "cell_type": "code",
      "metadata": {
        "id": "LIII01T-lNZn",
        "outputId": "3868e9e4-1789-4fb0-eec0-d59ef7407cc5",
        "colab": {
          "base_uri": "https://localhost:8080/"
        }
      },
      "source": [
        "preds_data.shape"
      ],
      "execution_count": 144,
      "outputs": [
        {
          "output_type": "execute_result",
          "data": {
            "text/plain": [
              "(14443, 6, 14)"
            ]
          },
          "metadata": {
            "tags": []
          },
          "execution_count": 144
        }
      ]
    },
    {
      "cell_type": "code",
      "metadata": {
        "id": "hfc_y3f3j7av",
        "outputId": "7945ce22-b24a-4e37-9dbf-905190858db9",
        "colab": {
          "base_uri": "https://localhost:8080/"
        }
      },
      "source": [
        "preds_data = preds_data.reshape((preds_data.shape[0], n_input))\n",
        "preds_data.shape"
      ],
      "execution_count": 145,
      "outputs": [
        {
          "output_type": "execute_result",
          "data": {
            "text/plain": [
              "(14443, 84)"
            ]
          },
          "metadata": {
            "tags": []
          },
          "execution_count": 145
        }
      ]
    },
    {
      "cell_type": "code",
      "metadata": {
        "id": "huOGl8Lyj7Xx"
      },
      "source": [
        "prediction = pd.DataFrame(model.predict(preds_data, batch_size=batch_size))"
      ],
      "execution_count": 149,
      "outputs": []
    },
    {
      "cell_type": "code",
      "metadata": {
        "id": "KQPmRrQqj7VB"
      },
      "source": [
        "prediction.columns = cols"
      ],
      "execution_count": 151,
      "outputs": []
    },
    {
      "cell_type": "code",
      "metadata": {
        "id": "e_OXlGtDktZk",
        "outputId": "cac4707e-e9f5-4980-e17e-03329116516a",
        "colab": {
          "base_uri": "https://localhost:8080/",
          "height": 391
        }
      },
      "source": [
        "prediction"
      ],
      "execution_count": 152,
      "outputs": [
        {
          "output_type": "execute_result",
          "data": {
            "text/html": [
              "<div>\n",
              "<style scoped>\n",
              "    .dataframe tbody tr th:only-of-type {\n",
              "        vertical-align: middle;\n",
              "    }\n",
              "\n",
              "    .dataframe tbody tr th {\n",
              "        vertical-align: top;\n",
              "    }\n",
              "\n",
              "    .dataframe thead th {\n",
              "        text-align: right;\n",
              "    }\n",
              "</style>\n",
              "<table border=\"1\" class=\"dataframe\">\n",
              "  <thead>\n",
              "    <tr style=\"text-align: right;\">\n",
              "      <th></th>\n",
              "      <th>target_r</th>\n",
              "      <th>target_g</th>\n",
              "      <th>target_b</th>\n",
              "    </tr>\n",
              "  </thead>\n",
              "  <tbody>\n",
              "    <tr>\n",
              "      <th>0</th>\n",
              "      <td>0.594658</td>\n",
              "      <td>0.759916</td>\n",
              "      <td>0.657480</td>\n",
              "    </tr>\n",
              "    <tr>\n",
              "      <th>1</th>\n",
              "      <td>0.580761</td>\n",
              "      <td>0.750742</td>\n",
              "      <td>0.651872</td>\n",
              "    </tr>\n",
              "    <tr>\n",
              "      <th>2</th>\n",
              "      <td>0.564168</td>\n",
              "      <td>0.684659</td>\n",
              "      <td>0.585546</td>\n",
              "    </tr>\n",
              "    <tr>\n",
              "      <th>3</th>\n",
              "      <td>0.592176</td>\n",
              "      <td>0.688702</td>\n",
              "      <td>0.586661</td>\n",
              "    </tr>\n",
              "    <tr>\n",
              "      <th>4</th>\n",
              "      <td>0.633845</td>\n",
              "      <td>0.760157</td>\n",
              "      <td>0.670234</td>\n",
              "    </tr>\n",
              "    <tr>\n",
              "      <th>...</th>\n",
              "      <td>...</td>\n",
              "      <td>...</td>\n",
              "      <td>...</td>\n",
              "    </tr>\n",
              "    <tr>\n",
              "      <th>14438</th>\n",
              "      <td>0.517283</td>\n",
              "      <td>0.581733</td>\n",
              "      <td>0.483926</td>\n",
              "    </tr>\n",
              "    <tr>\n",
              "      <th>14439</th>\n",
              "      <td>0.589078</td>\n",
              "      <td>0.710652</td>\n",
              "      <td>0.608190</td>\n",
              "    </tr>\n",
              "    <tr>\n",
              "      <th>14440</th>\n",
              "      <td>0.568735</td>\n",
              "      <td>0.670176</td>\n",
              "      <td>0.565338</td>\n",
              "    </tr>\n",
              "    <tr>\n",
              "      <th>14441</th>\n",
              "      <td>0.619641</td>\n",
              "      <td>0.720944</td>\n",
              "      <td>0.620316</td>\n",
              "    </tr>\n",
              "    <tr>\n",
              "      <th>14442</th>\n",
              "      <td>0.695909</td>\n",
              "      <td>0.789953</td>\n",
              "      <td>0.676803</td>\n",
              "    </tr>\n",
              "  </tbody>\n",
              "</table>\n",
              "<p>14443 rows × 3 columns</p>\n",
              "</div>"
            ],
            "text/plain": [
              "       target_r  target_g  target_b\n",
              "0      0.594658  0.759916  0.657480\n",
              "1      0.580761  0.750742  0.651872\n",
              "2      0.564168  0.684659  0.585546\n",
              "3      0.592176  0.688702  0.586661\n",
              "4      0.633845  0.760157  0.670234\n",
              "...         ...       ...       ...\n",
              "14438  0.517283  0.581733  0.483926\n",
              "14439  0.589078  0.710652  0.608190\n",
              "14440  0.568735  0.670176  0.565338\n",
              "14441  0.619641  0.720944  0.620316\n",
              "14442  0.695909  0.789953  0.676803\n",
              "\n",
              "[14443 rows x 3 columns]"
            ]
          },
          "metadata": {
            "tags": []
          },
          "execution_count": 152
        }
      ]
    },
    {
      "cell_type": "markdown",
      "metadata": {
        "id": "3DRAjG2hPGW7"
      },
      "source": [
        "# Predictions"
      ]
    },
    {
      "cell_type": "code",
      "metadata": {
        "id": "cYyekZi2wXgE",
        "colab": {
          "base_uri": "https://localhost:8080/",
          "height": 282
        },
        "outputId": "ff4cacfa-a5a8-4408-9d34-f7f19ad2ad68"
      },
      "source": [
        "prediction['target_g'].plot(kind='hist')"
      ],
      "execution_count": 153,
      "outputs": [
        {
          "output_type": "execute_result",
          "data": {
            "text/plain": [
              "<matplotlib.axes._subplots.AxesSubplot at 0x7fa70418d410>"
            ]
          },
          "metadata": {
            "tags": []
          },
          "execution_count": 153
        },
        {
          "output_type": "display_data",
          "data": {
            "image/png": "[encoded data removed]",
            "text/plain": [
              "<Figure size 432x288 with 1 Axes>"
            ]
          },
          "metadata": {
            "tags": [],
            "needs_background": "light"
          }
        }
      ]
    },
    {
      "cell_type": "code",
      "metadata": {
        "id": "6FvQl9QBerwb",
        "colab": {
          "base_uri": "https://localhost:8080/"
        },
        "outputId": "fc1deb84-f87b-45dd-a192-b8e3b683eeb6"
      },
      "source": [
        "API_KEY = \"0GIskIC9Rd1I8sMw6nStutbIbMx7AaZzAyNfuMOVAVWgJtNa1IVQHZAD3WPj\" # <- HERE\n",
        "\n",
        "r = requests.post(\"https://tournament.datacrunch.com/api/submission\",\n",
        "    files = {\n",
        "        \"file\": (\"x\", prediction.to_csv().encode('ascii'))\n",
        "    },\n",
        "    data = {\n",
        "        \"apiKey\": API_KEY\n",
        "    },\n",
        ")\n",
        "\n",
        "if r.status_code == 200:\n",
        "    print(\"Submission submitted :)\")\n",
        "elif r.status_code == 423:\n",
        "    print(\"ERR: Submissions are close\")\n",
        "    print(\"You can only submit during rounds eg: Friday 7pm GMT+1 to Sunday midnight GMT+1.\")\n",
        "    print(\"Or the server is currently crunching the submitted files, please wait some time before retrying.\")\n",
        "elif r.status_code == 422:\n",
        "    print(\"ERR: API Key is missing or empty\")\n",
        "    print(\"Did you forget to fill the API_KEY variable?\")\n",
        "elif r.status_code == 404:\n",
        "    print(\"ERR: Unknown API Key\")\n",
        "    print(\"You should check that the provided API key is valid and is the same as the one you've received by email.\")\n",
        "elif r.status_code == 400:\n",
        "    print(\"ERR: The file must not be empty\")\n",
        "    print(\"You have send a empty file.\")\n",
        "elif r.status_code == 401:\n",
        "    print(\"ERR: Your email hasn't been verified\")\n",
        "    print(\"Please verify your email or contact a cruncher.\")\n",
        "elif r.status_code == 429:\n",
        "    print(\"ERR: Too many submissions\")\n",
        "else:\n",
        "    print(\"ERR: Server returned: \" + str(r.status_code))\n",
        "    print(\"Ouch! It seems that we were not expecting this kind of result from the server, if the probleme persist, contact a cruncher.\")"
      ],
      "execution_count": 154,
      "outputs": [
        {
          "output_type": "stream",
          "text": [
            "Submission submitted :)\n"
          ],
          "name": "stdout"
        }
      ]
    },
    {
      "cell_type": "code",
      "metadata": {
        "id": "2WIE4pRQfD7v"
      },
      "source": [
        ""
      ],
      "execution_count": null,
      "outputs": []
    }
  ]
}