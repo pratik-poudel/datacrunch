{
  "nbformat": 4,
  "nbformat_minor": 0,
  "metadata": {
    "colab": {
      "name": "scratchpad",
      "provenance": [],
      "machine_shape": "hm",
      "include_colab_link": true
    },
    "kernelspec": {
      "display_name": "Python 3",
      "name": "python3"
    }
  },
  "cells": [
    {
      "cell_type": "markdown",
      "metadata": {
        "id": "view-in-github",
        "colab_type": "text"
      },
      "source": [
        "<a href=\"https://colab.research.google.com/github/pratik-poudel/datacrunch/blob/main/4th%20April%20Stacking.ipynb\" target=\"_parent\"><img src=\"https://colab.research.google.com/assets/colab-badge.svg\" alt=\"Open In Colab\"/></a>"
      ]
    },
    {
      "cell_type": "code",
      "metadata": {
        "id": "lIYdn1woOS1n"
      },
      "source": [
        "import numpy as np\n",
        "import pandas as pd\n",
        "from collections import defaultdict\n",
        "from tqdm.notebook import tqdm\n",
        "from matplotlib import pyplot as plt\n",
        "import warnings\n",
        "warnings.filterwarnings('ignore')\n",
        "import seaborn as sns\n",
        "import gc\n",
        "# pd.options.display.float_format| = \"{:.2f}\".format\n",
        "pd.options.display.max_columns = 500\n",
        "\n",
        "\n",
        "from sklearn.model_selection import train_test_split\n",
        "from sklearn.metrics import accuracy_score \n",
        "from sklearn.metrics import classification_report \n",
        "import requests\n",
        "from scipy import stats\n",
        "\n",
        "import lightgbm as lgb"
      ],
      "execution_count": 1,
      "outputs": []
    },
    {
      "cell_type": "code",
      "metadata": {
        "id": "WlAILdRkw9Oj"
      },
      "source": [
        "train_datalink_X = 'https://tournament.datacrunch.com/data/X_train.csv'  \n",
        "train_datalink_y = 'https://tournament.datacrunch.com/data/y_train.csv'\n",
        "hackathon_data_link = 'https://tournament.datacrunch.com/data/X_test.csv'\n",
        "\n",
        "train = pd.read_csv(train_datalink_X)\n",
        "target = pd.read_csv(train_datalink_y)\n",
        "test = pd.read_csv(hackathon_data_link)"
      ],
      "execution_count": 2,
      "outputs": []
    },
    {
      "cell_type": "code",
      "metadata": {
        "id": "ophtKf14xA9F"
      },
      "source": [
        "def scorer(y_test, y_pred):\n",
        "    score = (stats.spearmanr(y_test, y_pred))[0]\n",
        "    # print('Score as calculated for the leader board (っಠ‿ಠ)っ {}'.format(score))\n",
        "    return score"
      ],
      "execution_count": 3,
      "outputs": []
    },
    {
      "cell_type": "code",
      "metadata": {
        "id": "VCva33z-xFwh"
      },
      "source": [
        "import sklearn\n",
        "from sklearn.utils.testing import all_estimators\n",
        "from sklearn.base import RegressorMixin"
      ],
      "execution_count": 4,
      "outputs": []
    },
    {
      "cell_type": "code",
      "metadata": {
        "id": "YhysNmyu5WYU",
        "outputId": "6afd132a-cddd-4e86-96b9-232b42198c6c",
        "colab": {
          "base_uri": "https://localhost:8080/",
          "height": 35
        }
      },
      "source": [
        "sklearn.__version__"
      ],
      "execution_count": 5,
      "outputs": [
        {
          "output_type": "execute_result",
          "data": {
            "application/vnd.google.colaboratory.intrinsic+json": {
              "type": "string"
            },
            "text/plain": [
              "'0.22.2.post1'"
            ]
          },
          "metadata": {
            "tags": []
          },
          "execution_count": 5
        }
      ]
    },
    {
      "cell_type": "code",
      "metadata": {
        "id": "oLBcYs264vwI"
      },
      "source": [
        "from sklearn import *\n",
        "from sklearn.experimental import enable_hist_gradient_boosting"
      ],
      "execution_count": 11,
      "outputs": []
    },
    {
      "cell_type": "code",
      "metadata": {
        "id": "yyNvwqmzxYiT"
      },
      "source": [
        "regressors = [\n",
        "                ('AdaBoostRegressor', sklearn.ensemble.AdaBoostRegressor()),\n",
        "                ('BaggingRegressor', sklearn.ensemble.BaggingRegressor()),\n",
        "                ('BayesianRidge', sklearn.linear_model.BayesianRidge()),\n",
        "                ('DecisionTreeRegressor', sklearn.tree.DecisionTreeRegressor()),\n",
        "                ('ElasticNet', sklearn.linear_model.ElasticNet()),\n",
        "                ('ExtraTreeRegressor', sklearn.tree.ExtraTreeRegressor()),\n",
        "                ('ExtraTreesRegressor', sklearn.ensemble.ExtraTreesRegressor()),\n",
        "                ('GradientBoostingRegressor', sklearn.ensemble.GradientBoostingRegressor()),\n",
        "                ('HistGradientBoostingRegressor',sklearn.ensemble.HistGradientBoostingRegressor()),\n",
        "                ('HuberRegressor', sklearn.linear_model.HuberRegressor()),\n",
        "                ('Lars', sklearn.linear_model.Lars()),\n",
        "                ('Lasso', sklearn.linear_model.Lasso()),\n",
        "                ('LassoLars', sklearn.linear_model.LassoLars()),\n",
        "                ('LassoLarsIC', sklearn.linear_model.LassoLarsIC()),\n",
        "                ('LinearRegression', sklearn.linear_model.LinearRegression()),\n",
        "                ('OrthogonalMatchingPursuit',sklearn.linear_model.OrthogonalMatchingPursuit()),\n",
        "                ('PassiveAggressiveRegressor',sklearn.linear_model.PassiveAggressiveRegressor()),\n",
        "                ('RANSACRegressor', sklearn.linear_model.RANSACRegressor()),\n",
        "                ('RandomForestRegressor', sklearn.ensemble.RandomForestRegressor()),\n",
        "                ('Ridge', sklearn.linear_model.Ridge()),\n",
        "                ('SGDRegressor', sklearn.linear_model.SGDRegressor()),\n",
        "                ('TransformedTargetRegressor',sklearn.compose.TransformedTargetRegressor())\n",
        "                \n",
        "                ]"
      ],
      "execution_count": 12,
      "outputs": []
    },
    {
      "cell_type": "code",
      "metadata": {
        "id": "ciaytIN0yUCN"
      },
      "source": [
        "from sklearn.metrics import make_scorer\n",
        "from sklearn.model_selection import RepeatedKFold, cross_val_score\n",
        "my_scorer = make_scorer(scorer, greater_is_better=True)\n",
        "\n",
        "feat= [f for f in train.columns if \"Feature\" in f]\n",
        "\n",
        "cv = RepeatedKFold(n_splits=3, n_repeats=2, random_state=60)"
      ],
      "execution_count": 16,
      "outputs": []
    },
    {
      "cell_type": "markdown",
      "metadata": {
        "id": "UJPqXbWF2jIB"
      },
      "source": [
        "# TARGET R"
      ]
    },
    {
      "cell_type": "code",
      "metadata": {
        "colab": {
          "base_uri": "https://localhost:8080/",
          "height": 952
        },
        "id": "ZtDeHb2S0Ev0",
        "outputId": "72b2a458-5213-4e73-eae1-97fe0a453b05"
      },
      "source": [
        "%%time\n",
        "results, names = list(), list()\n",
        "mean_scores = []\n",
        "std_scores = []\n",
        "for name, model in regressors:\n",
        "    scores = cross_val_score(model, train[feat], target['target_r'], scoring=my_scorer, n_jobs=-1, cv= cv)\n",
        "    results.append(scores)\n",
        "    names.append(name)\n",
        "    mean_scores.append(np.mean(scores))\n",
        "    std_scores.append(np.std(scores))\n",
        "    print('>%s %.3f (%.3f)' % (name, np.mean(scores), np.std(scores)))\n",
        "\n",
        "df1 = pd.DataFrame(np.column_stack([names, mean_scores, std_scores]), \n",
        "                   columns=['models', 'mean_score', 'std_score'])\n",
        "df2 = pd.DataFrame(results, columns=[\"\".join('score'+ str(i)) for i in range(6) ])\n",
        "final_df = pd.concat([df1, df2], axis=1)\n",
        "int_cols = [f for f in final_df.columns if \"score\" in f]\n",
        "for i in int_cols:\n",
        "    final_df[i] = final_df[i].astype('float')\n",
        "\n",
        "final_df.sort_values('mean_score', ascending=False, inplace=True)\n",
        "\n",
        "plt.figure(figsize=(12, 6))\n",
        "plt.boxplot(final_df.iloc[:, 3:].values.tolist(), labels=final_df['models'].to_list(), showmeans=True, )\n",
        "plt.xticks(rotation = 90)\n",
        "plt.show()"
      ],
      "execution_count": 18,
      "outputs": [
        {
          "output_type": "stream",
          "text": [
            ">AdaBoostRegressor 0.105 (0.003)\n",
            ">BaggingRegressor 0.045 (0.007)\n",
            ">BayesianRidge 0.104 (0.004)\n",
            ">DecisionTreeRegressor 0.016 (0.008)\n",
            ">ElasticNet nan (nan)\n",
            ">ExtraTreeRegressor 0.019 (0.004)\n",
            ">ExtraTreesRegressor 0.061 (0.005)\n",
            ">GradientBoostingRegressor 0.128 (0.005)\n",
            ">HistGradientBoostingRegressor 0.125 (0.005)\n",
            ">HuberRegressor 0.104 (0.004)\n",
            ">Lars 0.104 (0.004)\n",
            ">Lasso nan (nan)\n",
            ">LassoLars nan (nan)\n",
            ">LassoLarsIC 0.103 (0.004)\n",
            ">LinearRegression 0.104 (0.004)\n",
            ">OrthogonalMatchingPursuit 0.096 (0.004)\n",
            ">PassiveAggressiveRegressor 0.038 (0.015)\n",
            ">RANSACRegressor 0.033 (0.023)\n",
            ">RandomForestRegressor 0.066 (0.005)\n",
            ">Ridge 0.104 (0.004)\n",
            ">SGDRegressor 0.103 (0.005)\n",
            ">TransformedTargetRegressor 0.104 (0.004)\n"
          ],
          "name": "stdout"
        },
        {
          "output_type": "display_data",
          "data": {
            "image/png": "[encoded data removed]",
            "text/plain": [
              "<Figure size 864x432 with 1 Axes>"
            ]
          },
          "metadata": {
            "tags": [],
            "needs_background": "light"
          }
        },
        {
          "output_type": "stream",
          "text": [
            "CPU times: user 3.03 s, sys: 507 ms, total: 3.53 s\n",
            "Wall time: 3min 17s\n"
          ],
          "name": "stdout"
        }
      ]
    },
    {
      "cell_type": "code",
      "metadata": {
        "id": "bOHmHU4zCF8-"
      },
      "source": [
        ""
      ],
      "execution_count": null,
      "outputs": []
    },
    {
      "cell_type": "markdown",
      "metadata": {
        "id": "WiUfkq8X2uGh"
      },
      "source": [
        "# TARGET G"
      ]
    },
    {
      "cell_type": "code",
      "metadata": {
        "colab": {
          "base_uri": "https://localhost:8080/",
          "height": 952
        },
        "id": "JvxiMLc-2uGy",
        "outputId": "e9763947-3b82-4d62-d387-fdaac306a19b"
      },
      "source": [
        "%%time\n",
        "results, names = list(), list()\n",
        "mean_scores = []\n",
        "std_scores = []\n",
        "for name, model in regressors:\n",
        "    if 'random_state' in model.get_params().keys():\n",
        "        model.set_params(random_state=60)\n",
        "\n",
        "    scores = cross_val_score(model, train[feat], target['target_g'], scoring=my_scorer, n_jobs=-1, cv= cv)\n",
        "    results.append(scores)\n",
        "    names.append(name)\n",
        "    mean_scores.append(np.mean(scores))\n",
        "    std_scores.append(np.std(scores))\n",
        "    print('>%s %.3f (%.3f)' % (name, np.mean(scores), np.std(scores)))\n",
        "\n",
        "df1 = pd.DataFrame(np.column_stack([names, mean_scores, std_scores]), \n",
        "                   columns=['models', 'mean_score', 'std_score'])\n",
        "df2 = pd.DataFrame(results, columns=[\"\".join('score'+ str(i)) for i in range(6) ])\n",
        "final_df = pd.concat([df1, df2], axis=1)\n",
        "int_cols = [f for f in final_df.columns if \"score\" in f]\n",
        "for i in int_cols:\n",
        "    final_df[i] = final_df[i].astype('float')\n",
        "\n",
        "final_df.sort_values('mean_score', ascending=False, inplace=True)\n",
        "\n",
        "plt.figure(figsize=(12, 6))\n",
        "plt.boxplot(final_df.iloc[:, 3:].values.tolist(), labels=final_df['models'].to_list(), showmeans=True, )\n",
        "plt.xticks(rotation = 90)\n",
        "plt.show()"
      ],
      "execution_count": 19,
      "outputs": [
        {
          "output_type": "stream",
          "text": [
            ">AdaBoostRegressor 0.058 (0.004)\n",
            ">BaggingRegressor 0.264 (0.007)\n",
            ">BayesianRidge 0.060 (0.003)\n",
            ">DecisionTreeRegressor 0.180 (0.010)\n",
            ">ElasticNet nan (nan)\n",
            ">ExtraTreeRegressor 0.192 (0.015)\n",
            ">ExtraTreesRegressor 0.354 (0.004)\n",
            ">GradientBoostingRegressor 0.108 (0.004)\n",
            ">HistGradientBoostingRegressor 0.168 (0.007)\n",
            ">HuberRegressor 0.060 (0.004)\n",
            ">Lars 0.060 (0.004)\n",
            ">Lasso nan (nan)\n",
            ">LassoLars nan (nan)\n",
            ">LassoLarsIC 0.060 (0.004)\n",
            ">LinearRegression 0.060 (0.004)\n",
            ">OrthogonalMatchingPursuit 0.029 (0.004)\n",
            ">PassiveAggressiveRegressor 0.018 (0.009)\n",
            ">RANSACRegressor -0.003 (0.013)\n",
            ">RandomForestRegressor 0.336 (0.007)\n",
            ">Ridge 0.060 (0.004)\n",
            ">SGDRegressor 0.060 (0.004)\n",
            ">TransformedTargetRegressor 0.060 (0.004)\n"
          ],
          "name": "stdout"
        },
        {
          "output_type": "display_data",
          "data": {
            "image/png": "[encoded data removed]",
            "text/plain": [
              "<Figure size 864x432 with 1 Axes>"
            ]
          },
          "metadata": {
            "tags": [],
            "needs_background": "light"
          }
        },
        {
          "output_type": "stream",
          "text": [
            "CPU times: user 3.01 s, sys: 428 ms, total: 3.44 s\n",
            "Wall time: 3min 19s\n"
          ],
          "name": "stdout"
        }
      ]
    },
    {
      "cell_type": "code",
      "metadata": {
        "id": "fj7Q_k6t2uG0"
      },
      "source": [
        ""
      ],
      "execution_count": 19,
      "outputs": []
    },
    {
      "cell_type": "markdown",
      "metadata": {
        "id": "WeTIgkdm2xcs"
      },
      "source": [
        "# TARGET B"
      ]
    },
    {
      "cell_type": "code",
      "metadata": {
        "colab": {
          "base_uri": "https://localhost:8080/",
          "height": 952
        },
        "id": "1xX73_l12xct",
        "outputId": "f7b3c97c-1346-4ebf-c019-57fb4f35054d"
      },
      "source": [
        "%%time\n",
        "results, names = list(), list()\n",
        "mean_scores = []\n",
        "std_scores = []\n",
        "for name, model in regressors:\n",
        "    if 'random_state' in model.get_params().keys():\n",
        "        model.set_params(random_state=60)\n",
        "    scores = cross_val_score(model, train[feat], target['target_b'], scoring=my_scorer, n_jobs=-1, cv= cv)\n",
        "    results.append(scores)\n",
        "    names.append(name)\n",
        "    mean_scores.append(np.mean(scores))\n",
        "    std_scores.append(np.std(scores))\n",
        "    print('>%s %.3f (%.3f)' % (name, np.mean(scores), np.std(scores)))\n",
        "\n",
        "df1 = pd.DataFrame(np.column_stack([names, mean_scores, std_scores]), \n",
        "                   columns=['models', 'mean_score', 'std_score'])\n",
        "df2 = pd.DataFrame(results, columns=[\"\".join('score'+ str(i)) for i in range(6) ])\n",
        "final_df = pd.concat([df1, df2], axis=1)\n",
        "int_cols = [f for f in final_df.columns if \"score\" in f]\n",
        "for i in int_cols:\n",
        "    final_df[i] = final_df[i].astype('float')\n",
        "\n",
        "final_df.sort_values('mean_score', ascending=False, inplace=True)\n",
        "\n",
        "plt.figure(figsize=(12, 6))\n",
        "plt.boxplot(final_df.iloc[:, 3:].values.tolist(), labels=final_df['models'].to_list(), showmeans=True, )\n",
        "plt.xticks(rotation = 90)\n",
        "plt.show()"
      ],
      "execution_count": 20,
      "outputs": [
        {
          "output_type": "stream",
          "text": [
            ">AdaBoostRegressor 0.068 (0.005)\n",
            ">BaggingRegressor 0.404 (0.013)\n",
            ">BayesianRidge 0.073 (0.005)\n",
            ">DecisionTreeRegressor 0.306 (0.038)\n",
            ">ElasticNet nan (nan)\n",
            ">ExtraTreeRegressor 0.312 (0.013)\n",
            ">ExtraTreesRegressor 0.530 (0.005)\n",
            ">GradientBoostingRegressor 0.135 (0.004)\n",
            ">HistGradientBoostingRegressor 0.227 (0.004)\n",
            ">HuberRegressor 0.073 (0.005)\n",
            ">Lars 0.073 (0.005)\n",
            ">Lasso nan (nan)\n",
            ">LassoLars nan (nan)\n",
            ">LassoLarsIC 0.073 (0.005)\n",
            ">LinearRegression 0.073 (0.005)\n",
            ">OrthogonalMatchingPursuit 0.046 (0.005)\n",
            ">PassiveAggressiveRegressor -0.006 (0.017)\n",
            ">RANSACRegressor 0.010 (0.012)\n",
            ">RandomForestRegressor 0.498 (0.011)\n",
            ">Ridge 0.073 (0.005)\n",
            ">SGDRegressor 0.072 (0.005)\n",
            ">TransformedTargetRegressor 0.073 (0.005)\n"
          ],
          "name": "stdout"
        },
        {
          "output_type": "display_data",
          "data": {
            "image/png": "[encoded data removed]",
            "text/plain": [
              "<Figure size 864x432 with 1 Axes>"
            ]
          },
          "metadata": {
            "tags": [],
            "needs_background": "light"
          }
        },
        {
          "output_type": "stream",
          "text": [
            "CPU times: user 3 s, sys: 463 ms, total: 3.47 s\n",
            "Wall time: 3min 18s\n"
          ],
          "name": "stdout"
        }
      ]
    },
    {
      "cell_type": "code",
      "metadata": {
        "id": "4twBL8D8EVrB",
        "outputId": "23a14524-8765-4b50-a11f-ff93e1d76140",
        "colab": {
          "base_uri": "https://localhost:8080/",
          "height": 337
        }
      },
      "source": [
        "# get a stacking ensemble of models\n",
        "def get_stacking():\n",
        "\t# define the base models\n",
        "\tlevel0 = list()\n",
        "\tlevel0.append(('histgradient', sklearn.ensemble.HistGradientBoostingRegressor()))\n",
        "\tlevel0.append(('adaboost', sklearn.ensemble.AdaBoostRegressor()))\n",
        "\tlevel0.append(('huber', sklearn.linear_model.HuberRegressor()))\n",
        "\t# define meta learner model\n",
        "\tlevel1 = sklearn.linear_model.Lars()\n",
        "\t# define the stacking ensemble\n",
        "\tmodel = StackingRegressor(estimators=level0, final_estimator=level1, cv=5, n_jobs=-1)\n",
        "\treturn model\n",
        " \n",
        "# get a list of models to evaluate\n",
        "def get_models():\n",
        "\tmodels = dict()\n",
        "\tmodels['histgradient'] = sklearn.ensemble.HistGradientBoostingRegressor()\n",
        "\tmodels['adaboost'] = sklearn.ensemble.AdaBoostRegressor()\n",
        "\tmodels['huber'] = sklearn.linear_model.HuberRegressor()\n",
        "\tmodels['stacking'] = get_stacking()\n",
        "\treturn models\n",
        " \n",
        "# evaluate a given model using cross-validation\n",
        "def evaluate_model(model, X, y):\n",
        "\tcv = RepeatedKFold(n_splits=3, n_repeats=2, random_state=60)\n",
        "\tscores = cross_val_score(model, X, y, scoring=my_scorer, cv=cv, n_jobs=-1, error_score='raise')\n",
        "\treturn scores\n",
        " \n",
        "# define dataset\n",
        "X, y = train[feat], target['target_r']\n",
        "# get the models to evaluate\n",
        "models = get_models()\n",
        "# evaluate the models and store results\n",
        "results, names = list(), list()\n",
        "for name, model in models.items():\n",
        "\tscores = evaluate_model(model, X, y)\n",
        "\tresults.append(scores)\n",
        "\tnames.append(name)\n",
        "\tprint('>%s %.3f (%.3f)' % (name, mean(scores), std(scores)))\n",
        "# plot model performance for comparison\n",
        "plt.boxplot(results, labels=names, showmeans=True)\n",
        "plt.show()"
      ],
      "execution_count": 60,
      "outputs": [
        {
          "output_type": "stream",
          "text": [
            ">histgradient 0.125 (0.005)\n",
            ">adaboost 0.103 (0.004)\n",
            ">huber 0.104 (0.004)\n",
            ">stacking 0.111 (0.014)\n"
          ],
          "name": "stdout"
        },
        {
          "output_type": "display_data",
          "data": {
            "image/png": "[encoded data removed]",
            "text/plain": [
              "<Figure size 432x288 with 1 Axes>"
            ]
          },
          "metadata": {
            "tags": [],
            "needs_background": "light"
          }
        }
      ]
    },
    {
      "cell_type": "code",
      "metadata": {
        "id": "fgqvxA4dVMJl"
      },
      "source": [
        ""
      ],
      "execution_count": null,
      "outputs": []
    },
    {
      "cell_type": "code",
      "metadata": {
        "id": "1b4y0ciqV10l"
      },
      "source": [
        ""
      ],
      "execution_count": 67,
      "outputs": []
    },
    {
      "cell_type": "code",
      "metadata": {
        "id": "zFWNI_O7AZra",
        "outputId": "bd3b9b9d-403d-4089-99ac-0beb422d158d",
        "colab": {
          "base_uri": "https://localhost:8080/",
          "height": 337
        }
      },
      "source": [
        "# get a stacking ensemble of models\n",
        "def get_stacking():\n",
        "\t# define the base models\n",
        "\tlevel0 = list()\n",
        "\tlevel0.append(('bagging', sklearn.ensemble.BaggingRegressor(random_state=seed, n_jobs=-1)))\n",
        "\tlevel0.append(('extratrees', sklearn.ensemble.ExtraTreesRegressor(random_state=seed, n_jobs=-1)))\n",
        "\tlevel0.append(('randomforest', sklearn.ensemble.RandomForestRegressor(random_state=seed, n_jobs=-1)))\n",
        "\t# define meta learner model\n",
        "\tlevel1 = LinearRegression()\n",
        "\t# define the stacking ensemble\n",
        "\tmodel = StackingRegressor(estimators=level0, final_estimator=level1, cv=5, n_jobs=-1)\n",
        "\treturn model\n",
        " \n",
        "# get a list of models to evaluate\n",
        "def get_models():\n",
        "\tmodels = dict()\n",
        "\tmodels['bagging'] = sklearn.ensemble.BaggingRegressor(random_state=seed, n_jobs=-1)\n",
        "\tmodels['extratrees'] = sklearn.ensemble.ExtraTreesRegressor(random_state=seed, n_jobs=-1)\n",
        "\tmodels['randomforest'] = sklearn.ensemble.RandomForestRegressor(random_state=seed, n_jobs=-1)\n",
        "\tmodels['stacking'] = get_stacking()\n",
        "\treturn models\n",
        " \n",
        "# evaluate a given model using cross-validation\n",
        "def evaluate_model(model, X, y):\n",
        "\tcv = RepeatedKFold(n_splits=3, n_repeats=2, random_state=60)\n",
        "\tscores = cross_val_score(model, X, y, scoring=my_scorer, cv=cv, n_jobs=-1, error_score='raise')\n",
        "\treturn scores\n",
        " \n",
        "# define dataset\n",
        "X, y = train[feat], target['target_r']\n",
        "# get the models to evaluate\n",
        "models = get_models()\n",
        "# evaluate the models and store results\n",
        "results, names = list(), list()\n",
        "for name, model in models.items():\n",
        "\tscores = evaluate_model(model, X, y)\n",
        "\tresults.append(scores)\n",
        "\tnames.append(name)\n",
        "\tprint('>%s %.3f (%.3f)' % (name, mean(scores), std(scores)))\n",
        "# plot model performance for comparison\n",
        "plt.boxplot(results, labels=names, showmeans=True)\n",
        "plt.show()"
      ],
      "execution_count": 55,
      "outputs": [
        {
          "output_type": "stream",
          "text": [
            ">bagging 0.045 (0.004)\n",
            ">extratrees 0.061 (0.006)\n",
            ">randomforest 0.066 (0.006)\n",
            ">stacking 0.060 (0.010)\n"
          ],
          "name": "stdout"
        },
        {
          "output_type": "display_data",
          "data": {
            "image/png": "[encoded data removed]",
            "text/plain": [
              "<Figure size 432x288 with 1 Axes>"
            ]
          },
          "metadata": {
            "tags": [],
            "needs_background": "light"
          }
        }
      ]
    },
    {
      "cell_type": "code",
      "metadata": {
        "id": "e8StWPBfX1V5",
        "outputId": "3ee6bed2-86d1-4aba-e6a8-ac5a492ed0a5",
        "colab": {
          "base_uri": "https://localhost:8080/"
        }
      },
      "source": [
        "seed = 60\n",
        "\n",
        "level0 = list()\n",
        "level0.append(('histgradient', sklearn.ensemble.HistGradientBoostingRegressor(random_state=seed)))\n",
        "level0.append(('adaboost', sklearn.ensemble.AdaBoostRegressor(random_state=60)))\n",
        "level0.append(('huber', sklearn.linear_model.HuberRegressor()))\n",
        "# define meta learner model\n",
        "level1 = sklearn.linear_model.Lars()\n",
        "# define the stacking ensemble\n",
        "model_r = StackingRegressor(estimators=level0, final_estimator=level1, cv=5, n_jobs=-1)\n",
        "model_r.fit(train[feat], target['target_r'])"
      ],
      "execution_count": 72,
      "outputs": [
        {
          "output_type": "execute_result",
          "data": {
            "text/plain": [
              "StackingRegressor(cv=5,\n",
              "                  estimators=[('histgradient',\n",
              "                               HistGradientBoostingRegressor(l2_regularization=0.0,\n",
              "                                                             learning_rate=0.1,\n",
              "                                                             loss='least_squares',\n",
              "                                                             max_bins=255,\n",
              "                                                             max_depth=None,\n",
              "                                                             max_iter=100,\n",
              "                                                             max_leaf_nodes=31,\n",
              "                                                             min_samples_leaf=20,\n",
              "                                                             n_iter_no_change=None,\n",
              "                                                             random_state=60,\n",
              "                                                             scoring=None,\n",
              "                                                             tol=1e-07,\n",
              "                                                             validation_fraction=0.1,\n",
              "                                                             verbose=0,\n",
              "                                                             warm_start=False)),\n",
              "                              ('adaboost',\n",
              "                               Ada...\n",
              "                                                 loss='linear', n_estimators=50,\n",
              "                                                 random_state=60)),\n",
              "                              ('huber',\n",
              "                               HuberRegressor(alpha=0.0001, epsilon=1.35,\n",
              "                                              fit_intercept=True, max_iter=100,\n",
              "                                              tol=1e-05, warm_start=False))],\n",
              "                  final_estimator=Lars(copy_X=True, eps=2.220446049250313e-16,\n",
              "                                       fit_intercept=True, fit_path=True,\n",
              "                                       n_nonzero_coefs=500, normalize=True,\n",
              "                                       precompute='auto', verbose=False),\n",
              "                  n_jobs=-1, passthrough=False, verbose=0)"
            ]
          },
          "metadata": {
            "tags": []
          },
          "execution_count": 72
        }
      ]
    },
    {
      "cell_type": "code",
      "metadata": {
        "id": "MSGuDiYTEVtu",
        "outputId": "d8c3158b-97cd-4425-e0d3-d3cb3db03467",
        "colab": {
          "base_uri": "https://localhost:8080/"
        }
      },
      "source": [
        "level0 = list()\n",
        "level0.append(('bagging', sklearn.ensemble.BaggingRegressor(random_state=seed, n_jobs=-1)))\n",
        "level0.append(('extratrees', sklearn.ensemble.ExtraTreesRegressor(random_state=seed, n_jobs=-1)))\n",
        "level0.append(('randomforest', sklearn.ensemble.RandomForestRegressor(random_state=seed, n_jobs=-1)))\n",
        "# define meta learner model\n",
        "level1 = LinearRegression()\n",
        "# define the stacking ensemble\n",
        "model_g = StackingRegressor(estimators=level0, final_estimator=level1, cv=5, n_jobs=-1)\n",
        "model_b = StackingRegressor(estimators=level0, final_estimator=level1, cv=5, n_jobs=-1)\n",
        "model_g.fit(train[feat], target['target_g'])\n",
        "model_b.fit(train[feat], target['target_b'])"
      ],
      "execution_count": 73,
      "outputs": [
        {
          "output_type": "execute_result",
          "data": {
            "text/plain": [
              "StackingRegressor(cv=5,\n",
              "                  estimators=[('bagging',\n",
              "                               BaggingRegressor(base_estimator=None,\n",
              "                                                bootstrap=True,\n",
              "                                                bootstrap_features=False,\n",
              "                                                max_features=1.0,\n",
              "                                                max_samples=1.0,\n",
              "                                                n_estimators=10, n_jobs=-1,\n",
              "                                                oob_score=False,\n",
              "                                                random_state=60, verbose=0,\n",
              "                                                warm_start=False)),\n",
              "                              ('extratrees',\n",
              "                               ExtraTreesRegressor(bootstrap=False,\n",
              "                                                   ccp_alpha=0.0,\n",
              "                                                   criterion='mse',\n",
              "                                                   max_depth=None,\n",
              "                                                   max_features...\n",
              "                                                     max_samples=None,\n",
              "                                                     min_impurity_decrease=0.0,\n",
              "                                                     min_impurity_split=None,\n",
              "                                                     min_samples_leaf=1,\n",
              "                                                     min_samples_split=2,\n",
              "                                                     min_weight_fraction_leaf=0.0,\n",
              "                                                     n_estimators=100,\n",
              "                                                     n_jobs=-1, oob_score=False,\n",
              "                                                     random_state=60, verbose=0,\n",
              "                                                     warm_start=False))],\n",
              "                  final_estimator=LinearRegression(copy_X=True,\n",
              "                                                   fit_intercept=True,\n",
              "                                                   n_jobs=None,\n",
              "                                                   normalize=False),\n",
              "                  n_jobs=-1, passthrough=False, verbose=0)"
            ]
          },
          "metadata": {
            "tags": []
          },
          "execution_count": 73
        }
      ]
    },
    {
      "cell_type": "code",
      "metadata": {
        "id": "celci_VQEVoB"
      },
      "source": [
        "prediction= pd.DataFrame()\n",
        "prediction['target_r'] = model_r.predict(test[feat])\n",
        "prediction['target_g'] = model_g.predict(test[feat])\n",
        "prediction['target_b'] = model_b.predict(test[feat])"
      ],
      "execution_count": 74,
      "outputs": []
    },
    {
      "cell_type": "code",
      "metadata": {
        "id": "71BIVVj1YBQi",
        "outputId": "54b61f24-621f-407e-d4ff-2302534810fc",
        "colab": {
          "base_uri": "https://localhost:8080/"
        }
      },
      "source": [
        "prediction[prediction['target_r'] > 1],prediction[prediction['target_g'] > 1], prediction[prediction['target_b'] > 1],"
      ],
      "execution_count": 75,
      "outputs": [
        {
          "output_type": "execute_result",
          "data": {
            "text/plain": [
              "(Empty DataFrame\n",
              " Columns: [target_r, target_g, target_b]\n",
              " Index: [], Empty DataFrame\n",
              " Columns: [target_r, target_g, target_b]\n",
              " Index: [], Empty DataFrame\n",
              " Columns: [target_r, target_g, target_b]\n",
              " Index: [])"
            ]
          },
          "metadata": {
            "tags": []
          },
          "execution_count": 75
        }
      ]
    },
    {
      "cell_type": "code",
      "metadata": {
        "id": "2W15H2i1YKPG",
        "outputId": "2aeb217f-8a0f-4303-e9bd-1aff3bc5c673",
        "colab": {
          "base_uri": "https://localhost:8080/"
        }
      },
      "source": [
        "prediction[prediction['target_r'] < 0],prediction[prediction['target_g'] < 0], prediction[prediction['target_b'] < 0],\n"
      ],
      "execution_count": 76,
      "outputs": [
        {
          "output_type": "execute_result",
          "data": {
            "text/plain": [
              "(Empty DataFrame\n",
              " Columns: [target_r, target_g, target_b]\n",
              " Index: [], Empty DataFrame\n",
              " Columns: [target_r, target_g, target_b]\n",
              " Index: [], Empty DataFrame\n",
              " Columns: [target_r, target_g, target_b]\n",
              " Index: [])"
            ]
          },
          "metadata": {
            "tags": []
          },
          "execution_count": 76
        }
      ]
    },
    {
      "cell_type": "code",
      "metadata": {
        "id": "YXV5fgkYYKL2"
      },
      "source": [
        ""
      ],
      "execution_count": null,
      "outputs": []
    },
    {
      "cell_type": "code",
      "metadata": {
        "id": "6xPdyO4DYKIf"
      },
      "source": [
        ""
      ],
      "execution_count": null,
      "outputs": []
    },
    {
      "cell_type": "code",
      "metadata": {
        "id": "VVAiTaeTYKEb"
      },
      "source": [
        ""
      ],
      "execution_count": null,
      "outputs": []
    },
    {
      "cell_type": "code",
      "metadata": {
        "id": "l3kNJkXKYBNH",
        "outputId": "6f1ba126-0144-4e96-fd9d-d486236bcd8a",
        "colab": {
          "base_uri": "https://localhost:8080/"
        }
      },
      "source": [
        "API_KEY = \"0GIskIC9Rd1I8sMw6nStutbIbMx7AaZzAyNfuMOVAVWgJtNa1IVQHZAD3WPj\" # <- HERE\n",
        "\n",
        "r = requests.post(\"https://tournament.datacrunch.com/api/submission\",\n",
        "    files = {\n",
        "        \"file\": (\"x\", prediction.to_csv().encode('ascii'))\n",
        "    },\n",
        "    data = {\n",
        "        \"apiKey\": API_KEY\n",
        "    },\n",
        ")\n",
        "\n",
        "if r.status_code == 200:\n",
        "    print(\"Submission submitted :)\")\n",
        "elif r.status_code == 423:\n",
        "    print(\"ERR: Submissions are close\")\n",
        "    print(\"You can only submit during rounds eg: Friday 7pm GMT+1 to Sunday midnight GMT+1.\")\n",
        "    print(\"Or the server is currently crunching the submitted files, please wait some time before retrying.\")\n",
        "elif r.status_code == 422:\n",
        "    print(\"ERR: API Key is missing or empty\")\n",
        "    print(\"Did you forget to fill the API_KEY variable?\")\n",
        "elif r.status_code == 404:\n",
        "    print(\"ERR: Unknown API Key\")\n",
        "    print(\"You should check that the provided API key is valid and is the same as the one you've received by email.\")\n",
        "elif r.status_code == 400:\n",
        "    print(\"ERR: The file must not be empty\")\n",
        "    print(\"You have send a empty file.\")\n",
        "elif r.status_code == 401:\n",
        "    print(\"ERR: Your email hasn't been verified\")\n",
        "    print(\"Please verify your email or contact a cruncher.\")\n",
        "elif r.status_code == 429:\n",
        "    print(\"ERR: Too many submissions\")\n",
        "else:\n",
        "    print(\"ERR: Server returned: \" + str(r.status_code))\n",
        "    print(\"Ouch! It seems that we were not expecting this kind of result from the server, if the probleme persist, contact a cruncher.\")"
      ],
      "execution_count": 77,
      "outputs": [
        {
          "output_type": "stream",
          "text": [
            "Submission submitted :)\n"
          ],
          "name": "stdout"
        }
      ]
    },
    {
      "cell_type": "code",
      "metadata": {
        "id": "rhq-UGq7Z0de"
      },
      "source": [
        ""
      ],
      "execution_count": null,
      "outputs": []
    }
  ]
}