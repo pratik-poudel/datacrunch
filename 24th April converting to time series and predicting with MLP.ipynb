{
  "nbformat": 4,
  "nbformat_minor": 0,
  "metadata": {
    "colab": {
      "name": "scratchpad",
      "provenance": [],
      "machine_shape": "hm",
      "include_colab_link": true
    },
    "kernelspec": {
      "display_name": "Python 3",
      "name": "python3"
    },
    "accelerator": "GPU"
  },
  "cells": [
    {
      "cell_type": "markdown",
      "metadata": {
        "id": "view-in-github",
        "colab_type": "text"
      },
      "source": [
        "<a href=\"https://colab.research.google.com/github/pratik-poudel/datacrunch/blob/main/24th%20April%20converting%20to%20time%20series%20and%20predicting%20with%20MLP.ipynb\" target=\"_parent\"><img src=\"https://colab.research.google.com/assets/colab-badge.svg\" alt=\"Open In Colab\"/></a>"
      ]
    },
    {
      "cell_type": "code",
      "metadata": {
        "id": "lIYdn1woOS1n"
      },
      "source": [
        "import numpy as np\n",
        "import pandas as pd\n",
        "from collections import defaultdict\n",
        "from tqdm.notebook import tqdm\n",
        "from matplotlib import pyplot as plt\n",
        "import warnings\n",
        "warnings.filterwarnings('ignore')\n",
        "import seaborn as sns\n",
        "import gc\n",
        "# pd.options.display.float_format| = \"{:.2f}\".format\n",
        "pd.options.display.max_columns = 500\n",
        "\n",
        "\n",
        "from sklearn.model_selection import train_test_split\n",
        "from sklearn.metrics import accuracy_score \n",
        "from sklearn.metrics import classification_report \n",
        "import requests\n",
        "from scipy import stats\n",
        "\n",
        "import lightgbm as lgb\n",
        "\n",
        "from tensorflow.keras.callbacks import EarlyStopping, ModelCheckpoint\n"
      ],
      "execution_count": 124,
      "outputs": []
    },
    {
      "cell_type": "code",
      "metadata": {
        "id": "-Fp6KUxlw_3G"
      },
      "source": [
        "train_datalink_X = 'https://tournament.datacrunch.com/data/X_train.csv'  \n",
        "train_datalink_y = 'https://tournament.datacrunch.com/data/y_train.csv'\n",
        "hackathon_data_link = 'https://tournament.datacrunch.com/data/X_test.csv'"
      ],
      "execution_count": 125,
      "outputs": []
    },
    {
      "cell_type": "code",
      "metadata": {
        "id": "EH7b596jxFEG"
      },
      "source": [
        "train = pd.read_csv(train_datalink_X)\n",
        "target = pd.read_csv(train_datalink_y)\n",
        "test = pd.read_csv(hackathon_data_link)"
      ],
      "execution_count": 126,
      "outputs": []
    },
    {
      "cell_type": "code",
      "metadata": {
        "id": "gqyKA_3XWrgq",
        "outputId": "0f3c6786-9ddb-43fd-a887-541547faf8c7",
        "colab": {
          "base_uri": "https://localhost:8080/"
        }
      },
      "source": [
        "train.shape"
      ],
      "execution_count": 127,
      "outputs": [
        {
          "output_type": "execute_result",
          "data": {
            "text/plain": [
              "(14687, 14)"
            ]
          },
          "metadata": {
            "tags": []
          },
          "execution_count": 127
        }
      ]
    },
    {
      "cell_type": "code",
      "metadata": {
        "id": "IcFYYvIN-0AN"
      },
      "source": [
        "train = pd.concat([train, target], axis=1)"
      ],
      "execution_count": 128,
      "outputs": []
    },
    {
      "cell_type": "code",
      "metadata": {
        "id": "wue1x3vSWw8O",
        "outputId": "69add065-8f7f-4614-b229-5e4ec84eed65",
        "colab": {
          "base_uri": "https://localhost:8080/",
          "height": 391
        }
      },
      "source": [
        "train"
      ],
      "execution_count": 129,
      "outputs": [
        {
          "output_type": "execute_result",
          "data": {
            "text/html": [
              "<div>\n",
              "<style scoped>\n",
              "    .dataframe tbody tr th:only-of-type {\n",
              "        vertical-align: middle;\n",
              "    }\n",
              "\n",
              "    .dataframe tbody tr th {\n",
              "        vertical-align: top;\n",
              "    }\n",
              "\n",
              "    .dataframe thead th {\n",
              "        text-align: right;\n",
              "    }\n",
              "</style>\n",
              "<table border=\"1\" class=\"dataframe\">\n",
              "  <thead>\n",
              "    <tr style=\"text-align: right;\">\n",
              "      <th></th>\n",
              "      <th>Feature_1</th>\n",
              "      <th>Feature_2</th>\n",
              "      <th>Feature_3</th>\n",
              "      <th>Feature_4</th>\n",
              "      <th>Feature_5</th>\n",
              "      <th>Feature_6</th>\n",
              "      <th>Feature_7</th>\n",
              "      <th>Feature_8</th>\n",
              "      <th>Feature_9</th>\n",
              "      <th>Feature_10</th>\n",
              "      <th>Feature_11</th>\n",
              "      <th>Feature_12</th>\n",
              "      <th>Feature_13</th>\n",
              "      <th>Feature_14</th>\n",
              "      <th>target_r</th>\n",
              "      <th>target_g</th>\n",
              "      <th>target_b</th>\n",
              "    </tr>\n",
              "  </thead>\n",
              "  <tbody>\n",
              "    <tr>\n",
              "      <th>0</th>\n",
              "      <td>1.00</td>\n",
              "      <td>1.00</td>\n",
              "      <td>0.0</td>\n",
              "      <td>0.00</td>\n",
              "      <td>1.00</td>\n",
              "      <td>0.50</td>\n",
              "      <td>1.00</td>\n",
              "      <td>0.0</td>\n",
              "      <td>1.0</td>\n",
              "      <td>0.0</td>\n",
              "      <td>0.0</td>\n",
              "      <td>0.25</td>\n",
              "      <td>0.00</td>\n",
              "      <td>0.25</td>\n",
              "      <td>1.00</td>\n",
              "      <td>1.00</td>\n",
              "      <td>0.75</td>\n",
              "    </tr>\n",
              "    <tr>\n",
              "      <th>1</th>\n",
              "      <td>1.00</td>\n",
              "      <td>1.00</td>\n",
              "      <td>0.0</td>\n",
              "      <td>0.00</td>\n",
              "      <td>0.50</td>\n",
              "      <td>0.50</td>\n",
              "      <td>0.50</td>\n",
              "      <td>0.0</td>\n",
              "      <td>1.0</td>\n",
              "      <td>0.0</td>\n",
              "      <td>0.0</td>\n",
              "      <td>0.00</td>\n",
              "      <td>0.00</td>\n",
              "      <td>0.00</td>\n",
              "      <td>0.75</td>\n",
              "      <td>0.25</td>\n",
              "      <td>0.50</td>\n",
              "    </tr>\n",
              "    <tr>\n",
              "      <th>2</th>\n",
              "      <td>0.50</td>\n",
              "      <td>0.50</td>\n",
              "      <td>0.0</td>\n",
              "      <td>0.00</td>\n",
              "      <td>0.25</td>\n",
              "      <td>0.75</td>\n",
              "      <td>0.00</td>\n",
              "      <td>0.0</td>\n",
              "      <td>1.0</td>\n",
              "      <td>0.0</td>\n",
              "      <td>0.0</td>\n",
              "      <td>0.00</td>\n",
              "      <td>0.25</td>\n",
              "      <td>0.25</td>\n",
              "      <td>0.75</td>\n",
              "      <td>0.00</td>\n",
              "      <td>0.00</td>\n",
              "    </tr>\n",
              "    <tr>\n",
              "      <th>3</th>\n",
              "      <td>0.75</td>\n",
              "      <td>0.75</td>\n",
              "      <td>0.0</td>\n",
              "      <td>0.00</td>\n",
              "      <td>0.50</td>\n",
              "      <td>1.00</td>\n",
              "      <td>0.00</td>\n",
              "      <td>0.0</td>\n",
              "      <td>0.0</td>\n",
              "      <td>0.0</td>\n",
              "      <td>1.0</td>\n",
              "      <td>0.00</td>\n",
              "      <td>0.50</td>\n",
              "      <td>0.00</td>\n",
              "      <td>0.25</td>\n",
              "      <td>0.00</td>\n",
              "      <td>0.25</td>\n",
              "    </tr>\n",
              "    <tr>\n",
              "      <th>4</th>\n",
              "      <td>1.00</td>\n",
              "      <td>1.00</td>\n",
              "      <td>0.0</td>\n",
              "      <td>0.00</td>\n",
              "      <td>1.00</td>\n",
              "      <td>1.00</td>\n",
              "      <td>0.25</td>\n",
              "      <td>0.0</td>\n",
              "      <td>0.0</td>\n",
              "      <td>0.0</td>\n",
              "      <td>1.0</td>\n",
              "      <td>0.25</td>\n",
              "      <td>0.25</td>\n",
              "      <td>0.50</td>\n",
              "      <td>0.75</td>\n",
              "      <td>0.50</td>\n",
              "      <td>0.50</td>\n",
              "    </tr>\n",
              "    <tr>\n",
              "      <th>...</th>\n",
              "      <td>...</td>\n",
              "      <td>...</td>\n",
              "      <td>...</td>\n",
              "      <td>...</td>\n",
              "      <td>...</td>\n",
              "      <td>...</td>\n",
              "      <td>...</td>\n",
              "      <td>...</td>\n",
              "      <td>...</td>\n",
              "      <td>...</td>\n",
              "      <td>...</td>\n",
              "      <td>...</td>\n",
              "      <td>...</td>\n",
              "      <td>...</td>\n",
              "      <td>...</td>\n",
              "      <td>...</td>\n",
              "      <td>...</td>\n",
              "    </tr>\n",
              "    <tr>\n",
              "      <th>14682</th>\n",
              "      <td>0.00</td>\n",
              "      <td>0.00</td>\n",
              "      <td>1.0</td>\n",
              "      <td>0.75</td>\n",
              "      <td>0.25</td>\n",
              "      <td>0.75</td>\n",
              "      <td>0.00</td>\n",
              "      <td>1.0</td>\n",
              "      <td>0.0</td>\n",
              "      <td>0.0</td>\n",
              "      <td>0.0</td>\n",
              "      <td>0.00</td>\n",
              "      <td>0.75</td>\n",
              "      <td>0.75</td>\n",
              "      <td>0.00</td>\n",
              "      <td>0.50</td>\n",
              "      <td>0.50</td>\n",
              "    </tr>\n",
              "    <tr>\n",
              "      <th>14683</th>\n",
              "      <td>0.25</td>\n",
              "      <td>0.25</td>\n",
              "      <td>1.0</td>\n",
              "      <td>0.75</td>\n",
              "      <td>0.25</td>\n",
              "      <td>0.75</td>\n",
              "      <td>0.25</td>\n",
              "      <td>1.0</td>\n",
              "      <td>0.0</td>\n",
              "      <td>0.0</td>\n",
              "      <td>0.0</td>\n",
              "      <td>0.00</td>\n",
              "      <td>0.75</td>\n",
              "      <td>0.75</td>\n",
              "      <td>0.00</td>\n",
              "      <td>0.50</td>\n",
              "      <td>0.50</td>\n",
              "    </tr>\n",
              "    <tr>\n",
              "      <th>14684</th>\n",
              "      <td>0.25</td>\n",
              "      <td>0.25</td>\n",
              "      <td>1.0</td>\n",
              "      <td>1.00</td>\n",
              "      <td>0.25</td>\n",
              "      <td>0.75</td>\n",
              "      <td>0.00</td>\n",
              "      <td>1.0</td>\n",
              "      <td>0.0</td>\n",
              "      <td>0.0</td>\n",
              "      <td>0.0</td>\n",
              "      <td>0.00</td>\n",
              "      <td>0.00</td>\n",
              "      <td>0.00</td>\n",
              "      <td>0.00</td>\n",
              "      <td>0.25</td>\n",
              "      <td>0.00</td>\n",
              "    </tr>\n",
              "    <tr>\n",
              "      <th>14685</th>\n",
              "      <td>0.00</td>\n",
              "      <td>0.00</td>\n",
              "      <td>1.0</td>\n",
              "      <td>0.75</td>\n",
              "      <td>0.00</td>\n",
              "      <td>0.75</td>\n",
              "      <td>0.00</td>\n",
              "      <td>1.0</td>\n",
              "      <td>0.0</td>\n",
              "      <td>0.0</td>\n",
              "      <td>0.0</td>\n",
              "      <td>0.00</td>\n",
              "      <td>0.75</td>\n",
              "      <td>0.75</td>\n",
              "      <td>0.00</td>\n",
              "      <td>0.50</td>\n",
              "      <td>0.50</td>\n",
              "    </tr>\n",
              "    <tr>\n",
              "      <th>14686</th>\n",
              "      <td>1.00</td>\n",
              "      <td>1.00</td>\n",
              "      <td>1.0</td>\n",
              "      <td>0.00</td>\n",
              "      <td>0.50</td>\n",
              "      <td>1.00</td>\n",
              "      <td>0.25</td>\n",
              "      <td>1.0</td>\n",
              "      <td>0.0</td>\n",
              "      <td>0.0</td>\n",
              "      <td>0.0</td>\n",
              "      <td>0.25</td>\n",
              "      <td>0.00</td>\n",
              "      <td>0.00</td>\n",
              "      <td>0.75</td>\n",
              "      <td>0.75</td>\n",
              "      <td>1.00</td>\n",
              "    </tr>\n",
              "  </tbody>\n",
              "</table>\n",
              "<p>14687 rows × 17 columns</p>\n",
              "</div>"
            ],
            "text/plain": [
              "       Feature_1  Feature_2  Feature_3  Feature_4  Feature_5  Feature_6  \\\n",
              "0           1.00       1.00        0.0       0.00       1.00       0.50   \n",
              "1           1.00       1.00        0.0       0.00       0.50       0.50   \n",
              "2           0.50       0.50        0.0       0.00       0.25       0.75   \n",
              "3           0.75       0.75        0.0       0.00       0.50       1.00   \n",
              "4           1.00       1.00        0.0       0.00       1.00       1.00   \n",
              "...          ...        ...        ...        ...        ...        ...   \n",
              "14682       0.00       0.00        1.0       0.75       0.25       0.75   \n",
              "14683       0.25       0.25        1.0       0.75       0.25       0.75   \n",
              "14684       0.25       0.25        1.0       1.00       0.25       0.75   \n",
              "14685       0.00       0.00        1.0       0.75       0.00       0.75   \n",
              "14686       1.00       1.00        1.0       0.00       0.50       1.00   \n",
              "\n",
              "       Feature_7  Feature_8  Feature_9  Feature_10  Feature_11  Feature_12  \\\n",
              "0           1.00        0.0        1.0         0.0         0.0        0.25   \n",
              "1           0.50        0.0        1.0         0.0         0.0        0.00   \n",
              "2           0.00        0.0        1.0         0.0         0.0        0.00   \n",
              "3           0.00        0.0        0.0         0.0         1.0        0.00   \n",
              "4           0.25        0.0        0.0         0.0         1.0        0.25   \n",
              "...          ...        ...        ...         ...         ...         ...   \n",
              "14682       0.00        1.0        0.0         0.0         0.0        0.00   \n",
              "14683       0.25        1.0        0.0         0.0         0.0        0.00   \n",
              "14684       0.00        1.0        0.0         0.0         0.0        0.00   \n",
              "14685       0.00        1.0        0.0         0.0         0.0        0.00   \n",
              "14686       0.25        1.0        0.0         0.0         0.0        0.25   \n",
              "\n",
              "       Feature_13  Feature_14  target_r  target_g  target_b  \n",
              "0            0.00        0.25      1.00      1.00      0.75  \n",
              "1            0.00        0.00      0.75      0.25      0.50  \n",
              "2            0.25        0.25      0.75      0.00      0.00  \n",
              "3            0.50        0.00      0.25      0.00      0.25  \n",
              "4            0.25        0.50      0.75      0.50      0.50  \n",
              "...           ...         ...       ...       ...       ...  \n",
              "14682        0.75        0.75      0.00      0.50      0.50  \n",
              "14683        0.75        0.75      0.00      0.50      0.50  \n",
              "14684        0.00        0.00      0.00      0.25      0.00  \n",
              "14685        0.75        0.75      0.00      0.50      0.50  \n",
              "14686        0.00        0.00      0.75      0.75      1.00  \n",
              "\n",
              "[14687 rows x 17 columns]"
            ]
          },
          "metadata": {
            "tags": []
          },
          "execution_count": 129
        }
      ]
    },
    {
      "cell_type": "code",
      "metadata": {
        "id": "ZF5_9STO1GKb"
      },
      "source": [
        "# train = train.drop(['Moons', 'id'], axis=1)"
      ],
      "execution_count": 130,
      "outputs": []
    },
    {
      "cell_type": "code",
      "metadata": {
        "id": "4VdsAQhY4DmT",
        "colab": {
          "base_uri": "https://localhost:8080/"
        },
        "outputId": "1453568b-f7fc-44f7-903e-8e467caf766d"
      },
      "source": [
        "train.shape[0] - (4687)"
      ],
      "execution_count": 131,
      "outputs": [
        {
          "output_type": "execute_result",
          "data": {
            "text/plain": [
              "10000"
            ]
          },
          "metadata": {
            "tags": []
          },
          "execution_count": 131
        }
      ]
    },
    {
      "cell_type": "code",
      "metadata": {
        "id": "ysLsAohLO34r",
        "outputId": "61fdf000-7ce8-44e7-bd01-ee5cade5f444",
        "colab": {
          "base_uri": "https://localhost:8080/"
        }
      },
      "source": [
        "validation_data = train[10000: ]\n",
        "train_data = train[:10000]\n",
        "train_data.shape"
      ],
      "execution_count": 132,
      "outputs": [
        {
          "output_type": "execute_result",
          "data": {
            "text/plain": [
              "(10000, 17)"
            ]
          },
          "metadata": {
            "tags": []
          },
          "execution_count": 132
        }
      ]
    },
    {
      "cell_type": "code",
      "metadata": {
        "colab": {
          "base_uri": "https://localhost:8080/"
        },
        "id": "wrj3XSqmYYBB",
        "outputId": "b5dde5fb-ea68-43bb-ed7e-eb604316dced"
      },
      "source": [
        "features = [f for f in train_data.columns if 'Feature' in f]\n",
        "len(features)"
      ],
      "execution_count": 133,
      "outputs": [
        {
          "output_type": "execute_result",
          "data": {
            "text/plain": [
              "14"
            ]
          },
          "metadata": {
            "tags": []
          },
          "execution_count": 133
        }
      ]
    },
    {
      "cell_type": "markdown",
      "metadata": {
        "id": "poRcC-PmPIws"
      },
      "source": [
        "# TRAINING"
      ]
    },
    {
      "cell_type": "code",
      "metadata": {
        "id": "IAeBShzMO_h8"
      },
      "source": [
        "def scorer(y_test, y_pred):\n",
        "    score = (stats.spearmanr(y_test, y_pred))[0]\n",
        "    # print('Score as calculated for the leader board (っಠ‿ಠ)っ {}'.format(score))\n",
        "    return score"
      ],
      "execution_count": 134,
      "outputs": []
    },
    {
      "cell_type": "code",
      "metadata": {
        "id": "HT8sI09oPMQ2"
      },
      "source": [
        "# train[:10][['Feature_1', 'target_r']]"
      ],
      "execution_count": 135,
      "outputs": []
    },
    {
      "cell_type": "code",
      "metadata": {
        "id": "IgE--0v-7ZKL"
      },
      "source": [
        ""
      ],
      "execution_count": 135,
      "outputs": []
    },
    {
      "cell_type": "code",
      "metadata": {
        "id": "N_hPzUj3TQF9"
      },
      "source": [
        "def split_sequences(sequences, n_steps):\n",
        "    X, y = list(), list()   \n",
        "    for i in range(len(sequences)):\n",
        "# find the end of this pattern\n",
        "        end_ix = i + n_steps\n",
        "# check if we are beyond the dataset\n",
        "        if end_ix > len(sequences):\n",
        "            break\n",
        "# gather input and output parts of the pattern\n",
        "        seq_x, seq_y = sequences[i:end_ix, :-3], sequences[end_ix-1, -3:]\n",
        "        # print(seq_x.shape)\n",
        "        # print(seq_y.shape)\n",
        "        # print(seq_x, seq_y)\n",
        "        X.append(seq_x)\n",
        "        y.append(seq_y)\n",
        "    return np.array(X), np.array(y)\n",
        "\n"
      ],
      "execution_count": 136,
      "outputs": []
    },
    {
      "cell_type": "code",
      "metadata": {
        "id": "DVQm-15LvxgE"
      },
      "source": [
        "train_data_arr = np.array(train_data)\n",
        "validation_data_arr = np.array(validation_data)"
      ],
      "execution_count": 137,
      "outputs": []
    },
    {
      "cell_type": "code",
      "metadata": {
        "id": "MMSwWHAbv1Nz",
        "colab": {
          "base_uri": "https://localhost:8080/"
        },
        "outputId": "fd58940b-a8f8-4c32-dcdf-fd1972b63565"
      },
      "source": [
        "train_data_arr.shape, validation_data_arr.shape"
      ],
      "execution_count": 138,
      "outputs": [
        {
          "output_type": "execute_result",
          "data": {
            "text/plain": [
              "((10000, 17), (4687, 17))"
            ]
          },
          "metadata": {
            "tags": []
          },
          "execution_count": 138
        }
      ]
    },
    {
      "cell_type": "code",
      "metadata": {
        "id": "zCoDgbLgYybo"
      },
      "source": [
        "%matplotlib inline\n",
        "def plot_metric(history, metric):\n",
        "    train_metrics = history.history[metric]\n",
        "    val_metrics = history.history['val_'+metric]\n",
        "    epochs = range(1, len(train_metrics) + 1)\n",
        "    plt.plot(epochs, train_metrics)\n",
        "    plt.plot(epochs, val_metrics)\n",
        "    plt.title('Training and validation '+ metric)\n",
        "    plt.xlabel(\"Epochs\")\n",
        "    plt.ylabel(metric)\n",
        "    plt.legend([\"train_\"+metric, 'val_'+metric])\n",
        "    plt.show()"
      ],
      "execution_count": 139,
      "outputs": []
    },
    {
      "cell_type": "code",
      "metadata": {
        "id": "mR-XTuWxViYh",
        "colab": {
          "base_uri": "https://localhost:8080/",
          "height": 1000
        },
        "outputId": "c6a3f087-48f5-4b94-9325-51d587fbeb73"
      },
      "source": [
        "np.random.seed(60)\n",
        "df = []\n",
        "for i in range(16, 28):\n",
        "    n_steps = i\n",
        "    print( \"TIME STEPS : --------> \" , i)\n",
        "    X_train, y_train = split_sequences(train_data_arr, n_steps)\n",
        "    X_val, y_val = split_sequences(validation_data_arr, n_steps)\n",
        "\n",
        "    n_input = X_train.shape[1] * X_train.shape[2]\n",
        "    X_train = X_train.reshape((X_train.shape[0], n_input))\n",
        "    X_val = X_val.reshape((X_val.shape[0], n_input))\n",
        "\n",
        "    from keras.models import Sequential\n",
        "    from keras.layers import Dense\n",
        "\n",
        "\n",
        "    model = Sequential()\n",
        "    model.add(Dense(1024, activation='relu', input_dim=n_input))\n",
        "    model.add(Dense(512, activation='relu'))\n",
        "    model.add(Dense(256, activation='relu'))\n",
        "    model.add(Dense(150, activation='relu'))\n",
        "    model.add(Dense(50, activation='relu'))\n",
        "    model.add(Dense(3))\n",
        "    model.compile(optimizer='rmsprop', loss='mse')\n",
        "\n",
        "    early_stopping = EarlyStopping(monitor='val_loss', mode='min', verbose=1, patience=15)\n",
        "    mcp_save = ModelCheckpoint('./model.hdf5', save_best_only=True, monitor='val_loss', mode='min')\n",
        "\n",
        "    batch_size = 512\n",
        "    epochs = 250\n",
        "\n",
        "    history = model.fit(X_train, y_train, epochs=epochs, batch_size=batch_size,verbose=None, validation_data=(X_val, y_val), \n",
        "                        callbacks=[early_stopping, mcp_save], shuffle=False)\n",
        "\n",
        "    \n",
        "    plot_metric(history, 'loss')\n",
        "    plt.show()\n",
        "\n",
        "    model.load_weights('model.hdf5')\n",
        "    preds= model.predict(X_val, batch_size=batch_size)\n",
        "    cols = ['target_r', 'target_g', 'target_b']\n",
        "    preds = pd.DataFrame(preds, columns=cols)\n",
        "\n",
        "    scores = []\n",
        "    scores.append(n_steps)\n",
        "    scores.append(scorer(y_val[:, 0], preds.target_r))\n",
        "    scores.append(scorer(y_val[:, 1], preds.target_g))\n",
        "    scores.append(scorer(y_val[:, 2], preds.target_b))\n",
        "    df.append(pd.DataFrame(scores))\n",
        "    print(scores)\n",
        "    print(\" \")\n",
        "    print(\" \")\n"
      ],
      "execution_count": 140,
      "outputs": [
        {
          "output_type": "stream",
          "text": [
            "TIME STEPS : -------->  16\n",
            "Epoch 00016: early stopping\n"
          ],
          "name": "stdout"
        },
        {
          "output_type": "display_data",
          "data": {
            "image/png": "[encoded data removed]",
            "text/plain": [
              "<Figure size 432x288 with 1 Axes>"
            ]
          },
          "metadata": {
            "tags": [],
            "needs_background": "light"
          }
        },
        {
          "output_type": "stream",
          "text": [
            "[16, 0.1394958160539915, 0.12484419090548798, 0.04429748153950751]\n",
            " \n",
            " \n",
            "TIME STEPS : -------->  17\n",
            "Epoch 00022: early stopping\n"
          ],
          "name": "stdout"
        },
        {
          "output_type": "display_data",
          "data": {
            "image/png": "[encoded data removed]",
            "text/plain": [
              "<Figure size 432x288 with 1 Axes>"
            ]
          },
          "metadata": {
            "tags": [],
            "needs_background": "light"
          }
        },
        {
          "output_type": "stream",
          "text": [
            "[17, 0.03216309286009576, 0.11840655525394862, 0.07602042386045603]\n",
            " \n",
            " \n",
            "TIME STEPS : -------->  18\n",
            "Epoch 00022: early stopping\n"
          ],
          "name": "stdout"
        },
        {
          "output_type": "display_data",
          "data": {
            "image/png": "[encoded data removed]",
            "text/plain": [
              "<Figure size 432x288 with 1 Axes>"
            ]
          },
          "metadata": {
            "tags": [],
            "needs_background": "light"
          }
        },
        {
          "output_type": "stream",
          "text": [
            "[18, 0.06287773364619005, 0.11765049255191525, 0.07608423557168845]\n",
            " \n",
            " \n",
            "TIME STEPS : -------->  19\n",
            "Epoch 00024: early stopping\n"
          ],
          "name": "stdout"
        },
        {
          "output_type": "display_data",
          "data": {
            "image/png": "[encoded data removed]",
            "text/plain": [
              "<Figure size 432x288 with 1 Axes>"
            ]
          },
          "metadata": {
            "tags": [],
            "needs_background": "light"
          }
        },
        {
          "output_type": "stream",
          "text": [
            "[19, 0.03370712731145443, 0.08765300892959453, 0.08678707093287286]\n",
            " \n",
            " \n",
            "TIME STEPS : -------->  20\n",
            "Epoch 00021: early stopping\n"
          ],
          "name": "stdout"
        },
        {
          "output_type": "display_data",
          "data": {
            "image/png": "[encoded data removed]",
            "text/plain": [
              "<Figure size 432x288 with 1 Axes>"
            ]
          },
          "metadata": {
            "tags": [],
            "needs_background": "light"
          }
        },
        {
          "output_type": "stream",
          "text": [
            "[20, 0.05344226811940906, 0.10547513494476164, 0.06772846311505044]\n",
            " \n",
            " \n",
            "TIME STEPS : -------->  21\n",
            "Epoch 00021: early stopping\n"
          ],
          "name": "stdout"
        },
        {
          "output_type": "display_data",
          "data": {
            "image/png": "[encoded data removed]",
            "text/plain": [
              "<Figure size 432x288 with 1 Axes>"
            ]
          },
          "metadata": {
            "tags": [],
            "needs_background": "light"
          }
        },
        {
          "output_type": "stream",
          "text": [
            "[21, 0.05112986113909814, 0.11264842138143531, 0.05782001825990745]\n",
            " \n",
            " \n",
            "TIME STEPS : -------->  22\n",
            "Epoch 00028: early stopping\n"
          ],
          "name": "stdout"
        },
        {
          "output_type": "display_data",
          "data": {
            "image/png": "[encoded data removed]",
            "text/plain": [
              "<Figure size 432x288 with 1 Axes>"
            ]
          },
          "metadata": {
            "tags": [],
            "needs_background": "light"
          }
        },
        {
          "output_type": "stream",
          "text": [
            "[22, 0.0893085079715065, 0.16036870381835602, 0.11380648771265756]\n",
            " \n",
            " \n",
            "TIME STEPS : -------->  23\n",
            "Epoch 00032: early stopping\n"
          ],
          "name": "stdout"
        },
        {
          "output_type": "display_data",
          "data": {
            "image/png": "[encoded data removed]",
            "text/plain": [
              "<Figure size 432x288 with 1 Axes>"
            ]
          },
          "metadata": {
            "tags": [],
            "needs_background": "light"
          }
        },
        {
          "output_type": "stream",
          "text": [
            "[23, 0.09220085288417719, 0.1626262163981759, 0.11023758446452356]\n",
            " \n",
            " \n",
            "TIME STEPS : -------->  24\n",
            "Epoch 00016: early stopping\n"
          ],
          "name": "stdout"
        },
        {
          "output_type": "display_data",
          "data": {
            "image/png": "[encoded data removed]",
            "text/plain": [
              "<Figure size 432x288 with 1 Axes>"
            ]
          },
          "metadata": {
            "tags": [],
            "needs_background": "light"
          }
        },
        {
          "output_type": "stream",
          "text": [
            "[24, 0.12688084067113106, 0.13948706516576648, 0.04615578742749515]\n",
            " \n",
            " \n",
            "TIME STEPS : -------->  25\n",
            "Epoch 00027: early stopping\n"
          ],
          "name": "stdout"
        },
        {
          "output_type": "display_data",
          "data": {
            "image/png": "[encoded data removed]",
            "text/plain": [
              "<Figure size 432x288 with 1 Axes>"
            ]
          },
          "metadata": {
            "tags": [],
            "needs_background": "light"
          }
        },
        {
          "output_type": "stream",
          "text": [
            "[25, 0.074956745489812, 0.15012513864828148, 0.1096771341145258]\n",
            " \n",
            " \n",
            "TIME STEPS : -------->  26\n",
            "Epoch 00021: early stopping\n"
          ],
          "name": "stdout"
        },
        {
          "output_type": "display_data",
          "data": {
            "image/png": "[encoded data removed]",
            "text/plain": [
              "<Figure size 432x288 with 1 Axes>"
            ]
          },
          "metadata": {
            "tags": [],
            "needs_background": "light"
          }
        },
        {
          "output_type": "stream",
          "text": [
            "[26, 0.0850077054900795, 0.15640605873990254, 0.09021778032586146]\n",
            " \n",
            " \n",
            "TIME STEPS : -------->  27\n",
            "Epoch 00027: early stopping\n"
          ],
          "name": "stdout"
        },
        {
          "output_type": "display_data",
          "data": {
            "image/png": "[encoded data removed]",
            "text/plain": [
              "<Figure size 432x288 with 1 Axes>"
            ]
          },
          "metadata": {
            "tags": [],
            "needs_background": "light"
          }
        },
        {
          "output_type": "stream",
          "text": [
            "[27, 0.06233845956957028, 0.12955421651971888, 0.09153738546351534]\n",
            " \n",
            " \n"
          ],
          "name": "stdout"
        }
      ]
    },
    {
      "cell_type": "code",
      "metadata": {
        "id": "8S8bAfwlXp1d"
      },
      "source": [
        "# df"
      ],
      "execution_count": 141,
      "outputs": []
    },
    {
      "cell_type": "code",
      "metadata": {
        "id": "RnPAF_k4ajT1"
      },
      "source": [
        "df = pd.concat(df, axis=1)\n",
        "df.columns = df.iloc[0]\n",
        "df.drop(df.index[0], inplace=True)"
      ],
      "execution_count": 142,
      "outputs": []
    },
    {
      "cell_type": "code",
      "metadata": {
        "id": "oyiYYpfgbBu5",
        "colab": {
          "base_uri": "https://localhost:8080/",
          "height": 421
        },
        "outputId": "bb7a926a-149f-481f-f00f-42be567ec4d5"
      },
      "source": [
        "df.T"
      ],
      "execution_count": 143,
      "outputs": [
        {
          "output_type": "execute_result",
          "data": {
            "text/html": [
              "<div>\n",
              "<style scoped>\n",
              "    .dataframe tbody tr th:only-of-type {\n",
              "        vertical-align: middle;\n",
              "    }\n",
              "\n",
              "    .dataframe tbody tr th {\n",
              "        vertical-align: top;\n",
              "    }\n",
              "\n",
              "    .dataframe thead th {\n",
              "        text-align: right;\n",
              "    }\n",
              "</style>\n",
              "<table border=\"1\" class=\"dataframe\">\n",
              "  <thead>\n",
              "    <tr style=\"text-align: right;\">\n",
              "      <th></th>\n",
              "      <th>1</th>\n",
              "      <th>2</th>\n",
              "      <th>3</th>\n",
              "    </tr>\n",
              "    <tr>\n",
              "      <th>0</th>\n",
              "      <th></th>\n",
              "      <th></th>\n",
              "      <th></th>\n",
              "    </tr>\n",
              "  </thead>\n",
              "  <tbody>\n",
              "    <tr>\n",
              "      <th>16.0</th>\n",
              "      <td>0.139496</td>\n",
              "      <td>0.124844</td>\n",
              "      <td>0.044297</td>\n",
              "    </tr>\n",
              "    <tr>\n",
              "      <th>17.0</th>\n",
              "      <td>0.032163</td>\n",
              "      <td>0.118407</td>\n",
              "      <td>0.076020</td>\n",
              "    </tr>\n",
              "    <tr>\n",
              "      <th>18.0</th>\n",
              "      <td>0.062878</td>\n",
              "      <td>0.117650</td>\n",
              "      <td>0.076084</td>\n",
              "    </tr>\n",
              "    <tr>\n",
              "      <th>19.0</th>\n",
              "      <td>0.033707</td>\n",
              "      <td>0.087653</td>\n",
              "      <td>0.086787</td>\n",
              "    </tr>\n",
              "    <tr>\n",
              "      <th>20.0</th>\n",
              "      <td>0.053442</td>\n",
              "      <td>0.105475</td>\n",
              "      <td>0.067728</td>\n",
              "    </tr>\n",
              "    <tr>\n",
              "      <th>21.0</th>\n",
              "      <td>0.051130</td>\n",
              "      <td>0.112648</td>\n",
              "      <td>0.057820</td>\n",
              "    </tr>\n",
              "    <tr>\n",
              "      <th>22.0</th>\n",
              "      <td>0.089309</td>\n",
              "      <td>0.160369</td>\n",
              "      <td>0.113806</td>\n",
              "    </tr>\n",
              "    <tr>\n",
              "      <th>23.0</th>\n",
              "      <td>0.092201</td>\n",
              "      <td>0.162626</td>\n",
              "      <td>0.110238</td>\n",
              "    </tr>\n",
              "    <tr>\n",
              "      <th>24.0</th>\n",
              "      <td>0.126881</td>\n",
              "      <td>0.139487</td>\n",
              "      <td>0.046156</td>\n",
              "    </tr>\n",
              "    <tr>\n",
              "      <th>25.0</th>\n",
              "      <td>0.074957</td>\n",
              "      <td>0.150125</td>\n",
              "      <td>0.109677</td>\n",
              "    </tr>\n",
              "    <tr>\n",
              "      <th>26.0</th>\n",
              "      <td>0.085008</td>\n",
              "      <td>0.156406</td>\n",
              "      <td>0.090218</td>\n",
              "    </tr>\n",
              "    <tr>\n",
              "      <th>27.0</th>\n",
              "      <td>0.062338</td>\n",
              "      <td>0.129554</td>\n",
              "      <td>0.091537</td>\n",
              "    </tr>\n",
              "  </tbody>\n",
              "</table>\n",
              "</div>"
            ],
            "text/plain": [
              "             1         2         3\n",
              "0                                 \n",
              "16.0  0.139496  0.124844  0.044297\n",
              "17.0  0.032163  0.118407  0.076020\n",
              "18.0  0.062878  0.117650  0.076084\n",
              "19.0  0.033707  0.087653  0.086787\n",
              "20.0  0.053442  0.105475  0.067728\n",
              "21.0  0.051130  0.112648  0.057820\n",
              "22.0  0.089309  0.160369  0.113806\n",
              "23.0  0.092201  0.162626  0.110238\n",
              "24.0  0.126881  0.139487  0.046156\n",
              "25.0  0.074957  0.150125  0.109677\n",
              "26.0  0.085008  0.156406  0.090218\n",
              "27.0  0.062338  0.129554  0.091537"
            ]
          },
          "metadata": {
            "tags": []
          },
          "execution_count": 143
        }
      ]
    },
    {
      "cell_type": "code",
      "metadata": {
        "id": "0T6-SCSYivm7"
      },
      "source": [
        "# df.T.max()"
      ],
      "execution_count": null,
      "outputs": []
    },
    {
      "cell_type": "markdown",
      "metadata": {
        "id": "xM6Vtwnj4-DP"
      },
      "source": [
        "# NEW"
      ]
    },
    {
      "cell_type": "code",
      "metadata": {
        "id": "DoD58bWHl4TT"
      },
      "source": [
        "train = pd.read_csv(train_datalink_X)\n",
        "target = pd.read_csv(train_datalink_y)\n",
        "test = pd.read_csv(hackathon_data_link)"
      ],
      "execution_count": 144,
      "outputs": []
    },
    {
      "cell_type": "code",
      "metadata": {
        "id": "PoNreJ6al4TU"
      },
      "source": [
        "train = pd.concat([train, target], axis=1)\n",
        "# train = train.drop(['id', 'Moons'], axis=1)"
      ],
      "execution_count": 145,
      "outputs": []
    },
    {
      "cell_type": "code",
      "metadata": {
        "colab": {
          "base_uri": "https://localhost:8080/"
        },
        "id": "e4N_B0Uml4TV",
        "outputId": "9c592f3f-7763-4e2e-9f60-b323db840c03"
      },
      "source": [
        "train.shape"
      ],
      "execution_count": 146,
      "outputs": [
        {
          "output_type": "execute_result",
          "data": {
            "text/plain": [
              "(14687, 17)"
            ]
          },
          "metadata": {
            "tags": []
          },
          "execution_count": 146
        }
      ]
    },
    {
      "cell_type": "code",
      "metadata": {
        "id": "FIqNqm542BkY",
        "colab": {
          "base_uri": "https://localhost:8080/"
        },
        "outputId": "8e69ac30-e7e7-43be-cfe5-a260917e0cc9"
      },
      "source": [
        "features = [f for f in train_data.columns if 'Feature' in f]\n",
        "len(features)"
      ],
      "execution_count": 147,
      "outputs": [
        {
          "output_type": "execute_result",
          "data": {
            "text/plain": [
              "14"
            ]
          },
          "metadata": {
            "tags": []
          },
          "execution_count": 147
        }
      ]
    },
    {
      "cell_type": "code",
      "metadata": {
        "id": "wqOkmqAKl4TW"
      },
      "source": [
        "validation_data = train[10000: ]\n",
        "train_data = train[:10000]"
      ],
      "execution_count": 148,
      "outputs": []
    },
    {
      "cell_type": "code",
      "metadata": {
        "id": "FrtUgIS9i16f",
        "colab": {
          "base_uri": "https://localhost:8080/"
        },
        "outputId": "e62688d6-7fbe-4c31-f3fa-3b848c953bad"
      },
      "source": [
        "validation_data.shape[0] - 23"
      ],
      "execution_count": 152,
      "outputs": [
        {
          "output_type": "execute_result",
          "data": {
            "text/plain": [
              "4664"
            ]
          },
          "metadata": {
            "tags": []
          },
          "execution_count": 152
        }
      ]
    },
    {
      "cell_type": "code",
      "metadata": {
        "id": "HlQihgvwYzbD"
      },
      "source": [
        ""
      ],
      "execution_count": null,
      "outputs": []
    },
    {
      "cell_type": "code",
      "metadata": {
        "id": "MONi5CFncH9r",
        "colab": {
          "base_uri": "https://localhost:8080/"
        },
        "outputId": "95a649d0-4642-4fe0-ac5d-2092eb0da0d2"
      },
      "source": [
        "test_merge = validation_data[4665:]\n",
        "test_merge.shape"
      ],
      "execution_count": 153,
      "outputs": [
        {
          "output_type": "execute_result",
          "data": {
            "text/plain": [
              "(22, 17)"
            ]
          },
          "metadata": {
            "tags": []
          },
          "execution_count": 153
        }
      ]
    },
    {
      "cell_type": "code",
      "metadata": {
        "id": "SEplxHsA5aQP",
        "colab": {
          "base_uri": "https://localhost:8080/"
        },
        "outputId": "77664268-8961-46e2-93cc-a432fd3a549c"
      },
      "source": [
        "test.shape"
      ],
      "execution_count": 154,
      "outputs": [
        {
          "output_type": "execute_result",
          "data": {
            "text/plain": [
              "(12910, 14)"
            ]
          },
          "metadata": {
            "tags": []
          },
          "execution_count": 154
        }
      ]
    },
    {
      "cell_type": "code",
      "metadata": {
        "id": "urPZXRKtcWX8"
      },
      "source": [
        "cols = ['target_r', 'target_g', 'target_b']\n",
        "test_merge.drop(columns=cols, inplace=True)"
      ],
      "execution_count": 155,
      "outputs": []
    },
    {
      "cell_type": "code",
      "metadata": {
        "id": "P_dBWHAwclLn",
        "colab": {
          "base_uri": "https://localhost:8080/"
        },
        "outputId": "3daa4787-9008-4d8f-8af7-44891bb11b6c"
      },
      "source": [
        "validation_data = validation_data[:4665]\n",
        "validation_data.shape"
      ],
      "execution_count": 156,
      "outputs": [
        {
          "output_type": "execute_result",
          "data": {
            "text/plain": [
              "(4665, 17)"
            ]
          },
          "metadata": {
            "tags": []
          },
          "execution_count": 156
        }
      ]
    },
    {
      "cell_type": "code",
      "metadata": {
        "id": "KHwMNbxIb5TZ",
        "colab": {
          "base_uri": "https://localhost:8080/"
        },
        "outputId": "9beb7a79-e730-432a-c91b-07e57244c814"
      },
      "source": [
        "train_data_arr = np.array(train_data)\n",
        "validation_data_arr = np.array(validation_data)\n",
        "validation_data_arr.shape"
      ],
      "execution_count": 157,
      "outputs": [
        {
          "output_type": "execute_result",
          "data": {
            "text/plain": [
              "(4665, 17)"
            ]
          },
          "metadata": {
            "tags": []
          },
          "execution_count": 157
        }
      ]
    },
    {
      "cell_type": "code",
      "metadata": {
        "id": "8m9gmn2-baw4",
        "colab": {
          "base_uri": "https://localhost:8080/",
          "height": 400
        },
        "outputId": "af389fb3-1596-41f0-8711-5b22b7191c2a"
      },
      "source": [
        "np.random.seed(60)\n",
        "n_steps = 23\n",
        "X_train, y_train = split_sequences(train_data_arr, n_steps)\n",
        "print(X_train.shape)\n",
        "X_val, y_val = split_sequences(validation_data_arr, n_steps)\n",
        "print(X_val.shape)\n",
        "n_input = X_train.shape[1] * X_train.shape[2]\n",
        "X_train = X_train.reshape((X_train.shape[0], n_input))\n",
        "X_val = X_val.reshape((X_val.shape[0], n_input))\n",
        "\n",
        "from keras.models import Sequential\n",
        "from keras.layers import Dense\n",
        "\n",
        "\n",
        "model = Sequential()\n",
        "model.add(Dense(1024, activation='relu', input_dim=n_input))\n",
        "model.add(Dense(512, activation='relu'))\n",
        "model.add(Dense(256, activation='relu'))\n",
        "model.add(Dense(150, activation='relu'))\n",
        "model.add(Dense(50, activation='relu'))\n",
        "model.add(Dense(3))\n",
        "model.compile(optimizer='rmsprop', loss='mse')\n",
        "\n",
        "early_stopping = EarlyStopping(monitor='val_loss', mode='min', verbose=1, patience=15)\n",
        "mcp_save = ModelCheckpoint('./model.hdf5', save_best_only=True, monitor='val_loss', mode='min')\n",
        "\n",
        "batch_size = 512\n",
        "epochs = 250\n",
        "\n",
        "\n",
        "history = model.fit(X_train, y_train, epochs=epochs, batch_size=batch_size,verbose=0, validation_data=(X_val, y_val), \n",
        "                    callbacks=[early_stopping, mcp_save], shuffle=True)\n",
        "\n",
        "\n",
        "plot_metric(history, 'loss')\n",
        "\n",
        "model.load_weights('model.hdf5')\n",
        "preds= model.predict(X_val, batch_size=batch_size)\n",
        "cols = ['target_r', 'target_g', 'target_b']\n",
        "preds = pd.DataFrame(preds, columns=cols)\n",
        "\n",
        "print(scorer(y_val[:, 0], preds.target_r))\n",
        "print(scorer(y_val[:, 1], preds.target_g))\n",
        "print(scorer(y_val[:, 2], preds.target_b))"
      ],
      "execution_count": 159,
      "outputs": [
        {
          "output_type": "stream",
          "text": [
            "(9978, 23, 14)\n",
            "(4643, 23, 14)\n",
            "Epoch 00023: early stopping\n"
          ],
          "name": "stdout"
        },
        {
          "output_type": "display_data",
          "data": {
            "image/png": "[encoded data removed]",
            "text/plain": [
              "<Figure size 432x288 with 1 Axes>"
            ]
          },
          "metadata": {
            "tags": [],
            "needs_background": "light"
          }
        },
        {
          "output_type": "stream",
          "text": [
            "0.1374948809451755\n",
            "0.15799596171153474\n",
            "0.11042036685312426\n"
          ],
          "name": "stdout"
        }
      ]
    },
    {
      "cell_type": "code",
      "metadata": {
        "id": "jiN9Fu7Z2gK1",
        "colab": {
          "base_uri": "https://localhost:8080/"
        },
        "outputId": "4902a34d-488e-403e-c0a1-648ca9c71835"
      },
      "source": [
        "X_val.shape"
      ],
      "execution_count": 160,
      "outputs": [
        {
          "output_type": "execute_result",
          "data": {
            "text/plain": [
              "(4643, 322)"
            ]
          },
          "metadata": {
            "tags": []
          },
          "execution_count": 160
        }
      ]
    },
    {
      "cell_type": "code",
      "metadata": {
        "id": "zH5UDkAAbars",
        "colab": {
          "base_uri": "https://localhost:8080/"
        },
        "outputId": "28f1ed74-394c-482c-877a-c906ce9a17bd"
      },
      "source": [
        "test_data_with_lag = pd.concat([test_merge, test])\n",
        "test_data_with_lag.shape"
      ],
      "execution_count": 161,
      "outputs": [
        {
          "output_type": "execute_result",
          "data": {
            "text/plain": [
              "(12932, 14)"
            ]
          },
          "metadata": {
            "tags": []
          },
          "execution_count": 161
        }
      ]
    },
    {
      "cell_type": "code",
      "metadata": {
        "id": "9sQxUrL23PM2",
        "colab": {
          "base_uri": "https://localhost:8080/"
        },
        "outputId": "b382b5ff-811e-4bfa-e17c-42024a2ab35b"
      },
      "source": [
        "test.shape[0]"
      ],
      "execution_count": 162,
      "outputs": [
        {
          "output_type": "execute_result",
          "data": {
            "text/plain": [
              "12910"
            ]
          },
          "metadata": {
            "tags": []
          },
          "execution_count": 162
        }
      ]
    },
    {
      "cell_type": "code",
      "metadata": {
        "id": "xalveW4Xji0K"
      },
      "source": [
        "def split_sequences_for_prediction(sequences, n_steps):\n",
        "    X= list()   \n",
        "    for i in range(len(sequences)):\n",
        "# find the end of this pattern\n",
        "        end_ix = i + n_steps\n",
        "# check if we are beyond the dataset\n",
        "        if end_ix > len(sequences):\n",
        "            break\n",
        "# gather input and output parts of the pattern\n",
        "        seq_x =sequences[i:end_ix]\n",
        "        # print(seq_x)\n",
        "        X.append(seq_x)\n",
        "    return np.array(X)"
      ],
      "execution_count": 163,
      "outputs": []
    },
    {
      "cell_type": "code",
      "metadata": {
        "id": "JOHA1W6qjixU"
      },
      "source": [
        "preds_data = split_sequences_for_prediction(np.array(test_data_with_lag[features]), 23)"
      ],
      "execution_count": 165,
      "outputs": []
    },
    {
      "cell_type": "code",
      "metadata": {
        "id": "LIII01T-lNZn",
        "colab": {
          "base_uri": "https://localhost:8080/"
        },
        "outputId": "db2549de-0ac3-43af-f936-5433aee1446e"
      },
      "source": [
        "preds_data.shape"
      ],
      "execution_count": 166,
      "outputs": [
        {
          "output_type": "execute_result",
          "data": {
            "text/plain": [
              "(12910, 23, 14)"
            ]
          },
          "metadata": {
            "tags": []
          },
          "execution_count": 166
        }
      ]
    },
    {
      "cell_type": "code",
      "metadata": {
        "id": "fNeU4ysY3eTQ",
        "colab": {
          "base_uri": "https://localhost:8080/"
        },
        "outputId": "48ae7a8a-8937-48b3-8eee-e888218e5ef3"
      },
      "source": [
        "n_input"
      ],
      "execution_count": 167,
      "outputs": [
        {
          "output_type": "execute_result",
          "data": {
            "text/plain": [
              "322"
            ]
          },
          "metadata": {
            "tags": []
          },
          "execution_count": 167
        }
      ]
    },
    {
      "cell_type": "code",
      "metadata": {
        "id": "hfc_y3f3j7av",
        "colab": {
          "base_uri": "https://localhost:8080/"
        },
        "outputId": "60fd13ef-9648-4986-896d-4c1aaf6ee89c"
      },
      "source": [
        "preds_data = preds_data.reshape((preds_data.shape[0], n_input))\n",
        "preds_data.shape"
      ],
      "execution_count": 168,
      "outputs": [
        {
          "output_type": "execute_result",
          "data": {
            "text/plain": [
              "(12910, 322)"
            ]
          },
          "metadata": {
            "tags": []
          },
          "execution_count": 168
        }
      ]
    },
    {
      "cell_type": "code",
      "metadata": {
        "id": "huOGl8Lyj7Xx"
      },
      "source": [
        "prediction = pd.DataFrame(model.predict(preds_data, batch_size=batch_size))"
      ],
      "execution_count": 169,
      "outputs": []
    },
    {
      "cell_type": "code",
      "metadata": {
        "id": "KQPmRrQqj7VB"
      },
      "source": [
        "prediction.columns = cols"
      ],
      "execution_count": 170,
      "outputs": []
    },
    {
      "cell_type": "code",
      "metadata": {
        "id": "e_OXlGtDktZk",
        "colab": {
          "base_uri": "https://localhost:8080/",
          "height": 391
        },
        "outputId": "cd529d8d-4734-4184-f02d-61fd1855a32d"
      },
      "source": [
        "prediction"
      ],
      "execution_count": 171,
      "outputs": [
        {
          "output_type": "execute_result",
          "data": {
            "text/html": [
              "<div>\n",
              "<style scoped>\n",
              "    .dataframe tbody tr th:only-of-type {\n",
              "        vertical-align: middle;\n",
              "    }\n",
              "\n",
              "    .dataframe tbody tr th {\n",
              "        vertical-align: top;\n",
              "    }\n",
              "\n",
              "    .dataframe thead th {\n",
              "        text-align: right;\n",
              "    }\n",
              "</style>\n",
              "<table border=\"1\" class=\"dataframe\">\n",
              "  <thead>\n",
              "    <tr style=\"text-align: right;\">\n",
              "      <th></th>\n",
              "      <th>target_r</th>\n",
              "      <th>target_g</th>\n",
              "      <th>target_b</th>\n",
              "    </tr>\n",
              "  </thead>\n",
              "  <tbody>\n",
              "    <tr>\n",
              "      <th>0</th>\n",
              "      <td>0.506338</td>\n",
              "      <td>0.580899</td>\n",
              "      <td>0.553027</td>\n",
              "    </tr>\n",
              "    <tr>\n",
              "      <th>1</th>\n",
              "      <td>0.516241</td>\n",
              "      <td>0.552630</td>\n",
              "      <td>0.541658</td>\n",
              "    </tr>\n",
              "    <tr>\n",
              "      <th>2</th>\n",
              "      <td>0.481900</td>\n",
              "      <td>0.558055</td>\n",
              "      <td>0.511667</td>\n",
              "    </tr>\n",
              "    <tr>\n",
              "      <th>3</th>\n",
              "      <td>0.516952</td>\n",
              "      <td>0.547783</td>\n",
              "      <td>0.546006</td>\n",
              "    </tr>\n",
              "    <tr>\n",
              "      <th>4</th>\n",
              "      <td>0.487643</td>\n",
              "      <td>0.511371</td>\n",
              "      <td>0.510762</td>\n",
              "    </tr>\n",
              "    <tr>\n",
              "      <th>...</th>\n",
              "      <td>...</td>\n",
              "      <td>...</td>\n",
              "      <td>...</td>\n",
              "    </tr>\n",
              "    <tr>\n",
              "      <th>12905</th>\n",
              "      <td>0.452325</td>\n",
              "      <td>0.473099</td>\n",
              "      <td>0.506723</td>\n",
              "    </tr>\n",
              "    <tr>\n",
              "      <th>12906</th>\n",
              "      <td>0.523806</td>\n",
              "      <td>0.564878</td>\n",
              "      <td>0.584224</td>\n",
              "    </tr>\n",
              "    <tr>\n",
              "      <th>12907</th>\n",
              "      <td>0.580788</td>\n",
              "      <td>0.613855</td>\n",
              "      <td>0.617903</td>\n",
              "    </tr>\n",
              "    <tr>\n",
              "      <th>12908</th>\n",
              "      <td>0.590540</td>\n",
              "      <td>0.597934</td>\n",
              "      <td>0.627259</td>\n",
              "    </tr>\n",
              "    <tr>\n",
              "      <th>12909</th>\n",
              "      <td>0.567888</td>\n",
              "      <td>0.634910</td>\n",
              "      <td>0.610886</td>\n",
              "    </tr>\n",
              "  </tbody>\n",
              "</table>\n",
              "<p>12910 rows × 3 columns</p>\n",
              "</div>"
            ],
            "text/plain": [
              "       target_r  target_g  target_b\n",
              "0      0.506338  0.580899  0.553027\n",
              "1      0.516241  0.552630  0.541658\n",
              "2      0.481900  0.558055  0.511667\n",
              "3      0.516952  0.547783  0.546006\n",
              "4      0.487643  0.511371  0.510762\n",
              "...         ...       ...       ...\n",
              "12905  0.452325  0.473099  0.506723\n",
              "12906  0.523806  0.564878  0.584224\n",
              "12907  0.580788  0.613855  0.617903\n",
              "12908  0.590540  0.597934  0.627259\n",
              "12909  0.567888  0.634910  0.610886\n",
              "\n",
              "[12910 rows x 3 columns]"
            ]
          },
          "metadata": {
            "tags": []
          },
          "execution_count": 171
        }
      ]
    },
    {
      "cell_type": "code",
      "metadata": {
        "id": "joJeox0NZR9Y",
        "outputId": "b769238f-6a34-41c9-b89b-96c805b0bcb6",
        "colab": {
          "base_uri": "https://localhost:8080/"
        }
      },
      "source": [
        "test.shape, prediction.shape"
      ],
      "execution_count": 172,
      "outputs": [
        {
          "output_type": "execute_result",
          "data": {
            "text/plain": [
              "((12910, 14), (12910, 3))"
            ]
          },
          "metadata": {
            "tags": []
          },
          "execution_count": 172
        }
      ]
    },
    {
      "cell_type": "markdown",
      "metadata": {
        "id": "3DRAjG2hPGW7"
      },
      "source": [
        "# Predictions"
      ]
    },
    {
      "cell_type": "code",
      "metadata": {
        "id": "cYyekZi2wXgE",
        "colab": {
          "base_uri": "https://localhost:8080/",
          "height": 761
        },
        "outputId": "2e236434-bc15-4c3e-e6b6-122844d7e13d"
      },
      "source": [
        "prediction['target_r'].plot(kind='hist')\n",
        "plt.show()\n",
        "prediction['target_g'].plot(kind='hist')\n",
        "plt.show()\n",
        "prediction['target_b'].plot(kind='hist')\n",
        "plt.show()"
      ],
      "execution_count": 175,
      "outputs": [
        {
          "output_type": "display_data",
          "data": {
            "image/png": "[encoded data removed]",
            "text/plain": [
              "<Figure size 432x288 with 1 Axes>"
            ]
          },
          "metadata": {
            "tags": [],
            "needs_background": "light"
          }
        },
        {
          "output_type": "display_data",
          "data": {
            "image/png": "[encoded data removed]",
            "text/plain": [
              "<Figure size 432x288 with 1 Axes>"
            ]
          },
          "metadata": {
            "tags": [],
            "needs_background": "light"
          }
        },
        {
          "output_type": "display_data",
          "data": {
            "image/png": "[encoded data removed]",
            "text/plain": [
              "<Figure size 432x288 with 1 Axes>"
            ]
          },
          "metadata": {
            "tags": [],
            "needs_background": "light"
          }
        }
      ]
    },
    {
      "cell_type": "code",
      "metadata": {
        "id": "6FvQl9QBerwb",
        "colab": {
          "base_uri": "https://localhost:8080/"
        },
        "outputId": "3ccdbec3-2a34-457e-8186-84ae7e831931"
      },
      "source": [
        "API_KEY = \"0GIskIC9Rd1I8sMw6nStutbIbMx7AaZzAyNfuMOVAVWgJtNa1IVQHZAD3WPj\" # <- HERE\n",
        "\n",
        "r = requests.post(\"https://tournament.datacrunch.com/api/submission\",\n",
        "    files = {\n",
        "        \"file\": (\"x\", prediction.to_csv().encode('ascii'))\n",
        "    },\n",
        "    data = {\n",
        "        \"apiKey\": API_KEY\n",
        "    },\n",
        ")\n",
        "\n",
        "if r.status_code == 200:\n",
        "    print(\"Submission submitted :)\")\n",
        "elif r.status_code == 423:\n",
        "    print(\"ERR: Submissions are close\")\n",
        "    print(\"You can only submit during rounds eg: Friday 7pm GMT+1 to Sunday midnight GMT+1.\")\n",
        "    print(\"Or the server is currently crunching the submitted files, please wait some time before retrying.\")\n",
        "elif r.status_code == 422:\n",
        "    print(\"ERR: API Key is missing or empty\")\n",
        "    print(\"Did you forget to fill the API_KEY variable?\")\n",
        "elif r.status_code == 404:\n",
        "    print(\"ERR: Unknown API Key\")\n",
        "    print(\"You should check that the provided API key is valid and is the same as the one you've received by email.\")\n",
        "elif r.status_code == 400:\n",
        "    print(\"ERR: The file must not be empty\")\n",
        "    print(\"You have send a empty file.\")\n",
        "elif r.status_code == 401:\n",
        "    print(\"ERR: Your email hasn't been verified\")\n",
        "    print(\"Please verify your email or contact a cruncher.\")\n",
        "elif r.status_code == 429:\n",
        "    print(\"ERR: Too many submissions\")\n",
        "else:\n",
        "    print(\"ERR: Server returned: \" + str(r.status_code))\n",
        "    print(\"Ouch! It seems that we were not expecting this kind of result from the server, if the probleme persist, contact a cruncher.\")"
      ],
      "execution_count": 176,
      "outputs": [
        {
          "output_type": "stream",
          "text": [
            "Submission submitted :)\n"
          ],
          "name": "stdout"
        }
      ]
    },
    {
      "cell_type": "code",
      "metadata": {
        "id": "2WIE4pRQfD7v"
      },
      "source": [
        ""
      ],
      "execution_count": null,
      "outputs": []
    }
  ]
}