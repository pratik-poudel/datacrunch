{
  "nbformat": 4,
  "nbformat_minor": 0,
  "metadata": {
    "colab": {
      "name": "scratchpad",
      "provenance": [],
      "machine_shape": "hm",
      "include_colab_link": true
    },
    "kernelspec": {
      "display_name": "Python 3",
      "name": "python3"
    },
    "accelerator": "GPU"
  },
  "cells": [
    {
      "cell_type": "markdown",
      "metadata": {
        "id": "view-in-github",
        "colab_type": "text"
      },
      "source": [
        "<a href=\"https://colab.research.google.com/github/pratik-poudel/datacrunch/blob/main/24th%20April%20Template%20Predictions.ipynb\" target=\"_parent\"><img src=\"https://colab.research.google.com/assets/colab-badge.svg\" alt=\"Open In Colab\"/></a>"
      ]
    },
    {
      "cell_type": "code",
      "metadata": {
        "id": "lIYdn1woOS1n"
      },
      "source": [
        "import numpy as np\n",
        "import pandas as pd\n",
        "from collections import defaultdict\n",
        "from tqdm.notebook import tqdm\n",
        "from matplotlib import pyplot as plt\n",
        "import warnings\n",
        "warnings.filterwarnings('ignore')\n",
        "import seaborn as sns\n",
        "import gc\n",
        "# pd.options.display.float_format| = \"{:.2f}\".format\n",
        "pd.options.display.max_columns = 500\n",
        "\n",
        "from sklearn.model_selection import train_test_split\n",
        "from sklearn.metrics import accuracy_score \n",
        "from sklearn.metrics import classification_report \n",
        "import requests\n",
        "from scipy import stats\n",
        "import lightgbm as lgb\n",
        "from tensorflow.keras.callbacks import EarlyStopping, ModelCheckpoint\n",
        "\n",
        "import sklearn\n",
        "from sklearn import *\n",
        "from sklearn.experimental import enable_hist_gradient_boosting\n",
        "from sklearn.utils.testing import all_estimators\n",
        "from sklearn.base import RegressorMixin\n",
        "from sklearn.model_selection import train_test_split\n",
        "from sklearn.metrics import accuracy_score \n",
        "from sklearn.metrics import classification_report \n",
        "from sklearn.metrics import make_scorer\n",
        "from sklearn.model_selection import RepeatedKFold, cross_val_score\n",
        "from sklearn.multioutput import RegressorChain\n",
        "\n",
        "import requests\n",
        "import time\n",
        "from scipy import stats\n",
        "\n",
        "import lightgbm as lgb\n",
        "import xgboost as xgb"
      ],
      "execution_count": 1,
      "outputs": []
    },
    {
      "cell_type": "code",
      "metadata": {
        "id": "-Fp6KUxlw_3G"
      },
      "source": [
        "train_datalink_X = 'https://tournament.datacrunch.com/data/X_train.csv'  \n",
        "train_datalink_y = 'https://tournament.datacrunch.com/data/y_train.csv'\n",
        "hackathon_data_link = 'https://tournament.datacrunch.com/data/X_test.csv'"
      ],
      "execution_count": 2,
      "outputs": []
    },
    {
      "cell_type": "code",
      "metadata": {
        "id": "EH7b596jxFEG"
      },
      "source": [
        "train = pd.read_csv(train_datalink_X)\n",
        "target = pd.read_csv(train_datalink_y)\n",
        "test = pd.read_csv(hackathon_data_link)"
      ],
      "execution_count": 3,
      "outputs": []
    },
    {
      "cell_type": "code",
      "metadata": {
        "colab": {
          "base_uri": "https://localhost:8080/"
        },
        "id": "UwaEDxRZztne",
        "outputId": "f618187a-8543-45e2-bc7d-b939eeaaf0e3"
      },
      "source": [
        "feat= [f for f in train.columns if \"Feature\" in f]\n",
        "print(feat)"
      ],
      "execution_count": 4,
      "outputs": [
        {
          "output_type": "stream",
          "text": [
            "['Feature_1', 'Feature_2', 'Feature_3', 'Feature_4', 'Feature_5', 'Feature_6', 'Feature_7', 'Feature_8', 'Feature_9', 'Feature_10', 'Feature_11', 'Feature_12', 'Feature_13', 'Feature_14']\n"
          ],
          "name": "stdout"
        }
      ]
    },
    {
      "cell_type": "code",
      "metadata": {
        "id": "gqyKA_3XWrgq"
      },
      "source": [
        "def scorer(y_test, y_pred):\n",
        "    # print(y_test)\n",
        "    true_r, pred_r = y_test['target_r'], y_pred[:, 0]\n",
        "    true_g, pred_g = y_test['target_g'], y_pred[:, 1]\n",
        "    true_b, pred_b = y_test['target_b'], y_pred[:, 2]\n",
        "\n",
        "    score_r = (stats.spearmanr(true_r, pred_r))[0]\n",
        "    score_g = (stats.spearmanr(true_r, pred_r))[0]\n",
        "    score_b = (stats.spearmanr(true_r, pred_r))[0]\n",
        "    return (score_r + score_g + score_b)/ 3 "
      ],
      "execution_count": 5,
      "outputs": []
    },
    {
      "cell_type": "code",
      "metadata": {
        "id": "FliY5tJFE9hi"
      },
      "source": [
        "rf_params = {\n",
        "    'bootstrap': 'True',\n",
        "    'max_depth': 16,\n",
        "    'max_features': 'auto',\n",
        "    'min_samples_leaf': 1,\n",
        "    'min_samples_split': 3,\n",
        "    'n_estimators': 184,\n",
        "    'warm_start': 'True'\n",
        "    }\n",
        "\n",
        "et_params = {\n",
        "    'bootstrap': 'True',\n",
        "    'max_depth': 17,\n",
        "    'max_features': 'auto',\n",
        "    'max_samples': 0.9660355603575764,\n",
        "    'min_samples_leaf': 1,\n",
        "    'min_samples_split': 4,\n",
        "    'n_estimators': 169,\n",
        "    'warm_start': 'False'\n",
        "    }"
      ],
      "execution_count": 6,
      "outputs": []
    },
    {
      "cell_type": "code",
      "metadata": {
        "id": "QEvfajkLE9e4"
      },
      "source": [
        "rf = RegressorChain(sklearn.ensemble.RandomForestRegressor(**rf_params , random_state=60, n_jobs=-1))\n",
        "et = RegressorChain(sklearn.ensemble.ExtraTreesRegressor(**et_params, random_state=60, n_jobs=-1))"
      ],
      "execution_count": 7,
      "outputs": []
    },
    {
      "cell_type": "code",
      "metadata": {
        "colab": {
          "base_uri": "https://localhost:8080/"
        },
        "id": "6j8YLHW7fm8v",
        "outputId": "5b2108b5-fc3b-4a76-c427-8925484225eb"
      },
      "source": [
        "# This number of folds is forced by time limit\n",
        "folds = 5\n",
        "n_repeat = 2\n",
        "rf_cv_sum = 0\n",
        "et_cv_sum = 0\n",
        "\n",
        "rf_pred = []\n",
        "et_pred = []\n",
        "\n",
        "rf_fpred = []\n",
        "et_fpred = []\n",
        "\n",
        "avreal = target\n",
        "rf_avpred= np.zeros((train[feat].shape[0], 3))\n",
        "et_avpred = np.zeros((train[feat].shape[0], 3))\n",
        "\n",
        "blend_train = []\n",
        "blend_test = []\n",
        "\n",
        "X_train = train[feat]\n",
        "y_train = target\n",
        "\n",
        "kf = sklearn.model_selection.RepeatedKFold(n_splits=folds,n_repeats=n_repeat, random_state=60)\n",
        "for i, (train_index, val_index) in enumerate(kf.split(X_train, y_train)):\n",
        "\n",
        "    Xtrain, Xval = X_train.iloc[train_index], X_train.iloc[val_index]\n",
        "    ytrain, yval = y_train.iloc[train_index], y_train.iloc[val_index]\n",
        "    rf = RegressorChain(sklearn.ensemble.RandomForestRegressor(**rf_params , random_state=60, n_jobs=-1))\n",
        "    rf.fit(Xtrain, ytrain)\n",
        "    rf_scores_val = rf.predict(Xval)\n",
        "    rf_score = scorer(yval, rf_scores_val)\n",
        "    print('\\n Fold %02d Random Forest: %.6f' % ((i + 1), rf_score))\n",
        "    rf_actual_pred = rf.predict(test)\n",
        "\n",
        "    et = RegressorChain(sklearn.ensemble.ExtraTreesRegressor(**et_params, random_state=60, n_jobs=-1))\n",
        "    et.fit(Xtrain, ytrain)\n",
        "    et_scores_val = et.predict(Xval)\n",
        "    et_score = scorer(yval, et_scores_val)\n",
        "    print(' Fold %02d Extra Trees: %.6f' % ((i + 1), et_score))\n",
        "    et_actual_pred = et.predict(test)\n",
        "\n",
        "    rf_avpred[val_index] = rf_scores_val\n",
        "    et_avpred[val_index] = et_scores_val\n",
        "    if i > 0:\n",
        "        rf_fpred = rf_pred + rf_actual_pred\n",
        "        et_fpred = et_pred + et_actual_pred\n",
        "    else:\n",
        "        rf_fpred = rf_actual_pred\n",
        "        et_fpred = et_actual_pred\n",
        "\n",
        "    rf_pred = rf_fpred\n",
        "    et_pred = et_fpred\n",
        "\n",
        "    rf_cv_sum = rf_cv_sum + rf_score\n",
        "    et_cv_sum = et_cv_sum + et_score\n",
        "\n",
        "rf_cv_score = (rf_cv_sum / (folds* n_repeat))\n",
        "et_cv_score = (et_cv_sum / (folds* n_repeat))\n",
        "\n",
        "rf_oof_RMSLE = scorer(avreal, rf_avpred)\n",
        "et_oof_RMSLE = scorer(avreal, et_avpred)\n",
        "\n",
        "print('\\n Average Random Forest:\\t%.6f' % rf_cv_score)\n",
        "print(' Out-of-fold Random Forest:\\t%.6f' % rf_oof_RMSLE)\n",
        "print('\\n Average Extra Trees:\\t%.6f' % et_cv_score)\n",
        "print(' Out-of-fold Extra Trees:\\t%.6f' % et_oof_RMSLE)\n",
        "\n",
        "rf_score = round(rf_oof_RMSLE, 6)\n",
        "et_score = round(et_oof_RMSLE, 6)\n",
        "\n",
        "rf_mpred = rf_pred / (folds*n_repeat)\n",
        "et_mpred = et_pred / (folds*n_repeat)"
      ],
      "execution_count": 16,
      "outputs": [
        {
          "output_type": "stream",
          "text": [
            "\n",
            " Fold 01 Random Forest: 0.538713\n",
            " Fold 01 Extra Trees: 0.537838\n",
            "\n",
            " Fold 02 Random Forest: 0.523304\n",
            " Fold 02 Extra Trees: 0.517856\n",
            "\n",
            " Fold 03 Random Forest: 0.546726\n",
            " Fold 03 Extra Trees: 0.546166\n",
            "\n",
            " Fold 04 Random Forest: 0.524193\n",
            " Fold 04 Extra Trees: 0.531617\n",
            "\n",
            " Fold 05 Random Forest: 0.542270\n",
            " Fold 05 Extra Trees: 0.541898\n",
            "\n",
            " Fold 06 Random Forest: 0.527315\n",
            " Fold 06 Extra Trees: 0.519489\n",
            "\n",
            " Fold 07 Random Forest: 0.546813\n",
            " Fold 07 Extra Trees: 0.548299\n",
            "\n",
            " Fold 08 Random Forest: 0.550696\n",
            " Fold 08 Extra Trees: 0.551828\n",
            "\n",
            " Fold 09 Random Forest: 0.545552\n",
            " Fold 09 Extra Trees: 0.553069\n",
            "\n",
            " Fold 10 Random Forest: 0.534017\n",
            " Fold 10 Extra Trees: 0.529478\n",
            "\n",
            " Average Random Forest:\t0.537960\n",
            " Out-of-fold Random Forest:\t0.540626\n",
            "\n",
            " Average Extra Trees:\t0.537754\n",
            " Out-of-fold Extra Trees:\t0.540127\n"
          ],
          "name": "stdout"
        }
      ]
    },
    {
      "cell_type": "code",
      "metadata": {
        "id": "MRdUSAbwzHB5"
      },
      "source": [
        "prediction = pd.DataFrame(rf_mpred, columns=target.columns)"
      ],
      "execution_count": 18,
      "outputs": []
    },
    {
      "cell_type": "code",
      "metadata": {
        "colab": {
          "base_uri": "https://localhost:8080/"
        },
        "id": "cV84uGzX4mhC",
        "outputId": "3cc52774-6ca0-4f07-b407-93550b6b3027"
      },
      "source": [
        "prediction.shape, test.shape"
      ],
      "execution_count": 25,
      "outputs": [
        {
          "output_type": "execute_result",
          "data": {
            "text/plain": [
              "((12910, 3), (12910, 14))"
            ]
          },
          "metadata": {
            "tags": []
          },
          "execution_count": 25
        }
      ]
    },
    {
      "cell_type": "code",
      "metadata": {
        "colab": {
          "base_uri": "https://localhost:8080/"
        },
        "id": "AYSNztmj1dBy",
        "outputId": "72f07368-97b8-4ee3-b3d4-e0efbbac3934"
      },
      "source": [
        "prediction.target_r.nunique()"
      ],
      "execution_count": 23,
      "outputs": [
        {
          "output_type": "execute_result",
          "data": {
            "text/plain": [
              "8106"
            ]
          },
          "metadata": {
            "tags": []
          },
          "execution_count": 23
        }
      ]
    },
    {
      "cell_type": "code",
      "metadata": {
        "colab": {
          "base_uri": "https://localhost:8080/",
          "height": 761
        },
        "id": "XZGgTFEC1Jby",
        "outputId": "28f46d88-a8d6-46d3-ab7d-3d5eedcdc4d8"
      },
      "source": [
        "prediction['target_r'].plot(kind='hist')\n",
        "plt.show()\n",
        "prediction['target_g'].plot(kind='hist')\n",
        "plt.show()\n",
        "prediction['target_b'].plot(kind='hist')\n",
        "plt.show()"
      ],
      "execution_count": 19,
      "outputs": [
        {
          "output_type": "display_data",
          "data": {
            "image/png": "[encoded data removed]",
            "text/plain": [
              "<Figure size 432x288 with 1 Axes>"
            ]
          },
          "metadata": {
            "tags": [],
            "needs_background": "light"
          }
        },
        {
          "output_type": "display_data",
          "data": {
            "image/png": "[encoded data removed]",
            "text/plain": [
              "<Figure size 432x288 with 1 Axes>"
            ]
          },
          "metadata": {
            "tags": [],
            "needs_background": "light"
          }
        },
        {
          "output_type": "display_data",
          "data": {
            "image/png": "[encoded data removed]",
            "text/plain": [
              "<Figure size 432x288 with 1 Axes>"
            ]
          },
          "metadata": {
            "tags": [],
            "needs_background": "light"
          }
        }
      ]
    },
    {
      "cell_type": "code",
      "metadata": {
        "colab": {
          "base_uri": "https://localhost:8080/"
        },
        "id": "2GqBFmFmyYHy",
        "outputId": "bb962497-d418-4186-829c-126e3165a7b5"
      },
      "source": [
        "API_KEY = \"0GIskIC9Rd1I8sMw6nStutbIbMx7AaZzAyNfuMOVAVWgJtNa1IVQHZAD3WPj\" # <- HERE\n",
        "\n",
        "r = requests.post(\"https://tournament.datacrunch.com/api/submission\",\n",
        "    files = {\n",
        "        \"file\": (\"x\", prediction.to_csv().encode('ascii'))\n",
        "    },\n",
        "    data = {\n",
        "        \"apiKey\": API_KEY\n",
        "    },\n",
        ")\n",
        "\n",
        "if r.status_code == 200:\n",
        "    print(\"Submission submitted :)\")\n",
        "elif r.status_code == 423:\n",
        "    print(\"ERR: Submissions are close\")\n",
        "    print(\"You can only submit during rounds eg: Friday 7pm GMT+1 to Sunday midnight GMT+1.\")\n",
        "    print(\"Or the server is currently crunching the submitted files, please wait some time before retrying.\")\n",
        "elif r.status_code == 422:\n",
        "    print(\"ERR: API Key is missing or empty\")\n",
        "    print(\"Did you forget to fill the API_KEY variable?\")\n",
        "elif r.status_code == 404:\n",
        "    print(\"ERR: Unknown API Key\")\n",
        "    print(\"You should check that the provided API key is valid and is the same as the one you've received by email.\")\n",
        "elif r.status_code == 400:\n",
        "    print(\"ERR: The file must not be empty\")\n",
        "    print(\"You have send a empty file.\")\n",
        "elif r.status_code == 401:\n",
        "    print(\"ERR: Your email hasn't been verified\")\n",
        "    print(\"Please verify your email or contact a cruncher.\")\n",
        "elif r.status_code == 429:\n",
        "    print(\"ERR: Too many submissions\")\n",
        "else:\n",
        "    print(\"ERR: Server returned: \" + str(r.status_code))\n",
        "    print(\"Ouch! It seems that we were not expecting this kind of result from the server, if the probleme persist, contact a cruncher.\")"
      ],
      "execution_count": 21,
      "outputs": [
        {
          "output_type": "stream",
          "text": [
            "Submission submitted :)\n"
          ],
          "name": "stdout"
        }
      ]
    },
    {
      "cell_type": "code",
      "metadata": {
        "id": "F1buPCxr1mHB"
      },
      "source": [
        ""
      ],
      "execution_count": null,
      "outputs": []
    },
    {
      "cell_type": "code",
      "metadata": {
        "id": "K1ayBUIC5JDT"
      },
      "source": [
        "prediction = pd.DataFrame(et_mpred, columns=target.columns)"
      ],
      "execution_count": 26,
      "outputs": []
    },
    {
      "cell_type": "code",
      "metadata": {
        "colab": {
          "base_uri": "https://localhost:8080/"
        },
        "id": "mOc1uiHW5JDU",
        "outputId": "505b366c-ae06-40c1-d993-47485c3c0242"
      },
      "source": [
        "prediction.shape, test.shape"
      ],
      "execution_count": 27,
      "outputs": [
        {
          "output_type": "execute_result",
          "data": {
            "text/plain": [
              "((12910, 3), (12910, 14))"
            ]
          },
          "metadata": {
            "tags": []
          },
          "execution_count": 27
        }
      ]
    },
    {
      "cell_type": "code",
      "metadata": {
        "colab": {
          "base_uri": "https://localhost:8080/"
        },
        "id": "GfcMFU_-5JDW",
        "outputId": "6bafc603-a3cd-4073-b251-80b9412e6fd5"
      },
      "source": [
        "prediction.target_r.nunique()"
      ],
      "execution_count": 28,
      "outputs": [
        {
          "output_type": "execute_result",
          "data": {
            "text/plain": [
              "8106"
            ]
          },
          "metadata": {
            "tags": []
          },
          "execution_count": 28
        }
      ]
    },
    {
      "cell_type": "code",
      "metadata": {
        "colab": {
          "base_uri": "https://localhost:8080/",
          "height": 761
        },
        "id": "sxIO2oQn5JDX",
        "outputId": "a7ba3edd-811c-4030-ce76-b1d530bccbf1"
      },
      "source": [
        "prediction['target_r'].plot(kind='hist')\n",
        "plt.show()\n",
        "prediction['target_g'].plot(kind='hist')\n",
        "plt.show()\n",
        "prediction['target_b'].plot(kind='hist')\n",
        "plt.show()"
      ],
      "execution_count": 29,
      "outputs": [
        {
          "output_type": "display_data",
          "data": {
            "image/png": "[encoded data removed]",
            "text/plain": [
              "<Figure size 432x288 with 1 Axes>"
            ]
          },
          "metadata": {
            "tags": [],
            "needs_background": "light"
          }
        },
        {
          "output_type": "display_data",
          "data": {
            "image/png": "[encoded data removed]",
            "text/plain": [
              "<Figure size 432x288 with 1 Axes>"
            ]
          },
          "metadata": {
            "tags": [],
            "needs_background": "light"
          }
        },
        {
          "output_type": "display_data",
          "data": {
            "image/png": "[encoded data removed]",
            "text/plain": [
              "<Figure size 432x288 with 1 Axes>"
            ]
          },
          "metadata": {
            "tags": [],
            "needs_background": "light"
          }
        }
      ]
    },
    {
      "cell_type": "code",
      "metadata": {
        "colab": {
          "base_uri": "https://localhost:8080/"
        },
        "id": "a21LBDSv5JDl",
        "outputId": "5b7284ca-2aae-4458-df27-5e28873d8090"
      },
      "source": [
        "API_KEY = \"0GIskIC9Rd1I8sMw6nStutbIbMx7AaZzAyNfuMOVAVWgJtNa1IVQHZAD3WPj\" # <- HERE\n",
        "\n",
        "r = requests.post(\"https://tournament.datacrunch.com/api/submission\",\n",
        "    files = {\n",
        "        \"file\": (\"x\", prediction.to_csv().encode('ascii'))\n",
        "    },\n",
        "    data = {\n",
        "        \"apiKey\": API_KEY\n",
        "    },\n",
        ")\n",
        "\n",
        "if r.status_code == 200:\n",
        "    print(\"Submission submitted :)\")\n",
        "elif r.status_code == 423:\n",
        "    print(\"ERR: Submissions are close\")\n",
        "    print(\"You can only submit during rounds eg: Friday 7pm GMT+1 to Sunday midnight GMT+1.\")\n",
        "    print(\"Or the server is currently crunching the submitted files, please wait some time before retrying.\")\n",
        "elif r.status_code == 422:\n",
        "    print(\"ERR: API Key is missing or empty\")\n",
        "    print(\"Did you forget to fill the API_KEY variable?\")\n",
        "elif r.status_code == 404:\n",
        "    print(\"ERR: Unknown API Key\")\n",
        "    print(\"You should check that the provided API key is valid and is the same as the one you've received by email.\")\n",
        "elif r.status_code == 400:\n",
        "    print(\"ERR: The file must not be empty\")\n",
        "    print(\"You have send a empty file.\")\n",
        "elif r.status_code == 401:\n",
        "    print(\"ERR: Your email hasn't been verified\")\n",
        "    print(\"Please verify your email or contact a cruncher.\")\n",
        "elif r.status_code == 429:\n",
        "    print(\"ERR: Too many submissions\")\n",
        "else:\n",
        "    print(\"ERR: Server returned: \" + str(r.status_code))\n",
        "    print(\"Ouch! It seems that we were not expecting this kind of result from the server, if the probleme persist, contact a cruncher.\")"
      ],
      "execution_count": 30,
      "outputs": [
        {
          "output_type": "stream",
          "text": [
            "Submission submitted :)\n"
          ],
          "name": "stdout"
        }
      ]
    },
    {
      "cell_type": "code",
      "metadata": {
        "id": "h6DiJYEU1mEY",
        "outputId": "6af361a9-d3e9-4cf4-9dae-c9b37469ecc5",
        "colab": {
          "base_uri": "https://localhost:8080/"
        }
      },
      "source": [
        "prediction['target_r'].value_counts()"
      ],
      "execution_count": 31,
      "outputs": [
        {
          "output_type": "execute_result",
          "data": {
            "text/plain": [
              "0.491559    35\n",
              "0.550515    34\n",
              "0.662166    29\n",
              "0.552958    27\n",
              "0.485471    25\n",
              "            ..\n",
              "0.625118     1\n",
              "0.474563     1\n",
              "0.655784     1\n",
              "0.634691     1\n",
              "0.487490     1\n",
              "Name: target_r, Length: 8106, dtype: int64"
            ]
          },
          "metadata": {
            "tags": []
          },
          "execution_count": 31
        }
      ]
    },
    {
      "cell_type": "code",
      "metadata": {
        "id": "j7Id_-Yi1mBh"
      },
      "source": [
        ""
      ],
      "execution_count": null,
      "outputs": []
    },
    {
      "cell_type": "code",
      "metadata": {
        "id": "HwH9pUzf1l-g"
      },
      "source": [
        ""
      ],
      "execution_count": null,
      "outputs": []
    },
    {
      "cell_type": "code",
      "metadata": {
        "id": "RKMMmMl81l79"
      },
      "source": [
        ""
      ],
      "execution_count": null,
      "outputs": []
    },
    {
      "cell_type": "code",
      "metadata": {
        "id": "2o9KS7kT1l5B"
      },
      "source": [
        ""
      ],
      "execution_count": null,
      "outputs": []
    },
    {
      "cell_type": "code",
      "metadata": {
        "id": "woDyA5ML1l1q"
      },
      "source": [
        ""
      ],
      "execution_count": null,
      "outputs": []
    },
    {
      "cell_type": "markdown",
      "metadata": {
        "id": "jXO2FPDEE-l_"
      },
      "source": [
        "# TImeSeries MLP"
      ]
    },
    {
      "cell_type": "code",
      "metadata": {
        "id": "IcFYYvIN-0AN"
      },
      "source": [
        "train = pd.concat([train, target], axis=1)"
      ],
      "execution_count": 32,
      "outputs": []
    },
    {
      "cell_type": "code",
      "metadata": {
        "id": "ZF5_9STO1GKb"
      },
      "source": [
        "# train = train.drop(['Moons', 'id'], axis=1)"
      ],
      "execution_count": 33,
      "outputs": []
    },
    {
      "cell_type": "code",
      "metadata": {
        "id": "4VdsAQhY4DmT",
        "colab": {
          "base_uri": "https://localhost:8080/"
        },
        "outputId": "13cf4248-d96b-4659-d5db-50a3140c4832"
      },
      "source": [
        "train.shape[0] - (4687)"
      ],
      "execution_count": 34,
      "outputs": [
        {
          "output_type": "execute_result",
          "data": {
            "text/plain": [
              "10000"
            ]
          },
          "metadata": {
            "tags": []
          },
          "execution_count": 34
        }
      ]
    },
    {
      "cell_type": "code",
      "metadata": {
        "id": "ysLsAohLO34r",
        "colab": {
          "base_uri": "https://localhost:8080/"
        },
        "outputId": "471a114d-bb46-4fc1-edd9-96c77a5d74e5"
      },
      "source": [
        "validation_data = train[10000: ]\n",
        "train_data = train[:10000]\n",
        "train_data.shape"
      ],
      "execution_count": 35,
      "outputs": [
        {
          "output_type": "execute_result",
          "data": {
            "text/plain": [
              "(10000, 17)"
            ]
          },
          "metadata": {
            "tags": []
          },
          "execution_count": 35
        }
      ]
    },
    {
      "cell_type": "code",
      "metadata": {
        "colab": {
          "base_uri": "https://localhost:8080/"
        },
        "id": "wrj3XSqmYYBB",
        "outputId": "dfc7eabd-251f-4fa5-d8c9-4149a729be71"
      },
      "source": [
        "features = [f for f in train_data.columns if 'Feature' in f]\n",
        "len(features)"
      ],
      "execution_count": 36,
      "outputs": [
        {
          "output_type": "execute_result",
          "data": {
            "text/plain": [
              "14"
            ]
          },
          "metadata": {
            "tags": []
          },
          "execution_count": 36
        }
      ]
    },
    {
      "cell_type": "markdown",
      "metadata": {
        "id": "poRcC-PmPIws"
      },
      "source": [
        "# TRAINING"
      ]
    },
    {
      "cell_type": "code",
      "metadata": {
        "id": "IAeBShzMO_h8"
      },
      "source": [
        "def scorer(y_test, y_pred):\n",
        "    score = (stats.spearmanr(y_test, y_pred))[0]\n",
        "    # print('Score as calculated for the leader board (っಠ‿ಠ)っ {}'.format(score))\n",
        "    return score"
      ],
      "execution_count": 37,
      "outputs": []
    },
    {
      "cell_type": "code",
      "metadata": {
        "id": "HT8sI09oPMQ2"
      },
      "source": [
        "# train[:10][['Feature_1', 'target_r']]"
      ],
      "execution_count": 38,
      "outputs": []
    },
    {
      "cell_type": "code",
      "metadata": {
        "id": "IgE--0v-7ZKL"
      },
      "source": [
        ""
      ],
      "execution_count": 38,
      "outputs": []
    },
    {
      "cell_type": "code",
      "metadata": {
        "id": "N_hPzUj3TQF9"
      },
      "source": [
        "def split_sequences(sequences, n_steps):\n",
        "    X, y = list(), list()   \n",
        "    for i in range(len(sequences)):\n",
        "# find the end of this pattern\n",
        "        end_ix = i + n_steps\n",
        "# check if we are beyond the dataset\n",
        "        if end_ix > len(sequences):\n",
        "            break\n",
        "# gather input and output parts of the pattern\n",
        "        seq_x, seq_y = sequences[i:end_ix, :-3], sequences[end_ix-1, -3:]\n",
        "        # print(seq_x.shape)\n",
        "        # print(seq_y.shape)\n",
        "        # print(seq_x, seq_y)\n",
        "        X.append(seq_x)\n",
        "        y.append(seq_y)\n",
        "    return np.array(X), np.array(y)\n",
        "\n"
      ],
      "execution_count": 39,
      "outputs": []
    },
    {
      "cell_type": "code",
      "metadata": {
        "id": "DVQm-15LvxgE"
      },
      "source": [
        "train_data_arr = np.array(train_data)\n",
        "validation_data_arr = np.array(validation_data)"
      ],
      "execution_count": 40,
      "outputs": []
    },
    {
      "cell_type": "code",
      "metadata": {
        "id": "MMSwWHAbv1Nz",
        "colab": {
          "base_uri": "https://localhost:8080/"
        },
        "outputId": "f7d99c4b-c225-41c4-d6a4-ed4426065c0c"
      },
      "source": [
        "train_data_arr.shape, validation_data_arr.shape"
      ],
      "execution_count": 41,
      "outputs": [
        {
          "output_type": "execute_result",
          "data": {
            "text/plain": [
              "((10000, 17), (4687, 17))"
            ]
          },
          "metadata": {
            "tags": []
          },
          "execution_count": 41
        }
      ]
    },
    {
      "cell_type": "code",
      "metadata": {
        "id": "zCoDgbLgYybo"
      },
      "source": [
        "%matplotlib inline\n",
        "def plot_metric(history, metric):\n",
        "    train_metrics = history.history[metric]\n",
        "    val_metrics = history.history['val_'+metric]\n",
        "    epochs = range(1, len(train_metrics) + 1)\n",
        "    plt.plot(epochs, train_metrics)\n",
        "    plt.plot(epochs, val_metrics)\n",
        "    plt.title('Training and validation '+ metric)\n",
        "    plt.xlabel(\"Epochs\")\n",
        "    plt.ylabel(metric)\n",
        "    plt.legend([\"train_\"+metric, 'val_'+metric])\n",
        "    plt.show()"
      ],
      "execution_count": 42,
      "outputs": []
    },
    {
      "cell_type": "code",
      "metadata": {
        "id": "mR-XTuWxViYh",
        "colab": {
          "base_uri": "https://localhost:8080/",
          "height": 1000
        },
        "outputId": "fc53e049-7f06-4b44-ed31-0e8808925e65"
      },
      "source": [
        "np.random.seed(60)\n",
        "df = []\n",
        "for i in range(25, 36):\n",
        "    n_steps = i\n",
        "    print( \"TIME STEPS : --------> \" , i)\n",
        "    X_train, y_train = split_sequences(train_data_arr, n_steps)\n",
        "    X_val, y_val = split_sequences(validation_data_arr, n_steps)\n",
        "\n",
        "    n_input = X_train.shape[1] * X_train.shape[2]\n",
        "    X_train = X_train.reshape((X_train.shape[0], n_input))\n",
        "    X_val = X_val.reshape((X_val.shape[0], n_input))\n",
        "\n",
        "    from keras.models import Sequential\n",
        "    from keras.layers import Dense\n",
        "\n",
        "    model = Sequential()\n",
        "    model.add(Dense(1024, activation='sigmoid', input_dim=n_input))\n",
        "    model.add(Dense(512, activation='relu'))\n",
        "    # model.add(Dense(256, activation='relu'))\n",
        "    model.add(Dense(150, activation='relu'))\n",
        "    # model.add(Dense(50, activation='relu'))\n",
        "    model.add(Dense(3))\n",
        "    model.compile(optimizer='rmsprop', loss='mse')\n",
        "\n",
        "\n",
        "    early_stopping = EarlyStopping(monitor='val_loss', mode='min', verbose=1, patience=5)\n",
        "    mcp_save = ModelCheckpoint('./model.hdf5', save_best_only=True, monitor='val_loss', mode='min')\n",
        "\n",
        "    batch_size = 64\n",
        "    epochs = 250\n",
        "\n",
        "    history = model.fit(X_train, y_train, epochs=epochs, batch_size=batch_size,verbose=None, validation_data=(X_val, y_val), \n",
        "                        callbacks=[early_stopping, mcp_save], shuffle=False)\n",
        "\n",
        "    \n",
        "    plot_metric(history, 'loss')\n",
        "    plt.show()\n",
        "\n",
        "    model.load_weights('model.hdf5')\n",
        "    preds= model.predict(X_val, batch_size=batch_size)\n",
        "    cols = ['target_r', 'target_g', 'target_b']\n",
        "    preds = pd.DataFrame(preds, columns=cols)\n",
        "\n",
        "    scores = []\n",
        "    scores.append(n_steps)\n",
        "    scores.append(scorer(y_val[:, 0], preds.target_r))\n",
        "    scores.append(scorer(y_val[:, 1], preds.target_g))\n",
        "    scores.append(scorer(y_val[:, 2], preds.target_b))\n",
        "    df.append(pd.DataFrame(scores))\n",
        "    print(scores)\n",
        "    print(\" \")\n",
        "    print(\" \")\n"
      ],
      "execution_count": 43,
      "outputs": [
        {
          "output_type": "stream",
          "text": [
            "TIME STEPS : -------->  25\n",
            "Epoch 00006: early stopping\n"
          ],
          "name": "stdout"
        },
        {
          "output_type": "display_data",
          "data": {
            "image/png": "[encoded data removed]",
            "text/plain": [
              "<Figure size 432x288 with 1 Axes>"
            ]
          },
          "metadata": {
            "tags": [],
            "needs_background": "light"
          }
        },
        {
          "output_type": "stream",
          "text": [
            "[25, -0.0575363279231588, -0.0365473625204379, 0.04234836696057295]\n",
            " \n",
            " \n",
            "TIME STEPS : -------->  26\n",
            "Epoch 00016: early stopping\n"
          ],
          "name": "stdout"
        },
        {
          "output_type": "display_data",
          "data": {
            "image/png": "[encoded data removed]",
            "text/plain": [
              "<Figure size 432x288 with 1 Axes>"
            ]
          },
          "metadata": {
            "tags": [],
            "needs_background": "light"
          }
        },
        {
          "output_type": "stream",
          "text": [
            "[26, 0.060317504632863804, 0.10127488116155317, 0.09765704278278443]\n",
            " \n",
            " \n",
            "TIME STEPS : -------->  27\n",
            "Epoch 00006: early stopping\n"
          ],
          "name": "stdout"
        },
        {
          "output_type": "display_data",
          "data": {
            "image/png": "[encoded data removed]",
            "text/plain": [
              "<Figure size 432x288 with 1 Axes>"
            ]
          },
          "metadata": {
            "tags": [],
            "needs_background": "light"
          }
        },
        {
          "output_type": "stream",
          "text": [
            "[27, -0.11710145900117791, -0.02979990197905079, 0.01378053797326852]\n",
            " \n",
            " \n",
            "TIME STEPS : -------->  28\n",
            "Epoch 00015: early stopping\n"
          ],
          "name": "stdout"
        },
        {
          "output_type": "display_data",
          "data": {
            "image/png": "[encoded data removed]",
            "text/plain": [
              "<Figure size 432x288 with 1 Axes>"
            ]
          },
          "metadata": {
            "tags": [],
            "needs_background": "light"
          }
        },
        {
          "output_type": "stream",
          "text": [
            "[28, 0.09932784339419552, 0.10154215411552765, 0.10492845915225468]\n",
            " \n",
            " \n",
            "TIME STEPS : -------->  29\n",
            "Epoch 00007: early stopping\n"
          ],
          "name": "stdout"
        },
        {
          "output_type": "display_data",
          "data": {
            "image/png": "[encoded data removed]",
            "text/plain": [
              "<Figure size 432x288 with 1 Axes>"
            ]
          },
          "metadata": {
            "tags": [],
            "needs_background": "light"
          }
        },
        {
          "output_type": "stream",
          "text": [
            "[29, -0.06495631328179989, -0.00707873535595253, 0.058188099637846956]\n",
            " \n",
            " \n",
            "TIME STEPS : -------->  30\n",
            "Epoch 00007: early stopping\n"
          ],
          "name": "stdout"
        },
        {
          "output_type": "display_data",
          "data": {
            "image/png": "[encoded data removed]",
            "text/plain": [
              "<Figure size 432x288 with 1 Axes>"
            ]
          },
          "metadata": {
            "tags": [],
            "needs_background": "light"
          }
        },
        {
          "output_type": "stream",
          "text": [
            "[30, -0.0660549306255161, -0.006270162843322868, 0.058339049858532534]\n",
            " \n",
            " \n",
            "TIME STEPS : -------->  31\n",
            "Epoch 00014: early stopping\n"
          ],
          "name": "stdout"
        },
        {
          "output_type": "display_data",
          "data": {
            "image/png": "[encoded data removed]",
            "text/plain": [
              "<Figure size 432x288 with 1 Axes>"
            ]
          },
          "metadata": {
            "tags": [],
            "needs_background": "light"
          }
        },
        {
          "output_type": "stream",
          "text": [
            "[31, 0.1048355822132185, 0.10241884632251338, 0.1060093944738821]\n",
            " \n",
            " \n",
            "TIME STEPS : -------->  32\n",
            "Epoch 00015: early stopping\n"
          ],
          "name": "stdout"
        },
        {
          "output_type": "display_data",
          "data": {
            "image/png": "[encoded data removed]",
            "text/plain": [
              "<Figure size 432x288 with 1 Axes>"
            ]
          },
          "metadata": {
            "tags": [],
            "needs_background": "light"
          }
        },
        {
          "output_type": "stream",
          "text": [
            "[32, 0.09610861205997966, 0.11976677122699705, 0.11651264667374339]\n",
            " \n",
            " \n",
            "TIME STEPS : -------->  33\n",
            "Epoch 00010: early stopping\n"
          ],
          "name": "stdout"
        },
        {
          "output_type": "display_data",
          "data": {
            "image/png": "[encoded data removed]",
            "text/plain": [
              "<Figure size 432x288 with 1 Axes>"
            ]
          },
          "metadata": {
            "tags": [],
            "needs_background": "light"
          }
        },
        {
          "output_type": "stream",
          "text": [
            "[33, 0.05254995032984739, 0.09505314808484701, 0.10238369302218547]\n",
            " \n",
            " \n",
            "TIME STEPS : -------->  34\n",
            "Epoch 00013: early stopping\n"
          ],
          "name": "stdout"
        },
        {
          "output_type": "display_data",
          "data": {
            "image/png": "[encoded data removed]",
            "text/plain": [
              "<Figure size 432x288 with 1 Axes>"
            ]
          },
          "metadata": {
            "tags": [],
            "needs_background": "light"
          }
        },
        {
          "output_type": "stream",
          "text": [
            "[34, 0.0400508907883092, 0.09428221184840807, 0.10542398674514486]\n",
            " \n",
            " \n",
            "TIME STEPS : -------->  35\n",
            "Epoch 00015: early stopping\n"
          ],
          "name": "stdout"
        },
        {
          "output_type": "display_data",
          "data": {
            "image/png": "[encoded data removed]",
            "text/plain": [
              "<Figure size 432x288 with 1 Axes>"
            ]
          },
          "metadata": {
            "tags": [],
            "needs_background": "light"
          }
        },
        {
          "output_type": "stream",
          "text": [
            "[35, 0.0873539794482366, 0.0965237089027378, 0.09842747925245764]\n",
            " \n",
            " \n"
          ],
          "name": "stdout"
        }
      ]
    },
    {
      "cell_type": "code",
      "metadata": {
        "id": "8S8bAfwlXp1d"
      },
      "source": [
        "# df"
      ],
      "execution_count": 44,
      "outputs": []
    },
    {
      "cell_type": "code",
      "metadata": {
        "id": "RnPAF_k4ajT1"
      },
      "source": [
        "df = pd.concat(df, axis=1)\n",
        "df.columns = df.iloc[0]\n",
        "df.drop(df.index[0], inplace=True)"
      ],
      "execution_count": 45,
      "outputs": []
    },
    {
      "cell_type": "code",
      "metadata": {
        "id": "oyiYYpfgbBu5",
        "colab": {
          "base_uri": "https://localhost:8080/",
          "height": 417
        },
        "outputId": "54180f54-1dbb-4a27-ead8-212a221e5841"
      },
      "source": [
        "df.T"
      ],
      "execution_count": 46,
      "outputs": [
        {
          "output_type": "execute_result",
          "data": {
            "text/html": [
              "<div>\n",
              "<style scoped>\n",
              "    .dataframe tbody tr th:only-of-type {\n",
              "        vertical-align: middle;\n",
              "    }\n",
              "\n",
              "    .dataframe tbody tr th {\n",
              "        vertical-align: top;\n",
              "    }\n",
              "\n",
              "    .dataframe thead th {\n",
              "        text-align: right;\n",
              "    }\n",
              "</style>\n",
              "<table border=\"1\" class=\"dataframe\">\n",
              "  <thead>\n",
              "    <tr style=\"text-align: right;\">\n",
              "      <th></th>\n",
              "      <th>1</th>\n",
              "      <th>2</th>\n",
              "      <th>3</th>\n",
              "    </tr>\n",
              "    <tr>\n",
              "      <th>0</th>\n",
              "      <th></th>\n",
              "      <th></th>\n",
              "      <th></th>\n",
              "    </tr>\n",
              "  </thead>\n",
              "  <tbody>\n",
              "    <tr>\n",
              "      <th>25.0</th>\n",
              "      <td>-0.057536</td>\n",
              "      <td>-0.036547</td>\n",
              "      <td>0.042348</td>\n",
              "    </tr>\n",
              "    <tr>\n",
              "      <th>26.0</th>\n",
              "      <td>0.060318</td>\n",
              "      <td>0.101275</td>\n",
              "      <td>0.097657</td>\n",
              "    </tr>\n",
              "    <tr>\n",
              "      <th>27.0</th>\n",
              "      <td>-0.117101</td>\n",
              "      <td>-0.029800</td>\n",
              "      <td>0.013781</td>\n",
              "    </tr>\n",
              "    <tr>\n",
              "      <th>28.0</th>\n",
              "      <td>0.099328</td>\n",
              "      <td>0.101542</td>\n",
              "      <td>0.104928</td>\n",
              "    </tr>\n",
              "    <tr>\n",
              "      <th>29.0</th>\n",
              "      <td>-0.064956</td>\n",
              "      <td>-0.007079</td>\n",
              "      <td>0.058188</td>\n",
              "    </tr>\n",
              "    <tr>\n",
              "      <th>30.0</th>\n",
              "      <td>-0.066055</td>\n",
              "      <td>-0.006270</td>\n",
              "      <td>0.058339</td>\n",
              "    </tr>\n",
              "    <tr>\n",
              "      <th>31.0</th>\n",
              "      <td>0.104836</td>\n",
              "      <td>0.102419</td>\n",
              "      <td>0.106009</td>\n",
              "    </tr>\n",
              "    <tr>\n",
              "      <th>32.0</th>\n",
              "      <td>0.096109</td>\n",
              "      <td>0.119767</td>\n",
              "      <td>0.116513</td>\n",
              "    </tr>\n",
              "    <tr>\n",
              "      <th>33.0</th>\n",
              "      <td>0.052550</td>\n",
              "      <td>0.095053</td>\n",
              "      <td>0.102384</td>\n",
              "    </tr>\n",
              "    <tr>\n",
              "      <th>34.0</th>\n",
              "      <td>0.040051</td>\n",
              "      <td>0.094282</td>\n",
              "      <td>0.105424</td>\n",
              "    </tr>\n",
              "    <tr>\n",
              "      <th>35.0</th>\n",
              "      <td>0.087354</td>\n",
              "      <td>0.096524</td>\n",
              "      <td>0.098427</td>\n",
              "    </tr>\n",
              "  </tbody>\n",
              "</table>\n",
              "</div>"
            ],
            "text/plain": [
              "             1         2         3\n",
              "0                                 \n",
              "25.0 -0.057536 -0.036547  0.042348\n",
              "26.0  0.060318  0.101275  0.097657\n",
              "27.0 -0.117101 -0.029800  0.013781\n",
              "28.0  0.099328  0.101542  0.104928\n",
              "29.0 -0.064956 -0.007079  0.058188\n",
              "30.0 -0.066055 -0.006270  0.058339\n",
              "31.0  0.104836  0.102419  0.106009\n",
              "32.0  0.096109  0.119767  0.116513\n",
              "33.0  0.052550  0.095053  0.102384\n",
              "34.0  0.040051  0.094282  0.105424\n",
              "35.0  0.087354  0.096524  0.098427"
            ]
          },
          "metadata": {
            "tags": []
          },
          "execution_count": 46
        }
      ]
    },
    {
      "cell_type": "code",
      "metadata": {
        "id": "0T6-SCSYivm7",
        "colab": {
          "base_uri": "https://localhost:8080/"
        },
        "outputId": "b615a5f1-7bb8-444c-809b-661674a15273"
      },
      "source": [
        "df.T.mean(axis=1)"
      ],
      "execution_count": 47,
      "outputs": [
        {
          "output_type": "execute_result",
          "data": {
            "text/plain": [
              "0\n",
              "25.0   -0.017245\n",
              "26.0    0.086416\n",
              "27.0   -0.044374\n",
              "28.0    0.101933\n",
              "29.0   -0.004616\n",
              "30.0   -0.004662\n",
              "31.0    0.104421\n",
              "32.0    0.110796\n",
              "33.0    0.083329\n",
              "34.0    0.079919\n",
              "35.0    0.094102\n",
              "dtype: float64"
            ]
          },
          "metadata": {
            "tags": []
          },
          "execution_count": 47
        }
      ]
    },
    {
      "cell_type": "markdown",
      "metadata": {
        "id": "xM6Vtwnj4-DP"
      },
      "source": [
        "# NEW"
      ]
    },
    {
      "cell_type": "code",
      "metadata": {
        "id": "DoD58bWHl4TT"
      },
      "source": [
        "train = pd.read_csv(train_datalink_X)\n",
        "target = pd.read_csv(train_datalink_y)\n",
        "test = pd.read_csv(hackathon_data_link)"
      ],
      "execution_count": 48,
      "outputs": []
    },
    {
      "cell_type": "code",
      "metadata": {
        "id": "PoNreJ6al4TU"
      },
      "source": [
        "train = pd.concat([train, target], axis=1)\n",
        "# train = train.drop(['id', 'Moons'], axis=1)"
      ],
      "execution_count": 49,
      "outputs": []
    },
    {
      "cell_type": "code",
      "metadata": {
        "colab": {
          "base_uri": "https://localhost:8080/"
        },
        "id": "e4N_B0Uml4TV",
        "outputId": "ff07f93f-f685-4c1c-e531-30e74c7562eb"
      },
      "source": [
        "train.shape"
      ],
      "execution_count": 50,
      "outputs": [
        {
          "output_type": "execute_result",
          "data": {
            "text/plain": [
              "(14687, 17)"
            ]
          },
          "metadata": {
            "tags": []
          },
          "execution_count": 50
        }
      ]
    },
    {
      "cell_type": "code",
      "metadata": {
        "id": "FIqNqm542BkY",
        "colab": {
          "base_uri": "https://localhost:8080/"
        },
        "outputId": "2a161a03-19e2-4517-b627-31116a23a161"
      },
      "source": [
        "features = [f for f in train_data.columns if 'Feature' in f]\n",
        "len(features)"
      ],
      "execution_count": 51,
      "outputs": [
        {
          "output_type": "execute_result",
          "data": {
            "text/plain": [
              "14"
            ]
          },
          "metadata": {
            "tags": []
          },
          "execution_count": 51
        }
      ]
    },
    {
      "cell_type": "code",
      "metadata": {
        "id": "wqOkmqAKl4TW"
      },
      "source": [
        "validation_data = train[10000: ]\n",
        "train_data = train[:10000]"
      ],
      "execution_count": 52,
      "outputs": []
    },
    {
      "cell_type": "code",
      "metadata": {
        "id": "FrtUgIS9i16f",
        "colab": {
          "base_uri": "https://localhost:8080/"
        },
        "outputId": "a1cb8491-3098-47d7-f43f-0f60ae526675"
      },
      "source": [
        "validation_data.shape[0] - 33"
      ],
      "execution_count": 53,
      "outputs": [
        {
          "output_type": "execute_result",
          "data": {
            "text/plain": [
              "4654"
            ]
          },
          "metadata": {
            "tags": []
          },
          "execution_count": 53
        }
      ]
    },
    {
      "cell_type": "code",
      "metadata": {
        "id": "HlQihgvwYzbD"
      },
      "source": [
        ""
      ],
      "execution_count": 53,
      "outputs": []
    },
    {
      "cell_type": "code",
      "metadata": {
        "id": "MONi5CFncH9r",
        "colab": {
          "base_uri": "https://localhost:8080/"
        },
        "outputId": "015cfdb5-8395-4054-f90c-47f6a4c70538"
      },
      "source": [
        "test_merge = validation_data[4655:]\n",
        "test_merge.shape"
      ],
      "execution_count": 54,
      "outputs": [
        {
          "output_type": "execute_result",
          "data": {
            "text/plain": [
              "(32, 17)"
            ]
          },
          "metadata": {
            "tags": []
          },
          "execution_count": 54
        }
      ]
    },
    {
      "cell_type": "code",
      "metadata": {
        "id": "SEplxHsA5aQP",
        "colab": {
          "base_uri": "https://localhost:8080/"
        },
        "outputId": "32e054e3-d672-49e5-d848-71c129dcdba0"
      },
      "source": [
        "test.shape"
      ],
      "execution_count": 55,
      "outputs": [
        {
          "output_type": "execute_result",
          "data": {
            "text/plain": [
              "(12910, 14)"
            ]
          },
          "metadata": {
            "tags": []
          },
          "execution_count": 55
        }
      ]
    },
    {
      "cell_type": "code",
      "metadata": {
        "id": "urPZXRKtcWX8"
      },
      "source": [
        "cols = ['target_r', 'target_g', 'target_b']\n",
        "test_merge.drop(columns=cols, inplace=True)"
      ],
      "execution_count": 56,
      "outputs": []
    },
    {
      "cell_type": "code",
      "metadata": {
        "id": "P_dBWHAwclLn",
        "colab": {
          "base_uri": "https://localhost:8080/"
        },
        "outputId": "4c908d0e-5fb3-44ce-ba30-e7e895438490"
      },
      "source": [
        "validation_data = validation_data[:4655]\n",
        "validation_data.shape"
      ],
      "execution_count": 57,
      "outputs": [
        {
          "output_type": "execute_result",
          "data": {
            "text/plain": [
              "(4655, 17)"
            ]
          },
          "metadata": {
            "tags": []
          },
          "execution_count": 57
        }
      ]
    },
    {
      "cell_type": "code",
      "metadata": {
        "id": "KHwMNbxIb5TZ",
        "colab": {
          "base_uri": "https://localhost:8080/"
        },
        "outputId": "9ebdfc36-dbf0-4b0c-eadf-97e5961cf82e"
      },
      "source": [
        "train_data_arr = np.array(train_data)\n",
        "validation_data_arr = np.array(validation_data)\n",
        "validation_data_arr.shape"
      ],
      "execution_count": 58,
      "outputs": [
        {
          "output_type": "execute_result",
          "data": {
            "text/plain": [
              "(4655, 17)"
            ]
          },
          "metadata": {
            "tags": []
          },
          "execution_count": 58
        }
      ]
    },
    {
      "cell_type": "code",
      "metadata": {
        "id": "8m9gmn2-baw4",
        "colab": {
          "base_uri": "https://localhost:8080/",
          "height": 398
        },
        "outputId": "0ca1c4ce-47ef-4865-ad07-7a93ed3b8091"
      },
      "source": [
        "np.random.seed(60)\n",
        "n_steps = 33\n",
        "X_train, y_train = split_sequences(train_data_arr, n_steps)\n",
        "print(X_train.shape)\n",
        "X_val, y_val = split_sequences(validation_data_arr, n_steps)\n",
        "print(X_val.shape)\n",
        "n_input = X_train.shape[1] * X_train.shape[2]\n",
        "X_train = X_train.reshape((X_train.shape[0], n_input))\n",
        "X_val = X_val.reshape((X_val.shape[0], n_input))\n",
        "\n",
        "from keras.models import Sequential\n",
        "from keras.layers import Dense\n",
        "\n",
        "model = Sequential()\n",
        "model.add(Dense(1024, activation='sigmoid', input_dim=n_input))\n",
        "model.add(Dense(512, activation='relu'))\n",
        "# model.add(Dense(256, activation='relu'))\n",
        "model.add(Dense(150, activation='relu'))\n",
        "# model.add(Dense(50, activation='relu'))\n",
        "model.add(Dense(3))\n",
        "model.compile(optimizer='rmsprop', loss='mse')\n",
        "\n",
        "\n",
        "early_stopping = EarlyStopping(monitor='val_loss', mode='min', verbose=1, patience=5)\n",
        "mcp_save = ModelCheckpoint('./model.hdf5', save_best_only=True, monitor='val_loss', mode='min')\n",
        "\n",
        "batch_size = 64\n",
        "epochs = 250\n",
        "\n",
        "\n",
        "\n",
        "history = model.fit(X_train, y_train, epochs=epochs, batch_size=batch_size,verbose=0, validation_data=(X_val, y_val), \n",
        "                    callbacks=[early_stopping, mcp_save], shuffle=True)\n",
        "\n",
        "\n",
        "plot_metric(history, 'loss')\n",
        "\n",
        "model.load_weights('model.hdf5')\n",
        "preds= model.predict(X_val, batch_size=batch_size)\n",
        "cols = ['target_r', 'target_g', 'target_b']\n",
        "preds = pd.DataFrame(preds, columns=cols)\n",
        "\n",
        "print(scorer(y_val[:, 0], preds.target_r))\n",
        "print(scorer(y_val[:, 1], preds.target_g))\n",
        "print(scorer(y_val[:, 2], preds.target_b))"
      ],
      "execution_count": 59,
      "outputs": [
        {
          "output_type": "stream",
          "text": [
            "(9968, 33, 14)\n",
            "(4623, 33, 14)\n",
            "Epoch 00008: early stopping\n"
          ],
          "name": "stdout"
        },
        {
          "output_type": "display_data",
          "data": {
            "image/png": "[encoded data removed]",
            "text/plain": [
              "<Figure size 432x288 with 1 Axes>"
            ]
          },
          "metadata": {
            "tags": [],
            "needs_background": "light"
          }
        },
        {
          "output_type": "stream",
          "text": [
            "0.0605869376431924\n",
            "0.12496924799329412\n",
            "0.1322327818721643\n"
          ],
          "name": "stdout"
        }
      ]
    },
    {
      "cell_type": "code",
      "metadata": {
        "id": "jiN9Fu7Z2gK1",
        "colab": {
          "base_uri": "https://localhost:8080/"
        },
        "outputId": "e005e723-5e56-447b-b0d6-42a77b3e5d2e"
      },
      "source": [
        "X_val.shape"
      ],
      "execution_count": 60,
      "outputs": [
        {
          "output_type": "execute_result",
          "data": {
            "text/plain": [
              "(4623, 462)"
            ]
          },
          "metadata": {
            "tags": []
          },
          "execution_count": 60
        }
      ]
    },
    {
      "cell_type": "code",
      "metadata": {
        "id": "zH5UDkAAbars",
        "colab": {
          "base_uri": "https://localhost:8080/"
        },
        "outputId": "16b8a455-24da-4daa-e6e9-82aa278c407e"
      },
      "source": [
        "test_data_with_lag = pd.concat([test_merge, test])\n",
        "test_data_with_lag.shape"
      ],
      "execution_count": 61,
      "outputs": [
        {
          "output_type": "execute_result",
          "data": {
            "text/plain": [
              "(12942, 14)"
            ]
          },
          "metadata": {
            "tags": []
          },
          "execution_count": 61
        }
      ]
    },
    {
      "cell_type": "code",
      "metadata": {
        "id": "9sQxUrL23PM2",
        "colab": {
          "base_uri": "https://localhost:8080/"
        },
        "outputId": "68e93b75-395a-4cc9-f5b9-344758375280"
      },
      "source": [
        "test.shape[0]"
      ],
      "execution_count": 62,
      "outputs": [
        {
          "output_type": "execute_result",
          "data": {
            "text/plain": [
              "12910"
            ]
          },
          "metadata": {
            "tags": []
          },
          "execution_count": 62
        }
      ]
    },
    {
      "cell_type": "code",
      "metadata": {
        "id": "xalveW4Xji0K"
      },
      "source": [
        "def split_sequences_for_prediction(sequences, n_steps):\n",
        "    X= list()   \n",
        "    for i in range(len(sequences)):\n",
        "# find the end of this pattern\n",
        "        end_ix = i + n_steps\n",
        "# check if we are beyond the dataset\n",
        "        if end_ix > len(sequences):\n",
        "            break\n",
        "# gather input and output parts of the pattern\n",
        "        seq_x =sequences[i:end_ix]\n",
        "        # print(seq_x)\n",
        "        X.append(seq_x)\n",
        "    return np.array(X)"
      ],
      "execution_count": 63,
      "outputs": []
    },
    {
      "cell_type": "code",
      "metadata": {
        "id": "JOHA1W6qjixU"
      },
      "source": [
        "preds_data = split_sequences_for_prediction(np.array(test_data_with_lag[features]), 33)"
      ],
      "execution_count": 64,
      "outputs": []
    },
    {
      "cell_type": "code",
      "metadata": {
        "id": "LIII01T-lNZn",
        "colab": {
          "base_uri": "https://localhost:8080/"
        },
        "outputId": "1e52a374-8504-417a-b1d0-1feb03b59546"
      },
      "source": [
        "preds_data.shape"
      ],
      "execution_count": 65,
      "outputs": [
        {
          "output_type": "execute_result",
          "data": {
            "text/plain": [
              "(12910, 33, 14)"
            ]
          },
          "metadata": {
            "tags": []
          },
          "execution_count": 65
        }
      ]
    },
    {
      "cell_type": "code",
      "metadata": {
        "id": "fNeU4ysY3eTQ",
        "colab": {
          "base_uri": "https://localhost:8080/"
        },
        "outputId": "f363fa24-7084-4f49-b958-07a8ac1d3e73"
      },
      "source": [
        "n_input"
      ],
      "execution_count": 66,
      "outputs": [
        {
          "output_type": "execute_result",
          "data": {
            "text/plain": [
              "462"
            ]
          },
          "metadata": {
            "tags": []
          },
          "execution_count": 66
        }
      ]
    },
    {
      "cell_type": "code",
      "metadata": {
        "id": "hfc_y3f3j7av",
        "colab": {
          "base_uri": "https://localhost:8080/"
        },
        "outputId": "7e52a0f2-d616-410c-a0b7-9d34a2f049f5"
      },
      "source": [
        "preds_data = preds_data.reshape((preds_data.shape[0], n_input))\n",
        "preds_data.shape"
      ],
      "execution_count": 67,
      "outputs": [
        {
          "output_type": "execute_result",
          "data": {
            "text/plain": [
              "(12910, 462)"
            ]
          },
          "metadata": {
            "tags": []
          },
          "execution_count": 67
        }
      ]
    },
    {
      "cell_type": "code",
      "metadata": {
        "id": "huOGl8Lyj7Xx"
      },
      "source": [
        "prediction = pd.DataFrame(model.predict(preds_data, batch_size=batch_size))\n",
        "prediction.columns = cols"
      ],
      "execution_count": 73,
      "outputs": []
    },
    {
      "cell_type": "code",
      "metadata": {
        "id": "t1fqKFDWABj9"
      },
      "source": [
        "prediction = (rf_mpred + et_mpred + model.predict(preds_data, batch_size=batch_size))/3"
      ],
      "execution_count": 78,
      "outputs": []
    },
    {
      "cell_type": "code",
      "metadata": {
        "id": "KQPmRrQqj7VB"
      },
      "source": [
        "prediction = pd.DataFrame(prediction)\n",
        "prediction.columns = cols"
      ],
      "execution_count": 79,
      "outputs": []
    },
    {
      "cell_type": "code",
      "metadata": {
        "id": "e_OXlGtDktZk",
        "colab": {
          "base_uri": "https://localhost:8080/"
        },
        "outputId": "cc800d81-996b-4f14-a4c9-f4a05f51d01d"
      },
      "source": [
        "prediction['target_g'].nunique()"
      ],
      "execution_count": 80,
      "outputs": [
        {
          "output_type": "execute_result",
          "data": {
            "text/plain": [
              "12910"
            ]
          },
          "metadata": {
            "tags": []
          },
          "execution_count": 80
        }
      ]
    },
    {
      "cell_type": "code",
      "metadata": {
        "colab": {
          "base_uri": "https://localhost:8080/"
        },
        "id": "joJeox0NZR9Y",
        "outputId": "ce5d42b6-9b6f-470a-b8cb-eae6d7b77215"
      },
      "source": [
        "test.shape, prediction.shape"
      ],
      "execution_count": 81,
      "outputs": [
        {
          "output_type": "execute_result",
          "data": {
            "text/plain": [
              "((12910, 14), (12910, 3))"
            ]
          },
          "metadata": {
            "tags": []
          },
          "execution_count": 81
        }
      ]
    },
    {
      "cell_type": "markdown",
      "metadata": {
        "id": "3DRAjG2hPGW7"
      },
      "source": [
        "# Predictions"
      ]
    },
    {
      "cell_type": "code",
      "metadata": {
        "id": "cYyekZi2wXgE",
        "colab": {
          "base_uri": "https://localhost:8080/",
          "height": 762
        },
        "outputId": "5c3d0b8d-ffe4-4bda-cb68-49176ac26938"
      },
      "source": [
        "prediction['target_r'].plot(kind='hist')\n",
        "plt.show()\n",
        "prediction['target_g'].plot(kind='hist')\n",
        "plt.show()\n",
        "prediction['target_b'].plot(kind='hist')\n",
        "plt.show()"
      ],
      "execution_count": 82,
      "outputs": [
        {
          "output_type": "display_data",
          "data": {
            "image/png": "[encoded data removed]",
            "text/plain": [
              "<Figure size 432x288 with 1 Axes>"
            ]
          },
          "metadata": {
            "tags": [],
            "needs_background": "light"
          }
        },
        {
          "output_type": "display_data",
          "data": {
            "image/png": "[encoded data removed]",
            "text/plain": [
              "<Figure size 432x288 with 1 Axes>"
            ]
          },
          "metadata": {
            "tags": [],
            "needs_background": "light"
          }
        },
        {
          "output_type": "display_data",
          "data": {
            "image/png": "[encoded data removed]",
            "text/plain": [
              "<Figure size 432x288 with 1 Axes>"
            ]
          },
          "metadata": {
            "tags": [],
            "needs_background": "light"
          }
        }
      ]
    },
    {
      "cell_type": "code",
      "metadata": {
        "id": "6FvQl9QBerwb",
        "colab": {
          "base_uri": "https://localhost:8080/"
        },
        "outputId": "bb4b26b3-4738-46b4-870e-6a0e94b28880"
      },
      "source": [
        "API_KEY = \"0GIskIC9Rd1I8sMw6nStutbIbMx7AaZzAyNfuMOVAVWgJtNa1IVQHZAD3WPj\" # <- HERE\n",
        "\n",
        "r = requests.post(\"https://tournament.datacrunch.com/api/submission\",\n",
        "    files = {\n",
        "        \"file\": (\"x\", prediction.to_csv().encode('ascii'))\n",
        "    },\n",
        "    data = {\n",
        "        \"apiKey\": API_KEY\n",
        "    },\n",
        ")\n",
        "\n",
        "if r.status_code == 200:\n",
        "    print(\"Submission submitted :)\")\n",
        "elif r.status_code == 423:\n",
        "    print(\"ERR: Submissions are close\")\n",
        "    print(\"You can only submit during rounds eg: Friday 7pm GMT+1 to Sunday midnight GMT+1.\")\n",
        "    print(\"Or the server is currently crunching the submitted files, please wait some time before retrying.\")\n",
        "elif r.status_code == 422:\n",
        "    print(\"ERR: API Key is missing or empty\")\n",
        "    print(\"Did you forget to fill the API_KEY variable?\")\n",
        "elif r.status_code == 404:\n",
        "    print(\"ERR: Unknown API Key\")\n",
        "    print(\"You should check that the provided API key is valid and is the same as the one you've received by email.\")\n",
        "elif r.status_code == 400:\n",
        "    print(\"ERR: The file must not be empty\")\n",
        "    print(\"You have send a empty file.\")\n",
        "elif r.status_code == 401:\n",
        "    print(\"ERR: Your email hasn't been verified\")\n",
        "    print(\"Please verify your email or contact a cruncher.\")\n",
        "elif r.status_code == 429:\n",
        "    print(\"ERR: Too many submissions\")\n",
        "else:\n",
        "    print(\"ERR: Server returned: \" + str(r.status_code))\n",
        "    print(\"Ouch! It seems that we were not expecting this kind of result from the server, if the probleme persist, contact a cruncher.\")"
      ],
      "execution_count": 83,
      "outputs": [
        {
          "output_type": "stream",
          "text": [
            "Submission submitted :)\n"
          ],
          "name": "stdout"
        }
      ]
    },
    {
      "cell_type": "code",
      "metadata": {
        "id": "2WIE4pRQfD7v"
      },
      "source": [
        ""
      ],
      "execution_count": null,
      "outputs": []
    }
  ]
}