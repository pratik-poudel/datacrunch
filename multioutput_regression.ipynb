{
  "nbformat": 4,
  "nbformat_minor": 0,
  "metadata": {
    "colab": {
      "name": "scratchpad",
      "provenance": [],
      "include_colab_link": true
    },
    "kernelspec": {
      "display_name": "Python 3",
      "name": "python3"
    }
  },
  "cells": [
    {
      "cell_type": "markdown",
      "metadata": {
        "id": "view-in-github",
        "colab_type": "text"
      },
      "source": [
        "<a href=\"https://colab.research.google.com/github/pratik-poudel/datacrunch/blob/main/multioutput_regression.ipynb\" target=\"_parent\"><img src=\"https://colab.research.google.com/assets/colab-badge.svg\" alt=\"Open In Colab\"/></a>"
      ]
    },
    {
      "cell_type": "code",
      "metadata": {
        "id": "lIYdn1woOS1n"
      },
      "source": [
        "import numpy as np\n",
        "import pandas as pd\n",
        "from collections import defaultdict\n",
        "from tqdm.notebook import tqdm\n",
        "from matplotlib import pyplot as plt\n",
        "import warnings\n",
        "warnings.filterwarnings('ignore')\n",
        "import seaborn as sns\n",
        "import gc\n",
        "# pd.options.display.float_format| = \"{:.2f}\".format\n",
        "pd.options.display.max_columns = 500\n",
        "\n",
        "\n",
        "from sklearn.model_selection import train_test_split\n",
        "from sklearn.metrics import accuracy_score \n",
        "from sklearn.metrics import classification_report , mean_squared_error, make_scorer\n",
        "import requests\n",
        "from scipy import stats\n",
        "from numpy import absolute\n",
        "from numpy import mean\n",
        "from numpy import std\n",
        "\n",
        "import lightgbm as lgb\n",
        "\n",
        "from sklearn.datasets import make_regression\n",
        "from sklearn.linear_model import LinearRegression\n",
        "from sklearn.neighbors import KNeighborsRegressor\n",
        "from sklearn.tree import DecisionTreeRegressor\n",
        "from sklearn.model_selection import cross_val_score\n",
        "from sklearn.model_selection import RepeatedKFold\n",
        "from sklearn.multioutput import RegressorChain\n",
        "from sklearn.multioutput import MultiOutputRegressor\n",
        "from sklearn.ensemble import ExtraTreesRegressor\n",
        "from sklearn.svm import LinearSVR\n"
      ],
      "execution_count": 76,
      "outputs": []
    },
    {
      "cell_type": "code",
      "metadata": {
        "id": "Z3DS9iVpVmxH"
      },
      "source": [
        "train_datalink_X = 'https://tournament.datacrunch.com/data/X_train.csv'  \n",
        "train_datalink_y = 'https://tournament.datacrunch.com/data/y_train.csv'\n",
        "hackathon_data_link = 'https://tournament.datacrunch.com/data/X_test.csv'"
      ],
      "execution_count": 2,
      "outputs": []
    },
    {
      "cell_type": "code",
      "metadata": {
        "id": "tfaiSzgNVova"
      },
      "source": [
        "train = pd.read_csv(train_datalink_X)\n",
        "target = pd.read_csv(train_datalink_y)\n",
        "test = pd.read_csv(hackathon_data_link)"
      ],
      "execution_count": 3,
      "outputs": []
    },
    {
      "cell_type": "code",
      "metadata": {
        "id": "ZRF3kAoeDMIU"
      },
      "source": [
        "features = [f for f in train.columns if 'feature' in f]"
      ],
      "execution_count": 4,
      "outputs": []
    },
    {
      "cell_type": "code",
      "metadata": {
        "id": "7_Dg_uq4DXWG"
      },
      "source": [
        "corr = train[features].corrwith(target['target_r'], method='pearson').abs().sort_values(ascending=False)\n",
        "corr"
      ],
      "execution_count": null,
      "outputs": []
    },
    {
      "cell_type": "code",
      "metadata": {
        "id": "9AR-DWLkgCrm"
      },
      "source": [
        "def scorer(y_test, y_pred):\n",
        "    score = (stats.spearmanr(y_test, y_pred))[0]\n",
        "    print('Score as calculated for the leader board (っಠ‿ಠ)っ {}'.format(score))\n",
        "    # return score"
      ],
      "execution_count": 36,
      "outputs": []
    },
    {
      "cell_type": "code",
      "metadata": {
        "id": "S8kjL8N2f65E",
        "outputId": "87eadefc-93a1-4112-bd53-7cca2c67ca47",
        "colab": {
          "base_uri": "https://localhost:8080/"
        }
      },
      "source": [
        "model = LinearRegression()\n",
        "X_train, X_test, y_train, y_test = train_test_split(train[features], target.target_r, test_size=0.25, shuffle=False)\n",
        "model.fit(X_train, y_train)\n",
        "preds = model.predict(X_test)\n",
        "scorer(y_test, preds)\n",
        "\n",
        "model = LinearRegression()\n",
        "X_train, X_test, y_train, y_test = train_test_split(train[features], target.target_g, test_size=0.25, shuffle=False)\n",
        "model.fit(X_train, y_train)\n",
        "preds = model.predict(X_test)\n",
        "scorer(y_test, preds)\n",
        "\n",
        "model = LinearRegression()\n",
        "X_train, X_test, y_train, y_test = train_test_split(train[features], target.target_b, test_size=0.25, shuffle=False)\n",
        "model.fit(X_train, y_train)\n",
        "preds = model.predict(X_test)\n",
        "scorer(y_test, preds)"
      ],
      "execution_count": 11,
      "outputs": [
        {
          "output_type": "stream",
          "text": [
            "Score as calculated for the leader board (っಠ‿ಠ)っ 0.3588674188152659\n",
            "Score as calculated for the leader board (っಠ‿ಠ)っ 0.5245839475102955\n",
            "Score as calculated for the leader board (っಠ‿ಠ)っ 0.6636931380149564\n"
          ],
          "name": "stdout"
        }
      ]
    },
    {
      "cell_type": "code",
      "metadata": {
        "id": "IMg_ksV8f62H",
        "outputId": "2edebe52-cc31-4163-9ab6-2966a049d575",
        "colab": {
          "base_uri": "https://localhost:8080/"
        }
      },
      "source": [
        "model = KNeighborsRegressor()\n",
        "X_train, X_test, y_train, y_test = train_test_split(train[features], target.target_r, test_size=0.25, shuffle=False)\n",
        "model.fit(X_train, y_train)\n",
        "preds = model.predict(X_test)\n",
        "scorer(y_test, preds)\n",
        "\n",
        "model = KNeighborsRegressor()\n",
        "X_train, X_test, y_train, y_test = train_test_split(train[features], target.target_g, test_size=0.25, shuffle=False)\n",
        "model.fit(X_train, y_train)\n",
        "preds = model.predict(X_test)\n",
        "scorer(y_test, preds)\n",
        "\n",
        "model = KNeighborsRegressor()\n",
        "X_train, X_test, y_train, y_test = train_test_split(train[features], target.target_b, test_size=0.25, shuffle=False)\n",
        "model.fit(X_train, y_train)\n",
        "preds = model.predict(X_test)\n",
        "scorer(y_test, preds)"
      ],
      "execution_count": 13,
      "outputs": [
        {
          "output_type": "stream",
          "text": [
            "Score as calculated for the leader board (っಠ‿ಠ)っ 0.25792564922152506\n",
            "Score as calculated for the leader board (っಠ‿ಠ)っ 0.4424361378254258\n",
            "Score as calculated for the leader board (っಠ‿ಠ)っ 0.6001492609379941\n"
          ],
          "name": "stdout"
        }
      ]
    },
    {
      "cell_type": "code",
      "metadata": {
        "id": "Jk769Kjcf6ze",
        "outputId": "791fcc0f-dcab-437a-b08c-f0d805c1503a",
        "colab": {
          "base_uri": "https://localhost:8080/"
        }
      },
      "source": [
        "model = DecisionTreeRegressor()\n",
        "X_train, X_test, y_train, y_test = train_test_split(train[features], target.target_r, test_size=0.25, shuffle=False)\n",
        "model.fit(X_train, y_train)\n",
        "preds = model.predict(X_test)\n",
        "scorer(y_test, preds)\n",
        "\n",
        "model = DecisionTreeRegressor()\n",
        "X_train, X_test, y_train, y_test = train_test_split(train[features], target.target_g, test_size=0.25, shuffle=False)\n",
        "model.fit(X_train, y_train)\n",
        "preds = model.predict(X_test)\n",
        "scorer(y_test, preds)\n",
        "\n",
        "model = DecisionTreeRegressor()\n",
        "X_train, X_test, y_train, y_test = train_test_split(train[features], target.target_b, test_size=0.25, shuffle=False)\n",
        "model.fit(X_train, y_train)\n",
        "preds = model.predict(X_test)\n",
        "scorer(y_test, preds)\n",
        "\n"
      ],
      "execution_count": 15,
      "outputs": [
        {
          "output_type": "stream",
          "text": [
            "Score as calculated for the leader board (っಠ‿ಠ)っ 0.1281471965398208\n",
            "Score as calculated for the leader board (っಠ‿ಠ)っ 0.26094197321986995\n",
            "Score as calculated for the leader board (っಠ‿ಠ)っ 0.42778562668290715\n"
          ],
          "name": "stdout"
        }
      ]
    },
    {
      "cell_type": "code",
      "metadata": {
        "id": "dt18lPMYkFBw"
      },
      "source": [
        "my_scorer = make_scorer(mean_squared_error, greater_is_better=True)"
      ],
      "execution_count": 40,
      "outputs": []
    },
    {
      "cell_type": "code",
      "metadata": {
        "id": "j3_Vljtsf6qg",
        "outputId": "65733d0d-8b78-41c0-8c9e-f7b692498d4d",
        "colab": {
          "base_uri": "https://localhost:8080/"
        }
      },
      "source": [
        "model = LinearRegression()\n",
        "wrapper = RegressorChain(model)\n",
        "cv = RepeatedKFold(n_splits=10, n_repeats=3, random_state=1)\n",
        "n_scores = cross_val_score(wrapper, train[features], target, scoring='neg_mean_absolute_error', cv=cv, n_jobs=-1)\n",
        "n_scores = absolute(n_scores)\n",
        "print('MAE: %.3f (%.3f)' % (mean(n_scores), std(n_scores)))"
      ],
      "execution_count": 43,
      "outputs": [
        {
          "output_type": "stream",
          "text": [
            "MAE: 0.250 (0.001)\n"
          ],
          "name": "stdout"
        }
      ]
    },
    {
      "cell_type": "code",
      "metadata": {
        "id": "YHC1yw1Pf6ng",
        "outputId": "5ae72264-78b3-4d79-fe8a-b4a52bd05d49",
        "colab": {
          "base_uri": "https://localhost:8080/"
        }
      },
      "source": [
        "model = LinearRegression()\n",
        "wrapper = RegressorChain(model)\n",
        "cv = RepeatedKFold(n_splits=10, n_repeats=3, random_state=1)\n",
        "n_scores = cross_val_score(wrapper, train[features], target, scoring=my_scorer, cv=cv, n_jobs=-1)\n",
        "n_scores = absolute(n_scores)\n",
        "print('MAE: %.3f (%.3f)' % (mean(n_scores), std(n_scores)))"
      ],
      "execution_count": 44,
      "outputs": [
        {
          "output_type": "stream",
          "text": [
            "MAE: 0.091 (0.001)\n"
          ],
          "name": "stdout"
        }
      ]
    },
    {
      "cell_type": "code",
      "metadata": {
        "id": "OLR_vonjlqQF"
      },
      "source": [
        "X_train, X_test, y_train, y_test = train_test_split(train[features], target, test_size=0.25, shuffle=False)\n",
        "\n",
        "wrapper.fit(X_train, y_train)\n",
        "preds = wrapper.predict(X_test)"
      ],
      "execution_count": 47,
      "outputs": []
    },
    {
      "cell_type": "code",
      "metadata": {
        "id": "4bMQnCJEmZwT",
        "outputId": "6a3d8340-f544-43a2-9d73-fc2c3fd2af88",
        "colab": {
          "base_uri": "https://localhost:8080/",
          "height": 419
        }
      },
      "source": [
        "y_test['target_r']"
      ],
      "execution_count": 52,
      "outputs": [
        {
          "output_type": "execute_result",
          "data": {
            "text/html": [
              "<div>\n",
              "<style scoped>\n",
              "    .dataframe tbody tr th:only-of-type {\n",
              "        vertical-align: middle;\n",
              "    }\n",
              "\n",
              "    .dataframe tbody tr th {\n",
              "        vertical-align: top;\n",
              "    }\n",
              "\n",
              "    .dataframe thead th {\n",
              "        text-align: right;\n",
              "    }\n",
              "</style>\n",
              "<table border=\"1\" class=\"dataframe\">\n",
              "  <thead>\n",
              "    <tr style=\"text-align: right;\">\n",
              "      <th></th>\n",
              "      <th>target_r</th>\n",
              "      <th>target_g</th>\n",
              "      <th>target_b</th>\n",
              "    </tr>\n",
              "  </thead>\n",
              "  <tbody>\n",
              "    <tr>\n",
              "      <th>68306</th>\n",
              "      <td>0.00</td>\n",
              "      <td>0.25</td>\n",
              "      <td>0.00</td>\n",
              "    </tr>\n",
              "    <tr>\n",
              "      <th>68307</th>\n",
              "      <td>0.00</td>\n",
              "      <td>0.00</td>\n",
              "      <td>0.00</td>\n",
              "    </tr>\n",
              "    <tr>\n",
              "      <th>68308</th>\n",
              "      <td>1.00</td>\n",
              "      <td>1.00</td>\n",
              "      <td>1.00</td>\n",
              "    </tr>\n",
              "    <tr>\n",
              "      <th>68309</th>\n",
              "      <td>0.25</td>\n",
              "      <td>0.00</td>\n",
              "      <td>0.25</td>\n",
              "    </tr>\n",
              "    <tr>\n",
              "      <th>68310</th>\n",
              "      <td>0.50</td>\n",
              "      <td>0.75</td>\n",
              "      <td>0.50</td>\n",
              "    </tr>\n",
              "    <tr>\n",
              "      <th>...</th>\n",
              "      <td>...</td>\n",
              "      <td>...</td>\n",
              "      <td>...</td>\n",
              "    </tr>\n",
              "    <tr>\n",
              "      <th>91070</th>\n",
              "      <td>0.50</td>\n",
              "      <td>0.75</td>\n",
              "      <td>0.75</td>\n",
              "    </tr>\n",
              "    <tr>\n",
              "      <th>91071</th>\n",
              "      <td>0.25</td>\n",
              "      <td>0.50</td>\n",
              "      <td>0.00</td>\n",
              "    </tr>\n",
              "    <tr>\n",
              "      <th>91072</th>\n",
              "      <td>1.00</td>\n",
              "      <td>1.00</td>\n",
              "      <td>0.25</td>\n",
              "    </tr>\n",
              "    <tr>\n",
              "      <th>91073</th>\n",
              "      <td>0.00</td>\n",
              "      <td>1.00</td>\n",
              "      <td>0.75</td>\n",
              "    </tr>\n",
              "    <tr>\n",
              "      <th>91074</th>\n",
              "      <td>1.00</td>\n",
              "      <td>1.00</td>\n",
              "      <td>1.00</td>\n",
              "    </tr>\n",
              "  </tbody>\n",
              "</table>\n",
              "<p>22769 rows × 3 columns</p>\n",
              "</div>"
            ],
            "text/plain": [
              "       target_r  target_g  target_b\n",
              "68306      0.00      0.25      0.00\n",
              "68307      0.00      0.00      0.00\n",
              "68308      1.00      1.00      1.00\n",
              "68309      0.25      0.00      0.25\n",
              "68310      0.50      0.75      0.50\n",
              "...         ...       ...       ...\n",
              "91070      0.50      0.75      0.75\n",
              "91071      0.25      0.50      0.00\n",
              "91072      1.00      1.00      0.25\n",
              "91073      0.00      1.00      0.75\n",
              "91074      1.00      1.00      1.00\n",
              "\n",
              "[22769 rows x 3 columns]"
            ]
          },
          "metadata": {
            "tags": []
          },
          "execution_count": 52
        }
      ]
    },
    {
      "cell_type": "code",
      "metadata": {
        "id": "44frqnJOmGq1",
        "outputId": "474778ea-971c-4685-eb91-7c68ccec1b4a",
        "colab": {
          "base_uri": "https://localhost:8080/"
        }
      },
      "source": [
        "scorer(y_test['target_r'], preds[:, 0])\n",
        "scorer(y_test['target_g'], preds[:, 1])\n",
        "scorer(y_test['target_b'], preds[:, 2])"
      ],
      "execution_count": 54,
      "outputs": [
        {
          "output_type": "stream",
          "text": [
            "Score as calculated for the leader board (っಠ‿ಠ)っ 0.3588674188152659\n",
            "Score as calculated for the leader board (っಠ‿ಠ)っ 0.5245839475102955\n",
            "Score as calculated for the leader board (っಠ‿ಠ)っ 0.6636931380149564\n"
          ],
          "name": "stdout"
        }
      ]
    },
    {
      "cell_type": "code",
      "metadata": {
        "id": "Vz82MLawmKF4"
      },
      "source": [
        ""
      ],
      "execution_count": null,
      "outputs": []
    },
    {
      "cell_type": "code",
      "metadata": {
        "id": "3-5LUyShKBkT",
        "outputId": "72185d0b-ee03-4501-a4b0-107f75614657",
        "colab": {
          "base_uri": "https://localhost:8080/"
        }
      },
      "source": [
        "X_train, X_test, y_train, y_test = train_test_split(train[features], target, test_size=0.25, shuffle=False)\n",
        "import lightgbm as lgb\n",
        "train_set = lgb.Dataset(X_train, y_train)\n",
        "val_set = lgb.Dataset(X_test, y_test)\n",
        "params = {'n_estimators':5000,\n",
        "            'boosting_type': 'gbdt',\n",
        "            'objective': 'regression',\n",
        "            'metric': 'rmse',\n",
        "            'subsample': 0.75,\n",
        "            'subsample_freq': 1,\n",
        "            'learning_rate': 0.01,\n",
        "            'feature_fraction': 0.9,\n",
        "            'max_depth': 15,\n",
        "            'lambda_l1': 1,  \n",
        "            'lambda_l2': 1,\n",
        "            }\n",
        "\n",
        "model = lgb.LGBMRegressor(silent=False, random_state=60)\n",
        "\n",
        "wrapper = MultiOutputRegressor(model)\n",
        "cv = RepeatedKFold(n_splits=3, n_repeats=3, random_state=1)\n",
        "n_scores = cross_val_score(wrapper, train[features], target, scoring=my_scorer, cv=cv, n_jobs=-1)\n",
        "n_scores = absolute(n_scores)\n",
        "print('MAE: %.3f (%.3f)' % (mean(n_scores), std(n_scores)))"
      ],
      "execution_count": 60,
      "outputs": [
        {
          "output_type": "stream",
          "text": [
            "MAE: 0.087 (0.000)\n"
          ],
          "name": "stdout"
        }
      ]
    },
    {
      "cell_type": "code",
      "metadata": {
        "id": "oQuSuVoNKLa7",
        "outputId": "dfa0e365-f5b3-406a-f420-f7bf780878c4",
        "colab": {
          "base_uri": "https://localhost:8080/"
        }
      },
      "source": [
        "X_train, X_test, y_train, y_test = train_test_split(train[features], target, test_size=0.25, shuffle=False)\n",
        "\n",
        "wrapper.fit(X_train, y_train)\n",
        "preds = wrapper.predict(X_test)\n",
        "scorer(y_test['target_r'], preds[:, 0])\n",
        "scorer(y_test['target_g'], preds[:, 1])\n",
        "scorer(y_test['target_b'], preds[:, 2])"
      ],
      "execution_count": 61,
      "outputs": [
        {
          "output_type": "stream",
          "text": [
            "Score as calculated for the leader board (っಠ‿ಠ)っ 0.3547856247035743\n",
            "Score as calculated for the leader board (っಠ‿ಠ)っ 0.511834554155911\n",
            "Score as calculated for the leader board (っಠ‿ಠ)っ 0.6507649902294932\n"
          ],
          "name": "stdout"
        }
      ]
    },
    {
      "cell_type": "code",
      "metadata": {
        "id": "Op09tPbbofmP",
        "outputId": "1410f7fe-a10b-4bf8-8f47-40e7acae6480",
        "colab": {
          "base_uri": "https://localhost:8080/"
        }
      },
      "source": [
        "preds"
      ],
      "execution_count": 62,
      "outputs": [
        {
          "output_type": "execute_result",
          "data": {
            "text/plain": [
              "array([[0.20862003, 0.19444083, 0.19423017],\n",
              "       [0.27179156, 0.28632189, 0.27010145],\n",
              "       [0.63790034, 0.6952335 , 0.7139716 ],\n",
              "       ...,\n",
              "       [0.58902134, 0.68019802, 0.78813988],\n",
              "       [0.68652142, 0.81976789, 0.8368506 ],\n",
              "       [0.7657129 , 0.91132289, 0.84182693]])"
            ]
          },
          "metadata": {
            "tags": []
          },
          "execution_count": 62
        }
      ]
    },
    {
      "cell_type": "code",
      "metadata": {
        "id": "R8rr5vebon9r",
        "outputId": "34fba479-b066-48d5-cdde-9d625bd6e122",
        "colab": {
          "base_uri": "https://localhost:8080/"
        }
      },
      "source": [
        "model = LinearSVR()\n",
        "wrapper = RegressorChain(model, order=[0, 1, 2])\n",
        "cv = RepeatedKFold(n_splits=10, n_repeats=3, random_state=1)\n",
        "n_scores = cross_val_score(wrapper, train[features], target, scoring=my_scorer, cv=cv, n_jobs=-1)\n",
        "n_scores = absolute(n_scores)\n",
        "print('MAE: %.3f (%.3f)' % (mean(n_scores), std(n_scores)))\n",
        "\n",
        "X_train, X_test, y_train, y_test = train_test_split(train[features], target, test_size=0.25, shuffle=False)\n",
        "\n",
        "wrapper.fit(X_train, y_train)\n",
        "preds = wrapper.predict(X_test)\n",
        "scorer(y_test['target_r'], preds[:, 0])\n",
        "scorer(y_test['target_g'], preds[:, 1])\n",
        "scorer(y_test['target_b'], preds[:, 2])"
      ],
      "execution_count": 77,
      "outputs": [
        {
          "output_type": "stream",
          "text": [
            "MAE: 0.094 (0.001)\n",
            "Score as calculated for the leader board (っಠ‿ಠ)っ 0.3619074457838713\n",
            "Score as calculated for the leader board (っಠ‿ಠ)っ 0.5327317296621408\n",
            "Score as calculated for the leader board (っಠ‿ಠ)っ 0.6730638449958025\n"
          ],
          "name": "stdout"
        }
      ]
    },
    {
      "cell_type": "code",
      "metadata": {
        "id": "pU6AskjVsQ6P"
      },
      "source": [
        ""
      ],
      "execution_count": null,
      "outputs": []
    },
    {
      "cell_type": "code",
      "metadata": {
        "id": "YF6dlI1fsQ28"
      },
      "source": [
        ""
      ],
      "execution_count": null,
      "outputs": []
    },
    {
      "cell_type": "code",
      "metadata": {
        "id": "4ml-x_RRo-XD",
        "outputId": "08ce1661-315f-4b6a-934b-e140e16ad161",
        "colab": {
          "base_uri": "https://localhost:8080/"
        }
      },
      "source": [
        "X_train, X_test, y_train, y_test = train_test_split(train[features], target, test_size=0.25, shuffle=False)\n",
        "\n",
        "wrapper.fit(X_train, y_train)\n",
        "preds = wrapper.predict(X_test)\n",
        "scorer(y_test['target_r'], preds[:, 0])\n",
        "scorer(y_test['target_g'], preds[:, 1])\n",
        "scorer(y_test['target_b'], preds[:, 2])"
      ],
      "execution_count": 66,
      "outputs": [
        {
          "output_type": "stream",
          "text": [
            "Score as calculated for the leader board (っಠ‿ಠ)っ 0.32607320160520614\n",
            "Score as calculated for the leader board (っಠ‿ಠ)っ 0.511834554155911\n",
            "Score as calculated for the leader board (っಠ‿ಠ)っ 0.6501142581162036\n"
          ],
          "name": "stdout"
        }
      ]
    },
    {
      "cell_type": "code",
      "metadata": {
        "id": "agM1VozspKjx"
      },
      "source": [
        ""
      ],
      "execution_count": null,
      "outputs": []
    }
  ]
}