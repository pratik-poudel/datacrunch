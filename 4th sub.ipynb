{
  "nbformat": 4,
  "nbformat_minor": 0,
  "metadata": {
    "colab": {
      "name": "scratchpad",
      "provenance": [],
      "machine_shape": "hm",
      "include_colab_link": true
    },
    "kernelspec": {
      "display_name": "Python 3",
      "name": "python3"
    },
    "widgets": {
      "application/vnd.jupyter.widget-state+json": {
        "7ceff476ebdc456d822712fe0f949488": {
          "model_module": "@jupyter-widgets/controls",
          "model_name": "HBoxModel",
          "state": {
            "_view_name": "HBoxView",
            "_dom_classes": [],
            "_model_name": "HBoxModel",
            "_view_module": "@jupyter-widgets/controls",
            "_model_module_version": "1.5.0",
            "_view_count": null,
            "_view_module_version": "1.5.0",
            "box_style": "",
            "layout": "IPY_MODEL_822b8000c3e5407498dea5b5e19a499a",
            "_model_module": "@jupyter-widgets/controls",
            "children": [
              "IPY_MODEL_4f4b9a079613482695e8a0edd6d9e68a",
              "IPY_MODEL_3e321cd2ed8a4034a6035bf63250ffc8"
            ]
          }
        },
        "822b8000c3e5407498dea5b5e19a499a": {
          "model_module": "@jupyter-widgets/base",
          "model_name": "LayoutModel",
          "state": {
            "_view_name": "LayoutView",
            "grid_template_rows": null,
            "right": null,
            "justify_content": null,
            "_view_module": "@jupyter-widgets/base",
            "overflow": null,
            "_model_module_version": "1.2.0",
            "_view_count": null,
            "flex_flow": null,
            "width": null,
            "min_width": null,
            "border": null,
            "align_items": null,
            "bottom": null,
            "_model_module": "@jupyter-widgets/base",
            "top": null,
            "grid_column": null,
            "overflow_y": null,
            "overflow_x": null,
            "grid_auto_flow": null,
            "grid_area": null,
            "grid_template_columns": null,
            "flex": null,
            "_model_name": "LayoutModel",
            "justify_items": null,
            "grid_row": null,
            "max_height": null,
            "align_content": null,
            "visibility": null,
            "align_self": null,
            "height": null,
            "min_height": null,
            "padding": null,
            "grid_auto_rows": null,
            "grid_gap": null,
            "max_width": null,
            "order": null,
            "_view_module_version": "1.2.0",
            "grid_template_areas": null,
            "object_position": null,
            "object_fit": null,
            "grid_auto_columns": null,
            "margin": null,
            "display": null,
            "left": null
          }
        },
        "4f4b9a079613482695e8a0edd6d9e68a": {
          "model_module": "@jupyter-widgets/controls",
          "model_name": "FloatProgressModel",
          "state": {
            "_view_name": "ProgressView",
            "style": "IPY_MODEL_ebed6a18c72a44ae8d630131dbfbfeb8",
            "_dom_classes": [],
            "description": "100%",
            "_model_name": "FloatProgressModel",
            "bar_style": "success",
            "max": 200,
            "_view_module": "@jupyter-widgets/controls",
            "_model_module_version": "1.5.0",
            "value": 200,
            "_view_count": null,
            "_view_module_version": "1.5.0",
            "orientation": "horizontal",
            "min": 0,
            "description_tooltip": null,
            "_model_module": "@jupyter-widgets/controls",
            "layout": "IPY_MODEL_3ef9c67f4d8b4d5c93a463acc09f1822"
          }
        },
        "3e321cd2ed8a4034a6035bf63250ffc8": {
          "model_module": "@jupyter-widgets/controls",
          "model_name": "HTMLModel",
          "state": {
            "_view_name": "HTMLView",
            "style": "IPY_MODEL_9b58a5e1bd0f49caa988b28241aad68c",
            "_dom_classes": [],
            "description": "",
            "_model_name": "HTMLModel",
            "placeholder": "​",
            "_view_module": "@jupyter-widgets/controls",
            "_model_module_version": "1.5.0",
            "value": " 200/200 [22:49&lt;00:00,  6.85s/it]",
            "_view_count": null,
            "_view_module_version": "1.5.0",
            "description_tooltip": null,
            "_model_module": "@jupyter-widgets/controls",
            "layout": "IPY_MODEL_52d7b536300542b59fa642384718b82b"
          }
        },
        "ebed6a18c72a44ae8d630131dbfbfeb8": {
          "model_module": "@jupyter-widgets/controls",
          "model_name": "ProgressStyleModel",
          "state": {
            "_view_name": "StyleView",
            "_model_name": "ProgressStyleModel",
            "description_width": "initial",
            "_view_module": "@jupyter-widgets/base",
            "_model_module_version": "1.5.0",
            "_view_count": null,
            "_view_module_version": "1.2.0",
            "bar_color": null,
            "_model_module": "@jupyter-widgets/controls"
          }
        },
        "3ef9c67f4d8b4d5c93a463acc09f1822": {
          "model_module": "@jupyter-widgets/base",
          "model_name": "LayoutModel",
          "state": {
            "_view_name": "LayoutView",
            "grid_template_rows": null,
            "right": null,
            "justify_content": null,
            "_view_module": "@jupyter-widgets/base",
            "overflow": null,
            "_model_module_version": "1.2.0",
            "_view_count": null,
            "flex_flow": null,
            "width": null,
            "min_width": null,
            "border": null,
            "align_items": null,
            "bottom": null,
            "_model_module": "@jupyter-widgets/base",
            "top": null,
            "grid_column": null,
            "overflow_y": null,
            "overflow_x": null,
            "grid_auto_flow": null,
            "grid_area": null,
            "grid_template_columns": null,
            "flex": null,
            "_model_name": "LayoutModel",
            "justify_items": null,
            "grid_row": null,
            "max_height": null,
            "align_content": null,
            "visibility": null,
            "align_self": null,
            "height": null,
            "min_height": null,
            "padding": null,
            "grid_auto_rows": null,
            "grid_gap": null,
            "max_width": null,
            "order": null,
            "_view_module_version": "1.2.0",
            "grid_template_areas": null,
            "object_position": null,
            "object_fit": null,
            "grid_auto_columns": null,
            "margin": null,
            "display": null,
            "left": null
          }
        },
        "9b58a5e1bd0f49caa988b28241aad68c": {
          "model_module": "@jupyter-widgets/controls",
          "model_name": "DescriptionStyleModel",
          "state": {
            "_view_name": "StyleView",
            "_model_name": "DescriptionStyleModel",
            "description_width": "",
            "_view_module": "@jupyter-widgets/base",
            "_model_module_version": "1.5.0",
            "_view_count": null,
            "_view_module_version": "1.2.0",
            "_model_module": "@jupyter-widgets/controls"
          }
        },
        "52d7b536300542b59fa642384718b82b": {
          "model_module": "@jupyter-widgets/base",
          "model_name": "LayoutModel",
          "state": {
            "_view_name": "LayoutView",
            "grid_template_rows": null,
            "right": null,
            "justify_content": null,
            "_view_module": "@jupyter-widgets/base",
            "overflow": null,
            "_model_module_version": "1.2.0",
            "_view_count": null,
            "flex_flow": null,
            "width": null,
            "min_width": null,
            "border": null,
            "align_items": null,
            "bottom": null,
            "_model_module": "@jupyter-widgets/base",
            "top": null,
            "grid_column": null,
            "overflow_y": null,
            "overflow_x": null,
            "grid_auto_flow": null,
            "grid_area": null,
            "grid_template_columns": null,
            "flex": null,
            "_model_name": "LayoutModel",
            "justify_items": null,
            "grid_row": null,
            "max_height": null,
            "align_content": null,
            "visibility": null,
            "align_self": null,
            "height": null,
            "min_height": null,
            "padding": null,
            "grid_auto_rows": null,
            "grid_gap": null,
            "max_width": null,
            "order": null,
            "_view_module_version": "1.2.0",
            "grid_template_areas": null,
            "object_position": null,
            "object_fit": null,
            "grid_auto_columns": null,
            "margin": null,
            "display": null,
            "left": null
          }
        },
        "832ca866768248f69617e7a903446d1d": {
          "model_module": "@jupyter-widgets/controls",
          "model_name": "HBoxModel",
          "state": {
            "_view_name": "HBoxView",
            "_dom_classes": [],
            "_model_name": "HBoxModel",
            "_view_module": "@jupyter-widgets/controls",
            "_model_module_version": "1.5.0",
            "_view_count": null,
            "_view_module_version": "1.5.0",
            "box_style": "",
            "layout": "IPY_MODEL_13e5cc47ca68406ebccba29509b9e3f9",
            "_model_module": "@jupyter-widgets/controls",
            "children": [
              "IPY_MODEL_eac5eebb1b2149c5888a17ce196df561",
              "IPY_MODEL_c3a5ca6c3fd7485e916b2a0ae7d4d254"
            ]
          }
        },
        "13e5cc47ca68406ebccba29509b9e3f9": {
          "model_module": "@jupyter-widgets/base",
          "model_name": "LayoutModel",
          "state": {
            "_view_name": "LayoutView",
            "grid_template_rows": null,
            "right": null,
            "justify_content": null,
            "_view_module": "@jupyter-widgets/base",
            "overflow": null,
            "_model_module_version": "1.2.0",
            "_view_count": null,
            "flex_flow": null,
            "width": null,
            "min_width": null,
            "border": null,
            "align_items": null,
            "bottom": null,
            "_model_module": "@jupyter-widgets/base",
            "top": null,
            "grid_column": null,
            "overflow_y": null,
            "overflow_x": null,
            "grid_auto_flow": null,
            "grid_area": null,
            "grid_template_columns": null,
            "flex": null,
            "_model_name": "LayoutModel",
            "justify_items": null,
            "grid_row": null,
            "max_height": null,
            "align_content": null,
            "visibility": null,
            "align_self": null,
            "height": null,
            "min_height": null,
            "padding": null,
            "grid_auto_rows": null,
            "grid_gap": null,
            "max_width": null,
            "order": null,
            "_view_module_version": "1.2.0",
            "grid_template_areas": null,
            "object_position": null,
            "object_fit": null,
            "grid_auto_columns": null,
            "margin": null,
            "display": null,
            "left": null
          }
        },
        "eac5eebb1b2149c5888a17ce196df561": {
          "model_module": "@jupyter-widgets/controls",
          "model_name": "FloatProgressModel",
          "state": {
            "_view_name": "ProgressView",
            "style": "IPY_MODEL_64790e252b6a4f3c89125e9e367b3151",
            "_dom_classes": [],
            "description": "100%",
            "_model_name": "FloatProgressModel",
            "bar_style": "success",
            "max": 200,
            "_view_module": "@jupyter-widgets/controls",
            "_model_module_version": "1.5.0",
            "value": 200,
            "_view_count": null,
            "_view_module_version": "1.5.0",
            "orientation": "horizontal",
            "min": 0,
            "description_tooltip": null,
            "_model_module": "@jupyter-widgets/controls",
            "layout": "IPY_MODEL_6b867e2b27274b36b3027907fe8e9135"
          }
        },
        "c3a5ca6c3fd7485e916b2a0ae7d4d254": {
          "model_module": "@jupyter-widgets/controls",
          "model_name": "HTMLModel",
          "state": {
            "_view_name": "HTMLView",
            "style": "IPY_MODEL_2ae1cefe1e944a7f922f4737d107be53",
            "_dom_classes": [],
            "description": "",
            "_model_name": "HTMLModel",
            "placeholder": "​",
            "_view_module": "@jupyter-widgets/controls",
            "_model_module_version": "1.5.0",
            "value": " 200/200 [06:25&lt;00:00,  1.93s/it]",
            "_view_count": null,
            "_view_module_version": "1.5.0",
            "description_tooltip": null,
            "_model_module": "@jupyter-widgets/controls",
            "layout": "IPY_MODEL_0eadb6c9fe574665a7ad2090602f1971"
          }
        },
        "64790e252b6a4f3c89125e9e367b3151": {
          "model_module": "@jupyter-widgets/controls",
          "model_name": "ProgressStyleModel",
          "state": {
            "_view_name": "StyleView",
            "_model_name": "ProgressStyleModel",
            "description_width": "initial",
            "_view_module": "@jupyter-widgets/base",
            "_model_module_version": "1.5.0",
            "_view_count": null,
            "_view_module_version": "1.2.0",
            "bar_color": null,
            "_model_module": "@jupyter-widgets/controls"
          }
        },
        "6b867e2b27274b36b3027907fe8e9135": {
          "model_module": "@jupyter-widgets/base",
          "model_name": "LayoutModel",
          "state": {
            "_view_name": "LayoutView",
            "grid_template_rows": null,
            "right": null,
            "justify_content": null,
            "_view_module": "@jupyter-widgets/base",
            "overflow": null,
            "_model_module_version": "1.2.0",
            "_view_count": null,
            "flex_flow": null,
            "width": null,
            "min_width": null,
            "border": null,
            "align_items": null,
            "bottom": null,
            "_model_module": "@jupyter-widgets/base",
            "top": null,
            "grid_column": null,
            "overflow_y": null,
            "overflow_x": null,
            "grid_auto_flow": null,
            "grid_area": null,
            "grid_template_columns": null,
            "flex": null,
            "_model_name": "LayoutModel",
            "justify_items": null,
            "grid_row": null,
            "max_height": null,
            "align_content": null,
            "visibility": null,
            "align_self": null,
            "height": null,
            "min_height": null,
            "padding": null,
            "grid_auto_rows": null,
            "grid_gap": null,
            "max_width": null,
            "order": null,
            "_view_module_version": "1.2.0",
            "grid_template_areas": null,
            "object_position": null,
            "object_fit": null,
            "grid_auto_columns": null,
            "margin": null,
            "display": null,
            "left": null
          }
        },
        "2ae1cefe1e944a7f922f4737d107be53": {
          "model_module": "@jupyter-widgets/controls",
          "model_name": "DescriptionStyleModel",
          "state": {
            "_view_name": "StyleView",
            "_model_name": "DescriptionStyleModel",
            "description_width": "",
            "_view_module": "@jupyter-widgets/base",
            "_model_module_version": "1.5.0",
            "_view_count": null,
            "_view_module_version": "1.2.0",
            "_model_module": "@jupyter-widgets/controls"
          }
        },
        "0eadb6c9fe574665a7ad2090602f1971": {
          "model_module": "@jupyter-widgets/base",
          "model_name": "LayoutModel",
          "state": {
            "_view_name": "LayoutView",
            "grid_template_rows": null,
            "right": null,
            "justify_content": null,
            "_view_module": "@jupyter-widgets/base",
            "overflow": null,
            "_model_module_version": "1.2.0",
            "_view_count": null,
            "flex_flow": null,
            "width": null,
            "min_width": null,
            "border": null,
            "align_items": null,
            "bottom": null,
            "_model_module": "@jupyter-widgets/base",
            "top": null,
            "grid_column": null,
            "overflow_y": null,
            "overflow_x": null,
            "grid_auto_flow": null,
            "grid_area": null,
            "grid_template_columns": null,
            "flex": null,
            "_model_name": "LayoutModel",
            "justify_items": null,
            "grid_row": null,
            "max_height": null,
            "align_content": null,
            "visibility": null,
            "align_self": null,
            "height": null,
            "min_height": null,
            "padding": null,
            "grid_auto_rows": null,
            "grid_gap": null,
            "max_width": null,
            "order": null,
            "_view_module_version": "1.2.0",
            "grid_template_areas": null,
            "object_position": null,
            "object_fit": null,
            "grid_auto_columns": null,
            "margin": null,
            "display": null,
            "left": null
          }
        },
        "00f04531a6db4a61a9345e26df9db5f5": {
          "model_module": "@jupyter-widgets/controls",
          "model_name": "HBoxModel",
          "state": {
            "_view_name": "HBoxView",
            "_dom_classes": [],
            "_model_name": "HBoxModel",
            "_view_module": "@jupyter-widgets/controls",
            "_model_module_version": "1.5.0",
            "_view_count": null,
            "_view_module_version": "1.5.0",
            "box_style": "",
            "layout": "IPY_MODEL_5a33c8c30ef74714a31afa88319dab1e",
            "_model_module": "@jupyter-widgets/controls",
            "children": [
              "IPY_MODEL_deff9101bd7a40efa8fc3df7dc5f778f",
              "IPY_MODEL_d731db48f844414d9b9e3718a4a73f1b"
            ]
          }
        },
        "5a33c8c30ef74714a31afa88319dab1e": {
          "model_module": "@jupyter-widgets/base",
          "model_name": "LayoutModel",
          "state": {
            "_view_name": "LayoutView",
            "grid_template_rows": null,
            "right": null,
            "justify_content": null,
            "_view_module": "@jupyter-widgets/base",
            "overflow": null,
            "_model_module_version": "1.2.0",
            "_view_count": null,
            "flex_flow": null,
            "width": null,
            "min_width": null,
            "border": null,
            "align_items": null,
            "bottom": null,
            "_model_module": "@jupyter-widgets/base",
            "top": null,
            "grid_column": null,
            "overflow_y": null,
            "overflow_x": null,
            "grid_auto_flow": null,
            "grid_area": null,
            "grid_template_columns": null,
            "flex": null,
            "_model_name": "LayoutModel",
            "justify_items": null,
            "grid_row": null,
            "max_height": null,
            "align_content": null,
            "visibility": null,
            "align_self": null,
            "height": null,
            "min_height": null,
            "padding": null,
            "grid_auto_rows": null,
            "grid_gap": null,
            "max_width": null,
            "order": null,
            "_view_module_version": "1.2.0",
            "grid_template_areas": null,
            "object_position": null,
            "object_fit": null,
            "grid_auto_columns": null,
            "margin": null,
            "display": null,
            "left": null
          }
        },
        "deff9101bd7a40efa8fc3df7dc5f778f": {
          "model_module": "@jupyter-widgets/controls",
          "model_name": "FloatProgressModel",
          "state": {
            "_view_name": "ProgressView",
            "style": "IPY_MODEL_72ea970d981a444f8f42960345579c34",
            "_dom_classes": [],
            "description": "100%",
            "_model_name": "FloatProgressModel",
            "bar_style": "success",
            "max": 200,
            "_view_module": "@jupyter-widgets/controls",
            "_model_module_version": "1.5.0",
            "value": 200,
            "_view_count": null,
            "_view_module_version": "1.5.0",
            "orientation": "horizontal",
            "min": 0,
            "description_tooltip": null,
            "_model_module": "@jupyter-widgets/controls",
            "layout": "IPY_MODEL_a48af6efc2cb4f8895127b0ec84b3dac"
          }
        },
        "d731db48f844414d9b9e3718a4a73f1b": {
          "model_module": "@jupyter-widgets/controls",
          "model_name": "HTMLModel",
          "state": {
            "_view_name": "HTMLView",
            "style": "IPY_MODEL_a5da3fe03d8f44dba3897be87de80ffb",
            "_dom_classes": [],
            "description": "",
            "_model_name": "HTMLModel",
            "placeholder": "​",
            "_view_module": "@jupyter-widgets/controls",
            "_model_module_version": "1.5.0",
            "value": " 200/200 [02:43&lt;00:00,  1.22it/s]",
            "_view_count": null,
            "_view_module_version": "1.5.0",
            "description_tooltip": null,
            "_model_module": "@jupyter-widgets/controls",
            "layout": "IPY_MODEL_b82d49f505c04b9cbeb073e132e9dd03"
          }
        },
        "72ea970d981a444f8f42960345579c34": {
          "model_module": "@jupyter-widgets/controls",
          "model_name": "ProgressStyleModel",
          "state": {
            "_view_name": "StyleView",
            "_model_name": "ProgressStyleModel",
            "description_width": "initial",
            "_view_module": "@jupyter-widgets/base",
            "_model_module_version": "1.5.0",
            "_view_count": null,
            "_view_module_version": "1.2.0",
            "bar_color": null,
            "_model_module": "@jupyter-widgets/controls"
          }
        },
        "a48af6efc2cb4f8895127b0ec84b3dac": {
          "model_module": "@jupyter-widgets/base",
          "model_name": "LayoutModel",
          "state": {
            "_view_name": "LayoutView",
            "grid_template_rows": null,
            "right": null,
            "justify_content": null,
            "_view_module": "@jupyter-widgets/base",
            "overflow": null,
            "_model_module_version": "1.2.0",
            "_view_count": null,
            "flex_flow": null,
            "width": null,
            "min_width": null,
            "border": null,
            "align_items": null,
            "bottom": null,
            "_model_module": "@jupyter-widgets/base",
            "top": null,
            "grid_column": null,
            "overflow_y": null,
            "overflow_x": null,
            "grid_auto_flow": null,
            "grid_area": null,
            "grid_template_columns": null,
            "flex": null,
            "_model_name": "LayoutModel",
            "justify_items": null,
            "grid_row": null,
            "max_height": null,
            "align_content": null,
            "visibility": null,
            "align_self": null,
            "height": null,
            "min_height": null,
            "padding": null,
            "grid_auto_rows": null,
            "grid_gap": null,
            "max_width": null,
            "order": null,
            "_view_module_version": "1.2.0",
            "grid_template_areas": null,
            "object_position": null,
            "object_fit": null,
            "grid_auto_columns": null,
            "margin": null,
            "display": null,
            "left": null
          }
        },
        "a5da3fe03d8f44dba3897be87de80ffb": {
          "model_module": "@jupyter-widgets/controls",
          "model_name": "DescriptionStyleModel",
          "state": {
            "_view_name": "StyleView",
            "_model_name": "DescriptionStyleModel",
            "description_width": "",
            "_view_module": "@jupyter-widgets/base",
            "_model_module_version": "1.5.0",
            "_view_count": null,
            "_view_module_version": "1.2.0",
            "_model_module": "@jupyter-widgets/controls"
          }
        },
        "b82d49f505c04b9cbeb073e132e9dd03": {
          "model_module": "@jupyter-widgets/base",
          "model_name": "LayoutModel",
          "state": {
            "_view_name": "LayoutView",
            "grid_template_rows": null,
            "right": null,
            "justify_content": null,
            "_view_module": "@jupyter-widgets/base",
            "overflow": null,
            "_model_module_version": "1.2.0",
            "_view_count": null,
            "flex_flow": null,
            "width": null,
            "min_width": null,
            "border": null,
            "align_items": null,
            "bottom": null,
            "_model_module": "@jupyter-widgets/base",
            "top": null,
            "grid_column": null,
            "overflow_y": null,
            "overflow_x": null,
            "grid_auto_flow": null,
            "grid_area": null,
            "grid_template_columns": null,
            "flex": null,
            "_model_name": "LayoutModel",
            "justify_items": null,
            "grid_row": null,
            "max_height": null,
            "align_content": null,
            "visibility": null,
            "align_self": null,
            "height": null,
            "min_height": null,
            "padding": null,
            "grid_auto_rows": null,
            "grid_gap": null,
            "max_width": null,
            "order": null,
            "_view_module_version": "1.2.0",
            "grid_template_areas": null,
            "object_position": null,
            "object_fit": null,
            "grid_auto_columns": null,
            "margin": null,
            "display": null,
            "left": null
          }
        }
      }
    }
  },
  "cells": [
    {
      "cell_type": "markdown",
      "metadata": {
        "id": "view-in-github",
        "colab_type": "text"
      },
      "source": [
        "<a href=\"https://colab.research.google.com/github/pratik-poudel/datacrunch/blob/main/4th%20sub.ipynb\" target=\"_parent\"><img src=\"https://colab.research.google.com/assets/colab-badge.svg\" alt=\"Open In Colab\"/></a>"
      ]
    },
    {
      "cell_type": "code",
      "metadata": {
        "id": "lIYdn1woOS1n"
      },
      "source": [
        "import numpy as np\n",
        "import pandas as pd\n",
        "from collections import defaultdict\n",
        "from tqdm.notebook import tqdm\n",
        "from matplotlib import pyplot as plt\n",
        "import warnings\n",
        "warnings.filterwarnings('ignore')\n",
        "import seaborn as sns\n",
        "import gc\n",
        "# pd.options.display.float_format| = \"{:.2f}\".format\n",
        "pd.options.display.max_columns = 500\n",
        "\n",
        "\n",
        "from sklearn.model_selection import train_test_split\n",
        "from sklearn.metrics import accuracy_score \n",
        "from sklearn.metrics import classification_report \n",
        "import requests\n",
        "from scipy import stats\n",
        "\n",
        "import lightgbm as lgb"
      ],
      "execution_count": 30,
      "outputs": []
    },
    {
      "cell_type": "code",
      "metadata": {
        "id": "-Fp6KUxlw_3G"
      },
      "source": [
        "train_datalink_X = 'https://tournament.datacrunch.com/data/X_train.csv'  \n",
        "train_datalink_y = 'https://tournament.datacrunch.com/data/y_train.csv'\n",
        "hackathon_data_link = 'https://tournament.datacrunch.com/data/X_test.csv'"
      ],
      "execution_count": 119,
      "outputs": []
    },
    {
      "cell_type": "code",
      "metadata": {
        "id": "EH7b596jxFEG"
      },
      "source": [
        "train = pd.read_csv(train_datalink_X)\n",
        "target = pd.read_csv(train_datalink_y)\n",
        "test = pd.read_csv(hackathon_data_link)"
      ],
      "execution_count": 120,
      "outputs": []
    },
    {
      "cell_type": "code",
      "metadata": {
        "id": "iWoVyOBLB7UP",
        "outputId": "b807d4eb-4443-42ca-cae4-a6355d9c487f",
        "colab": {
          "base_uri": "https://localhost:8080/"
        }
      },
      "source": [
        "train.shape"
      ],
      "execution_count": 121,
      "outputs": [
        {
          "output_type": "execute_result",
          "data": {
            "text/plain": [
              "(91075, 31)"
            ]
          },
          "metadata": {
            "tags": []
          },
          "execution_count": 121
        }
      ]
    },
    {
      "cell_type": "code",
      "metadata": {
        "id": "IcFYYvIN-0AN"
      },
      "source": [
        "train = pd.concat([train, target], axis=1)"
      ],
      "execution_count": 122,
      "outputs": []
    },
    {
      "cell_type": "code",
      "metadata": {
        "id": "QdeogpHsF7nG",
        "outputId": "3ca0043c-681c-4c63-d278-e90e94c5e033",
        "colab": {
          "base_uri": "https://localhost:8080/"
        }
      },
      "source": [
        "features = [f for f in train.columns if 'feature' in f]\n",
        "len(features)"
      ],
      "execution_count": 123,
      "outputs": [
        {
          "output_type": "execute_result",
          "data": {
            "text/plain": [
              "29"
            ]
          },
          "metadata": {
            "tags": []
          },
          "execution_count": 123
        }
      ]
    },
    {
      "cell_type": "code",
      "metadata": {
        "id": "TNaQgP8XFtFy"
      },
      "source": [
        ""
      ],
      "execution_count": 108,
      "outputs": []
    },
    {
      "cell_type": "code",
      "metadata": {
        "id": "Z2iIAwwaKpxk",
        "outputId": "01a33882-cf34-44fc-dd67-5bd92a85ec11",
        "colab": {
          "base_uri": "https://localhost:8080/"
        }
      },
      "source": [
        ""
      ],
      "execution_count": 109,
      "outputs": [
        {
          "output_type": "execute_result",
          "data": {
            "text/plain": [
              "((68306, 122), (22769, 122))"
            ]
          },
          "metadata": {
            "tags": []
          },
          "execution_count": 109
        }
      ]
    },
    {
      "cell_type": "code",
      "metadata": {
        "id": "s4DlXeIKCIiC"
      },
      "source": [
        "# valid = train[train['moons'] > 34]\n",
        "# valid = valid.reset_index(drop=True)\n",
        "\n",
        "# train = train[train['moons'] <= 34]\n",
        "# train.reset_index(drop=True, inplace=True)\n",
        "\n",
        "# cols_drop = ['id', 'moons']\n",
        "# train.drop(columns= cols_drop, inplace=True)\n",
        "# valid.drop(columns= cols_drop, inplace=True)\n"
      ],
      "execution_count": 28,
      "outputs": []
    },
    {
      "cell_type": "code",
      "metadata": {
        "id": "i4M8akJNOSQ3"
      },
      "source": [
        "!pip install optuna"
      ],
      "execution_count": null,
      "outputs": []
    },
    {
      "cell_type": "code",
      "metadata": {
        "id": "IAeBShzMO_h8"
      },
      "source": [
        "def scorer(y_test, y_pred):\n",
        "    score = (stats.spearmanr(y_test, y_pred))[0]\n",
        "    print('Score as calculated for the leader board (っಠ‿ಠ)っ {}'.format(score))\n",
        "    return score"
      ],
      "execution_count": 137,
      "outputs": []
    },
    {
      "cell_type": "code",
      "metadata": {
        "id": "hP4Kk6kODkHj"
      },
      "source": [
        "N_TRIALS = 200"
      ],
      "execution_count": 138,
      "outputs": []
    },
    {
      "cell_type": "code",
      "metadata": {
        "colab": {
          "base_uri": "https://localhost:8080/",
          "height": 1000,
          "referenced_widgets": [
            "7ceff476ebdc456d822712fe0f949488",
            "822b8000c3e5407498dea5b5e19a499a",
            "4f4b9a079613482695e8a0edd6d9e68a",
            "3e321cd2ed8a4034a6035bf63250ffc8",
            "ebed6a18c72a44ae8d630131dbfbfeb8",
            "3ef9c67f4d8b4d5c93a463acc09f1822",
            "9b58a5e1bd0f49caa988b28241aad68c",
            "52d7b536300542b59fa642384718b82b"
          ]
        },
        "id": "3mEciuMNBVBl",
        "outputId": "6ea0c669-879e-4029-c045-8d9b774fffe4"
      },
      "source": [
        "import optuna\n",
        "from sklearn.metrics import roc_auc_score\n",
        "\n",
        "X_train, X_test, y_train, y_test = train_test_split(train[features], train['target_r'], test_size=0.25, shuffle=False)\n",
        "print(X_train.shape, X_test.shape)\n",
        "tr_data = lgb.Dataset(X_train, y_train)\n",
        "va_data = lgb.Dataset(X_test, y_test)\n",
        "def objective(trial):    \n",
        "    params = {\n",
        "            'num_leaves': trial.suggest_int('num_leaves', 4, 32),\n",
        "            'boosting_type': 'gbdt',\n",
        "            'objective': 'regression',\n",
        "            'metric': 'rmse',\n",
        "            'max_depth': trial.suggest_int('max_depth', 4, 16),\n",
        "            'min_child_weight': trial.suggest_int('min_child_weight', 1, 16),\n",
        "            'feature_fraction': trial.suggest_uniform('feature_fraction', 0.4, 1.0),\n",
        "            'bagging_fraction': trial.suggest_uniform('bagging_fraction', 0.4, 1.0),\n",
        "            'bagging_freq': trial.suggest_int('bagging_freq', 1, 8),\n",
        "            'min_child_samples': trial.suggest_int('min_child_samples', 4, 80),\n",
        "            'lambda_l1': trial.suggest_loguniform('lambda_l1', 1e-8, 1.0),\n",
        "            'lambda_l2': trial.suggest_loguniform('lambda_l2', 1e-8, 1.0),\n",
        "            'learning_rate' : trial.suggest_uniform('learning_rate', 0.0001, 0.99),\n",
        "            'max_bin': trial.suggest_int('max_bin', 50, 900),\n",
        "            'early_stopping_rounds': 100, \n",
        "            }\n",
        "\n",
        "    model = lgb.train(params, tr_data, valid_sets=[tr_data, va_data], verbose_eval=None, num_boost_round=10000)\n",
        "    score = model.best_score['valid_1']['rmse']\n",
        "    print(score)\n",
        "    val_pred = model.predict(X_test)\n",
        "    spearman_score = scorer(y_test, val_pred)\n",
        "    # from google.colab import output\n",
        "    # output.clear()\n",
        "    return score\n",
        "study = optuna.create_study(direction='minimize')\n",
        "study.optimize(objective, n_trials=N_TRIALS, show_progress_bar= True)\n",
        "\n",
        "print(\"target_r\") \n",
        "display(study.best_params)\n",
        "display(study.best_trial.value)\n"
      ],
      "execution_count": 157,
      "outputs": [
        {
          "output_type": "stream",
          "text": [
            "\u001b[32m[I 2021-03-13 11:50:21,676]\u001b[0m A new study created in memory with name: no-name-eb0cb05b-fa74-4be1-8822-66fcc04baa75\u001b[0m\n"
          ],
          "name": "stderr"
        },
        {
          "output_type": "stream",
          "text": [
            "(68306, 29) (22769, 29)\n"
          ],
          "name": "stdout"
        },
        {
          "output_type": "display_data",
          "data": {
            "application/vnd.jupyter.widget-view+json": {
              "model_id": "7ceff476ebdc456d822712fe0f949488",
              "version_major": 2,
              "version_minor": 0
            },
            "text/plain": [
              "HBox(children=(FloatProgress(value=0.0, max=200.0), HTML(value='')))"
            ]
          },
          "metadata": {
            "tags": []
          }
        },
        {
          "output_type": "stream",
          "text": [
            "0.336117556175449\n",
            "Score as calculated for the leader board (っಠ‿ಠ)っ 0.3605057305943311\n",
            "\u001b[32m[I 2021-03-13 11:50:54,387]\u001b[0m Trial 0 finished with value: 0.336117556175449 and parameters: {'num_leaves': 9, 'max_depth': 12, 'min_child_weight': 1, 'feature_fraction': 0.8357216698282923, 'bagging_fraction': 0.499075379690438, 'bagging_freq': 1, 'min_child_samples': 62, 'lambda_l1': 8.931537494692723e-05, 'lambda_l2': 2.783296284976346e-07, 'learning_rate': 0.0006535141122218853, 'max_bin': 460}. Best is trial 0 with value: 0.336117556175449.\u001b[0m\n",
            "0.3383288116237472\n",
            "Score as calculated for the leader board (っಠ‿ಠ)っ 0.34461720907717275\n",
            "\u001b[32m[I 2021-03-13 11:50:54,923]\u001b[0m Trial 1 finished with value: 0.3383288116237472 and parameters: {'num_leaves': 12, 'max_depth': 8, 'min_child_weight': 12, 'feature_fraction': 0.5906655965015959, 'bagging_fraction': 0.9384474447237755, 'bagging_freq': 4, 'min_child_samples': 73, 'lambda_l1': 0.044715536559149484, 'lambda_l2': 0.11087042366725454, 'learning_rate': 0.7504177612166082, 'max_bin': 522}. Best is trial 0 with value: 0.336117556175449.\u001b[0m\n",
            "0.33681609502324733\n",
            "Score as calculated for the leader board (っಠ‿ಠ)っ 0.3556453688427334\n",
            "\u001b[32m[I 2021-03-13 11:50:55,339]\u001b[0m Trial 2 finished with value: 0.33681609502324733 and parameters: {'num_leaves': 10, 'max_depth': 4, 'min_child_weight': 15, 'feature_fraction': 0.4566887201612756, 'bagging_fraction': 0.5073855318720559, 'bagging_freq': 8, 'min_child_samples': 13, 'lambda_l1': 0.010706130375276858, 'lambda_l2': 0.00017525566237791389, 'learning_rate': 0.4016708340776723, 'max_bin': 257}. Best is trial 0 with value: 0.336117556175449.\u001b[0m\n",
            "0.3391807840897999\n",
            "Score as calculated for the leader board (っಠ‿ಠ)っ 0.3444401424719065\n",
            "\u001b[32m[I 2021-03-13 11:50:55,863]\u001b[0m Trial 3 finished with value: 0.3391807840897999 and parameters: {'num_leaves': 11, 'max_depth': 7, 'min_child_weight': 4, 'feature_fraction': 0.5082298794544353, 'bagging_fraction': 0.8216756110768104, 'bagging_freq': 3, 'min_child_samples': 55, 'lambda_l1': 0.00016165067592027442, 'lambda_l2': 0.00129738998533238, 'learning_rate': 0.881062441504355, 'max_bin': 819}. Best is trial 0 with value: 0.336117556175449.\u001b[0m\n",
            "0.33661984349473245\n",
            "Score as calculated for the leader board (っಠ‿ಠ)っ 0.3570215817559161\n",
            "\u001b[32m[I 2021-03-13 11:50:56,439]\u001b[0m Trial 4 finished with value: 0.33661984349473245 and parameters: {'num_leaves': 16, 'max_depth': 9, 'min_child_weight': 5, 'feature_fraction': 0.6087551706842996, 'bagging_fraction': 0.9623042757388264, 'bagging_freq': 1, 'min_child_samples': 43, 'lambda_l1': 0.016586376357254504, 'lambda_l2': 5.260150240118652e-08, 'learning_rate': 0.38853663096041796, 'max_bin': 640}. Best is trial 0 with value: 0.336117556175449.\u001b[0m\n",
            "0.3357529703742804\n",
            "Score as calculated for the leader board (っಠ‿ಠ)っ 0.3610724643477028\n",
            "\u001b[32m[I 2021-03-13 11:50:57,125]\u001b[0m Trial 5 finished with value: 0.3357529703742804 and parameters: {'num_leaves': 22, 'max_depth': 13, 'min_child_weight': 14, 'feature_fraction': 0.473617468593832, 'bagging_fraction': 0.5620519250904109, 'bagging_freq': 4, 'min_child_samples': 46, 'lambda_l1': 0.0001083073054394759, 'lambda_l2': 6.256148836779948e-08, 'learning_rate': 0.12340973302180136, 'max_bin': 293}. Best is trial 5 with value: 0.3357529703742804.\u001b[0m\n",
            "0.3362152646118807\n",
            "Score as calculated for the leader board (っಠ‿ಠ)っ 0.3593065579196932\n",
            "\u001b[32m[I 2021-03-13 11:50:57,925]\u001b[0m Trial 6 finished with value: 0.3362152646118807 and parameters: {'num_leaves': 4, 'max_depth': 15, 'min_child_weight': 5, 'feature_fraction': 0.7325575078296118, 'bagging_fraction': 0.5303840633052745, 'bagging_freq': 4, 'min_child_samples': 41, 'lambda_l1': 0.1812790007833852, 'lambda_l2': 0.011136065164781528, 'learning_rate': 0.17331760050755865, 'max_bin': 66}. Best is trial 5 with value: 0.3357529703742804.\u001b[0m\n",
            "0.3362062478880971\n",
            "Score as calculated for the leader board (っಠ‿ಠ)っ 0.36044626404964747\n",
            "\u001b[32m[I 2021-03-13 11:50:58,392]\u001b[0m Trial 7 finished with value: 0.3362062478880971 and parameters: {'num_leaves': 6, 'max_depth': 4, 'min_child_weight': 5, 'feature_fraction': 0.4531195484584925, 'bagging_fraction': 0.5342393884711933, 'bagging_freq': 5, 'min_child_samples': 69, 'lambda_l1': 1.1048138693491197e-06, 'lambda_l2': 7.458917364710668e-05, 'learning_rate': 0.3692779986638744, 'max_bin': 301}. Best is trial 5 with value: 0.3357529703742804.\u001b[0m\n",
            "0.3361730537438381\n",
            "Score as calculated for the leader board (っಠ‿ಠ)っ 0.3610862102999961\n",
            "\u001b[32m[I 2021-03-13 11:50:58,822]\u001b[0m Trial 8 finished with value: 0.3361730537438381 and parameters: {'num_leaves': 6, 'max_depth': 8, 'min_child_weight': 2, 'feature_fraction': 0.6416622951610098, 'bagging_fraction': 0.5935421250996529, 'bagging_freq': 2, 'min_child_samples': 62, 'lambda_l1': 0.10825064035452546, 'lambda_l2': 0.0070788971919579545, 'learning_rate': 0.3409722963243222, 'max_bin': 542}. Best is trial 5 with value: 0.3357529703742804.\u001b[0m\n",
            "0.33553342940892783\n",
            "Score as calculated for the leader board (っಠ‿ಠ)っ 0.36353895032628536\n",
            "\u001b[32m[I 2021-03-13 11:51:05,069]\u001b[0m Trial 9 finished with value: 0.33553342940892783 and parameters: {'num_leaves': 27, 'max_depth': 7, 'min_child_weight': 6, 'feature_fraction': 0.5551196372601598, 'bagging_fraction': 0.43489187039377086, 'bagging_freq': 3, 'min_child_samples': 9, 'lambda_l1': 0.003627611787640772, 'lambda_l2': 2.6501977787735232e-05, 'learning_rate': 0.0031605367165074357, 'max_bin': 647}. Best is trial 9 with value: 0.33553342940892783.\u001b[0m\n",
            "0.3388977964371257\n",
            "Score as calculated for the leader board (っಠ‿ಠ)っ 0.3403173641215039\n",
            "\u001b[32m[I 2021-03-13 11:51:05,711]\u001b[0m Trial 10 finished with value: 0.3388977964371257 and parameters: {'num_leaves': 32, 'max_depth': 6, 'min_child_weight': 9, 'feature_fraction': 0.9794903169813796, 'bagging_fraction': 0.4138479988259835, 'bagging_freq': 7, 'min_child_samples': 4, 'lambda_l1': 1.7984367375478633e-08, 'lambda_l2': 2.3854852383974167e-06, 'learning_rate': 0.6388465914652526, 'max_bin': 896}. Best is trial 9 with value: 0.33553342940892783.\u001b[0m\n",
            "0.335351472229629\n",
            "Score as calculated for the leader board (っಠ‿ಠ)っ 0.36387821989655544\n",
            "\u001b[32m[I 2021-03-13 11:51:07,531]\u001b[0m Trial 11 finished with value: 0.335351472229629 and parameters: {'num_leaves': 27, 'max_depth': 12, 'min_child_weight': 16, 'feature_fraction': 0.41955043423201827, 'bagging_fraction': 0.6816641578157298, 'bagging_freq': 6, 'min_child_samples': 25, 'lambda_l1': 0.0002508995092069945, 'lambda_l2': 1.213357750287294e-08, 'learning_rate': 0.021106450318367928, 'max_bin': 711}. Best is trial 11 with value: 0.335351472229629.\u001b[0m\n",
            "0.33532183172219887\n",
            "Score as calculated for the leader board (っಠ‿ಠ)っ 0.364798660352601\n",
            "\u001b[32m[I 2021-03-13 11:51:29,149]\u001b[0m Trial 12 finished with value: 0.33532183172219887 and parameters: {'num_leaves': 28, 'max_depth': 11, 'min_child_weight': 9, 'feature_fraction': 0.4145977544899897, 'bagging_fraction': 0.7136045864864387, 'bagging_freq': 6, 'min_child_samples': 21, 'lambda_l1': 0.0011360398759719267, 'lambda_l2': 4.842727144297071e-06, 'learning_rate': 0.001054357656095991, 'max_bin': 712}. Best is trial 12 with value: 0.33532183172219887.\u001b[0m\n",
            "0.33631137439807396\n",
            "Score as calculated for the leader board (っಠ‿ಠ)っ 0.35725411723415773\n",
            "\u001b[32m[I 2021-03-13 11:51:29,876]\u001b[0m Trial 13 finished with value: 0.33631137439807396 and parameters: {'num_leaves': 32, 'max_depth': 11, 'min_child_weight': 11, 'feature_fraction': 0.4045193083157225, 'bagging_fraction': 0.7300704429185116, 'bagging_freq': 6, 'min_child_samples': 25, 'lambda_l1': 2.904253649652784e-06, 'lambda_l2': 8.843735453642123e-07, 'learning_rate': 0.18290298881021372, 'max_bin': 752}. Best is trial 12 with value: 0.33532183172219887.\u001b[0m\n",
            "0.33579842843956487\n",
            "Score as calculated for the leader board (っಠ‿ಠ)っ 0.36215154960905144\n",
            "\u001b[32m[I 2021-03-13 11:51:33,085]\u001b[0m Trial 14 finished with value: 0.33579842843956487 and parameters: {'num_leaves': 26, 'max_depth': 14, 'min_child_weight': 16, 'feature_fraction': 0.7413740741615249, 'bagging_fraction': 0.6739978313764897, 'bagging_freq': 6, 'min_child_samples': 25, 'lambda_l1': 0.0007688688525229492, 'lambda_l2': 1.087201439896017e-08, 'learning_rate': 0.008759423493775498, 'max_bin': 723}. Best is trial 12 with value: 0.33532183172219887.\u001b[0m\n",
            "0.33529005188116523\n",
            "Score as calculated for the leader board (っಠ‿ಠ)っ 0.36413424778306325\n",
            "\u001b[32m[I 2021-03-13 11:51:33,843]\u001b[0m Trial 15 finished with value: 0.33529005188116523 and parameters: {'num_leaves': 27, 'max_depth': 16, 'min_child_weight': 8, 'feature_fraction': 0.40122873042439794, 'bagging_fraction': 0.7935428621344291, 'bagging_freq': 8, 'min_child_samples': 24, 'lambda_l1': 5.546026767408567e-06, 'lambda_l2': 5.757254031742579e-06, 'learning_rate': 0.11862560166860708, 'max_bin': 878}. Best is trial 15 with value: 0.33529005188116523.\u001b[0m\n",
            "0.3366419114112995\n",
            "Score as calculated for the leader board (っಠ‿ಠ)っ 0.35490332933784463\n",
            "\u001b[32m[I 2021-03-13 11:51:34,553]\u001b[0m Trial 16 finished with value: 0.3366419114112995 and parameters: {'num_leaves': 22, 'max_depth': 15, 'min_child_weight': 8, 'feature_fraction': 0.9451755956841694, 'bagging_fraction': 0.8390310385527999, 'bagging_freq': 8, 'min_child_samples': 19, 'lambda_l1': 4.602394793992613e-06, 'lambda_l2': 8.846675413859759e-06, 'learning_rate': 0.2693044494647733, 'max_bin': 890}. Best is trial 15 with value: 0.33529005188116523.\u001b[0m\n",
            "0.3374169510655924\n",
            "Score as calculated for the leader board (っಠ‿ಠ)っ 0.3487681847710735\n",
            "\u001b[32m[I 2021-03-13 11:51:35,125]\u001b[0m Trial 17 finished with value: 0.3374169510655924 and parameters: {'num_leaves': 30, 'max_depth': 16, 'min_child_weight': 8, 'feature_fraction': 0.40270112772411165, 'bagging_fraction': 0.7863881033085326, 'bagging_freq': 7, 'min_child_samples': 34, 'lambda_l1': 1.486984756861973e-07, 'lambda_l2': 2.7314696176604835e-06, 'learning_rate': 0.5118997694669372, 'max_bin': 865}. Best is trial 15 with value: 0.33529005188116523.\u001b[0m\n",
            "0.33610596760492495\n",
            "Score as calculated for the leader board (っಠ‿ಠ)っ 0.3592358119861516\n",
            "\u001b[32m[I 2021-03-13 11:51:35,853]\u001b[0m Trial 18 finished with value: 0.33610596760492495 and parameters: {'num_leaves': 22, 'max_depth': 10, 'min_child_weight': 10, 'feature_fraction': 0.5135623073830685, 'bagging_fraction': 0.9071094438822469, 'bagging_freq': 7, 'min_child_samples': 15, 'lambda_l1': 2.6228323315082183e-05, 'lambda_l2': 0.00016248172645570908, 'learning_rate': 0.15092778169377175, 'max_bin': 797}. Best is trial 15 with value: 0.33529005188116523.\u001b[0m\n",
            "0.33603279131713015\n",
            "Score as calculated for the leader board (っಠ‿ಠ)っ 0.3611034677499832\n",
            "\u001b[32m[I 2021-03-13 11:51:36,723]\u001b[0m Trial 19 finished with value: 0.33603279131713015 and parameters: {'num_leaves': 19, 'max_depth': 16, 'min_child_weight': 13, 'feature_fraction': 0.8148947011650063, 'bagging_fraction': 0.7305602854898546, 'bagging_freq': 8, 'min_child_samples': 33, 'lambda_l1': 0.9752614203405525, 'lambda_l2': 9.189089414845773e-06, 'learning_rate': 0.08562706162490819, 'max_bin': 634}. Best is trial 15 with value: 0.33529005188116523.\u001b[0m\n",
            "0.33640857142633374\n",
            "Score as calculated for the leader board (っಠ‿ಠ)っ 0.35767238554749536\n",
            "\u001b[32m[I 2021-03-13 11:51:37,359]\u001b[0m Trial 20 finished with value: 0.33640857142633374 and parameters: {'num_leaves': 29, 'max_depth': 13, 'min_child_weight': 7, 'feature_fraction': 0.646733743312536, 'bagging_fraction': 0.6379309991118652, 'bagging_freq': 5, 'min_child_samples': 4, 'lambda_l1': 2.936356337727216e-07, 'lambda_l2': 3.1670277645765427e-07, 'learning_rate': 0.2505692240601193, 'max_bin': 433}. Best is trial 15 with value: 0.33529005188116523.\u001b[0m\n",
            "0.33516534920840163\n",
            "Score as calculated for the leader board (っಠ‿ಠ)っ 0.36651576561707966\n",
            "\u001b[32m[I 2021-03-13 11:51:38,345]\u001b[0m Trial 21 finished with value: 0.33516534920840163 and parameters: {'num_leaves': 25, 'max_depth': 11, 'min_child_weight': 10, 'feature_fraction': 0.41276201958918185, 'bagging_fraction': 0.7689523992082806, 'bagging_freq': 6, 'min_child_samples': 25, 'lambda_l1': 0.0010421848616904926, 'lambda_l2': 1.2938045040088112e-08, 'learning_rate': 0.05204231424796875, 'max_bin': 716}. Best is trial 21 with value: 0.33516534920840163.\u001b[0m\n",
            "0.33513325945523653\n",
            "Score as calculated for the leader board (っಠ‿ಠ)っ 0.36515436507810894\n",
            "\u001b[32m[I 2021-03-13 11:51:39,327]\u001b[0m Trial 22 finished with value: 0.33513325945523653 and parameters: {'num_leaves': 25, 'max_depth': 10, 'min_child_weight': 10, 'feature_fraction': 0.4055632319023876, 'bagging_fraction': 0.764991103975365, 'bagging_freq': 6, 'min_child_samples': 33, 'lambda_l1': 0.0016475120260583303, 'lambda_l2': 0.0007764601778357682, 'learning_rate': 0.06648700943441666, 'max_bin': 813}. Best is trial 22 with value: 0.33513325945523653.\u001b[0m\n",
            "0.33569935919455607\n",
            "Score as calculated for the leader board (っಠ‿ಠ)っ 0.36212422284772666\n",
            "\u001b[32m[I 2021-03-13 11:51:40,316]\u001b[0m Trial 23 finished with value: 0.33569935919455607 and parameters: {'num_leaves': 24, 'max_depth': 10, 'min_child_weight': 11, 'feature_fraction': 0.532652607469993, 'bagging_fraction': 0.8826360216879209, 'bagging_freq': 7, 'min_child_samples': 34, 'lambda_l1': 1.3740780132683006e-05, 'lambda_l2': 0.0015490518121435567, 'learning_rate': 0.0726900712781308, 'max_bin': 850}. Best is trial 22 with value: 0.33513325945523653.\u001b[0m\n",
            "0.3360187325517587\n",
            "Score as calculated for the leader board (っಠ‿ಠ)っ 0.3592227323772525\n",
            "\u001b[32m[I 2021-03-13 11:51:40,898]\u001b[0m Trial 24 finished with value: 0.3360187325517587 and parameters: {'num_leaves': 18, 'max_depth': 9, 'min_child_weight': 10, 'feature_fraction': 0.4703585593373344, 'bagging_fraction': 0.776170092248013, 'bagging_freq': 5, 'min_child_samples': 30, 'lambda_l1': 0.0019154570563729373, 'lambda_l2': 0.7562152161838571, 'learning_rate': 0.23408072694428156, 'max_bin': 783}. Best is trial 22 with value: 0.33513325945523653.\u001b[0m\n",
            "0.33677771652912997\n",
            "Score as calculated for the leader board (っಠ‿ಠ)っ 0.3529519120292945\n",
            "\u001b[32m[I 2021-03-13 11:51:41,437]\u001b[0m Trial 25 finished with value: 0.33677771652912997 and parameters: {'num_leaves': 24, 'max_depth': 11, 'min_child_weight': 7, 'feature_fraction': 0.40182144010293813, 'bagging_fraction': 0.7785991623513847, 'bagging_freq': 7, 'min_child_samples': 39, 'lambda_l1': 1.4823081512203437e-05, 'lambda_l2': 0.0014342884885664544, 'learning_rate': 0.5044465745633547, 'max_bin': 895}. Best is trial 22 with value: 0.33513325945523653.\u001b[0m\n",
            "0.33564771647354685\n",
            "Score as calculated for the leader board (っಠ‿ಠ)っ 0.36144224977270867\n",
            "\u001b[32m[I 2021-03-13 11:51:42,434]\u001b[0m Trial 26 finished with value: 0.33564771647354685 and parameters: {'num_leaves': 25, 'max_depth': 5, 'min_child_weight': 12, 'feature_fraction': 0.4890453890878382, 'bagging_fraction': 0.853051372513048, 'bagging_freq': 8, 'min_child_samples': 51, 'lambda_l1': 0.0003753958917895471, 'lambda_l2': 0.02222764138025985, 'learning_rate': 0.09515021710893562, 'max_bin': 594}. Best is trial 22 with value: 0.33513325945523653.\u001b[0m\n",
            "0.33663800428482465\n",
            "Score as calculated for the leader board (っಠ‿ಠ)っ 0.3553152768378733\n",
            "\u001b[32m[I 2021-03-13 11:51:42,998]\u001b[0m Trial 27 finished with value: 0.33663800428482465 and parameters: {'num_leaves': 20, 'max_depth': 9, 'min_child_weight': 10, 'feature_fraction': 0.4437401059288406, 'bagging_fraction': 0.6296862350034897, 'bagging_freq': 6, 'min_child_samples': 29, 'lambda_l1': 0.006802166582016644, 'lambda_l2': 0.0007185375467177449, 'learning_rate': 0.29864082964470756, 'max_bin': 823}. Best is trial 22 with value: 0.33513325945523653.\u001b[0m\n",
            "0.3360776831013561\n",
            "Score as calculated for the leader board (っಠ‿ಠ)っ 0.360643905548138\n",
            "\u001b[32m[I 2021-03-13 11:51:43,611]\u001b[0m Trial 28 finished with value: 0.3360776831013561 and parameters: {'num_leaves': 16, 'max_depth': 13, 'min_child_weight': 7, 'feature_fraction': 0.5488946523078448, 'bagging_fraction': 0.800476284187563, 'bagging_freq': 5, 'min_child_samples': 18, 'lambda_l1': 5.15484953859886e-05, 'lambda_l2': 0.07795920566874803, 'learning_rate': 0.19798485018838524, 'max_bin': 684}. Best is trial 22 with value: 0.33513325945523653.\u001b[0m\n",
            "0.33614786234326716\n",
            "Score as calculated for the leader board (っಠ‿ಠ)っ 0.35887329199264706\n",
            "\u001b[32m[I 2021-03-13 11:51:45,066]\u001b[0m Trial 29 finished with value: 0.33614786234326716 and parameters: {'num_leaves': 31, 'max_depth': 12, 'min_child_weight': 12, 'feature_fraction': 0.8479047216800386, 'bagging_fraction': 0.8700362975025837, 'bagging_freq': 7, 'min_child_samples': 10, 'lambda_l1': 0.0005927909134796283, 'lambda_l2': 2.723364323988701e-05, 'learning_rate': 0.04688331917302291, 'max_bin': 434}. Best is trial 22 with value: 0.33513325945523653.\u001b[0m\n",
            "0.3371129174476967\n",
            "Score as calculated for the leader board (っಠ‿ಠ)っ 0.35185204292635375\n",
            "\u001b[32m[I 2021-03-13 11:51:45,660]\u001b[0m Trial 30 finished with value: 0.3371129174476967 and parameters: {'num_leaves': 29, 'max_depth': 15, 'min_child_weight': 9, 'feature_fraction': 0.5815525342040713, 'bagging_fraction': 0.7468069570075874, 'bagging_freq': 6, 'min_child_samples': 38, 'lambda_l1': 1.652453731611574e-08, 'lambda_l2': 1.3353015010163174e-07, 'learning_rate': 0.4458092123903596, 'max_bin': 784}. Best is trial 22 with value: 0.33513325945523653.\u001b[0m\n",
            "0.3353242456189603\n",
            "Score as calculated for the leader board (っಠ‿ಠ)っ 0.3646936934670343\n",
            "\u001b[32m[I 2021-03-13 11:51:49,490]\u001b[0m Trial 31 finished with value: 0.3353242456189603 and parameters: {'num_leaves': 28, 'max_depth': 11, 'min_child_weight': 9, 'feature_fraction': 0.40474120979027167, 'bagging_fraction': 0.7076456535651249, 'bagging_freq': 6, 'min_child_samples': 23, 'lambda_l1': 0.0016286757653636178, 'lambda_l2': 6.562889122289213e-07, 'learning_rate': 0.006862388536409537, 'max_bin': 747}. Best is trial 22 with value: 0.33513325945523653.\u001b[0m\n",
            "0.33564339480592065\n",
            "Score as calculated for the leader board (っಠ‿ಠ)っ 0.3612737401925858\n",
            "\u001b[32m[I 2021-03-13 11:51:50,248]\u001b[0m Trial 32 finished with value: 0.33564339480592065 and parameters: {'num_leaves': 24, 'max_depth': 12, 'min_child_weight': 11, 'feature_fraction': 0.436831027733245, 'bagging_fraction': 0.758071534803138, 'bagging_freq': 5, 'min_child_samples': 20, 'lambda_l1': 0.0010550881692616655, 'lambda_l2': 2.731403166136756e-06, 'learning_rate': 0.12032868653297406, 'max_bin': 561}. Best is trial 22 with value: 0.33513325945523653.\u001b[0m\n",
            "0.3352308018912455\n",
            "Score as calculated for the leader board (っಠ‿ಠ)っ 0.36610811440880603\n",
            "\u001b[32m[I 2021-03-13 11:51:51,300]\u001b[0m Trial 33 finished with value: 0.3352308018912455 and parameters: {'num_leaves': 26, 'max_depth': 10, 'min_child_weight': 8, 'feature_fraction': 0.40312277223849213, 'bagging_fraction': 0.6641619054346654, 'bagging_freq': 6, 'min_child_samples': 30, 'lambda_l1': 0.03350115285635009, 'lambda_l2': 0.000391625738173485, 'learning_rate': 0.04666922491966116, 'max_bin': 499}. Best is trial 22 with value: 0.33513325945523653.\u001b[0m\n",
            "0.3356485840103183\n",
            "Score as calculated for the leader board (っಠ‿ಠ)っ 0.3618840049461547\n",
            "\u001b[32m[I 2021-03-13 11:51:52,140]\u001b[0m Trial 34 finished with value: 0.3356485840103183 and parameters: {'num_leaves': 21, 'max_depth': 8, 'min_child_weight': 8, 'feature_fraction': 0.48608930704228537, 'bagging_fraction': 0.6623884881182124, 'bagging_freq': 8, 'min_child_samples': 31, 'lambda_l1': 0.02675740405358388, 'lambda_l2': 0.0002804659777606525, 'learning_rate': 0.0804291661712849, 'max_bin': 328}. Best is trial 22 with value: 0.33513325945523653.\u001b[0m\n",
            "0.3393939044273794\n",
            "Score as calculated for the leader board (っಠ‿ಠ)っ 0.33997598906855236\n",
            "\u001b[32m[I 2021-03-13 11:51:52,793]\u001b[0m Trial 35 finished with value: 0.3393939044273794 and parameters: {'num_leaves': 26, 'max_depth': 10, 'min_child_weight': 7, 'feature_fraction': 0.43858531235432135, 'bagging_fraction': 0.6099089539561431, 'bagging_freq': 3, 'min_child_samples': 46, 'lambda_l1': 0.9093133710761033, 'lambda_l2': 0.003170434868307969, 'learning_rate': 0.859447680363238, 'max_bin': 166}. Best is trial 22 with value: 0.33513325945523653.\u001b[0m\n",
            "0.33617686642429806\n",
            "Score as calculated for the leader board (っಠ‿ಠ)っ 0.3590450343786669\n",
            "\u001b[32m[I 2021-03-13 11:51:53,621]\u001b[0m Trial 36 finished with value: 0.33617686642429806 and parameters: {'num_leaves': 24, 'max_depth': 9, 'min_child_weight': 6, 'feature_fraction': 0.5136061660506355, 'bagging_fraction': 0.9271969164610091, 'bagging_freq': 4, 'min_child_samples': 28, 'lambda_l1': 0.08673611778942808, 'lambda_l2': 0.00051049325970184, 'learning_rate': 0.13876020695369629, 'max_bin': 382}. Best is trial 22 with value: 0.33513325945523653.\u001b[0m\n",
            "0.3360488668567003\n",
            "Score as calculated for the leader board (っಠ‿ಠ)っ 0.3594045079688894\n",
            "\u001b[32m[I 2021-03-13 11:51:54,169]\u001b[0m Trial 37 finished with value: 0.3360488668567003 and parameters: {'num_leaves': 13, 'max_depth': 7, 'min_child_weight': 13, 'feature_fraction': 0.40004389040766886, 'bagging_fraction': 0.8090617366974209, 'bagging_freq': 7, 'min_child_samples': 36, 'lambda_l1': 0.009118004921549778, 'lambda_l2': 4.926990837664076e-05, 'learning_rate': 0.20550685579557207, 'max_bin': 505}. Best is trial 22 with value: 0.33513325945523653.\u001b[0m\n",
            "0.34000173217545315\n",
            "Score as calculated for the leader board (っಠ‿ಠ)っ 0.33444262897544874\n",
            "\u001b[32m[I 2021-03-13 11:51:54,813]\u001b[0m Trial 38 finished with value: 0.34000173217545315 and parameters: {'num_leaves': 30, 'max_depth': 8, 'min_child_weight': 4, 'feature_fraction': 0.4656933325287184, 'bagging_fraction': 0.982887883392675, 'bagging_freq': 5, 'min_child_samples': 15, 'lambda_l1': 0.00010517182647119432, 'lambda_l2': 0.030292988873351866, 'learning_rate': 0.9736732402375172, 'max_bin': 600}. Best is trial 22 with value: 0.33513325945523653.\u001b[0m\n",
            "0.3375208944168601\n",
            "Score as calculated for the leader board (っಠ‿ಠ)っ 0.34862515500922486\n",
            "\u001b[32m[I 2021-03-13 11:51:55,402]\u001b[0m Trial 39 finished with value: 0.3375208944168601 and parameters: {'num_leaves': 23, 'max_depth': 14, 'min_child_weight': 10, 'feature_fraction': 0.43792827718676525, 'bagging_fraction': 0.8275319848247074, 'bagging_freq': 6, 'min_child_samples': 42, 'lambda_l1': 0.37432459151442504, 'lambda_l2': 0.0003598732830869916, 'learning_rate': 0.615786960974521, 'max_bin': 198}. Best is trial 22 with value: 0.33513325945523653.\u001b[0m\n",
            "0.33610644684807184\n",
            "Score as calculated for the leader board (っಠ‿ಠ)っ 0.3597935942149117\n",
            "\u001b[32m[I 2021-03-13 11:51:56,013]\u001b[0m Trial 40 finished with value: 0.33610644684807184 and parameters: {'num_leaves': 26, 'max_depth': 10, 'min_child_weight': 3, 'feature_fraction': 0.5800206220294389, 'bagging_fraction': 0.6979525506284849, 'bagging_freq': 4, 'min_child_samples': 47, 'lambda_l1': 0.006153772762702728, 'lambda_l2': 0.006534841900381399, 'learning_rate': 0.3294745750770719, 'max_bin': 836}. Best is trial 22 with value: 0.33513325945523653.\u001b[0m\n",
            "0.3355221839248132\n",
            "Score as calculated for the leader board (っಠ‿ಠ)っ 0.36283298837656686\n",
            "\u001b[32m[I 2021-03-13 11:51:57,155]\u001b[0m Trial 41 finished with value: 0.3355221839248132 and parameters: {'num_leaves': 27, 'max_depth': 11, 'min_child_weight': 9, 'feature_fraction': 0.41832301891071344, 'bagging_fraction': 0.7283316500023551, 'bagging_freq': 6, 'min_child_samples': 21, 'lambda_l1': 0.04024901733318983, 'lambda_l2': 1.0567964957909415e-05, 'learning_rate': 0.04400336288247759, 'max_bin': 672}. Best is trial 22 with value: 0.33513325945523653.\u001b[0m\n",
            "0.3356108533771971\n",
            "Score as calculated for the leader board (っಠ‿ಠ)っ 0.362400820022919\n",
            "\u001b[32m[I 2021-03-13 11:51:58,372]\u001b[0m Trial 42 finished with value: 0.3356108533771971 and parameters: {'num_leaves': 28, 'max_depth': 9, 'min_child_weight': 8, 'feature_fraction': 0.4830943465710676, 'bagging_fraction': 0.6475030625663412, 'bagging_freq': 6, 'min_child_samples': 27, 'lambda_l1': 0.003666138356159308, 'lambda_l2': 0.00010104482378680822, 'learning_rate': 0.04148210807070897, 'max_bin': 765}. Best is trial 22 with value: 0.33513325945523653.\u001b[0m\n",
            "0.3352495403421204\n",
            "Score as calculated for the leader board (っಠ‿ಠ)っ 0.36492047820178314\n",
            "\u001b[32m[I 2021-03-13 11:52:03,926]\u001b[0m Trial 43 finished with value: 0.3352495403421204 and parameters: {'num_leaves': 29, 'max_depth': 12, 'min_child_weight': 6, 'feature_fraction': 0.40033094406816944, 'bagging_fraction': 0.7543530119511733, 'bagging_freq': 7, 'min_child_samples': 80, 'lambda_l1': 0.016571666898238507, 'lambda_l2': 2.2593984878639256e-08, 'learning_rate': 0.004981093524819069, 'max_bin': 714}. Best is trial 22 with value: 0.33513325945523653.\u001b[0m\n",
            "0.3358650040490971\n",
            "Score as calculated for the leader board (っಠ‿ಠ)っ 0.3603163587373474\n",
            "\u001b[32m[I 2021-03-13 11:52:04,794]\u001b[0m Trial 44 finished with value: 0.3358650040490971 and parameters: {'num_leaves': 30, 'max_depth': 12, 'min_child_weight': 6, 'feature_fraction': 0.44883761257313176, 'bagging_fraction': 0.7560745614209109, 'bagging_freq': 8, 'min_child_samples': 75, 'lambda_l1': 0.015968100270638146, 'lambda_l2': 2.350151601719032e-08, 'learning_rate': 0.11977273006325233, 'max_bin': 494}. Best is trial 22 with value: 0.33513325945523653.\u001b[0m\n",
            "0.33587149830526597\n",
            "Score as calculated for the leader board (っಠ‿ಠ)っ 0.3611769044245528\n",
            "\u001b[32m[I 2021-03-13 11:52:05,456]\u001b[0m Trial 45 finished with value: 0.33587149830526597 and parameters: {'num_leaves': 25, 'max_depth': 13, 'min_child_weight': 5, 'feature_fraction': 0.40042807021274796, 'bagging_fraction': 0.5627834454536511, 'bagging_freq': 7, 'min_child_samples': 80, 'lambda_l1': 0.207556938188432, 'lambda_l2': 3.694576239473266e-08, 'learning_rate': 0.153665237061959, 'max_bin': 675}. Best is trial 22 with value: 0.33513325945523653.\u001b[0m\n",
            "0.33556152901099584\n",
            "Score as calculated for the leader board (っಠ‿ಠ)っ 0.36294433645951574\n",
            "\u001b[32m[I 2021-03-13 11:52:08,620]\u001b[0m Trial 46 finished with value: 0.33556152901099584 and parameters: {'num_leaves': 28, 'max_depth': 11, 'min_child_weight': 6, 'feature_fraction': 0.4957785642045399, 'bagging_fraction': 0.6848157008126947, 'bagging_freq': 7, 'min_child_samples': 56, 'lambda_l1': 0.00022795978988640012, 'lambda_l2': 6.856457966123492e-08, 'learning_rate': 0.009126722754214802, 'max_bin': 585}. Best is trial 22 with value: 0.33513325945523653.\u001b[0m\n",
            "0.33522434809179186\n",
            "Score as calculated for the leader board (っಠ‿ಠ)っ 0.3645756851907732\n",
            "\u001b[32m[I 2021-03-13 11:52:09,720]\u001b[0m Trial 47 finished with value: 0.33522434809179186 and parameters: {'num_leaves': 32, 'max_depth': 10, 'min_child_weight': 1, 'feature_fraction': 0.42469395192908604, 'bagging_fraction': 0.8112822295029225, 'bagging_freq': 8, 'min_child_samples': 12, 'lambda_l1': 0.06255120871001026, 'lambda_l2': 1.6036131074795355e-07, 'learning_rate': 0.06074404181260812, 'max_bin': 814}. Best is trial 22 with value: 0.33513325945523653.\u001b[0m\n",
            "0.33559424736784005\n",
            "Score as calculated for the leader board (っಠ‿ಠ)っ 0.3628649157745023\n",
            "\u001b[32m[I 2021-03-13 11:52:10,677]\u001b[0m Trial 48 finished with value: 0.33559424736784005 and parameters: {'num_leaves': 32, 'max_depth': 10, 'min_child_weight': 1, 'feature_fraction': 0.42987171953197895, 'bagging_fraction': 0.8321170085379049, 'bagging_freq': 7, 'min_child_samples': 8, 'lambda_l1': 0.01929887601885679, 'lambda_l2': 1.6837366812721814e-08, 'learning_rate': 0.08011122844807282, 'max_bin': 716}. Best is trial 22 with value: 0.33513325945523653.\u001b[0m\n",
            "0.3360992892731246\n",
            "Score as calculated for the leader board (っಠ‿ಠ)っ 0.35929569222706687\n",
            "\u001b[32m[I 2021-03-13 11:52:11,410]\u001b[0m Trial 49 finished with value: 0.3360992892731246 and parameters: {'num_leaves': 31, 'max_depth': 11, 'min_child_weight': 1, 'feature_fraction': 0.4634928396829793, 'bagging_fraction': 0.7643088369724927, 'bagging_freq': 6, 'min_child_samples': 65, 'lambda_l1': 0.06765744591387139, 'lambda_l2': 2.514194678375454e-07, 'learning_rate': 0.2091601878619114, 'max_bin': 644}. Best is trial 22 with value: 0.33513325945523653.\u001b[0m\n",
            "0.33578922579123255\n",
            "Score as calculated for the leader board (っಠ‿ಠ)っ 0.3615670236765844\n",
            "\u001b[32m[I 2021-03-13 11:53:26,486]\u001b[0m Trial 50 finished with value: 0.33578922579123255 and parameters: {'num_leaves': 32, 'max_depth': 10, 'min_child_weight': 3, 'feature_fraction': 0.6488614890570181, 'bagging_fraction': 0.8901017604979021, 'bagging_freq': 8, 'min_child_samples': 11, 'lambda_l1': 0.003056300803948897, 'lambda_l2': 1.3566118500892068e-07, 'learning_rate': 0.0003874058729572208, 'max_bin': 807}. Best is trial 22 with value: 0.33513325945523653.\u001b[0m\n",
            "0.3352726045800765\n",
            "Score as calculated for the leader board (っಠ‿ಠ)っ 0.36490326266657824\n",
            "\u001b[32m[I 2021-03-13 11:53:27,491]\u001b[0m Trial 51 finished with value: 0.3352726045800765 and parameters: {'num_leaves': 26, 'max_depth': 9, 'min_child_weight': 11, 'feature_fraction': 0.4221814627087415, 'bagging_fraction': 0.8006975323563568, 'bagging_freq': 8, 'min_child_samples': 17, 'lambda_l1': 0.2253142948538751, 'lambda_l2': 1.0195958003186946e-08, 'learning_rate': 0.05453517633737193, 'max_bin': 862}. Best is trial 22 with value: 0.33513325945523653.\u001b[0m\n",
            "0.33538710988667025\n",
            "Score as calculated for the leader board (っಠ‿ಠ)っ 0.3645325480455354\n",
            "\u001b[32m[I 2021-03-13 11:53:28,608]\u001b[0m Trial 52 finished with value: 0.33538710988667025 and parameters: {'num_leaves': 26, 'max_depth': 9, 'min_child_weight': 11, 'feature_fraction': 0.42559854942733044, 'bagging_fraction': 0.8137316683137675, 'bagging_freq': 8, 'min_child_samples': 17, 'lambda_l1': 0.4275036057822427, 'lambda_l2': 1.1831441164458815e-08, 'learning_rate': 0.04547595057776457, 'max_bin': 749}. Best is trial 22 with value: 0.33513325945523653.\u001b[0m\n",
            "0.3359104419613051\n",
            "Score as calculated for the leader board (っಠ‿ಠ)っ 0.36017611238404734\n",
            "\u001b[32m[I 2021-03-13 11:53:29,381]\u001b[0m Trial 53 finished with value: 0.3359104419613051 and parameters: {'num_leaves': 29, 'max_depth': 8, 'min_child_weight': 14, 'feature_fraction': 0.5259776935531881, 'bagging_fraction': 0.8581476851482372, 'bagging_freq': 7, 'min_child_samples': 13, 'lambda_l1': 0.1426174821682339, 'lambda_l2': 3.458603463020671e-08, 'learning_rate': 0.17761781121110784, 'max_bin': 848}. Best is trial 22 with value: 0.33513325945523653.\u001b[0m\n",
            "0.3354619113666778\n",
            "Score as calculated for the leader board (っಠ‿ಠ)っ 0.36464850428171286\n",
            "\u001b[32m[I 2021-03-13 11:53:30,361]\u001b[0m Trial 54 finished with value: 0.3354619113666778 and parameters: {'num_leaves': 23, 'max_depth': 12, 'min_child_weight': 10, 'feature_fraction': 0.45885963008878694, 'bagging_fraction': 0.7397788628766844, 'bagging_freq': 8, 'min_child_samples': 7, 'lambda_l1': 0.04141148545544043, 'lambda_l2': 8.429900916494875e-08, 'learning_rate': 0.049748401829734425, 'max_bin': 814}. Best is trial 22 with value: 0.33513325945523653.\u001b[0m\n",
            "0.3354073363321252\n",
            "Score as calculated for the leader board (っಠ‿ಠ)っ 0.3640383898039882\n",
            "\u001b[32m[I 2021-03-13 11:54:11,820]\u001b[0m Trial 55 finished with value: 0.3354073363321252 and parameters: {'num_leaves': 25, 'max_depth': 9, 'min_child_weight': 12, 'feature_fraction': 0.42635295086719066, 'bagging_fraction': 0.7172581039902326, 'bagging_freq': 7, 'min_child_samples': 22, 'lambda_l1': 0.4338263010313277, 'lambda_l2': 0.002342567825672814, 'learning_rate': 0.0005578593858550848, 'max_bin': 869}. Best is trial 22 with value: 0.33513325945523653.\u001b[0m\n",
            "0.3357018945783346\n",
            "Score as calculated for the leader board (っಠ‿ಠ)っ 0.3617647628187771\n",
            "\u001b[32m[I 2021-03-13 11:54:12,670]\u001b[0m Trial 56 finished with value: 0.3357018945783346 and parameters: {'num_leaves': 21, 'max_depth': 11, 'min_child_weight': 11, 'feature_fraction': 0.5033848218597063, 'bagging_fraction': 0.7913702312556006, 'bagging_freq': 1, 'min_child_samples': 27, 'lambda_l1': 0.012864964394550867, 'lambda_l2': 1.0054536779703368e-08, 'learning_rate': 0.09193073184632064, 'max_bin': 731}. Best is trial 22 with value: 0.33513325945523653.\u001b[0m\n",
            "0.33576792906720315\n",
            "Score as calculated for the leader board (っಠ‿ಠ)っ 0.3615399590965973\n",
            "\u001b[32m[I 2021-03-13 11:54:13,339]\u001b[0m Trial 57 finished with value: 0.33576792906720315 and parameters: {'num_leaves': 27, 'max_depth': 10, 'min_child_weight': 9, 'feature_fraction': 0.4561184372792277, 'bagging_fraction': 0.6961317379753861, 'bagging_freq': 8, 'min_child_samples': 17, 'lambda_l1': 0.060627540851972396, 'lambda_l2': 0.0008568257253306031, 'learning_rate': 0.15440152921743389, 'max_bin': 777}. Best is trial 22 with value: 0.33513325945523653.\u001b[0m\n",
            "0.3352680950744245\n",
            "Score as calculated for the leader board (っಠ‿ಠ)っ 0.36532897607209663\n",
            "\u001b[32m[I 2021-03-13 11:54:14,828]\u001b[0m Trial 58 finished with value: 0.3352680950744245 and parameters: {'num_leaves': 31, 'max_depth': 12, 'min_child_weight': 10, 'feature_fraction': 0.40089638395104993, 'bagging_fraction': 0.8426778393466696, 'bagging_freq': 7, 'min_child_samples': 32, 'lambda_l1': 0.19912683255839897, 'lambda_l2': 0.00016867397764707597, 'learning_rate': 0.03203408487073506, 'max_bin': 893}. Best is trial 22 with value: 0.33513325945523653.\u001b[0m\n",
            "0.3355643759393039\n",
            "Score as calculated for the leader board (っಠ‿ಠ)っ 0.3630322750058558\n",
            "\u001b[32m[I 2021-03-13 11:54:15,722]\u001b[0m Trial 59 finished with value: 0.3355643759393039 and parameters: {'num_leaves': 31, 'max_depth': 13, 'min_child_weight': 10, 'feature_fraction': 0.4013928896922448, 'bagging_fraction': 0.8442900743166353, 'bagging_freq': 6, 'min_child_samples': 33, 'lambda_l1': 0.003966026082019932, 'lambda_l2': 0.0001996590926722408, 'learning_rate': 0.10347324569920462, 'max_bin': 898}. Best is trial 22 with value: 0.33513325945523653.\u001b[0m\n",
            "0.3358971196962161\n",
            "Score as calculated for the leader board (っಠ‿ಠ)っ 0.3609995475808085\n",
            "\u001b[32m[I 2021-03-13 11:54:18,322]\u001b[0m Trial 60 finished with value: 0.3358971196962161 and parameters: {'num_leaves': 29, 'max_depth': 14, 'min_child_weight': 8, 'feature_fraction': 0.7064703644759507, 'bagging_fraction': 0.9104690870936079, 'bagging_freq': 7, 'min_child_samples': 39, 'lambda_l1': 0.03188968316208988, 'lambda_l2': 4.9457160532462904e-05, 'learning_rate': 0.015625410239396113, 'max_bin': 825}. Best is trial 22 with value: 0.33513325945523653.\u001b[0m\n",
            "0.33544191303507387\n",
            "Score as calculated for the leader board (っಠ‿ಠ)っ 0.36366394313882733\n",
            "\u001b[32m[I 2021-03-13 11:54:19,401]\u001b[0m Trial 61 finished with value: 0.33544191303507387 and parameters: {'num_leaves': 30, 'max_depth': 12, 'min_child_weight': 13, 'feature_fraction': 0.4167606666099035, 'bagging_fraction': 0.7726863482136229, 'bagging_freq': 7, 'min_child_samples': 31, 'lambda_l1': 0.27393321884364746, 'lambda_l2': 0.004167451904727688, 'learning_rate': 0.06034250007385181, 'max_bin': 868}. Best is trial 22 with value: 0.33513325945523653.\u001b[0m\n",
            "0.33539217942553173\n",
            "Score as calculated for the leader board (っಠ‿ಠ)っ 0.36401795860312103\n",
            "\u001b[32m[I 2021-03-13 11:54:20,713]\u001b[0m Trial 62 finished with value: 0.33539217942553173 and parameters: {'num_leaves': 26, 'max_depth': 11, 'min_child_weight': 11, 'feature_fraction': 0.42012389505854425, 'bagging_fraction': 0.8137836999156, 'bagging_freq': 6, 'min_child_samples': 26, 'lambda_l1': 0.1385270885294645, 'lambda_l2': 0.00013332305392028102, 'learning_rate': 0.03576247301081303, 'max_bin': 792}. Best is trial 22 with value: 0.33513325945523653.\u001b[0m\n",
            "0.33565066828029316\n",
            "Score as calculated for the leader board (っಠ‿ಠ)っ 0.3618171909259012\n",
            "\u001b[32m[I 2021-03-13 11:54:21,544]\u001b[0m Trial 63 finished with value: 0.33565066828029316 and parameters: {'num_leaves': 32, 'max_depth': 12, 'min_child_weight': 12, 'feature_fraction': 0.40058285270616417, 'bagging_fraction': 0.7911044280014161, 'bagging_freq': 8, 'min_child_samples': 37, 'lambda_l1': 0.000515498003857412, 'lambda_l2': 2.287122056575126e-08, 'learning_rate': 0.1258557032144339, 'max_bin': 893}. Best is trial 22 with value: 0.33513325945523653.\u001b[0m\n",
            "0.3354798961510127\n",
            "Score as calculated for the leader board (っಠ‿ಠ)っ 0.3617902079723961\n",
            "\u001b[32m[I 2021-03-13 11:54:22,347]\u001b[0m Trial 64 finished with value: 0.3354798961510127 and parameters: {'num_leaves': 23, 'max_depth': 10, 'min_child_weight': 10, 'feature_fraction': 0.47005364565420427, 'bagging_fraction': 0.4711948819411225, 'bagging_freq': 5, 'min_child_samples': 35, 'lambda_l1': 0.7220160576322767, 'lambda_l2': 0.0007137414310328369, 'learning_rate': 0.08522256501176037, 'max_bin': 697}. Best is trial 22 with value: 0.33513325945523653.\u001b[0m\n",
            "0.3353604420595633\n",
            "Score as calculated for the leader board (っಠ‿ಠ)っ 0.3644710189431276\n",
            "\u001b[32m[I 2021-03-13 11:54:46,072]\u001b[0m Trial 65 finished with value: 0.3353604420595633 and parameters: {'num_leaves': 28, 'max_depth': 11, 'min_child_weight': 9, 'feature_fraction': 0.4446802217251921, 'bagging_fraction': 0.8655006034941246, 'bagging_freq': 6, 'min_child_samples': 24, 'lambda_l1': 0.0870347688171266, 'lambda_l2': 6.742573700658978e-05, 'learning_rate': 0.001063077367326401, 'max_bin': 839}. Best is trial 22 with value: 0.33513325945523653.\u001b[0m\n",
            "0.33681999245442756\n",
            "Score as calculated for the leader board (っಠ‿ಠ)っ 0.35589966955013774\n",
            "\u001b[32m[I 2021-03-13 11:54:46,825]\u001b[0m Trial 66 finished with value: 0.33681999245442756 and parameters: {'num_leaves': 27, 'max_depth': 8, 'min_child_weight': 10, 'feature_fraction': 0.9113763435929367, 'bagging_fraction': 0.7477929803553341, 'bagging_freq': 7, 'min_child_samples': 30, 'lambda_l1': 0.02444191254119382, 'lambda_l2': 0.0015512432989551878, 'learning_rate': 0.2467075064926119, 'max_bin': 737}. Best is trial 22 with value: 0.33513325945523653.\u001b[0m\n",
            "0.33577537792344053\n",
            "Score as calculated for the leader board (っಠ‿ಠ)っ 0.3604242636938108\n",
            "\u001b[32m[I 2021-03-13 11:54:47,530]\u001b[0m Trial 67 finished with value: 0.33577537792344053 and parameters: {'num_leaves': 31, 'max_depth': 9, 'min_child_weight': 11, 'feature_fraction': 0.41783338084429383, 'bagging_fraction': 0.8380874930772269, 'bagging_freq': 5, 'min_child_samples': 6, 'lambda_l1': 0.0055286577314493405, 'lambda_l2': 0.0002293072170283608, 'learning_rate': 0.1637228890675885, 'max_bin': 543}. Best is trial 22 with value: 0.33513325945523653.\u001b[0m\n",
            "0.3355080081945268\n",
            "Score as calculated for the leader board (っಠ‿ಠ)っ 0.36288949061549464\n",
            "\u001b[32m[I 2021-03-13 11:54:48,523]\u001b[0m Trial 68 finished with value: 0.3355080081945268 and parameters: {'num_leaves': 25, 'max_depth': 12, 'min_child_weight': 9, 'feature_fraction': 0.4808716950732731, 'bagging_fraction': 0.7242996311030027, 'bagging_freq': 2, 'min_child_samples': 14, 'lambda_l1': 0.0016318242633881549, 'lambda_l2': 1.9063763356375232e-05, 'learning_rate': 0.06429906690623718, 'max_bin': 452}. Best is trial 22 with value: 0.33513325945523653.\u001b[0m\n",
            "0.33627983013586776\n",
            "Score as calculated for the leader board (っಠ‿ಠ)っ 0.35821833409219267\n",
            "\u001b[32m[I 2021-03-13 11:54:49,349]\u001b[0m Trial 69 finished with value: 0.33627983013586776 and parameters: {'num_leaves': 29, 'max_depth': 10, 'min_child_weight': 12, 'feature_fraction': 0.5396674805428665, 'bagging_fraction': 0.7751441983808692, 'bagging_freq': 8, 'min_child_samples': 12, 'lambda_l1': 0.010836446609237181, 'lambda_l2': 1.1310020586157395e-06, 'learning_rate': 0.1101819638126886, 'max_bin': 392}. Best is trial 22 with value: 0.33513325945523653.\u001b[0m\n",
            "0.33831040297338033\n",
            "Score as calculated for the leader board (っಠ‿ಠ)っ 0.34331308474809236\n",
            "\u001b[32m[I 2021-03-13 11:54:49,924]\u001b[0m Trial 70 finished with value: 0.33831040297338033 and parameters: {'num_leaves': 30, 'max_depth': 11, 'min_child_weight': 7, 'feature_fraction': 0.4391168684590691, 'bagging_fraction': 0.665666690974921, 'bagging_freq': 6, 'min_child_samples': 32, 'lambda_l1': 0.12366021738189331, 'lambda_l2': 0.0003415033395395223, 'learning_rate': 0.5721102814567631, 'max_bin': 632}. Best is trial 22 with value: 0.33513325945523653.\u001b[0m\n",
            "0.33527418731552155\n",
            "Score as calculated for the leader board (っಠ‿ಠ)っ 0.36483694731808103\n",
            "\u001b[32m[I 2021-03-13 11:54:51,772]\u001b[0m Trial 71 finished with value: 0.33527418731552155 and parameters: {'num_leaves': 27, 'max_depth': 6, 'min_child_weight': 8, 'feature_fraction': 0.4074132451064024, 'bagging_fraction': 0.8049894864983266, 'bagging_freq': 8, 'min_child_samples': 24, 'lambda_l1': 2.6688202554594993e-06, 'lambda_l2': 4.044348684296596e-07, 'learning_rate': 0.01982035876622483, 'max_bin': 873}. Best is trial 22 with value: 0.33513325945523653.\u001b[0m\n",
            "0.3352892940417228\n",
            "Score as calculated for the leader board (っಠ‿ಠ)っ 0.36437725168064844\n",
            "\u001b[32m[I 2021-03-13 11:54:53,445]\u001b[0m Trial 72 finished with value: 0.3352892940417228 and parameters: {'num_leaves': 28, 'max_depth': 6, 'min_child_weight': 8, 'feature_fraction': 0.40412081636766917, 'bagging_fraction': 0.8006146496301187, 'bagging_freq': 8, 'min_child_samples': 23, 'lambda_l1': 0.2365497249912181, 'lambda_l2': 2.2659833838420862e-07, 'learning_rate': 0.025948697527633874, 'max_bin': 859}. Best is trial 22 with value: 0.33513325945523653.\u001b[0m\n",
            "0.3353408215419387\n",
            "Score as calculated for the leader board (っಠ‿ಠ)っ 0.36456709327836995\n",
            "\u001b[32m[I 2021-03-13 11:54:54,915]\u001b[0m Trial 73 finished with value: 0.3353408215419387 and parameters: {'num_leaves': 25, 'max_depth': 13, 'min_child_weight': 9, 'feature_fraction': 0.41506237063052065, 'bagging_fraction': 0.8237208988853326, 'bagging_freq': 7, 'min_child_samples': 19, 'lambda_l1': 2.2982940717486755e-07, 'lambda_l2': 1.0623706201436925e-07, 'learning_rate': 0.02727233944023904, 'max_bin': 801}. Best is trial 22 with value: 0.33513325945523653.\u001b[0m\n",
            "0.3353442401098486\n",
            "Score as calculated for the leader board (っಠ‿ಠ)っ 0.3638695851561649\n",
            "\u001b[32m[I 2021-03-13 11:54:55,985]\u001b[0m Trial 74 finished with value: 0.3353442401098486 and parameters: {'num_leaves': 26, 'max_depth': 5, 'min_child_weight': 10, 'feature_fraction': 0.40076169242037596, 'bagging_fraction': 0.8822887143303187, 'bagging_freq': 8, 'min_child_samples': 29, 'lambda_l1': 5.101632521870406e-05, 'lambda_l2': 4.403691671703196e-08, 'learning_rate': 0.06778160492345173, 'max_bin': 898}. Best is trial 22 with value: 0.33513325945523653.\u001b[0m\n",
            "0.3361230028410804\n",
            "Score as calculated for the leader board (っಠ‿ಠ)っ 0.36043549966939575\n",
            "\u001b[32m[I 2021-03-13 11:54:56,698]\u001b[0m Trial 75 finished with value: 0.3361230028410804 and parameters: {'num_leaves': 22, 'max_depth': 6, 'min_child_weight': 11, 'feature_fraction': 0.4565049478170134, 'bagging_fraction': 0.7643084270300674, 'bagging_freq': 7, 'min_child_samples': 44, 'lambda_l1': 2.413513434778598e-06, 'lambda_l2': 9.284974952950983e-07, 'learning_rate': 0.1374664788734806, 'max_bin': 766}. Best is trial 22 with value: 0.33513325945523653.\u001b[0m\n",
            "0.3377164663261443\n",
            "Score as calculated for the leader board (っಠ‿ಠ)っ 0.34664102265143487\n",
            "\u001b[32m[I 2021-03-13 11:54:57,362]\u001b[0m Trial 76 finished with value: 0.3377164663261443 and parameters: {'num_leaves': 24, 'max_depth': 4, 'min_child_weight': 7, 'feature_fraction': 0.43314252231851896, 'bagging_fraction': 0.7887124821214452, 'bagging_freq': 8, 'min_child_samples': 25, 'lambda_l1': 0.6844377734798349, 'lambda_l2': 1.5690908261420687e-08, 'learning_rate': 0.7333360048077654, 'max_bin': 823}. Best is trial 22 with value: 0.33513325945523653.\u001b[0m\n",
            "0.33560189262336537\n",
            "Score as calculated for the leader board (っಠ‿ಠ)っ 0.3619121956341427\n",
            "\u001b[32m[I 2021-03-13 11:54:58,363]\u001b[0m Trial 77 finished with value: 0.33560189262336537 and parameters: {'num_leaves': 27, 'max_depth': 5, 'min_child_weight': 2, 'feature_fraction': 0.45090215716756377, 'bagging_fraction': 0.8069221894219031, 'bagging_freq': 6, 'min_child_samples': 16, 'lambda_l1': 3.396793406913444e-08, 'lambda_l2': 3.7332677578384024e-07, 'learning_rate': 0.09049327547182634, 'max_bin': 883}. Best is trial 22 with value: 0.33513325945523653.\u001b[0m\n",
            "0.3359596501734103\n",
            "Score as calculated for the leader board (っಠ‿ಠ)っ 0.36019867129571187\n",
            "\u001b[32m[I 2021-03-13 11:55:18,393]\u001b[0m Trial 78 finished with value: 0.3359596501734103 and parameters: {'num_leaves': 29, 'max_depth': 7, 'min_child_weight': 8, 'feature_fraction': 0.7993318150210476, 'bagging_fraction': 0.7431218506114903, 'bagging_freq': 7, 'min_child_samples': 40, 'lambda_l1': 0.04956925269169586, 'lambda_l2': 4.5216250229135717e-07, 'learning_rate': 0.0013599917358447927, 'max_bin': 853}. Best is trial 22 with value: 0.33513325945523653.\u001b[0m\n",
            "0.33554916886015557\n",
            "Score as calculated for the leader board (っಠ‿ಠ)っ 0.3625625202624368\n",
            "\u001b[32m[I 2021-03-13 11:55:19,484]\u001b[0m Trial 79 finished with value: 0.33554916886015557 and parameters: {'num_leaves': 31, 'max_depth': 10, 'min_child_weight': 5, 'feature_fraction': 0.4741622386411959, 'bagging_fraction': 0.8225876098049006, 'bagging_freq': 8, 'min_child_samples': 34, 'lambda_l1': 0.0009288594558366424, 'lambda_l2': 0.0004518574487610979, 'learning_rate': 0.06648161095312978, 'max_bin': 614}. Best is trial 22 with value: 0.33513325945523653.\u001b[0m\n",
            "0.33656084512199513\n",
            "Score as calculated for the leader board (っಠ‿ಠ)っ 0.3581276419132633\n",
            "\u001b[32m[I 2021-03-13 11:55:20,022]\u001b[0m Trial 80 finished with value: 0.33656084512199513 and parameters: {'num_leaves': 15, 'max_depth': 9, 'min_child_weight': 10, 'feature_fraction': 0.4997929497168856, 'bagging_fraction': 0.6200981717825281, 'bagging_freq': 7, 'min_child_samples': 21, 'lambda_l1': 0.00017064685039008565, 'lambda_l2': 2.6266828738354502e-08, 'learning_rate': 0.2247950301949052, 'max_bin': 708}. Best is trial 22 with value: 0.33513325945523653.\u001b[0m\n",
            "0.3353084904271423\n",
            "Score as calculated for the leader board (っಠ‿ಠ)っ 0.36418587067151104\n",
            "\u001b[32m[I 2021-03-13 11:55:21,649]\u001b[0m Trial 81 finished with value: 0.3353084904271423 and parameters: {'num_leaves': 28, 'max_depth': 6, 'min_child_weight': 8, 'feature_fraction': 0.40727003325776545, 'bagging_fraction': 0.7979873392092853, 'bagging_freq': 8, 'min_child_samples': 22, 'lambda_l1': 0.2810563393831476, 'lambda_l2': 2.1130493776880607e-07, 'learning_rate': 0.02733362067511865, 'max_bin': 869}. Best is trial 22 with value: 0.33513325945523653.\u001b[0m\n",
            "0.33523151589098216\n",
            "Score as calculated for the leader board (っಠ‿ಠ)っ 0.36462063253481647\n",
            "\u001b[32m[I 2021-03-13 11:55:23,128]\u001b[0m Trial 82 finished with value: 0.33523151589098216 and parameters: {'num_leaves': 28, 'max_depth': 6, 'min_child_weight': 8, 'feature_fraction': 0.4000056736126203, 'bagging_fraction': 0.8440936734362106, 'bagging_freq': 8, 'min_child_samples': 28, 'lambda_l1': 0.0888300667694011, 'lambda_l2': 1.762700712854982e-07, 'learning_rate': 0.03470157322118141, 'max_bin': 848}. Best is trial 22 with value: 0.33513325945523653.\u001b[0m\n",
            "0.3356275112620829\n",
            "Score as calculated for the leader board (っಠ‿ಠ)っ 0.3631492128079447\n",
            "\u001b[32m[I 2021-03-13 11:55:23,793]\u001b[0m Trial 83 finished with value: 0.3356275112620829 and parameters: {'num_leaves': 9, 'max_depth': 7, 'min_child_weight': 9, 'feature_fraction': 0.4376701229936279, 'bagging_fraction': 0.8409104195881716, 'bagging_freq': 8, 'min_child_samples': 28, 'lambda_l1': 0.0023494716454155167, 'lambda_l2': 7.165182383928304e-08, 'learning_rate': 0.11023305199456217, 'max_bin': 832}. Best is trial 22 with value: 0.33513325945523653.\u001b[0m\n",
            "0.33543905135025354\n",
            "Score as calculated for the leader board (っಠ‿ಠ)っ 0.3651312151810291\n",
            "\u001b[32m[I 2021-03-13 11:55:24,959]\u001b[0m Trial 84 finished with value: 0.33543905135025354 and parameters: {'num_leaves': 27, 'max_depth': 5, 'min_child_weight': 7, 'feature_fraction': 0.42444217188467653, 'bagging_fraction': 0.8775229347096872, 'bagging_freq': 5, 'min_child_samples': 36, 'lambda_l1': 0.08869868654664236, 'lambda_l2': 1.7883918142855402e-07, 'learning_rate': 0.04576699800835556, 'max_bin': 761}. Best is trial 22 with value: 0.33513325945523653.\u001b[0m\n",
            "0.33521581977293524\n",
            "Score as calculated for the leader board (っಠ‿ಠ)っ 0.3645875360661389\n",
            "\u001b[32m[I 2021-03-13 11:55:26,817]\u001b[0m Trial 85 finished with value: 0.33521581977293524 and parameters: {'num_leaves': 30, 'max_depth': 11, 'min_child_weight': 11, 'feature_fraction': 0.4019727364815061, 'bagging_fraction': 0.8584098782214564, 'bagging_freq': 8, 'min_child_samples': 26, 'lambda_l1': 9.839717523858504e-07, 'lambda_l2': 1.5936984544405003e-06, 'learning_rate': 0.024072073785108672, 'max_bin': 786}. Best is trial 22 with value: 0.33513325945523653.\u001b[0m\n",
            "0.33586414123946756\n",
            "Score as calculated for the leader board (っಠ‿ಠ)っ 0.3605800947295752\n",
            "\u001b[32m[I 2021-03-13 11:55:27,596]\u001b[0m Trial 86 finished with value: 0.33586414123946756 and parameters: {'num_leaves': 30, 'max_depth': 11, 'min_child_weight': 12, 'feature_fraction': 0.4001416231265182, 'bagging_fraction': 0.9002653874122851, 'bagging_freq': 7, 'min_child_samples': 32, 'lambda_l1': 0.020713973517038655, 'lambda_l2': 5.4635458880703406e-08, 'learning_rate': 0.17458917856938622, 'max_bin': 789}. Best is trial 22 with value: 0.33513325945523653.\u001b[0m\n",
            "0.3361097825680749\n",
            "Score as calculated for the leader board (っಠ‿ಠ)っ 0.35932147019889565\n",
            "\u001b[32m[I 2021-03-13 11:55:28,475]\u001b[0m Trial 87 finished with value: 0.3361097825680749 and parameters: {'num_leaves': 32, 'max_depth': 12, 'min_child_weight': 13, 'feature_fraction': 0.6186148794340605, 'bagging_fraction': 0.8557544403408971, 'bagging_freq': 6, 'min_child_samples': 28, 'lambda_l1': 0.007394146823949107, 'lambda_l2': 1.6893831530012789e-06, 'learning_rate': 0.1406286172293392, 'max_bin': 810}. Best is trial 22 with value: 0.33513325945523653.\u001b[0m\n",
            "0.3355888163358829\n",
            "Score as calculated for the leader board (っಠ‿ಠ)っ 0.362129104974941\n",
            "\u001b[32m[I 2021-03-13 11:55:29,599]\u001b[0m Trial 88 finished with value: 0.3355888163358829 and parameters: {'num_leaves': 29, 'max_depth': 11, 'min_child_weight': 11, 'feature_fraction': 0.44879797332658916, 'bagging_fraction': 0.9371925538908383, 'bagging_freq': 8, 'min_child_samples': 19, 'lambda_l1': 0.036149883883409575, 'lambda_l2': 1.0282776732313617e-08, 'learning_rate': 0.06686730561400162, 'max_bin': 668}. Best is trial 22 with value: 0.33513325945523653.\u001b[0m\n",
            "0.33567496289394044\n",
            "Score as calculated for the leader board (っಠ‿ಠ)っ 0.36253351534576156\n",
            "\u001b[32m[I 2021-03-13 11:55:30,522]\u001b[0m Trial 89 finished with value: 0.33567496289394044 and parameters: {'num_leaves': 31, 'max_depth': 12, 'min_child_weight': 10, 'feature_fraction': 0.42741243857367794, 'bagging_fraction': 0.9652445740632485, 'bagging_freq': 7, 'min_child_samples': 30, 'lambda_l1': 0.17146809717505196, 'lambda_l2': 4.430509923021509e-06, 'learning_rate': 0.10428273147219562, 'max_bin': 775}. Best is trial 22 with value: 0.33513325945523653.\u001b[0m\n",
            "0.3363670218992987\n",
            "Score as calculated for the leader board (っಠ‿ಠ)っ 0.3580446776730825\n",
            "\u001b[32m[I 2021-03-13 11:55:31,193]\u001b[0m Trial 90 finished with value: 0.3363670218992987 and parameters: {'num_leaves': 26, 'max_depth': 10, 'min_child_weight': 11, 'feature_fraction': 0.5180909109869263, 'bagging_fraction': 0.9198805114234537, 'bagging_freq': 6, 'min_child_samples': 26, 'lambda_l1': 0.00037075071239736065, 'lambda_l2': 0.0009242140148450948, 'learning_rate': 0.28829170426153916, 'max_bin': 101}. Best is trial 22 with value: 0.33513325945523653.\u001b[0m\n",
            "0.33526602017941043\n",
            "Score as calculated for the leader board (っಠ‿ಠ)っ 0.3649544976890161\n",
            "\u001b[32m[I 2021-03-13 11:55:32,933]\u001b[0m Trial 91 finished with value: 0.33526602017941043 and parameters: {'num_leaves': 25, 'max_depth': 10, 'min_child_weight': 9, 'feature_fraction': 0.41194351480943486, 'bagging_fraction': 0.8519310176124458, 'bagging_freq': 8, 'min_child_samples': 24, 'lambda_l1': 1.9108075818288534e-06, 'lambda_l2': 4.77813493931218e-07, 'learning_rate': 0.021792609568724745, 'max_bin': 841}. Best is trial 22 with value: 0.33513325945523653.\u001b[0m\n",
            "0.3354594028584056\n",
            "Score as calculated for the leader board (っಠ‿ಠ)っ 0.36324127414606294\n",
            "\u001b[32m[I 2021-03-13 11:55:34,253]\u001b[0m Trial 92 finished with value: 0.3354594028584056 and parameters: {'num_leaves': 23, 'max_depth': 10, 'min_child_weight': 9, 'feature_fraction': 0.4149342043464377, 'bagging_fraction': 0.8590866885172392, 'bagging_freq': 8, 'min_child_samples': 27, 'lambda_l1': 6.851056162993865e-07, 'lambda_l2': 1.4100338160271973e-07, 'learning_rate': 0.0364409779207625, 'max_bin': 840}. Best is trial 22 with value: 0.33513325945523653.\u001b[0m\n",
            "0.33539367622357147\n",
            "Score as calculated for the leader board (っಠ‿ಠ)っ 0.3640582193351008\n",
            "\u001b[32m[I 2021-03-13 11:55:40,185]\u001b[0m Trial 93 finished with value: 0.33539367622357147 and parameters: {'num_leaves': 25, 'max_depth': 9, 'min_child_weight': 10, 'feature_fraction': 0.4321009691659814, 'bagging_fraction': 0.8964413135097956, 'bagging_freq': 8, 'min_child_samples': 20, 'lambda_l1': 9.177151893520067e-07, 'lambda_l2': 1.7675407407006144e-06, 'learning_rate': 0.004642867260772846, 'max_bin': 742}. Best is trial 22 with value: 0.33513325945523653.\u001b[0m\n",
            "0.33568443011001076\n",
            "Score as calculated for the leader board (っಠ‿ಠ)っ 0.36171229221411594\n",
            "\u001b[32m[I 2021-03-13 11:55:41,082]\u001b[0m Trial 94 finished with value: 0.33568443011001076 and parameters: {'num_leaves': 24, 'max_depth': 11, 'min_child_weight': 11, 'feature_fraction': 0.4645403062498723, 'bagging_fraction': 0.8513128101078135, 'bagging_freq': 8, 'min_child_samples': 9, 'lambda_l1': 3.9546162255420643e-07, 'lambda_l2': 6.455256898822578e-07, 'learning_rate': 0.08326921076701606, 'max_bin': 805}. Best is trial 22 with value: 0.33513325945523653.\u001b[0m\n",
            "0.3372275838017749\n",
            "Score as calculated for the leader board (っಠ‿ಠ)っ 0.3510749186271242\n",
            "\u001b[32m[I 2021-03-13 11:55:41,694]\u001b[0m Trial 95 finished with value: 0.3372275838017749 and parameters: {'num_leaves': 30, 'max_depth': 10, 'min_child_weight': 9, 'feature_fraction': 0.4124293621028214, 'bagging_fraction': 0.8275988319017753, 'bagging_freq': 8, 'min_child_samples': 32, 'lambda_l1': 1.5187072801065717e-06, 'lambda_l2': 8.44759235236897e-05, 'learning_rate': 0.4227185242215154, 'max_bin': 722}. Best is trial 22 with value: 0.33513325945523653.\u001b[0m\n",
            "0.33557194689530356\n",
            "Score as calculated for the leader board (っಠ‿ಠ)っ 0.3624613257823544\n",
            "\u001b[32m[I 2021-03-13 11:55:42,771]\u001b[0m Trial 96 finished with value: 0.33557194689530356 and parameters: {'num_leaves': 28, 'max_depth': 13, 'min_child_weight': 10, 'feature_fraction': 0.44742798109455145, 'bagging_fraction': 0.8671707593697195, 'bagging_freq': 7, 'min_child_samples': 23, 'lambda_l1': 0.06542339454704896, 'lambda_l2': 0.00013589207771050557, 'learning_rate': 0.06613430944472748, 'max_bin': 247}. Best is trial 22 with value: 0.33513325945523653.\u001b[0m\n",
            "0.3354606987560702\n",
            "Score as calculated for the leader board (っಠ‿ಠ)っ 0.36414604806426104\n",
            "\u001b[32m[I 2021-03-13 11:55:43,829]\u001b[0m Trial 97 finished with value: 0.3354606987560702 and parameters: {'num_leaves': 21, 'max_depth': 11, 'min_child_weight': 11, 'feature_fraction': 0.42755831387906024, 'bagging_fraction': 0.7582065602479278, 'bagging_freq': 8, 'min_child_samples': 29, 'lambda_l1': 7.261575880845689e-08, 'lambda_l2': 1.7959790813543858e-08, 'learning_rate': 0.047145501042345855, 'max_bin': 699}. Best is trial 22 with value: 0.33513325945523653.\u001b[0m\n",
            "0.3352776084354799\n",
            "Score as calculated for the leader board (っಠ‿ಠ)っ 0.36475069053545134\n",
            "\u001b[32m[I 2021-03-13 11:55:52,869]\u001b[0m Trial 98 finished with value: 0.3352776084354799 and parameters: {'num_leaves': 25, 'max_depth': 12, 'min_child_weight': 4, 'feature_fraction': 0.4003384640464386, 'bagging_fraction': 0.7777665131925153, 'bagging_freq': 5, 'min_child_samples': 17, 'lambda_l1': 4.193446189365152e-06, 'lambda_l2': 2.15928438492058e-05, 'learning_rate': 0.0028632648313280384, 'max_bin': 849}. Best is trial 22 with value: 0.33513325945523653.\u001b[0m\n",
            "0.33608779748390216\n",
            "Score as calculated for the leader board (っಠ‿ಠ)っ 0.35926669779926856\n",
            "\u001b[32m[I 2021-03-13 11:55:53,650]\u001b[0m Trial 99 finished with value: 0.33608779748390216 and parameters: {'num_leaves': 26, 'max_depth': 10, 'min_child_weight': 6, 'feature_fraction': 0.48627014983917893, 'bagging_fraction': 0.8187277918470126, 'bagging_freq': 7, 'min_child_samples': 26, 'lambda_l1': 0.028907329100046165, 'lambda_l2': 3.2733621502292194e-08, 'learning_rate': 0.12360292557412755, 'max_bin': 754}. Best is trial 22 with value: 0.33513325945523653.\u001b[0m\n",
            "0.3352968198065439\n",
            "Score as calculated for the leader board (っಠ‿ಠ)っ 0.364708988531492\n",
            "\u001b[32m[I 2021-03-13 11:55:55,481]\u001b[0m Trial 100 finished with value: 0.3352968198065439 and parameters: {'num_leaves': 29, 'max_depth': 9, 'min_child_weight': 12, 'feature_fraction': 0.41542954429806056, 'bagging_fraction': 0.7075737321318856, 'bagging_freq': 8, 'min_child_samples': 14, 'lambda_l1': 1.8382849417561863e-05, 'lambda_l2': 8.718843174989244e-08, 'learning_rate': 0.018855847489280216, 'max_bin': 793}. Best is trial 22 with value: 0.33513325945523653.\u001b[0m\n",
            "0.3352485764697934\n",
            "Score as calculated for the leader board (っಠ‿ಠ)っ 0.3642710175573115\n",
            "\u001b[32m[I 2021-03-13 11:55:57,244]\u001b[0m Trial 101 finished with value: 0.3352485764697934 and parameters: {'num_leaves': 27, 'max_depth': 6, 'min_child_weight': 8, 'feature_fraction': 0.4109273424884732, 'bagging_fraction': 0.8407313666031351, 'bagging_freq': 8, 'min_child_samples': 24, 'lambda_l1': 1.957908512833014e-06, 'lambda_l2': 3.6050475605983e-07, 'learning_rate': 0.025498082525523286, 'max_bin': 877}. Best is trial 22 with value: 0.33513325945523653.\u001b[0m\n",
            "0.3354615195003006\n",
            "Score as calculated for the leader board (っಠ‿ಠ)っ 0.3636535530394144\n",
            "\u001b[32m[I 2021-03-13 11:55:58,306]\u001b[0m Trial 102 finished with value: 0.3354615195003006 and parameters: {'num_leaves': 27, 'max_depth': 11, 'min_child_weight': 9, 'feature_fraction': 0.4408420857580303, 'bagging_fraction': 0.8360630505604014, 'bagging_freq': 8, 'min_child_samples': 25, 'lambda_l1': 9.271385369210065e-06, 'lambda_l2': 2.9526860109630164e-07, 'learning_rate': 0.053763028550490116, 'max_bin': 883}. Best is trial 22 with value: 0.33513325945523653.\u001b[0m\n",
            "0.3354859822372869\n",
            "Score as calculated for the leader board (っಠ‿ಠ)っ 0.36250901026200655\n",
            "\u001b[32m[I 2021-03-13 11:55:59,204]\u001b[0m Trial 103 finished with value: 0.3354859822372869 and parameters: {'num_leaves': 26, 'max_depth': 8, 'min_child_weight': 10, 'feature_fraction': 0.42507117701050234, 'bagging_fraction': 0.851060362461431, 'bagging_freq': 8, 'min_child_samples': 34, 'lambda_l1': 6.8647174213969324e-06, 'lambda_l2': 6.638533958958471e-07, 'learning_rate': 0.09651359957794846, 'max_bin': 821}. Best is trial 22 with value: 0.33513325945523653.\u001b[0m\n",
            "0.33532274524053296\n",
            "Score as calculated for the leader board (っಠ‿ಠ)っ 0.3642455176814458\n",
            "\u001b[32m[I 2021-03-13 11:56:00,624]\u001b[0m Trial 104 finished with value: 0.33532274524053296 and parameters: {'num_leaves': 28, 'max_depth': 10, 'min_child_weight': 8, 'feature_fraction': 0.40083324419138844, 'bagging_fraction': 0.6492917688116318, 'bagging_freq': 8, 'min_child_samples': 22, 'lambda_l1': 1.1461904966175058e-06, 'lambda_l2': 4.9509454104950634e-08, 'learning_rate': 0.028757053377003027, 'max_bin': 859}. Best is trial 22 with value: 0.33513325945523653.\u001b[0m\n",
            "0.33559065617535455\n",
            "Score as calculated for the leader board (っಠ‿ಠ)っ 0.3628991346039431\n",
            "\u001b[32m[I 2021-03-13 11:56:01,540]\u001b[0m Trial 105 finished with value: 0.33559065617535455 and parameters: {'num_leaves': 30, 'max_depth': 12, 'min_child_weight': 7, 'feature_fraction': 0.4569643723549202, 'bagging_fraction': 0.6799610879115575, 'bagging_freq': 6, 'min_child_samples': 31, 'lambda_l1': 3.8407489301650336e-07, 'lambda_l2': 1.5689910208862787e-07, 'learning_rate': 0.08340699682094913, 'max_bin': 835}. Best is trial 22 with value: 0.33513325945523653.\u001b[0m\n",
            "0.33530894698429303\n",
            "Score as calculated for the leader board (っಠ‿ಠ)っ 0.3645924045211786\n",
            "\u001b[32m[I 2021-03-13 11:56:13,378]\u001b[0m Trial 106 finished with value: 0.33530894698429303 and parameters: {'num_leaves': 29, 'max_depth': 11, 'min_child_weight': 8, 'feature_fraction': 0.4120418735073388, 'bagging_fraction': 0.8855667641016344, 'bagging_freq': 7, 'min_child_samples': 37, 'lambda_l1': 0.5561572884705203, 'lambda_l2': 5.440865652682597e-07, 'learning_rate': 0.002354366536195543, 'max_bin': 779}. Best is trial 22 with value: 0.33513325945523653.\u001b[0m\n",
            "0.3354738698958503\n",
            "Score as calculated for the leader board (っಠ‿ಠ)っ 0.3646425737605117\n",
            "\u001b[32m[I 2021-03-13 11:56:14,438]\u001b[0m Trial 107 finished with value: 0.3354738698958503 and parameters: {'num_leaves': 24, 'max_depth': 9, 'min_child_weight': 9, 'feature_fraction': 0.43965890486543735, 'bagging_fraction': 0.8705375561327489, 'bagging_freq': 8, 'min_child_samples': 24, 'lambda_l1': 0.01536342875604673, 'lambda_l2': 1.4935136476893483e-06, 'learning_rate': 0.04962653247022357, 'max_bin': 813}. Best is trial 22 with value: 0.33513325945523653.\u001b[0m\n",
            "0.3354544187904753\n",
            "Score as calculated for the leader board (っಠ‿ಠ)っ 0.36336053403516444\n",
            "\u001b[32m[I 2021-03-13 11:56:16,044]\u001b[0m Trial 108 finished with value: 0.3354544187904753 and parameters: {'num_leaves': 23, 'max_depth': 11, 'min_child_weight': 10, 'feature_fraction': 0.46777096056562006, 'bagging_fraction': 0.7837069695773909, 'bagging_freq': 7, 'min_child_samples': 18, 'lambda_l1': 7.178478404582244e-05, 'lambda_l2': 3.5693962909674984e-06, 'learning_rate': 0.027024665148208577, 'max_bin': 900}. Best is trial 22 with value: 0.33513325945523653.\u001b[0m\n",
            "0.3360452328627852\n",
            "Score as calculated for the leader board (っಠ‿ಠ)っ 0.35836114845430334\n",
            "\u001b[32m[I 2021-03-13 11:56:16,800]\u001b[0m Trial 109 finished with value: 0.3360452328627852 and parameters: {'num_leaves': 32, 'max_depth': 7, 'min_child_weight': 9, 'feature_fraction': 0.41140154872428736, 'bagging_fraction': 0.7369105231500663, 'bagging_freq': 8, 'min_child_samples': 11, 'lambda_l1': 0.10919900655501433, 'lambda_l2': 0.0005966359475510102, 'learning_rate': 0.19359768321673312, 'max_bin': 882}. Best is trial 22 with value: 0.33513325945523653.\u001b[0m\n",
            "0.33563557791873055\n",
            "Score as calculated for the leader board (っಠ‿ಠ)っ 0.36157548036077347\n",
            "\u001b[32m[I 2021-03-13 11:56:17,635]\u001b[0m Trial 110 finished with value: 0.33563557791873055 and parameters: {'num_leaves': 31, 'max_depth': 10, 'min_child_weight': 7, 'feature_fraction': 0.40027486836620274, 'bagging_fraction': 0.8099116969406385, 'bagging_freq': 6, 'min_child_samples': 29, 'lambda_l1': 1.693916202204108e-06, 'lambda_l2': 0.0010392607697939002, 'learning_rate': 0.12680508653182102, 'max_bin': 655}. Best is trial 22 with value: 0.33513325945523653.\u001b[0m\n",
            "0.3353165805138508\n",
            "Score as calculated for the leader board (っಠ‿ಠ)っ 0.36451166187355205\n",
            "\u001b[32m[I 2021-03-13 11:56:19,745]\u001b[0m Trial 111 finished with value: 0.3353165805138508 and parameters: {'num_leaves': 27, 'max_depth': 6, 'min_child_weight': 8, 'feature_fraction': 0.4238983379861074, 'bagging_fraction': 0.8074062703781156, 'bagging_freq': 8, 'min_child_samples': 20, 'lambda_l1': 2.5373365578546403e-06, 'lambda_l2': 3.5170581527677853e-07, 'learning_rate': 0.016458171331616332, 'max_bin': 868}. Best is trial 22 with value: 0.33513325945523653.\u001b[0m\n",
            "0.3353129991961202\n",
            "Score as calculated for the leader board (っಠ‿ಠ)っ 0.363852307915375\n",
            "\u001b[32m[I 2021-03-13 11:56:20,799]\u001b[0m Trial 112 finished with value: 0.3353129991961202 and parameters: {'num_leaves': 28, 'max_depth': 6, 'min_child_weight': 8, 'feature_fraction': 0.4103363875886248, 'bagging_fraction': 0.8434649241737809, 'bagging_freq': 8, 'min_child_samples': 24, 'lambda_l1': 3.111041562303453e-06, 'lambda_l2': 1.0040960244622359e-06, 'learning_rate': 0.0658902102687545, 'max_bin': 842}. Best is trial 22 with value: 0.33513325945523653.\u001b[0m\n",
            "0.33530328846114876\n",
            "Score as calculated for the leader board (っಠ‿ಠ)っ 0.36393605019984937\n",
            "\u001b[32m[I 2021-03-13 11:56:22,162]\u001b[0m Trial 113 finished with value: 0.33530328846114876 and parameters: {'num_leaves': 27, 'max_depth': 5, 'min_child_weight': 6, 'feature_fraction': 0.42907974705175006, 'bagging_fraction': 0.7721496305918253, 'bagging_freq': 8, 'min_child_samples': 26, 'lambda_l1': 5.610891658479802e-07, 'lambda_l2': 1.235912968325586e-07, 'learning_rate': 0.03496992166239732, 'max_bin': 878}. Best is trial 22 with value: 0.33513325945523653.\u001b[0m\n",
            "0.3353213015244612\n",
            "Score as calculated for the leader board (っಠ‿ಠ)っ 0.3642796702701043\n",
            "\u001b[32m[I 2021-03-13 11:56:43,418]\u001b[0m Trial 114 finished with value: 0.3353213015244612 and parameters: {'num_leaves': 26, 'max_depth': 6, 'min_child_weight': 8, 'feature_fraction': 0.44512807523120024, 'bagging_fraction': 0.7941273249850639, 'bagging_freq': 8, 'min_child_samples': 28, 'lambda_l1': 0.052358429274849926, 'lambda_l2': 2.4874603672674963e-07, 'learning_rate': 0.0011959188129656018, 'max_bin': 827}. Best is trial 22 with value: 0.33513325945523653.\u001b[0m\n",
            "0.3354714074809007\n",
            "Score as calculated for the leader board (っಠ‿ಠ)っ 0.36252358763913517\n",
            "\u001b[32m[I 2021-03-13 11:56:44,290]\u001b[0m Trial 115 finished with value: 0.3354714074809007 and parameters: {'num_leaves': 25, 'max_depth': 7, 'min_child_weight': 7, 'feature_fraction': 0.4016227100741284, 'bagging_fraction': 0.8216951056397996, 'bagging_freq': 4, 'min_child_samples': 22, 'lambda_l1': 1.7685859109057288e-06, 'lambda_l2': 4.423509678422574e-07, 'learning_rate': 0.10049139788146841, 'max_bin': 898}. Best is trial 22 with value: 0.33513325945523653.\u001b[0m\n",
            "0.3358770386774991\n",
            "Score as calculated for the leader board (っಠ‿ಠ)っ 0.36320695158284516\n",
            "\u001b[32m[I 2021-03-13 11:56:44,894]\u001b[0m Trial 116 finished with value: 0.3358770386774991 and parameters: {'num_leaves': 6, 'max_depth': 12, 'min_child_weight': 10, 'feature_fraction': 0.40045588160782514, 'bagging_fraction': 0.7515656901506611, 'bagging_freq': 8, 'min_child_samples': 30, 'lambda_l1': 1.8883963198997008e-07, 'lambda_l2': 0.0002625776343306248, 'learning_rate': 0.07875673049431978, 'max_bin': 853}. Best is trial 22 with value: 0.33513325945523653.\u001b[0m\n",
            "0.3353916901980595\n",
            "Score as calculated for the leader board (っಠ‿ಠ)っ 0.3640769595400596\n",
            "\u001b[32m[I 2021-03-13 11:56:47,105]\u001b[0m Trial 117 finished with value: 0.3353916901980595 and parameters: {'num_leaves': 28, 'max_depth': 4, 'min_child_weight': 9, 'feature_fraction': 0.4767809855874245, 'bagging_fraction': 0.8020845787739944, 'bagging_freq': 7, 'min_child_samples': 49, 'lambda_l1': 0.35689228191131206, 'lambda_l2': 9.414505974030353e-08, 'learning_rate': 0.016289636672385477, 'max_bin': 799}. Best is trial 22 with value: 0.33513325945523653.\u001b[0m\n",
            "0.3355155261780323\n",
            "Score as calculated for the leader board (っಠ‿ಠ)っ 0.3633061184727053\n",
            "\u001b[32m[I 2021-03-13 11:56:48,200]\u001b[0m Trial 118 finished with value: 0.3355155261780323 and parameters: {'num_leaves': 27, 'max_depth': 13, 'min_child_weight': 10, 'feature_fraction': 0.41915702275415534, 'bagging_fraction': 0.8373121778369395, 'bagging_freq': 7, 'min_child_samples': 59, 'lambda_l1': 1.0966305685710895e-07, 'lambda_l2': 0.002010888135765114, 'learning_rate': 0.052876106034483464, 'max_bin': 335}. Best is trial 22 with value: 0.33513325945523653.\u001b[0m\n",
            "0.33542743739238795\n",
            "Score as calculated for the leader board (っಠ‿ಠ)っ 0.3635022133641688\n",
            "\u001b[32m[I 2021-03-13 11:56:49,524]\u001b[0m Trial 119 finished with value: 0.33542743739238795 and parameters: {'num_leaves': 24, 'max_depth': 6, 'min_child_weight': 9, 'feature_fraction': 0.43609700664231293, 'bagging_fraction': 0.7637997826754483, 'bagging_freq': 8, 'min_child_samples': 15, 'lambda_l1': 0.2033973488138731, 'lambda_l2': 0.0004240545537052282, 'learning_rate': 0.03463030121866392, 'max_bin': 565}. Best is trial 22 with value: 0.33513325945523653.\u001b[0m\n",
            "0.33589858862032523\n",
            "Score as calculated for the leader board (っಠ‿ಠ)っ 0.3608129692555965\n",
            "\u001b[32m[I 2021-03-13 11:56:50,333]\u001b[0m Trial 120 finished with value: 0.33589858862032523 and parameters: {'num_leaves': 25, 'max_depth': 10, 'min_child_weight': 11, 'feature_fraction': 0.4498658440502478, 'bagging_fraction': 0.8759908958290041, 'bagging_freq': 6, 'min_child_samples': 72, 'lambda_l1': 0.0855856995617045, 'lambda_l2': 1.4949719798291106e-08, 'learning_rate': 0.14768179988547514, 'max_bin': 900}. Best is trial 22 with value: 0.33513325945523653.\u001b[0m\n",
            "0.33654577123134516\n",
            "Score as calculated for the leader board (っಠ‿ಠ)っ 0.3670220154274024\n",
            "\u001b[32m[I 2021-03-13 11:58:18,740]\u001b[0m Trial 121 finished with value: 0.33654577123134516 and parameters: {'num_leaves': 26, 'max_depth': 12, 'min_child_weight': 4, 'feature_fraction': 0.4003560796478275, 'bagging_fraction': 0.7838145687889283, 'bagging_freq': 5, 'min_child_samples': 17, 'lambda_l1': 4.4881993669065346e-06, 'lambda_l2': 7.391062685508621e-07, 'learning_rate': 0.00016763934510522632, 'max_bin': 850}. Best is trial 22 with value: 0.33513325945523653.\u001b[0m\n",
            "0.3353584996664523\n",
            "Score as calculated for the leader board (っಠ‿ಠ)っ 0.3647405736980679\n",
            "\u001b[32m[I 2021-03-13 11:58:20,633]\u001b[0m Trial 122 finished with value: 0.3353584996664523 and parameters: {'num_leaves': 25, 'max_depth': 12, 'min_child_weight': 6, 'feature_fraction': 0.4117900168044362, 'bagging_fraction': 0.7705025197209169, 'bagging_freq': 5, 'min_child_samples': 20, 'lambda_l1': 3.4994476725602996e-06, 'lambda_l2': 7.576855378332746e-06, 'learning_rate': 0.017768964277816632, 'max_bin': 875}. Best is trial 22 with value: 0.33513325945523653.\u001b[0m\n",
            "0.3352192717633538\n",
            "Score as calculated for the leader board (っಠ‿ಠ)っ 0.36569098727167015\n",
            "\u001b[32m[I 2021-03-13 11:58:21,528]\u001b[0m Trial 123 finished with value: 0.3352192717633538 and parameters: {'num_leaves': 27, 'max_depth': 13, 'min_child_weight': 2, 'feature_fraction': 0.40011131027457963, 'bagging_fraction': 0.7221283737145464, 'bagging_freq': 4, 'min_child_samples': 24, 'lambda_l1': 8.471612582374604e-06, 'lambda_l2': 3.088428909404298e-05, 'learning_rate': 0.07171099557160471, 'max_bin': 818}. Best is trial 22 with value: 0.33513325945523653.\u001b[0m\n",
            "0.3360545227512971\n",
            "Score as calculated for the leader board (っಠ‿ಠ)っ 0.35940193349137767\n",
            "\u001b[32m[I 2021-03-13 11:58:22,577]\u001b[0m Trial 124 finished with value: 0.3360545227512971 and parameters: {'num_leaves': 28, 'max_depth': 14, 'min_child_weight': 1, 'feature_fraction': 0.6697855909138489, 'bagging_fraction': 0.7292259689874441, 'bagging_freq': 4, 'min_child_samples': 27, 'lambda_l1': 7.788433537137085e-06, 'lambda_l2': 1.2899352137306706e-05, 'learning_rate': 0.07019788006947045, 'max_bin': 774}. Best is trial 22 with value: 0.33513325945523653.\u001b[0m\n",
            "0.3355448710366764\n",
            "Score as calculated for the leader board (っಠ‿ಠ)っ 0.361738883666185\n",
            "\u001b[32m[I 2021-03-13 11:58:23,465]\u001b[0m Trial 125 finished with value: 0.3355448710366764 and parameters: {'num_leaves': 29, 'max_depth': 13, 'min_child_weight': 2, 'feature_fraction': 0.4232424852217272, 'bagging_fraction': 0.7007526870888897, 'bagging_freq': 4, 'min_child_samples': 23, 'lambda_l1': 8.629338343980651e-07, 'lambda_l2': 5.0592962176968145e-05, 'learning_rate': 0.09779429243134358, 'max_bin': 822}. Best is trial 22 with value: 0.33513325945523653.\u001b[0m\n",
            "0.3353485885956812\n",
            "Score as calculated for the leader board (っಠ‿ಠ)っ 0.36481939898487126\n",
            "\u001b[32m[I 2021-03-13 11:58:24,532]\u001b[0m Trial 126 finished with value: 0.3353485885956812 and parameters: {'num_leaves': 27, 'max_depth': 13, 'min_child_weight': 2, 'feature_fraction': 0.4340085150393121, 'bagging_fraction': 0.826283601922697, 'bagging_freq': 4, 'min_child_samples': 33, 'lambda_l1': 1.1619762279084366e-06, 'lambda_l2': 0.00018282253447843023, 'learning_rate': 0.05246171248726994, 'max_bin': 794}. Best is trial 22 with value: 0.33513325945523653.\u001b[0m\n",
            "0.33526617998233316\n",
            "Score as calculated for the leader board (っಠ‿ಠ)っ 0.36455276364982075\n",
            "\u001b[32m[I 2021-03-13 11:58:25,466]\u001b[0m Trial 127 finished with value: 0.33526617998233316 and parameters: {'num_leaves': 31, 'max_depth': 14, 'min_child_weight': 11, 'feature_fraction': 0.4095172636843445, 'bagging_fraction': 0.7200292948847034, 'bagging_freq': 4, 'min_child_samples': 25, 'lambda_l1': 3.359087325961958e-05, 'lambda_l2': 1.341952334691561e-06, 'learning_rate': 0.07823902180437484, 'max_bin': 864}. Best is trial 22 with value: 0.33513325945523653.\u001b[0m\n",
            "0.3357947811005501\n",
            "Score as calculated for the leader board (っಠ‿ಠ)っ 0.36127188809605393\n",
            "\u001b[32m[I 2021-03-13 11:58:26,335]\u001b[0m Trial 128 finished with value: 0.3357947811005501 and parameters: {'num_leaves': 31, 'max_depth': 15, 'min_child_weight': 12, 'feature_fraction': 0.45757895804515336, 'bagging_fraction': 0.6949942416660961, 'bagging_freq': 3, 'min_child_samples': 25, 'lambda_l1': 6.095046468236939e-05, 'lambda_l2': 2.785656187169915e-06, 'learning_rate': 0.11050333175792552, 'max_bin': 757}. Best is trial 22 with value: 0.33513325945523653.\u001b[0m\n",
            "0.33527402864160605\n",
            "Score as calculated for the leader board (っಠ‿ಠ)っ 0.3644022418923503\n",
            "\u001b[32m[I 2021-03-13 11:58:27,272]\u001b[0m Trial 129 finished with value: 0.33527402864160605 and parameters: {'num_leaves': 32, 'max_depth': 14, 'min_child_weight': 1, 'feature_fraction': 0.4004517184833509, 'bagging_fraction': 0.6671462310249131, 'bagging_freq': 4, 'min_child_samples': 31, 'lambda_l1': 1.4226028289698992e-05, 'lambda_l2': 5.98833428267507e-06, 'learning_rate': 0.08007650870618768, 'max_bin': 731}. Best is trial 22 with value: 0.33513325945523653.\u001b[0m\n",
            "0.3361449599862933\n",
            "Score as calculated for the leader board (っಠ‿ಠ)っ 0.3590277339039576\n",
            "\u001b[32m[I 2021-03-13 11:58:28,624]\u001b[0m Trial 130 finished with value: 0.3361449599862933 and parameters: {'num_leaves': 30, 'max_depth': 14, 'min_child_weight': 11, 'feature_fraction': 0.9887349765594718, 'bagging_fraction': 0.7216820084766158, 'bagging_freq': 4, 'min_child_samples': 28, 'lambda_l1': 2.1485027483513707e-05, 'lambda_l2': 1.524984451046965e-06, 'learning_rate': 0.052656797001905814, 'max_bin': 809}. Best is trial 22 with value: 0.33513325945523653.\u001b[0m\n",
            "0.33531025402520176\n",
            "Score as calculated for the leader board (っಠ‿ಠ)っ 0.3635036561509791\n",
            "\u001b[32m[I 2021-03-13 11:58:29,573]\u001b[0m Trial 131 finished with value: 0.33531025402520176 and parameters: {'num_leaves': 32, 'max_depth': 14, 'min_child_weight': 3, 'feature_fraction': 0.4001454674178489, 'bagging_fraction': 0.6858216807036992, 'bagging_freq': 4, 'min_child_samples': 31, 'lambda_l1': 1.1120490433712903e-05, 'lambda_l2': 6.970180617481713e-06, 'learning_rate': 0.08617923617230785, 'max_bin': 734}. Best is trial 22 with value: 0.33513325945523653.\u001b[0m\n",
            "0.3354225068861935\n",
            "Score as calculated for the leader board (っಠ‿ಠ)っ 0.363850677003052\n",
            "\u001b[32m[I 2021-03-13 11:58:30,550]\u001b[0m Trial 132 finished with value: 0.3354225068861935 and parameters: {'num_leaves': 31, 'max_depth': 15, 'min_child_weight': 1, 'feature_fraction': 0.41711156812363115, 'bagging_fraction': 0.6543548412787291, 'bagging_freq': 3, 'min_child_samples': 36, 'lambda_l1': 2.984554581602289e-05, 'lambda_l2': 1.3359306406209118e-05, 'learning_rate': 0.07277017317499299, 'max_bin': 690}. Best is trial 22 with value: 0.33513325945523653.\u001b[0m\n",
            "0.33547247364912314\n",
            "Score as calculated for the leader board (っಠ‿ಠ)っ 0.3624669727440542\n",
            "\u001b[32m[I 2021-03-13 11:58:31,407]\u001b[0m Trial 133 finished with value: 0.33547247364912314 and parameters: {'num_leaves': 32, 'max_depth': 14, 'min_child_weight': 1, 'feature_fraction': 0.4107686326229686, 'bagging_fraction': 0.6670347022015163, 'bagging_freq': 4, 'min_child_samples': 80, 'lambda_l1': 2.8761553980068122e-05, 'lambda_l2': 2.3939395797998873e-06, 'learning_rate': 0.12665152482355985, 'max_bin': 713}. Best is trial 22 with value: 0.33513325945523653.\u001b[0m\n",
            "0.3356475048013572\n",
            "Score as calculated for the leader board (っಠ‿ಠ)っ 0.36173938948813184\n",
            "\u001b[32m[I 2021-03-13 11:58:32,513]\u001b[0m Trial 134 finished with value: 0.3356475048013572 and parameters: {'num_leaves': 29, 'max_depth': 13, 'min_child_weight': 1, 'feature_fraction': 0.7589180323434305, 'bagging_fraction': 0.7438132505727849, 'bagging_freq': 4, 'min_child_samples': 29, 'lambda_l1': 4.496153055927894e-05, 'lambda_l2': 1.1468826467698444e-06, 'learning_rate': 0.07858541632616822, 'max_bin': 837}. Best is trial 22 with value: 0.33513325945523653.\u001b[0m\n",
            "0.3354765536743234\n",
            "Score as calculated for the leader board (っಠ‿ಠ)っ 0.36328639478777963\n",
            "\u001b[32m[I 2021-03-13 11:58:33,824]\u001b[0m Trial 135 finished with value: 0.3354765536743234 and parameters: {'num_leaves': 30, 'max_depth': 14, 'min_child_weight': 11, 'feature_fraction': 0.4305981142584914, 'bagging_fraction': 0.5947398633462477, 'bagging_freq': 4, 'min_child_samples': 26, 'lambda_l1': 1.42216288032134e-05, 'lambda_l2': 3.294021295997575e-06, 'learning_rate': 0.03793809471403882, 'max_bin': 784}. Best is trial 22 with value: 0.33513325945523653.\u001b[0m\n",
            "0.3355991585224963\n",
            "Score as calculated for the leader board (っಠ‿ಠ)っ 0.36245034604778387\n",
            "\u001b[32m[I 2021-03-13 11:58:34,668]\u001b[0m Trial 136 finished with value: 0.3355991585224963 and parameters: {'num_leaves': 30, 'max_depth': 11, 'min_child_weight': 10, 'feature_fraction': 0.40090047624078684, 'bagging_fraction': 0.7129860676571288, 'bagging_freq': 4, 'min_child_samples': 33, 'lambda_l1': 0.00011577797593131893, 'lambda_l2': 0.0001199502796095002, 'learning_rate': 0.10798040443901766, 'max_bin': 748}. Best is trial 22 with value: 0.33513325945523653.\u001b[0m\n",
            "0.3352945632692524\n",
            "Score as calculated for the leader board (っಠ‿ಠ)っ 0.3641737015826495\n",
            "\u001b[32m[I 2021-03-13 11:58:35,700]\u001b[0m Trial 137 finished with value: 0.3352945632692524 and parameters: {'num_leaves': 31, 'max_depth': 15, 'min_child_weight': 2, 'feature_fraction': 0.42078327860194764, 'bagging_fraction': 0.6310460854905234, 'bagging_freq': 3, 'min_child_samples': 30, 'lambda_l1': 6.0044736051427265e-06, 'lambda_l2': 6.877226936784305e-05, 'learning_rate': 0.06033133141444208, 'max_bin': 767}. Best is trial 22 with value: 0.33513325945523653.\u001b[0m\n",
            "0.33747442505877556\n",
            "Score as calculated for the leader board (っಠ‿ಠ)っ 0.348204871949529\n",
            "\u001b[32m[I 2021-03-13 11:58:36,281]\u001b[0m Trial 138 finished with value: 0.33747442505877556 and parameters: {'num_leaves': 26, 'max_depth': 10, 'min_child_weight': 12, 'feature_fraction': 0.4422202086361457, 'bagging_fraction': 0.7328020104556059, 'bagging_freq': 4, 'min_child_samples': 35, 'lambda_l1': 0.18272413814029884, 'lambda_l2': 2.8221839111337712e-05, 'learning_rate': 0.4751407917911856, 'max_bin': 859}. Best is trial 22 with value: 0.33513325945523653.\u001b[0m\n",
            "0.33534543777169706\n",
            "Score as calculated for the leader board (っಠ‿ಠ)っ 0.3636576676174388\n",
            "\u001b[32m[I 2021-03-13 11:58:37,818]\u001b[0m Trial 139 finished with value: 0.33534543777169706 and parameters: {'num_leaves': 32, 'max_depth': 14, 'min_child_weight': 11, 'feature_fraction': 0.41103289973832663, 'bagging_fraction': 0.6720349343269815, 'bagging_freq': 3, 'min_child_samples': 5, 'lambda_l1': 3.5703004859882564e-05, 'lambda_l2': 5.665309301435744e-06, 'learning_rate': 0.0322430015558304, 'max_bin': 817}. Best is trial 22 with value: 0.33513325945523653.\u001b[0m\n",
            "0.3353676279103597\n",
            "Score as calculated for the leader board (っಠ‿ಠ)っ 0.36417278563955113\n",
            "\u001b[32m[I 2021-03-13 11:58:48,431]\u001b[0m Trial 140 finished with value: 0.3353676279103597 and parameters: {'num_leaves': 31, 'max_depth': 10, 'min_child_weight': 2, 'feature_fraction': 0.43317961893276363, 'bagging_fraction': 0.8619487127391018, 'bagging_freq': 4, 'min_child_samples': 21, 'lambda_l1': 0.00988170099425016, 'lambda_l2': 2.363837032125907e-08, 'learning_rate': 0.0027175372174690973, 'max_bin': 830}. Best is trial 22 with value: 0.33513325945523653.\u001b[0m\n",
            "0.3354244754850867\n",
            "Score as calculated for the leader board (っಠ‿ಠ)っ 0.36403202168266385\n",
            "\u001b[32m[I 2021-03-13 11:58:49,876]\u001b[0m Trial 141 finished with value: 0.3354244754850867 and parameters: {'num_leaves': 27, 'max_depth': 9, 'min_child_weight': 8, 'feature_fraction': 0.40892142417403504, 'bagging_fraction': 0.7541935065624775, 'bagging_freq': 8, 'min_child_samples': 24, 'lambda_l1': 1.910814471225905e-05, 'lambda_l2': 3.1106716653435617e-07, 'learning_rate': 0.027325913866579055, 'max_bin': 868}. Best is trial 22 with value: 0.33513325945523653.\u001b[0m\n",
            "0.3352372785710585\n",
            "Score as calculated for the leader board (っಠ‿ಠ)っ 0.36501259242754247\n",
            "\u001b[32m[I 2021-03-13 11:58:51,890]\u001b[0m Trial 142 finished with value: 0.3352372785710585 and parameters: {'num_leaves': 29, 'max_depth': 13, 'min_child_weight': 9, 'feature_fraction': 0.4000337567703042, 'bagging_fraction': 0.848483659377542, 'bagging_freq': 8, 'min_child_samples': 27, 'lambda_l1': 2.4190263935655393e-06, 'lambda_l2': 5.13988128024682e-07, 'learning_rate': 0.020293909401735522, 'max_bin': 885}. Best is trial 22 with value: 0.33513325945523653.\u001b[0m\n",
            "0.33522728777802624\n",
            "Score as calculated for the leader board (っಠ‿ಠ)っ 0.36528314904745113\n",
            "\u001b[32m[I 2021-03-13 11:58:53,054]\u001b[0m Trial 143 finished with value: 0.33522728777802624 and parameters: {'num_leaves': 29, 'max_depth': 13, 'min_child_weight': 10, 'feature_fraction': 0.40035216165319654, 'bagging_fraction': 0.8434664675789936, 'bagging_freq': 8, 'min_child_samples': 27, 'lambda_l1': 1.0292515591460923e-05, 'lambda_l2': 5.663054007936702e-07, 'learning_rate': 0.04700691608195309, 'max_bin': 900}. Best is trial 22 with value: 0.33513325945523653.\u001b[0m\n",
            "0.33505301027699136\n",
            "Score as calculated for the leader board (っಠ‿ಠ)っ 0.3662931284580007\n",
            "\u001b[32m[I 2021-03-13 11:58:54,252]\u001b[0m Trial 144 finished with value: 0.33505301027699136 and parameters: {'num_leaves': 29, 'max_depth': 13, 'min_child_weight': 10, 'feature_fraction': 0.40005937858347834, 'bagging_fraction': 0.8344025076988906, 'bagging_freq': 8, 'min_child_samples': 27, 'lambda_l1': 1.8022142211316648e-06, 'lambda_l2': 1.9452265664978631e-07, 'learning_rate': 0.047727847948849246, 'max_bin': 900}. Best is trial 144 with value: 0.33505301027699136.\u001b[0m\n",
            "0.3355276945412417\n",
            "Score as calculated for the leader board (っಠ‿ಠ)っ 0.3660168690951799\n",
            "\u001b[32m[I 2021-03-13 12:00:27,175]\u001b[0m Trial 145 finished with value: 0.3355276945412417 and parameters: {'num_leaves': 29, 'max_depth': 13, 'min_child_weight': 9, 'feature_fraction': 0.40135650426015956, 'bagging_fraction': 0.853622174732937, 'bagging_freq': 8, 'min_child_samples': 28, 'lambda_l1': 5.597016714758655e-07, 'lambda_l2': 2.0602094579329331e-07, 'learning_rate': 0.0002326086171832928, 'max_bin': 896}. Best is trial 144 with value: 0.33505301027699136.\u001b[0m\n",
            "0.3354474587354476\n",
            "Score as calculated for the leader board (っಠ‿ಠ)っ 0.3642113913586801\n",
            "\u001b[32m[I 2021-03-13 12:00:28,379]\u001b[0m Trial 146 finished with value: 0.3354474587354476 and parameters: {'num_leaves': 28, 'max_depth': 13, 'min_child_weight': 10, 'feature_fraction': 0.4215327211502638, 'bagging_fraction': 0.8499666762095234, 'bagging_freq': 8, 'min_child_samples': 26, 'lambda_l1': 1.8151945900518647e-06, 'lambda_l2': 8.063061130125985e-07, 'learning_rate': 0.043063393584801504, 'max_bin': 888}. Best is trial 144 with value: 0.33505301027699136.\u001b[0m\n",
            "0.33699282221224974\n",
            "Score as calculated for the leader board (っಠ‿ಠ)っ 0.3525557119560301\n",
            "\u001b[32m[I 2021-03-13 12:00:29,003]\u001b[0m Trial 147 finished with value: 0.33699282221224974 and parameters: {'num_leaves': 30, 'max_depth': 13, 'min_child_weight': 10, 'feature_fraction': 0.40016126349211895, 'bagging_fraction': 0.8901955356735712, 'bagging_freq': 8, 'min_child_samples': 23, 'lambda_l1': 5.581128344446841e-06, 'lambda_l2': 5.35810774402822e-07, 'learning_rate': 0.37203511528082556, 'max_bin': 848}. Best is trial 144 with value: 0.33505301027699136.\u001b[0m\n",
            "0.33607908677161996\n",
            "Score as calculated for the leader board (っಠ‿ಠ)っ 0.3596247970505452\n",
            "\u001b[32m[I 2021-03-13 12:00:31,616]\u001b[0m Trial 148 finished with value: 0.33607908677161996 and parameters: {'num_leaves': 29, 'max_depth': 13, 'min_child_weight': 9, 'feature_fraction': 0.8630181613278083, 'bagging_fraction': 0.8338178886239674, 'bagging_freq': 8, 'min_child_samples': 27, 'lambda_l1': 1.955516316960781e-06, 'lambda_l2': 4.594422928884269e-07, 'learning_rate': 0.016848060984035212, 'max_bin': 881}. Best is trial 144 with value: 0.33505301027699136.\u001b[0m\n",
            "0.3353784770315936\n",
            "Score as calculated for the leader board (っಠ‿ಠ)っ 0.3637040702575726\n",
            "\u001b[32m[I 2021-03-13 12:00:32,758]\u001b[0m Trial 149 finished with value: 0.3353784770315936 and parameters: {'num_leaves': 30, 'max_depth': 12, 'min_child_weight': 10, 'feature_fraction': 0.41547202323490123, 'bagging_fraction': 0.8672977921942769, 'bagging_freq': 6, 'min_child_samples': 25, 'lambda_l1': 9.938303590115856e-06, 'lambda_l2': 1.7549530376364767e-07, 'learning_rate': 0.06108015995732388, 'max_bin': 512}. Best is trial 144 with value: 0.33505301027699136.\u001b[0m\n",
            "0.33548137889212143\n",
            "Score as calculated for the leader board (っಠ‿ಠ)っ 0.3636181531938516\n",
            "\u001b[32m[I 2021-03-13 12:00:34,006]\u001b[0m Trial 150 finished with value: 0.33548137889212143 and parameters: {'num_leaves': 28, 'max_depth': 13, 'min_child_weight': 10, 'feature_fraction': 0.4280799121793307, 'bagging_fraction': 0.8429919459078532, 'bagging_freq': 8, 'min_child_samples': 29, 'lambda_l1': 3.674578767607051e-06, 'lambda_l2': 2.9037240519645004e-07, 'learning_rate': 0.03926495069099732, 'max_bin': 861}. Best is trial 144 with value: 0.33505301027699136.\u001b[0m\n",
            "0.3352819197183925\n",
            "Score as calculated for the leader board (っಠ‿ಠ)っ 0.36493644042003626\n",
            "\u001b[32m[I 2021-03-13 12:00:55,837]\u001b[0m Trial 151 finished with value: 0.3352819197183925 and parameters: {'num_leaves': 28, 'max_depth': 12, 'min_child_weight': 11, 'feature_fraction': 0.4004420757032472, 'bagging_fraction': 0.8237207845982883, 'bagging_freq': 8, 'min_child_samples': 27, 'lambda_l1': 1.4414393515901598e-06, 'lambda_l2': 6.265078950653941e-08, 'learning_rate': 0.0011227796388730456, 'max_bin': 899}. Best is trial 144 with value: 0.33505301027699136.\u001b[0m\n",
            "0.3355962335935147\n",
            "Score as calculated for the leader board (っಠ‿ಠ)っ 0.3613451229912026\n",
            "\u001b[32m[I 2021-03-13 12:00:56,757]\u001b[0m Trial 152 finished with value: 0.3355962335935147 and parameters: {'num_leaves': 29, 'max_depth': 11, 'min_child_weight': 9, 'feature_fraction': 0.4222391423317572, 'bagging_fraction': 0.816361747798891, 'bagging_freq': 8, 'min_child_samples': 22, 'lambda_l1': 0.043847420932923535, 'lambda_l2': 1.1903795225749595e-06, 'learning_rate': 0.09436643031242185, 'max_bin': 838}. Best is trial 144 with value: 0.33505301027699136.\u001b[0m\n",
            "0.3356450199625575\n",
            "Score as calculated for the leader board (っಠ‿ಠ)っ 0.36215562526691863\n",
            "\u001b[32m[I 2021-03-13 12:00:57,927]\u001b[0m Trial 153 finished with value: 0.3356450199625575 and parameters: {'num_leaves': 27, 'max_depth': 10, 'min_child_weight': 10, 'feature_fraction': 0.5641292965444386, 'bagging_fraction': 0.8340301358348364, 'bagging_freq': 8, 'min_child_samples': 25, 'lambda_l1': 0.11821482055579784, 'lambda_l2': 1.1453010723800551e-07, 'learning_rate': 0.054862028985707606, 'max_bin': 481}. Best is trial 144 with value: 0.33505301027699136.\u001b[0m\n",
            "0.33531899165472084\n",
            "Score as calculated for the leader board (っಠ‿ಠ)っ 0.3645200517845585\n",
            "\u001b[32m[I 2021-03-13 12:00:59,644]\u001b[0m Trial 154 finished with value: 0.33531899165472084 and parameters: {'num_leaves': 26, 'max_depth': 13, 'min_child_weight': 11, 'feature_fraction': 0.4444187241411978, 'bagging_fraction': 0.7921825408659594, 'bagging_freq': 8, 'min_child_samples': 32, 'lambda_l1': 7.424811843568015e-07, 'lambda_l2': 0.00031450645760258596, 'learning_rate': 0.02284431008871297, 'max_bin': 869}. Best is trial 144 with value: 0.33505301027699136.\u001b[0m\n",
            "0.33515870493471367\n",
            "Score as calculated for the leader board (っಠ‿ಠ)っ 0.3651786828784968\n",
            "\u001b[32m[I 2021-03-13 12:01:00,659]\u001b[0m Trial 155 finished with value: 0.33515870493471367 and parameters: {'num_leaves': 25, 'max_depth': 12, 'min_child_weight': 11, 'feature_fraction': 0.4115583298656426, 'bagging_fraction': 0.8561914631823091, 'bagging_freq': 8, 'min_child_samples': 24, 'lambda_l1': 0.0006413283106889974, 'lambda_l2': 6.707481465905042e-07, 'learning_rate': 0.07042902956484662, 'max_bin': 809}. Best is trial 144 with value: 0.33505301027699136.\u001b[0m\n",
            "0.3352654403800348\n",
            "Score as calculated for the leader board (っಠ‿ಠ)っ 0.364419072238756\n",
            "\u001b[32m[I 2021-03-13 12:01:01,653]\u001b[0m Trial 156 finished with value: 0.3352654403800348 and parameters: {'num_leaves': 25, 'max_depth': 12, 'min_child_weight': 10, 'feature_fraction': 0.4118486008118141, 'bagging_fraction': 0.8656997874184785, 'bagging_freq': 8, 'min_child_samples': 23, 'lambda_l1': 0.0011928322505561813, 'lambda_l2': 7.870617992121717e-07, 'learning_rate': 0.07158148758516396, 'max_bin': 803}. Best is trial 144 with value: 0.33505301027699136.\u001b[0m\n",
            "0.335552241952251\n",
            "Score as calculated for the leader board (っಠ‿ಠ)っ 0.36248655569072885\n",
            "\u001b[32m[I 2021-03-13 12:01:02,397]\u001b[0m Trial 157 finished with value: 0.335552241952251 and parameters: {'num_leaves': 24, 'max_depth': 12, 'min_child_weight': 9, 'feature_fraction': 0.41331661930931424, 'bagging_fraction': 0.8789313150235442, 'bagging_freq': 8, 'min_child_samples': 24, 'lambda_l1': 0.0012646416354231758, 'lambda_l2': 6.833936481787016e-07, 'learning_rate': 0.11688730109994697, 'max_bin': 803}. Best is trial 144 with value: 0.33505301027699136.\u001b[0m\n",
            "0.3354390576933451\n",
            "Score as calculated for the leader board (っಠ‿ಠ)っ 0.36366388565834024\n",
            "\u001b[32m[I 2021-03-13 12:01:03,339]\u001b[0m Trial 158 finished with value: 0.3354390576933451 and parameters: {'num_leaves': 25, 'max_depth': 11, 'min_child_weight': 10, 'feature_fraction': 0.4001208880566481, 'bagging_fraction': 0.9128762001423694, 'bagging_freq': 8, 'min_child_samples': 22, 'lambda_l1': 0.0006588451033657255, 'lambda_l2': 1.7141193162396006e-06, 'learning_rate': 0.08171823478098424, 'max_bin': 817}. Best is trial 144 with value: 0.33505301027699136.\u001b[0m\n",
            "0.33580980875137245\n",
            "Score as calculated for the leader board (っಠ‿ಠ)っ 0.36258664390157297\n",
            "\u001b[32m[I 2021-03-13 12:01:04,061]\u001b[0m Trial 159 finished with value: 0.33580980875137245 and parameters: {'num_leaves': 24, 'max_depth': 12, 'min_child_weight': 11, 'feature_fraction': 0.4317720249993333, 'bagging_fraction': 0.8574206155811066, 'bagging_freq': 8, 'min_child_samples': 19, 'lambda_l1': 0.00026811985427988916, 'lambda_l2': 3.8145691737027825e-07, 'learning_rate': 0.13849680220830235, 'max_bin': 787}. Best is trial 144 with value: 0.33505301027699136.\u001b[0m\n",
            "0.33522735307453055\n",
            "Score as calculated for the leader board (っಠ‿ಠ)っ 0.36491019001310254\n",
            "\u001b[32m[I 2021-03-13 12:01:05,054]\u001b[0m Trial 160 finished with value: 0.33522735307453055 and parameters: {'num_leaves': 22, 'max_depth': 12, 'min_child_weight': 10, 'feature_fraction': 0.41189483656633635, 'bagging_fraction': 0.8694911559321854, 'bagging_freq': 8, 'min_child_samples': 27, 'lambda_l1': 0.0004469516137775336, 'lambda_l2': 8.332046289820443e-07, 'learning_rate': 0.06369772482125038, 'max_bin': 834}. Best is trial 144 with value: 0.33505301027699136.\u001b[0m\n",
            "0.33525511545071535\n",
            "Score as calculated for the leader board (っಠ‿ಠ)っ 0.36484379732050304\n",
            "\u001b[32m[I 2021-03-13 12:01:05,977]\u001b[0m Trial 161 finished with value: 0.33525511545071535 and parameters: {'num_leaves': 17, 'max_depth': 12, 'min_child_weight': 10, 'feature_fraction': 0.41214924966116234, 'bagging_fraction': 0.8761958508640328, 'bagging_freq': 8, 'min_child_samples': 27, 'lambda_l1': 0.0004974386126133146, 'lambda_l2': 1.046647434018442e-06, 'learning_rate': 0.06646116325189506, 'max_bin': 837}. Best is trial 144 with value: 0.33505301027699136.\u001b[0m\n",
            "0.335441579556494\n",
            "Score as calculated for the leader board (っಠ‿ಠ)っ 0.3636091013083112\n",
            "\u001b[32m[I 2021-03-13 12:01:06,994]\u001b[0m Trial 162 finished with value: 0.335441579556494 and parameters: {'num_leaves': 19, 'max_depth': 12, 'min_child_weight': 9, 'feature_fraction': 0.42000925092298896, 'bagging_fraction': 0.900087426991579, 'bagging_freq': 8, 'min_child_samples': 27, 'lambda_l1': 0.0004502825176388923, 'lambda_l2': 7.879729015813971e-07, 'learning_rate': 0.05957888952591362, 'max_bin': 803}. Best is trial 144 with value: 0.33505301027699136.\u001b[0m\n",
            "0.33547786395227586\n",
            "Score as calculated for the leader board (っಠ‿ಠ)っ 0.3636279014440198\n",
            "\u001b[32m[I 2021-03-13 12:01:08,174]\u001b[0m Trial 163 finished with value: 0.33547786395227586 and parameters: {'num_leaves': 19, 'max_depth': 12, 'min_child_weight': 10, 'feature_fraction': 0.4381896192689009, 'bagging_fraction': 0.8718999686053855, 'bagging_freq': 8, 'min_child_samples': 28, 'lambda_l1': 0.002189084476011553, 'lambda_l2': 5.272012460253817e-07, 'learning_rate': 0.040643558137049965, 'max_bin': 838}. Best is trial 144 with value: 0.33505301027699136.\u001b[0m\n",
            "0.3353744596879528\n",
            "Score as calculated for the leader board (っಠ‿ಠ)っ 0.3631469421342815\n",
            "\u001b[32m[I 2021-03-13 12:01:09,041]\u001b[0m Trial 164 finished with value: 0.3353744596879528 and parameters: {'num_leaves': 22, 'max_depth': 13, 'min_child_weight': 9, 'feature_fraction': 0.4101549467345998, 'bagging_fraction': 0.8476517584212211, 'bagging_freq': 8, 'min_child_samples': 26, 'lambda_l1': 0.0009073327238897219, 'lambda_l2': 2.011520950230964e-06, 'learning_rate': 0.09996294155449498, 'max_bin': 821}. Best is trial 144 with value: 0.33505301027699136.\u001b[0m\n",
            "0.3353817487910477\n",
            "Score as calculated for the leader board (っಠ‿ಠ)っ 0.3638829672118345\n",
            "\u001b[32m[I 2021-03-13 12:01:11,279]\u001b[0m Trial 165 finished with value: 0.3353817487910477 and parameters: {'num_leaves': 25, 'max_depth': 11, 'min_child_weight': 10, 'feature_fraction': 0.4505445120522365, 'bagging_fraction': 0.8842578270667214, 'bagging_freq': 8, 'min_child_samples': 23, 'lambda_l1': 0.0002883966939751991, 'lambda_l2': 9.80063245673306e-07, 'learning_rate': 0.01714505957508318, 'max_bin': 828}. Best is trial 144 with value: 0.33505301027699136.\u001b[0m\n",
            "0.33931573612064386\n",
            "Score as calculated for the leader board (っಠ‿ಠ)っ 0.332314795105116\n",
            "\u001b[32m[I 2021-03-13 12:01:11,795]\u001b[0m Trial 166 finished with value: 0.33931573612064386 and parameters: {'num_leaves': 17, 'max_depth': 12, 'min_child_weight': 8, 'feature_fraction': 0.4248568432542091, 'bagging_fraction': 0.8703284848811339, 'bagging_freq': 8, 'min_child_samples': 30, 'lambda_l1': 0.0015132974987798517, 'lambda_l2': 2.169104923845418e-07, 'learning_rate': 0.974421684812552, 'max_bin': 783}. Best is trial 144 with value: 0.33505301027699136.\u001b[0m\n",
            "0.33520352266676473\n",
            "Score as calculated for the leader board (っಠ‿ಠ)っ 0.3649213101914526\n",
            "\u001b[32m[I 2021-03-13 12:01:12,787]\u001b[0m Trial 167 finished with value: 0.33520352266676473 and parameters: {'num_leaves': 23, 'max_depth': 13, 'min_child_weight': 10, 'feature_fraction': 0.40041577088612257, 'bagging_fraction': 0.8601528621720346, 'bagging_freq': 8, 'min_child_samples': 21, 'lambda_l1': 0.0005328222605934968, 'lambda_l2': 3.5408879192662733e-07, 'learning_rate': 0.06551020225356485, 'max_bin': 847}. Best is trial 144 with value: 0.33505301027699136.\u001b[0m\n",
            "0.33541399987251663\n",
            "Score as calculated for the leader board (っಠ‿ಠ)っ 0.364018074847436\n",
            "\u001b[32m[I 2021-03-13 12:01:13,700]\u001b[0m Trial 168 finished with value: 0.33541399987251663 and parameters: {'num_leaves': 15, 'max_depth': 13, 'min_child_weight': 10, 'feature_fraction': 0.40231893105763045, 'bagging_fraction': 0.8941617481950447, 'bagging_freq': 8, 'min_child_samples': 21, 'lambda_l1': 0.00044267257560359275, 'lambda_l2': 3.4276581317964446e-07, 'learning_rate': 0.06538433144523129, 'max_bin': 399}. Best is trial 144 with value: 0.33505301027699136.\u001b[0m\n",
            "0.335342408773311\n",
            "Score as calculated for the leader board (っಠ‿ಠ)っ 0.36429494650957855\n",
            "\u001b[32m[I 2021-03-13 12:01:14,535]\u001b[0m Trial 169 finished with value: 0.335342408773311 and parameters: {'num_leaves': 17, 'max_depth': 13, 'min_child_weight': 10, 'feature_fraction': 0.4014399791987886, 'bagging_fraction': 0.8597978798653781, 'bagging_freq': 8, 'min_child_samples': 27, 'lambda_l1': 0.0006450255806622262, 'lambda_l2': 6.828514574424438e-07, 'learning_rate': 0.08639493019550068, 'max_bin': 805}. Best is trial 144 with value: 0.33505301027699136.\u001b[0m\n",
            "0.33540138990521595\n",
            "Score as calculated for the leader board (っಠ‿ಠ)っ 0.3650794671993728\n",
            "\u001b[32m[I 2021-03-13 12:01:15,614]\u001b[0m Trial 170 finished with value: 0.33540138990521595 and parameters: {'num_leaves': 23, 'max_depth': 12, 'min_child_weight': 10, 'feature_fraction': 0.43320044535752594, 'bagging_fraction': 0.8796073399937152, 'bagging_freq': 8, 'min_child_samples': 29, 'lambda_l1': 0.0011103301759815955, 'lambda_l2': 1.5290619242063316e-07, 'learning_rate': 0.04939114647501602, 'max_bin': 858}. Best is trial 144 with value: 0.33505301027699136.\u001b[0m\n",
            "0.3396728948833373\n",
            "Score as calculated for the leader board (っಠ‿ಠ)っ 0.3673850354450168\n",
            "\u001b[32m[I 2021-03-13 12:02:30,878]\u001b[0m Trial 171 finished with value: 0.3396728948833373 and parameters: {'num_leaves': 17, 'max_depth': 13, 'min_child_weight': 9, 'feature_fraction': 0.41348423596973494, 'bagging_fraction': 0.845947567663805, 'bagging_freq': 8, 'min_child_samples': 23, 'lambda_l1': 0.002790858235237353, 'lambda_l2': 2.7523367467623055e-07, 'learning_rate': 0.00010655234775711758, 'max_bin': 845}. Best is trial 144 with value: 0.33505301027699136.\u001b[0m\n",
            "0.3353131548959476\n",
            "Score as calculated for the leader board (っಠ‿ಠ)っ 0.3644222540637701\n",
            "\u001b[32m[I 2021-03-13 12:02:32,152]\u001b[0m Trial 172 finished with value: 0.3353131548959476 and parameters: {'num_leaves': 26, 'max_depth': 12, 'min_child_weight': 9, 'feature_fraction': 0.40078308645013133, 'bagging_fraction': 0.8633948213685014, 'bagging_freq': 8, 'min_child_samples': 25, 'lambda_l1': 0.000153139604815595, 'lambda_l2': 5.019403362807363e-07, 'learning_rate': 0.041657474104522266, 'max_bin': 821}. Best is trial 144 with value: 0.33505301027699136.\u001b[0m\n",
            "0.33534585893146873\n",
            "Score as calculated for the leader board (っಠ‿ಠ)っ 0.3646871255281124\n",
            "\u001b[32m[I 2021-03-13 12:02:33,838]\u001b[0m Trial 173 finished with value: 0.33534585893146873 and parameters: {'num_leaves': 23, 'max_depth': 13, 'min_child_weight': 10, 'feature_fraction': 0.41674875174183995, 'bagging_fraction': 0.8282547265529606, 'bagging_freq': 8, 'min_child_samples': 24, 'lambda_l1': 0.004439231646543467, 'lambda_l2': 9.742468507718925e-07, 'learning_rate': 0.021948391880494036, 'max_bin': 768}. Best is trial 144 with value: 0.33505301027699136.\u001b[0m\n",
            "0.33513172149556986\n",
            "Score as calculated for the leader board (っಠ‿ಠ)っ 0.3651524437909506\n",
            "\u001b[32m[I 2021-03-13 12:02:34,850]\u001b[0m Trial 174 finished with value: 0.33513172149556986 and parameters: {'num_leaves': 25, 'max_depth': 12, 'min_child_weight': 5, 'feature_fraction': 0.4000007783611733, 'bagging_fraction': 0.8559501412915358, 'bagging_freq': 8, 'min_child_samples': 21, 'lambda_l1': 0.0008927952035392614, 'lambda_l2': 4.0284499313279267e-07, 'learning_rate': 0.06746982108172278, 'max_bin': 844}. Best is trial 144 with value: 0.33505301027699136.\u001b[0m\n",
            "0.33567087742425245\n",
            "Score as calculated for the leader board (っಠ‿ಠ)っ 0.36095803223137957\n",
            "\u001b[32m[I 2021-03-13 12:02:35,689]\u001b[0m Trial 175 finished with value: 0.33567087742425245 and parameters: {'num_leaves': 24, 'max_depth': 12, 'min_child_weight': 4, 'feature_fraction': 0.42506629171686666, 'bagging_fraction': 0.8643456740611796, 'bagging_freq': 8, 'min_child_samples': 20, 'lambda_l1': 0.0007944454900284349, 'lambda_l2': 2.0803334985055495e-07, 'learning_rate': 0.10719827759026435, 'max_bin': 881}. Best is trial 144 with value: 0.33505301027699136.\u001b[0m\n",
            "0.33515529549386136\n",
            "Score as calculated for the leader board (っಠ‿ಠ)っ 0.3650534019311804\n",
            "\u001b[32m[I 2021-03-13 12:02:36,671]\u001b[0m Trial 176 finished with value: 0.33515529549386136 and parameters: {'num_leaves': 21, 'max_depth': 12, 'min_child_weight': 3, 'feature_fraction': 0.4011146626537038, 'bagging_fraction': 0.842172762826269, 'bagging_freq': 8, 'min_child_samples': 21, 'lambda_l1': 0.00018431290409277765, 'lambda_l2': 3.5989783176653666e-07, 'learning_rate': 0.07058689451381175, 'max_bin': 797}. Best is trial 144 with value: 0.33505301027699136.\u001b[0m\n",
            "0.3353095603248619\n",
            "Score as calculated for the leader board (っಠ‿ಠ)っ 0.36461228554151526\n",
            "\u001b[32m[I 2021-03-13 12:02:37,610]\u001b[0m Trial 177 finished with value: 0.3353095603248619 and parameters: {'num_leaves': 19, 'max_depth': 12, 'min_child_weight': 3, 'feature_fraction': 0.4013067987446637, 'bagging_fraction': 0.8343893084196604, 'bagging_freq': 8, 'min_child_samples': 19, 'lambda_l1': 0.0003233221437377941, 'lambda_l2': 3.2060075000499847e-07, 'learning_rate': 0.062344278086388524, 'max_bin': 847}. Best is trial 144 with value: 0.33505301027699136.\u001b[0m\n",
            "0.3352360033510351\n",
            "Score as calculated for the leader board (っಠ‿ಠ)っ 0.36449187584686676\n",
            "\u001b[32m[I 2021-03-13 12:02:38,472]\u001b[0m Trial 178 finished with value: 0.3352360033510351 and parameters: {'num_leaves': 21, 'max_depth': 13, 'min_child_weight': 3, 'feature_fraction': 0.40136461154902286, 'bagging_fraction': 0.8113751923976399, 'bagging_freq': 8, 'min_child_samples': 21, 'lambda_l1': 0.00047430045376544984, 'lambda_l2': 1.20092014945187e-07, 'learning_rate': 0.09245598368774754, 'max_bin': 625}. Best is trial 144 with value: 0.33505301027699136.\u001b[0m\n",
            "0.3354544905263709\n",
            "Score as calculated for the leader board (っಠ‿ಠ)っ 0.362927691984607\n",
            "\u001b[32m[I 2021-03-13 12:02:39,346]\u001b[0m Trial 179 finished with value: 0.3354544905263709 and parameters: {'num_leaves': 23, 'max_depth': 13, 'min_child_weight': 3, 'feature_fraction': 0.4020053786329668, 'bagging_fraction': 0.8100956257127863, 'bagging_freq': 8, 'min_child_samples': 21, 'lambda_l1': 0.00023151834131309617, 'lambda_l2': 1.2803445894674054e-07, 'learning_rate': 0.09280105337376812, 'max_bin': 661}. Best is trial 144 with value: 0.33505301027699136.\u001b[0m\n",
            "0.3383441758063066\n",
            "Score as calculated for the leader board (っಠ‿ಠ)っ 0.34174447113579026\n",
            "\u001b[32m[I 2021-03-13 12:02:39,882]\u001b[0m Trial 180 finished with value: 0.3383441758063066 and parameters: {'num_leaves': 21, 'max_depth': 13, 'min_child_weight': 3, 'feature_fraction': 0.40039070773082325, 'bagging_fraction': 0.8167835174615845, 'bagging_freq': 8, 'min_child_samples': 18, 'lambda_l1': 0.00013477591125166902, 'lambda_l2': 1.9469427321077702e-07, 'learning_rate': 0.7296351961818558, 'max_bin': 787}. Best is trial 144 with value: 0.33505301027699136.\u001b[0m\n",
            "0.335507673485207\n",
            "Score as calculated for the leader board (っಠ‿ಠ)っ 0.364063417954159\n",
            "\u001b[32m[I 2021-03-13 12:02:41,010]\u001b[0m Trial 181 finished with value: 0.335507673485207 and parameters: {'num_leaves': 20, 'max_depth': 12, 'min_child_weight': 4, 'feature_fraction': 0.42092903631082285, 'bagging_fraction': 0.8458802365556185, 'bagging_freq': 8, 'min_child_samples': 27, 'lambda_l1': 0.0005002174064234317, 'lambda_l2': 8.028591697363532e-08, 'learning_rate': 0.04431939122237122, 'max_bin': 557}. Best is trial 144 with value: 0.33505301027699136.\u001b[0m\n",
            "0.3352274584112975\n",
            "Score as calculated for the leader board (っಠ‿ಠ)っ 0.36472635971292944\n",
            "\u001b[32m[I 2021-03-13 12:02:41,962]\u001b[0m Trial 182 finished with value: 0.3352274584112975 and parameters: {'num_leaves': 20, 'max_depth': 13, 'min_child_weight': 2, 'feature_fraction': 0.4104785781627243, 'bagging_fraction': 0.8354379394240717, 'bagging_freq': 8, 'min_child_samples': 26, 'lambda_l1': 0.00020202811729188203, 'lambda_l2': 4.344575424473071e-07, 'learning_rate': 0.07232958758321131, 'max_bin': 679}. Best is trial 144 with value: 0.33505301027699136.\u001b[0m\n",
            "0.33547561277159654\n",
            "Score as calculated for the leader board (っಠ‿ಠ)っ 0.3630826250484134\n",
            "\u001b[32m[I 2021-03-13 12:02:42,815]\u001b[0m Trial 183 finished with value: 0.33547561277159654 and parameters: {'num_leaves': 20, 'max_depth': 13, 'min_child_weight': 2, 'feature_fraction': 0.4352663501531465, 'bagging_fraction': 0.834994293454652, 'bagging_freq': 8, 'min_child_samples': 22, 'lambda_l1': 0.0001998098191615181, 'lambda_l2': 4.2008763090872334e-07, 'learning_rate': 0.08927206912623781, 'max_bin': 680}. Best is trial 144 with value: 0.33505301027699136.\u001b[0m\n",
            "0.33544060763085104\n",
            "Score as calculated for the leader board (っಠ‿ಠ)っ 0.3633197022160318\n",
            "\u001b[32m[I 2021-03-13 12:02:43,594]\u001b[0m Trial 184 finished with value: 0.33544060763085104 and parameters: {'num_leaves': 21, 'max_depth': 13, 'min_child_weight': 3, 'feature_fraction': 0.40981798498320027, 'bagging_fraction': 0.8217417278472307, 'bagging_freq': 8, 'min_child_samples': 25, 'lambda_l1': 0.0007044515551619048, 'lambda_l2': 2.6845824460767006e-07, 'learning_rate': 0.12567209099167365, 'max_bin': 646}. Best is trial 144 with value: 0.33505301027699136.\u001b[0m\n",
            "0.33535973615172393\n",
            "Score as calculated for the leader board (っಠ‿ಠ)っ 0.36403307234578863\n",
            "\u001b[32m[I 2021-03-13 12:02:44,834]\u001b[0m Trial 185 finished with value: 0.33535973615172393 and parameters: {'num_leaves': 20, 'max_depth': 13, 'min_child_weight': 2, 'feature_fraction': 0.4003224106492217, 'bagging_fraction': 0.8519132180213455, 'bagging_freq': 8, 'min_child_samples': 21, 'lambda_l1': 0.0003194198187489004, 'lambda_l2': 9.806945088006712e-08, 'learning_rate': 0.03830935785888505, 'max_bin': 604}. Best is trial 144 with value: 0.33505301027699136.\u001b[0m\n",
            "0.33529349295996064\n",
            "Score as calculated for the leader board (っಠ‿ಠ)っ 0.3647737908843154\n",
            "\u001b[32m[I 2021-03-13 12:02:45,740]\u001b[0m Trial 186 finished with value: 0.33529349295996064 and parameters: {'num_leaves': 21, 'max_depth': 13, 'min_child_weight': 2, 'feature_fraction': 0.4004963077678833, 'bagging_fraction': 0.8401279507602945, 'bagging_freq': 8, 'min_child_samples': 26, 'lambda_l1': 8.076603487183904e-05, 'lambda_l2': 5.530361578043281e-07, 'learning_rate': 0.07608398674074174, 'max_bin': 626}. Best is trial 144 with value: 0.33505301027699136.\u001b[0m\n",
            "0.3354231405909313\n",
            "Score as calculated for the leader board (っಠ‿ಠ)っ 0.36407174679050325\n",
            "\u001b[32m[I 2021-03-13 12:02:46,508]\u001b[0m Trial 187 finished with value: 0.3354231405909313 and parameters: {'num_leaves': 22, 'max_depth': 11, 'min_child_weight': 5, 'feature_fraction': 0.42354598562403434, 'bagging_fraction': 0.8028414656113985, 'bagging_freq': 6, 'min_child_samples': 24, 'lambda_l1': 0.0002161159795755119, 'lambda_l2': 0.0012879499408443031, 'learning_rate': 0.10813342106435408, 'max_bin': 712}. Best is trial 144 with value: 0.33505301027699136.\u001b[0m\n",
            "0.33547812058861426\n",
            "Score as calculated for the leader board (っಠ‿ಠ)っ 0.3639971750033798\n",
            "\u001b[32m[I 2021-03-13 12:02:47,525]\u001b[0m Trial 188 finished with value: 0.33547812058861426 and parameters: {'num_leaves': 22, 'max_depth': 13, 'min_child_weight': 3, 'feature_fraction': 0.42999967897339814, 'bagging_fraction': 0.8304008823004345, 'bagging_freq': 7, 'min_child_samples': 29, 'lambda_l1': 0.0009323220275323067, 'lambda_l2': 1.6166146095372576e-07, 'learning_rate': 0.056167818260287314, 'max_bin': 678}. Best is trial 144 with value: 0.33505301027699136.\u001b[0m\n",
            "0.33530391772645757\n",
            "Score as calculated for the leader board (っಠ‿ಠ)っ 0.36499404662905927\n",
            "\u001b[32m[I 2021-03-13 12:02:49,376]\u001b[0m Trial 189 finished with value: 0.33530391772645757 and parameters: {'num_leaves': 22, 'max_depth': 11, 'min_child_weight': 7, 'feature_fraction': 0.40032391432491576, 'bagging_fraction': 0.814360404788265, 'bagging_freq': 8, 'min_child_samples': 20, 'lambda_l1': 0.0003690710576310368, 'lambda_l2': 3.702478679479692e-08, 'learning_rate': 0.018822769141904762, 'max_bin': 747}. Best is trial 144 with value: 0.33505301027699136.\u001b[0m\n",
            "0.3353385497279498\n",
            "Score as calculated for the leader board (っಠ‿ಠ)っ 0.36383900345932096\n",
            "\u001b[32m[I 2021-03-13 12:02:50,791]\u001b[0m Trial 190 finished with value: 0.3353385497279498 and parameters: {'num_leaves': 21, 'max_depth': 14, 'min_child_weight': 1, 'feature_fraction': 0.4130638619058513, 'bagging_fraction': 0.8576308780579249, 'bagging_freq': 8, 'min_child_samples': 28, 'lambda_l1': 0.0001639446117826347, 'lambda_l2': 3.7761682585682813e-07, 'learning_rate': 0.03434510302447853, 'max_bin': 695}. Best is trial 144 with value: 0.33505301027699136.\u001b[0m\n",
            "0.33517867782790517\n",
            "Score as calculated for the leader board (っಠ‿ಠ)っ 0.3650086205459103\n",
            "\u001b[32m[I 2021-03-13 12:02:51,743]\u001b[0m Trial 191 finished with value: 0.33517867782790517 and parameters: {'num_leaves': 20, 'max_depth': 12, 'min_child_weight': 2, 'feature_fraction': 0.4121536762118013, 'bagging_fraction': 0.8430613355533456, 'bagging_freq': 8, 'min_child_samples': 26, 'lambda_l1': 0.0006083309231624296, 'lambda_l2': 2.5882468856886484e-07, 'learning_rate': 0.07102779840931733, 'max_bin': 831}. Best is trial 144 with value: 0.33505301027699136.\u001b[0m\n",
            "0.3352706245240645\n",
            "Score as calculated for the leader board (っಠ‿ಠ)っ 0.36436197504298473\n",
            "\u001b[32m[I 2021-03-13 12:02:52,648]\u001b[0m Trial 192 finished with value: 0.3352706245240645 and parameters: {'num_leaves': 20, 'max_depth': 12, 'min_child_weight': 2, 'feature_fraction': 0.4004913407379767, 'bagging_fraction': 0.8338768950431196, 'bagging_freq': 8, 'min_child_samples': 26, 'lambda_l1': 0.0006604481028736083, 'lambda_l2': 2.485811596178593e-07, 'learning_rate': 0.0760662398730625, 'max_bin': 765}. Best is trial 144 with value: 0.33505301027699136.\u001b[0m\n",
            "0.3354917433809803\n",
            "Score as calculated for the leader board (っಠ‿ಠ)っ 0.3637999363731868\n",
            "\u001b[32m[I 2021-03-13 12:02:53,658]\u001b[0m Trial 193 finished with value: 0.3354917433809803 and parameters: {'num_leaves': 22, 'max_depth': 13, 'min_child_weight': 2, 'feature_fraction': 0.4184291035884976, 'bagging_fraction': 0.8426584541217567, 'bagging_freq': 8, 'min_child_samples': 25, 'lambda_l1': 0.00037290751040372635, 'lambda_l2': 3.7588895622056445e-07, 'learning_rate': 0.05498486880319041, 'max_bin': 451}. Best is trial 144 with value: 0.33505301027699136.\u001b[0m\n",
            "0.33525704671101636\n",
            "Score as calculated for the leader board (っಠ‿ಠ)っ 0.36418940877940387\n",
            "\u001b[32m[I 2021-03-13 12:02:54,544]\u001b[0m Trial 194 finished with value: 0.33525704671101636 and parameters: {'num_leaves': 20, 'max_depth': 12, 'min_child_weight': 5, 'feature_fraction': 0.44171920990361113, 'bagging_fraction': 0.8527300979264258, 'bagging_freq': 8, 'min_child_samples': 30, 'lambda_l1': 0.0015242374570509506, 'lambda_l2': 0.7559279417475449, 'learning_rate': 0.08691965886114589, 'max_bin': 821}. Best is trial 144 with value: 0.33505301027699136.\u001b[0m\n",
            "0.3363549272464046\n",
            "Score as calculated for the leader board (っಠ‿ಠ)っ 0.3668721339681869\n",
            "\u001b[32m[I 2021-03-13 12:04:16,231]\u001b[0m Trial 195 finished with value: 0.3363549272464046 and parameters: {'num_leaves': 21, 'max_depth': 13, 'min_child_weight': 4, 'feature_fraction': 0.41345067047093437, 'bagging_fraction': 0.823791388989413, 'bagging_freq': 8, 'min_child_samples': 22, 'lambda_l1': 0.022197055336784923, 'lambda_l2': 1.514269397082543e-07, 'learning_rate': 0.00018056169718484033, 'max_bin': 855}. Best is trial 144 with value: 0.33505301027699136.\u001b[0m\n",
            "0.3354464266789398\n",
            "Score as calculated for the leader board (っಠ‿ಠ)っ 0.36385825707900227\n",
            "\u001b[32m[I 2021-03-13 12:04:17,267]\u001b[0m Trial 196 finished with value: 0.3354464266789398 and parameters: {'num_leaves': 18, 'max_depth': 12, 'min_child_weight': 3, 'feature_fraction': 0.42495148657305143, 'bagging_fraction': 0.7810063541547105, 'bagging_freq': 8, 'min_child_samples': 24, 'lambda_l1': 0.0019195189300329552, 'lambda_l2': 5.755445394850222e-07, 'learning_rate': 0.048200996068641165, 'max_bin': 795}. Best is trial 144 with value: 0.33505301027699136.\u001b[0m\n",
            "0.33528310071611506\n",
            "Score as calculated for the leader board (っಠ‿ಠ)っ 0.36408733310221236\n",
            "\u001b[32m[I 2021-03-13 12:04:18,317]\u001b[0m Trial 197 finished with value: 0.33528310071611506 and parameters: {'num_leaves': 28, 'max_depth': 11, 'min_child_weight': 2, 'feature_fraction': 0.4107437200022533, 'bagging_fraction': 0.844238406462055, 'bagging_freq': 8, 'min_child_samples': 65, 'lambda_l1': 0.00011035326579862591, 'lambda_l2': 2.2405690348505842e-07, 'learning_rate': 0.07028560841391446, 'max_bin': 723}. Best is trial 144 with value: 0.33505301027699136.\u001b[0m\n",
            "0.3357001076358522\n",
            "Score as calculated for the leader board (っಠ‿ಠ)っ 0.36166612174343093\n",
            "\u001b[32m[I 2021-03-13 12:04:19,235]\u001b[0m Trial 198 finished with value: 0.3357001076358522 and parameters: {'num_leaves': 27, 'max_depth': 13, 'min_child_weight': 8, 'feature_fraction': 0.4337084449141437, 'bagging_fraction': 0.8623264781190675, 'bagging_freq': 7, 'min_child_samples': 31, 'lambda_l1': 1.1630267344036738e-06, 'lambda_l2': 5.6502883640324005e-08, 'learning_rate': 0.10863548472478798, 'max_bin': 578}. Best is trial 144 with value: 0.33505301027699136.\u001b[0m\n",
            "0.3353090939236251\n",
            "Score as calculated for the leader board (っಠ‿ಠ)っ 0.36508315334520147\n",
            "\u001b[32m[I 2021-03-13 12:04:20,513]\u001b[0m Trial 199 finished with value: 0.3353090939236251 and parameters: {'num_leaves': 22, 'max_depth': 12, 'min_child_weight': 1, 'feature_fraction': 0.4023223804643972, 'bagging_fraction': 0.8872066595305613, 'bagging_freq': 8, 'min_child_samples': 16, 'lambda_l1': 0.0005781234499657245, 'lambda_l2': 3.0066280766766103e-07, 'learning_rate': 0.03837221057003691, 'max_bin': 874}. Best is trial 144 with value: 0.33505301027699136.\u001b[0m\n",
            "\n",
            "target_r\n"
          ],
          "name": "stdout"
        },
        {
          "output_type": "display_data",
          "data": {
            "text/plain": [
              "{'bagging_fraction': 0.8344025076988906,\n",
              " 'bagging_freq': 8,\n",
              " 'feature_fraction': 0.40005937858347834,\n",
              " 'lambda_l1': 1.8022142211316648e-06,\n",
              " 'lambda_l2': 1.9452265664978631e-07,\n",
              " 'learning_rate': 0.047727847948849246,\n",
              " 'max_bin': 900,\n",
              " 'max_depth': 13,\n",
              " 'min_child_samples': 27,\n",
              " 'min_child_weight': 10,\n",
              " 'num_leaves': 29}"
            ]
          },
          "metadata": {
            "tags": []
          }
        },
        {
          "output_type": "display_data",
          "data": {
            "text/plain": [
              "0.33505301027699136"
            ]
          },
          "metadata": {
            "tags": []
          }
        }
      ]
    },
    {
      "cell_type": "code",
      "metadata": {
        "id": "ZVh5AVfnQ25x",
        "outputId": "e8085416-9056-405c-9005-21770a4881e8",
        "colab": {
          "base_uri": "https://localhost:8080/",
          "height": 307,
          "referenced_widgets": [
            "832ca866768248f69617e7a903446d1d",
            "13e5cc47ca68406ebccba29509b9e3f9",
            "eac5eebb1b2149c5888a17ce196df561",
            "c3a5ca6c3fd7485e916b2a0ae7d4d254",
            "64790e252b6a4f3c89125e9e367b3151",
            "6b867e2b27274b36b3027907fe8e9135",
            "2ae1cefe1e944a7f922f4737d107be53",
            "0eadb6c9fe574665a7ad2090602f1971"
          ]
        }
      },
      "source": [
        "import optuna\n",
        "from sklearn.metrics import roc_auc_score\n",
        "\n",
        "X_train, X_test, y_train, y_test = train_test_split(train[features], train['target_g'], test_size=0.25, shuffle=False)\n",
        "print(X_train.shape, X_test.shape)\n",
        "tr_data = lgb.Dataset(X_train, y_train)\n",
        "va_data = lgb.Dataset(X_test, y_test)\n",
        "\n",
        "\n",
        "def objective(trial):    \n",
        "    params = {\n",
        "            'num_leaves': trial.suggest_int('num_leaves', 4, 32),\n",
        "            'boosting_type': 'gbdt',\n",
        "            'objective': 'regression',\n",
        "            'metric': 'rmse',\n",
        "            'max_depth': trial.suggest_int('max_depth', 4, 16),\n",
        "            'min_child_weight': trial.suggest_int('min_child_weight', 1, 16),\n",
        "            'feature_fraction': trial.suggest_uniform('feature_fraction', 0.4, 1.0),\n",
        "            'bagging_fraction': trial.suggest_uniform('bagging_fraction', 0.4, 1.0),\n",
        "            'bagging_freq': trial.suggest_int('bagging_freq', 1, 8),\n",
        "            'min_child_samples': trial.suggest_int('min_child_samples', 4, 80),\n",
        "            'lambda_l1': trial.suggest_loguniform('lambda_l1', 1e-8, 1.0),\n",
        "            'lambda_l2': trial.suggest_loguniform('lambda_l2', 1e-8, 1.0),\n",
        "            'learning_rate' : trial.suggest_uniform('learning_rate', 0.0001, 0.99),\n",
        "            'max_bin': trial.suggest_int('max_bin', 50, 900),\n",
        "            'early_stopping_rounds': 100, \n",
        "            }\n",
        "\n",
        "    model = lgb.train(params, tr_data, valid_sets=[tr_data, va_data], verbose_eval=None, num_boost_round=5000)\n",
        "\n",
        "    val_pred = model.predict(X_test)\n",
        "    score = model.best_score['valid_1']['rmse']\n",
        "    print(score)\n",
        "    val_pred = model.predict(X_test)\n",
        "    spearman_score = scorer(y_test, val_pred)\n",
        "    from google.colab import output\n",
        "    output.clear()\n",
        "    return score\n",
        "study = optuna.create_study(direction='minimize')\n",
        "study.optimize(objective, n_trials=N_TRIALS, show_progress_bar= True)\n",
        "print(\"target_g\") \n",
        "display(study.best_params)\n",
        "display(study.best_trial.value)"
      ],
      "execution_count": 160,
      "outputs": [
        {
          "output_type": "stream",
          "text": [
            "\r\u001b[32m[I 2021-03-13 12:15:58,936]\u001b[0m Trial 199 finished with value: 0.3000460390783041 and parameters: {'num_leaves': 23, 'max_depth': 10, 'min_child_weight': 6, 'feature_fraction': 0.4123680079982971, 'bagging_fraction': 0.4953354615489961, 'bagging_freq': 1, 'min_child_samples': 71, 'lambda_l1': 0.0003842869322362984, 'lambda_l2': 2.948422629038904e-08, 'learning_rate': 0.04100095608422001, 'max_bin': 395}. Best is trial 33 with value: 0.29918586550315435.\u001b[0m\n",
            "\n",
            "target_g\n"
          ],
          "name": "stdout"
        },
        {
          "output_type": "display_data",
          "data": {
            "text/plain": [
              "{'bagging_fraction': 0.4755376416325456,\n",
              " 'bagging_freq': 1,\n",
              " 'feature_fraction': 0.40034816566766196,\n",
              " 'lambda_l1': 0.00046142221019364706,\n",
              " 'lambda_l2': 0.06782452424965912,\n",
              " 'learning_rate': 0.07120548037141156,\n",
              " 'max_bin': 492,\n",
              " 'max_depth': 5,\n",
              " 'min_child_samples': 9,\n",
              " 'min_child_weight': 13,\n",
              " 'num_leaves': 23}"
            ]
          },
          "metadata": {
            "tags": []
          }
        },
        {
          "output_type": "display_data",
          "data": {
            "text/plain": [
              "0.29918586550315435"
            ]
          },
          "metadata": {
            "tags": []
          }
        }
      ]
    },
    {
      "cell_type": "code",
      "metadata": {
        "id": "UntrTLqCQ0uN",
        "outputId": "81ace6c2-c843-4cbb-f9ac-ccc8201b629b",
        "colab": {
          "base_uri": "https://localhost:8080/",
          "height": 307,
          "referenced_widgets": [
            "00f04531a6db4a61a9345e26df9db5f5",
            "5a33c8c30ef74714a31afa88319dab1e",
            "deff9101bd7a40efa8fc3df7dc5f778f",
            "d731db48f844414d9b9e3718a4a73f1b",
            "72ea970d981a444f8f42960345579c34",
            "a48af6efc2cb4f8895127b0ec84b3dac",
            "a5da3fe03d8f44dba3897be87de80ffb",
            "b82d49f505c04b9cbeb073e132e9dd03"
          ]
        }
      },
      "source": [
        "import optuna\n",
        "from sklearn.metrics import roc_auc_score\n",
        "\n",
        "X_train, X_test, y_train, y_test = train_test_split(train[features], train['target_b'], test_size=0.25, shuffle=False)\n",
        "print(X_train.shape, X_test.shape)\n",
        "tr_data = lgb.Dataset(X_train, y_train)\n",
        "va_data = lgb.Dataset(X_test, y_test)\n",
        "\n",
        "\n",
        "def objective(trial):    \n",
        "    params = {\n",
        "            'num_leaves': trial.suggest_int('num_leaves', 4, 32),\n",
        "            'boosting_type': 'gbdt',\n",
        "            'objective': 'regression',\n",
        "            'metric': 'rmse',\n",
        "            'max_depth': trial.suggest_int('max_depth', 4, 16),\n",
        "            'min_child_weight': trial.suggest_int('min_child_weight', 1, 16),\n",
        "            'feature_fraction': trial.suggest_uniform('feature_fraction', 0.4, 1.0),\n",
        "            'bagging_fraction': trial.suggest_uniform('bagging_fraction', 0.4, 1.0),\n",
        "            'bagging_freq': trial.suggest_int('bagging_freq', 1, 8),\n",
        "            'min_child_samples': trial.suggest_int('min_child_samples', 4, 80),\n",
        "            'lambda_l1': trial.suggest_loguniform('lambda_l1', 1e-8, 1.0),\n",
        "            'lambda_l2': trial.suggest_loguniform('lambda_l2', 1e-8, 1.0),\n",
        "            'learning_rate' : trial.suggest_uniform('learning_rate', 0.0001, 0.99),\n",
        "            'max_bin': trial.suggest_int('max_bin', 50, 900),\n",
        "            'early_stopping_rounds': 100, \n",
        "            }\n",
        "\n",
        "    model = lgb.train(params, tr_data, valid_sets=[tr_data, va_data], verbose_eval=None, num_boost_round=5000)\n",
        "\n",
        "    val_pred = model.predict(X_test)\n",
        "    score = model.best_score['valid_1']['rmse']\n",
        "    print(score)\n",
        "    val_pred = model.predict(X_test)\n",
        "    spearman_score = scorer(y_test, val_pred)\n",
        "    from google.colab import output\n",
        "    output.clear()\n",
        "    return score\n",
        "study = optuna.create_study(direction='minimize')\n",
        "study.optimize(objective, n_trials=N_TRIALS, show_progress_bar= True)\n",
        "print(\"target_b\") \n",
        "display(study.best_params)\n",
        "display(study.best_trial.value)"
      ],
      "execution_count": 161,
      "outputs": [
        {
          "output_type": "stream",
          "text": [
            "\r\u001b[32m[I 2021-03-13 12:18:44,180]\u001b[0m Trial 199 finished with value: 0.2639298852533017 and parameters: {'num_leaves': 4, 'max_depth': 4, 'min_child_weight': 10, 'feature_fraction': 0.47110040968090117, 'bagging_fraction': 0.7299650395677773, 'bagging_freq': 2, 'min_child_samples': 36, 'lambda_l1': 9.072931263812068e-07, 'lambda_l2': 0.3267618122856045, 'learning_rate': 0.2473303003368587, 'max_bin': 371}. Best is trial 134 with value: 0.26264699792627993.\u001b[0m\n",
            "\n",
            "target_b\n"
          ],
          "name": "stdout"
        },
        {
          "output_type": "display_data",
          "data": {
            "text/plain": [
              "{'bagging_fraction': 0.44935969936943254,\n",
              " 'bagging_freq': 2,\n",
              " 'feature_fraction': 0.5079540925265467,\n",
              " 'lambda_l1': 3.2245733057069083e-06,\n",
              " 'lambda_l2': 0.5890949933785449,\n",
              " 'learning_rate': 0.16701912554238768,\n",
              " 'max_bin': 154,\n",
              " 'max_depth': 4,\n",
              " 'min_child_samples': 4,\n",
              " 'min_child_weight': 9,\n",
              " 'num_leaves': 4}"
            ]
          },
          "metadata": {
            "tags": []
          }
        },
        {
          "output_type": "display_data",
          "data": {
            "text/plain": [
              "0.26264699792627993"
            ]
          },
          "metadata": {
            "tags": []
          }
        }
      ]
    },
    {
      "cell_type": "code",
      "metadata": {
        "id": "tro32Xv9M5DR",
        "outputId": "3d838a30-f44f-40f6-fa2d-79af59c564b1",
        "colab": {
          "base_uri": "https://localhost:8080/"
        }
      },
      "source": [
        "params_1 = {\n",
        "    'boosting_type': 'gbdt',\n",
        "    'objective': 'regression',\n",
        "    'metric': 'rmse',\n",
        "    'bagging_fraction': 0.8344025076988906,\n",
        "    'bagging_freq': 8,\n",
        "    'feature_fraction': 0.40005937858347834,\n",
        "    'lambda_l1': 1.8022142211316648e-06,\n",
        "    'lambda_l2': 1.9452265664978631e-07,\n",
        "    'learning_rate': 0.047727847948849246,\n",
        "    'max_bin': 900,\n",
        "    'max_depth': 13,\n",
        "    'min_child_samples': 27,\n",
        "    'min_child_weight': 10,\n",
        "    'num_leaves': 29,\n",
        "    'early_stopping_rounds': 100, \n",
        "}\n",
        "X_train, X_test, y_train, y_test = train_test_split(train[features], train['target_r'], test_size=0.25, shuffle=False)\n",
        "print(X_train.shape, X_test.shape)\n",
        "tr_data = lgb.Dataset(X_train, y_train)\n",
        "va_data = lgb.Dataset(X_test, y_test)\n",
        "model_target_r = lgb.train(params_1, tr_data, valid_sets=[tr_data, va_data], verbose_eval=1000, num_boost_round=5000)\n",
        "pred = model_target_r.predict(X_test)\n",
        "scorer(y_test, pred)"
      ],
      "execution_count": 162,
      "outputs": [
        {
          "output_type": "stream",
          "text": [
            "(68306, 29) (22769, 29)\n",
            "Training until validation scores don't improve for 100 rounds.\n",
            "Early stopping, best iteration is:\n",
            "[64]\ttraining's rmse: 0.321116\tvalid_1's rmse: 0.335053\n",
            "Score as calculated for the leader board (っಠ‿ಠ)っ 0.3662931284580007\n"
          ],
          "name": "stdout"
        },
        {
          "output_type": "execute_result",
          "data": {
            "text/plain": [
              "0.3662931284580007"
            ]
          },
          "metadata": {
            "tags": []
          },
          "execution_count": 162
        }
      ]
    },
    {
      "cell_type": "code",
      "metadata": {
        "id": "8bUaLZIbBUxP",
        "outputId": "43def0b5-57a4-4381-b7f0-83bf08b36436",
        "colab": {
          "base_uri": "https://localhost:8080/"
        }
      },
      "source": [
        "params_2 = {\n",
        "    'boosting_type': 'gbdt',\n",
        "    'objective': 'regression',\n",
        "    'metric': 'rmse',\n",
        "    'bagging_fraction': 0.4755376416325456,\n",
        " 'bagging_freq': 1,\n",
        " 'feature_fraction': 0.40034816566766196,\n",
        " 'lambda_l1': 0.00046142221019364706,\n",
        " 'lambda_l2': 0.06782452424965912,\n",
        " 'learning_rate': 0.07120548037141156,\n",
        " 'max_bin': 492,\n",
        " 'max_depth': 5,\n",
        " 'min_child_samples': 9,\n",
        " 'min_child_weight': 13,\n",
        " 'num_leaves': 23,\n",
        "    'early_stopping_rounds': 100, \n",
        "}\n",
        "X_train, X_test, y_train, y_test = train_test_split(train[features], train['target_g'], test_size=0.25, shuffle=False)\n",
        "print(X_train.shape, X_test.shape)\n",
        "tr_data = lgb.Dataset(X_train, y_train)\n",
        "va_data = lgb.Dataset(X_test, y_test)\n",
        "model_target_g = lgb.train(params_2, tr_data, valid_sets=[tr_data, va_data], verbose_eval=1000, num_boost_round=5000)\n",
        "pred = model_target_g.predict(X_test)\n",
        "scorer(y_test, pred)"
      ],
      "execution_count": 164,
      "outputs": [
        {
          "output_type": "stream",
          "text": [
            "(68306, 29) (22769, 29)\n",
            "Training until validation scores don't improve for 100 rounds.\n",
            "Early stopping, best iteration is:\n",
            "[46]\ttraining's rmse: 0.302322\tvalid_1's rmse: 0.299186\n",
            "Score as calculated for the leader board (っಠ‿ಠ)っ 0.5315866735190697\n"
          ],
          "name": "stdout"
        },
        {
          "output_type": "execute_result",
          "data": {
            "text/plain": [
              "0.5315866735190697"
            ]
          },
          "metadata": {
            "tags": []
          },
          "execution_count": 164
        }
      ]
    },
    {
      "cell_type": "code",
      "metadata": {
        "id": "Q6y4ygQ8BUuL",
        "outputId": "eae24d0a-cceb-40c3-8b26-508fd90cc447",
        "colab": {
          "base_uri": "https://localhost:8080/"
        }
      },
      "source": [
        "params_3 = {\n",
        "    'boosting_type': 'gbdt',\n",
        "    'objective': 'regression',\n",
        "    'metric': 'rmse',\n",
        "    'bagging_fraction': 0.44935969936943254,\n",
        " 'bagging_freq': 2,\n",
        " 'feature_fraction': 0.5079540925265467,\n",
        " 'lambda_l1': 3.2245733057069083e-06,\n",
        " 'lambda_l2': 0.5890949933785449,\n",
        " 'learning_rate': 0.16701912554238768,\n",
        " 'max_bin': 154,\n",
        " 'max_depth': 4,\n",
        " 'min_child_samples': 4,\n",
        " 'min_child_weight': 9,\n",
        " 'num_leaves': 4,\n",
        "    'early_stopping_rounds': 100, \n",
        "}\n",
        "X_train, X_test, y_train, y_test = train_test_split(train[features], train['target_b'], test_size=0.25, shuffle=False)\n",
        "print(X_train.shape, X_test.shape)\n",
        "tr_data = lgb.Dataset(X_train, y_train)\n",
        "va_data = lgb.Dataset(X_test, y_test)\n",
        "model_target_b = lgb.train(params_3, tr_data, valid_sets=[tr_data, va_data], verbose_eval=1000, num_boost_round=5000)\n",
        "pred = model_target_g.predict(X_test)\n",
        "scorer(y_test, pred)"
      ],
      "execution_count": 176,
      "outputs": [
        {
          "output_type": "stream",
          "text": [
            "(68306, 29) (22769, 29)\n",
            "Training until validation scores don't improve for 100 rounds.\n",
            "Early stopping, best iteration is:\n",
            "[26]\ttraining's rmse: 0.272864\tvalid_1's rmse: 0.262647\n",
            "Score as calculated for the leader board (っಠ‿ಠ)っ 0.6608877501075592\n"
          ],
          "name": "stdout"
        },
        {
          "output_type": "execute_result",
          "data": {
            "text/plain": [
              "0.6608877501075592"
            ]
          },
          "metadata": {
            "tags": []
          },
          "execution_count": 176
        }
      ]
    },
    {
      "cell_type": "code",
      "metadata": {
        "id": "MQfsTXDIwuip"
      },
      "source": [
        "params_1 = {\n",
        "    'boosting_type': 'gbdt',\n",
        "    'objective': 'regression',\n",
        "    'metric': 'rmse',\n",
        "    'bagging_fraction': 0.8344025076988906,\n",
        "    'bagging_freq': 8,\n",
        "    'feature_fraction': 0.40005937858347834,\n",
        "    'lambda_l1': 1.8022142211316648e-06,\n",
        "    'lambda_l2': 1.9452265664978631e-07,\n",
        "    'learning_rate': 0.047727847948849246,\n",
        "    'max_bin': 900,\n",
        "    'max_depth': 13,\n",
        "    'min_child_samples': 27,\n",
        "    'min_child_weight': 10,\n",
        "    'num_leaves': 29,\n",
        "    # 'early_stopping_rounds': 100, \n",
        "}\n",
        "\n",
        "params_2 = {\n",
        "    'boosting_type': 'gbdt',\n",
        "    'objective': 'regression',\n",
        "    'metric': 'rmse',\n",
        "    'bagging_fraction': 0.4755376416325456,\n",
        " 'bagging_freq': 1,\n",
        " 'feature_fraction': 0.40034816566766196,\n",
        " 'lambda_l1': 0.00046142221019364706,\n",
        " 'lambda_l2': 0.06782452424965912,\n",
        " 'learning_rate': 0.07120548037141156,\n",
        " 'max_bin': 492,\n",
        " 'max_depth': 5,\n",
        " 'min_child_samples': 9,\n",
        " 'min_child_weight': 13,\n",
        " 'num_leaves': 23,\n",
        "    # 'early_stopping_rounds': 100, \n",
        "}\n",
        "\n",
        "params_3 = {\n",
        "    'boosting_type': 'gbdt',\n",
        "    'objective': 'regression',\n",
        "    'metric': 'rmse',\n",
        "    'bagging_fraction': 0.44935969936943254,\n",
        " 'bagging_freq': 2,\n",
        " 'feature_fraction': 0.5079540925265467,\n",
        " 'lambda_l1': 3.2245733057069083e-06,\n",
        " 'lambda_l2': 0.5890949933785449,\n",
        " 'learning_rate': 0.16701912554238768,\n",
        " 'max_bin': 154,\n",
        " 'max_depth': 4,\n",
        " 'min_child_samples': 4,\n",
        " 'min_child_weight': 9,\n",
        " 'num_leaves': 4,\n",
        "    # 'early_stopping_rounds': 100, \n",
        "}\n",
        "tr_data = lgb.Dataset(train[features], train['target_r'])\n",
        "model_target_r = lgb.train(params_1, tr_data, verbose_eval=100, num_boost_round=65)\n",
        "tr_data = lgb.Dataset(train[features], train['target_g'])\n",
        "model_target_g = lgb.train(params_2, tr_data, verbose_eval=100, num_boost_round=50)\n",
        "tr_data = lgb.Dataset(train[features], train['target_b'])\n",
        "model_target_b = lgb.train(params_3, tr_data, verbose_eval=100, num_boost_round=30)"
      ],
      "execution_count": 187,
      "outputs": []
    },
    {
      "cell_type": "code",
      "metadata": {
        "id": "RzmBzhRixZel"
      },
      "source": [
        ""
      ],
      "execution_count": null,
      "outputs": []
    },
    {
      "cell_type": "code",
      "metadata": {
        "id": "HwsqCA4ceq2E"
      },
      "source": [
        "prediction = pd.DataFrame()\n",
        "prediction['target_r'] = model_target_r.predict(test[features])\n",
        "prediction['target_g'] = model_target_g.predict(test[features])\n",
        "prediction['target_b'] = model_target_b.predict(test[features])"
      ],
      "execution_count": 190,
      "outputs": []
    },
    {
      "cell_type": "code",
      "metadata": {
        "id": "cYyekZi2wXgE",
        "outputId": "598d1e0d-d592-4765-c349-2db1185217dc",
        "colab": {
          "base_uri": "https://localhost:8080/",
          "height": 283
        }
      },
      "source": [
        "prediction['target_g'].plot(kind='hist')"
      ],
      "execution_count": 193,
      "outputs": [
        {
          "output_type": "execute_result",
          "data": {
            "text/plain": [
              "<matplotlib.axes._subplots.AxesSubplot at 0x7efec1394c10>"
            ]
          },
          "metadata": {
            "tags": []
          },
          "execution_count": 193
        },
        {
          "output_type": "display_data",
          "data": {
            "image/png": "[encoded data removed]",
            "text/plain": [
              "<Figure size 432x288 with 1 Axes>"
            ]
          },
          "metadata": {
            "tags": [],
            "needs_background": "light"
          }
        }
      ]
    },
    {
      "cell_type": "code",
      "metadata": {
        "id": "6FvQl9QBerwb",
        "colab": {
          "base_uri": "https://localhost:8080/"
        },
        "outputId": "fd751f13-230e-47fd-8704-786c60bae682"
      },
      "source": [
        "API_KEY = \"0GIskIC9Rd1I8sMw6nStutbIbMx7AaZzAyNfuMOVAVWgJtNa1IVQHZAD3WPj\" # <- HERE\n",
        "\n",
        "r = requests.post(\"https://tournament.datacrunch.com/api/submission\",\n",
        "    files = {\n",
        "        \"file\": (\"x\", prediction.to_csv().encode('ascii'))\n",
        "    },\n",
        "    data = {\n",
        "        \"apiKey\": API_KEY\n",
        "    },\n",
        ")\n",
        "\n",
        "if r.status_code == 200:\n",
        "    print(\"Submission submitted :)\")\n",
        "elif r.status_code == 423:\n",
        "    print(\"ERR: Submissions are close\")\n",
        "    print(\"You can only submit during rounds eg: Friday 7pm GMT+1 to Sunday midnight GMT+1.\")\n",
        "    print(\"Or the server is currently crunching the submitted files, please wait some time before retrying.\")\n",
        "elif r.status_code == 422:\n",
        "    print(\"ERR: API Key is missing or empty\")\n",
        "    print(\"Did you forget to fill the API_KEY variable?\")\n",
        "elif r.status_code == 404:\n",
        "    print(\"ERR: Unknown API Key\")\n",
        "    print(\"You should check that the provided API key is valid and is the same as the one you've received by email.\")\n",
        "elif r.status_code == 400:\n",
        "    print(\"ERR: The file must not be empty\")\n",
        "    print(\"You have send a empty file.\")\n",
        "elif r.status_code == 401:\n",
        "    print(\"ERR: Your email hasn't been verified\")\n",
        "    print(\"Please verify your email or contact a cruncher.\")\n",
        "elif r.status_code == 429:\n",
        "    print(\"ERR: Too many submissions\")\n",
        "else:\n",
        "    print(\"ERR: Server returned: \" + str(r.status_code))\n",
        "    print(\"Ouch! It seems that we were not expecting this kind of result from the server, if the probleme persist, contact a cruncher.\")"
      ],
      "execution_count": 194,
      "outputs": [
        {
          "output_type": "stream",
          "text": [
            "Submission submitted :)\n"
          ],
          "name": "stdout"
        }
      ]
    },
    {
      "cell_type": "code",
      "metadata": {
        "id": "IJCG7kX1e4tF",
        "colab": {
          "base_uri": "https://localhost:8080/"
        },
        "outputId": "a2b69863-5d8d-4462-bcb4-5750dd352fe2"
      },
      "source": [
        "46.86 * 3.24"
      ],
      "execution_count": null,
      "outputs": [
        {
          "output_type": "execute_result",
          "data": {
            "text/plain": [
              "151.8264"
            ]
          },
          "metadata": {
            "tags": []
          },
          "execution_count": 211
        }
      ]
    },
    {
      "cell_type": "code",
      "metadata": {
        "id": "2WIE4pRQfD7v"
      },
      "source": [
        ""
      ],
      "execution_count": null,
      "outputs": []
    }
  ]
}