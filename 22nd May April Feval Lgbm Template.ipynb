{
  "nbformat": 4,
  "nbformat_minor": 0,
  "metadata": {
    "colab": {
      "name": "scratchpad",
      "provenance": [],
      "machine_shape": "hm",
      "include_colab_link": true
    },
    "kernelspec": {
      "display_name": "Python 3",
      "name": "python3"
    },
    "widgets": {
      "application/vnd.jupyter.widget-state+json": {
        "1e3108ec1b804ecba48dbd69f995bae6": {
          "model_module": "@jupyter-widgets/controls",
          "model_name": "HBoxModel",
          "state": {
            "_view_name": "HBoxView",
            "_dom_classes": [],
            "_model_name": "HBoxModel",
            "_view_module": "@jupyter-widgets/controls",
            "_model_module_version": "1.5.0",
            "_view_count": null,
            "_view_module_version": "1.5.0",
            "box_style": "",
            "layout": "IPY_MODEL_012700f6fc174426b940ad6651cc9122",
            "_model_module": "@jupyter-widgets/controls",
            "children": [
              "IPY_MODEL_1a294444f67b4e2ea01a8e004aa601c0",
              "IPY_MODEL_c52151bdbd6f43de98ac6cc765672404"
            ]
          }
        },
        "012700f6fc174426b940ad6651cc9122": {
          "model_module": "@jupyter-widgets/base",
          "model_name": "LayoutModel",
          "state": {
            "_view_name": "LayoutView",
            "grid_template_rows": null,
            "right": null,
            "justify_content": null,
            "_view_module": "@jupyter-widgets/base",
            "overflow": null,
            "_model_module_version": "1.2.0",
            "_view_count": null,
            "flex_flow": null,
            "width": null,
            "min_width": null,
            "border": null,
            "align_items": null,
            "bottom": null,
            "_model_module": "@jupyter-widgets/base",
            "top": null,
            "grid_column": null,
            "overflow_y": null,
            "overflow_x": null,
            "grid_auto_flow": null,
            "grid_area": null,
            "grid_template_columns": null,
            "flex": null,
            "_model_name": "LayoutModel",
            "justify_items": null,
            "grid_row": null,
            "max_height": null,
            "align_content": null,
            "visibility": null,
            "align_self": null,
            "height": null,
            "min_height": null,
            "padding": null,
            "grid_auto_rows": null,
            "grid_gap": null,
            "max_width": null,
            "order": null,
            "_view_module_version": "1.2.0",
            "grid_template_areas": null,
            "object_position": null,
            "object_fit": null,
            "grid_auto_columns": null,
            "margin": null,
            "display": null,
            "left": null
          }
        },
        "1a294444f67b4e2ea01a8e004aa601c0": {
          "model_module": "@jupyter-widgets/controls",
          "model_name": "FloatProgressModel",
          "state": {
            "_view_name": "ProgressView",
            "style": "IPY_MODEL_4348a197bd57460c860a5e74d9b71562",
            "_dom_classes": [],
            "description": "100%",
            "_model_name": "FloatProgressModel",
            "bar_style": "success",
            "max": 200,
            "_view_module": "@jupyter-widgets/controls",
            "_model_module_version": "1.5.0",
            "value": 200,
            "_view_count": null,
            "_view_module_version": "1.5.0",
            "orientation": "horizontal",
            "min": 0,
            "description_tooltip": null,
            "_model_module": "@jupyter-widgets/controls",
            "layout": "IPY_MODEL_66f39d233cc244df8be2dfd50cb2da61"
          }
        },
        "c52151bdbd6f43de98ac6cc765672404": {
          "model_module": "@jupyter-widgets/controls",
          "model_name": "HTMLModel",
          "state": {
            "_view_name": "HTMLView",
            "style": "IPY_MODEL_24089094f2294f65920108f34ec2832f",
            "_dom_classes": [],
            "description": "",
            "_model_name": "HTMLModel",
            "placeholder": "​",
            "_view_module": "@jupyter-widgets/controls",
            "_model_module_version": "1.5.0",
            "value": " 200/200 [43:04&lt;00:00, 12.92s/it]",
            "_view_count": null,
            "_view_module_version": "1.5.0",
            "description_tooltip": null,
            "_model_module": "@jupyter-widgets/controls",
            "layout": "IPY_MODEL_c4551b392efe47fda3fa6906c3b1c1ed"
          }
        },
        "4348a197bd57460c860a5e74d9b71562": {
          "model_module": "@jupyter-widgets/controls",
          "model_name": "ProgressStyleModel",
          "state": {
            "_view_name": "StyleView",
            "_model_name": "ProgressStyleModel",
            "description_width": "initial",
            "_view_module": "@jupyter-widgets/base",
            "_model_module_version": "1.5.0",
            "_view_count": null,
            "_view_module_version": "1.2.0",
            "bar_color": null,
            "_model_module": "@jupyter-widgets/controls"
          }
        },
        "66f39d233cc244df8be2dfd50cb2da61": {
          "model_module": "@jupyter-widgets/base",
          "model_name": "LayoutModel",
          "state": {
            "_view_name": "LayoutView",
            "grid_template_rows": null,
            "right": null,
            "justify_content": null,
            "_view_module": "@jupyter-widgets/base",
            "overflow": null,
            "_model_module_version": "1.2.0",
            "_view_count": null,
            "flex_flow": null,
            "width": null,
            "min_width": null,
            "border": null,
            "align_items": null,
            "bottom": null,
            "_model_module": "@jupyter-widgets/base",
            "top": null,
            "grid_column": null,
            "overflow_y": null,
            "overflow_x": null,
            "grid_auto_flow": null,
            "grid_area": null,
            "grid_template_columns": null,
            "flex": null,
            "_model_name": "LayoutModel",
            "justify_items": null,
            "grid_row": null,
            "max_height": null,
            "align_content": null,
            "visibility": null,
            "align_self": null,
            "height": null,
            "min_height": null,
            "padding": null,
            "grid_auto_rows": null,
            "grid_gap": null,
            "max_width": null,
            "order": null,
            "_view_module_version": "1.2.0",
            "grid_template_areas": null,
            "object_position": null,
            "object_fit": null,
            "grid_auto_columns": null,
            "margin": null,
            "display": null,
            "left": null
          }
        },
        "24089094f2294f65920108f34ec2832f": {
          "model_module": "@jupyter-widgets/controls",
          "model_name": "DescriptionStyleModel",
          "state": {
            "_view_name": "StyleView",
            "_model_name": "DescriptionStyleModel",
            "description_width": "",
            "_view_module": "@jupyter-widgets/base",
            "_model_module_version": "1.5.0",
            "_view_count": null,
            "_view_module_version": "1.2.0",
            "_model_module": "@jupyter-widgets/controls"
          }
        },
        "c4551b392efe47fda3fa6906c3b1c1ed": {
          "model_module": "@jupyter-widgets/base",
          "model_name": "LayoutModel",
          "state": {
            "_view_name": "LayoutView",
            "grid_template_rows": null,
            "right": null,
            "justify_content": null,
            "_view_module": "@jupyter-widgets/base",
            "overflow": null,
            "_model_module_version": "1.2.0",
            "_view_count": null,
            "flex_flow": null,
            "width": null,
            "min_width": null,
            "border": null,
            "align_items": null,
            "bottom": null,
            "_model_module": "@jupyter-widgets/base",
            "top": null,
            "grid_column": null,
            "overflow_y": null,
            "overflow_x": null,
            "grid_auto_flow": null,
            "grid_area": null,
            "grid_template_columns": null,
            "flex": null,
            "_model_name": "LayoutModel",
            "justify_items": null,
            "grid_row": null,
            "max_height": null,
            "align_content": null,
            "visibility": null,
            "align_self": null,
            "height": null,
            "min_height": null,
            "padding": null,
            "grid_auto_rows": null,
            "grid_gap": null,
            "max_width": null,
            "order": null,
            "_view_module_version": "1.2.0",
            "grid_template_areas": null,
            "object_position": null,
            "object_fit": null,
            "grid_auto_columns": null,
            "margin": null,
            "display": null,
            "left": null
          }
        }
      }
    }
  },
  "cells": [
    {
      "cell_type": "markdown",
      "metadata": {
        "id": "view-in-github",
        "colab_type": "text"
      },
      "source": [
        "<a href=\"https://colab.research.google.com/github/pratik-poudel/datacrunch/blob/main/22nd%20May%20April%20Feval%20Lgbm%20Template.ipynb\" target=\"_parent\"><img src=\"https://colab.research.google.com/assets/colab-badge.svg\" alt=\"Open In Colab\"/></a>"
      ]
    },
    {
      "cell_type": "code",
      "metadata": {
        "id": "lIYdn1woOS1n"
      },
      "source": [
        "import numpy as np\n",
        "import pandas as pd\n",
        "from collections import defaultdict\n",
        "from tqdm.notebook import tqdm\n",
        "from matplotlib import pyplot as plt\n",
        "import warnings\n",
        "warnings.filterwarnings('ignore')\n",
        "import seaborn as sns\n",
        "import gc\n",
        "# pd.options.display.float_format| = \"{:.2f}\".format\n",
        "pd.options.display.max_columns = 500\n",
        "\n",
        "\n",
        "from sklearn.model_selection import train_test_split\n",
        "from sklearn.metrics import accuracy_score \n",
        "from sklearn.metrics import classification_report \n",
        "import requests\n",
        "from scipy import stats\n",
        "\n",
        "import lightgbm as lgb\n",
        "\n",
        "from tensorflow.keras.callbacks import EarlyStopping, ModelCheckpoint\n",
        "\n",
        "import sklearn\n",
        "from sklearn import *\n",
        "from sklearn.experimental import enable_hist_gradient_boosting\n",
        "from sklearn.utils.testing import all_estimators\n",
        "from sklearn.base import RegressorMixin\n",
        "from sklearn.model_selection import train_test_split\n",
        "from sklearn.metrics import accuracy_score \n",
        "from sklearn.metrics import classification_report \n",
        "from sklearn.metrics import make_scorer\n",
        "from sklearn.model_selection import RepeatedKFold, cross_val_score, KFold\n",
        "from sklearn.multioutput import RegressorChain\n",
        "\n",
        "\n",
        "import requests\n",
        "import time\n",
        "from scipy import stats\n",
        "\n",
        "import lightgbm as lgb\n",
        "import xgboost as xgb"
      ],
      "execution_count": 1,
      "outputs": []
    },
    {
      "cell_type": "code",
      "metadata": {
        "id": "hUj6gu_Bd9Gh"
      },
      "source": [
        "train_datalink_X = 'https://tournament.datacrunch.com/data/X_train.csv'  \n",
        "train_datalink_y = 'https://tournament.datacrunch.com/data/y_train.csv'\n",
        "hackathon_data_link = 'https://tournament.datacrunch.com/data/X_test.csv'"
      ],
      "execution_count": 2,
      "outputs": []
    },
    {
      "cell_type": "code",
      "metadata": {
        "id": "_KBSz1iFd-0q"
      },
      "source": [
        "train = pd.read_csv(train_datalink_X)\n",
        "target = pd.read_csv(train_datalink_y)\n",
        "test = pd.read_csv(hackathon_data_link)"
      ],
      "execution_count": 3,
      "outputs": []
    },
    {
      "cell_type": "code",
      "metadata": {
        "id": "b4AXU-4Y3B63",
        "outputId": "41cdc641-36e5-4ac1-810a-8eed31405efe",
        "colab": {
          "base_uri": "https://localhost:8080/"
        }
      },
      "source": [
        "train.shape, target.shape, test.shape"
      ],
      "execution_count": 4,
      "outputs": [
        {
          "output_type": "execute_result",
          "data": {
            "text/plain": [
              "((6524, 22), (6524, 3), (4423, 22))"
            ]
          },
          "metadata": {
            "tags": []
          },
          "execution_count": 4
        }
      ]
    },
    {
      "cell_type": "code",
      "metadata": {
        "id": "J1QPSZ703G6X",
        "outputId": "b8bef03d-3c03-45f4-8375-71d68ded1935",
        "colab": {
          "base_uri": "https://localhost:8080/"
        }
      },
      "source": [
        "for i in train.columns:\n",
        "    print(i, train[i].nunique())"
      ],
      "execution_count": 5,
      "outputs": [
        {
          "output_type": "stream",
          "text": [
            "Moons 14\n",
            "id 6524\n",
            "Feature_1 5\n",
            "Feature_2 5\n",
            "Feature_3 4\n",
            "Feature_4 5\n",
            "Feature_5 5\n",
            "Feature_6 5\n",
            "Feature_7 5\n",
            "Feature_8 5\n",
            "Feature_9 5\n",
            "Feature_10 5\n",
            "Feature_11 5\n",
            "Feature_12 5\n",
            "Feature_13 5\n",
            "Feature_14 5\n",
            "Feature_15 5\n",
            "Feature_16 5\n",
            "Feature_17 5\n",
            "Feature_19 5\n",
            "Feature_20 5\n",
            "Feature_21 5\n"
          ],
          "name": "stdout"
        }
      ]
    },
    {
      "cell_type": "code",
      "metadata": {
        "id": "XMRmkW8c3Zgn",
        "outputId": "f6c59521-de4f-4a80-f662-7b21de745209",
        "colab": {
          "base_uri": "https://localhost:8080/"
        }
      },
      "source": [
        "for i in test.columns:\n",
        "    print(i, test[i].nunique())"
      ],
      "execution_count": 6,
      "outputs": [
        {
          "output_type": "stream",
          "text": [
            "Moons 9\n",
            "id 4423\n",
            "Feature_1 5\n",
            "Feature_2 5\n",
            "Feature_3 4\n",
            "Feature_4 5\n",
            "Feature_5 5\n",
            "Feature_6 5\n",
            "Feature_7 5\n",
            "Feature_8 5\n",
            "Feature_9 5\n",
            "Feature_10 5\n",
            "Feature_11 5\n",
            "Feature_12 5\n",
            "Feature_13 5\n",
            "Feature_14 5\n",
            "Feature_15 5\n",
            "Feature_16 5\n",
            "Feature_17 5\n",
            "Feature_19 5\n",
            "Feature_20 5\n",
            "Feature_21 5\n"
          ],
          "name": "stdout"
        }
      ]
    },
    {
      "cell_type": "code",
      "metadata": {
        "colab": {
          "base_uri": "https://localhost:8080/"
        },
        "id": "Upr5sJZNuiK-",
        "outputId": "112f3887-197a-4688-ca2b-059c4f2de96e"
      },
      "source": [
        "cat_feature = []\n",
        "for i in train.columns:\n",
        "    val = train[i].value_counts()\n",
        "    if val.shape[0] == 2:\n",
        "        cat_feature.append(i)\n",
        "cat_feature"
      ],
      "execution_count": 7,
      "outputs": [
        {
          "output_type": "execute_result",
          "data": {
            "text/plain": [
              "[]"
            ]
          },
          "metadata": {
            "tags": []
          },
          "execution_count": 7
        }
      ]
    },
    {
      "cell_type": "code",
      "metadata": {
        "id": "YDsHincId_wE"
      },
      "source": [
        "all_features = [f for f in train.columns if \"Feature\" in f]"
      ],
      "execution_count": 8,
      "outputs": []
    },
    {
      "cell_type": "code",
      "metadata": {
        "id": "ooBL73FNyeir"
      },
      "source": [
        "num_features = [f for f in all_features if f not in cat_feature]"
      ],
      "execution_count": 9,
      "outputs": []
    },
    {
      "cell_type": "code",
      "metadata": {
        "id": "GdzTKglq6cDU",
        "outputId": "f0233645-509b-463c-b78b-332d61d59ed6",
        "colab": {
          "base_uri": "https://localhost:8080/"
        }
      },
      "source": [
        "num_features"
      ],
      "execution_count": 10,
      "outputs": [
        {
          "output_type": "execute_result",
          "data": {
            "text/plain": [
              "['Feature_1',\n",
              " 'Feature_2',\n",
              " 'Feature_3',\n",
              " 'Feature_4',\n",
              " 'Feature_5',\n",
              " 'Feature_6',\n",
              " 'Feature_7',\n",
              " 'Feature_8',\n",
              " 'Feature_9',\n",
              " 'Feature_10',\n",
              " 'Feature_11',\n",
              " 'Feature_12',\n",
              " 'Feature_13',\n",
              " 'Feature_14',\n",
              " 'Feature_15',\n",
              " 'Feature_16',\n",
              " 'Feature_17',\n",
              " 'Feature_19',\n",
              " 'Feature_20',\n",
              " 'Feature_21']"
            ]
          },
          "metadata": {
            "tags": []
          },
          "execution_count": 10
        }
      ]
    },
    {
      "cell_type": "code",
      "metadata": {
        "id": "MFweuEKJzEsx"
      },
      "source": [
        "def add_features(df):\n",
        "    for f in df[num_features].columns:\n",
        "        df['pos_'+str(f)] = df[f]+abs(df[f].min())+1\n",
        "    for f in [f for f in df.columns if \"pos\" in f]:\n",
        "        df['log_'+str(f[4:])] = np.log(df[str(f)])\n",
        "    for f in [f for f in df.columns if \"pos\" in f]:\n",
        "        df['sqrt_'+str(f[4:])] = np.sqrt(df[str(f)])\n",
        "    df.drop(columns = [f for f in df.columns if \"pos\" in f], inplace=True)\n",
        "    return df"
      ],
      "execution_count": 11,
      "outputs": []
    },
    {
      "cell_type": "code",
      "metadata": {
        "id": "aiDqNJqlzTbS"
      },
      "source": [
        "train = add_features(train)\n",
        "test = add_features(test)"
      ],
      "execution_count": 12,
      "outputs": []
    },
    {
      "cell_type": "code",
      "metadata": {
        "colab": {
          "base_uri": "https://localhost:8080/"
        },
        "id": "-RFy3lGsiGyC",
        "outputId": "6a7abda2-06e9-4ea2-fbca-35b9274801a8"
      },
      "source": [
        "ocorr = (train.corrwith(target.target_r).abs() + train.corrwith(target.target_g).abs() + train.corrwith(target.target_b).abs() )/3\n",
        "ocorr.sort_values(ascending=False)"
      ],
      "execution_count": 13,
      "outputs": [
        {
          "output_type": "execute_result",
          "data": {
            "text/plain": [
              "log_Feature_2      0.106625\n",
              "sqrt_Feature_2     0.106500\n",
              "Feature_2          0.106044\n",
              "Feature_13         0.100009\n",
              "sqrt_Feature_13    0.098821\n",
              "                     ...   \n",
              "sqrt_Feature_4     0.010956\n",
              "log_Feature_4      0.010252\n",
              "log_Feature_5      0.008068\n",
              "sqrt_Feature_5     0.007657\n",
              "Feature_5          0.007174\n",
              "Length: 61, dtype: float64"
            ]
          },
          "metadata": {
            "tags": []
          },
          "execution_count": 13
        }
      ]
    },
    {
      "cell_type": "code",
      "metadata": {
        "id": "6UPwQ2tRB7hX"
      },
      "source": [
        ""
      ],
      "execution_count": null,
      "outputs": []
    },
    {
      "cell_type": "markdown",
      "metadata": {
        "id": "5vNaYMmjBPBo"
      },
      "source": [
        "# Mutual Information"
      ]
    },
    {
      "cell_type": "code",
      "metadata": {
        "id": "B2ZPFOUhCHw5",
        "outputId": "bc6bdae1-e7a8-42b8-d48d-cd512843f4bb",
        "colab": {
          "base_uri": "https://localhost:8080/",
          "height": 217
        }
      },
      "source": [
        "train.head()"
      ],
      "execution_count": 14,
      "outputs": [
        {
          "output_type": "execute_result",
          "data": {
            "text/html": [
              "<div>\n",
              "<style scoped>\n",
              "    .dataframe tbody tr th:only-of-type {\n",
              "        vertical-align: middle;\n",
              "    }\n",
              "\n",
              "    .dataframe tbody tr th {\n",
              "        vertical-align: top;\n",
              "    }\n",
              "\n",
              "    .dataframe thead th {\n",
              "        text-align: right;\n",
              "    }\n",
              "</style>\n",
              "<table border=\"1\" class=\"dataframe\">\n",
              "  <thead>\n",
              "    <tr style=\"text-align: right;\">\n",
              "      <th></th>\n",
              "      <th>Moons</th>\n",
              "      <th>id</th>\n",
              "      <th>Feature_1</th>\n",
              "      <th>Feature_2</th>\n",
              "      <th>Feature_3</th>\n",
              "      <th>Feature_4</th>\n",
              "      <th>Feature_5</th>\n",
              "      <th>Feature_6</th>\n",
              "      <th>Feature_7</th>\n",
              "      <th>Feature_8</th>\n",
              "      <th>Feature_9</th>\n",
              "      <th>Feature_10</th>\n",
              "      <th>Feature_11</th>\n",
              "      <th>Feature_12</th>\n",
              "      <th>Feature_13</th>\n",
              "      <th>Feature_14</th>\n",
              "      <th>Feature_15</th>\n",
              "      <th>Feature_16</th>\n",
              "      <th>Feature_17</th>\n",
              "      <th>Feature_19</th>\n",
              "      <th>Feature_20</th>\n",
              "      <th>Feature_21</th>\n",
              "      <th>log_Feature_1</th>\n",
              "      <th>log_Feature_2</th>\n",
              "      <th>log_Feature_3</th>\n",
              "      <th>log_Feature_4</th>\n",
              "      <th>log_Feature_5</th>\n",
              "      <th>log_Feature_6</th>\n",
              "      <th>log_Feature_7</th>\n",
              "      <th>log_Feature_8</th>\n",
              "      <th>log_Feature_9</th>\n",
              "      <th>log_Feature_10</th>\n",
              "      <th>log_Feature_11</th>\n",
              "      <th>log_Feature_12</th>\n",
              "      <th>log_Feature_13</th>\n",
              "      <th>log_Feature_14</th>\n",
              "      <th>log_Feature_15</th>\n",
              "      <th>log_Feature_16</th>\n",
              "      <th>log_Feature_17</th>\n",
              "      <th>log_Feature_19</th>\n",
              "      <th>log_Feature_20</th>\n",
              "      <th>log_Feature_21</th>\n",
              "      <th>sqrt_Feature_1</th>\n",
              "      <th>sqrt_Feature_2</th>\n",
              "      <th>sqrt_Feature_3</th>\n",
              "      <th>sqrt_Feature_4</th>\n",
              "      <th>sqrt_Feature_5</th>\n",
              "      <th>sqrt_Feature_6</th>\n",
              "      <th>sqrt_Feature_7</th>\n",
              "      <th>sqrt_Feature_8</th>\n",
              "      <th>sqrt_Feature_9</th>\n",
              "      <th>sqrt_Feature_10</th>\n",
              "      <th>sqrt_Feature_11</th>\n",
              "      <th>sqrt_Feature_12</th>\n",
              "      <th>sqrt_Feature_13</th>\n",
              "      <th>sqrt_Feature_14</th>\n",
              "      <th>sqrt_Feature_15</th>\n",
              "      <th>sqrt_Feature_16</th>\n",
              "      <th>sqrt_Feature_17</th>\n",
              "      <th>sqrt_Feature_19</th>\n",
              "      <th>sqrt_Feature_20</th>\n",
              "      <th>sqrt_Feature_21</th>\n",
              "    </tr>\n",
              "  </thead>\n",
              "  <tbody>\n",
              "    <tr>\n",
              "      <th>0</th>\n",
              "      <td>0</td>\n",
              "      <td>0xd11efd10c7cc3099</td>\n",
              "      <td>0.50</td>\n",
              "      <td>0.0</td>\n",
              "      <td>0.00</td>\n",
              "      <td>1.0</td>\n",
              "      <td>0.75</td>\n",
              "      <td>0.0</td>\n",
              "      <td>0.0</td>\n",
              "      <td>0.0</td>\n",
              "      <td>0.0</td>\n",
              "      <td>0.0</td>\n",
              "      <td>0.0</td>\n",
              "      <td>0.75</td>\n",
              "      <td>0.50</td>\n",
              "      <td>0.25</td>\n",
              "      <td>0.50</td>\n",
              "      <td>0.50</td>\n",
              "      <td>0.75</td>\n",
              "      <td>0.75</td>\n",
              "      <td>0.75</td>\n",
              "      <td>0.75</td>\n",
              "      <td>0.405465</td>\n",
              "      <td>0.000000</td>\n",
              "      <td>0.000000</td>\n",
              "      <td>0.693147</td>\n",
              "      <td>0.559616</td>\n",
              "      <td>0.0</td>\n",
              "      <td>0.0</td>\n",
              "      <td>0.0</td>\n",
              "      <td>0.0</td>\n",
              "      <td>0.000000</td>\n",
              "      <td>0.000000</td>\n",
              "      <td>0.559616</td>\n",
              "      <td>0.405465</td>\n",
              "      <td>0.223144</td>\n",
              "      <td>0.405465</td>\n",
              "      <td>0.405465</td>\n",
              "      <td>0.559616</td>\n",
              "      <td>0.559616</td>\n",
              "      <td>0.559616</td>\n",
              "      <td>0.559616</td>\n",
              "      <td>1.224745</td>\n",
              "      <td>1.000000</td>\n",
              "      <td>1.000000</td>\n",
              "      <td>1.414214</td>\n",
              "      <td>1.322876</td>\n",
              "      <td>1.0</td>\n",
              "      <td>1.0</td>\n",
              "      <td>1.0</td>\n",
              "      <td>1.0</td>\n",
              "      <td>1.000000</td>\n",
              "      <td>1.000000</td>\n",
              "      <td>1.322876</td>\n",
              "      <td>1.224745</td>\n",
              "      <td>1.118034</td>\n",
              "      <td>1.224745</td>\n",
              "      <td>1.224745</td>\n",
              "      <td>1.322876</td>\n",
              "      <td>1.322876</td>\n",
              "      <td>1.322876</td>\n",
              "      <td>1.322876</td>\n",
              "    </tr>\n",
              "    <tr>\n",
              "      <th>1</th>\n",
              "      <td>0</td>\n",
              "      <td>0x638cf8491e2531e1</td>\n",
              "      <td>0.50</td>\n",
              "      <td>0.0</td>\n",
              "      <td>0.75</td>\n",
              "      <td>1.0</td>\n",
              "      <td>0.75</td>\n",
              "      <td>0.0</td>\n",
              "      <td>0.0</td>\n",
              "      <td>0.0</td>\n",
              "      <td>0.0</td>\n",
              "      <td>0.0</td>\n",
              "      <td>0.0</td>\n",
              "      <td>0.00</td>\n",
              "      <td>0.00</td>\n",
              "      <td>0.00</td>\n",
              "      <td>0.00</td>\n",
              "      <td>0.00</td>\n",
              "      <td>0.00</td>\n",
              "      <td>0.00</td>\n",
              "      <td>0.00</td>\n",
              "      <td>0.00</td>\n",
              "      <td>0.405465</td>\n",
              "      <td>0.000000</td>\n",
              "      <td>0.559616</td>\n",
              "      <td>0.693147</td>\n",
              "      <td>0.559616</td>\n",
              "      <td>0.0</td>\n",
              "      <td>0.0</td>\n",
              "      <td>0.0</td>\n",
              "      <td>0.0</td>\n",
              "      <td>0.000000</td>\n",
              "      <td>0.000000</td>\n",
              "      <td>0.000000</td>\n",
              "      <td>0.000000</td>\n",
              "      <td>0.000000</td>\n",
              "      <td>0.000000</td>\n",
              "      <td>0.000000</td>\n",
              "      <td>0.000000</td>\n",
              "      <td>0.000000</td>\n",
              "      <td>0.000000</td>\n",
              "      <td>0.000000</td>\n",
              "      <td>1.224745</td>\n",
              "      <td>1.000000</td>\n",
              "      <td>1.322876</td>\n",
              "      <td>1.414214</td>\n",
              "      <td>1.322876</td>\n",
              "      <td>1.0</td>\n",
              "      <td>1.0</td>\n",
              "      <td>1.0</td>\n",
              "      <td>1.0</td>\n",
              "      <td>1.000000</td>\n",
              "      <td>1.000000</td>\n",
              "      <td>1.000000</td>\n",
              "      <td>1.000000</td>\n",
              "      <td>1.000000</td>\n",
              "      <td>1.000000</td>\n",
              "      <td>1.000000</td>\n",
              "      <td>1.000000</td>\n",
              "      <td>1.000000</td>\n",
              "      <td>1.000000</td>\n",
              "      <td>1.000000</td>\n",
              "    </tr>\n",
              "    <tr>\n",
              "      <th>2</th>\n",
              "      <td>0</td>\n",
              "      <td>0x79acc91873477033</td>\n",
              "      <td>0.75</td>\n",
              "      <td>0.5</td>\n",
              "      <td>0.25</td>\n",
              "      <td>1.0</td>\n",
              "      <td>0.75</td>\n",
              "      <td>0.0</td>\n",
              "      <td>0.0</td>\n",
              "      <td>0.0</td>\n",
              "      <td>0.0</td>\n",
              "      <td>0.5</td>\n",
              "      <td>0.5</td>\n",
              "      <td>1.00</td>\n",
              "      <td>0.75</td>\n",
              "      <td>0.50</td>\n",
              "      <td>0.25</td>\n",
              "      <td>0.75</td>\n",
              "      <td>0.25</td>\n",
              "      <td>0.50</td>\n",
              "      <td>1.00</td>\n",
              "      <td>0.75</td>\n",
              "      <td>0.559616</td>\n",
              "      <td>0.405465</td>\n",
              "      <td>0.223144</td>\n",
              "      <td>0.693147</td>\n",
              "      <td>0.559616</td>\n",
              "      <td>0.0</td>\n",
              "      <td>0.0</td>\n",
              "      <td>0.0</td>\n",
              "      <td>0.0</td>\n",
              "      <td>0.405465</td>\n",
              "      <td>0.405465</td>\n",
              "      <td>0.693147</td>\n",
              "      <td>0.559616</td>\n",
              "      <td>0.405465</td>\n",
              "      <td>0.223144</td>\n",
              "      <td>0.559616</td>\n",
              "      <td>0.223144</td>\n",
              "      <td>0.405465</td>\n",
              "      <td>0.693147</td>\n",
              "      <td>0.559616</td>\n",
              "      <td>1.322876</td>\n",
              "      <td>1.224745</td>\n",
              "      <td>1.118034</td>\n",
              "      <td>1.414214</td>\n",
              "      <td>1.322876</td>\n",
              "      <td>1.0</td>\n",
              "      <td>1.0</td>\n",
              "      <td>1.0</td>\n",
              "      <td>1.0</td>\n",
              "      <td>1.224745</td>\n",
              "      <td>1.224745</td>\n",
              "      <td>1.414214</td>\n",
              "      <td>1.322876</td>\n",
              "      <td>1.224745</td>\n",
              "      <td>1.118034</td>\n",
              "      <td>1.322876</td>\n",
              "      <td>1.118034</td>\n",
              "      <td>1.224745</td>\n",
              "      <td>1.414214</td>\n",
              "      <td>1.322876</td>\n",
              "    </tr>\n",
              "    <tr>\n",
              "      <th>3</th>\n",
              "      <td>0</td>\n",
              "      <td>0x1c460564096ec677</td>\n",
              "      <td>0.50</td>\n",
              "      <td>0.0</td>\n",
              "      <td>0.00</td>\n",
              "      <td>1.0</td>\n",
              "      <td>0.75</td>\n",
              "      <td>0.0</td>\n",
              "      <td>0.0</td>\n",
              "      <td>0.0</td>\n",
              "      <td>0.0</td>\n",
              "      <td>0.0</td>\n",
              "      <td>0.0</td>\n",
              "      <td>0.50</td>\n",
              "      <td>0.75</td>\n",
              "      <td>0.50</td>\n",
              "      <td>0.75</td>\n",
              "      <td>0.75</td>\n",
              "      <td>0.50</td>\n",
              "      <td>0.50</td>\n",
              "      <td>0.75</td>\n",
              "      <td>0.50</td>\n",
              "      <td>0.405465</td>\n",
              "      <td>0.000000</td>\n",
              "      <td>0.000000</td>\n",
              "      <td>0.693147</td>\n",
              "      <td>0.559616</td>\n",
              "      <td>0.0</td>\n",
              "      <td>0.0</td>\n",
              "      <td>0.0</td>\n",
              "      <td>0.0</td>\n",
              "      <td>0.000000</td>\n",
              "      <td>0.000000</td>\n",
              "      <td>0.405465</td>\n",
              "      <td>0.559616</td>\n",
              "      <td>0.405465</td>\n",
              "      <td>0.559616</td>\n",
              "      <td>0.559616</td>\n",
              "      <td>0.405465</td>\n",
              "      <td>0.405465</td>\n",
              "      <td>0.559616</td>\n",
              "      <td>0.405465</td>\n",
              "      <td>1.224745</td>\n",
              "      <td>1.000000</td>\n",
              "      <td>1.000000</td>\n",
              "      <td>1.414214</td>\n",
              "      <td>1.322876</td>\n",
              "      <td>1.0</td>\n",
              "      <td>1.0</td>\n",
              "      <td>1.0</td>\n",
              "      <td>1.0</td>\n",
              "      <td>1.000000</td>\n",
              "      <td>1.000000</td>\n",
              "      <td>1.224745</td>\n",
              "      <td>1.322876</td>\n",
              "      <td>1.224745</td>\n",
              "      <td>1.322876</td>\n",
              "      <td>1.322876</td>\n",
              "      <td>1.224745</td>\n",
              "      <td>1.224745</td>\n",
              "      <td>1.322876</td>\n",
              "      <td>1.224745</td>\n",
              "    </tr>\n",
              "    <tr>\n",
              "      <th>4</th>\n",
              "      <td>0</td>\n",
              "      <td>0x4ee26947ed8f9add</td>\n",
              "      <td>0.75</td>\n",
              "      <td>0.0</td>\n",
              "      <td>0.75</td>\n",
              "      <td>1.0</td>\n",
              "      <td>0.75</td>\n",
              "      <td>0.0</td>\n",
              "      <td>0.0</td>\n",
              "      <td>0.0</td>\n",
              "      <td>0.0</td>\n",
              "      <td>0.0</td>\n",
              "      <td>0.0</td>\n",
              "      <td>0.00</td>\n",
              "      <td>0.00</td>\n",
              "      <td>0.00</td>\n",
              "      <td>0.00</td>\n",
              "      <td>0.00</td>\n",
              "      <td>0.00</td>\n",
              "      <td>0.00</td>\n",
              "      <td>0.00</td>\n",
              "      <td>0.00</td>\n",
              "      <td>0.559616</td>\n",
              "      <td>0.000000</td>\n",
              "      <td>0.559616</td>\n",
              "      <td>0.693147</td>\n",
              "      <td>0.559616</td>\n",
              "      <td>0.0</td>\n",
              "      <td>0.0</td>\n",
              "      <td>0.0</td>\n",
              "      <td>0.0</td>\n",
              "      <td>0.000000</td>\n",
              "      <td>0.000000</td>\n",
              "      <td>0.000000</td>\n",
              "      <td>0.000000</td>\n",
              "      <td>0.000000</td>\n",
              "      <td>0.000000</td>\n",
              "      <td>0.000000</td>\n",
              "      <td>0.000000</td>\n",
              "      <td>0.000000</td>\n",
              "      <td>0.000000</td>\n",
              "      <td>0.000000</td>\n",
              "      <td>1.322876</td>\n",
              "      <td>1.000000</td>\n",
              "      <td>1.322876</td>\n",
              "      <td>1.414214</td>\n",
              "      <td>1.322876</td>\n",
              "      <td>1.0</td>\n",
              "      <td>1.0</td>\n",
              "      <td>1.0</td>\n",
              "      <td>1.0</td>\n",
              "      <td>1.000000</td>\n",
              "      <td>1.000000</td>\n",
              "      <td>1.000000</td>\n",
              "      <td>1.000000</td>\n",
              "      <td>1.000000</td>\n",
              "      <td>1.000000</td>\n",
              "      <td>1.000000</td>\n",
              "      <td>1.000000</td>\n",
              "      <td>1.000000</td>\n",
              "      <td>1.000000</td>\n",
              "      <td>1.000000</td>\n",
              "    </tr>\n",
              "  </tbody>\n",
              "</table>\n",
              "</div>"
            ],
            "text/plain": [
              "   Moons                  id  Feature_1  Feature_2  Feature_3  Feature_4  \\\n",
              "0      0  0xd11efd10c7cc3099       0.50        0.0       0.00        1.0   \n",
              "1      0  0x638cf8491e2531e1       0.50        0.0       0.75        1.0   \n",
              "2      0  0x79acc91873477033       0.75        0.5       0.25        1.0   \n",
              "3      0  0x1c460564096ec677       0.50        0.0       0.00        1.0   \n",
              "4      0  0x4ee26947ed8f9add       0.75        0.0       0.75        1.0   \n",
              "\n",
              "   Feature_5  Feature_6  Feature_7  Feature_8  Feature_9  Feature_10  \\\n",
              "0       0.75        0.0        0.0        0.0        0.0         0.0   \n",
              "1       0.75        0.0        0.0        0.0        0.0         0.0   \n",
              "2       0.75        0.0        0.0        0.0        0.0         0.5   \n",
              "3       0.75        0.0        0.0        0.0        0.0         0.0   \n",
              "4       0.75        0.0        0.0        0.0        0.0         0.0   \n",
              "\n",
              "   Feature_11  Feature_12  Feature_13  Feature_14  Feature_15  Feature_16  \\\n",
              "0         0.0        0.75        0.50        0.25        0.50        0.50   \n",
              "1         0.0        0.00        0.00        0.00        0.00        0.00   \n",
              "2         0.5        1.00        0.75        0.50        0.25        0.75   \n",
              "3         0.0        0.50        0.75        0.50        0.75        0.75   \n",
              "4         0.0        0.00        0.00        0.00        0.00        0.00   \n",
              "\n",
              "   Feature_17  Feature_19  Feature_20  Feature_21  log_Feature_1  \\\n",
              "0        0.75        0.75        0.75        0.75       0.405465   \n",
              "1        0.00        0.00        0.00        0.00       0.405465   \n",
              "2        0.25        0.50        1.00        0.75       0.559616   \n",
              "3        0.50        0.50        0.75        0.50       0.405465   \n",
              "4        0.00        0.00        0.00        0.00       0.559616   \n",
              "\n",
              "   log_Feature_2  log_Feature_3  log_Feature_4  log_Feature_5  log_Feature_6  \\\n",
              "0       0.000000       0.000000       0.693147       0.559616            0.0   \n",
              "1       0.000000       0.559616       0.693147       0.559616            0.0   \n",
              "2       0.405465       0.223144       0.693147       0.559616            0.0   \n",
              "3       0.000000       0.000000       0.693147       0.559616            0.0   \n",
              "4       0.000000       0.559616       0.693147       0.559616            0.0   \n",
              "\n",
              "   log_Feature_7  log_Feature_8  log_Feature_9  log_Feature_10  \\\n",
              "0            0.0            0.0            0.0        0.000000   \n",
              "1            0.0            0.0            0.0        0.000000   \n",
              "2            0.0            0.0            0.0        0.405465   \n",
              "3            0.0            0.0            0.0        0.000000   \n",
              "4            0.0            0.0            0.0        0.000000   \n",
              "\n",
              "   log_Feature_11  log_Feature_12  log_Feature_13  log_Feature_14  \\\n",
              "0        0.000000        0.559616        0.405465        0.223144   \n",
              "1        0.000000        0.000000        0.000000        0.000000   \n",
              "2        0.405465        0.693147        0.559616        0.405465   \n",
              "3        0.000000        0.405465        0.559616        0.405465   \n",
              "4        0.000000        0.000000        0.000000        0.000000   \n",
              "\n",
              "   log_Feature_15  log_Feature_16  log_Feature_17  log_Feature_19  \\\n",
              "0        0.405465        0.405465        0.559616        0.559616   \n",
              "1        0.000000        0.000000        0.000000        0.000000   \n",
              "2        0.223144        0.559616        0.223144        0.405465   \n",
              "3        0.559616        0.559616        0.405465        0.405465   \n",
              "4        0.000000        0.000000        0.000000        0.000000   \n",
              "\n",
              "   log_Feature_20  log_Feature_21  sqrt_Feature_1  sqrt_Feature_2  \\\n",
              "0        0.559616        0.559616        1.224745        1.000000   \n",
              "1        0.000000        0.000000        1.224745        1.000000   \n",
              "2        0.693147        0.559616        1.322876        1.224745   \n",
              "3        0.559616        0.405465        1.224745        1.000000   \n",
              "4        0.000000        0.000000        1.322876        1.000000   \n",
              "\n",
              "   sqrt_Feature_3  sqrt_Feature_4  sqrt_Feature_5  sqrt_Feature_6  \\\n",
              "0        1.000000        1.414214        1.322876             1.0   \n",
              "1        1.322876        1.414214        1.322876             1.0   \n",
              "2        1.118034        1.414214        1.322876             1.0   \n",
              "3        1.000000        1.414214        1.322876             1.0   \n",
              "4        1.322876        1.414214        1.322876             1.0   \n",
              "\n",
              "   sqrt_Feature_7  sqrt_Feature_8  sqrt_Feature_9  sqrt_Feature_10  \\\n",
              "0             1.0             1.0             1.0         1.000000   \n",
              "1             1.0             1.0             1.0         1.000000   \n",
              "2             1.0             1.0             1.0         1.224745   \n",
              "3             1.0             1.0             1.0         1.000000   \n",
              "4             1.0             1.0             1.0         1.000000   \n",
              "\n",
              "   sqrt_Feature_11  sqrt_Feature_12  sqrt_Feature_13  sqrt_Feature_14  \\\n",
              "0         1.000000         1.322876         1.224745         1.118034   \n",
              "1         1.000000         1.000000         1.000000         1.000000   \n",
              "2         1.224745         1.414214         1.322876         1.224745   \n",
              "3         1.000000         1.224745         1.322876         1.224745   \n",
              "4         1.000000         1.000000         1.000000         1.000000   \n",
              "\n",
              "   sqrt_Feature_15  sqrt_Feature_16  sqrt_Feature_17  sqrt_Feature_19  \\\n",
              "0         1.224745         1.224745         1.322876         1.322876   \n",
              "1         1.000000         1.000000         1.000000         1.000000   \n",
              "2         1.118034         1.322876         1.118034         1.224745   \n",
              "3         1.322876         1.322876         1.224745         1.224745   \n",
              "4         1.000000         1.000000         1.000000         1.000000   \n",
              "\n",
              "   sqrt_Feature_20  sqrt_Feature_21  \n",
              "0         1.322876         1.322876  \n",
              "1         1.000000         1.000000  \n",
              "2         1.414214         1.322876  \n",
              "3         1.322876         1.224745  \n",
              "4         1.000000         1.000000  "
            ]
          },
          "metadata": {
            "tags": []
          },
          "execution_count": 14
        }
      ]
    },
    {
      "cell_type": "code",
      "metadata": {
        "id": "Mpp6uKNhCAis"
      },
      "source": [
        "df = train.drop(columns=['Moons', 'id'])"
      ],
      "execution_count": 15,
      "outputs": []
    },
    {
      "cell_type": "code",
      "metadata": {
        "id": "vvRn-7fpCMHi",
        "outputId": "ec25299e-fae4-422d-9d99-21a82f8c6fc4",
        "colab": {
          "base_uri": "https://localhost:8080/",
          "height": 217
        }
      },
      "source": [
        "df.head()"
      ],
      "execution_count": 16,
      "outputs": [
        {
          "output_type": "execute_result",
          "data": {
            "text/html": [
              "<div>\n",
              "<style scoped>\n",
              "    .dataframe tbody tr th:only-of-type {\n",
              "        vertical-align: middle;\n",
              "    }\n",
              "\n",
              "    .dataframe tbody tr th {\n",
              "        vertical-align: top;\n",
              "    }\n",
              "\n",
              "    .dataframe thead th {\n",
              "        text-align: right;\n",
              "    }\n",
              "</style>\n",
              "<table border=\"1\" class=\"dataframe\">\n",
              "  <thead>\n",
              "    <tr style=\"text-align: right;\">\n",
              "      <th></th>\n",
              "      <th>Feature_1</th>\n",
              "      <th>Feature_2</th>\n",
              "      <th>Feature_3</th>\n",
              "      <th>Feature_4</th>\n",
              "      <th>Feature_5</th>\n",
              "      <th>Feature_6</th>\n",
              "      <th>Feature_7</th>\n",
              "      <th>Feature_8</th>\n",
              "      <th>Feature_9</th>\n",
              "      <th>Feature_10</th>\n",
              "      <th>Feature_11</th>\n",
              "      <th>Feature_12</th>\n",
              "      <th>Feature_13</th>\n",
              "      <th>Feature_14</th>\n",
              "      <th>Feature_15</th>\n",
              "      <th>Feature_16</th>\n",
              "      <th>Feature_17</th>\n",
              "      <th>Feature_19</th>\n",
              "      <th>Feature_20</th>\n",
              "      <th>Feature_21</th>\n",
              "      <th>log_Feature_1</th>\n",
              "      <th>log_Feature_2</th>\n",
              "      <th>log_Feature_3</th>\n",
              "      <th>log_Feature_4</th>\n",
              "      <th>log_Feature_5</th>\n",
              "      <th>log_Feature_6</th>\n",
              "      <th>log_Feature_7</th>\n",
              "      <th>log_Feature_8</th>\n",
              "      <th>log_Feature_9</th>\n",
              "      <th>log_Feature_10</th>\n",
              "      <th>log_Feature_11</th>\n",
              "      <th>log_Feature_12</th>\n",
              "      <th>log_Feature_13</th>\n",
              "      <th>log_Feature_14</th>\n",
              "      <th>log_Feature_15</th>\n",
              "      <th>log_Feature_16</th>\n",
              "      <th>log_Feature_17</th>\n",
              "      <th>log_Feature_19</th>\n",
              "      <th>log_Feature_20</th>\n",
              "      <th>log_Feature_21</th>\n",
              "      <th>sqrt_Feature_1</th>\n",
              "      <th>sqrt_Feature_2</th>\n",
              "      <th>sqrt_Feature_3</th>\n",
              "      <th>sqrt_Feature_4</th>\n",
              "      <th>sqrt_Feature_5</th>\n",
              "      <th>sqrt_Feature_6</th>\n",
              "      <th>sqrt_Feature_7</th>\n",
              "      <th>sqrt_Feature_8</th>\n",
              "      <th>sqrt_Feature_9</th>\n",
              "      <th>sqrt_Feature_10</th>\n",
              "      <th>sqrt_Feature_11</th>\n",
              "      <th>sqrt_Feature_12</th>\n",
              "      <th>sqrt_Feature_13</th>\n",
              "      <th>sqrt_Feature_14</th>\n",
              "      <th>sqrt_Feature_15</th>\n",
              "      <th>sqrt_Feature_16</th>\n",
              "      <th>sqrt_Feature_17</th>\n",
              "      <th>sqrt_Feature_19</th>\n",
              "      <th>sqrt_Feature_20</th>\n",
              "      <th>sqrt_Feature_21</th>\n",
              "    </tr>\n",
              "  </thead>\n",
              "  <tbody>\n",
              "    <tr>\n",
              "      <th>0</th>\n",
              "      <td>0.50</td>\n",
              "      <td>0.0</td>\n",
              "      <td>0.00</td>\n",
              "      <td>1.0</td>\n",
              "      <td>0.75</td>\n",
              "      <td>0.0</td>\n",
              "      <td>0.0</td>\n",
              "      <td>0.0</td>\n",
              "      <td>0.0</td>\n",
              "      <td>0.0</td>\n",
              "      <td>0.0</td>\n",
              "      <td>0.75</td>\n",
              "      <td>0.50</td>\n",
              "      <td>0.25</td>\n",
              "      <td>0.50</td>\n",
              "      <td>0.50</td>\n",
              "      <td>0.75</td>\n",
              "      <td>0.75</td>\n",
              "      <td>0.75</td>\n",
              "      <td>0.75</td>\n",
              "      <td>0.405465</td>\n",
              "      <td>0.000000</td>\n",
              "      <td>0.000000</td>\n",
              "      <td>0.693147</td>\n",
              "      <td>0.559616</td>\n",
              "      <td>0.0</td>\n",
              "      <td>0.0</td>\n",
              "      <td>0.0</td>\n",
              "      <td>0.0</td>\n",
              "      <td>0.000000</td>\n",
              "      <td>0.000000</td>\n",
              "      <td>0.559616</td>\n",
              "      <td>0.405465</td>\n",
              "      <td>0.223144</td>\n",
              "      <td>0.405465</td>\n",
              "      <td>0.405465</td>\n",
              "      <td>0.559616</td>\n",
              "      <td>0.559616</td>\n",
              "      <td>0.559616</td>\n",
              "      <td>0.559616</td>\n",
              "      <td>1.224745</td>\n",
              "      <td>1.000000</td>\n",
              "      <td>1.000000</td>\n",
              "      <td>1.414214</td>\n",
              "      <td>1.322876</td>\n",
              "      <td>1.0</td>\n",
              "      <td>1.0</td>\n",
              "      <td>1.0</td>\n",
              "      <td>1.0</td>\n",
              "      <td>1.000000</td>\n",
              "      <td>1.000000</td>\n",
              "      <td>1.322876</td>\n",
              "      <td>1.224745</td>\n",
              "      <td>1.118034</td>\n",
              "      <td>1.224745</td>\n",
              "      <td>1.224745</td>\n",
              "      <td>1.322876</td>\n",
              "      <td>1.322876</td>\n",
              "      <td>1.322876</td>\n",
              "      <td>1.322876</td>\n",
              "    </tr>\n",
              "    <tr>\n",
              "      <th>1</th>\n",
              "      <td>0.50</td>\n",
              "      <td>0.0</td>\n",
              "      <td>0.75</td>\n",
              "      <td>1.0</td>\n",
              "      <td>0.75</td>\n",
              "      <td>0.0</td>\n",
              "      <td>0.0</td>\n",
              "      <td>0.0</td>\n",
              "      <td>0.0</td>\n",
              "      <td>0.0</td>\n",
              "      <td>0.0</td>\n",
              "      <td>0.00</td>\n",
              "      <td>0.00</td>\n",
              "      <td>0.00</td>\n",
              "      <td>0.00</td>\n",
              "      <td>0.00</td>\n",
              "      <td>0.00</td>\n",
              "      <td>0.00</td>\n",
              "      <td>0.00</td>\n",
              "      <td>0.00</td>\n",
              "      <td>0.405465</td>\n",
              "      <td>0.000000</td>\n",
              "      <td>0.559616</td>\n",
              "      <td>0.693147</td>\n",
              "      <td>0.559616</td>\n",
              "      <td>0.0</td>\n",
              "      <td>0.0</td>\n",
              "      <td>0.0</td>\n",
              "      <td>0.0</td>\n",
              "      <td>0.000000</td>\n",
              "      <td>0.000000</td>\n",
              "      <td>0.000000</td>\n",
              "      <td>0.000000</td>\n",
              "      <td>0.000000</td>\n",
              "      <td>0.000000</td>\n",
              "      <td>0.000000</td>\n",
              "      <td>0.000000</td>\n",
              "      <td>0.000000</td>\n",
              "      <td>0.000000</td>\n",
              "      <td>0.000000</td>\n",
              "      <td>1.224745</td>\n",
              "      <td>1.000000</td>\n",
              "      <td>1.322876</td>\n",
              "      <td>1.414214</td>\n",
              "      <td>1.322876</td>\n",
              "      <td>1.0</td>\n",
              "      <td>1.0</td>\n",
              "      <td>1.0</td>\n",
              "      <td>1.0</td>\n",
              "      <td>1.000000</td>\n",
              "      <td>1.000000</td>\n",
              "      <td>1.000000</td>\n",
              "      <td>1.000000</td>\n",
              "      <td>1.000000</td>\n",
              "      <td>1.000000</td>\n",
              "      <td>1.000000</td>\n",
              "      <td>1.000000</td>\n",
              "      <td>1.000000</td>\n",
              "      <td>1.000000</td>\n",
              "      <td>1.000000</td>\n",
              "    </tr>\n",
              "    <tr>\n",
              "      <th>2</th>\n",
              "      <td>0.75</td>\n",
              "      <td>0.5</td>\n",
              "      <td>0.25</td>\n",
              "      <td>1.0</td>\n",
              "      <td>0.75</td>\n",
              "      <td>0.0</td>\n",
              "      <td>0.0</td>\n",
              "      <td>0.0</td>\n",
              "      <td>0.0</td>\n",
              "      <td>0.5</td>\n",
              "      <td>0.5</td>\n",
              "      <td>1.00</td>\n",
              "      <td>0.75</td>\n",
              "      <td>0.50</td>\n",
              "      <td>0.25</td>\n",
              "      <td>0.75</td>\n",
              "      <td>0.25</td>\n",
              "      <td>0.50</td>\n",
              "      <td>1.00</td>\n",
              "      <td>0.75</td>\n",
              "      <td>0.559616</td>\n",
              "      <td>0.405465</td>\n",
              "      <td>0.223144</td>\n",
              "      <td>0.693147</td>\n",
              "      <td>0.559616</td>\n",
              "      <td>0.0</td>\n",
              "      <td>0.0</td>\n",
              "      <td>0.0</td>\n",
              "      <td>0.0</td>\n",
              "      <td>0.405465</td>\n",
              "      <td>0.405465</td>\n",
              "      <td>0.693147</td>\n",
              "      <td>0.559616</td>\n",
              "      <td>0.405465</td>\n",
              "      <td>0.223144</td>\n",
              "      <td>0.559616</td>\n",
              "      <td>0.223144</td>\n",
              "      <td>0.405465</td>\n",
              "      <td>0.693147</td>\n",
              "      <td>0.559616</td>\n",
              "      <td>1.322876</td>\n",
              "      <td>1.224745</td>\n",
              "      <td>1.118034</td>\n",
              "      <td>1.414214</td>\n",
              "      <td>1.322876</td>\n",
              "      <td>1.0</td>\n",
              "      <td>1.0</td>\n",
              "      <td>1.0</td>\n",
              "      <td>1.0</td>\n",
              "      <td>1.224745</td>\n",
              "      <td>1.224745</td>\n",
              "      <td>1.414214</td>\n",
              "      <td>1.322876</td>\n",
              "      <td>1.224745</td>\n",
              "      <td>1.118034</td>\n",
              "      <td>1.322876</td>\n",
              "      <td>1.118034</td>\n",
              "      <td>1.224745</td>\n",
              "      <td>1.414214</td>\n",
              "      <td>1.322876</td>\n",
              "    </tr>\n",
              "    <tr>\n",
              "      <th>3</th>\n",
              "      <td>0.50</td>\n",
              "      <td>0.0</td>\n",
              "      <td>0.00</td>\n",
              "      <td>1.0</td>\n",
              "      <td>0.75</td>\n",
              "      <td>0.0</td>\n",
              "      <td>0.0</td>\n",
              "      <td>0.0</td>\n",
              "      <td>0.0</td>\n",
              "      <td>0.0</td>\n",
              "      <td>0.0</td>\n",
              "      <td>0.50</td>\n",
              "      <td>0.75</td>\n",
              "      <td>0.50</td>\n",
              "      <td>0.75</td>\n",
              "      <td>0.75</td>\n",
              "      <td>0.50</td>\n",
              "      <td>0.50</td>\n",
              "      <td>0.75</td>\n",
              "      <td>0.50</td>\n",
              "      <td>0.405465</td>\n",
              "      <td>0.000000</td>\n",
              "      <td>0.000000</td>\n",
              "      <td>0.693147</td>\n",
              "      <td>0.559616</td>\n",
              "      <td>0.0</td>\n",
              "      <td>0.0</td>\n",
              "      <td>0.0</td>\n",
              "      <td>0.0</td>\n",
              "      <td>0.000000</td>\n",
              "      <td>0.000000</td>\n",
              "      <td>0.405465</td>\n",
              "      <td>0.559616</td>\n",
              "      <td>0.405465</td>\n",
              "      <td>0.559616</td>\n",
              "      <td>0.559616</td>\n",
              "      <td>0.405465</td>\n",
              "      <td>0.405465</td>\n",
              "      <td>0.559616</td>\n",
              "      <td>0.405465</td>\n",
              "      <td>1.224745</td>\n",
              "      <td>1.000000</td>\n",
              "      <td>1.000000</td>\n",
              "      <td>1.414214</td>\n",
              "      <td>1.322876</td>\n",
              "      <td>1.0</td>\n",
              "      <td>1.0</td>\n",
              "      <td>1.0</td>\n",
              "      <td>1.0</td>\n",
              "      <td>1.000000</td>\n",
              "      <td>1.000000</td>\n",
              "      <td>1.224745</td>\n",
              "      <td>1.322876</td>\n",
              "      <td>1.224745</td>\n",
              "      <td>1.322876</td>\n",
              "      <td>1.322876</td>\n",
              "      <td>1.224745</td>\n",
              "      <td>1.224745</td>\n",
              "      <td>1.322876</td>\n",
              "      <td>1.224745</td>\n",
              "    </tr>\n",
              "    <tr>\n",
              "      <th>4</th>\n",
              "      <td>0.75</td>\n",
              "      <td>0.0</td>\n",
              "      <td>0.75</td>\n",
              "      <td>1.0</td>\n",
              "      <td>0.75</td>\n",
              "      <td>0.0</td>\n",
              "      <td>0.0</td>\n",
              "      <td>0.0</td>\n",
              "      <td>0.0</td>\n",
              "      <td>0.0</td>\n",
              "      <td>0.0</td>\n",
              "      <td>0.00</td>\n",
              "      <td>0.00</td>\n",
              "      <td>0.00</td>\n",
              "      <td>0.00</td>\n",
              "      <td>0.00</td>\n",
              "      <td>0.00</td>\n",
              "      <td>0.00</td>\n",
              "      <td>0.00</td>\n",
              "      <td>0.00</td>\n",
              "      <td>0.559616</td>\n",
              "      <td>0.000000</td>\n",
              "      <td>0.559616</td>\n",
              "      <td>0.693147</td>\n",
              "      <td>0.559616</td>\n",
              "      <td>0.0</td>\n",
              "      <td>0.0</td>\n",
              "      <td>0.0</td>\n",
              "      <td>0.0</td>\n",
              "      <td>0.000000</td>\n",
              "      <td>0.000000</td>\n",
              "      <td>0.000000</td>\n",
              "      <td>0.000000</td>\n",
              "      <td>0.000000</td>\n",
              "      <td>0.000000</td>\n",
              "      <td>0.000000</td>\n",
              "      <td>0.000000</td>\n",
              "      <td>0.000000</td>\n",
              "      <td>0.000000</td>\n",
              "      <td>0.000000</td>\n",
              "      <td>1.322876</td>\n",
              "      <td>1.000000</td>\n",
              "      <td>1.322876</td>\n",
              "      <td>1.414214</td>\n",
              "      <td>1.322876</td>\n",
              "      <td>1.0</td>\n",
              "      <td>1.0</td>\n",
              "      <td>1.0</td>\n",
              "      <td>1.0</td>\n",
              "      <td>1.000000</td>\n",
              "      <td>1.000000</td>\n",
              "      <td>1.000000</td>\n",
              "      <td>1.000000</td>\n",
              "      <td>1.000000</td>\n",
              "      <td>1.000000</td>\n",
              "      <td>1.000000</td>\n",
              "      <td>1.000000</td>\n",
              "      <td>1.000000</td>\n",
              "      <td>1.000000</td>\n",
              "      <td>1.000000</td>\n",
              "    </tr>\n",
              "  </tbody>\n",
              "</table>\n",
              "</div>"
            ],
            "text/plain": [
              "   Feature_1  Feature_2  Feature_3  Feature_4  Feature_5  Feature_6  \\\n",
              "0       0.50        0.0       0.00        1.0       0.75        0.0   \n",
              "1       0.50        0.0       0.75        1.0       0.75        0.0   \n",
              "2       0.75        0.5       0.25        1.0       0.75        0.0   \n",
              "3       0.50        0.0       0.00        1.0       0.75        0.0   \n",
              "4       0.75        0.0       0.75        1.0       0.75        0.0   \n",
              "\n",
              "   Feature_7  Feature_8  Feature_9  Feature_10  Feature_11  Feature_12  \\\n",
              "0        0.0        0.0        0.0         0.0         0.0        0.75   \n",
              "1        0.0        0.0        0.0         0.0         0.0        0.00   \n",
              "2        0.0        0.0        0.0         0.5         0.5        1.00   \n",
              "3        0.0        0.0        0.0         0.0         0.0        0.50   \n",
              "4        0.0        0.0        0.0         0.0         0.0        0.00   \n",
              "\n",
              "   Feature_13  Feature_14  Feature_15  Feature_16  Feature_17  Feature_19  \\\n",
              "0        0.50        0.25        0.50        0.50        0.75        0.75   \n",
              "1        0.00        0.00        0.00        0.00        0.00        0.00   \n",
              "2        0.75        0.50        0.25        0.75        0.25        0.50   \n",
              "3        0.75        0.50        0.75        0.75        0.50        0.50   \n",
              "4        0.00        0.00        0.00        0.00        0.00        0.00   \n",
              "\n",
              "   Feature_20  Feature_21  log_Feature_1  log_Feature_2  log_Feature_3  \\\n",
              "0        0.75        0.75       0.405465       0.000000       0.000000   \n",
              "1        0.00        0.00       0.405465       0.000000       0.559616   \n",
              "2        1.00        0.75       0.559616       0.405465       0.223144   \n",
              "3        0.75        0.50       0.405465       0.000000       0.000000   \n",
              "4        0.00        0.00       0.559616       0.000000       0.559616   \n",
              "\n",
              "   log_Feature_4  log_Feature_5  log_Feature_6  log_Feature_7  log_Feature_8  \\\n",
              "0       0.693147       0.559616            0.0            0.0            0.0   \n",
              "1       0.693147       0.559616            0.0            0.0            0.0   \n",
              "2       0.693147       0.559616            0.0            0.0            0.0   \n",
              "3       0.693147       0.559616            0.0            0.0            0.0   \n",
              "4       0.693147       0.559616            0.0            0.0            0.0   \n",
              "\n",
              "   log_Feature_9  log_Feature_10  log_Feature_11  log_Feature_12  \\\n",
              "0            0.0        0.000000        0.000000        0.559616   \n",
              "1            0.0        0.000000        0.000000        0.000000   \n",
              "2            0.0        0.405465        0.405465        0.693147   \n",
              "3            0.0        0.000000        0.000000        0.405465   \n",
              "4            0.0        0.000000        0.000000        0.000000   \n",
              "\n",
              "   log_Feature_13  log_Feature_14  log_Feature_15  log_Feature_16  \\\n",
              "0        0.405465        0.223144        0.405465        0.405465   \n",
              "1        0.000000        0.000000        0.000000        0.000000   \n",
              "2        0.559616        0.405465        0.223144        0.559616   \n",
              "3        0.559616        0.405465        0.559616        0.559616   \n",
              "4        0.000000        0.000000        0.000000        0.000000   \n",
              "\n",
              "   log_Feature_17  log_Feature_19  log_Feature_20  log_Feature_21  \\\n",
              "0        0.559616        0.559616        0.559616        0.559616   \n",
              "1        0.000000        0.000000        0.000000        0.000000   \n",
              "2        0.223144        0.405465        0.693147        0.559616   \n",
              "3        0.405465        0.405465        0.559616        0.405465   \n",
              "4        0.000000        0.000000        0.000000        0.000000   \n",
              "\n",
              "   sqrt_Feature_1  sqrt_Feature_2  sqrt_Feature_3  sqrt_Feature_4  \\\n",
              "0        1.224745        1.000000        1.000000        1.414214   \n",
              "1        1.224745        1.000000        1.322876        1.414214   \n",
              "2        1.322876        1.224745        1.118034        1.414214   \n",
              "3        1.224745        1.000000        1.000000        1.414214   \n",
              "4        1.322876        1.000000        1.322876        1.414214   \n",
              "\n",
              "   sqrt_Feature_5  sqrt_Feature_6  sqrt_Feature_7  sqrt_Feature_8  \\\n",
              "0        1.322876             1.0             1.0             1.0   \n",
              "1        1.322876             1.0             1.0             1.0   \n",
              "2        1.322876             1.0             1.0             1.0   \n",
              "3        1.322876             1.0             1.0             1.0   \n",
              "4        1.322876             1.0             1.0             1.0   \n",
              "\n",
              "   sqrt_Feature_9  sqrt_Feature_10  sqrt_Feature_11  sqrt_Feature_12  \\\n",
              "0             1.0         1.000000         1.000000         1.322876   \n",
              "1             1.0         1.000000         1.000000         1.000000   \n",
              "2             1.0         1.224745         1.224745         1.414214   \n",
              "3             1.0         1.000000         1.000000         1.224745   \n",
              "4             1.0         1.000000         1.000000         1.000000   \n",
              "\n",
              "   sqrt_Feature_13  sqrt_Feature_14  sqrt_Feature_15  sqrt_Feature_16  \\\n",
              "0         1.224745         1.118034         1.224745         1.224745   \n",
              "1         1.000000         1.000000         1.000000         1.000000   \n",
              "2         1.322876         1.224745         1.118034         1.322876   \n",
              "3         1.322876         1.224745         1.322876         1.322876   \n",
              "4         1.000000         1.000000         1.000000         1.000000   \n",
              "\n",
              "   sqrt_Feature_17  sqrt_Feature_19  sqrt_Feature_20  sqrt_Feature_21  \n",
              "0         1.322876         1.322876         1.322876         1.322876  \n",
              "1         1.000000         1.000000         1.000000         1.000000  \n",
              "2         1.118034         1.224745         1.414214         1.322876  \n",
              "3         1.224745         1.224745         1.322876         1.224745  \n",
              "4         1.000000         1.000000         1.000000         1.000000  "
            ]
          },
          "metadata": {
            "tags": []
          },
          "execution_count": 16
        }
      ]
    },
    {
      "cell_type": "code",
      "metadata": {
        "id": "tg87nD5iBOWB"
      },
      "source": [
        "from sklearn.feature_selection import mutual_info_regression"
      ],
      "execution_count": 17,
      "outputs": []
    },
    {
      "cell_type": "code",
      "metadata": {
        "id": "4l-eYsLaBR7_",
        "outputId": "9a395dd3-d7e2-4172-9e4b-9dbdbd8b04b0",
        "colab": {
          "base_uri": "https://localhost:8080/"
        }
      },
      "source": [
        "mi_scores_r = mutual_info_regression(df, target.target_r)\n",
        "mi_scores_g = mutual_info_regression(df, target.target_g)\n",
        "mi_scores_b = mutual_info_regression(df, target.target_b)\n",
        "\n",
        "mi_scores = pd.Series((mi_scores_r + mi_scores_g +  mi_scores_b)/3, name=\"MI Scores\", index=df.columns)\n",
        "mi_scores = mi_scores.sort_values(ascending=False)\n",
        "mi_scores"
      ],
      "execution_count": 18,
      "outputs": [
        {
          "output_type": "execute_result",
          "data": {
            "text/plain": [
              "sqrt_Feature_3     0.023514\n",
              "log_Feature_3      0.021480\n",
              "log_Feature_2      0.014832\n",
              "Feature_2          0.013672\n",
              "sqrt_Feature_12    0.011388\n",
              "Feature_14         0.010868\n",
              "sqrt_Feature_15    0.010619\n",
              "log_Feature_20     0.010348\n",
              "sqrt_Feature_2     0.009956\n",
              "log_Feature_21     0.009795\n",
              "Feature_13         0.009762\n",
              "Feature_16         0.009754\n",
              "Feature_1          0.009513\n",
              "sqrt_Feature_7     0.009114\n",
              "log_Feature_13     0.009067\n",
              "log_Feature_8      0.009020\n",
              "log_Feature_19     0.009005\n",
              "Feature_19         0.008477\n",
              "Feature_17         0.008451\n",
              "sqrt_Feature_13    0.008315\n",
              "log_Feature_10     0.007895\n",
              "Feature_9          0.007494\n",
              "log_Feature_12     0.007284\n",
              "Feature_4          0.007244\n",
              "sqrt_Feature_19    0.006982\n",
              "Feature_20         0.006457\n",
              "log_Feature_5      0.006379\n",
              "sqrt_Feature_10    0.005453\n",
              "Feature_6          0.005429\n",
              "log_Feature_14     0.005355\n",
              "sqrt_Feature_21    0.004869\n",
              "Feature_12         0.004865\n",
              "log_Feature_16     0.004770\n",
              "log_Feature_1      0.004737\n",
              "log_Feature_17     0.004699\n",
              "sqrt_Feature_11    0.004561\n",
              "sqrt_Feature_8     0.004537\n",
              "Feature_11         0.004387\n",
              "Feature_8          0.004230\n",
              "log_Feature_9      0.004214\n",
              "log_Feature_11     0.003780\n",
              "sqrt_Feature_14    0.003659\n",
              "sqrt_Feature_1     0.003572\n",
              "sqrt_Feature_16    0.003121\n",
              "log_Feature_15     0.003080\n",
              "sqrt_Feature_17    0.002693\n",
              "Feature_15         0.002632\n",
              "Feature_3          0.002345\n",
              "log_Feature_4      0.002003\n",
              "Feature_21         0.001914\n",
              "sqrt_Feature_6     0.001625\n",
              "sqrt_Feature_20    0.001224\n",
              "log_Feature_7      0.000509\n",
              "sqrt_Feature_9     0.000447\n",
              "Feature_5          0.000150\n",
              "Feature_7          0.000000\n",
              "sqrt_Feature_5     0.000000\n",
              "Feature_10         0.000000\n",
              "log_Feature_6      0.000000\n",
              "sqrt_Feature_4     0.000000\n",
              "Name: MI Scores, dtype: float64"
            ]
          },
          "metadata": {
            "tags": []
          },
          "execution_count": 18
        }
      ]
    },
    {
      "cell_type": "code",
      "metadata": {
        "id": "gRzo4KHbdrI1"
      },
      "source": [
        "# df = train.copy(deep=True)"
      ],
      "execution_count": 30,
      "outputs": []
    },
    {
      "cell_type": "code",
      "metadata": {
        "id": "Ru3W9pVCdy-S",
        "outputId": "bbd543dc-d4a4-44f6-d5e7-a1195883a9a8",
        "colab": {
          "base_uri": "https://localhost:8080/"
        }
      },
      "source": [
        "sqrt_feature = [f for f in df.columns if \"sqrt\" in f]\n",
        "log_feature= [f for f in df.columns if \"log\" in f]\n",
        "sqrt_log_feature = sqrt_feature + log_feature\n",
        "sqrt_log_feature"
      ],
      "execution_count": 20,
      "outputs": [
        {
          "output_type": "execute_result",
          "data": {
            "text/plain": [
              "['sqrt_Feature_1',\n",
              " 'sqrt_Feature_2',\n",
              " 'sqrt_Feature_3',\n",
              " 'sqrt_Feature_4',\n",
              " 'sqrt_Feature_5',\n",
              " 'sqrt_Feature_6',\n",
              " 'sqrt_Feature_7',\n",
              " 'sqrt_Feature_8',\n",
              " 'sqrt_Feature_9',\n",
              " 'sqrt_Feature_10',\n",
              " 'sqrt_Feature_11',\n",
              " 'sqrt_Feature_12',\n",
              " 'sqrt_Feature_13',\n",
              " 'sqrt_Feature_14',\n",
              " 'sqrt_Feature_15',\n",
              " 'sqrt_Feature_16',\n",
              " 'sqrt_Feature_17',\n",
              " 'sqrt_Feature_19',\n",
              " 'sqrt_Feature_20',\n",
              " 'sqrt_Feature_21',\n",
              " 'log_Feature_1',\n",
              " 'log_Feature_2',\n",
              " 'log_Feature_3',\n",
              " 'log_Feature_4',\n",
              " 'log_Feature_5',\n",
              " 'log_Feature_6',\n",
              " 'log_Feature_7',\n",
              " 'log_Feature_8',\n",
              " 'log_Feature_9',\n",
              " 'log_Feature_10',\n",
              " 'log_Feature_11',\n",
              " 'log_Feature_12',\n",
              " 'log_Feature_13',\n",
              " 'log_Feature_14',\n",
              " 'log_Feature_15',\n",
              " 'log_Feature_16',\n",
              " 'log_Feature_17',\n",
              " 'log_Feature_19',\n",
              " 'log_Feature_20',\n",
              " 'log_Feature_21']"
            ]
          },
          "metadata": {
            "tags": []
          },
          "execution_count": 20
        }
      ]
    },
    {
      "cell_type": "code",
      "metadata": {
        "id": "6wktxpJKd7pj"
      },
      "source": [
        "# power_corr = []\n",
        "# df_s = pd.DataFrame()\n",
        "# for i in np.linspace(2, 20, 50):\n",
        "#     # print(i)\n",
        "#     for f in sqrt_log_feature:\n",
        "#         # print(f)\n",
        "#         df_s[f'power_{i}' +str(f)] = np.power(train[f], i)\n",
        "#     c_r = df_s.corrwith(target.target_r).abs()\n",
        "#     c_g = df_s.corrwith(target.target_g).abs()\n",
        "#     c_b = df_s.corrwith(target.target_b).abs()\n",
        "#     power_corr.append((c_r + c_g + c_b)/3)\n",
        "# pd.concat(power_corr).sort_values(ascending=False).drop_duplicates()"
      ],
      "execution_count": 28,
      "outputs": []
    },
    {
      "cell_type": "code",
      "metadata": {
        "id": "GzqSXvHGvZ8L"
      },
      "source": [
        "# from sklearn.preprocessing import PolynomialFeatures\n",
        "# def polynomial_features(df):\n",
        "\n",
        "#     poly = PolynomialFeatures(degree=3, interaction_only=True,include_bias=False)\n",
        "#     # sqrt_feature = [f for f in df.columns if \"sqrt\" in f]\n",
        "#     # log_feature= [f for f in df.columns if \"log\" in f]\n",
        "#     # sqrt_log_feature = sqrt_feature + log_feature\n",
        "#     emb = poly.fit_transform(df[num_features].values)\n",
        "#     poly_df = pd.DataFrame(emb, columns=[f'poly_{i}' for i in  range(emb.shape[1]) ])\n",
        "#     concat_df = pd.concat([df, poly_df], axis=1)\n",
        "#     return concat_df"
      ],
      "execution_count": 15,
      "outputs": []
    },
    {
      "cell_type": "code",
      "metadata": {
        "id": "cspCtbub7Fwe"
      },
      "source": [
        "# train_df = polynomial_features(train)\n",
        "# test_df = polynomial_features(test)"
      ],
      "execution_count": 16,
      "outputs": []
    },
    {
      "cell_type": "code",
      "metadata": {
        "id": "LMuR1C3q9fyb"
      },
      "source": [
        "corr_r = df.corrwith(target.target_r).abs()\n",
        "corr_g = df.corrwith(target.target_g).abs()\n",
        "corr_b = df.corrwith(target.target_b).abs()\n",
        "overall_corr = (corr_r + corr_g + corr_b)/3\n",
        "overall_corr.sort_values(ascending=False, inplace=True)\n",
        "# corr_feat = overall_corr[overall_corr > 0.135].index.tolist()"
      ],
      "execution_count": 31,
      "outputs": []
    },
    {
      "cell_type": "code",
      "metadata": {
        "id": "_otqE4cV7vL_",
        "outputId": "60d7f173-e429-4c5b-d51b-c6865ec542f1",
        "colab": {
          "base_uri": "https://localhost:8080/"
        }
      },
      "source": [
        "overall_corr.describe()"
      ],
      "execution_count": 32,
      "outputs": [
        {
          "output_type": "execute_result",
          "data": {
            "text/plain": [
              "count    60.000000\n",
              "mean      0.043562\n",
              "std       0.030442\n",
              "min       0.007174\n",
              "25%       0.020947\n",
              "50%       0.029502\n",
              "75%       0.063797\n",
              "max       0.106625\n",
              "dtype: float64"
            ]
          },
          "metadata": {
            "tags": []
          },
          "execution_count": 32
        }
      ]
    },
    {
      "cell_type": "code",
      "metadata": {
        "id": "p-kbXBUm6x4x"
      },
      "source": [
        "# corr_feat = overall_corr[overall_corr > 0.05].index.tolist()\n",
        "# len(corr_feat)"
      ],
      "execution_count": 20,
      "outputs": []
    },
    {
      "cell_type": "code",
      "metadata": {
        "id": "6fRyIym3mvng",
        "outputId": "98eadc5d-4648-4188-fa22-3debf00e1dcf",
        "colab": {
          "base_uri": "https://localhost:8080/"
        }
      },
      "source": [
        "!pip install optuna"
      ],
      "execution_count": 34,
      "outputs": [
        {
          "output_type": "stream",
          "text": [
            "Requirement already satisfied: optuna in /usr/local/lib/python3.7/dist-packages (2.7.0)\n",
            "Requirement already satisfied: alembic in /usr/local/lib/python3.7/dist-packages (from optuna) (1.6.3)\n",
            "Requirement already satisfied: cliff in /usr/local/lib/python3.7/dist-packages (from optuna) (3.7.0)\n",
            "Requirement already satisfied: packaging>=20.0 in /usr/local/lib/python3.7/dist-packages (from optuna) (20.9)\n",
            "Requirement already satisfied: tqdm in /usr/local/lib/python3.7/dist-packages (from optuna) (4.41.1)\n",
            "Requirement already satisfied: sqlalchemy>=1.1.0 in /usr/local/lib/python3.7/dist-packages (from optuna) (1.4.15)\n",
            "Requirement already satisfied: numpy in /usr/local/lib/python3.7/dist-packages (from optuna) (1.19.5)\n",
            "Requirement already satisfied: colorlog in /usr/local/lib/python3.7/dist-packages (from optuna) (5.0.1)\n",
            "Requirement already satisfied: cmaes>=0.8.2 in /usr/local/lib/python3.7/dist-packages (from optuna) (0.8.2)\n",
            "Requirement already satisfied: scipy!=1.4.0 in /usr/local/lib/python3.7/dist-packages (from optuna) (1.4.1)\n",
            "Requirement already satisfied: Mako in /usr/local/lib/python3.7/dist-packages (from alembic->optuna) (1.1.4)\n",
            "Requirement already satisfied: python-editor>=0.3 in /usr/local/lib/python3.7/dist-packages (from alembic->optuna) (1.0.4)\n",
            "Requirement already satisfied: python-dateutil in /usr/local/lib/python3.7/dist-packages (from alembic->optuna) (2.8.1)\n",
            "Requirement already satisfied: cmd2>=1.0.0 in /usr/local/lib/python3.7/dist-packages (from cliff->optuna) (1.5.0)\n",
            "Requirement already satisfied: pyparsing>=2.1.0 in /usr/local/lib/python3.7/dist-packages (from cliff->optuna) (2.4.7)\n",
            "Requirement already satisfied: stevedore>=2.0.1 in /usr/local/lib/python3.7/dist-packages (from cliff->optuna) (3.3.0)\n",
            "Requirement already satisfied: PrettyTable>=0.7.2 in /usr/local/lib/python3.7/dist-packages (from cliff->optuna) (2.1.0)\n",
            "Requirement already satisfied: pbr!=2.1.0,>=2.0.0 in /usr/local/lib/python3.7/dist-packages (from cliff->optuna) (5.6.0)\n",
            "Requirement already satisfied: PyYAML>=3.12 in /usr/local/lib/python3.7/dist-packages (from cliff->optuna) (3.13)\n",
            "Requirement already satisfied: greenlet!=0.4.17; python_version >= \"3\" in /usr/local/lib/python3.7/dist-packages (from sqlalchemy>=1.1.0->optuna) (1.1.0)\n",
            "Requirement already satisfied: importlib-metadata; python_version < \"3.8\" in /usr/local/lib/python3.7/dist-packages (from sqlalchemy>=1.1.0->optuna) (4.0.1)\n",
            "Requirement already satisfied: MarkupSafe>=0.9.2 in /usr/local/lib/python3.7/dist-packages (from Mako->alembic->optuna) (2.0.0)\n",
            "Requirement already satisfied: six>=1.5 in /usr/local/lib/python3.7/dist-packages (from python-dateutil->alembic->optuna) (1.15.0)\n",
            "Requirement already satisfied: colorama>=0.3.7 in /usr/local/lib/python3.7/dist-packages (from cmd2>=1.0.0->cliff->optuna) (0.4.4)\n",
            "Requirement already satisfied: wcwidth>=0.1.7 in /usr/local/lib/python3.7/dist-packages (from cmd2>=1.0.0->cliff->optuna) (0.2.5)\n",
            "Requirement already satisfied: attrs>=16.3.0 in /usr/local/lib/python3.7/dist-packages (from cmd2>=1.0.0->cliff->optuna) (21.2.0)\n",
            "Requirement already satisfied: pyperclip>=1.6 in /usr/local/lib/python3.7/dist-packages (from cmd2>=1.0.0->cliff->optuna) (1.8.2)\n",
            "Requirement already satisfied: zipp>=0.5 in /usr/local/lib/python3.7/dist-packages (from importlib-metadata; python_version < \"3.8\"->sqlalchemy>=1.1.0->optuna) (3.4.1)\n",
            "Requirement already satisfied: typing-extensions>=3.6.4; python_version < \"3.8\" in /usr/local/lib/python3.7/dist-packages (from importlib-metadata; python_version < \"3.8\"->sqlalchemy>=1.1.0->optuna) (3.7.4.3)\n"
          ],
          "name": "stdout"
        }
      ]
    },
    {
      "cell_type": "code",
      "metadata": {
        "id": "Hzvc1oVGmveW"
      },
      "source": [
        "def spearman_r(preds, dtrain):\n",
        "    labels = dtrain.get_label()\n",
        "    score = stats.spearmanr(labels, preds)[0]\n",
        "    return 'spearman_r', score, True\n",
        "def spearman_g(preds, dtrain):\n",
        "    labels = dtrain.get_label()\n",
        "    score = stats.spearmanr(labels, preds)[0]\n",
        "    return 'spearman_g', score, True\n",
        "def spearman_b(preds, dtrain):\n",
        "    labels = dtrain.get_label()\n",
        "    score = stats.spearmanr(labels, preds)[0]\n",
        "    return 'spearman_b', score, True"
      ],
      "execution_count": 35,
      "outputs": []
    },
    {
      "cell_type": "code",
      "metadata": {
        "id": "ZgZufase85gN"
      },
      "source": [
        "# train = train_df[corr_feat]\n",
        "# test = test_df[corr_feat]"
      ],
      "execution_count": 30,
      "outputs": []
    },
    {
      "cell_type": "code",
      "metadata": {
        "colab": {
          "base_uri": "https://localhost:8080/",
          "height": 321,
          "referenced_widgets": [
            "1e3108ec1b804ecba48dbd69f995bae6",
            "012700f6fc174426b940ad6651cc9122",
            "1a294444f67b4e2ea01a8e004aa601c0",
            "c52151bdbd6f43de98ac6cc765672404",
            "4348a197bd57460c860a5e74d9b71562",
            "66f39d233cc244df8be2dfd50cb2da61",
            "24089094f2294f65920108f34ec2832f",
            "c4551b392efe47fda3fa6906c3b1c1ed"
          ]
        },
        "id": "hKiWfnYq91z1",
        "outputId": "76799512-f0bd-4d63-a3e1-c9e10809df5d"
      },
      "source": [
        "%%time\n",
        "import optuna\n",
        "X =  df\n",
        "y = target\n",
        "\n",
        "N_TRIALS = 200\n",
        "def objective(trial):    \n",
        "    \n",
        "    params = {\n",
        "    'num_leaves': trial.suggest_int('num_leaves', 4, 64),\n",
        "    'boosting_type': 'gbdt',\n",
        "    'objective': 'regression',\n",
        "    'metric': 'custom',\n",
        "    'max_depth': trial.suggest_int('max_depth', 4, 16),\n",
        "    'min_child_weight': trial.suggest_int('min_child_weight', 1, 16),\n",
        "    'feature_fraction': trial.suggest_uniform('feature_fraction', 0.4, 1.0),\n",
        "    'bagging_fraction': trial.suggest_uniform('bagging_fraction', 0.4, 1.0),\n",
        "    'bagging_freq': trial.suggest_int('bagging_freq', 1, 8),\n",
        "    'min_child_samples': trial.suggest_int('min_child_samples', 4, 80),\n",
        "    'lambda_l1': trial.suggest_loguniform('lambda_l1', 1e-8, 1.0),\n",
        "    'lambda_l2': trial.suggest_loguniform('lambda_l2', 1e-8, 1.0),\n",
        "    'learning_rate' : trial.suggest_uniform('learning_rate', 0.0001, 0.99),\n",
        "    'max_bin': trial.suggest_int('max_bin', 50, 900),\n",
        "    'early_stopping_rounds': 100, \n",
        "    }\n",
        "\n",
        "\n",
        "    oof_pred_r = np.zeros(len(X))\n",
        "    oof_pred_g = np.zeros(len(X))\n",
        "    oof_pred_b = np.zeros(len(X))\n",
        "    kf = KFold(n_splits=3, random_state=60)\n",
        "    \n",
        "    cnt = 1\n",
        "    for tr_ind , val_ind in kf.split(X, y):\n",
        "        # print(f'Fold:{cnt}, Train set: {len(tr_ind)}, Test set:{len(val_ind)}') \n",
        "        \n",
        "        X_train, X_val = X.iloc[tr_ind], X.iloc[val_ind]\n",
        "        y_train, y_val = y.iloc[tr_ind], y.iloc[val_ind]\n",
        "\n",
        "        tr_data_r = lgb.Dataset(X_train, y_train.target_r)\n",
        "        va_data_r = lgb.Dataset(X_val, y_val.target_r)\n",
        "\n",
        "        tr_data_g = lgb.Dataset(X_train, y_train.target_g)\n",
        "        va_data_g = lgb.Dataset(X_val, y_val.target_g)\n",
        "\n",
        "        tr_data_b = lgb.Dataset(X_train, y_train.target_b)\n",
        "        va_data_b = lgb.Dataset(X_val, y_val.target_b)\n",
        "        \n",
        "        model_r = lgb.train(params, tr_data_r, valid_sets=[tr_data_r, va_data_r], verbose_eval=None, num_boost_round=5000, \n",
        "                            early_stopping_rounds=100, categorical_feature=cat_feature, feval=spearman_r)\n",
        "        # print(model_r)\n",
        "        model_g = lgb.train(params, tr_data_g, valid_sets=[tr_data_g, va_data_g], verbose_eval=None, num_boost_round=5000, \n",
        "                            early_stopping_rounds=100, categorical_feature=cat_feature, feval= spearman_g)\n",
        "        # print(model_g)\n",
        "        model_b = lgb.train(params, tr_data_b, valid_sets=[tr_data_b, va_data_b], verbose_eval=None, num_boost_round=5000, \n",
        "                            early_stopping_rounds=100, categorical_feature=cat_feature, feval=spearman_b)\n",
        "        # print(model_b)\n",
        "        # print(\" \")\n",
        "\n",
        "        val_pred_r = model_r.predict(X_val)\n",
        "        val_pred_g = model_g.predict(X_val)\n",
        "        val_pred_b = model_b.predict(X_val)\n",
        "\n",
        "        oof_pred_r[val_ind] = val_pred_r\n",
        "        oof_pred_g[val_ind] = val_pred_g\n",
        "        oof_pred_b[val_ind] = val_pred_b\n",
        "\n",
        "\n",
        "        cnt += 1\n",
        "    oof_pred_df = pd.concat([pd.DataFrame(oof_pred_r, columns=['target_r']),\n",
        "                        pd.DataFrame(oof_pred_g, columns=['target_g']),\n",
        "                        pd.DataFrame(oof_pred_b, columns=['target_b'])], axis=1)\n",
        "\n",
        "    # display(oof_pred_df)\n",
        "    score_r = stats.spearmanr(oof_pred_df.target_r, target.target_r)[0]\n",
        "    score_g = stats.spearmanr(oof_pred_df.target_g, target.target_g)[0]\n",
        "    score_b = stats.spearmanr(oof_pred_df.target_b, target.target_b)[0]\n",
        "\n",
        "    score = (score_r+score_g+score_b)/ 3\n",
        "    from google.colab import output\n",
        "    output.clear()\n",
        "    return score\n",
        "study = optuna.create_study(direction='maximize')\n",
        "study.optimize(objective, n_trials=N_TRIALS, show_progress_bar= True)\n",
        "display(study.best_params)\n",
        "display(study.best_trial.value)"
      ],
      "execution_count": 38,
      "outputs": [
        {
          "output_type": "stream",
          "text": [
            "\r\u001b[32m[I 2021-05-22 08:20:50,964]\u001b[0m Trial 199 finished with value: 0.08084509858060702 and parameters: {'num_leaves': 6, 'max_depth': 9, 'min_child_weight': 14, 'feature_fraction': 0.41309708157571956, 'bagging_fraction': 0.41104604135941647, 'bagging_freq': 1, 'min_child_samples': 79, 'lambda_l1': 5.413966461972347e-05, 'lambda_l2': 0.00013671829859636516, 'learning_rate': 0.80625157699583, 'max_bin': 687}. Best is trial 148 with value: 0.09108393629621109.\u001b[0m\n",
            "\n"
          ],
          "name": "stdout"
        },
        {
          "output_type": "display_data",
          "data": {
            "text/plain": [
              "{'bagging_fraction': 0.4272566287659833,\n",
              " 'bagging_freq': 1,\n",
              " 'feature_fraction': 0.4729223007771801,\n",
              " 'lambda_l1': 0.00015418519770650656,\n",
              " 'lambda_l2': 0.00042137100905065386,\n",
              " 'learning_rate': 0.8079518111090697,\n",
              " 'max_bin': 621,\n",
              " 'max_depth': 7,\n",
              " 'min_child_samples': 77,\n",
              " 'min_child_weight': 13,\n",
              " 'num_leaves': 4}"
            ]
          },
          "metadata": {
            "tags": []
          }
        },
        {
          "output_type": "display_data",
          "data": {
            "text/plain": [
              "0.09108393629621109"
            ]
          },
          "metadata": {
            "tags": []
          }
        },
        {
          "output_type": "stream",
          "text": [
            "CPU times: user 1h 12min 9s, sys: 20 s, total: 1h 12min 29s\n",
            "Wall time: 18min 35s\n"
          ],
          "name": "stdout"
        }
      ]
    },
    {
      "cell_type": "code",
      "metadata": {
        "colab": {
          "base_uri": "https://localhost:8080/"
        },
        "id": "-Jqjz50ZBUnT",
        "outputId": "d47ecf68-f0cd-4c9b-8bed-7e962a28adda"
      },
      "source": [
        "params = {\n",
        "    'boosting_type': 'gbdt',\n",
        "    'objective': 'regression',\n",
        "    'metric': 'custom',\n",
        "    \n",
        "    'bagging_fraction': 0.4272566287659833,\n",
        " 'bagging_freq': 1,\n",
        " 'feature_fraction': 0.4729223007771801,\n",
        " 'lambda_l1': 0.00015418519770650656,\n",
        " 'lambda_l2': 0.00042137100905065386,\n",
        " 'learning_rate': 0.8079518111090697,\n",
        " 'max_bin': 621,\n",
        " 'max_depth': 7,\n",
        " 'min_child_samples': 77,\n",
        " 'min_child_weight': 13,\n",
        " 'num_leaves': 4\n",
        " }\n",
        "\n",
        "X =  df\n",
        "y = target\n",
        "\n",
        "# test = test.drop(columns=['Moons', \"id\"])\n",
        "\n",
        "original_test_preds_r = np.zeros(len(test))\n",
        "original_test_preds_g = np.zeros(len(test))\n",
        "original_test_preds_b = np.zeros(len(test))\n",
        "\n",
        "\n",
        "kf = KFold(n_splits=3, random_state=60)\n",
        "\n",
        "cnt = 1\n",
        "for tr_ind , val_ind in kf.split(X, y):\n",
        "    # print(f'Fold:{cnt}, Train set: {len(tr_ind)}, Test set:{len(val_ind)}') \n",
        "    \n",
        "    X_train, X_val = X.iloc[tr_ind], X.iloc[val_ind]\n",
        "    y_train, y_val = y.iloc[tr_ind], y.iloc[val_ind]\n",
        "\n",
        "    tr_data_r = lgb.Dataset(X_train, y_train.target_r)\n",
        "    va_data_r = lgb.Dataset(X_val, y_val.target_r)\n",
        "\n",
        "    tr_data_g = lgb.Dataset(X_train, y_train.target_g)\n",
        "    va_data_g = lgb.Dataset(X_val, y_val.target_g)\n",
        "\n",
        "    tr_data_b = lgb.Dataset(X_train, y_train.target_b)\n",
        "    va_data_b = lgb.Dataset(X_val, y_val.target_b)\n",
        "    \n",
        "    model_r = lgb.train(params, tr_data_r, valid_sets=[tr_data_r, va_data_r], verbose_eval=100, num_boost_round=5000, \n",
        "                        early_stopping_rounds=100, categorical_feature=cat_feature, feval=spearman_r)\n",
        "    # print(model_r)\n",
        "    model_g = lgb.train(params, tr_data_g, valid_sets=[tr_data_g, va_data_g], verbose_eval=100, num_boost_round=5000, \n",
        "                        early_stopping_rounds=100, categorical_feature=cat_feature, feval= spearman_g)\n",
        "    # print(model_g)\n",
        "    model_b = lgb.train(params, tr_data_b, valid_sets=[tr_data_b, va_data_b], verbose_eval=100, num_boost_round=5000, \n",
        "                        early_stopping_rounds=100, categorical_feature=cat_feature, feval=spearman_b)\n",
        "\n",
        "\n",
        "    original_test_preds_r += model_r.predict(test)\n",
        "    original_test_preds_g += model_g.predict(test)\n",
        "    original_test_preds_b += model_b.predict(test)\n",
        "\n",
        "original_test_preds_r = original_test_preds_r / kf.n_splits\n",
        "original_test_preds_g = original_test_preds_g / kf.n_splits\n",
        "original_test_preds_b = original_test_preds_b / kf.n_splits"
      ],
      "execution_count": 56,
      "outputs": [
        {
          "output_type": "stream",
          "text": [
            "Training until validation scores don't improve for 100 rounds.\n",
            "[100]\ttraining's spearman_r: 0.270709\tvalid_1's spearman_r: 0.0178602\n",
            "Early stopping, best iteration is:\n",
            "[2]\ttraining's spearman_r: 0.120459\tvalid_1's spearman_r: 0.106338\n",
            "Training until validation scores don't improve for 100 rounds.\n",
            "[100]\ttraining's spearman_g: 0.308381\tvalid_1's spearman_g: 0.0824861\n",
            "Early stopping, best iteration is:\n",
            "[2]\ttraining's spearman_g: 0.17091\tvalid_1's spearman_g: 0.0991017\n",
            "Training until validation scores don't improve for 100 rounds.\n",
            "[100]\ttraining's spearman_b: 0.340879\tvalid_1's spearman_b: 0.0538973\n",
            "Early stopping, best iteration is:\n",
            "[2]\ttraining's spearman_b: 0.215879\tvalid_1's spearman_b: 0.0996485\n",
            "Training until validation scores don't improve for 100 rounds.\n",
            "[100]\ttraining's spearman_r: 0.331805\tvalid_1's spearman_r: -0.01871\n",
            "Early stopping, best iteration is:\n",
            "[69]\ttraining's spearman_r: 0.30721\tvalid_1's spearman_r: 0.00229663\n",
            "Training until validation scores don't improve for 100 rounds.\n",
            "[100]\ttraining's spearman_g: 0.323607\tvalid_1's spearman_g: 0.0321196\n",
            "Early stopping, best iteration is:\n",
            "[46]\ttraining's spearman_g: 0.266739\tvalid_1's spearman_g: 0.0852964\n",
            "Training until validation scores don't improve for 100 rounds.\n",
            "[100]\ttraining's spearman_b: 0.351442\tvalid_1's spearman_b: 0.0667345\n",
            "[200]\ttraining's spearman_b: 0.403093\tvalid_1's spearman_b: 0.0460607\n",
            "Early stopping, best iteration is:\n",
            "[162]\ttraining's spearman_b: 0.393355\tvalid_1's spearman_b: 0.0868517\n",
            "Training until validation scores don't improve for 100 rounds.\n",
            "[100]\ttraining's spearman_r: 0.283197\tvalid_1's spearman_r: -0.0436038\n",
            "Early stopping, best iteration is:\n",
            "[2]\ttraining's spearman_r: 0.0901935\tvalid_1's spearman_r: 0.112434\n",
            "Training until validation scores don't improve for 100 rounds.\n",
            "[100]\ttraining's spearman_g: 0.306634\tvalid_1's spearman_g: 0.0051858\n",
            "Early stopping, best iteration is:\n",
            "[4]\ttraining's spearman_g: 0.153381\tvalid_1's spearman_g: 0.118169\n",
            "Training until validation scores don't improve for 100 rounds.\n",
            "[100]\ttraining's spearman_b: 0.324656\tvalid_1's spearman_b: 0.0248916\n",
            "Early stopping, best iteration is:\n",
            "[8]\ttraining's spearman_b: 0.188283\tvalid_1's spearman_b: 0.200044\n"
          ],
          "name": "stdout"
        }
      ]
    },
    {
      "cell_type": "code",
      "metadata": {
        "id": "v5J83KXK89yR"
      },
      "source": [
        " prediction = pd.concat([pd.DataFrame(original_test_preds_r, columns=['target_r']),\n",
        "                    pd.DataFrame(original_test_preds_g, columns=['target_g']),\n",
        "                    pd.DataFrame(original_test_preds_b, columns=['target_b'])], axis=1)"
      ],
      "execution_count": 57,
      "outputs": []
    },
    {
      "cell_type": "code",
      "metadata": {
        "colab": {
          "base_uri": "https://localhost:8080/"
        },
        "id": "psiqCY2U_EPO",
        "outputId": "5f4a46f7-58ee-4313-ed24-9d7e15de14a1"
      },
      "source": [
        "# prediction[prediction['target_g'] > 1]\n",
        "for i in prediction.columns:\n",
        "    print(prediction[i].nunique())"
      ],
      "execution_count": 58,
      "outputs": [
        {
          "output_type": "stream",
          "text": [
            "4304\n",
            "4250\n",
            "4320\n"
          ],
          "name": "stdout"
        }
      ]
    },
    {
      "cell_type": "code",
      "metadata": {
        "colab": {
          "base_uri": "https://localhost:8080/"
        },
        "id": "idxRE8bN_QVD",
        "outputId": "e6c15b88-94d6-44e5-e5cc-f1843236ed72"
      },
      "source": [
        "prediction.target_r.value_counts().head(20)"
      ],
      "execution_count": 59,
      "outputs": [
        {
          "output_type": "execute_result",
          "data": {
            "text/plain": [
              "0.490320    23\n",
              "0.526203    10\n",
              "0.490540     5\n",
              "0.497704     5\n",
              "0.541298     4\n",
              "0.498512     4\n",
              "0.513246     4\n",
              "0.509537     4\n",
              "0.548794     4\n",
              "0.530698     3\n",
              "0.569024     3\n",
              "0.533075     3\n",
              "0.577572     3\n",
              "0.490009     3\n",
              "0.510197     3\n",
              "0.582534     3\n",
              "0.507641     3\n",
              "0.515856     3\n",
              "0.409024     3\n",
              "0.504877     3\n",
              "Name: target_r, dtype: int64"
            ]
          },
          "metadata": {
            "tags": []
          },
          "execution_count": 59
        }
      ]
    },
    {
      "cell_type": "code",
      "metadata": {
        "id": "yKWjmMXmCLl-"
      },
      "source": [
        "prediction[prediction['target_g'] > 1] = 1"
      ],
      "execution_count": null,
      "outputs": []
    },
    {
      "cell_type": "code",
      "metadata": {
        "id": "VVAWZxLnC01Z",
        "colab": {
          "base_uri": "https://localhost:8080/",
          "height": 47
        },
        "outputId": "fd7b6b38-cde3-4077-fea2-8ac6bf383e7f"
      },
      "source": [
        "prediction[prediction['target_b'] == 1] == prediction[prediction['target_r'] == 1]"
      ],
      "execution_count": 60,
      "outputs": [
        {
          "output_type": "execute_result",
          "data": {
            "text/html": [
              "<div>\n",
              "<style scoped>\n",
              "    .dataframe tbody tr th:only-of-type {\n",
              "        vertical-align: middle;\n",
              "    }\n",
              "\n",
              "    .dataframe tbody tr th {\n",
              "        vertical-align: top;\n",
              "    }\n",
              "\n",
              "    .dataframe thead th {\n",
              "        text-align: right;\n",
              "    }\n",
              "</style>\n",
              "<table border=\"1\" class=\"dataframe\">\n",
              "  <thead>\n",
              "    <tr style=\"text-align: right;\">\n",
              "      <th></th>\n",
              "      <th>target_r</th>\n",
              "      <th>target_g</th>\n",
              "      <th>target_b</th>\n",
              "    </tr>\n",
              "  </thead>\n",
              "  <tbody>\n",
              "  </tbody>\n",
              "</table>\n",
              "</div>"
            ],
            "text/plain": [
              "Empty DataFrame\n",
              "Columns: [target_r, target_g, target_b]\n",
              "Index: []"
            ]
          },
          "metadata": {
            "tags": []
          },
          "execution_count": 60
        }
      ]
    },
    {
      "cell_type": "code",
      "metadata": {
        "id": "9GZ22iabDIo4",
        "colab": {
          "base_uri": "https://localhost:8080/",
          "height": 47
        },
        "outputId": "dc33efc1-08b9-44f1-cb3b-85d956e46ba7"
      },
      "source": [
        "prediction[prediction['target_r'] == 1] == prediction[prediction['target_g'] == 1]"
      ],
      "execution_count": 61,
      "outputs": [
        {
          "output_type": "execute_result",
          "data": {
            "text/html": [
              "<div>\n",
              "<style scoped>\n",
              "    .dataframe tbody tr th:only-of-type {\n",
              "        vertical-align: middle;\n",
              "    }\n",
              "\n",
              "    .dataframe tbody tr th {\n",
              "        vertical-align: top;\n",
              "    }\n",
              "\n",
              "    .dataframe thead th {\n",
              "        text-align: right;\n",
              "    }\n",
              "</style>\n",
              "<table border=\"1\" class=\"dataframe\">\n",
              "  <thead>\n",
              "    <tr style=\"text-align: right;\">\n",
              "      <th></th>\n",
              "      <th>target_r</th>\n",
              "      <th>target_g</th>\n",
              "      <th>target_b</th>\n",
              "    </tr>\n",
              "  </thead>\n",
              "  <tbody>\n",
              "  </tbody>\n",
              "</table>\n",
              "</div>"
            ],
            "text/plain": [
              "Empty DataFrame\n",
              "Columns: [target_r, target_g, target_b]\n",
              "Index: []"
            ]
          },
          "metadata": {
            "tags": []
          },
          "execution_count": 61
        }
      ]
    },
    {
      "cell_type": "code",
      "metadata": {
        "colab": {
          "base_uri": "https://localhost:8080/",
          "height": 761
        },
        "id": "-T-iaKGJRxm1",
        "outputId": "bed2534f-7f02-4097-fe90-ff97671645d8"
      },
      "source": [
        "prediction['target_r'].plot(kind='hist')\n",
        "plt.show()\n",
        "prediction['target_g'].plot(kind='hist')\n",
        "plt.show()\n",
        "prediction['target_b'].plot(kind='hist')\n",
        "plt.show()"
      ],
      "execution_count": 62,
      "outputs": [
        {
          "output_type": "display_data",
          "data": {
            "image/png": "[encoded data removed]",
            "text/plain": [
              "<Figure size 432x288 with 1 Axes>"
            ]
          },
          "metadata": {
            "tags": [],
            "needs_background": "light"
          }
        },
        {
          "output_type": "display_data",
          "data": {
            "image/png": "[encoded data removed]",
            "text/plain": [
              "<Figure size 432x288 with 1 Axes>"
            ]
          },
          "metadata": {
            "tags": [],
            "needs_background": "light"
          }
        },
        {
          "output_type": "display_data",
          "data": {
            "image/png": "[encoded data removed]",
            "text/plain": [
              "<Figure size 432x288 with 1 Axes>"
            ]
          },
          "metadata": {
            "tags": [],
            "needs_background": "light"
          }
        }
      ]
    },
    {
      "cell_type": "code",
      "metadata": {
        "colab": {
          "base_uri": "https://localhost:8080/"
        },
        "id": "vIJInkGiR2yU",
        "outputId": "457b5732-fd75-4905-8df5-d215caefb910"
      },
      "source": [
        "API_KEY = \"0GIskIC9Rd1I8sMw6nStutbIbMx7AaZzAyNfuMOVAVWgJtNa1IVQHZAD3WPj\" # <- HERE\n",
        "\n",
        "r = requests.post(\"https://tournament.datacrunch.com/api/submission\",\n",
        "    files = {\n",
        "        \"file\": (\"x\", prediction.to_csv().encode('ascii'))\n",
        "    },\n",
        "    data = {\n",
        "        \"apiKey\": API_KEY\n",
        "    },\n",
        ")\n",
        "\n",
        "if r.status_code == 200:\n",
        "    print(\"Submission submitted :)\")\n",
        "elif r.status_code == 423:\n",
        "    print(\"ERR: Submissions are close\")\n",
        "    print(\"You can only submit during rounds eg: Friday 7pm GMT+1 to Sunday midnight GMT+1.\")\n",
        "    print(\"Or the server is currently crunching the submitted files, please wait some time before retrying.\")\n",
        "elif r.status_code == 422:\n",
        "    print(\"ERR: API Key is missing or empty\")\n",
        "    print(\"Did you forget to fill the API_KEY variable?\")\n",
        "elif r.status_code == 404:\n",
        "    print(\"ERR: Unknown API Key\")\n",
        "    print(\"You should check that the provided API key is valid and is the same as the one you've received by email.\")\n",
        "elif r.status_code == 400:\n",
        "    print(\"ERR: The file must not be empty\")\n",
        "    print(\"You have send a empty file.\")\n",
        "elif r.status_code == 401:\n",
        "    print(\"ERR: Your email hasn't been verified\")\n",
        "    print(\"Please verify your email or contact a cruncher.\")\n",
        "elif r.status_code == 429:\n",
        "    print(\"ERR: Too many submissions\")\n",
        "else:\n",
        "    print(\"ERR: Server returned: \" + str(r.status_code))\n",
        "    print(\"Ouch! It seems that we were not expecting this kind of result from the server, if the probleme persist, contact a cruncher.\")"
      ],
      "execution_count": 63,
      "outputs": [
        {
          "output_type": "stream",
          "text": [
            "Submission submitted :)\n"
          ],
          "name": "stdout"
        }
      ]
    },
    {
      "cell_type": "code",
      "metadata": {
        "id": "yTzOw8JKR7_W"
      },
      "source": [
        ""
      ],
      "execution_count": null,
      "outputs": []
    }
  ]
}