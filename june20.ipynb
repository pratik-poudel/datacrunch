{
  "nbformat": 4,
  "nbformat_minor": 0,
  "metadata": {
    "colab": {
      "name": "scratchpad",
      "provenance": [],
      "include_colab_link": true
    },
    "kernelspec": {
      "display_name": "Python 3",
      "name": "python3"
    },
    "widgets": {
      "application/vnd.jupyter.widget-state+json": {
        "e5792da18343439b86de57d9b9369fb3": {
          "model_module": "@jupyter-widgets/controls",
          "model_name": "HBoxModel",
          "state": {
            "_view_name": "HBoxView",
            "_dom_classes": [],
            "_model_name": "HBoxModel",
            "_view_module": "@jupyter-widgets/controls",
            "_model_module_version": "1.5.0",
            "_view_count": null,
            "_view_module_version": "1.5.0",
            "box_style": "",
            "layout": "IPY_MODEL_25fc148ed2004b4d99c8e32849047897",
            "_model_module": "@jupyter-widgets/controls",
            "children": [
              "IPY_MODEL_a8f6b5b5f2bd478cbb9d8689fb7bc937",
              "IPY_MODEL_4196bbd06c474918b239357bf28b71d3"
            ]
          }
        },
        "25fc148ed2004b4d99c8e32849047897": {
          "model_module": "@jupyter-widgets/base",
          "model_name": "LayoutModel",
          "state": {
            "_view_name": "LayoutView",
            "grid_template_rows": null,
            "right": null,
            "justify_content": null,
            "_view_module": "@jupyter-widgets/base",
            "overflow": null,
            "_model_module_version": "1.2.0",
            "_view_count": null,
            "flex_flow": null,
            "width": null,
            "min_width": null,
            "border": null,
            "align_items": null,
            "bottom": null,
            "_model_module": "@jupyter-widgets/base",
            "top": null,
            "grid_column": null,
            "overflow_y": null,
            "overflow_x": null,
            "grid_auto_flow": null,
            "grid_area": null,
            "grid_template_columns": null,
            "flex": null,
            "_model_name": "LayoutModel",
            "justify_items": null,
            "grid_row": null,
            "max_height": null,
            "align_content": null,
            "visibility": null,
            "align_self": null,
            "height": null,
            "min_height": null,
            "padding": null,
            "grid_auto_rows": null,
            "grid_gap": null,
            "max_width": null,
            "order": null,
            "_view_module_version": "1.2.0",
            "grid_template_areas": null,
            "object_position": null,
            "object_fit": null,
            "grid_auto_columns": null,
            "margin": null,
            "display": null,
            "left": null
          }
        },
        "a8f6b5b5f2bd478cbb9d8689fb7bc937": {
          "model_module": "@jupyter-widgets/controls",
          "model_name": "FloatProgressModel",
          "state": {
            "_view_name": "ProgressView",
            "style": "IPY_MODEL_b1165084d38649a2ae1b5a0cb4bd83a1",
            "_dom_classes": [],
            "description": "100%",
            "_model_name": "FloatProgressModel",
            "bar_style": "success",
            "max": 78,
            "_view_module": "@jupyter-widgets/controls",
            "_model_module_version": "1.5.0",
            "value": 78,
            "_view_count": null,
            "_view_module_version": "1.5.0",
            "orientation": "horizontal",
            "min": 0,
            "description_tooltip": null,
            "_model_module": "@jupyter-widgets/controls",
            "layout": "IPY_MODEL_ac4ef0f2c5a541a9826acf6387aa2400"
          }
        },
        "4196bbd06c474918b239357bf28b71d3": {
          "model_module": "@jupyter-widgets/controls",
          "model_name": "HTMLModel",
          "state": {
            "_view_name": "HTMLView",
            "style": "IPY_MODEL_3d0608fa5d5248c1a770eef1c18420a1",
            "_dom_classes": [],
            "description": "",
            "_model_name": "HTMLModel",
            "placeholder": "​",
            "_view_module": "@jupyter-widgets/controls",
            "_model_module_version": "1.5.0",
            "value": " 78/78 [10:40&lt;00:00,  8.21s/it]",
            "_view_count": null,
            "_view_module_version": "1.5.0",
            "description_tooltip": null,
            "_model_module": "@jupyter-widgets/controls",
            "layout": "IPY_MODEL_b97dbd68c7004495b6adf9f522a4ca42"
          }
        },
        "b1165084d38649a2ae1b5a0cb4bd83a1": {
          "model_module": "@jupyter-widgets/controls",
          "model_name": "ProgressStyleModel",
          "state": {
            "_view_name": "StyleView",
            "_model_name": "ProgressStyleModel",
            "description_width": "initial",
            "_view_module": "@jupyter-widgets/base",
            "_model_module_version": "1.5.0",
            "_view_count": null,
            "_view_module_version": "1.2.0",
            "bar_color": null,
            "_model_module": "@jupyter-widgets/controls"
          }
        },
        "ac4ef0f2c5a541a9826acf6387aa2400": {
          "model_module": "@jupyter-widgets/base",
          "model_name": "LayoutModel",
          "state": {
            "_view_name": "LayoutView",
            "grid_template_rows": null,
            "right": null,
            "justify_content": null,
            "_view_module": "@jupyter-widgets/base",
            "overflow": null,
            "_model_module_version": "1.2.0",
            "_view_count": null,
            "flex_flow": null,
            "width": null,
            "min_width": null,
            "border": null,
            "align_items": null,
            "bottom": null,
            "_model_module": "@jupyter-widgets/base",
            "top": null,
            "grid_column": null,
            "overflow_y": null,
            "overflow_x": null,
            "grid_auto_flow": null,
            "grid_area": null,
            "grid_template_columns": null,
            "flex": null,
            "_model_name": "LayoutModel",
            "justify_items": null,
            "grid_row": null,
            "max_height": null,
            "align_content": null,
            "visibility": null,
            "align_self": null,
            "height": null,
            "min_height": null,
            "padding": null,
            "grid_auto_rows": null,
            "grid_gap": null,
            "max_width": null,
            "order": null,
            "_view_module_version": "1.2.0",
            "grid_template_areas": null,
            "object_position": null,
            "object_fit": null,
            "grid_auto_columns": null,
            "margin": null,
            "display": null,
            "left": null
          }
        },
        "3d0608fa5d5248c1a770eef1c18420a1": {
          "model_module": "@jupyter-widgets/controls",
          "model_name": "DescriptionStyleModel",
          "state": {
            "_view_name": "StyleView",
            "_model_name": "DescriptionStyleModel",
            "description_width": "",
            "_view_module": "@jupyter-widgets/base",
            "_model_module_version": "1.5.0",
            "_view_count": null,
            "_view_module_version": "1.2.0",
            "_model_module": "@jupyter-widgets/controls"
          }
        },
        "b97dbd68c7004495b6adf9f522a4ca42": {
          "model_module": "@jupyter-widgets/base",
          "model_name": "LayoutModel",
          "state": {
            "_view_name": "LayoutView",
            "grid_template_rows": null,
            "right": null,
            "justify_content": null,
            "_view_module": "@jupyter-widgets/base",
            "overflow": null,
            "_model_module_version": "1.2.0",
            "_view_count": null,
            "flex_flow": null,
            "width": null,
            "min_width": null,
            "border": null,
            "align_items": null,
            "bottom": null,
            "_model_module": "@jupyter-widgets/base",
            "top": null,
            "grid_column": null,
            "overflow_y": null,
            "overflow_x": null,
            "grid_auto_flow": null,
            "grid_area": null,
            "grid_template_columns": null,
            "flex": null,
            "_model_name": "LayoutModel",
            "justify_items": null,
            "grid_row": null,
            "max_height": null,
            "align_content": null,
            "visibility": null,
            "align_self": null,
            "height": null,
            "min_height": null,
            "padding": null,
            "grid_auto_rows": null,
            "grid_gap": null,
            "max_width": null,
            "order": null,
            "_view_module_version": "1.2.0",
            "grid_template_areas": null,
            "object_position": null,
            "object_fit": null,
            "grid_auto_columns": null,
            "margin": null,
            "display": null,
            "left": null
          }
        },
        "6d1b64e5e6344641a60ab376a047e9f5": {
          "model_module": "@jupyter-widgets/controls",
          "model_name": "HBoxModel",
          "state": {
            "_view_name": "HBoxView",
            "_dom_classes": [],
            "_model_name": "HBoxModel",
            "_view_module": "@jupyter-widgets/controls",
            "_model_module_version": "1.5.0",
            "_view_count": null,
            "_view_module_version": "1.5.0",
            "box_style": "",
            "layout": "IPY_MODEL_911059204344455da8e2920636e0f8a7",
            "_model_module": "@jupyter-widgets/controls",
            "children": [
              "IPY_MODEL_c26482e1cc22433b9e42bdb1034e78f7",
              "IPY_MODEL_8c34d29c94414f548af1989c2b552ac2"
            ]
          }
        },
        "911059204344455da8e2920636e0f8a7": {
          "model_module": "@jupyter-widgets/base",
          "model_name": "LayoutModel",
          "state": {
            "_view_name": "LayoutView",
            "grid_template_rows": null,
            "right": null,
            "justify_content": null,
            "_view_module": "@jupyter-widgets/base",
            "overflow": null,
            "_model_module_version": "1.2.0",
            "_view_count": null,
            "flex_flow": null,
            "width": null,
            "min_width": null,
            "border": null,
            "align_items": null,
            "bottom": null,
            "_model_module": "@jupyter-widgets/base",
            "top": null,
            "grid_column": null,
            "overflow_y": null,
            "overflow_x": null,
            "grid_auto_flow": null,
            "grid_area": null,
            "grid_template_columns": null,
            "flex": null,
            "_model_name": "LayoutModel",
            "justify_items": null,
            "grid_row": null,
            "max_height": null,
            "align_content": null,
            "visibility": null,
            "align_self": null,
            "height": null,
            "min_height": null,
            "padding": null,
            "grid_auto_rows": null,
            "grid_gap": null,
            "max_width": null,
            "order": null,
            "_view_module_version": "1.2.0",
            "grid_template_areas": null,
            "object_position": null,
            "object_fit": null,
            "grid_auto_columns": null,
            "margin": null,
            "display": null,
            "left": null
          }
        },
        "c26482e1cc22433b9e42bdb1034e78f7": {
          "model_module": "@jupyter-widgets/controls",
          "model_name": "FloatProgressModel",
          "state": {
            "_view_name": "ProgressView",
            "style": "IPY_MODEL_1171dded6bd84fb68d4ad367f71aece2",
            "_dom_classes": [],
            "description": "100%",
            "_model_name": "FloatProgressModel",
            "bar_style": "success",
            "max": 286,
            "_view_module": "@jupyter-widgets/controls",
            "_model_module_version": "1.5.0",
            "value": 286,
            "_view_count": null,
            "_view_module_version": "1.5.0",
            "orientation": "horizontal",
            "min": 0,
            "description_tooltip": null,
            "_model_module": "@jupyter-widgets/controls",
            "layout": "IPY_MODEL_4a5d48a3f71c4920a2967fbf6e0e6376"
          }
        },
        "8c34d29c94414f548af1989c2b552ac2": {
          "model_module": "@jupyter-widgets/controls",
          "model_name": "HTMLModel",
          "state": {
            "_view_name": "HTMLView",
            "style": "IPY_MODEL_3e37a57deade4e808d0f832823b29c02",
            "_dom_classes": [],
            "description": "",
            "_model_name": "HTMLModel",
            "placeholder": "​",
            "_view_module": "@jupyter-widgets/controls",
            "_model_module_version": "1.5.0",
            "value": " 286/286 [10:00&lt;00:00,  2.10s/it]",
            "_view_count": null,
            "_view_module_version": "1.5.0",
            "description_tooltip": null,
            "_model_module": "@jupyter-widgets/controls",
            "layout": "IPY_MODEL_b412fb6f27ee43aeb5ffb51bb4572382"
          }
        },
        "1171dded6bd84fb68d4ad367f71aece2": {
          "model_module": "@jupyter-widgets/controls",
          "model_name": "ProgressStyleModel",
          "state": {
            "_view_name": "StyleView",
            "_model_name": "ProgressStyleModel",
            "description_width": "initial",
            "_view_module": "@jupyter-widgets/base",
            "_model_module_version": "1.5.0",
            "_view_count": null,
            "_view_module_version": "1.2.0",
            "bar_color": null,
            "_model_module": "@jupyter-widgets/controls"
          }
        },
        "4a5d48a3f71c4920a2967fbf6e0e6376": {
          "model_module": "@jupyter-widgets/base",
          "model_name": "LayoutModel",
          "state": {
            "_view_name": "LayoutView",
            "grid_template_rows": null,
            "right": null,
            "justify_content": null,
            "_view_module": "@jupyter-widgets/base",
            "overflow": null,
            "_model_module_version": "1.2.0",
            "_view_count": null,
            "flex_flow": null,
            "width": null,
            "min_width": null,
            "border": null,
            "align_items": null,
            "bottom": null,
            "_model_module": "@jupyter-widgets/base",
            "top": null,
            "grid_column": null,
            "overflow_y": null,
            "overflow_x": null,
            "grid_auto_flow": null,
            "grid_area": null,
            "grid_template_columns": null,
            "flex": null,
            "_model_name": "LayoutModel",
            "justify_items": null,
            "grid_row": null,
            "max_height": null,
            "align_content": null,
            "visibility": null,
            "align_self": null,
            "height": null,
            "min_height": null,
            "padding": null,
            "grid_auto_rows": null,
            "grid_gap": null,
            "max_width": null,
            "order": null,
            "_view_module_version": "1.2.0",
            "grid_template_areas": null,
            "object_position": null,
            "object_fit": null,
            "grid_auto_columns": null,
            "margin": null,
            "display": null,
            "left": null
          }
        },
        "3e37a57deade4e808d0f832823b29c02": {
          "model_module": "@jupyter-widgets/controls",
          "model_name": "DescriptionStyleModel",
          "state": {
            "_view_name": "StyleView",
            "_model_name": "DescriptionStyleModel",
            "description_width": "",
            "_view_module": "@jupyter-widgets/base",
            "_model_module_version": "1.5.0",
            "_view_count": null,
            "_view_module_version": "1.2.0",
            "_model_module": "@jupyter-widgets/controls"
          }
        },
        "b412fb6f27ee43aeb5ffb51bb4572382": {
          "model_module": "@jupyter-widgets/base",
          "model_name": "LayoutModel",
          "state": {
            "_view_name": "LayoutView",
            "grid_template_rows": null,
            "right": null,
            "justify_content": null,
            "_view_module": "@jupyter-widgets/base",
            "overflow": null,
            "_model_module_version": "1.2.0",
            "_view_count": null,
            "flex_flow": null,
            "width": null,
            "min_width": null,
            "border": null,
            "align_items": null,
            "bottom": null,
            "_model_module": "@jupyter-widgets/base",
            "top": null,
            "grid_column": null,
            "overflow_y": null,
            "overflow_x": null,
            "grid_auto_flow": null,
            "grid_area": null,
            "grid_template_columns": null,
            "flex": null,
            "_model_name": "LayoutModel",
            "justify_items": null,
            "grid_row": null,
            "max_height": null,
            "align_content": null,
            "visibility": null,
            "align_self": null,
            "height": null,
            "min_height": null,
            "padding": null,
            "grid_auto_rows": null,
            "grid_gap": null,
            "max_width": null,
            "order": null,
            "_view_module_version": "1.2.0",
            "grid_template_areas": null,
            "object_position": null,
            "object_fit": null,
            "grid_auto_columns": null,
            "margin": null,
            "display": null,
            "left": null
          }
        },
        "79123cd1e05447579e559497b34ea156": {
          "model_module": "@jupyter-widgets/controls",
          "model_name": "HBoxModel",
          "state": {
            "_view_name": "HBoxView",
            "_dom_classes": [],
            "_model_name": "HBoxModel",
            "_view_module": "@jupyter-widgets/controls",
            "_model_module_version": "1.5.0",
            "_view_count": null,
            "_view_module_version": "1.5.0",
            "box_style": "",
            "layout": "IPY_MODEL_69fa3d5c3d904b07801dead21ae61227",
            "_model_module": "@jupyter-widgets/controls",
            "children": [
              "IPY_MODEL_56a6cddec9664d88b365bdf5f03c3f59",
              "IPY_MODEL_d25b9e263c1d43b2b8256834a1df478c"
            ]
          }
        },
        "69fa3d5c3d904b07801dead21ae61227": {
          "model_module": "@jupyter-widgets/base",
          "model_name": "LayoutModel",
          "state": {
            "_view_name": "LayoutView",
            "grid_template_rows": null,
            "right": null,
            "justify_content": null,
            "_view_module": "@jupyter-widgets/base",
            "overflow": null,
            "_model_module_version": "1.2.0",
            "_view_count": null,
            "flex_flow": null,
            "width": null,
            "min_width": null,
            "border": null,
            "align_items": null,
            "bottom": null,
            "_model_module": "@jupyter-widgets/base",
            "top": null,
            "grid_column": null,
            "overflow_y": null,
            "overflow_x": null,
            "grid_auto_flow": null,
            "grid_area": null,
            "grid_template_columns": null,
            "flex": null,
            "_model_name": "LayoutModel",
            "justify_items": null,
            "grid_row": null,
            "max_height": null,
            "align_content": null,
            "visibility": null,
            "align_self": null,
            "height": null,
            "min_height": null,
            "padding": null,
            "grid_auto_rows": null,
            "grid_gap": null,
            "max_width": null,
            "order": null,
            "_view_module_version": "1.2.0",
            "grid_template_areas": null,
            "object_position": null,
            "object_fit": null,
            "grid_auto_columns": null,
            "margin": null,
            "display": null,
            "left": null
          }
        },
        "56a6cddec9664d88b365bdf5f03c3f59": {
          "model_module": "@jupyter-widgets/controls",
          "model_name": "FloatProgressModel",
          "state": {
            "_view_name": "ProgressView",
            "style": "IPY_MODEL_05ca0abfb3c54f13b2f461ee0b8f9555",
            "_dom_classes": [],
            "description": "100%",
            "_model_name": "FloatProgressModel",
            "bar_style": "success",
            "max": 715,
            "_view_module": "@jupyter-widgets/controls",
            "_model_module_version": "1.5.0",
            "value": 715,
            "_view_count": null,
            "_view_module_version": "1.5.0",
            "orientation": "horizontal",
            "min": 0,
            "description_tooltip": null,
            "_model_module": "@jupyter-widgets/controls",
            "layout": "IPY_MODEL_84a096e0af4c40bbbbea2b1c132a38f0"
          }
        },
        "d25b9e263c1d43b2b8256834a1df478c": {
          "model_module": "@jupyter-widgets/controls",
          "model_name": "HTMLModel",
          "state": {
            "_view_name": "HTMLView",
            "style": "IPY_MODEL_062572d59e2543a4bea392704ff22ed8",
            "_dom_classes": [],
            "description": "",
            "_model_name": "HTMLModel",
            "placeholder": "​",
            "_view_module": "@jupyter-widgets/controls",
            "_model_module_version": "1.5.0",
            "value": " 715/715 [07:17&lt;00:00,  1.63it/s]",
            "_view_count": null,
            "_view_module_version": "1.5.0",
            "description_tooltip": null,
            "_model_module": "@jupyter-widgets/controls",
            "layout": "IPY_MODEL_b4346b38d1284b508551099f6023c701"
          }
        },
        "05ca0abfb3c54f13b2f461ee0b8f9555": {
          "model_module": "@jupyter-widgets/controls",
          "model_name": "ProgressStyleModel",
          "state": {
            "_view_name": "StyleView",
            "_model_name": "ProgressStyleModel",
            "description_width": "initial",
            "_view_module": "@jupyter-widgets/base",
            "_model_module_version": "1.5.0",
            "_view_count": null,
            "_view_module_version": "1.2.0",
            "bar_color": null,
            "_model_module": "@jupyter-widgets/controls"
          }
        },
        "84a096e0af4c40bbbbea2b1c132a38f0": {
          "model_module": "@jupyter-widgets/base",
          "model_name": "LayoutModel",
          "state": {
            "_view_name": "LayoutView",
            "grid_template_rows": null,
            "right": null,
            "justify_content": null,
            "_view_module": "@jupyter-widgets/base",
            "overflow": null,
            "_model_module_version": "1.2.0",
            "_view_count": null,
            "flex_flow": null,
            "width": null,
            "min_width": null,
            "border": null,
            "align_items": null,
            "bottom": null,
            "_model_module": "@jupyter-widgets/base",
            "top": null,
            "grid_column": null,
            "overflow_y": null,
            "overflow_x": null,
            "grid_auto_flow": null,
            "grid_area": null,
            "grid_template_columns": null,
            "flex": null,
            "_model_name": "LayoutModel",
            "justify_items": null,
            "grid_row": null,
            "max_height": null,
            "align_content": null,
            "visibility": null,
            "align_self": null,
            "height": null,
            "min_height": null,
            "padding": null,
            "grid_auto_rows": null,
            "grid_gap": null,
            "max_width": null,
            "order": null,
            "_view_module_version": "1.2.0",
            "grid_template_areas": null,
            "object_position": null,
            "object_fit": null,
            "grid_auto_columns": null,
            "margin": null,
            "display": null,
            "left": null
          }
        },
        "062572d59e2543a4bea392704ff22ed8": {
          "model_module": "@jupyter-widgets/controls",
          "model_name": "DescriptionStyleModel",
          "state": {
            "_view_name": "StyleView",
            "_model_name": "DescriptionStyleModel",
            "description_width": "",
            "_view_module": "@jupyter-widgets/base",
            "_model_module_version": "1.5.0",
            "_view_count": null,
            "_view_module_version": "1.2.0",
            "_model_module": "@jupyter-widgets/controls"
          }
        },
        "b4346b38d1284b508551099f6023c701": {
          "model_module": "@jupyter-widgets/base",
          "model_name": "LayoutModel",
          "state": {
            "_view_name": "LayoutView",
            "grid_template_rows": null,
            "right": null,
            "justify_content": null,
            "_view_module": "@jupyter-widgets/base",
            "overflow": null,
            "_model_module_version": "1.2.0",
            "_view_count": null,
            "flex_flow": null,
            "width": null,
            "min_width": null,
            "border": null,
            "align_items": null,
            "bottom": null,
            "_model_module": "@jupyter-widgets/base",
            "top": null,
            "grid_column": null,
            "overflow_y": null,
            "overflow_x": null,
            "grid_auto_flow": null,
            "grid_area": null,
            "grid_template_columns": null,
            "flex": null,
            "_model_name": "LayoutModel",
            "justify_items": null,
            "grid_row": null,
            "max_height": null,
            "align_content": null,
            "visibility": null,
            "align_self": null,
            "height": null,
            "min_height": null,
            "padding": null,
            "grid_auto_rows": null,
            "grid_gap": null,
            "max_width": null,
            "order": null,
            "_view_module_version": "1.2.0",
            "grid_template_areas": null,
            "object_position": null,
            "object_fit": null,
            "grid_auto_columns": null,
            "margin": null,
            "display": null,
            "left": null
          }
        }
      }
    }
  },
  "cells": [
    {
      "cell_type": "markdown",
      "metadata": {
        "id": "view-in-github",
        "colab_type": "text"
      },
      "source": [
        "<a href=\"https://colab.research.google.com/github/pratik-poudel/datacrunch/blob/main/june20.ipynb\" target=\"_parent\"><img src=\"https://colab.research.google.com/assets/colab-badge.svg\" alt=\"Open In Colab\"/></a>"
      ]
    },
    {
      "cell_type": "code",
      "metadata": {
        "id": "lIYdn1woOS1n"
      },
      "source": [
        "import numpy as np\n",
        "import pandas as pd\n",
        "from collections import defaultdict\n",
        "from tqdm.notebook import tqdm\n",
        "from matplotlib import pyplot as plt\n",
        "import warnings\n",
        "warnings.filterwarnings('ignore')\n",
        "import seaborn as sns\n",
        "import gc\n",
        "# pd.options.display.float_format| = \"{:.2f}\".format\n",
        "pd.options.display.max_columns = 500\n",
        "\n",
        "import requests\n",
        "from scipy import stats\n",
        "\n",
        "import lightgbm as lgb\n",
        "\n",
        "# from tensorflow.keras.callbacks import EarlyStopping, ModelCheckpoint\n",
        "\n",
        "import sklearn\n",
        "from sklearn import *\n",
        "from sklearn.experimental import enable_hist_gradient_boosting\n",
        "# from sklearn.utils.testing import all_estimators\n",
        "from sklearn.base import RegressorMixin\n",
        "from sklearn.metrics import accuracy_score \n",
        "from sklearn.metrics import classification_report \n",
        "from sklearn.metrics import make_scorer\n",
        "from sklearn.model_selection import RepeatedKFold, cross_val_score, KFold, GroupKFold\n",
        "from sklearn.multioutput import RegressorChain\n",
        "\n",
        "\n",
        "import requests\n",
        "import time\n",
        "from scipy import stats\n",
        "\n",
        "import lightgbm as lgb\n",
        "# import xgboost as xgb\n",
        "\n",
        "import matplotlib.pyplot as plt\n",
        "import matplotlib.style as style\n",
        "import seaborn as sns\n",
        "from matplotlib import pyplot\n",
        "from matplotlib.ticker import ScalarFormatter\n",
        "sns.set_context(\"talk\")\n",
        "style.use('seaborn-colorblind')\n",
        "\n",
        "\n",
        "from itertools import combinations, permutations, combinations_with_replacement\n"
      ],
      "execution_count": 59,
      "outputs": []
    },
    {
      "cell_type": "code",
      "metadata": {
        "id": "KRtMekH9ahPF"
      },
      "source": [
        "train_datalink_X = 'https://tournament.datacrunch.com/data/X_train.csv'  \n",
        "train_datalink_y = 'https://tournament.datacrunch.com/data/y_train.csv'\n",
        "hackathon_data_link = 'https://tournament.datacrunch.com/data/X_test.csv'\n",
        "\n",
        "train = pd.read_csv(train_datalink_X) # X\n",
        "target = pd.read_csv(train_datalink_y) # y\n",
        "test = pd.read_csv(hackathon_data_link)\n",
        "\n",
        "train.columns = train.columns.str.lower()\n",
        "target.columns = target.columns.str.lower()\n",
        "test.columns = test.columns.str.lower()\n",
        "\n",
        "train.drop(columns=['id'], inplace=True)\n",
        "test.drop(columns=['id'], inplace=True)"
      ],
      "execution_count": 36,
      "outputs": []
    },
    {
      "cell_type": "code",
      "metadata": {
        "id": "tBem1pwUajTs",
        "outputId": "6f2b705d-25ed-435d-d1a1-ec7f13cdc503",
        "colab": {
          "base_uri": "https://localhost:8080/"
        }
      },
      "source": [
        "train.shape, test.shape"
      ],
      "execution_count": 42,
      "outputs": [
        {
          "output_type": "execute_result",
          "data": {
            "text/plain": [
              "((624650, 50), (3746, 50))"
            ]
          },
          "metadata": {
            "tags": []
          },
          "execution_count": 42
        }
      ]
    },
    {
      "cell_type": "code",
      "metadata": {
        "id": "lAct3CNKbtyf"
      },
      "source": [
        "train_all = pd.concat([train, target], axis=1)"
      ],
      "execution_count": 43,
      "outputs": []
    },
    {
      "cell_type": "code",
      "metadata": {
        "id": "lO5yXVuFa50H"
      },
      "source": [
        "moons = [557, 558]\n",
        "test = train_all[train_all.moons.isin(moons)]"
      ],
      "execution_count": 45,
      "outputs": []
    },
    {
      "cell_type": "code",
      "metadata": {
        "id": "D96tmmxNc9St"
      },
      "source": [
        "test_target = test[['target_r', 'target_g', 'target_b']]\n",
        "test = test.drop(columns = ['target_r', 'target_g', 'target_b'] )"
      ],
      "execution_count": 47,
      "outputs": []
    },
    {
      "cell_type": "code",
      "metadata": {
        "id": "si3Iuci-a9St"
      },
      "source": [
        "train_all.drop(test.index, inplace=True)"
      ],
      "execution_count": 50,
      "outputs": []
    },
    {
      "cell_type": "code",
      "metadata": {
        "id": "jzMx_4t7cheH"
      },
      "source": [
        "train = train_all.drop(columns = ['target_r', 'target_g', 'target_b'] )\n",
        "target = train_all[['target_r', 'target_g', 'target_b']]"
      ],
      "execution_count": 51,
      "outputs": []
    },
    {
      "cell_type": "code",
      "metadata": {
        "id": "lnQi5VDsbVnt"
      },
      "source": [
        "r = train.corrwith(target.target_r, method='spearman')\n",
        "g = train.corrwith(target.target_g, method='spearman')\n",
        "b = train.corrwith(target.target_b, method='spearman')"
      ],
      "execution_count": 54,
      "outputs": []
    },
    {
      "cell_type": "code",
      "metadata": {
        "id": "EUPzClL5bn1G",
        "outputId": "2d378708-3cee-4e25-deb7-1368257652b7",
        "colab": {
          "base_uri": "https://localhost:8080/"
        }
      },
      "source": [
        "r.sort_values()"
      ],
      "execution_count": 56,
      "outputs": [
        {
          "output_type": "execute_result",
          "data": {
            "text/plain": [
              "feature_32   -0.023660\n",
              "feature_30   -0.023222\n",
              "feature_31   -0.022422\n",
              "feature_29   -0.022245\n",
              "feature_34   -0.021979\n",
              "feature_33   -0.021973\n",
              "feature_35   -0.021797\n",
              "feature_14   -0.020754\n",
              "feature_13   -0.020295\n",
              "feature_17   -0.019603\n",
              "feature_18   -0.018544\n",
              "feature_20   -0.017796\n",
              "feature_15   -0.017727\n",
              "feature_11   -0.017515\n",
              "feature_8    -0.017375\n",
              "feature_10   -0.017126\n",
              "feature_21   -0.016747\n",
              "feature_19   -0.016445\n",
              "feature_12   -0.016340\n",
              "feature_9    -0.015862\n",
              "feature_1    -0.015097\n",
              "feature_16   -0.014959\n",
              "feature_36   -0.014229\n",
              "feature_37   -0.012348\n",
              "feature_38   -0.011707\n",
              "feature_39   -0.011148\n",
              "feature_40   -0.010997\n",
              "feature_22   -0.010861\n",
              "feature_41   -0.010825\n",
              "feature_42   -0.010689\n",
              "feature_2    -0.010390\n",
              "feature_43   -0.010322\n",
              "feature_44   -0.007763\n",
              "feature_23   -0.007716\n",
              "feature_3    -0.007307\n",
              "feature_24   -0.006233\n",
              "feature_45   -0.006015\n",
              "feature_4    -0.005425\n",
              "feature_46   -0.005349\n",
              "feature_5    -0.003636\n",
              "feature_47   -0.003299\n",
              "feature_25   -0.002683\n",
              "feature_48   -0.001835\n",
              "feature_49   -0.001119\n",
              "feature_6    -0.000691\n",
              "feature_26   -0.000394\n",
              "feature_7    -0.000181\n",
              "moons         0.000017\n",
              "feature_28    0.001237\n",
              "feature_27    0.001363\n",
              "dtype: float64"
            ]
          },
          "metadata": {
            "tags": []
          },
          "execution_count": 56
        }
      ]
    },
    {
      "cell_type": "code",
      "metadata": {
        "id": "V3KYk0Hxd26p"
      },
      "source": [
        "def calculate_combination_corr(train_dataset, train_target, combination):\n",
        "\n",
        "    features = [f for f in train_dataset.columns if 'feature' in f]\n",
        "    X = train_dataset[features].copy()\n",
        "    y = train_target.copy()\n",
        "    \n",
        "    comb= []\n",
        "    for i in combinations(X.columns, combination):\n",
        "        comb.append(i)\n",
        "    score_r = []\n",
        "    score_g = []\n",
        "    score_b = []\n",
        "    \n",
        "    for i in tqdm(comb):\n",
        "        tr = X[list(i)].values\n",
        "        cir_mean = stats.circmean(tr, axis=1)\n",
        "        spearman_r  = stats.spearmanr(cir_mean, y.target_r.values)[0]\n",
        "        spearman_g  = stats.spearmanr(cir_mean, y.target_g.values)[0]\n",
        "        spearman_b  = stats.spearmanr(cir_mean, y.target_b.values)[0]\n",
        "    \n",
        "        score_r.append(spearman_r)\n",
        "        score_g.append(spearman_g)\n",
        "        score_b.append(spearman_b)\n",
        "\n",
        "    return pd.DataFrame(zip(comb, score_r, score_g, score_b), columns=['feature', 'score_r', 'score_g', 'score_b'])"
      ],
      "execution_count": 57,
      "outputs": []
    },
    {
      "cell_type": "code",
      "metadata": {
        "id": "c5SmUKqFd237"
      },
      "source": [
        ""
      ],
      "execution_count": null,
      "outputs": []
    },
    {
      "cell_type": "code",
      "metadata": {
        "id": "o3HMKDD4d20-"
      },
      "source": [
        "def run_lgb(train_dataset, target, best_fold, actual_test):\n",
        "    num_boost_round= 1000\n",
        "    params = {\n",
        "        'boosting_type': 'gbdt',\n",
        "        'objective': 'regression',\n",
        "        'metric': 'rmse',\n",
        "        'random_state':60,\n",
        "    }\n",
        "    X =  train_dataset.copy()\n",
        "    y = target[['target_r', 'target_g', 'target_b']]\n",
        "\n",
        "    oof_pred_r = np.zeros(len(X))\n",
        "    oof_pred_g = np.zeros(len(X))\n",
        "    oof_pred_b = np.zeros(len(X))\n",
        "\n",
        "    original_test_preds_r = np.zeros(len(test))\n",
        "    original_test_preds_g = np.zeros(len(test))\n",
        "    original_test_preds_b = np.zeros(len(test))\n",
        "\n",
        "    kf = GroupKFold(n_splits=best_fold)\n",
        "\n",
        "    features = [f for f in X.columns if 'feature' in f]\n",
        "    cnt = 1\n",
        "    for tr_ind , val_ind in kf.split(X, y, \n",
        "                                    X['moons']\n",
        "                                    ):\n",
        "        print(f'Fold:{cnt}, Train set: {len(tr_ind)}, Test set:{len(val_ind)}') \n",
        "        X= X[features]\n",
        "        X_train, X_val = X.iloc[tr_ind], X.iloc[val_ind]\n",
        "        y_train, y_val = y.iloc[tr_ind], y.iloc[val_ind]\n",
        "      \n",
        "        # print(X_train.shape)\n",
        "        tr_data_r = lgb.Dataset(X_train, y_train.target_r)\n",
        "        va_data_r = lgb.Dataset(X_val, y_val.target_r)\n",
        "\n",
        "        tr_data_g = lgb.Dataset(X_train, y_train.target_g)\n",
        "        va_data_g = lgb.Dataset(X_val, y_val.target_g)\n",
        "\n",
        "        tr_data_b = lgb.Dataset(X_train, y_train.target_b)\n",
        "        va_data_b = lgb.Dataset(X_val, y_val.target_b)\n",
        "        \n",
        "        evals_result = {}\n",
        "\n",
        "        print(\"\\nMODEL R *********************************************************************************************\")\n",
        "        model_r = lgb.train(params, tr_data_r, \n",
        "                            valid_sets=[tr_data_r, va_data_r], \n",
        "                            verbose_eval=50, \n",
        "                            num_boost_round=num_boost_round, \n",
        "                            early_stopping_rounds=50,\n",
        "                            # feval=spearman_r, \n",
        "                            evals_result=evals_result)\n",
        "        print(\"\\nMODEL G *********************************************************************************************\")\n",
        "\n",
        "        model_g = lgb.train(params, tr_data_g, \n",
        "                            valid_sets=[tr_data_g, va_data_g], \n",
        "                            verbose_eval=50, \n",
        "                            num_boost_round=num_boost_round, \n",
        "                            early_stopping_rounds=50,\n",
        "                            # feval = spearman_g, \n",
        "                            evals_result=evals_result)\n",
        "        \n",
        "        print(\"\\nMODEL B *********************************************************************************************\")\n",
        "        model_b = lgb.train(params, tr_data_b, \n",
        "                            valid_sets=[tr_data_b, va_data_b], \n",
        "                            verbose_eval=50, \n",
        "                            num_boost_round=num_boost_round, \n",
        "                            early_stopping_rounds=50, \n",
        "                            # feval = spearman_b, \n",
        "                            evals_result=evals_result)\n",
        "\n",
        "        val_pred_r = model_r.predict(X_val, num_iteration= model_r.best_iteration)\n",
        "        val_pred_g = model_g.predict(X_val,  num_iteration= model_r.best_iteration)\n",
        "        val_pred_b = model_b.predict(X_val,  num_iteration= model_r.best_iteration)\n",
        "\n",
        "        oof_pred_r[val_ind] = val_pred_r\n",
        "        oof_pred_g[val_ind] = val_pred_g\n",
        "        oof_pred_b[val_ind] = val_pred_b\n",
        "\n",
        "        print(\"FOLD \", cnt, \"COMPLETED\")\n",
        "        # print()\n",
        "        # print(\"*******\" * 10  )\n",
        "        cnt += 1\n",
        "        \n",
        "        actual_test = actual_test[features]\n",
        "        print(actual_test.shape)\n",
        "        original_test_preds_r += model_r.predict(actual_test,  num_iteration= model_r.best_iteration)\n",
        "        original_test_preds_g += model_g.predict(actual_test,  num_iteration= model_r.best_iteration)\n",
        "        original_test_preds_b += model_b.predict(actual_test,  num_iteration= model_r.best_iteration)\n",
        "\n",
        "    original_test_preds_r = original_test_preds_r / kf.n_splits\n",
        "    original_test_preds_g = original_test_preds_g / kf.n_splits\n",
        "    original_test_preds_b = original_test_preds_b / kf.n_splits\n",
        "\n",
        "\n",
        "    oof_pred_df = pd.concat([pd.DataFrame(oof_pred_r, columns=['target_r']),\n",
        "                            pd.DataFrame(oof_pred_g, columns=['target_g']),\n",
        "                            pd.DataFrame(oof_pred_b, columns=['target_b'])], axis=1)\n",
        "\n",
        "    score_r = stats.spearmanr(oof_pred_df.target_r, y.target_r)[0] * 100\n",
        "    score_g = stats.spearmanr(oof_pred_df.target_g, y.target_g)[0] * 100\n",
        "    score_b = stats.spearmanr(oof_pred_df.target_b, y.target_b)[0] * 100\n",
        "\n",
        "\n",
        "    prediction = pd.concat([pd.DataFrame(original_test_preds_r, columns=['target_r']),\n",
        "                    pd.DataFrame(original_test_preds_g, columns=['target_g']),\n",
        "                    pd.DataFrame(original_test_preds_b, columns=['target_b'])], axis=1)\n",
        "    print(score_r, score_g, score_b)\n",
        "    score = (score_r+score_g+score_b)/ 3\n",
        "    print(score)\n",
        "\n",
        "    return oof_pred_df, prediction, model_r, model_g, model_b"
      ],
      "execution_count": 65,
      "outputs": []
    },
    {
      "cell_type": "code",
      "metadata": {
        "id": "LYpKOYfUd2xm",
        "outputId": "88e710b6-0a3c-4de0-edd7-7fa5cdaca258",
        "colab": {
          "base_uri": "https://localhost:8080/"
        }
      },
      "source": [
        "oof_pred_df, prediction, r, g, b = run_lgb(train, target,5, test)"
      ],
      "execution_count": 66,
      "outputs": [
        {
          "output_type": "stream",
          "text": [
            "Fold:1, Train set: 496245, Test set:124659\n",
            "\n",
            "MODEL R *********************************************************************************************\n",
            "Training until validation scores don't improve for 50 rounds.\n",
            "[50]\ttraining's rmse: 0.352063\tvalid_1's rmse: 0.352528\n",
            "[100]\ttraining's rmse: 0.350735\tvalid_1's rmse: 0.351732\n",
            "[150]\ttraining's rmse: 0.349513\tvalid_1's rmse: 0.351033\n",
            "[200]\ttraining's rmse: 0.348337\tvalid_1's rmse: 0.350358\n",
            "[250]\ttraining's rmse: 0.347162\tvalid_1's rmse: 0.349685\n",
            "[300]\ttraining's rmse: 0.346075\tvalid_1's rmse: 0.34908\n",
            "[350]\ttraining's rmse: 0.345057\tvalid_1's rmse: 0.348529\n",
            "[400]\ttraining's rmse: 0.344017\tvalid_1's rmse: 0.34798\n",
            "[450]\ttraining's rmse: 0.343029\tvalid_1's rmse: 0.347462\n",
            "[500]\ttraining's rmse: 0.342093\tvalid_1's rmse: 0.347031\n",
            "[550]\ttraining's rmse: 0.341145\tvalid_1's rmse: 0.346565\n",
            "[600]\ttraining's rmse: 0.340181\tvalid_1's rmse: 0.346082\n",
            "[650]\ttraining's rmse: 0.339235\tvalid_1's rmse: 0.345593\n",
            "[700]\ttraining's rmse: 0.338372\tvalid_1's rmse: 0.345197\n",
            "[750]\ttraining's rmse: 0.337507\tvalid_1's rmse: 0.34477\n",
            "[800]\ttraining's rmse: 0.336656\tvalid_1's rmse: 0.344372\n",
            "[850]\ttraining's rmse: 0.335821\tvalid_1's rmse: 0.344029\n",
            "[900]\ttraining's rmse: 0.335023\tvalid_1's rmse: 0.343688\n",
            "[950]\ttraining's rmse: 0.334181\tvalid_1's rmse: 0.34328\n",
            "[1000]\ttraining's rmse: 0.333327\tvalid_1's rmse: 0.342846\n",
            "Did not meet early stopping. Best iteration is:\n",
            "[1000]\ttraining's rmse: 0.333327\tvalid_1's rmse: 0.342846\n",
            "\n",
            "MODEL G *********************************************************************************************\n",
            "Training until validation scores don't improve for 50 rounds.\n",
            "[50]\ttraining's rmse: 0.350788\tvalid_1's rmse: 0.351123\n",
            "[100]\ttraining's rmse: 0.348634\tvalid_1's rmse: 0.349347\n",
            "[150]\ttraining's rmse: 0.346664\tvalid_1's rmse: 0.347753\n",
            "[200]\ttraining's rmse: 0.344864\tvalid_1's rmse: 0.346306\n",
            "[250]\ttraining's rmse: 0.343142\tvalid_1's rmse: 0.34498\n",
            "[300]\ttraining's rmse: 0.341384\tvalid_1's rmse: 0.343623\n",
            "[350]\ttraining's rmse: 0.339725\tvalid_1's rmse: 0.342321\n",
            "[400]\ttraining's rmse: 0.338178\tvalid_1's rmse: 0.341114\n",
            "[450]\ttraining's rmse: 0.336695\tvalid_1's rmse: 0.339967\n",
            "[500]\ttraining's rmse: 0.335236\tvalid_1's rmse: 0.338884\n",
            "[550]\ttraining's rmse: 0.333836\tvalid_1's rmse: 0.337834\n",
            "[600]\ttraining's rmse: 0.332529\tvalid_1's rmse: 0.3369\n",
            "[650]\ttraining's rmse: 0.331136\tvalid_1's rmse: 0.335876\n",
            "[700]\ttraining's rmse: 0.329838\tvalid_1's rmse: 0.334903\n",
            "[750]\ttraining's rmse: 0.328646\tvalid_1's rmse: 0.334062\n",
            "[800]\ttraining's rmse: 0.32736\tvalid_1's rmse: 0.333093\n",
            "[850]\ttraining's rmse: 0.32607\tvalid_1's rmse: 0.332132\n",
            "[900]\ttraining's rmse: 0.324871\tvalid_1's rmse: 0.331274\n",
            "[950]\ttraining's rmse: 0.323647\tvalid_1's rmse: 0.330404\n",
            "[1000]\ttraining's rmse: 0.322383\tvalid_1's rmse: 0.32946\n",
            "Did not meet early stopping. Best iteration is:\n",
            "[1000]\ttraining's rmse: 0.322383\tvalid_1's rmse: 0.32946\n",
            "\n",
            "MODEL B *********************************************************************************************\n",
            "Training until validation scores don't improve for 50 rounds.\n",
            "[50]\ttraining's rmse: 0.349628\tvalid_1's rmse: 0.349949\n",
            "[100]\ttraining's rmse: 0.346678\tvalid_1's rmse: 0.347339\n",
            "[150]\ttraining's rmse: 0.344024\tvalid_1's rmse: 0.345004\n",
            "[200]\ttraining's rmse: 0.341581\tvalid_1's rmse: 0.342904\n",
            "[250]\ttraining's rmse: 0.339227\tvalid_1's rmse: 0.340873\n",
            "[300]\ttraining's rmse: 0.337138\tvalid_1's rmse: 0.33911\n",
            "[350]\ttraining's rmse: 0.334942\tvalid_1's rmse: 0.337238\n",
            "[400]\ttraining's rmse: 0.33292\tvalid_1's rmse: 0.33551\n",
            "[450]\ttraining's rmse: 0.330997\tvalid_1's rmse: 0.333905\n",
            "[500]\ttraining's rmse: 0.328997\tvalid_1's rmse: 0.332224\n",
            "[550]\ttraining's rmse: 0.327141\tvalid_1's rmse: 0.330683\n",
            "[600]\ttraining's rmse: 0.325417\tvalid_1's rmse: 0.329229\n",
            "[650]\ttraining's rmse: 0.323732\tvalid_1's rmse: 0.327865\n",
            "[700]\ttraining's rmse: 0.321996\tvalid_1's rmse: 0.326431\n",
            "[750]\ttraining's rmse: 0.320365\tvalid_1's rmse: 0.32508\n",
            "[800]\ttraining's rmse: 0.318768\tvalid_1's rmse: 0.323759\n",
            "[850]\ttraining's rmse: 0.317122\tvalid_1's rmse: 0.322421\n",
            "[900]\ttraining's rmse: 0.315697\tvalid_1's rmse: 0.321308\n",
            "[950]\ttraining's rmse: 0.314225\tvalid_1's rmse: 0.320133\n",
            "[1000]\ttraining's rmse: 0.312857\tvalid_1's rmse: 0.319056\n",
            "Did not meet early stopping. Best iteration is:\n",
            "[1000]\ttraining's rmse: 0.312857\tvalid_1's rmse: 0.319056\n",
            "FOLD  1 COMPLETED\n",
            "(3746, 49)\n",
            "Fold:2, Train set: 496246, Test set:124658\n",
            "\n",
            "MODEL R *********************************************************************************************\n",
            "Training until validation scores don't improve for 50 rounds.\n",
            "[50]\ttraining's rmse: 0.352068\tvalid_1's rmse: 0.352538\n",
            "[100]\ttraining's rmse: 0.350739\tvalid_1's rmse: 0.351673\n",
            "[150]\ttraining's rmse: 0.349541\tvalid_1's rmse: 0.350975\n",
            "[200]\ttraining's rmse: 0.348407\tvalid_1's rmse: 0.350309\n",
            "[250]\ttraining's rmse: 0.347253\tvalid_1's rmse: 0.34962\n",
            "[300]\ttraining's rmse: 0.346133\tvalid_1's rmse: 0.348965\n",
            "[350]\ttraining's rmse: 0.34509\tvalid_1's rmse: 0.34838\n",
            "[400]\ttraining's rmse: 0.344043\tvalid_1's rmse: 0.347809\n",
            "[450]\ttraining's rmse: 0.343086\tvalid_1's rmse: 0.347275\n",
            "[500]\ttraining's rmse: 0.342148\tvalid_1's rmse: 0.34677\n",
            "[550]\ttraining's rmse: 0.341173\tvalid_1's rmse: 0.346241\n",
            "[600]\ttraining's rmse: 0.340259\tvalid_1's rmse: 0.345778\n",
            "[650]\ttraining's rmse: 0.339397\tvalid_1's rmse: 0.345351\n",
            "[700]\ttraining's rmse: 0.338533\tvalid_1's rmse: 0.344894\n",
            "[750]\ttraining's rmse: 0.337666\tvalid_1's rmse: 0.344444\n",
            "[800]\ttraining's rmse: 0.336793\tvalid_1's rmse: 0.343991\n",
            "[850]\ttraining's rmse: 0.335926\tvalid_1's rmse: 0.343558\n",
            "[900]\ttraining's rmse: 0.335106\tvalid_1's rmse: 0.343137\n",
            "[950]\ttraining's rmse: 0.334294\tvalid_1's rmse: 0.342733\n",
            "[1000]\ttraining's rmse: 0.333508\tvalid_1's rmse: 0.342339\n",
            "Did not meet early stopping. Best iteration is:\n",
            "[1000]\ttraining's rmse: 0.333508\tvalid_1's rmse: 0.342339\n",
            "\n",
            "MODEL G *********************************************************************************************\n",
            "Training until validation scores don't improve for 50 rounds.\n",
            "[50]\ttraining's rmse: 0.350841\tvalid_1's rmse: 0.351199\n",
            "[100]\ttraining's rmse: 0.348616\tvalid_1's rmse: 0.349368\n",
            "[150]\ttraining's rmse: 0.346673\tvalid_1's rmse: 0.347807\n",
            "[200]\ttraining's rmse: 0.344775\tvalid_1's rmse: 0.346277\n",
            "[250]\ttraining's rmse: 0.343046\tvalid_1's rmse: 0.344894\n",
            "[300]\ttraining's rmse: 0.341322\tvalid_1's rmse: 0.34352\n",
            "[350]\ttraining's rmse: 0.339727\tvalid_1's rmse: 0.342282\n",
            "[400]\ttraining's rmse: 0.338172\tvalid_1's rmse: 0.341076\n",
            "[450]\ttraining's rmse: 0.336673\tvalid_1's rmse: 0.339923\n",
            "[500]\ttraining's rmse: 0.335142\tvalid_1's rmse: 0.338742\n",
            "[550]\ttraining's rmse: 0.333726\tvalid_1's rmse: 0.337682\n",
            "[600]\ttraining's rmse: 0.332371\tvalid_1's rmse: 0.336692\n",
            "[650]\ttraining's rmse: 0.331033\tvalid_1's rmse: 0.335697\n",
            "[700]\ttraining's rmse: 0.32972\tvalid_1's rmse: 0.334738\n",
            "[750]\ttraining's rmse: 0.328452\tvalid_1's rmse: 0.333805\n",
            "[800]\ttraining's rmse: 0.327176\tvalid_1's rmse: 0.332887\n",
            "[850]\ttraining's rmse: 0.325909\tvalid_1's rmse: 0.331932\n",
            "[900]\ttraining's rmse: 0.324718\tvalid_1's rmse: 0.331077\n",
            "[950]\ttraining's rmse: 0.323555\tvalid_1's rmse: 0.330276\n",
            "[1000]\ttraining's rmse: 0.322408\tvalid_1's rmse: 0.329434\n",
            "Did not meet early stopping. Best iteration is:\n",
            "[1000]\ttraining's rmse: 0.322408\tvalid_1's rmse: 0.329434\n",
            "\n",
            "MODEL B *********************************************************************************************\n",
            "Training until validation scores don't improve for 50 rounds.\n",
            "[50]\ttraining's rmse: 0.349594\tvalid_1's rmse: 0.34992\n",
            "[100]\ttraining's rmse: 0.34655\tvalid_1's rmse: 0.347226\n",
            "[150]\ttraining's rmse: 0.343987\tvalid_1's rmse: 0.344993\n",
            "[200]\ttraining's rmse: 0.341477\tvalid_1's rmse: 0.342804\n",
            "[250]\ttraining's rmse: 0.339193\tvalid_1's rmse: 0.340836\n",
            "[300]\ttraining's rmse: 0.337053\tvalid_1's rmse: 0.338993\n",
            "[350]\ttraining's rmse: 0.334906\tvalid_1's rmse: 0.337181\n",
            "[400]\ttraining's rmse: 0.332897\tvalid_1's rmse: 0.335486\n",
            "[450]\ttraining's rmse: 0.330968\tvalid_1's rmse: 0.333862\n",
            "[500]\ttraining's rmse: 0.329019\tvalid_1's rmse: 0.332187\n",
            "[550]\ttraining's rmse: 0.327151\tvalid_1's rmse: 0.330654\n",
            "[600]\ttraining's rmse: 0.325404\tvalid_1's rmse: 0.329224\n",
            "[650]\ttraining's rmse: 0.323684\tvalid_1's rmse: 0.327835\n",
            "[700]\ttraining's rmse: 0.321992\tvalid_1's rmse: 0.326474\n",
            "[750]\ttraining's rmse: 0.320398\tvalid_1's rmse: 0.325192\n",
            "[800]\ttraining's rmse: 0.31886\tvalid_1's rmse: 0.323949\n",
            "[850]\ttraining's rmse: 0.317277\tvalid_1's rmse: 0.322642\n",
            "[900]\ttraining's rmse: 0.315676\tvalid_1's rmse: 0.321352\n",
            "[950]\ttraining's rmse: 0.314132\tvalid_1's rmse: 0.320138\n",
            "[1000]\ttraining's rmse: 0.312672\tvalid_1's rmse: 0.31896\n",
            "Did not meet early stopping. Best iteration is:\n",
            "[1000]\ttraining's rmse: 0.312672\tvalid_1's rmse: 0.31896\n",
            "FOLD  2 COMPLETED\n",
            "(3746, 49)\n",
            "Fold:3, Train set: 497022, Test set:123882\n",
            "\n",
            "MODEL R *********************************************************************************************\n",
            "Training until validation scores don't improve for 50 rounds.\n",
            "[50]\ttraining's rmse: 0.352046\tvalid_1's rmse: 0.352659\n",
            "[100]\ttraining's rmse: 0.350726\tvalid_1's rmse: 0.351859\n",
            "[150]\ttraining's rmse: 0.349517\tvalid_1's rmse: 0.3511\n",
            "[200]\ttraining's rmse: 0.348343\tvalid_1's rmse: 0.350377\n",
            "[250]\ttraining's rmse: 0.347229\tvalid_1's rmse: 0.349712\n",
            "[300]\ttraining's rmse: 0.346166\tvalid_1's rmse: 0.349124\n",
            "[350]\ttraining's rmse: 0.345111\tvalid_1's rmse: 0.348511\n",
            "[400]\ttraining's rmse: 0.344088\tvalid_1's rmse: 0.347944\n",
            "[450]\ttraining's rmse: 0.34308\tvalid_1's rmse: 0.347383\n",
            "[500]\ttraining's rmse: 0.342094\tvalid_1's rmse: 0.346827\n",
            "[550]\ttraining's rmse: 0.341148\tvalid_1's rmse: 0.346328\n",
            "[600]\ttraining's rmse: 0.340175\tvalid_1's rmse: 0.345801\n",
            "[650]\ttraining's rmse: 0.339279\tvalid_1's rmse: 0.345332\n",
            "[700]\ttraining's rmse: 0.338343\tvalid_1's rmse: 0.344838\n",
            "[750]\ttraining's rmse: 0.337482\tvalid_1's rmse: 0.344389\n",
            "[800]\ttraining's rmse: 0.336607\tvalid_1's rmse: 0.343942\n",
            "[850]\ttraining's rmse: 0.335771\tvalid_1's rmse: 0.343519\n",
            "[900]\ttraining's rmse: 0.334948\tvalid_1's rmse: 0.343092\n",
            "[950]\ttraining's rmse: 0.334132\tvalid_1's rmse: 0.342657\n",
            "[1000]\ttraining's rmse: 0.333339\tvalid_1's rmse: 0.342236\n",
            "Did not meet early stopping. Best iteration is:\n",
            "[1000]\ttraining's rmse: 0.333339\tvalid_1's rmse: 0.342236\n",
            "\n",
            "MODEL G *********************************************************************************************\n",
            "Training until validation scores don't improve for 50 rounds.\n",
            "[50]\ttraining's rmse: 0.350783\tvalid_1's rmse: 0.351311\n",
            "[100]\ttraining's rmse: 0.348555\tvalid_1's rmse: 0.349499\n",
            "[150]\ttraining's rmse: 0.346601\tvalid_1's rmse: 0.347966\n",
            "[200]\ttraining's rmse: 0.344693\tvalid_1's rmse: 0.346443\n",
            "[250]\ttraining's rmse: 0.342965\tvalid_1's rmse: 0.345099\n",
            "[300]\ttraining's rmse: 0.341321\tvalid_1's rmse: 0.343815\n",
            "[350]\ttraining's rmse: 0.339687\tvalid_1's rmse: 0.342532\n",
            "[400]\ttraining's rmse: 0.338116\tvalid_1's rmse: 0.341335\n",
            "[450]\ttraining's rmse: 0.336611\tvalid_1's rmse: 0.340193\n",
            "[500]\ttraining's rmse: 0.335171\tvalid_1's rmse: 0.3391\n",
            "[550]\ttraining's rmse: 0.333752\tvalid_1's rmse: 0.33805\n",
            "[600]\ttraining's rmse: 0.332391\tvalid_1's rmse: 0.337054\n",
            "[650]\ttraining's rmse: 0.331094\tvalid_1's rmse: 0.336119\n",
            "[700]\ttraining's rmse: 0.329737\tvalid_1's rmse: 0.335107\n",
            "[750]\ttraining's rmse: 0.328509\tvalid_1's rmse: 0.334215\n",
            "[800]\ttraining's rmse: 0.327223\tvalid_1's rmse: 0.333271\n",
            "[850]\ttraining's rmse: 0.325989\tvalid_1's rmse: 0.332401\n",
            "[900]\ttraining's rmse: 0.324799\tvalid_1's rmse: 0.33156\n",
            "[950]\ttraining's rmse: 0.323596\tvalid_1's rmse: 0.330727\n",
            "[1000]\ttraining's rmse: 0.322423\tvalid_1's rmse: 0.329866\n",
            "Did not meet early stopping. Best iteration is:\n",
            "[1000]\ttraining's rmse: 0.322423\tvalid_1's rmse: 0.329866\n",
            "\n",
            "MODEL B *********************************************************************************************\n",
            "Training until validation scores don't improve for 50 rounds.\n",
            "[50]\ttraining's rmse: 0.349547\tvalid_1's rmse: 0.34995\n",
            "[100]\ttraining's rmse: 0.346601\tvalid_1's rmse: 0.347287\n",
            "[150]\ttraining's rmse: 0.343904\tvalid_1's rmse: 0.344872\n",
            "[200]\ttraining's rmse: 0.341423\tvalid_1's rmse: 0.342699\n",
            "[250]\ttraining's rmse: 0.339005\tvalid_1's rmse: 0.340641\n",
            "[300]\ttraining's rmse: 0.336873\tvalid_1's rmse: 0.338829\n",
            "[350]\ttraining's rmse: 0.334802\tvalid_1's rmse: 0.337039\n",
            "[400]\ttraining's rmse: 0.332785\tvalid_1's rmse: 0.335361\n",
            "[450]\ttraining's rmse: 0.330892\tvalid_1's rmse: 0.333741\n",
            "[500]\ttraining's rmse: 0.32897\tvalid_1's rmse: 0.332119\n",
            "[550]\ttraining's rmse: 0.327232\tvalid_1's rmse: 0.330663\n",
            "[600]\ttraining's rmse: 0.325464\tvalid_1's rmse: 0.32921\n",
            "[650]\ttraining's rmse: 0.323779\tvalid_1's rmse: 0.327804\n",
            "[700]\ttraining's rmse: 0.322177\tvalid_1's rmse: 0.326478\n",
            "[750]\ttraining's rmse: 0.320584\tvalid_1's rmse: 0.325134\n",
            "[800]\ttraining's rmse: 0.318976\tvalid_1's rmse: 0.323811\n",
            "[850]\ttraining's rmse: 0.317265\tvalid_1's rmse: 0.322364\n",
            "[900]\ttraining's rmse: 0.315641\tvalid_1's rmse: 0.321029\n",
            "[950]\ttraining's rmse: 0.314176\tvalid_1's rmse: 0.319856\n",
            "[1000]\ttraining's rmse: 0.312625\tvalid_1's rmse: 0.318618\n",
            "Did not meet early stopping. Best iteration is:\n",
            "[1000]\ttraining's rmse: 0.312625\tvalid_1's rmse: 0.318618\n",
            "FOLD  3 COMPLETED\n",
            "(3746, 49)\n",
            "Fold:4, Train set: 497022, Test set:123882\n",
            "\n",
            "MODEL R *********************************************************************************************\n",
            "Training until validation scores don't improve for 50 rounds.\n",
            "[50]\ttraining's rmse: 0.352016\tvalid_1's rmse: 0.352669\n",
            "[100]\ttraining's rmse: 0.350689\tvalid_1's rmse: 0.351877\n",
            "[150]\ttraining's rmse: 0.349445\tvalid_1's rmse: 0.351182\n",
            "[200]\ttraining's rmse: 0.348306\tvalid_1's rmse: 0.35052\n",
            "[250]\ttraining's rmse: 0.347199\tvalid_1's rmse: 0.349875\n",
            "[300]\ttraining's rmse: 0.346122\tvalid_1's rmse: 0.349299\n",
            "[350]\ttraining's rmse: 0.345075\tvalid_1's rmse: 0.34871\n",
            "[400]\ttraining's rmse: 0.344073\tvalid_1's rmse: 0.34815\n",
            "[450]\ttraining's rmse: 0.34308\tvalid_1's rmse: 0.347587\n",
            "[500]\ttraining's rmse: 0.342122\tvalid_1's rmse: 0.347082\n",
            "[550]\ttraining's rmse: 0.341187\tvalid_1's rmse: 0.346594\n",
            "[600]\ttraining's rmse: 0.340232\tvalid_1's rmse: 0.346093\n",
            "[650]\ttraining's rmse: 0.339313\tvalid_1's rmse: 0.345632\n",
            "[700]\ttraining's rmse: 0.338416\tvalid_1's rmse: 0.345176\n",
            "[750]\ttraining's rmse: 0.337529\tvalid_1's rmse: 0.34472\n",
            "[800]\ttraining's rmse: 0.336635\tvalid_1's rmse: 0.344258\n",
            "[850]\ttraining's rmse: 0.335784\tvalid_1's rmse: 0.343827\n",
            "[900]\ttraining's rmse: 0.334958\tvalid_1's rmse: 0.343414\n",
            "[950]\ttraining's rmse: 0.334136\tvalid_1's rmse: 0.342992\n",
            "[1000]\ttraining's rmse: 0.333346\tvalid_1's rmse: 0.34261\n",
            "Did not meet early stopping. Best iteration is:\n",
            "[1000]\ttraining's rmse: 0.333346\tvalid_1's rmse: 0.34261\n",
            "\n",
            "MODEL G *********************************************************************************************\n",
            "Training until validation scores don't improve for 50 rounds.\n",
            "[50]\ttraining's rmse: 0.35075\tvalid_1's rmse: 0.351219\n",
            "[100]\ttraining's rmse: 0.348535\tvalid_1's rmse: 0.349434\n",
            "[150]\ttraining's rmse: 0.346521\tvalid_1's rmse: 0.347854\n",
            "[200]\ttraining's rmse: 0.34463\tvalid_1's rmse: 0.346356\n",
            "[250]\ttraining's rmse: 0.3429\tvalid_1's rmse: 0.345061\n",
            "[300]\ttraining's rmse: 0.341156\tvalid_1's rmse: 0.343721\n",
            "[350]\ttraining's rmse: 0.339545\tvalid_1's rmse: 0.342542\n",
            "[400]\ttraining's rmse: 0.337924\tvalid_1's rmse: 0.341315\n",
            "[450]\ttraining's rmse: 0.336383\tvalid_1's rmse: 0.340174\n",
            "[500]\ttraining's rmse: 0.33489\tvalid_1's rmse: 0.339041\n",
            "[550]\ttraining's rmse: 0.333523\tvalid_1's rmse: 0.338058\n",
            "[600]\ttraining's rmse: 0.332073\tvalid_1's rmse: 0.336968\n",
            "[650]\ttraining's rmse: 0.330735\tvalid_1's rmse: 0.336008\n",
            "[700]\ttraining's rmse: 0.329417\tvalid_1's rmse: 0.335035\n",
            "[750]\ttraining's rmse: 0.328084\tvalid_1's rmse: 0.334058\n",
            "[800]\ttraining's rmse: 0.326852\tvalid_1's rmse: 0.333181\n",
            "[850]\ttraining's rmse: 0.325562\tvalid_1's rmse: 0.332284\n",
            "[900]\ttraining's rmse: 0.324319\tvalid_1's rmse: 0.331406\n",
            "[950]\ttraining's rmse: 0.323122\tvalid_1's rmse: 0.33057\n",
            "[1000]\ttraining's rmse: 0.321947\tvalid_1's rmse: 0.329748\n",
            "Did not meet early stopping. Best iteration is:\n",
            "[1000]\ttraining's rmse: 0.321947\tvalid_1's rmse: 0.329748\n",
            "\n",
            "MODEL B *********************************************************************************************\n",
            "Training until validation scores don't improve for 50 rounds.\n",
            "[50]\ttraining's rmse: 0.349637\tvalid_1's rmse: 0.350038\n",
            "[100]\ttraining's rmse: 0.34657\tvalid_1's rmse: 0.347381\n",
            "[150]\ttraining's rmse: 0.343929\tvalid_1's rmse: 0.345107\n",
            "[200]\ttraining's rmse: 0.341386\tvalid_1's rmse: 0.34291\n",
            "[250]\ttraining's rmse: 0.339094\tvalid_1's rmse: 0.340974\n",
            "[300]\ttraining's rmse: 0.336862\tvalid_1's rmse: 0.33912\n",
            "[350]\ttraining's rmse: 0.334712\tvalid_1's rmse: 0.337308\n",
            "[400]\ttraining's rmse: 0.332654\tvalid_1's rmse: 0.335595\n",
            "[450]\ttraining's rmse: 0.330676\tvalid_1's rmse: 0.33397\n",
            "[500]\ttraining's rmse: 0.328728\tvalid_1's rmse: 0.332372\n",
            "[550]\ttraining's rmse: 0.326991\tvalid_1's rmse: 0.330971\n",
            "[600]\ttraining's rmse: 0.325206\tvalid_1's rmse: 0.329489\n",
            "[650]\ttraining's rmse: 0.323455\tvalid_1's rmse: 0.32802\n",
            "[700]\ttraining's rmse: 0.321801\tvalid_1's rmse: 0.326692\n",
            "[750]\ttraining's rmse: 0.320163\tvalid_1's rmse: 0.325365\n",
            "[800]\ttraining's rmse: 0.318543\tvalid_1's rmse: 0.324085\n",
            "[850]\ttraining's rmse: 0.316955\tvalid_1's rmse: 0.322827\n",
            "[900]\ttraining's rmse: 0.315327\tvalid_1's rmse: 0.321524\n",
            "[950]\ttraining's rmse: 0.313876\tvalid_1's rmse: 0.320376\n",
            "[1000]\ttraining's rmse: 0.312377\tvalid_1's rmse: 0.319179\n",
            "Did not meet early stopping. Best iteration is:\n",
            "[1000]\ttraining's rmse: 0.312377\tvalid_1's rmse: 0.319179\n",
            "FOLD  4 COMPLETED\n",
            "(3746, 49)\n",
            "Fold:5, Train set: 497081, Test set:123823\n",
            "\n",
            "MODEL R *********************************************************************************************\n",
            "Training until validation scores don't improve for 50 rounds.\n",
            "[50]\ttraining's rmse: 0.352064\tvalid_1's rmse: 0.352543\n",
            "[100]\ttraining's rmse: 0.35071\tvalid_1's rmse: 0.351718\n",
            "[150]\ttraining's rmse: 0.349485\tvalid_1's rmse: 0.351005\n",
            "[200]\ttraining's rmse: 0.348336\tvalid_1's rmse: 0.350349\n",
            "[250]\ttraining's rmse: 0.347248\tvalid_1's rmse: 0.349739\n",
            "[300]\ttraining's rmse: 0.346201\tvalid_1's rmse: 0.349172\n",
            "[350]\ttraining's rmse: 0.345139\tvalid_1's rmse: 0.348613\n",
            "[400]\ttraining's rmse: 0.344171\tvalid_1's rmse: 0.348083\n",
            "[450]\ttraining's rmse: 0.343171\tvalid_1's rmse: 0.347537\n",
            "[500]\ttraining's rmse: 0.342223\tvalid_1's rmse: 0.347065\n",
            "[550]\ttraining's rmse: 0.341266\tvalid_1's rmse: 0.346568\n",
            "[600]\ttraining's rmse: 0.340334\tvalid_1's rmse: 0.34608\n",
            "[650]\ttraining's rmse: 0.339427\tvalid_1's rmse: 0.345623\n",
            "[700]\ttraining's rmse: 0.338506\tvalid_1's rmse: 0.345131\n",
            "[750]\ttraining's rmse: 0.337633\tvalid_1's rmse: 0.344681\n",
            "[800]\ttraining's rmse: 0.336782\tvalid_1's rmse: 0.344269\n",
            "[850]\ttraining's rmse: 0.335923\tvalid_1's rmse: 0.34381\n",
            "[900]\ttraining's rmse: 0.335065\tvalid_1's rmse: 0.343397\n",
            "[950]\ttraining's rmse: 0.334242\tvalid_1's rmse: 0.343004\n",
            "[1000]\ttraining's rmse: 0.333384\tvalid_1's rmse: 0.342588\n",
            "Did not meet early stopping. Best iteration is:\n",
            "[1000]\ttraining's rmse: 0.333384\tvalid_1's rmse: 0.342588\n",
            "\n",
            "MODEL G *********************************************************************************************\n",
            "Training until validation scores don't improve for 50 rounds.\n",
            "[50]\ttraining's rmse: 0.350858\tvalid_1's rmse: 0.351247\n",
            "[100]\ttraining's rmse: 0.348667\tvalid_1's rmse: 0.349461\n",
            "[150]\ttraining's rmse: 0.346732\tvalid_1's rmse: 0.3479\n",
            "[200]\ttraining's rmse: 0.344867\tvalid_1's rmse: 0.346441\n",
            "[250]\ttraining's rmse: 0.343152\tvalid_1's rmse: 0.34509\n",
            "[300]\ttraining's rmse: 0.341445\tvalid_1's rmse: 0.343767\n",
            "[350]\ttraining's rmse: 0.339844\tvalid_1's rmse: 0.342564\n",
            "[400]\ttraining's rmse: 0.338282\tvalid_1's rmse: 0.341376\n",
            "[450]\ttraining's rmse: 0.336771\tvalid_1's rmse: 0.34025\n",
            "[500]\ttraining's rmse: 0.335306\tvalid_1's rmse: 0.339158\n",
            "[550]\ttraining's rmse: 0.333859\tvalid_1's rmse: 0.338059\n",
            "[600]\ttraining's rmse: 0.332515\tvalid_1's rmse: 0.337076\n",
            "[650]\ttraining's rmse: 0.331136\tvalid_1's rmse: 0.33604\n",
            "[700]\ttraining's rmse: 0.329759\tvalid_1's rmse: 0.335022\n",
            "[750]\ttraining's rmse: 0.328484\tvalid_1's rmse: 0.33411\n",
            "[800]\ttraining's rmse: 0.327224\tvalid_1's rmse: 0.333224\n",
            "[850]\ttraining's rmse: 0.325976\tvalid_1's rmse: 0.332345\n",
            "[900]\ttraining's rmse: 0.324647\tvalid_1's rmse: 0.331337\n",
            "[950]\ttraining's rmse: 0.323427\tvalid_1's rmse: 0.330468\n",
            "[1000]\ttraining's rmse: 0.322172\tvalid_1's rmse: 0.329545\n",
            "Did not meet early stopping. Best iteration is:\n",
            "[1000]\ttraining's rmse: 0.322172\tvalid_1's rmse: 0.329545\n",
            "\n",
            "MODEL B *********************************************************************************************\n",
            "Training until validation scores don't improve for 50 rounds.\n",
            "[50]\ttraining's rmse: 0.349572\tvalid_1's rmse: 0.349948\n",
            "[100]\ttraining's rmse: 0.346543\tvalid_1's rmse: 0.347269\n",
            "[150]\ttraining's rmse: 0.343893\tvalid_1's rmse: 0.344956\n",
            "[200]\ttraining's rmse: 0.341391\tvalid_1's rmse: 0.342828\n",
            "[250]\ttraining's rmse: 0.339083\tvalid_1's rmse: 0.340853\n",
            "[300]\ttraining's rmse: 0.336973\tvalid_1's rmse: 0.339081\n",
            "[350]\ttraining's rmse: 0.334937\tvalid_1's rmse: 0.337371\n",
            "[400]\ttraining's rmse: 0.332977\tvalid_1's rmse: 0.335765\n",
            "[450]\ttraining's rmse: 0.331067\tvalid_1's rmse: 0.33417\n",
            "[500]\ttraining's rmse: 0.329219\tvalid_1's rmse: 0.332626\n",
            "[550]\ttraining's rmse: 0.327377\tvalid_1's rmse: 0.331073\n",
            "[600]\ttraining's rmse: 0.325636\tvalid_1's rmse: 0.32968\n",
            "[650]\ttraining's rmse: 0.323879\tvalid_1's rmse: 0.328223\n",
            "[700]\ttraining's rmse: 0.32217\tvalid_1's rmse: 0.326826\n",
            "[750]\ttraining's rmse: 0.320448\tvalid_1's rmse: 0.32542\n",
            "[800]\ttraining's rmse: 0.3188\tvalid_1's rmse: 0.3241\n",
            "[850]\ttraining's rmse: 0.31718\tvalid_1's rmse: 0.322797\n",
            "[900]\ttraining's rmse: 0.315654\tvalid_1's rmse: 0.321598\n",
            "[950]\ttraining's rmse: 0.314135\tvalid_1's rmse: 0.320373\n",
            "[1000]\ttraining's rmse: 0.312672\tvalid_1's rmse: 0.319224\n",
            "Did not meet early stopping. Best iteration is:\n",
            "[1000]\ttraining's rmse: 0.312672\tvalid_1's rmse: 0.319224\n",
            "FOLD  5 COMPLETED\n",
            "(3746, 49)\n",
            "29.315257752955574 44.58723298843534 52.72489089527592\n",
            "42.20912721222228\n"
          ],
          "name": "stdout"
        }
      ]
    },
    {
      "cell_type": "code",
      "metadata": {
        "id": "AHjgKV-WetsW",
        "outputId": "a8855f9c-9bff-4324-ed17-cf6a96a57a8d",
        "colab": {
          "base_uri": "https://localhost:8080/"
        }
      },
      "source": [
        "prediction.shape"
      ],
      "execution_count": 68,
      "outputs": [
        {
          "output_type": "execute_result",
          "data": {
            "text/plain": [
              "(3746, 3)"
            ]
          },
          "metadata": {
            "tags": []
          },
          "execution_count": 68
        }
      ]
    },
    {
      "cell_type": "code",
      "metadata": {
        "id": "o7pIOCK9kEAp",
        "outputId": "9895b152-c1d8-49ee-92f5-eaa13440ea85",
        "colab": {
          "base_uri": "https://localhost:8080/"
        }
      },
      "source": [
        "test_target.shape"
      ],
      "execution_count": 69,
      "outputs": [
        {
          "output_type": "execute_result",
          "data": {
            "text/plain": [
              "(3746, 3)"
            ]
          },
          "metadata": {
            "tags": []
          },
          "execution_count": 69
        }
      ]
    },
    {
      "cell_type": "code",
      "metadata": {
        "id": "XF5OMoTkkS0F",
        "outputId": "75c78b41-ec98-470d-fb69-fa04633e2141",
        "colab": {
          "base_uri": "https://localhost:8080/"
        }
      },
      "source": [
        "print(stats.spearmanr(prediction.target_r, test_target.target_r)[0])\n",
        "print(stats.spearmanr(prediction.target_g, test_target.target_g)[0])\n",
        "print(stats.spearmanr(prediction.target_b, test_target.target_b)[0])\n"
      ],
      "execution_count": 72,
      "outputs": [
        {
          "output_type": "stream",
          "text": [
            "0.05979943930853575\n",
            "0.2595891709920574\n",
            "0.3194896525405518\n"
          ],
          "name": "stdout"
        }
      ]
    },
    {
      "cell_type": "code",
      "metadata": {
        "id": "6lVx7ebjlQyu"
      },
      "source": [
        "feat = [f for f in train.columns if 'f' in f]"
      ],
      "execution_count": 79,
      "outputs": []
    },
    {
      "cell_type": "code",
      "metadata": {
        "id": "awdGVAFWkeRb"
      },
      "source": [
        "r1_features = pd.Series(r.feature_importance(importance_type='gain', iteration=r.best_iteration), index=train[feat].columns).sort_values(ascending=False)\n",
        "g1_features= pd.Series(g.feature_importance(importance_type='gain', iteration=g.best_iteration), index=train[feat].columns).sort_values(ascending=False)\n",
        "b1_features= pd.Series(b.feature_importance(importance_type='gain', iteration=b.best_iteration), index=train[feat].columns).sort_values(ascending=False)"
      ],
      "execution_count": 85,
      "outputs": []
    },
    {
      "cell_type": "code",
      "metadata": {
        "id": "s3u2wOo5k8Gs"
      },
      "source": [
        "features= list(set(r1_features[:10].index.to_list() + g1_features[:10].index.to_list() + b1_features[:10].index.to_list()))"
      ],
      "execution_count": 97,
      "outputs": []
    },
    {
      "cell_type": "code",
      "metadata": {
        "id": "jLzlVlC-lNwj",
        "outputId": "c4293af1-fc4e-4bc9-a012-e74538a381c9",
        "colab": {
          "base_uri": "https://localhost:8080/"
        }
      },
      "source": [
        "features"
      ],
      "execution_count": 98,
      "outputs": [
        {
          "output_type": "execute_result",
          "data": {
            "text/plain": [
              "['feature_14',\n",
              " 'feature_11',\n",
              " 'feature_16',\n",
              " 'feature_19',\n",
              " 'feature_18',\n",
              " 'feature_13',\n",
              " 'feature_8',\n",
              " 'feature_15',\n",
              " 'feature_9',\n",
              " 'feature_12',\n",
              " 'feature_47',\n",
              " 'feature_17',\n",
              " 'feature_10']"
            ]
          },
          "metadata": {
            "tags": []
          },
          "execution_count": 98
        }
      ]
    },
    {
      "cell_type": "code",
      "metadata": {
        "id": "GhSwtm43mdre"
      },
      "source": [
        "train = train[features]\n",
        "test= test[features]"
      ],
      "execution_count": 99,
      "outputs": []
    },
    {
      "cell_type": "code",
      "metadata": {
        "id": "ub1HNO9el6bt",
        "outputId": "764c1518-5531-4aba-b2b4-5626c7fe807a",
        "colab": {
          "base_uri": "https://localhost:8080/",
          "height": 66,
          "referenced_widgets": [
            "e5792da18343439b86de57d9b9369fb3",
            "25fc148ed2004b4d99c8e32849047897",
            "a8f6b5b5f2bd478cbb9d8689fb7bc937",
            "4196bbd06c474918b239357bf28b71d3",
            "b1165084d38649a2ae1b5a0cb4bd83a1",
            "ac4ef0f2c5a541a9826acf6387aa2400",
            "3d0608fa5d5248c1a770eef1c18420a1",
            "b97dbd68c7004495b6adf9f522a4ca42"
          ]
        }
      },
      "source": [
        "df2 = calculate_combination_corr(train, target, 2)"
      ],
      "execution_count": 100,
      "outputs": [
        {
          "output_type": "display_data",
          "data": {
            "application/vnd.jupyter.widget-view+json": {
              "model_id": "e5792da18343439b86de57d9b9369fb3",
              "version_minor": 0,
              "version_major": 2
            },
            "text/plain": [
              "HBox(children=(FloatProgress(value=0.0, max=78.0), HTML(value='')))"
            ]
          },
          "metadata": {
            "tags": []
          }
        },
        {
          "output_type": "stream",
          "text": [
            "\n"
          ],
          "name": "stdout"
        }
      ]
    },
    {
      "cell_type": "code",
      "metadata": {
        "id": "Cj9rdOALmkLu",
        "outputId": "555a9853-9e7b-4c81-9c22-ee27bc77632d",
        "colab": {
          "base_uri": "https://localhost:8080/",
          "height": 116,
          "referenced_widgets": [
            "6d1b64e5e6344641a60ab376a047e9f5",
            "911059204344455da8e2920636e0f8a7",
            "c26482e1cc22433b9e42bdb1034e78f7",
            "8c34d29c94414f548af1989c2b552ac2",
            "1171dded6bd84fb68d4ad367f71aece2",
            "4a5d48a3f71c4920a2967fbf6e0e6376",
            "3e37a57deade4e808d0f832823b29c02",
            "b412fb6f27ee43aeb5ffb51bb4572382",
            "79123cd1e05447579e559497b34ea156",
            "69fa3d5c3d904b07801dead21ae61227",
            "56a6cddec9664d88b365bdf5f03c3f59",
            "d25b9e263c1d43b2b8256834a1df478c",
            "05ca0abfb3c54f13b2f461ee0b8f9555",
            "84a096e0af4c40bbbbea2b1c132a38f0",
            "062572d59e2543a4bea392704ff22ed8",
            "b4346b38d1284b508551099f6023c701"
          ]
        }
      },
      "source": [
        "df3 = calculate_combination_corr(train, target, 3)\n",
        "df4 = calculate_combination_corr(train, target, 4)"
      ],
      "execution_count": 101,
      "outputs": [
        {
          "output_type": "display_data",
          "data": {
            "application/vnd.jupyter.widget-view+json": {
              "model_id": "6d1b64e5e6344641a60ab376a047e9f5",
              "version_minor": 0,
              "version_major": 2
            },
            "text/plain": [
              "HBox(children=(FloatProgress(value=0.0, max=286.0), HTML(value='')))"
            ]
          },
          "metadata": {
            "tags": []
          }
        },
        {
          "output_type": "stream",
          "text": [
            "\n"
          ],
          "name": "stdout"
        },
        {
          "output_type": "display_data",
          "data": {
            "application/vnd.jupyter.widget-view+json": {
              "model_id": "79123cd1e05447579e559497b34ea156",
              "version_minor": 0,
              "version_major": 2
            },
            "text/plain": [
              "HBox(children=(FloatProgress(value=0.0, max=715.0), HTML(value='')))"
            ]
          },
          "metadata": {
            "tags": []
          }
        },
        {
          "output_type": "stream",
          "text": [
            "\n"
          ],
          "name": "stdout"
        }
      ]
    },
    {
      "cell_type": "code",
      "metadata": {
        "id": "4xZ4V3tMmpLR",
        "outputId": "f04a49d6-8e0b-475b-d493-3260d6316c31",
        "colab": {
          "base_uri": "https://localhost:8080/",
          "height": 408
        }
      },
      "source": [
        "df = pd.concat([df2, df3, df4])\n",
        "df"
      ],
      "execution_count": 102,
      "outputs": [
        {
          "output_type": "execute_result",
          "data": {
            "text/html": [
              "<div>\n",
              "<style scoped>\n",
              "    .dataframe tbody tr th:only-of-type {\n",
              "        vertical-align: middle;\n",
              "    }\n",
              "\n",
              "    .dataframe tbody tr th {\n",
              "        vertical-align: top;\n",
              "    }\n",
              "\n",
              "    .dataframe thead th {\n",
              "        text-align: right;\n",
              "    }\n",
              "</style>\n",
              "<table border=\"1\" class=\"dataframe\">\n",
              "  <thead>\n",
              "    <tr style=\"text-align: right;\">\n",
              "      <th></th>\n",
              "      <th>feature</th>\n",
              "      <th>score_r</th>\n",
              "      <th>score_g</th>\n",
              "      <th>score_b</th>\n",
              "    </tr>\n",
              "  </thead>\n",
              "  <tbody>\n",
              "    <tr>\n",
              "      <th>0</th>\n",
              "      <td>(feature_14, feature_11)</td>\n",
              "      <td>-0.022283</td>\n",
              "      <td>-0.036843</td>\n",
              "      <td>-0.049434</td>\n",
              "    </tr>\n",
              "    <tr>\n",
              "      <th>1</th>\n",
              "      <td>(feature_14, feature_16)</td>\n",
              "      <td>-0.020565</td>\n",
              "      <td>-0.035444</td>\n",
              "      <td>-0.047697</td>\n",
              "    </tr>\n",
              "    <tr>\n",
              "      <th>2</th>\n",
              "      <td>(feature_14, feature_19)</td>\n",
              "      <td>-0.021508</td>\n",
              "      <td>-0.037161</td>\n",
              "      <td>-0.049582</td>\n",
              "    </tr>\n",
              "    <tr>\n",
              "      <th>3</th>\n",
              "      <td>(feature_14, feature_18)</td>\n",
              "      <td>-0.023015</td>\n",
              "      <td>-0.039380</td>\n",
              "      <td>-0.051769</td>\n",
              "    </tr>\n",
              "    <tr>\n",
              "      <th>4</th>\n",
              "      <td>(feature_14, feature_13)</td>\n",
              "      <td>-0.023947</td>\n",
              "      <td>-0.039256</td>\n",
              "      <td>-0.052328</td>\n",
              "    </tr>\n",
              "    <tr>\n",
              "      <th>...</th>\n",
              "      <td>...</td>\n",
              "      <td>...</td>\n",
              "      <td>...</td>\n",
              "      <td>...</td>\n",
              "    </tr>\n",
              "    <tr>\n",
              "      <th>710</th>\n",
              "      <td>(feature_9, feature_12, feature_47, feature_17)</td>\n",
              "      <td>-0.021438</td>\n",
              "      <td>-0.036943</td>\n",
              "      <td>-0.050700</td>\n",
              "    </tr>\n",
              "    <tr>\n",
              "      <th>711</th>\n",
              "      <td>(feature_9, feature_12, feature_47, feature_10)</td>\n",
              "      <td>-0.020210</td>\n",
              "      <td>-0.035505</td>\n",
              "      <td>-0.049120</td>\n",
              "    </tr>\n",
              "    <tr>\n",
              "      <th>712</th>\n",
              "      <td>(feature_9, feature_12, feature_17, feature_10)</td>\n",
              "      <td>-0.022310</td>\n",
              "      <td>-0.038760</td>\n",
              "      <td>-0.053454</td>\n",
              "    </tr>\n",
              "    <tr>\n",
              "      <th>713</th>\n",
              "      <td>(feature_9, feature_47, feature_17, feature_10)</td>\n",
              "      <td>-0.021243</td>\n",
              "      <td>-0.037135</td>\n",
              "      <td>-0.050845</td>\n",
              "    </tr>\n",
              "    <tr>\n",
              "      <th>714</th>\n",
              "      <td>(feature_12, feature_47, feature_17, feature_10)</td>\n",
              "      <td>-0.021748</td>\n",
              "      <td>-0.036619</td>\n",
              "      <td>-0.050254</td>\n",
              "    </tr>\n",
              "  </tbody>\n",
              "</table>\n",
              "<p>1079 rows × 4 columns</p>\n",
              "</div>"
            ],
            "text/plain": [
              "                                              feature   score_r   score_g  \\\n",
              "0                            (feature_14, feature_11) -0.022283 -0.036843   \n",
              "1                            (feature_14, feature_16) -0.020565 -0.035444   \n",
              "2                            (feature_14, feature_19) -0.021508 -0.037161   \n",
              "3                            (feature_14, feature_18) -0.023015 -0.039380   \n",
              "4                            (feature_14, feature_13) -0.023947 -0.039256   \n",
              "..                                                ...       ...       ...   \n",
              "710   (feature_9, feature_12, feature_47, feature_17) -0.021438 -0.036943   \n",
              "711   (feature_9, feature_12, feature_47, feature_10) -0.020210 -0.035505   \n",
              "712   (feature_9, feature_12, feature_17, feature_10) -0.022310 -0.038760   \n",
              "713   (feature_9, feature_47, feature_17, feature_10) -0.021243 -0.037135   \n",
              "714  (feature_12, feature_47, feature_17, feature_10) -0.021748 -0.036619   \n",
              "\n",
              "      score_b  \n",
              "0   -0.049434  \n",
              "1   -0.047697  \n",
              "2   -0.049582  \n",
              "3   -0.051769  \n",
              "4   -0.052328  \n",
              "..        ...  \n",
              "710 -0.050700  \n",
              "711 -0.049120  \n",
              "712 -0.053454  \n",
              "713 -0.050845  \n",
              "714 -0.050254  \n",
              "\n",
              "[1079 rows x 4 columns]"
            ]
          },
          "metadata": {
            "tags": []
          },
          "execution_count": 102
        }
      ]
    },
    {
      "cell_type": "code",
      "metadata": {
        "id": "YjTJjBxSqy0j"
      },
      "source": [
        "df.score_r = df.score_r.abs()\n",
        "df.score_g = df.score_b.abs()\n",
        "df.score_b = df.score_b.abs()\n"
      ],
      "execution_count": 121,
      "outputs": []
    },
    {
      "cell_type": "code",
      "metadata": {
        "id": "V3KNAehKr3T8",
        "outputId": "5d4f28f4-0056-4cfc-e5ab-539271d36490",
        "colab": {
          "base_uri": "https://localhost:8080/"
        }
      },
      "source": [
        "df.max()"
      ],
      "execution_count": 123,
      "outputs": [
        {
          "output_type": "execute_result",
          "data": {
            "text/plain": [
              "feature    feature_9\n",
              "score_r    0.0252677\n",
              "score_g    0.0572931\n",
              "score_b    0.0572931\n",
              "dtype: object"
            ]
          },
          "metadata": {
            "tags": []
          },
          "execution_count": 123
        }
      ]
    },
    {
      "cell_type": "code",
      "metadata": {
        "id": "PGoyunlhsieW"
      },
      "source": [
        "sr = train.corrwith(target.target_r, method='spearman')\n",
        "sg = train.corrwith(target.target_g, method='spearman')\n",
        "sb = train.corrwith(target.target_b, method='spearman')"
      ],
      "execution_count": 127,
      "outputs": []
    },
    {
      "cell_type": "code",
      "metadata": {
        "id": "c6YsHU35sFu0",
        "outputId": "767f7404-0b29-4182-b8d0-878e4a4e400f",
        "colab": {
          "base_uri": "https://localhost:8080/"
        }
      },
      "source": [
        "sr.abs().max(), sg.abs().max(), sb.abs().max()"
      ],
      "execution_count": 126,
      "outputs": [
        {
          "output_type": "execute_result",
          "data": {
            "text/plain": [
              "(0.020753757562699135, 0.03439893954224204, 0.045312532274375074)"
            ]
          },
          "metadata": {
            "tags": []
          },
          "execution_count": 126
        }
      ]
    },
    {
      "cell_type": "code",
      "metadata": {
        "id": "8dhGcVtOsKHM"
      },
      "source": [
        ""
      ],
      "execution_count": null,
      "outputs": []
    }
  ]
}