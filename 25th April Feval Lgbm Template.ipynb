{
  "nbformat": 4,
  "nbformat_minor": 0,
  "metadata": {
    "colab": {
      "name": "scratchpad",
      "provenance": [],
      "include_colab_link": true
    },
    "kernelspec": {
      "display_name": "Python 3",
      "name": "python3"
    },
    "widgets": {
      "application/vnd.jupyter.widget-state+json": {
        "fc8bae47e34f4fa6b54bf3a010fc0d35": {
          "model_module": "@jupyter-widgets/controls",
          "model_name": "HBoxModel",
          "state": {
            "_view_name": "HBoxView",
            "_dom_classes": [],
            "_model_name": "HBoxModel",
            "_view_module": "@jupyter-widgets/controls",
            "_model_module_version": "1.5.0",
            "_view_count": null,
            "_view_module_version": "1.5.0",
            "box_style": "",
            "layout": "IPY_MODEL_c395c67b25594a7ca72fdc2e4fae7dd3",
            "_model_module": "@jupyter-widgets/controls",
            "children": [
              "IPY_MODEL_27f6d46c42484c14b6a3ce196f96c32a",
              "IPY_MODEL_bf0729c4ae4145e3ac504887b2a9ed6a"
            ]
          }
        },
        "c395c67b25594a7ca72fdc2e4fae7dd3": {
          "model_module": "@jupyter-widgets/base",
          "model_name": "LayoutModel",
          "state": {
            "_view_name": "LayoutView",
            "grid_template_rows": null,
            "right": null,
            "justify_content": null,
            "_view_module": "@jupyter-widgets/base",
            "overflow": null,
            "_model_module_version": "1.2.0",
            "_view_count": null,
            "flex_flow": null,
            "width": null,
            "min_width": null,
            "border": null,
            "align_items": null,
            "bottom": null,
            "_model_module": "@jupyter-widgets/base",
            "top": null,
            "grid_column": null,
            "overflow_y": null,
            "overflow_x": null,
            "grid_auto_flow": null,
            "grid_area": null,
            "grid_template_columns": null,
            "flex": null,
            "_model_name": "LayoutModel",
            "justify_items": null,
            "grid_row": null,
            "max_height": null,
            "align_content": null,
            "visibility": null,
            "align_self": null,
            "height": null,
            "min_height": null,
            "padding": null,
            "grid_auto_rows": null,
            "grid_gap": null,
            "max_width": null,
            "order": null,
            "_view_module_version": "1.2.0",
            "grid_template_areas": null,
            "object_position": null,
            "object_fit": null,
            "grid_auto_columns": null,
            "margin": null,
            "display": null,
            "left": null
          }
        },
        "27f6d46c42484c14b6a3ce196f96c32a": {
          "model_module": "@jupyter-widgets/controls",
          "model_name": "FloatProgressModel",
          "state": {
            "_view_name": "ProgressView",
            "style": "IPY_MODEL_aa0fa581be204deda8470239e69cfa42",
            "_dom_classes": [],
            "description": "100%",
            "_model_name": "FloatProgressModel",
            "bar_style": "success",
            "max": 200,
            "_view_module": "@jupyter-widgets/controls",
            "_model_module_version": "1.5.0",
            "value": 200,
            "_view_count": null,
            "_view_module_version": "1.5.0",
            "orientation": "horizontal",
            "min": 0,
            "description_tooltip": null,
            "_model_module": "@jupyter-widgets/controls",
            "layout": "IPY_MODEL_d042ba02751d4dd383cf01ec1c98ff60"
          }
        },
        "bf0729c4ae4145e3ac504887b2a9ed6a": {
          "model_module": "@jupyter-widgets/controls",
          "model_name": "HTMLModel",
          "state": {
            "_view_name": "HTMLView",
            "style": "IPY_MODEL_90d8b25eb1404782932cd1cff58e3ba4",
            "_dom_classes": [],
            "description": "",
            "_model_name": "HTMLModel",
            "placeholder": "​",
            "_view_module": "@jupyter-widgets/controls",
            "_model_module_version": "1.5.0",
            "value": " 200/200 [28:22&lt;00:00,  8.51s/it]",
            "_view_count": null,
            "_view_module_version": "1.5.0",
            "description_tooltip": null,
            "_model_module": "@jupyter-widgets/controls",
            "layout": "IPY_MODEL_5bbeb12cbe4a434480b15cb22b8e5e6c"
          }
        },
        "aa0fa581be204deda8470239e69cfa42": {
          "model_module": "@jupyter-widgets/controls",
          "model_name": "ProgressStyleModel",
          "state": {
            "_view_name": "StyleView",
            "_model_name": "ProgressStyleModel",
            "description_width": "initial",
            "_view_module": "@jupyter-widgets/base",
            "_model_module_version": "1.5.0",
            "_view_count": null,
            "_view_module_version": "1.2.0",
            "bar_color": null,
            "_model_module": "@jupyter-widgets/controls"
          }
        },
        "d042ba02751d4dd383cf01ec1c98ff60": {
          "model_module": "@jupyter-widgets/base",
          "model_name": "LayoutModel",
          "state": {
            "_view_name": "LayoutView",
            "grid_template_rows": null,
            "right": null,
            "justify_content": null,
            "_view_module": "@jupyter-widgets/base",
            "overflow": null,
            "_model_module_version": "1.2.0",
            "_view_count": null,
            "flex_flow": null,
            "width": null,
            "min_width": null,
            "border": null,
            "align_items": null,
            "bottom": null,
            "_model_module": "@jupyter-widgets/base",
            "top": null,
            "grid_column": null,
            "overflow_y": null,
            "overflow_x": null,
            "grid_auto_flow": null,
            "grid_area": null,
            "grid_template_columns": null,
            "flex": null,
            "_model_name": "LayoutModel",
            "justify_items": null,
            "grid_row": null,
            "max_height": null,
            "align_content": null,
            "visibility": null,
            "align_self": null,
            "height": null,
            "min_height": null,
            "padding": null,
            "grid_auto_rows": null,
            "grid_gap": null,
            "max_width": null,
            "order": null,
            "_view_module_version": "1.2.0",
            "grid_template_areas": null,
            "object_position": null,
            "object_fit": null,
            "grid_auto_columns": null,
            "margin": null,
            "display": null,
            "left": null
          }
        },
        "90d8b25eb1404782932cd1cff58e3ba4": {
          "model_module": "@jupyter-widgets/controls",
          "model_name": "DescriptionStyleModel",
          "state": {
            "_view_name": "StyleView",
            "_model_name": "DescriptionStyleModel",
            "description_width": "",
            "_view_module": "@jupyter-widgets/base",
            "_model_module_version": "1.5.0",
            "_view_count": null,
            "_view_module_version": "1.2.0",
            "_model_module": "@jupyter-widgets/controls"
          }
        },
        "5bbeb12cbe4a434480b15cb22b8e5e6c": {
          "model_module": "@jupyter-widgets/base",
          "model_name": "LayoutModel",
          "state": {
            "_view_name": "LayoutView",
            "grid_template_rows": null,
            "right": null,
            "justify_content": null,
            "_view_module": "@jupyter-widgets/base",
            "overflow": null,
            "_model_module_version": "1.2.0",
            "_view_count": null,
            "flex_flow": null,
            "width": null,
            "min_width": null,
            "border": null,
            "align_items": null,
            "bottom": null,
            "_model_module": "@jupyter-widgets/base",
            "top": null,
            "grid_column": null,
            "overflow_y": null,
            "overflow_x": null,
            "grid_auto_flow": null,
            "grid_area": null,
            "grid_template_columns": null,
            "flex": null,
            "_model_name": "LayoutModel",
            "justify_items": null,
            "grid_row": null,
            "max_height": null,
            "align_content": null,
            "visibility": null,
            "align_self": null,
            "height": null,
            "min_height": null,
            "padding": null,
            "grid_auto_rows": null,
            "grid_gap": null,
            "max_width": null,
            "order": null,
            "_view_module_version": "1.2.0",
            "grid_template_areas": null,
            "object_position": null,
            "object_fit": null,
            "grid_auto_columns": null,
            "margin": null,
            "display": null,
            "left": null
          }
        }
      }
    }
  },
  "cells": [
    {
      "cell_type": "markdown",
      "metadata": {
        "id": "view-in-github",
        "colab_type": "text"
      },
      "source": [
        "<a href=\"https://colab.research.google.com/github/pratik-poudel/datacrunch/blob/main/25th%20April%20Feval%20Lgbm%20Template.ipynb\" target=\"_parent\"><img src=\"https://colab.research.google.com/assets/colab-badge.svg\" alt=\"Open In Colab\"/></a>"
      ]
    },
    {
      "cell_type": "code",
      "metadata": {
        "id": "lIYdn1woOS1n"
      },
      "source": [
        "import numpy as np\n",
        "import pandas as pd\n",
        "from collections import defaultdict\n",
        "from tqdm.notebook import tqdm\n",
        "from matplotlib import pyplot as plt\n",
        "import warnings\n",
        "warnings.filterwarnings('ignore')\n",
        "import seaborn as sns\n",
        "import gc\n",
        "# pd.options.display.float_format| = \"{:.2f}\".format\n",
        "pd.options.display.max_columns = 500\n",
        "\n",
        "\n",
        "from sklearn.model_selection import train_test_split\n",
        "from sklearn.metrics import accuracy_score \n",
        "from sklearn.metrics import classification_report \n",
        "import requests\n",
        "from scipy import stats\n",
        "\n",
        "import lightgbm as lgb\n",
        "\n",
        "from tensorflow.keras.callbacks import EarlyStopping, ModelCheckpoint\n",
        "\n",
        "import sklearn\n",
        "from sklearn import *\n",
        "from sklearn.experimental import enable_hist_gradient_boosting\n",
        "from sklearn.utils.testing import all_estimators\n",
        "from sklearn.base import RegressorMixin\n",
        "from sklearn.model_selection import train_test_split\n",
        "from sklearn.metrics import accuracy_score \n",
        "from sklearn.metrics import classification_report \n",
        "from sklearn.metrics import make_scorer\n",
        "from sklearn.model_selection import RepeatedKFold, cross_val_score, KFold\n",
        "from sklearn.multioutput import RegressorChain\n",
        "\n",
        "\n",
        "import requests\n",
        "import time\n",
        "from scipy import stats\n",
        "\n",
        "import lightgbm as lgb\n",
        "import xgboost as xgb"
      ],
      "execution_count": 1,
      "outputs": []
    },
    {
      "cell_type": "code",
      "metadata": {
        "id": "hUj6gu_Bd9Gh"
      },
      "source": [
        "train_datalink_X = 'https://tournament.datacrunch.com/data/X_train.csv'  \n",
        "train_datalink_y = 'https://tournament.datacrunch.com/data/y_train.csv'\n",
        "hackathon_data_link = 'https://tournament.datacrunch.com/data/X_test.csv'"
      ],
      "execution_count": 2,
      "outputs": []
    },
    {
      "cell_type": "code",
      "metadata": {
        "id": "_KBSz1iFd-0q"
      },
      "source": [
        "train = pd.read_csv(train_datalink_X)\n",
        "target = pd.read_csv(train_datalink_y)\n",
        "test = pd.read_csv(hackathon_data_link)"
      ],
      "execution_count": 3,
      "outputs": []
    },
    {
      "cell_type": "code",
      "metadata": {
        "colab": {
          "base_uri": "https://localhost:8080/"
        },
        "id": "Upr5sJZNuiK-",
        "outputId": "32501b7e-20d3-4335-d05c-ac24327382d6"
      },
      "source": [
        "cat_feature = []\n",
        "for i in train.columns:\n",
        "    val = train[i].value_counts()\n",
        "    if val.shape[0] == 2:\n",
        "        cat_feature.append(i)\n",
        "cat_feature"
      ],
      "execution_count": 4,
      "outputs": [
        {
          "output_type": "execute_result",
          "data": {
            "text/plain": [
              "['Feature_8', 'Feature_9', 'Feature_10', 'Feature_11']"
            ]
          },
          "metadata": {
            "tags": []
          },
          "execution_count": 4
        }
      ]
    },
    {
      "cell_type": "code",
      "metadata": {
        "id": "YDsHincId_wE"
      },
      "source": [
        "all_features = [f for f in train.columns if \"Feature\" in f]"
      ],
      "execution_count": 5,
      "outputs": []
    },
    {
      "cell_type": "code",
      "metadata": {
        "id": "ooBL73FNyeir"
      },
      "source": [
        "num_features = [f for f in all_features if f not in cat_feature]"
      ],
      "execution_count": 6,
      "outputs": []
    },
    {
      "cell_type": "code",
      "metadata": {
        "id": "MFweuEKJzEsx"
      },
      "source": [
        "def add_features(df):\n",
        "    for f in df[num_features].columns:\n",
        "        df['pos_'+str(f)] = df[f]+abs(df[f].min())+1\n",
        "    for f in [f for f in df.columns if \"pos\" in f]:\n",
        "        df['log_'+str(f[4:])] = np.log(df[str(f)])\n",
        "    for f in [f for f in df.columns if \"pos\" in f]:\n",
        "        df['sqrt_'+str(f[4:])] = np.sqrt(df[str(f)])\n",
        "    df.drop(columns = [f for f in df.columns if \"pos\" in f], inplace=True)\n",
        "    return df"
      ],
      "execution_count": 7,
      "outputs": []
    },
    {
      "cell_type": "code",
      "metadata": {
        "id": "aiDqNJqlzTbS"
      },
      "source": [
        "train = add_features(train)\n",
        "test = add_features(test)"
      ],
      "execution_count": 8,
      "outputs": []
    },
    {
      "cell_type": "code",
      "metadata": {
        "id": "-RFy3lGsiGyC",
        "outputId": "bda8e64c-11e9-4de2-ac71-fe8e2a983fa6",
        "colab": {
          "base_uri": "https://localhost:8080/"
        }
      },
      "source": [
        "ocorr = (train.corrwith(target.target_r).abs() + train.corrwith(target.target_g).abs() + train.corrwith(target.target_b).abs() )/3\n",
        "ocorr.sort_values(ascending=False)"
      ],
      "execution_count": 61,
      "outputs": [
        {
          "output_type": "execute_result",
          "data": {
            "text/plain": [
              "log_Feature_4      0.134832\n",
              "sqrt_Feature_4     0.133752\n",
              "Feature_4          0.132467\n",
              "log_Feature_14     0.121922\n",
              "sqrt_Feature_14    0.121341\n",
              "Feature_14         0.120519\n",
              "Feature_13         0.073641\n",
              "Feature_12         0.070392\n",
              "sqrt_Feature_13    0.069210\n",
              "sqrt_Feature_12    0.068702\n",
              "log_Feature_12     0.066918\n",
              "log_Feature_13     0.064614\n",
              "Feature_10         0.059475\n",
              "Feature_11         0.052461\n",
              "Feature_9          0.045778\n",
              "log_Feature_6      0.043051\n",
              "sqrt_Feature_6     0.042681\n",
              "Feature_6          0.042187\n",
              "Feature_1          0.032297\n",
              "sqrt_Feature_1     0.030877\n",
              "log_Feature_1      0.029371\n",
              "Feature_2          0.028854\n",
              "sqrt_Feature_2     0.027374\n",
              "log_Feature_2      0.025810\n",
              "Feature_8          0.025185\n",
              "Feature_5          0.021458\n",
              "sqrt_Feature_5     0.021145\n",
              "Feature_7          0.020798\n",
              "log_Feature_5      0.020783\n",
              "sqrt_Feature_7     0.020287\n",
              "log_Feature_7      0.019730\n",
              "log_Feature_3      0.012204\n",
              "sqrt_Feature_3     0.011257\n",
              "Feature_3          0.010237\n",
              "dtype: float64"
            ]
          },
          "metadata": {
            "tags": []
          },
          "execution_count": 61
        }
      ]
    },
    {
      "cell_type": "code",
      "metadata": {
        "id": "gRzo4KHbdrI1"
      },
      "source": [
        "df = train.copy(deep=True)"
      ],
      "execution_count": 10,
      "outputs": []
    },
    {
      "cell_type": "code",
      "metadata": {
        "id": "Ru3W9pVCdy-S"
      },
      "source": [
        "sqrt_feature = [f for f in df.columns if \"sqrt\" in f]\n",
        "log_feature= [f for f in df.columns if \"log\" in f]\n",
        "sqrt_log_feature = sqrt_feature + log_feature"
      ],
      "execution_count": 11,
      "outputs": []
    },
    {
      "cell_type": "code",
      "metadata": {
        "id": "6wktxpJKd7pj"
      },
      "source": [
        "# power_corr = []\n",
        "# df = pd.DataFrame()\n",
        "# for i in np.linspace(2, 20, 50):\n",
        "#     print(i)\n",
        "#     for f in sqrt_log_feature:\n",
        "#         print(f)\n",
        "#         df[f'power_{i}' +str(f)] = np.power(train[f], i)\n",
        "#     c_r = df.corrwith(target.target_r).abs()\n",
        "#     c_g = df.corrwith(target.target_g).abs()\n",
        "#     c_b = df.corrwith(target.target_b).abs()\n",
        "#     power_corr.append((c_r + c_g + c_b)/3)\n",
        "# pd.concat(power_corr).sort_values(ascending=False)"
      ],
      "execution_count": 59,
      "outputs": []
    },
    {
      "cell_type": "code",
      "metadata": {
        "id": "GzqSXvHGvZ8L"
      },
      "source": [
        "from sklearn.preprocessing import PolynomialFeatures\n",
        "def polynomial_features(df):\n",
        "\n",
        "    poly = PolynomialFeatures(degree=4, interaction_only=True,include_bias=False)\n",
        "    sqrt_feature = [f for f in df.columns if \"sqrt\" in f]\n",
        "    log_feature= [f for f in df.columns if \"log\" in f]\n",
        "    sqrt_log_feature = sqrt_feature + log_feature\n",
        "    emb = poly.fit_transform(df[sqrt_log_feature].values)\n",
        "    poly_df = pd.DataFrame(emb, columns=[f'poly_{i}' for i in  range(emb.shape[1]) ])\n",
        "    concat_df = pd.concat([df, poly_df], axis=1)\n",
        "    return concat_df"
      ],
      "execution_count": 148,
      "outputs": []
    },
    {
      "cell_type": "code",
      "metadata": {
        "id": "cspCtbub7Fwe"
      },
      "source": [
        "train_df = polynomial_features(train)\n",
        "test_df = polynomial_features(test)"
      ],
      "execution_count": 149,
      "outputs": []
    },
    {
      "cell_type": "code",
      "metadata": {
        "id": "LMuR1C3q9fyb"
      },
      "source": [
        "corr_r = train_df.corrwith(target.target_r).abs()\n",
        "corr_g = train_df.corrwith(target.target_g).abs()\n",
        "corr_b = train_df.corrwith(target.target_b).abs()\n",
        "overall_corr = (corr_r + corr_g + corr_b)/3\n",
        "overall_corr.sort_values(ascending=False, inplace=True)\n",
        "corr_feat = overall_corr[overall_corr > 0.135].index.tolist()"
      ],
      "execution_count": 151,
      "outputs": []
    },
    {
      "cell_type": "code",
      "metadata": {
        "id": "6fRyIym3mvng"
      },
      "source": [
        "!pip install optuna"
      ],
      "execution_count": null,
      "outputs": []
    },
    {
      "cell_type": "code",
      "metadata": {
        "id": "Hzvc1oVGmveW"
      },
      "source": [
        "def spearman_r(preds, dtrain):\n",
        "    labels = dtrain.get_label()\n",
        "    score = stats.spearmanr(labels, preds)[0]\n",
        "    return 'spearman_r', score, True\n",
        "def spearman_g(preds, dtrain):\n",
        "    labels = dtrain.get_label()\n",
        "    score = stats.spearmanr(labels, preds)[0]\n",
        "    return 'spearman_g', score, True\n",
        "def spearman_b(preds, dtrain):\n",
        "    labels = dtrain.get_label()\n",
        "    score = stats.spearmanr(labels, preds)[0]\n",
        "    return 'spearman_b', score, True"
      ],
      "execution_count": 105,
      "outputs": []
    },
    {
      "cell_type": "code",
      "metadata": {
        "colab": {
          "base_uri": "https://localhost:8080/",
          "height": 321,
          "referenced_widgets": [
            "fc8bae47e34f4fa6b54bf3a010fc0d35",
            "c395c67b25594a7ca72fdc2e4fae7dd3",
            "27f6d46c42484c14b6a3ce196f96c32a",
            "bf0729c4ae4145e3ac504887b2a9ed6a",
            "aa0fa581be204deda8470239e69cfa42",
            "d042ba02751d4dd383cf01ec1c98ff60",
            "90d8b25eb1404782932cd1cff58e3ba4",
            "5bbeb12cbe4a434480b15cb22b8e5e6c"
          ]
        },
        "id": "hKiWfnYq91z1",
        "outputId": "c98199c1-2d36-4fa9-f35c-71772a8c8c61"
      },
      "source": [
        "%%time\n",
        "import optuna\n",
        "kf = KFold(n_splits=5, random_state=60)\n",
        "X =  train\n",
        "y = target\n",
        "\n",
        "N_TRIALS = 200\n",
        "def objective(trial):    \n",
        "    \n",
        "    params = {\n",
        "    'num_leaves': trial.suggest_int('num_leaves', 4, 64),\n",
        "    'boosting_type': 'gbdt',\n",
        "    'objective': 'regression',\n",
        "    'metric': 'custom',\n",
        "    'max_depth': trial.suggest_int('max_depth', 4, 16),\n",
        "    'min_child_weight': trial.suggest_int('min_child_weight', 1, 16),\n",
        "    'feature_fraction': trial.suggest_uniform('feature_fraction', 0.4, 1.0),\n",
        "    'bagging_fraction': trial.suggest_uniform('bagging_fraction', 0.4, 1.0),\n",
        "    'bagging_freq': trial.suggest_int('bagging_freq', 1, 8),\n",
        "    'min_child_samples': trial.suggest_int('min_child_samples', 4, 80),\n",
        "    'lambda_l1': trial.suggest_loguniform('lambda_l1', 1e-8, 1.0),\n",
        "    'lambda_l2': trial.suggest_loguniform('lambda_l2', 1e-8, 1.0),\n",
        "    'learning_rate' : trial.suggest_uniform('learning_rate', 0.0001, 0.99),\n",
        "    'max_bin': trial.suggest_int('max_bin', 50, 900),\n",
        "    'early_stopping_rounds': 100, \n",
        "    }\n",
        "\n",
        "\n",
        "    oof_pred_r = np.zeros(len(X))\n",
        "    oof_pred_g = np.zeros(len(X))\n",
        "    oof_pred_b = np.zeros(len(X))\n",
        "    kf = KFold(n_splits=3, random_state=60)\n",
        "    \n",
        "    cnt = 1\n",
        "    for tr_ind , val_ind in kf.split(X, y):\n",
        "        # print(f'Fold:{cnt}, Train set: {len(tr_ind)}, Test set:{len(val_ind)}') \n",
        "        \n",
        "        X_train, X_val = X.iloc[tr_ind], X.iloc[val_ind]\n",
        "        y_train, y_val = y.iloc[tr_ind], y.iloc[val_ind]\n",
        "\n",
        "        tr_data_r = lgb.Dataset(X_train, y_train.target_r)\n",
        "        va_data_r = lgb.Dataset(X_val, y_val.target_r)\n",
        "\n",
        "        tr_data_g = lgb.Dataset(X_train, y_train.target_g)\n",
        "        va_data_g = lgb.Dataset(X_val, y_val.target_g)\n",
        "\n",
        "        tr_data_b = lgb.Dataset(X_train, y_train.target_b)\n",
        "        va_data_b = lgb.Dataset(X_val, y_val.target_b)\n",
        "        \n",
        "        model_r = lgb.train(params, tr_data_r, valid_sets=[tr_data_r, va_data_r], verbose_eval=None, num_boost_round=5000, \n",
        "                            early_stopping_rounds=100, categorical_feature=cat_feature, feval=spearman_r)\n",
        "        # print(model_r)\n",
        "        model_g = lgb.train(params, tr_data_g, valid_sets=[tr_data_g, va_data_g], verbose_eval=None, num_boost_round=5000, \n",
        "                            early_stopping_rounds=100, categorical_feature=cat_feature, feval= spearman_g)\n",
        "        # print(model_g)\n",
        "        model_b = lgb.train(params, tr_data_b, valid_sets=[tr_data_b, va_data_b], verbose_eval=None, num_boost_round=5000, \n",
        "                            early_stopping_rounds=100, categorical_feature=cat_feature, feval=spearman_b)\n",
        "        # print(model_b)\n",
        "        # print(\" \")\n",
        "\n",
        "        val_pred_r = model_r.predict(X_val)\n",
        "        val_pred_g = model_g.predict(X_val)\n",
        "        val_pred_b = model_b.predict(X_val)\n",
        "\n",
        "        oof_pred_r[val_ind] = val_pred_r\n",
        "        oof_pred_g[val_ind] = val_pred_g\n",
        "        oof_pred_b[val_ind] = val_pred_b\n",
        "\n",
        "\n",
        "        cnt += 1\n",
        "    oof_pred_df = pd.concat([pd.DataFrame(oof_pred_r, columns=['target_r']),\n",
        "                        pd.DataFrame(oof_pred_g, columns=['target_g']),\n",
        "                        pd.DataFrame(oof_pred_b, columns=['target_b'])], axis=1)\n",
        "\n",
        "    # display(oof_pred_df)\n",
        "    score_r = stats.spearmanr(oof_pred_df.target_r, target.target_r)[0]\n",
        "    score_g = stats.spearmanr(oof_pred_df.target_g, target.target_g)[0]\n",
        "    score_b = stats.spearmanr(oof_pred_df.target_b, target.target_b)[0]\n",
        "\n",
        "    score = (score_r+score_g+score_b)/ 3\n",
        "    from google.colab import output\n",
        "    output.clear()\n",
        "    return score\n",
        "study = optuna.create_study(direction='maximize')\n",
        "study.optimize(objective, n_trials=N_TRIALS, show_progress_bar= True)\n",
        "display(study.best_params)\n",
        "display(study.best_trial.value)"
      ],
      "execution_count": 113,
      "outputs": [
        {
          "output_type": "stream",
          "text": [
            "\r\u001b[32m[I 2021-04-25 16:49:53,509]\u001b[0m Trial 199 finished with value: 0.11461719900779348 and parameters: {'num_leaves': 11, 'max_depth': 9, 'min_child_weight': 3, 'feature_fraction': 0.416617262195194, 'bagging_fraction': 0.9287666811742312, 'bagging_freq': 2, 'min_child_samples': 39, 'lambda_l1': 0.3067546040791782, 'lambda_l2': 0.09467496144934039, 'learning_rate': 0.762111216117457, 'max_bin': 502}. Best is trial 139 with value: 0.14563170171397788.\u001b[0m\n",
            "\n"
          ],
          "name": "stdout"
        },
        {
          "output_type": "display_data",
          "data": {
            "text/plain": [
              "{'bagging_fraction': 0.8768723852153937,\n",
              " 'bagging_freq': 2,\n",
              " 'feature_fraction': 0.4316657803439479,\n",
              " 'lambda_l1': 2.9918794057800284e-05,\n",
              " 'lambda_l2': 0.013354439316086594,\n",
              " 'learning_rate': 0.8576187736126148,\n",
              " 'max_bin': 513,\n",
              " 'max_depth': 6,\n",
              " 'min_child_samples': 80,\n",
              " 'min_child_weight': 8,\n",
              " 'num_leaves': 9}"
            ]
          },
          "metadata": {
            "tags": []
          }
        },
        {
          "output_type": "display_data",
          "data": {
            "text/plain": [
              "0.14563170171397788"
            ]
          },
          "metadata": {
            "tags": []
          }
        },
        {
          "output_type": "stream",
          "text": [
            "CPU times: user 55min 25s, sys: 16.6 s, total: 55min 42s\n",
            "Wall time: 28min 22s\n"
          ],
          "name": "stdout"
        }
      ]
    },
    {
      "cell_type": "code",
      "metadata": {
        "colab": {
          "base_uri": "https://localhost:8080/"
        },
        "id": "-Jqjz50ZBUnT",
        "outputId": "9ab99220-4853-4d6d-9053-84f8b9e6b25f"
      },
      "source": [
        "params = {\n",
        "    'boosting_type': 'gbdt',\n",
        "    'objective': 'regression',\n",
        "    'metric': 'custom',\n",
        "    'bagging_fraction': 0.8768723852153937,\n",
        " 'bagging_freq': 2,\n",
        " 'feature_fraction': 0.4316657803439479,\n",
        " 'lambda_l1': 2.9918794057800284e-05,\n",
        " 'lambda_l2': 0.013354439316086594,\n",
        " 'learning_rate': 0.8576187736126148,\n",
        " 'max_bin': 513,\n",
        " 'max_depth': 6,\n",
        " 'min_child_samples': 80,\n",
        " 'min_child_weight': 8,\n",
        " 'num_leaves': 9}\n",
        "\n",
        "X =  train\n",
        "y = target\n",
        "\n",
        "original_test_preds_r = np.zeros(len(test))\n",
        "original_test_preds_g = np.zeros(len(test))\n",
        "original_test_preds_b = np.zeros(len(test))\n",
        "\n",
        "\n",
        "kf = KFold(n_splits=5, random_state=60)\n",
        "\n",
        "cnt = 1\n",
        "for tr_ind , val_ind in kf.split(X, y):\n",
        "    # print(f'Fold:{cnt}, Train set: {len(tr_ind)}, Test set:{len(val_ind)}') \n",
        "    \n",
        "    X_train, X_val = X.iloc[tr_ind], X.iloc[val_ind]\n",
        "    y_train, y_val = y.iloc[tr_ind], y.iloc[val_ind]\n",
        "\n",
        "    tr_data_r = lgb.Dataset(X_train, y_train.target_r)\n",
        "    va_data_r = lgb.Dataset(X_val, y_val.target_r)\n",
        "\n",
        "    tr_data_g = lgb.Dataset(X_train, y_train.target_g)\n",
        "    va_data_g = lgb.Dataset(X_val, y_val.target_g)\n",
        "\n",
        "    tr_data_b = lgb.Dataset(X_train, y_train.target_b)\n",
        "    va_data_b = lgb.Dataset(X_val, y_val.target_b)\n",
        "    \n",
        "    model_r = lgb.train(params, tr_data_r, valid_sets=[tr_data_r, va_data_r], verbose_eval=100, num_boost_round=5000, \n",
        "                        early_stopping_rounds=100, categorical_feature=cat_feature, feval=spearman_r)\n",
        "    # print(model_r)\n",
        "    model_g = lgb.train(params, tr_data_g, valid_sets=[tr_data_g, va_data_g], verbose_eval=100, num_boost_round=5000, \n",
        "                        early_stopping_rounds=100, categorical_feature=cat_feature, feval= spearman_g)\n",
        "    # print(model_g)\n",
        "    model_b = lgb.train(params, tr_data_b, valid_sets=[tr_data_b, va_data_b], verbose_eval=100, num_boost_round=5000, \n",
        "                        early_stopping_rounds=100, categorical_feature=cat_feature, feval=spearman_b)\n",
        "\n",
        "\n",
        "    original_test_preds_r += model_r.predict(test)\n",
        "    original_test_preds_g += model_g.predict(test)\n",
        "    original_test_preds_b += model_b.predict(test)\n",
        "\n",
        "original_test_preds_r = original_test_preds_r / kf.n_splits\n",
        "original_test_preds_g = original_test_preds_g / kf.n_splits\n",
        "original_test_preds_b = original_test_preds_b / kf.n_splits"
      ],
      "execution_count": 116,
      "outputs": [
        {
          "output_type": "stream",
          "text": [
            "Training until validation scores don't improve for 100 rounds.\n",
            "[100]\ttraining's spearman_r: 0.546264\tvalid_1's spearman_r: 0.0179416\n",
            "Early stopping, best iteration is:\n",
            "[5]\ttraining's spearman_r: 0.28529\tvalid_1's spearman_r: 0.0518272\n",
            "Training until validation scores don't improve for 100 rounds.\n",
            "[100]\ttraining's spearman_g: 0.600691\tvalid_1's spearman_g: 0.15066\n",
            "[200]\ttraining's spearman_g: 0.665422\tvalid_1's spearman_g: 0.157147\n",
            "Early stopping, best iteration is:\n",
            "[157]\ttraining's spearman_g: 0.642341\tvalid_1's spearman_g: 0.168814\n",
            "Training until validation scores don't improve for 100 rounds.\n",
            "[100]\ttraining's spearman_b: 0.631063\tvalid_1's spearman_b: 0.290454\n",
            "Early stopping, best iteration is:\n",
            "[6]\ttraining's spearman_b: 0.378455\tvalid_1's spearman_b: 0.334591\n",
            "Training until validation scores don't improve for 100 rounds.\n",
            "[100]\ttraining's spearman_r: 0.51718\tvalid_1's spearman_r: 0.120866\n",
            "Early stopping, best iteration is:\n",
            "[34]\ttraining's spearman_r: 0.414631\tvalid_1's spearman_r: 0.162162\n",
            "Training until validation scores don't improve for 100 rounds.\n",
            "[100]\ttraining's spearman_g: 0.587066\tvalid_1's spearman_g: 0.227719\n",
            "Early stopping, best iteration is:\n",
            "[42]\ttraining's spearman_g: 0.505747\tvalid_1's spearman_g: 0.236983\n",
            "Training until validation scores don't improve for 100 rounds.\n",
            "[100]\ttraining's spearman_b: 0.655423\tvalid_1's spearman_b: 0.274587\n",
            "Early stopping, best iteration is:\n",
            "[1]\ttraining's spearman_b: 0.276492\tvalid_1's spearman_b: 0.281039\n",
            "Training until validation scores don't improve for 100 rounds.\n",
            "[100]\ttraining's spearman_r: 0.530458\tvalid_1's spearman_r: -0.0105003\n",
            "Early stopping, best iteration is:\n",
            "[8]\ttraining's spearman_r: 0.315509\tvalid_1's spearman_r: 0.00331123\n",
            "Training until validation scores don't improve for 100 rounds.\n",
            "[100]\ttraining's spearman_g: 0.573883\tvalid_1's spearman_g: 0.0783175\n",
            "[200]\ttraining's spearman_g: 0.632333\tvalid_1's spearman_g: 0.113663\n",
            "[300]\ttraining's spearman_g: 0.664375\tvalid_1's spearman_g: 0.10876\n",
            "Early stopping, best iteration is:\n",
            "[211]\ttraining's spearman_g: 0.636389\tvalid_1's spearman_g: 0.121275\n",
            "Training until validation scores don't improve for 100 rounds.\n",
            "[100]\ttraining's spearman_b: 0.644707\tvalid_1's spearman_b: 0.159723\n",
            "[200]\ttraining's spearman_b: 0.694699\tvalid_1's spearman_b: 0.171952\n",
            "[300]\ttraining's spearman_b: 0.723693\tvalid_1's spearman_b: 0.164555\n",
            "Early stopping, best iteration is:\n",
            "[234]\ttraining's spearman_b: 0.706722\tvalid_1's spearman_b: 0.18385\n",
            "Training until validation scores don't improve for 100 rounds.\n",
            "[100]\ttraining's spearman_r: 0.514222\tvalid_1's spearman_r: -0.0219242\n",
            "Early stopping, best iteration is:\n",
            "[1]\ttraining's spearman_r: 0.170314\tvalid_1's spearman_r: 0.0308549\n",
            "Training until validation scores don't improve for 100 rounds.\n",
            "[100]\ttraining's spearman_g: 0.576301\tvalid_1's spearman_g: 0.0816241\n",
            "Early stopping, best iteration is:\n",
            "[2]\ttraining's spearman_g: 0.337951\tvalid_1's spearman_g: 0.119848\n",
            "Training until validation scores don't improve for 100 rounds.\n",
            "[100]\ttraining's spearman_b: 0.63559\tvalid_1's spearman_b: 0.249932\n",
            "Early stopping, best iteration is:\n",
            "[79]\ttraining's spearman_b: 0.615562\tvalid_1's spearman_b: 0.261399\n",
            "Training until validation scores don't improve for 100 rounds.\n",
            "[100]\ttraining's spearman_r: 0.514112\tvalid_1's spearman_r: 0.0512881\n",
            "Early stopping, best iteration is:\n",
            "[20]\ttraining's spearman_r: 0.369958\tvalid_1's spearman_r: 0.0607949\n",
            "Training until validation scores don't improve for 100 rounds.\n",
            "[100]\ttraining's spearman_g: 0.559162\tvalid_1's spearman_g: 0.0945187\n",
            "Early stopping, best iteration is:\n",
            "[58]\ttraining's spearman_g: 0.5112\tvalid_1's spearman_g: 0.115078\n",
            "Training until validation scores don't improve for 100 rounds.\n",
            "[100]\ttraining's spearman_b: 0.635676\tvalid_1's spearman_b: 0.16623\n",
            "Early stopping, best iteration is:\n",
            "[59]\ttraining's spearman_b: 0.596018\tvalid_1's spearman_b: 0.178788\n"
          ],
          "name": "stdout"
        }
      ]
    },
    {
      "cell_type": "code",
      "metadata": {
        "id": "v5J83KXK89yR"
      },
      "source": [
        " prediction = pd.concat([pd.DataFrame(original_test_preds_r, columns=['target_r']),\n",
        "                    pd.DataFrame(original_test_preds_g, columns=['target_g']),\n",
        "                    pd.DataFrame(original_test_preds_b, columns=['target_b'])], axis=1)"
      ],
      "execution_count": 120,
      "outputs": []
    },
    {
      "cell_type": "code",
      "metadata": {
        "id": "psiqCY2U_EPO",
        "outputId": "b8deaec8-974f-4b7f-9e23-05f613c6b18b",
        "colab": {
          "base_uri": "https://localhost:8080/"
        }
      },
      "source": [
        "# prediction[prediction['target_g'] > 1]\n",
        "for i in prediction.columns:\n",
        "    print(prediction[i].nunique())"
      ],
      "execution_count": 126,
      "outputs": [
        {
          "output_type": "stream",
          "text": [
            "7469\n",
            "8106\n",
            "8106\n"
          ],
          "name": "stdout"
        }
      ]
    },
    {
      "cell_type": "code",
      "metadata": {
        "id": "idxRE8bN_QVD",
        "outputId": "a980bcba-5063-4d81-ea84-f588b7b9160e",
        "colab": {
          "base_uri": "https://localhost:8080/",
          "height": 287
        }
      },
      "source": [
        "prediction.describe()"
      ],
      "execution_count": 124,
      "outputs": [
        {
          "output_type": "execute_result",
          "data": {
            "text/html": [
              "<div>\n",
              "<style scoped>\n",
              "    .dataframe tbody tr th:only-of-type {\n",
              "        vertical-align: middle;\n",
              "    }\n",
              "\n",
              "    .dataframe tbody tr th {\n",
              "        vertical-align: top;\n",
              "    }\n",
              "\n",
              "    .dataframe thead th {\n",
              "        text-align: right;\n",
              "    }\n",
              "</style>\n",
              "<table border=\"1\" class=\"dataframe\">\n",
              "  <thead>\n",
              "    <tr style=\"text-align: right;\">\n",
              "      <th></th>\n",
              "      <th>target_r</th>\n",
              "      <th>target_g</th>\n",
              "      <th>target_b</th>\n",
              "    </tr>\n",
              "  </thead>\n",
              "  <tbody>\n",
              "    <tr>\n",
              "      <th>count</th>\n",
              "      <td>12910.000000</td>\n",
              "      <td>12910.000000</td>\n",
              "      <td>12910.000000</td>\n",
              "    </tr>\n",
              "    <tr>\n",
              "      <th>mean</th>\n",
              "      <td>0.553952</td>\n",
              "      <td>0.596725</td>\n",
              "      <td>0.536083</td>\n",
              "    </tr>\n",
              "    <tr>\n",
              "      <th>std</th>\n",
              "      <td>0.075406</td>\n",
              "      <td>0.162210</td>\n",
              "      <td>0.139080</td>\n",
              "    </tr>\n",
              "    <tr>\n",
              "      <th>min</th>\n",
              "      <td>0.240885</td>\n",
              "      <td>0.036480</td>\n",
              "      <td>0.025182</td>\n",
              "    </tr>\n",
              "    <tr>\n",
              "      <th>25%</th>\n",
              "      <td>0.508818</td>\n",
              "      <td>0.494754</td>\n",
              "      <td>0.455312</td>\n",
              "    </tr>\n",
              "    <tr>\n",
              "      <th>50%</th>\n",
              "      <td>0.566549</td>\n",
              "      <td>0.620659</td>\n",
              "      <td>0.548177</td>\n",
              "    </tr>\n",
              "    <tr>\n",
              "      <th>75%</th>\n",
              "      <td>0.606020</td>\n",
              "      <td>0.715685</td>\n",
              "      <td>0.626146</td>\n",
              "    </tr>\n",
              "    <tr>\n",
              "      <th>max</th>\n",
              "      <td>0.768622</td>\n",
              "      <td>1.151043</td>\n",
              "      <td>0.957670</td>\n",
              "    </tr>\n",
              "  </tbody>\n",
              "</table>\n",
              "</div>"
            ],
            "text/plain": [
              "           target_r      target_g      target_b\n",
              "count  12910.000000  12910.000000  12910.000000\n",
              "mean       0.553952      0.596725      0.536083\n",
              "std        0.075406      0.162210      0.139080\n",
              "min        0.240885      0.036480      0.025182\n",
              "25%        0.508818      0.494754      0.455312\n",
              "50%        0.566549      0.620659      0.548177\n",
              "75%        0.606020      0.715685      0.626146\n",
              "max        0.768622      1.151043      0.957670"
            ]
          },
          "metadata": {
            "tags": []
          },
          "execution_count": 124
        }
      ]
    },
    {
      "cell_type": "code",
      "metadata": {
        "colab": {
          "base_uri": "https://localhost:8080/",
          "height": 761
        },
        "id": "-T-iaKGJRxm1",
        "outputId": "9c252f0f-c607-4767-d457-a8e190cf5b3a"
      },
      "source": [
        "prediction['target_r'].plot(kind='hist')\n",
        "plt.show()\n",
        "prediction['target_g'].plot(kind='hist')\n",
        "plt.show()\n",
        "prediction['target_b'].plot(kind='hist')\n",
        "plt.show()"
      ],
      "execution_count": 121,
      "outputs": [
        {
          "output_type": "display_data",
          "data": {
            "image/png": "[encoded data removed]",
            "text/plain": [
              "<Figure size 432x288 with 1 Axes>"
            ]
          },
          "metadata": {
            "tags": [],
            "needs_background": "light"
          }
        },
        {
          "output_type": "display_data",
          "data": {
            "image/png": "[encoded data removed]",
            "text/plain": [
              "<Figure size 432x288 with 1 Axes>"
            ]
          },
          "metadata": {
            "tags": [],
            "needs_background": "light"
          }
        },
        {
          "output_type": "display_data",
          "data": {
            "image/png": "[encoded data removed]",
            "text/plain": [
              "<Figure size 432x288 with 1 Axes>"
            ]
          },
          "metadata": {
            "tags": [],
            "needs_background": "light"
          }
        }
      ]
    },
    {
      "cell_type": "code",
      "metadata": {
        "colab": {
          "base_uri": "https://localhost:8080/"
        },
        "id": "vIJInkGiR2yU",
        "outputId": "cd1730a4-0d72-4cd6-f533-2dff379f5aa4"
      },
      "source": [
        "API_KEY = \"0GIskIC9Rd1I8sMw6nStutbIbMx7AaZzAyNfuMOVAVWgJtNa1IVQHZAD3WPj\" # <- HERE\n",
        "\n",
        "r = requests.post(\"https://tournament.datacrunch.com/api/submission\",\n",
        "    files = {\n",
        "        \"file\": (\"x\", prediction.to_csv().encode('ascii'))\n",
        "    },\n",
        "    data = {\n",
        "        \"apiKey\": API_KEY\n",
        "    },\n",
        ")\n",
        "\n",
        "if r.status_code == 200:\n",
        "    print(\"Submission submitted :)\")\n",
        "elif r.status_code == 423:\n",
        "    print(\"ERR: Submissions are close\")\n",
        "    print(\"You can only submit during rounds eg: Friday 7pm GMT+1 to Sunday midnight GMT+1.\")\n",
        "    print(\"Or the server is currently crunching the submitted files, please wait some time before retrying.\")\n",
        "elif r.status_code == 422:\n",
        "    print(\"ERR: API Key is missing or empty\")\n",
        "    print(\"Did you forget to fill the API_KEY variable?\")\n",
        "elif r.status_code == 404:\n",
        "    print(\"ERR: Unknown API Key\")\n",
        "    print(\"You should check that the provided API key is valid and is the same as the one you've received by email.\")\n",
        "elif r.status_code == 400:\n",
        "    print(\"ERR: The file must not be empty\")\n",
        "    print(\"You have send a empty file.\")\n",
        "elif r.status_code == 401:\n",
        "    print(\"ERR: Your email hasn't been verified\")\n",
        "    print(\"Please verify your email or contact a cruncher.\")\n",
        "elif r.status_code == 429:\n",
        "    print(\"ERR: Too many submissions\")\n",
        "else:\n",
        "    print(\"ERR: Server returned: \" + str(r.status_code))\n",
        "    print(\"Ouch! It seems that we were not expecting this kind of result from the server, if the probleme persist, contact a cruncher.\")"
      ],
      "execution_count": 62,
      "outputs": [
        {
          "output_type": "stream",
          "text": [
            "Submission submitted :)\n"
          ],
          "name": "stdout"
        }
      ]
    },
    {
      "cell_type": "code",
      "metadata": {
        "id": "yTzOw8JKR7_W"
      },
      "source": [
        ""
      ],
      "execution_count": null,
      "outputs": []
    }
  ]
}