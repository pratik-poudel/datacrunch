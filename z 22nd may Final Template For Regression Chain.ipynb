{
  "nbformat": 4,
  "nbformat_minor": 0,
  "metadata": {
    "colab": {
      "name": "scratchpad",
      "provenance": [],
      "machine_shape": "hm",
      "include_colab_link": true
    },
    "kernelspec": {
      "display_name": "Python 3",
      "name": "python3"
    },
    "widgets": {
      "application/vnd.jupyter.widget-state+json": {
        "857b907dbd0a4ddbb785707ff3eaed2d": {
          "model_module": "@jupyter-widgets/controls",
          "model_name": "HBoxModel",
          "state": {
            "_view_name": "HBoxView",
            "_dom_classes": [],
            "_model_name": "HBoxModel",
            "_view_module": "@jupyter-widgets/controls",
            "_model_module_version": "1.5.0",
            "_view_count": null,
            "_view_module_version": "1.5.0",
            "box_style": "",
            "layout": "IPY_MODEL_42c1be5f28e841ca99ed8fd8bb6ba0a6",
            "_model_module": "@jupyter-widgets/controls",
            "children": [
              "IPY_MODEL_3916cf7c87a9484fa3521ac9f1f50645",
              "IPY_MODEL_db8290640f34447aafdc55b86d050d50"
            ]
          }
        },
        "42c1be5f28e841ca99ed8fd8bb6ba0a6": {
          "model_module": "@jupyter-widgets/base",
          "model_name": "LayoutModel",
          "state": {
            "_view_name": "LayoutView",
            "grid_template_rows": null,
            "right": null,
            "justify_content": null,
            "_view_module": "@jupyter-widgets/base",
            "overflow": null,
            "_model_module_version": "1.2.0",
            "_view_count": null,
            "flex_flow": null,
            "width": null,
            "min_width": null,
            "border": null,
            "align_items": null,
            "bottom": null,
            "_model_module": "@jupyter-widgets/base",
            "top": null,
            "grid_column": null,
            "overflow_y": null,
            "overflow_x": null,
            "grid_auto_flow": null,
            "grid_area": null,
            "grid_template_columns": null,
            "flex": null,
            "_model_name": "LayoutModel",
            "justify_items": null,
            "grid_row": null,
            "max_height": null,
            "align_content": null,
            "visibility": null,
            "align_self": null,
            "height": null,
            "min_height": null,
            "padding": null,
            "grid_auto_rows": null,
            "grid_gap": null,
            "max_width": null,
            "order": null,
            "_view_module_version": "1.2.0",
            "grid_template_areas": null,
            "object_position": null,
            "object_fit": null,
            "grid_auto_columns": null,
            "margin": null,
            "display": null,
            "left": null
          }
        },
        "3916cf7c87a9484fa3521ac9f1f50645": {
          "model_module": "@jupyter-widgets/controls",
          "model_name": "FloatProgressModel",
          "state": {
            "_view_name": "ProgressView",
            "style": "IPY_MODEL_70a10ac5ea0c414c8d303b40166ec0c8",
            "_dom_classes": [],
            "description": "  0%",
            "_model_name": "FloatProgressModel",
            "bar_style": "danger",
            "max": 10,
            "_view_module": "@jupyter-widgets/controls",
            "_model_module_version": "1.5.0",
            "value": 0,
            "_view_count": null,
            "_view_module_version": "1.5.0",
            "orientation": "horizontal",
            "min": 0,
            "description_tooltip": null,
            "_model_module": "@jupyter-widgets/controls",
            "layout": "IPY_MODEL_81b270505f424d3d8a811ba677b0ac9f"
          }
        },
        "db8290640f34447aafdc55b86d050d50": {
          "model_module": "@jupyter-widgets/controls",
          "model_name": "HTMLModel",
          "state": {
            "_view_name": "HTMLView",
            "style": "IPY_MODEL_f528c7ef6ea24c82be364f352b95f8bf",
            "_dom_classes": [],
            "description": "",
            "_model_name": "HTMLModel",
            "placeholder": "​",
            "_view_module": "@jupyter-widgets/controls",
            "_model_module_version": "1.5.0",
            "value": " 0/10 [00:00&lt;?, ?it/s]",
            "_view_count": null,
            "_view_module_version": "1.5.0",
            "description_tooltip": null,
            "_model_module": "@jupyter-widgets/controls",
            "layout": "IPY_MODEL_2bad441e9db14439a7cc718d3b78af1d"
          }
        },
        "70a10ac5ea0c414c8d303b40166ec0c8": {
          "model_module": "@jupyter-widgets/controls",
          "model_name": "ProgressStyleModel",
          "state": {
            "_view_name": "StyleView",
            "_model_name": "ProgressStyleModel",
            "description_width": "initial",
            "_view_module": "@jupyter-widgets/base",
            "_model_module_version": "1.5.0",
            "_view_count": null,
            "_view_module_version": "1.2.0",
            "bar_color": null,
            "_model_module": "@jupyter-widgets/controls"
          }
        },
        "81b270505f424d3d8a811ba677b0ac9f": {
          "model_module": "@jupyter-widgets/base",
          "model_name": "LayoutModel",
          "state": {
            "_view_name": "LayoutView",
            "grid_template_rows": null,
            "right": null,
            "justify_content": null,
            "_view_module": "@jupyter-widgets/base",
            "overflow": null,
            "_model_module_version": "1.2.0",
            "_view_count": null,
            "flex_flow": null,
            "width": null,
            "min_width": null,
            "border": null,
            "align_items": null,
            "bottom": null,
            "_model_module": "@jupyter-widgets/base",
            "top": null,
            "grid_column": null,
            "overflow_y": null,
            "overflow_x": null,
            "grid_auto_flow": null,
            "grid_area": null,
            "grid_template_columns": null,
            "flex": null,
            "_model_name": "LayoutModel",
            "justify_items": null,
            "grid_row": null,
            "max_height": null,
            "align_content": null,
            "visibility": null,
            "align_self": null,
            "height": null,
            "min_height": null,
            "padding": null,
            "grid_auto_rows": null,
            "grid_gap": null,
            "max_width": null,
            "order": null,
            "_view_module_version": "1.2.0",
            "grid_template_areas": null,
            "object_position": null,
            "object_fit": null,
            "grid_auto_columns": null,
            "margin": null,
            "display": null,
            "left": null
          }
        },
        "f528c7ef6ea24c82be364f352b95f8bf": {
          "model_module": "@jupyter-widgets/controls",
          "model_name": "DescriptionStyleModel",
          "state": {
            "_view_name": "StyleView",
            "_model_name": "DescriptionStyleModel",
            "description_width": "",
            "_view_module": "@jupyter-widgets/base",
            "_model_module_version": "1.5.0",
            "_view_count": null,
            "_view_module_version": "1.2.0",
            "_model_module": "@jupyter-widgets/controls"
          }
        },
        "2bad441e9db14439a7cc718d3b78af1d": {
          "model_module": "@jupyter-widgets/base",
          "model_name": "LayoutModel",
          "state": {
            "_view_name": "LayoutView",
            "grid_template_rows": null,
            "right": null,
            "justify_content": null,
            "_view_module": "@jupyter-widgets/base",
            "overflow": null,
            "_model_module_version": "1.2.0",
            "_view_count": null,
            "flex_flow": null,
            "width": null,
            "min_width": null,
            "border": null,
            "align_items": null,
            "bottom": null,
            "_model_module": "@jupyter-widgets/base",
            "top": null,
            "grid_column": null,
            "overflow_y": null,
            "overflow_x": null,
            "grid_auto_flow": null,
            "grid_area": null,
            "grid_template_columns": null,
            "flex": null,
            "_model_name": "LayoutModel",
            "justify_items": null,
            "grid_row": null,
            "max_height": null,
            "align_content": null,
            "visibility": null,
            "align_self": null,
            "height": null,
            "min_height": null,
            "padding": null,
            "grid_auto_rows": null,
            "grid_gap": null,
            "max_width": null,
            "order": null,
            "_view_module_version": "1.2.0",
            "grid_template_areas": null,
            "object_position": null,
            "object_fit": null,
            "grid_auto_columns": null,
            "margin": null,
            "display": null,
            "left": null
          }
        }
      }
    }
  },
  "cells": [
    {
      "cell_type": "markdown",
      "metadata": {
        "id": "view-in-github",
        "colab_type": "text"
      },
      "source": [
        "<a href=\"https://colab.research.google.com/github/pratik-poudel/datacrunch/blob/main/z%2022nd%20may%20Final%20Template%20For%20Regression%20Chain.ipynb\" target=\"_parent\"><img src=\"https://colab.research.google.com/assets/colab-badge.svg\" alt=\"Open In Colab\"/></a>"
      ]
    },
    {
      "cell_type": "code",
      "metadata": {
        "id": "l3WmO8Zyvy7Y"
      },
      "source": [
        "!pip install optuna"
      ],
      "execution_count": null,
      "outputs": []
    },
    {
      "cell_type": "code",
      "metadata": {
        "id": "lIYdn1woOS1n"
      },
      "source": [
        "import numpy as np\n",
        "import pandas as pd\n",
        "from collections import defaultdict\n",
        "from tqdm.notebook import tqdm\n",
        "from matplotlib import pyplot as plt\n",
        "import warnings\n",
        "warnings.filterwarnings('ignore')\n",
        "import seaborn as sns\n",
        "import gc\n",
        "# pd.options.display.float_format| = \"{:.2f}\".format\n",
        "pd.options.display.max_columns = 500\n",
        "\n",
        "\n",
        "from sklearn.model_selection import train_test_split\n",
        "from sklearn.metrics import accuracy_score \n",
        "from sklearn.metrics import classification_report \n",
        "import requests\n",
        "from scipy import stats\n",
        "\n",
        "import lightgbm as lgb\n",
        "\n",
        "from tensorflow.keras.callbacks import EarlyStopping, ModelCheckpoint\n",
        "\n",
        "import sklearn\n",
        "from sklearn import *\n",
        "from sklearn.experimental import enable_hist_gradient_boosting\n",
        "from sklearn.utils.testing import all_estimators\n",
        "from sklearn.base import RegressorMixin\n",
        "from sklearn.model_selection import train_test_split\n",
        "from sklearn.metrics import accuracy_score \n",
        "from sklearn.metrics import classification_report \n",
        "from sklearn.metrics import make_scorer\n",
        "from sklearn.model_selection import RepeatedKFold, cross_val_score, KFold\n",
        "from sklearn.multioutput import RegressorChain\n",
        "\n",
        "import requests\n",
        "import time\n",
        "from scipy import stats\n",
        "\n",
        "import lightgbm as lgb\n",
        "import xgboost as xgb"
      ],
      "execution_count": 1,
      "outputs": []
    },
    {
      "cell_type": "code",
      "metadata": {
        "id": "hUj6gu_Bd9Gh"
      },
      "source": [
        "train_datalink_X = 'https://tournament.datacrunch.com/data/X_train.csv'  \n",
        "train_datalink_y = 'https://tournament.datacrunch.com/data/y_train.csv'\n",
        "hackathon_data_link = 'https://tournament.datacrunch.com/data/X_test.csv'"
      ],
      "execution_count": 2,
      "outputs": []
    },
    {
      "cell_type": "code",
      "metadata": {
        "id": "_KBSz1iFd-0q"
      },
      "source": [
        "train = pd.read_csv(train_datalink_X)\n",
        "target = pd.read_csv(train_datalink_y)\n",
        "test = pd.read_csv(hackathon_data_link)"
      ],
      "execution_count": 3,
      "outputs": []
    },
    {
      "cell_type": "code",
      "metadata": {
        "id": "OAtHmDu9ScrC"
      },
      "source": [
        "drop_cols = [\"Moons\", \"id\"]\n",
        "train.drop(columns=drop_cols, inplace=True)\n",
        "test.drop(columns=drop_cols, inplace=True)"
      ],
      "execution_count": 4,
      "outputs": []
    },
    {
      "cell_type": "code",
      "metadata": {
        "id": "sfXxsh5oTz4u",
        "outputId": "5fe3265b-f047-472c-d601-00c256b8c193",
        "colab": {
          "base_uri": "https://localhost:8080/"
        }
      },
      "source": [
        "test.shape, train.shape"
      ],
      "execution_count": 5,
      "outputs": [
        {
          "output_type": "execute_result",
          "data": {
            "text/plain": [
              "((4423, 20), (6524, 20))"
            ]
          },
          "metadata": {
            "tags": []
          },
          "execution_count": 5
        }
      ]
    },
    {
      "cell_type": "code",
      "metadata": {
        "id": "YDsHincId_wE",
        "colab": {
          "base_uri": "https://localhost:8080/"
        },
        "outputId": "bc879bc6-7973-4d95-c529-51e64ea8b194"
      },
      "source": [
        "# feat= [f for f in train.columns if \"Feature\" in f]\n",
        "# print(feat)"
      ],
      "execution_count": 7,
      "outputs": [
        {
          "output_type": "stream",
          "text": [
            "['Feature_1', 'Feature_2', 'Feature_3', 'Feature_4', 'Feature_5', 'Feature_6', 'Feature_7', 'Feature_8', 'Feature_9', 'Feature_10', 'Feature_11', 'Feature_12', 'Feature_13', 'Feature_14', 'Feature_15', 'Feature_16', 'Feature_17', 'Feature_19', 'Feature_20', 'Feature_21']\n"
          ],
          "name": "stdout"
        }
      ]
    },
    {
      "cell_type": "code",
      "metadata": {
        "id": "F062gnTLlz69"
      },
      "source": [
        "def add_features(df):\n",
        "    cols = [f for f in df.columns if \"Feature\" in f]\n",
        "    for f in cols:\n",
        "        df['pos_'+str(f)] = df[f]+abs(df[f].min())+1\n",
        "    for f in [f for f in df.columns if \"pos\" in f]:\n",
        "        df['log_'+str(f[4:])] = np.log(df[str(f)])\n",
        "    for f in [f for f in df.columns if \"pos\" in f]:\n",
        "        df['sqrt_'+str(f[4:])] = np.sqrt(df[str(f)])\n",
        "    df.drop(columns = [f for f in df.columns if \"pos\" in f], inplace=True)\n",
        "    return df"
      ],
      "execution_count": 6,
      "outputs": []
    },
    {
      "cell_type": "code",
      "metadata": {
        "id": "iJL-Uxj2l1BI"
      },
      "source": [
        "train = add_features(train)\n",
        "test = add_features(test)"
      ],
      "execution_count": 7,
      "outputs": []
    },
    {
      "cell_type": "code",
      "metadata": {
        "id": "nrpMpNXrl7k9"
      },
      "source": [
        "ocorr = (train.corrwith(target.target_r).abs() + train.corrwith(target.target_g).abs() + train.corrwith(target.target_b).abs() )/3\n",
        "ocorr.sort_values(ascending=False)"
      ],
      "execution_count": null,
      "outputs": []
    },
    {
      "cell_type": "code",
      "metadata": {
        "id": "JhsEduZfeBam"
      },
      "source": [
        "kf = KFold(n_splits=3, random_state=60)\n",
        "\n",
        "def validate(X, y, cv, model_name, actual_test):\n",
        "    oof_pred_r = np.zeros(len(X))\n",
        "    oof_pred_g = np.zeros(len(X))\n",
        "    oof_pred_b = np.zeros(len(X))\n",
        "\n",
        "    original_test_preds = np.zeros((len(actual_test), 3))\n",
        "    cnt = 1\n",
        "    scores_dict = {\"fold\":[],\"score_r\":[],\"score_g\":[], \"score_b\":[]}\n",
        "\n",
        "    for tr_ind , val_ind in cv.split(X, y):\n",
        "        # print(f'Fold:{cnt}, Train set: {len(tr_ind)}, Test set:{len(val_ind)}') \n",
        "        \n",
        "        X_train, X_val = X.iloc[tr_ind], X.iloc[val_ind]\n",
        "        y_train, y_val = y.iloc[tr_ind], y.iloc[val_ind]\n",
        "    \n",
        "        \n",
        "        model_name.fit(X_train,y_train)\n",
        "        val_pred = pd.DataFrame(model_name.predict(X_val), columns=target.columns)\n",
        "\n",
        "        score_r = stats.spearmanr(y_val.target_r, val_pred.target_r)[0]\n",
        "        score_g = stats.spearmanr(y_val.target_g, val_pred.target_g)[0]    \n",
        "        score_b = stats.spearmanr(y_val.target_b, val_pred.target_b)[0]\n",
        "        # print(score_r, score_g, score_b)\n",
        "        scores_dict['fold'].append(cnt)    \n",
        "        scores_dict['score_r'].append(score_r)\n",
        "        scores_dict['score_g'].append(score_g)\n",
        "        scores_dict['score_b'].append(score_b)\n",
        "        \n",
        "        oof_pred_r[val_ind] = val_pred.target_r.values\n",
        "        oof_pred_g[val_ind] = val_pred.target_g.values\n",
        "        oof_pred_b[val_ind] = val_pred.target_b.values\n",
        "\n",
        "        original_test_preds += model_name.predict(actual_test)\n",
        "        \n",
        "        cnt += 1\n",
        "    oof_pred_df = pd.concat([pd.DataFrame(oof_pred_r, columns=['target_r']),\n",
        "                    pd.DataFrame(oof_pred_g, columns=['target_g']),\n",
        "                    pd.DataFrame(oof_pred_b, columns=['target_b'])], axis=1)\n",
        "\n",
        "    # print(\"Final OOF SCORE :\", stats.spearmanr(oof_pred_r, target.target_r)[0])\n",
        "    # print(\"Final OOF SCORE :\",stats.spearmanr(oof_pred_g, target.target_g)[0])\n",
        "    # print(\"Final OOF SCORE :\",stats.spearmanr(oof_pred_b, target.target_b)[0])\n",
        "\n",
        "    original_test_preds = original_test_preds / kf.n_splits\n",
        "    original_test_preds_df = pd.DataFrame(original_test_preds, columns=target.columns)\n",
        "    return pd.DataFrame(scores_dict), oof_pred_df, original_test_preds_df\n",
        "\n",
        "# validation_scores, oof_predictions = validate(train[feat], target, kf, RegressorChain(sklearn.ensemble.RandomForestRegressor(random_state=60, n_jobs=-1)))"
      ],
      "execution_count": 10,
      "outputs": []
    },
    {
      "cell_type": "code",
      "metadata": {
        "id": "rSHAcb2KtTW6"
      },
      "source": [
        "regressors = [  \n",
        "                ('BayesianRidge', sklearn.linear_model.BayesianRidge()),\n",
        "                ('HuberRegressor', sklearn.linear_model.HuberRegressor()),\n",
        "                ('Lars', sklearn.linear_model.Lars()),\n",
        "                ('LassoLarsIC', sklearn.linear_model.LassoLarsIC(criterion='aic', fit_intercept=True)),\n",
        "                ('LinearRegression', sklearn.linear_model.LinearRegression()),\n",
        "                ('Ridge', sklearn.linear_model.Ridge()),\n",
        "                ('SGDRegressor', sklearn.linear_model.SGDRegressor(fit_intercept=True)),\n",
        "                ('TransformedTargetRegressor',sklearn.compose.TransformedTargetRegressor()),\n",
        "                \n",
        "                ('AdaBoostRegressor', sklearn.ensemble.AdaBoostRegressor()),\n",
        "                ('BaggingRegressor', sklearn.ensemble.BaggingRegressor()),\n",
        "                \n",
        "                ('DecisionTreeRegressor', sklearn.tree.DecisionTreeRegressor()),\n",
        "                ('ElasticNet', sklearn.linear_model.ElasticNet()),\n",
        "                ('ExtraTreeRegressor', sklearn.tree.ExtraTreeRegressor()),\n",
        "                ('ExtraTreesRegressor', sklearn.ensemble.ExtraTreesRegressor()),\n",
        "                ('GradientBoostingRegressor', sklearn.ensemble.GradientBoostingRegressor()),\n",
        "                ('HistGradientBoostingRegressor',sklearn.ensemble.HistGradientBoostingRegressor()),\n",
        "                \n",
        "                ('Lasso', sklearn.linear_model.Lasso()),\n",
        "                ('LassoLars', sklearn.linear_model.LassoLars()),\n",
        "                \n",
        "                ('OrthogonalMatchingPursuit',sklearn.linear_model.OrthogonalMatchingPursuit()),\n",
        "                ('PassiveAggressiveRegressor',sklearn.linear_model.PassiveAggressiveRegressor()),\n",
        "                ('RANSACRegressor', sklearn.linear_model.RANSACRegressor()),\n",
        "                ('RandomForestRegressor', sklearn.ensemble.RandomForestRegressor()),\n",
        "                \n",
        "                (\"XGBRegressor\", xgb.XGBRegressor(objective='reg:squarederror')),\n",
        "                (\"LGBMRegressor\", lgb.LGBMRegressor())\n",
        "                ]\n"
      ],
      "execution_count": 11,
      "outputs": []
    },
    {
      "cell_type": "code",
      "metadata": {
        "id": "8OIXCvjRtTT8",
        "colab": {
          "base_uri": "https://localhost:8080/",
          "height": 1000
        },
        "outputId": "b5bfa99f-edb1-432f-ff98-fe47e56a3152"
      },
      "source": [
        "names = []\n",
        "score_r = []\n",
        "score_g = []\n",
        "score_b = []\n",
        "test_preds_model_name= []\n",
        "\n",
        "for i, (name, model) in enumerate(regressors):\n",
        "    print(i+1, name)\n",
        "    if 'random_state' in model.get_params().keys():\n",
        "        model.set_params(random_state=60)\n",
        "    if 'n_jobs' in model.get_params().keys():\n",
        "            model.set_params(n_jobs=-1)\n",
        "\n",
        "    wrapper = RegressorChain(model)\n",
        "\n",
        "    validation_scores , oof_predictions_df, globals()['test_pred_%s' % name] = validate(train, target, kf, wrapper, test)\n",
        "    names.append(name)\n",
        "    test_preds_model_name.append('test_pred_%s' % name)\n",
        "\n",
        "    score_r.append(stats.spearmanr(oof_predictions_df.target_r, target.target_r)[0])\n",
        "    score_g.append(stats.spearmanr(oof_predictions_df.target_g, target.target_g)[0])\n",
        "    score_b.append(stats.spearmanr(oof_predictions_df.target_b, target.target_b)[0])\n",
        "result_df = pd.concat([pd.Series(names), pd.Series(score_r), pd.Series(score_g), pd.Series(score_b)], axis=1)\n",
        "result_df.columns = ['model', 'r_score', 'g_score', 'b_score']\n",
        "result_df['mean_score'] = result_df[['r_score', 'g_score', 'b_score']].mean(axis=1)\n",
        "result_df.sort_values(by='mean_score', ascending=False)"
      ],
      "execution_count": 12,
      "outputs": [
        {
          "output_type": "stream",
          "text": [
            "1 BayesianRidge\n",
            "2 HuberRegressor\n",
            "3 Lars\n",
            "4 LassoLarsIC\n",
            "5 LinearRegression\n",
            "6 Ridge\n",
            "7 SGDRegressor\n",
            "8 TransformedTargetRegressor\n",
            "9 AdaBoostRegressor\n",
            "10 BaggingRegressor\n",
            "11 DecisionTreeRegressor\n",
            "12 ElasticNet\n",
            "13 ExtraTreeRegressor\n",
            "14 ExtraTreesRegressor\n",
            "15 GradientBoostingRegressor\n",
            "16 HistGradientBoostingRegressor\n",
            "17 Lasso\n",
            "18 LassoLars\n",
            "19 OrthogonalMatchingPursuit\n",
            "20 PassiveAggressiveRegressor\n",
            "21 RANSACRegressor\n",
            "22 RandomForestRegressor\n",
            "23 XGBRegressor\n",
            "24 LGBMRegressor\n"
          ],
          "name": "stdout"
        },
        {
          "output_type": "execute_result",
          "data": {
            "text/html": [
              "<div>\n",
              "<style scoped>\n",
              "    .dataframe tbody tr th:only-of-type {\n",
              "        vertical-align: middle;\n",
              "    }\n",
              "\n",
              "    .dataframe tbody tr th {\n",
              "        vertical-align: top;\n",
              "    }\n",
              "\n",
              "    .dataframe thead th {\n",
              "        text-align: right;\n",
              "    }\n",
              "</style>\n",
              "<table border=\"1\" class=\"dataframe\">\n",
              "  <thead>\n",
              "    <tr style=\"text-align: right;\">\n",
              "      <th></th>\n",
              "      <th>model</th>\n",
              "      <th>r_score</th>\n",
              "      <th>g_score</th>\n",
              "      <th>b_score</th>\n",
              "      <th>mean_score</th>\n",
              "    </tr>\n",
              "  </thead>\n",
              "  <tbody>\n",
              "    <tr>\n",
              "      <th>3</th>\n",
              "      <td>LassoLarsIC</td>\n",
              "      <td>0.000289</td>\n",
              "      <td>0.083898</td>\n",
              "      <td>0.085020</td>\n",
              "      <td>0.056402</td>\n",
              "    </tr>\n",
              "    <tr>\n",
              "      <th>6</th>\n",
              "      <td>SGDRegressor</td>\n",
              "      <td>-0.000978</td>\n",
              "      <td>0.075539</td>\n",
              "      <td>0.089838</td>\n",
              "      <td>0.054799</td>\n",
              "    </tr>\n",
              "    <tr>\n",
              "      <th>18</th>\n",
              "      <td>OrthogonalMatchingPursuit</td>\n",
              "      <td>-0.004764</td>\n",
              "      <td>0.074930</td>\n",
              "      <td>0.083013</td>\n",
              "      <td>0.051060</td>\n",
              "    </tr>\n",
              "    <tr>\n",
              "      <th>0</th>\n",
              "      <td>BayesianRidge</td>\n",
              "      <td>-0.014542</td>\n",
              "      <td>0.075589</td>\n",
              "      <td>0.083471</td>\n",
              "      <td>0.048173</td>\n",
              "    </tr>\n",
              "    <tr>\n",
              "      <th>5</th>\n",
              "      <td>Ridge</td>\n",
              "      <td>-0.033415</td>\n",
              "      <td>0.064357</td>\n",
              "      <td>0.076529</td>\n",
              "      <td>0.035824</td>\n",
              "    </tr>\n",
              "    <tr>\n",
              "      <th>21</th>\n",
              "      <td>RandomForestRegressor</td>\n",
              "      <td>-0.020684</td>\n",
              "      <td>0.050227</td>\n",
              "      <td>0.065837</td>\n",
              "      <td>0.031793</td>\n",
              "    </tr>\n",
              "    <tr>\n",
              "      <th>22</th>\n",
              "      <td>XGBRegressor</td>\n",
              "      <td>-0.030161</td>\n",
              "      <td>0.049301</td>\n",
              "      <td>0.075989</td>\n",
              "      <td>0.031710</td>\n",
              "    </tr>\n",
              "    <tr>\n",
              "      <th>13</th>\n",
              "      <td>ExtraTreesRegressor</td>\n",
              "      <td>-0.010315</td>\n",
              "      <td>0.043613</td>\n",
              "      <td>0.061674</td>\n",
              "      <td>0.031658</td>\n",
              "    </tr>\n",
              "    <tr>\n",
              "      <th>9</th>\n",
              "      <td>BaggingRegressor</td>\n",
              "      <td>-0.003431</td>\n",
              "      <td>0.058472</td>\n",
              "      <td>0.039012</td>\n",
              "      <td>0.031351</td>\n",
              "    </tr>\n",
              "    <tr>\n",
              "      <th>1</th>\n",
              "      <td>HuberRegressor</td>\n",
              "      <td>-0.030966</td>\n",
              "      <td>0.053958</td>\n",
              "      <td>0.067108</td>\n",
              "      <td>0.030034</td>\n",
              "    </tr>\n",
              "    <tr>\n",
              "      <th>14</th>\n",
              "      <td>GradientBoostingRegressor</td>\n",
              "      <td>-0.030106</td>\n",
              "      <td>0.048813</td>\n",
              "      <td>0.071136</td>\n",
              "      <td>0.029948</td>\n",
              "    </tr>\n",
              "    <tr>\n",
              "      <th>23</th>\n",
              "      <td>LGBMRegressor</td>\n",
              "      <td>-0.016304</td>\n",
              "      <td>0.040594</td>\n",
              "      <td>0.060696</td>\n",
              "      <td>0.028329</td>\n",
              "    </tr>\n",
              "    <tr>\n",
              "      <th>15</th>\n",
              "      <td>HistGradientBoostingRegressor</td>\n",
              "      <td>-0.016315</td>\n",
              "      <td>0.040185</td>\n",
              "      <td>0.059967</td>\n",
              "      <td>0.027946</td>\n",
              "    </tr>\n",
              "    <tr>\n",
              "      <th>7</th>\n",
              "      <td>TransformedTargetRegressor</td>\n",
              "      <td>-0.044540</td>\n",
              "      <td>0.047934</td>\n",
              "      <td>0.064147</td>\n",
              "      <td>0.022514</td>\n",
              "    </tr>\n",
              "    <tr>\n",
              "      <th>4</th>\n",
              "      <td>LinearRegression</td>\n",
              "      <td>-0.044540</td>\n",
              "      <td>0.047934</td>\n",
              "      <td>0.064147</td>\n",
              "      <td>0.022514</td>\n",
              "    </tr>\n",
              "    <tr>\n",
              "      <th>8</th>\n",
              "      <td>AdaBoostRegressor</td>\n",
              "      <td>-0.014579</td>\n",
              "      <td>0.025971</td>\n",
              "      <td>0.027940</td>\n",
              "      <td>0.013111</td>\n",
              "    </tr>\n",
              "    <tr>\n",
              "      <th>10</th>\n",
              "      <td>DecisionTreeRegressor</td>\n",
              "      <td>-0.006530</td>\n",
              "      <td>0.023407</td>\n",
              "      <td>0.019520</td>\n",
              "      <td>0.012133</td>\n",
              "    </tr>\n",
              "    <tr>\n",
              "      <th>19</th>\n",
              "      <td>PassiveAggressiveRegressor</td>\n",
              "      <td>-0.028911</td>\n",
              "      <td>0.022532</td>\n",
              "      <td>0.022721</td>\n",
              "      <td>0.005447</td>\n",
              "    </tr>\n",
              "    <tr>\n",
              "      <th>20</th>\n",
              "      <td>RANSACRegressor</td>\n",
              "      <td>-0.033775</td>\n",
              "      <td>0.003921</td>\n",
              "      <td>0.019367</td>\n",
              "      <td>-0.003496</td>\n",
              "    </tr>\n",
              "    <tr>\n",
              "      <th>2</th>\n",
              "      <td>Lars</td>\n",
              "      <td>-0.006687</td>\n",
              "      <td>-0.018229</td>\n",
              "      <td>0.008887</td>\n",
              "      <td>-0.005343</td>\n",
              "    </tr>\n",
              "    <tr>\n",
              "      <th>12</th>\n",
              "      <td>ExtraTreeRegressor</td>\n",
              "      <td>-0.005017</td>\n",
              "      <td>-0.012745</td>\n",
              "      <td>-0.003334</td>\n",
              "      <td>-0.007032</td>\n",
              "    </tr>\n",
              "    <tr>\n",
              "      <th>11</th>\n",
              "      <td>ElasticNet</td>\n",
              "      <td>-0.043275</td>\n",
              "      <td>-0.031591</td>\n",
              "      <td>-0.036773</td>\n",
              "      <td>-0.037213</td>\n",
              "    </tr>\n",
              "    <tr>\n",
              "      <th>16</th>\n",
              "      <td>Lasso</td>\n",
              "      <td>-0.043275</td>\n",
              "      <td>-0.031591</td>\n",
              "      <td>-0.036773</td>\n",
              "      <td>-0.037213</td>\n",
              "    </tr>\n",
              "    <tr>\n",
              "      <th>17</th>\n",
              "      <td>LassoLars</td>\n",
              "      <td>-0.043275</td>\n",
              "      <td>-0.031591</td>\n",
              "      <td>-0.036773</td>\n",
              "      <td>-0.037213</td>\n",
              "    </tr>\n",
              "  </tbody>\n",
              "</table>\n",
              "</div>"
            ],
            "text/plain": [
              "                            model   r_score   g_score   b_score  mean_score\n",
              "3                     LassoLarsIC  0.000289  0.083898  0.085020    0.056402\n",
              "6                    SGDRegressor -0.000978  0.075539  0.089838    0.054799\n",
              "18      OrthogonalMatchingPursuit -0.004764  0.074930  0.083013    0.051060\n",
              "0                   BayesianRidge -0.014542  0.075589  0.083471    0.048173\n",
              "5                           Ridge -0.033415  0.064357  0.076529    0.035824\n",
              "21          RandomForestRegressor -0.020684  0.050227  0.065837    0.031793\n",
              "22                   XGBRegressor -0.030161  0.049301  0.075989    0.031710\n",
              "13            ExtraTreesRegressor -0.010315  0.043613  0.061674    0.031658\n",
              "9                BaggingRegressor -0.003431  0.058472  0.039012    0.031351\n",
              "1                  HuberRegressor -0.030966  0.053958  0.067108    0.030034\n",
              "14      GradientBoostingRegressor -0.030106  0.048813  0.071136    0.029948\n",
              "23                  LGBMRegressor -0.016304  0.040594  0.060696    0.028329\n",
              "15  HistGradientBoostingRegressor -0.016315  0.040185  0.059967    0.027946\n",
              "7      TransformedTargetRegressor -0.044540  0.047934  0.064147    0.022514\n",
              "4                LinearRegression -0.044540  0.047934  0.064147    0.022514\n",
              "8               AdaBoostRegressor -0.014579  0.025971  0.027940    0.013111\n",
              "10          DecisionTreeRegressor -0.006530  0.023407  0.019520    0.012133\n",
              "19     PassiveAggressiveRegressor -0.028911  0.022532  0.022721    0.005447\n",
              "20                RANSACRegressor -0.033775  0.003921  0.019367   -0.003496\n",
              "2                            Lars -0.006687 -0.018229  0.008887   -0.005343\n",
              "12             ExtraTreeRegressor -0.005017 -0.012745 -0.003334   -0.007032\n",
              "11                     ElasticNet -0.043275 -0.031591 -0.036773   -0.037213\n",
              "16                          Lasso -0.043275 -0.031591 -0.036773   -0.037213\n",
              "17                      LassoLars -0.043275 -0.031591 -0.036773   -0.037213"
            ]
          },
          "metadata": {
            "tags": []
          },
          "execution_count": 12
        }
      ]
    },
    {
      "cell_type": "markdown",
      "metadata": {
        "id": "LLmJNzaEXFlz"
      },
      "source": [
        "# OPTIMIZATION "
      ]
    },
    {
      "cell_type": "code",
      "metadata": {
        "id": "VOIRjd3ivclg",
        "outputId": "29f4563b-3883-4efa-fd72-0cc07f76a26d",
        "colab": {
          "base_uri": "https://localhost:8080/"
        }
      },
      "source": [
        "for i in result_df.sort_values(by='mean_score', ascending=False)['model']:\n",
        "    print(i)"
      ],
      "execution_count": 16,
      "outputs": [
        {
          "output_type": "stream",
          "text": [
            "LassoLarsIC\n",
            "SGDRegressor\n",
            "OrthogonalMatchingPursuit\n",
            "BayesianRidge\n",
            "Ridge\n",
            "RandomForestRegressor\n",
            "XGBRegressor\n",
            "ExtraTreesRegressor\n",
            "BaggingRegressor\n",
            "HuberRegressor\n",
            "GradientBoostingRegressor\n",
            "LGBMRegressor\n",
            "HistGradientBoostingRegressor\n",
            "TransformedTargetRegressor\n",
            "LinearRegression\n",
            "AdaBoostRegressor\n",
            "DecisionTreeRegressor\n",
            "PassiveAggressiveRegressor\n",
            "RANSACRegressor\n",
            "Lars\n",
            "ExtraTreeRegressor\n",
            "ElasticNet\n",
            "Lasso\n",
            "LassoLars\n"
          ],
          "name": "stdout"
        }
      ]
    },
    {
      "cell_type": "code",
      "metadata": {
        "id": "yyAufUFG1t0h"
      },
      "source": [
        "def set_params():\n",
        "    \n",
        "    return params"
      ],
      "execution_count": 49,
      "outputs": []
    },
    {
      "cell_type": "code",
      "metadata": {
        "id": "vKcub-h02doV"
      },
      "source": [
        ""
      ],
      "execution_count": null,
      "outputs": []
    },
    {
      "cell_type": "code",
      "metadata": {
        "id": "YRr3lUcJvchK"
      },
      "source": [
        "import optuna\n",
        "kf = KFold(n_splits=5, random_state=60)\n",
        "X = train\n",
        "y = target\n",
        "\n",
        "N_TRIALS = 10\n",
        "def objective_lassolars_ic(trial):    \n",
        "    params = {\n",
        "            'criterion' : trial.suggest_categorical('criterion', ['aic', 'bic']),\n",
        "            'fit_intercept' : trial.suggest_categorical('fit_intercept', ['True', 'Fasle']),\n",
        "\n",
        "            }\n",
        "    \n",
        "    oof_pred_r = np.zeros(len(X))\n",
        "    oof_pred_g = np.zeros(len(X))\n",
        "    oof_pred_b = np.zeros(len(X))\n",
        "\n",
        "    cnt = 1\n",
        "    for tr_ind , val_ind in kf.split(X, y):\n",
        "        X_train, X_val = X.iloc[tr_ind], X.iloc[val_ind]\n",
        "        y_train, y_val = y.iloc[tr_ind], y.iloc[val_ind]\n",
        "\n",
        "\n",
        "        model = sklearn.linear_model.LassoLarsIC(**params)\n",
        "        # print(model)\n",
        "        wrapper = RegressorChain(model)\n",
        "    \n",
        "        wrapper.fit(X_train,y_train)\n",
        "        val_pred = pd.DataFrame(wrapper.predict(X_val), columns=y.columns)\n",
        "        # print(val_pred)\n",
        "\n",
        "        score_r = stats.spearmanr(y_val.target_r, val_pred.target_r)[0]\n",
        "        score_g = stats.spearmanr(y_val.target_g, val_pred.target_g)[0]    \n",
        "        score_b = stats.spearmanr(y_val.target_b, val_pred.target_b)[0]\n",
        "        print(score_r, score_g, score_b)\n",
        "        \n",
        "        \n",
        "        oof_pred_r[val_ind] = val_pred.target_r.values\n",
        "        oof_pred_g[val_ind] = val_pred.target_g.values\n",
        "        oof_pred_b[val_ind] = val_pred.target_b.values\n",
        "        print(\"DONE FOLD :\", cnt)\n",
        "        print(\"***\" * 50)\n",
        "\n",
        "        cnt += 1\n",
        "        \n",
        "    oof_pred_df = pd.concat([pd.DataFrame(oof_pred_r, columns=['target_r']),\n",
        "                    pd.DataFrame(oof_pred_g, columns=['target_g']),\n",
        "                    pd.DataFrame(oof_pred_b, columns=['target_b'])], axis=1)\n",
        "    # display(oof_pred_df)\n",
        "\n",
        "    score_r = stats.spearmanr(oof_pred_df.target_r, y.target_r)[0]\n",
        "    score_g = stats.spearmanr(oof_pred_df.target_g, y.target_g)[0]\n",
        "    score_b = stats.spearmanr(oof_pred_df.target_b, y.target_b)[0]\n",
        "    score = (score_r+score_g+score_b)/ 3\n",
        "    print(score)\n",
        "\n",
        "    from google.colab import output\n",
        "    output.clear()\n",
        "    \n",
        "    return score\n",
        " \n",
        "def optimize():\n",
        "    study = optuna.create_study(direction='maximize')\n",
        "    study.optimize(objective_lassolars_ic, n_trials=N_TRIALS, show_progress_bar= True)\n",
        "    display(study.best_params)\n",
        "    display(study.best_trial.value)\n",
        "    return study.best_params\n",
        "\n"
      ],
      "execution_count": 50,
      "outputs": []
    },
    {
      "cell_type": "code",
      "metadata": {
        "id": "MU70H9TOvceE",
        "outputId": "9ecc723d-4398-4c2a-ff14-ce62c3258cb8",
        "colab": {
          "base_uri": "https://localhost:8080/",
          "height": 472,
          "referenced_widgets": [
            "857b907dbd0a4ddbb785707ff3eaed2d",
            "42c1be5f28e841ca99ed8fd8bb6ba0a6",
            "3916cf7c87a9484fa3521ac9f1f50645",
            "db8290640f34447aafdc55b86d050d50",
            "70a10ac5ea0c414c8d303b40166ec0c8",
            "81b270505f424d3d8a811ba677b0ac9f",
            "f528c7ef6ea24c82be364f352b95f8bf",
            "2bad441e9db14439a7cc718d3b78af1d"
          ]
        }
      },
      "source": [
        "lassolars_ic_params = optimize()"
      ],
      "execution_count": 51,
      "outputs": [
        {
          "output_type": "stream",
          "text": [
            "\u001b[32m[I 2021-05-22 11:34:14,616]\u001b[0m A new study created in memory with name: no-name-7da020c4-b54e-4b46-aa84-cfac224c47ef\u001b[0m\n"
          ],
          "name": "stderr"
        },
        {
          "output_type": "display_data",
          "data": {
            "application/vnd.jupyter.widget-view+json": {
              "model_id": "857b907dbd0a4ddbb785707ff3eaed2d",
              "version_minor": 0,
              "version_major": 2
            },
            "text/plain": [
              "HBox(children=(FloatProgress(value=0.0, max=10.0), HTML(value='')))"
            ]
          },
          "metadata": {
            "tags": []
          }
        },
        {
          "output_type": "stream",
          "text": [
            "\r\u001b[33m[W 2021-05-22 11:34:14,652]\u001b[0m Trial 0 failed because of the following error: TypeError('objective_lassolars_ic() takes 0 positional arguments but 1 was given')\n",
            "Traceback (most recent call last):\n",
            "  File \"/usr/local/lib/python3.7/dist-packages/optuna/_optimize.py\", line 217, in _run_trial\n",
            "    value_or_values = func(trial)\n",
            "TypeError: objective_lassolars_ic() takes 0 positional arguments but 1 was given\u001b[0m\n",
            "\n"
          ],
          "name": "stdout"
        },
        {
          "output_type": "error",
          "ename": "TypeError",
          "evalue": "ignored",
          "traceback": [
            "\u001b[0;31m---------------------------------------------------------------------------\u001b[0m",
            "\u001b[0;31mTypeError\u001b[0m                                 Traceback (most recent call last)",
            "\u001b[0;32m<ipython-input-51-91725a8e4b38>\u001b[0m in \u001b[0;36m<module>\u001b[0;34m()\u001b[0m\n\u001b[0;32m----> 1\u001b[0;31m \u001b[0mlassolars_ic_params\u001b[0m \u001b[0;34m=\u001b[0m \u001b[0moptimize\u001b[0m\u001b[0;34m(\u001b[0m\u001b[0;34m)\u001b[0m\u001b[0;34m\u001b[0m\u001b[0;34m\u001b[0m\u001b[0m\n\u001b[0m",
            "\u001b[0;32m<ipython-input-50-335e9fd36e4f>\u001b[0m in \u001b[0;36moptimize\u001b[0;34m()\u001b[0m\n\u001b[1;32m     58\u001b[0m \u001b[0;32mdef\u001b[0m \u001b[0moptimize\u001b[0m\u001b[0;34m(\u001b[0m\u001b[0;34m)\u001b[0m\u001b[0;34m:\u001b[0m\u001b[0;34m\u001b[0m\u001b[0;34m\u001b[0m\u001b[0m\n\u001b[1;32m     59\u001b[0m     \u001b[0mstudy\u001b[0m \u001b[0;34m=\u001b[0m \u001b[0moptuna\u001b[0m\u001b[0;34m.\u001b[0m\u001b[0mcreate_study\u001b[0m\u001b[0;34m(\u001b[0m\u001b[0mdirection\u001b[0m\u001b[0;34m=\u001b[0m\u001b[0;34m'maximize'\u001b[0m\u001b[0;34m)\u001b[0m\u001b[0;34m\u001b[0m\u001b[0;34m\u001b[0m\u001b[0m\n\u001b[0;32m---> 60\u001b[0;31m     \u001b[0mstudy\u001b[0m\u001b[0;34m.\u001b[0m\u001b[0moptimize\u001b[0m\u001b[0;34m(\u001b[0m\u001b[0mobjective_lassolars_ic\u001b[0m\u001b[0;34m,\u001b[0m \u001b[0mn_trials\u001b[0m\u001b[0;34m=\u001b[0m\u001b[0mN_TRIALS\u001b[0m\u001b[0;34m,\u001b[0m \u001b[0mshow_progress_bar\u001b[0m\u001b[0;34m=\u001b[0m \u001b[0;32mTrue\u001b[0m\u001b[0;34m)\u001b[0m\u001b[0;34m\u001b[0m\u001b[0;34m\u001b[0m\u001b[0m\n\u001b[0m\u001b[1;32m     61\u001b[0m     \u001b[0mdisplay\u001b[0m\u001b[0;34m(\u001b[0m\u001b[0mstudy\u001b[0m\u001b[0;34m.\u001b[0m\u001b[0mbest_params\u001b[0m\u001b[0;34m)\u001b[0m\u001b[0;34m\u001b[0m\u001b[0;34m\u001b[0m\u001b[0m\n\u001b[1;32m     62\u001b[0m     \u001b[0mdisplay\u001b[0m\u001b[0;34m(\u001b[0m\u001b[0mstudy\u001b[0m\u001b[0;34m.\u001b[0m\u001b[0mbest_trial\u001b[0m\u001b[0;34m.\u001b[0m\u001b[0mvalue\u001b[0m\u001b[0;34m)\u001b[0m\u001b[0;34m\u001b[0m\u001b[0;34m\u001b[0m\u001b[0m\n",
            "\u001b[0;32m/usr/local/lib/python3.7/dist-packages/optuna/study.py\u001b[0m in \u001b[0;36moptimize\u001b[0;34m(self, func, n_trials, timeout, n_jobs, catch, callbacks, gc_after_trial, show_progress_bar)\u001b[0m\n\u001b[1;32m    407\u001b[0m             \u001b[0mcallbacks\u001b[0m\u001b[0;34m=\u001b[0m\u001b[0mcallbacks\u001b[0m\u001b[0;34m,\u001b[0m\u001b[0;34m\u001b[0m\u001b[0;34m\u001b[0m\u001b[0m\n\u001b[1;32m    408\u001b[0m             \u001b[0mgc_after_trial\u001b[0m\u001b[0;34m=\u001b[0m\u001b[0mgc_after_trial\u001b[0m\u001b[0;34m,\u001b[0m\u001b[0;34m\u001b[0m\u001b[0;34m\u001b[0m\u001b[0m\n\u001b[0;32m--> 409\u001b[0;31m             \u001b[0mshow_progress_bar\u001b[0m\u001b[0;34m=\u001b[0m\u001b[0mshow_progress_bar\u001b[0m\u001b[0;34m,\u001b[0m\u001b[0;34m\u001b[0m\u001b[0;34m\u001b[0m\u001b[0m\n\u001b[0m\u001b[1;32m    410\u001b[0m         )\n\u001b[1;32m    411\u001b[0m \u001b[0;34m\u001b[0m\u001b[0m\n",
            "\u001b[0;32m/usr/local/lib/python3.7/dist-packages/optuna/_optimize.py\u001b[0m in \u001b[0;36m_optimize\u001b[0;34m(study, func, n_trials, timeout, n_jobs, catch, callbacks, gc_after_trial, show_progress_bar)\u001b[0m\n\u001b[1;32m     74\u001b[0m                 \u001b[0mreseed_sampler_rng\u001b[0m\u001b[0;34m=\u001b[0m\u001b[0;32mFalse\u001b[0m\u001b[0;34m,\u001b[0m\u001b[0;34m\u001b[0m\u001b[0;34m\u001b[0m\u001b[0m\n\u001b[1;32m     75\u001b[0m                 \u001b[0mtime_start\u001b[0m\u001b[0;34m=\u001b[0m\u001b[0;32mNone\u001b[0m\u001b[0;34m,\u001b[0m\u001b[0;34m\u001b[0m\u001b[0;34m\u001b[0m\u001b[0m\n\u001b[0;32m---> 76\u001b[0;31m                 \u001b[0mprogress_bar\u001b[0m\u001b[0;34m=\u001b[0m\u001b[0mprogress_bar\u001b[0m\u001b[0;34m,\u001b[0m\u001b[0;34m\u001b[0m\u001b[0;34m\u001b[0m\u001b[0m\n\u001b[0m\u001b[1;32m     77\u001b[0m             )\n\u001b[1;32m     78\u001b[0m         \u001b[0;32melse\u001b[0m\u001b[0;34m:\u001b[0m\u001b[0;34m\u001b[0m\u001b[0;34m\u001b[0m\u001b[0m\n",
            "\u001b[0;32m/usr/local/lib/python3.7/dist-packages/optuna/_optimize.py\u001b[0m in \u001b[0;36m_optimize_sequential\u001b[0;34m(study, func, n_trials, timeout, catch, callbacks, gc_after_trial, reseed_sampler_rng, time_start, progress_bar)\u001b[0m\n\u001b[1;32m    161\u001b[0m \u001b[0;34m\u001b[0m\u001b[0m\n\u001b[1;32m    162\u001b[0m         \u001b[0;32mtry\u001b[0m\u001b[0;34m:\u001b[0m\u001b[0;34m\u001b[0m\u001b[0;34m\u001b[0m\u001b[0m\n\u001b[0;32m--> 163\u001b[0;31m             \u001b[0mtrial\u001b[0m \u001b[0;34m=\u001b[0m \u001b[0m_run_trial\u001b[0m\u001b[0;34m(\u001b[0m\u001b[0mstudy\u001b[0m\u001b[0;34m,\u001b[0m \u001b[0mfunc\u001b[0m\u001b[0;34m,\u001b[0m \u001b[0mcatch\u001b[0m\u001b[0;34m)\u001b[0m\u001b[0;34m\u001b[0m\u001b[0;34m\u001b[0m\u001b[0m\n\u001b[0m\u001b[1;32m    164\u001b[0m         \u001b[0;32mexcept\u001b[0m \u001b[0mException\u001b[0m\u001b[0;34m:\u001b[0m\u001b[0;34m\u001b[0m\u001b[0;34m\u001b[0m\u001b[0m\n\u001b[1;32m    165\u001b[0m             \u001b[0;32mraise\u001b[0m\u001b[0;34m\u001b[0m\u001b[0;34m\u001b[0m\u001b[0m\n",
            "\u001b[0;32m/usr/local/lib/python3.7/dist-packages/optuna/_optimize.py\u001b[0m in \u001b[0;36m_run_trial\u001b[0;34m(study, func, catch)\u001b[0m\n\u001b[1;32m    266\u001b[0m \u001b[0;34m\u001b[0m\u001b[0m\n\u001b[1;32m    267\u001b[0m     \u001b[0;32mif\u001b[0m \u001b[0mstate\u001b[0m \u001b[0;34m==\u001b[0m \u001b[0mTrialState\u001b[0m\u001b[0;34m.\u001b[0m\u001b[0mFAIL\u001b[0m \u001b[0;32mand\u001b[0m \u001b[0mfunc_err\u001b[0m \u001b[0;32mis\u001b[0m \u001b[0;32mnot\u001b[0m \u001b[0;32mNone\u001b[0m \u001b[0;32mand\u001b[0m \u001b[0;32mnot\u001b[0m \u001b[0misinstance\u001b[0m\u001b[0;34m(\u001b[0m\u001b[0mfunc_err\u001b[0m\u001b[0;34m,\u001b[0m \u001b[0mcatch\u001b[0m\u001b[0;34m)\u001b[0m\u001b[0;34m:\u001b[0m\u001b[0;34m\u001b[0m\u001b[0;34m\u001b[0m\u001b[0m\n\u001b[0;32m--> 268\u001b[0;31m         \u001b[0;32mraise\u001b[0m \u001b[0mfunc_err\u001b[0m\u001b[0;34m\u001b[0m\u001b[0;34m\u001b[0m\u001b[0m\n\u001b[0m\u001b[1;32m    269\u001b[0m     \u001b[0;32mreturn\u001b[0m \u001b[0mtrial\u001b[0m\u001b[0;34m\u001b[0m\u001b[0;34m\u001b[0m\u001b[0m\n\u001b[1;32m    270\u001b[0m \u001b[0;34m\u001b[0m\u001b[0m\n",
            "\u001b[0;32m/usr/local/lib/python3.7/dist-packages/optuna/_optimize.py\u001b[0m in \u001b[0;36m_run_trial\u001b[0;34m(study, func, catch)\u001b[0m\n\u001b[1;32m    215\u001b[0m \u001b[0;34m\u001b[0m\u001b[0m\n\u001b[1;32m    216\u001b[0m     \u001b[0;32mtry\u001b[0m\u001b[0;34m:\u001b[0m\u001b[0;34m\u001b[0m\u001b[0;34m\u001b[0m\u001b[0m\n\u001b[0;32m--> 217\u001b[0;31m         \u001b[0mvalue_or_values\u001b[0m \u001b[0;34m=\u001b[0m \u001b[0mfunc\u001b[0m\u001b[0;34m(\u001b[0m\u001b[0mtrial\u001b[0m\u001b[0;34m)\u001b[0m\u001b[0;34m\u001b[0m\u001b[0;34m\u001b[0m\u001b[0m\n\u001b[0m\u001b[1;32m    218\u001b[0m     \u001b[0;32mexcept\u001b[0m \u001b[0mexceptions\u001b[0m\u001b[0;34m.\u001b[0m\u001b[0mTrialPruned\u001b[0m \u001b[0;32mas\u001b[0m \u001b[0me\u001b[0m\u001b[0;34m:\u001b[0m\u001b[0;34m\u001b[0m\u001b[0;34m\u001b[0m\u001b[0m\n\u001b[1;32m    219\u001b[0m         \u001b[0;31m# TODO(mamu): Handle multi-objective cases.\u001b[0m\u001b[0;34m\u001b[0m\u001b[0;34m\u001b[0m\u001b[0;34m\u001b[0m\u001b[0m\n",
            "\u001b[0;31mTypeError\u001b[0m: objective_lassolars_ic() takes 0 positional arguments but 1 was given"
          ]
        }
      ]
    },
    {
      "cell_type": "code",
      "metadata": {
        "id": "-KsnPfrDXJc6",
        "outputId": "d4b22b08-a71f-4d04-adb3-67b2e90c7171",
        "colab": {
          "base_uri": "https://localhost:8080/"
        }
      },
      "source": [
        "lassolars_ic_params"
      ],
      "execution_count": 45,
      "outputs": [
        {
          "output_type": "execute_result",
          "data": {
            "text/plain": [
              "{'criterion': 'aic', 'fit_intercept': 'Fasle'}"
            ]
          },
          "metadata": {
            "tags": []
          },
          "execution_count": 45
        }
      ]
    },
    {
      "cell_type": "code",
      "metadata": {
        "id": "nXXeUVH9XJaF"
      },
      "source": [
        ""
      ],
      "execution_count": null,
      "outputs": []
    },
    {
      "cell_type": "markdown",
      "metadata": {
        "id": "0fMk67dxXHWj"
      },
      "source": [
        "# Preds"
      ]
    },
    {
      "cell_type": "code",
      "metadata": {
        "id": "b1U7fVnYO6Ha",
        "colab": {
          "base_uri": "https://localhost:8080/"
        },
        "outputId": "65acbb52-6bee-4af5-e45e-8e846c80ea57"
      },
      "source": [
        "# print(test_preds_model_name)"
      ],
      "execution_count": 19,
      "outputs": [
        {
          "output_type": "stream",
          "text": [
            "['test_pred_BayesianRidge', 'test_pred_HuberRegressor', 'test_pred_Lars', 'test_pred_LassoLarsIC', 'test_pred_LinearRegression', 'test_pred_Ridge', 'test_pred_SGDRegressor', 'test_pred_TransformedTargetRegressor', 'test_pred_AdaBoostRegressor', 'test_pred_BaggingRegressor', 'test_pred_DecisionTreeRegressor', 'test_pred_ElasticNet', 'test_pred_ExtraTreeRegressor', 'test_pred_ExtraTreesRegressor', 'test_pred_GradientBoostingRegressor', 'test_pred_HistGradientBoostingRegressor', 'test_pred_Lasso', 'test_pred_LassoLars', 'test_pred_OrthogonalMatchingPursuit', 'test_pred_PassiveAggressiveRegressor', 'test_pred_RANSACRegressor', 'test_pred_RandomForestRegressor', 'test_pred_XGBRegressor', 'test_pred_LGBMRegressor']\n"
          ],
          "name": "stdout"
        }
      ]
    },
    {
      "cell_type": "code",
      "metadata": {
        "id": "zNZCMPor1WBQ",
        "colab": {
          "base_uri": "https://localhost:8080/",
          "height": 767
        },
        "outputId": "ea3fc064-1f8b-4dd4-b494-55e01b66e85c"
      },
      "source": [
        ""
      ],
      "execution_count": 30,
      "outputs": [
        {
          "output_type": "execute_result",
          "data": {
            "text/html": [
              "<div>\n",
              "<style scoped>\n",
              "    .dataframe tbody tr th:only-of-type {\n",
              "        vertical-align: middle;\n",
              "    }\n",
              "\n",
              "    .dataframe tbody tr th {\n",
              "        vertical-align: top;\n",
              "    }\n",
              "\n",
              "    .dataframe thead th {\n",
              "        text-align: right;\n",
              "    }\n",
              "</style>\n",
              "<table border=\"1\" class=\"dataframe\">\n",
              "  <thead>\n",
              "    <tr style=\"text-align: right;\">\n",
              "      <th></th>\n",
              "      <th>model</th>\n",
              "      <th>r_score</th>\n",
              "      <th>g_score</th>\n",
              "      <th>b_score</th>\n",
              "      <th>mean_score</th>\n",
              "    </tr>\n",
              "  </thead>\n",
              "  <tbody>\n",
              "    <tr>\n",
              "      <th>3</th>\n",
              "      <td>LassoLarsIC</td>\n",
              "      <td>-0.005832</td>\n",
              "      <td>0.086648</td>\n",
              "      <td>0.086879</td>\n",
              "      <td>0.055898</td>\n",
              "    </tr>\n",
              "    <tr>\n",
              "      <th>6</th>\n",
              "      <td>SGDRegressor</td>\n",
              "      <td>-0.017823</td>\n",
              "      <td>0.077560</td>\n",
              "      <td>0.091449</td>\n",
              "      <td>0.050396</td>\n",
              "    </tr>\n",
              "    <tr>\n",
              "      <th>2</th>\n",
              "      <td>Lars</td>\n",
              "      <td>-0.019103</td>\n",
              "      <td>0.077005</td>\n",
              "      <td>0.093062</td>\n",
              "      <td>0.050321</td>\n",
              "    </tr>\n",
              "    <tr>\n",
              "      <th>0</th>\n",
              "      <td>BayesianRidge</td>\n",
              "      <td>-0.014530</td>\n",
              "      <td>0.077892</td>\n",
              "      <td>0.085976</td>\n",
              "      <td>0.049779</td>\n",
              "    </tr>\n",
              "    <tr>\n",
              "      <th>18</th>\n",
              "      <td>OrthogonalMatchingPursuit</td>\n",
              "      <td>-0.004511</td>\n",
              "      <td>0.088286</td>\n",
              "      <td>0.059466</td>\n",
              "      <td>0.047747</td>\n",
              "    </tr>\n",
              "    <tr>\n",
              "      <th>5</th>\n",
              "      <td>Ridge</td>\n",
              "      <td>-0.025705</td>\n",
              "      <td>0.073455</td>\n",
              "      <td>0.083952</td>\n",
              "      <td>0.043900</td>\n",
              "    </tr>\n",
              "    <tr>\n",
              "      <th>4</th>\n",
              "      <td>LinearRegression</td>\n",
              "      <td>-0.025927</td>\n",
              "      <td>0.073273</td>\n",
              "      <td>0.083738</td>\n",
              "      <td>0.043695</td>\n",
              "    </tr>\n",
              "    <tr>\n",
              "      <th>7</th>\n",
              "      <td>TransformedTargetRegressor</td>\n",
              "      <td>-0.025927</td>\n",
              "      <td>0.073273</td>\n",
              "      <td>0.083738</td>\n",
              "      <td>0.043695</td>\n",
              "    </tr>\n",
              "    <tr>\n",
              "      <th>1</th>\n",
              "      <td>HuberRegressor</td>\n",
              "      <td>-0.025271</td>\n",
              "      <td>0.066406</td>\n",
              "      <td>0.079016</td>\n",
              "      <td>0.040050</td>\n",
              "    </tr>\n",
              "    <tr>\n",
              "      <th>22</th>\n",
              "      <td>XGBRegressor</td>\n",
              "      <td>-0.030161</td>\n",
              "      <td>0.049301</td>\n",
              "      <td>0.075989</td>\n",
              "      <td>0.031710</td>\n",
              "    </tr>\n",
              "    <tr>\n",
              "      <th>14</th>\n",
              "      <td>GradientBoostingRegressor</td>\n",
              "      <td>-0.030006</td>\n",
              "      <td>0.049005</td>\n",
              "      <td>0.071262</td>\n",
              "      <td>0.030087</td>\n",
              "    </tr>\n",
              "    <tr>\n",
              "      <th>13</th>\n",
              "      <td>ExtraTreesRegressor</td>\n",
              "      <td>-0.016245</td>\n",
              "      <td>0.045649</td>\n",
              "      <td>0.057482</td>\n",
              "      <td>0.028962</td>\n",
              "    </tr>\n",
              "    <tr>\n",
              "      <th>23</th>\n",
              "      <td>LGBMRegressor</td>\n",
              "      <td>-0.016304</td>\n",
              "      <td>0.040594</td>\n",
              "      <td>0.060696</td>\n",
              "      <td>0.028329</td>\n",
              "    </tr>\n",
              "    <tr>\n",
              "      <th>15</th>\n",
              "      <td>HistGradientBoostingRegressor</td>\n",
              "      <td>-0.016315</td>\n",
              "      <td>0.040185</td>\n",
              "      <td>0.059967</td>\n",
              "      <td>0.027946</td>\n",
              "    </tr>\n",
              "    <tr>\n",
              "      <th>21</th>\n",
              "      <td>RandomForestRegressor</td>\n",
              "      <td>-0.018951</td>\n",
              "      <td>0.040337</td>\n",
              "      <td>0.053457</td>\n",
              "      <td>0.024948</td>\n",
              "    </tr>\n",
              "    <tr>\n",
              "      <th>9</th>\n",
              "      <td>BaggingRegressor</td>\n",
              "      <td>-0.011818</td>\n",
              "      <td>0.050289</td>\n",
              "      <td>0.035678</td>\n",
              "      <td>0.024716</td>\n",
              "    </tr>\n",
              "    <tr>\n",
              "      <th>8</th>\n",
              "      <td>AdaBoostRegressor</td>\n",
              "      <td>-0.014579</td>\n",
              "      <td>0.025971</td>\n",
              "      <td>0.027940</td>\n",
              "      <td>0.013111</td>\n",
              "    </tr>\n",
              "    <tr>\n",
              "      <th>10</th>\n",
              "      <td>DecisionTreeRegressor</td>\n",
              "      <td>-0.002705</td>\n",
              "      <td>0.016542</td>\n",
              "      <td>0.015451</td>\n",
              "      <td>0.009762</td>\n",
              "    </tr>\n",
              "    <tr>\n",
              "      <th>19</th>\n",
              "      <td>PassiveAggressiveRegressor</td>\n",
              "      <td>-0.031340</td>\n",
              "      <td>0.009293</td>\n",
              "      <td>-0.011744</td>\n",
              "      <td>-0.011264</td>\n",
              "    </tr>\n",
              "    <tr>\n",
              "      <th>20</th>\n",
              "      <td>RANSACRegressor</td>\n",
              "      <td>-0.034859</td>\n",
              "      <td>-0.006303</td>\n",
              "      <td>0.003649</td>\n",
              "      <td>-0.012504</td>\n",
              "    </tr>\n",
              "    <tr>\n",
              "      <th>12</th>\n",
              "      <td>ExtraTreeRegressor</td>\n",
              "      <td>-0.017084</td>\n",
              "      <td>-0.017236</td>\n",
              "      <td>-0.006053</td>\n",
              "      <td>-0.013457</td>\n",
              "    </tr>\n",
              "    <tr>\n",
              "      <th>11</th>\n",
              "      <td>ElasticNet</td>\n",
              "      <td>-0.043275</td>\n",
              "      <td>-0.031591</td>\n",
              "      <td>-0.036773</td>\n",
              "      <td>-0.037213</td>\n",
              "    </tr>\n",
              "    <tr>\n",
              "      <th>16</th>\n",
              "      <td>Lasso</td>\n",
              "      <td>-0.043275</td>\n",
              "      <td>-0.031591</td>\n",
              "      <td>-0.036773</td>\n",
              "      <td>-0.037213</td>\n",
              "    </tr>\n",
              "    <tr>\n",
              "      <th>17</th>\n",
              "      <td>LassoLars</td>\n",
              "      <td>-0.043275</td>\n",
              "      <td>-0.031591</td>\n",
              "      <td>-0.036773</td>\n",
              "      <td>-0.037213</td>\n",
              "    </tr>\n",
              "  </tbody>\n",
              "</table>\n",
              "</div>"
            ],
            "text/plain": [
              "                            model   r_score   g_score   b_score  mean_score\n",
              "3                     LassoLarsIC -0.005832  0.086648  0.086879    0.055898\n",
              "6                    SGDRegressor -0.017823  0.077560  0.091449    0.050396\n",
              "2                            Lars -0.019103  0.077005  0.093062    0.050321\n",
              "0                   BayesianRidge -0.014530  0.077892  0.085976    0.049779\n",
              "18      OrthogonalMatchingPursuit -0.004511  0.088286  0.059466    0.047747\n",
              "5                           Ridge -0.025705  0.073455  0.083952    0.043900\n",
              "4                LinearRegression -0.025927  0.073273  0.083738    0.043695\n",
              "7      TransformedTargetRegressor -0.025927  0.073273  0.083738    0.043695\n",
              "1                  HuberRegressor -0.025271  0.066406  0.079016    0.040050\n",
              "22                   XGBRegressor -0.030161  0.049301  0.075989    0.031710\n",
              "14      GradientBoostingRegressor -0.030006  0.049005  0.071262    0.030087\n",
              "13            ExtraTreesRegressor -0.016245  0.045649  0.057482    0.028962\n",
              "23                  LGBMRegressor -0.016304  0.040594  0.060696    0.028329\n",
              "15  HistGradientBoostingRegressor -0.016315  0.040185  0.059967    0.027946\n",
              "21          RandomForestRegressor -0.018951  0.040337  0.053457    0.024948\n",
              "9                BaggingRegressor -0.011818  0.050289  0.035678    0.024716\n",
              "8               AdaBoostRegressor -0.014579  0.025971  0.027940    0.013111\n",
              "10          DecisionTreeRegressor -0.002705  0.016542  0.015451    0.009762\n",
              "19     PassiveAggressiveRegressor -0.031340  0.009293 -0.011744   -0.011264\n",
              "20                RANSACRegressor -0.034859 -0.006303  0.003649   -0.012504\n",
              "12             ExtraTreeRegressor -0.017084 -0.017236 -0.006053   -0.013457\n",
              "11                     ElasticNet -0.043275 -0.031591 -0.036773   -0.037213\n",
              "16                          Lasso -0.043275 -0.031591 -0.036773   -0.037213\n",
              "17                      LassoLars -0.043275 -0.031591 -0.036773   -0.037213"
            ]
          },
          "metadata": {
            "tags": []
          },
          "execution_count": 30
        }
      ]
    },
    {
      "cell_type": "code",
      "metadata": {
        "id": "W5cgMhhm7pD3"
      },
      "source": [
        "prediction = test_pred_SGDRegressor + test_pred_HuberRegressor + test_pred_Lars + test_pred_Ridge + test_pred_LassoLarsIC"
      ],
      "execution_count": 23,
      "outputs": []
    },
    {
      "cell_type": "code",
      "metadata": {
        "id": "W5D4UBgzRGAJ"
      },
      "source": [
        "prediction = prediction / 5"
      ],
      "execution_count": 24,
      "outputs": []
    },
    {
      "cell_type": "code",
      "metadata": {
        "id": "-T-iaKGJRxm1",
        "colab": {
          "base_uri": "https://localhost:8080/",
          "height": 761
        },
        "outputId": "629517ec-6bfa-415e-9c73-5e5de7ed953c"
      },
      "source": [
        "prediction['target_r'].plot(kind='hist')\n",
        "plt.show()\n",
        "prediction['target_g'].plot(kind='hist')\n",
        "plt.show()\n",
        "prediction['target_b'].plot(kind='hist')\n",
        "plt.show()"
      ],
      "execution_count": 25,
      "outputs": [
        {
          "output_type": "display_data",
          "data": {
            "image/png": "[encoded data removed]",
            "text/plain": [
              "<Figure size 432x288 with 1 Axes>"
            ]
          },
          "metadata": {
            "tags": [],
            "needs_background": "light"
          }
        },
        {
          "output_type": "display_data",
          "data": {
            "image/png": "[encoded data removed]",
            "text/plain": [
              "<Figure size 432x288 with 1 Axes>"
            ]
          },
          "metadata": {
            "tags": [],
            "needs_background": "light"
          }
        },
        {
          "output_type": "display_data",
          "data": {
            "image/png": "[encoded data removed]",
            "text/plain": [
              "<Figure size 432x288 with 1 Axes>"
            ]
          },
          "metadata": {
            "tags": [],
            "needs_background": "light"
          }
        }
      ]
    },
    {
      "cell_type": "code",
      "metadata": {
        "id": "9RhSgp41TvC6",
        "outputId": "96a4bb09-5e0c-4f7c-b1b4-2e2d4422449f",
        "colab": {
          "base_uri": "https://localhost:8080/",
          "height": 406
        }
      },
      "source": [
        "prediction"
      ],
      "execution_count": 27,
      "outputs": [
        {
          "output_type": "execute_result",
          "data": {
            "text/html": [
              "<div>\n",
              "<style scoped>\n",
              "    .dataframe tbody tr th:only-of-type {\n",
              "        vertical-align: middle;\n",
              "    }\n",
              "\n",
              "    .dataframe tbody tr th {\n",
              "        vertical-align: top;\n",
              "    }\n",
              "\n",
              "    .dataframe thead th {\n",
              "        text-align: right;\n",
              "    }\n",
              "</style>\n",
              "<table border=\"1\" class=\"dataframe\">\n",
              "  <thead>\n",
              "    <tr style=\"text-align: right;\">\n",
              "      <th></th>\n",
              "      <th>target_r</th>\n",
              "      <th>target_g</th>\n",
              "      <th>target_b</th>\n",
              "    </tr>\n",
              "  </thead>\n",
              "  <tbody>\n",
              "    <tr>\n",
              "      <th>0</th>\n",
              "      <td>0.449834</td>\n",
              "      <td>0.425247</td>\n",
              "      <td>0.433877</td>\n",
              "    </tr>\n",
              "    <tr>\n",
              "      <th>1</th>\n",
              "      <td>0.539753</td>\n",
              "      <td>0.586936</td>\n",
              "      <td>0.595939</td>\n",
              "    </tr>\n",
              "    <tr>\n",
              "      <th>2</th>\n",
              "      <td>0.529707</td>\n",
              "      <td>0.612011</td>\n",
              "      <td>0.595883</td>\n",
              "    </tr>\n",
              "    <tr>\n",
              "      <th>3</th>\n",
              "      <td>0.464585</td>\n",
              "      <td>0.428143</td>\n",
              "      <td>0.429419</td>\n",
              "    </tr>\n",
              "    <tr>\n",
              "      <th>4</th>\n",
              "      <td>0.533656</td>\n",
              "      <td>0.502900</td>\n",
              "      <td>0.552891</td>\n",
              "    </tr>\n",
              "    <tr>\n",
              "      <th>...</th>\n",
              "      <td>...</td>\n",
              "      <td>...</td>\n",
              "      <td>...</td>\n",
              "    </tr>\n",
              "    <tr>\n",
              "      <th>4418</th>\n",
              "      <td>0.472585</td>\n",
              "      <td>0.521672</td>\n",
              "      <td>0.493304</td>\n",
              "    </tr>\n",
              "    <tr>\n",
              "      <th>4419</th>\n",
              "      <td>0.497071</td>\n",
              "      <td>0.531760</td>\n",
              "      <td>0.506529</td>\n",
              "    </tr>\n",
              "    <tr>\n",
              "      <th>4420</th>\n",
              "      <td>0.487061</td>\n",
              "      <td>0.523665</td>\n",
              "      <td>0.500014</td>\n",
              "    </tr>\n",
              "    <tr>\n",
              "      <th>4421</th>\n",
              "      <td>0.475245</td>\n",
              "      <td>0.491682</td>\n",
              "      <td>0.446685</td>\n",
              "    </tr>\n",
              "    <tr>\n",
              "      <th>4422</th>\n",
              "      <td>0.498789</td>\n",
              "      <td>0.472229</td>\n",
              "      <td>0.446764</td>\n",
              "    </tr>\n",
              "  </tbody>\n",
              "</table>\n",
              "<p>4423 rows × 3 columns</p>\n",
              "</div>"
            ],
            "text/plain": [
              "      target_r  target_g  target_b\n",
              "0     0.449834  0.425247  0.433877\n",
              "1     0.539753  0.586936  0.595939\n",
              "2     0.529707  0.612011  0.595883\n",
              "3     0.464585  0.428143  0.429419\n",
              "4     0.533656  0.502900  0.552891\n",
              "...        ...       ...       ...\n",
              "4418  0.472585  0.521672  0.493304\n",
              "4419  0.497071  0.531760  0.506529\n",
              "4420  0.487061  0.523665  0.500014\n",
              "4421  0.475245  0.491682  0.446685\n",
              "4422  0.498789  0.472229  0.446764\n",
              "\n",
              "[4423 rows x 3 columns]"
            ]
          },
          "metadata": {
            "tags": []
          },
          "execution_count": 27
        }
      ]
    },
    {
      "cell_type": "code",
      "metadata": {
        "id": "vIJInkGiR2yU",
        "colab": {
          "base_uri": "https://localhost:8080/"
        },
        "outputId": "38b86b24-ebb7-4f24-f426-7b222541e565"
      },
      "source": [
        "API_KEY = \"0GIskIC9Rd1I8sMw6nStutbIbMx7AaZzAyNfuMOVAVWgJtNa1IVQHZAD3WPj\" # <- HERE\n",
        "\n",
        "r = requests.post(\"https://tournament.datacrunch.com/api/submission\",\n",
        "    files = {\n",
        "        \"file\": (\"x\", prediction.to_csv().encode('ascii'))\n",
        "    },\n",
        "    data = {\n",
        "        \"apiKey\": API_KEY\n",
        "    },\n",
        ")\n",
        "\n",
        "if r.status_code == 200:\n",
        "    print(\"Submission submitted :)\")\n",
        "elif r.status_code == 423:\n",
        "    print(\"ERR: Submissions are close\")\n",
        "    print(\"You can only submit during rounds eg: Friday 7pm GMT+1 to Sunday midnight GMT+1.\")\n",
        "    print(\"Or the server is currently crunching the submitted files, please wait some time before retrying.\")\n",
        "elif r.status_code == 422:\n",
        "    print(\"ERR: API Key is missing or empty\")\n",
        "    print(\"Did you forget to fill the API_KEY variable?\")\n",
        "elif r.status_code == 404:\n",
        "    print(\"ERR: Unknown API Key\")\n",
        "    print(\"You should check that the provided API key is valid and is the same as the one you've received by email.\")\n",
        "elif r.status_code == 400:\n",
        "    print(\"ERR: The file must not be empty\")\n",
        "    print(\"You have send a empty file.\")\n",
        "elif r.status_code == 401:\n",
        "    print(\"ERR: Your email hasn't been verified\")\n",
        "    print(\"Please verify your email or contact a cruncher.\")\n",
        "elif r.status_code == 429:\n",
        "    print(\"ERR: Too many submissions\")\n",
        "else:\n",
        "    print(\"ERR: Server returned: \" + str(r.status_code))\n",
        "    print(\"Ouch! It seems that we were not expecting this kind of result from the server, if the probleme persist, contact a cruncher.\")"
      ],
      "execution_count": null,
      "outputs": [
        {
          "output_type": "stream",
          "text": [
            "Submission submitted :)\n"
          ],
          "name": "stdout"
        }
      ]
    },
    {
      "cell_type": "code",
      "metadata": {
        "id": "yTzOw8JKR7_W"
      },
      "source": [
        ""
      ],
      "execution_count": null,
      "outputs": []
    }
  ]
}