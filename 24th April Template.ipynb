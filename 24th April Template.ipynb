{
  "nbformat": 4,
  "nbformat_minor": 0,
  "metadata": {
    "colab": {
      "name": "scratchpad",
      "provenance": [],
      "machine_shape": "hm",
      "include_colab_link": true
    },
    "kernelspec": {
      "display_name": "Python 3",
      "name": "python3"
    },
    "accelerator": "GPU",
    "widgets": {
      "application/vnd.jupyter.widget-state+json": {
        "dccb52a4c58a4a978a00b8aaa0600a78": {
          "model_module": "@jupyter-widgets/controls",
          "model_name": "HBoxModel",
          "state": {
            "_view_name": "HBoxView",
            "_dom_classes": [],
            "_model_name": "HBoxModel",
            "_view_module": "@jupyter-widgets/controls",
            "_model_module_version": "1.5.0",
            "_view_count": null,
            "_view_module_version": "1.5.0",
            "box_style": "",
            "layout": "IPY_MODEL_1b1147c117e84946964173020f2d10df",
            "_model_module": "@jupyter-widgets/controls",
            "children": [
              "IPY_MODEL_0e0f89e4ae2647abb0212e3bc09aa17b",
              "IPY_MODEL_b21f7e55f07e4d84bb8263349d1dd73e"
            ]
          }
        },
        "1b1147c117e84946964173020f2d10df": {
          "model_module": "@jupyter-widgets/base",
          "model_name": "LayoutModel",
          "state": {
            "_view_name": "LayoutView",
            "grid_template_rows": null,
            "right": null,
            "justify_content": null,
            "_view_module": "@jupyter-widgets/base",
            "overflow": null,
            "_model_module_version": "1.2.0",
            "_view_count": null,
            "flex_flow": null,
            "width": null,
            "min_width": null,
            "border": null,
            "align_items": null,
            "bottom": null,
            "_model_module": "@jupyter-widgets/base",
            "top": null,
            "grid_column": null,
            "overflow_y": null,
            "overflow_x": null,
            "grid_auto_flow": null,
            "grid_area": null,
            "grid_template_columns": null,
            "flex": null,
            "_model_name": "LayoutModel",
            "justify_items": null,
            "grid_row": null,
            "max_height": null,
            "align_content": null,
            "visibility": null,
            "align_self": null,
            "height": null,
            "min_height": null,
            "padding": null,
            "grid_auto_rows": null,
            "grid_gap": null,
            "max_width": null,
            "order": null,
            "_view_module_version": "1.2.0",
            "grid_template_areas": null,
            "object_position": null,
            "object_fit": null,
            "grid_auto_columns": null,
            "margin": null,
            "display": null,
            "left": null
          }
        },
        "0e0f89e4ae2647abb0212e3bc09aa17b": {
          "model_module": "@jupyter-widgets/controls",
          "model_name": "FloatProgressModel",
          "state": {
            "_view_name": "ProgressView",
            "style": "IPY_MODEL_302a112dc65f43f09cbd858b04b58a64",
            "_dom_classes": [],
            "description": "100%",
            "_model_name": "FloatProgressModel",
            "bar_style": "success",
            "max": 200,
            "_view_module": "@jupyter-widgets/controls",
            "_model_module_version": "1.5.0",
            "value": 200,
            "_view_count": null,
            "_view_module_version": "1.5.0",
            "orientation": "horizontal",
            "min": 0,
            "description_tooltip": null,
            "_model_module": "@jupyter-widgets/controls",
            "layout": "IPY_MODEL_aa66cafc2ebb4834bfe0c6e0e64b2d68"
          }
        },
        "b21f7e55f07e4d84bb8263349d1dd73e": {
          "model_module": "@jupyter-widgets/controls",
          "model_name": "HTMLModel",
          "state": {
            "_view_name": "HTMLView",
            "style": "IPY_MODEL_53db7776268d43d68289e11f5d14a3b3",
            "_dom_classes": [],
            "description": "",
            "_model_name": "HTMLModel",
            "placeholder": "​",
            "_view_module": "@jupyter-widgets/controls",
            "_model_module_version": "1.5.0",
            "value": " 200/200 [56:50&lt;00:00, 17.05s/it]",
            "_view_count": null,
            "_view_module_version": "1.5.0",
            "description_tooltip": null,
            "_model_module": "@jupyter-widgets/controls",
            "layout": "IPY_MODEL_d54887759a644fa898808b54671c1430"
          }
        },
        "302a112dc65f43f09cbd858b04b58a64": {
          "model_module": "@jupyter-widgets/controls",
          "model_name": "ProgressStyleModel",
          "state": {
            "_view_name": "StyleView",
            "_model_name": "ProgressStyleModel",
            "description_width": "initial",
            "_view_module": "@jupyter-widgets/base",
            "_model_module_version": "1.5.0",
            "_view_count": null,
            "_view_module_version": "1.2.0",
            "bar_color": null,
            "_model_module": "@jupyter-widgets/controls"
          }
        },
        "aa66cafc2ebb4834bfe0c6e0e64b2d68": {
          "model_module": "@jupyter-widgets/base",
          "model_name": "LayoutModel",
          "state": {
            "_view_name": "LayoutView",
            "grid_template_rows": null,
            "right": null,
            "justify_content": null,
            "_view_module": "@jupyter-widgets/base",
            "overflow": null,
            "_model_module_version": "1.2.0",
            "_view_count": null,
            "flex_flow": null,
            "width": null,
            "min_width": null,
            "border": null,
            "align_items": null,
            "bottom": null,
            "_model_module": "@jupyter-widgets/base",
            "top": null,
            "grid_column": null,
            "overflow_y": null,
            "overflow_x": null,
            "grid_auto_flow": null,
            "grid_area": null,
            "grid_template_columns": null,
            "flex": null,
            "_model_name": "LayoutModel",
            "justify_items": null,
            "grid_row": null,
            "max_height": null,
            "align_content": null,
            "visibility": null,
            "align_self": null,
            "height": null,
            "min_height": null,
            "padding": null,
            "grid_auto_rows": null,
            "grid_gap": null,
            "max_width": null,
            "order": null,
            "_view_module_version": "1.2.0",
            "grid_template_areas": null,
            "object_position": null,
            "object_fit": null,
            "grid_auto_columns": null,
            "margin": null,
            "display": null,
            "left": null
          }
        },
        "53db7776268d43d68289e11f5d14a3b3": {
          "model_module": "@jupyter-widgets/controls",
          "model_name": "DescriptionStyleModel",
          "state": {
            "_view_name": "StyleView",
            "_model_name": "DescriptionStyleModel",
            "description_width": "",
            "_view_module": "@jupyter-widgets/base",
            "_model_module_version": "1.5.0",
            "_view_count": null,
            "_view_module_version": "1.2.0",
            "_model_module": "@jupyter-widgets/controls"
          }
        },
        "d54887759a644fa898808b54671c1430": {
          "model_module": "@jupyter-widgets/base",
          "model_name": "LayoutModel",
          "state": {
            "_view_name": "LayoutView",
            "grid_template_rows": null,
            "right": null,
            "justify_content": null,
            "_view_module": "@jupyter-widgets/base",
            "overflow": null,
            "_model_module_version": "1.2.0",
            "_view_count": null,
            "flex_flow": null,
            "width": null,
            "min_width": null,
            "border": null,
            "align_items": null,
            "bottom": null,
            "_model_module": "@jupyter-widgets/base",
            "top": null,
            "grid_column": null,
            "overflow_y": null,
            "overflow_x": null,
            "grid_auto_flow": null,
            "grid_area": null,
            "grid_template_columns": null,
            "flex": null,
            "_model_name": "LayoutModel",
            "justify_items": null,
            "grid_row": null,
            "max_height": null,
            "align_content": null,
            "visibility": null,
            "align_self": null,
            "height": null,
            "min_height": null,
            "padding": null,
            "grid_auto_rows": null,
            "grid_gap": null,
            "max_width": null,
            "order": null,
            "_view_module_version": "1.2.0",
            "grid_template_areas": null,
            "object_position": null,
            "object_fit": null,
            "grid_auto_columns": null,
            "margin": null,
            "display": null,
            "left": null
          }
        }
      }
    }
  },
  "cells": [
    {
      "cell_type": "markdown",
      "metadata": {
        "id": "view-in-github",
        "colab_type": "text"
      },
      "source": [
        "<a href=\"https://colab.research.google.com/github/pratik-poudel/datacrunch/blob/main/24th%20April%20Template.ipynb\" target=\"_parent\"><img src=\"https://colab.research.google.com/assets/colab-badge.svg\" alt=\"Open In Colab\"/></a>"
      ]
    },
    {
      "cell_type": "code",
      "metadata": {
        "id": "lIYdn1woOS1n"
      },
      "source": [
        "import numpy as np\n",
        "import pandas as pd\n",
        "from collections import defaultdict\n",
        "from tqdm.notebook import tqdm\n",
        "from matplotlib import pyplot as plt\n",
        "import warnings\n",
        "warnings.filterwarnings('ignore')\n",
        "import seaborn as sns\n",
        "import gc\n",
        "# pd.options.display.float_format| = \"{:.2f}\".format\n",
        "pd.options.display.max_columns = 500\n",
        "\n",
        "\n",
        "from sklearn.model_selection import train_test_split\n",
        "from sklearn.metrics import accuracy_score \n",
        "from sklearn.metrics import classification_report \n",
        "import requests\n",
        "from scipy import stats\n",
        "\n",
        "import lightgbm as lgb\n",
        "\n",
        "from tensorflow.keras.callbacks import EarlyStopping, ModelCheckpoint\n",
        "\n",
        "import sklearn\n",
        "from sklearn import *\n",
        "from sklearn.experimental import enable_hist_gradient_boosting\n",
        "from sklearn.utils.testing import all_estimators\n",
        "from sklearn.base import RegressorMixin\n",
        "from sklearn.model_selection import train_test_split\n",
        "from sklearn.metrics import accuracy_score \n",
        "from sklearn.metrics import classification_report \n",
        "from sklearn.metrics import make_scorer\n",
        "from sklearn.model_selection import RepeatedKFold, cross_val_score\n",
        "from sklearn.multioutput import RegressorChain\n",
        "\n",
        "\n",
        "import requests\n",
        "import time\n",
        "from scipy import stats\n",
        "\n",
        "import lightgbm as lgb\n",
        "import xgboost as xgb\n"
      ],
      "execution_count": 7,
      "outputs": []
    },
    {
      "cell_type": "code",
      "metadata": {
        "id": "-Fp6KUxlw_3G"
      },
      "source": [
        "train_datalink_X = 'https://tournament.datacrunch.com/data/X_train.csv'  \n",
        "train_datalink_y = 'https://tournament.datacrunch.com/data/y_train.csv'\n",
        "hackathon_data_link = 'https://tournament.datacrunch.com/data/X_test.csv'"
      ],
      "execution_count": 2,
      "outputs": []
    },
    {
      "cell_type": "code",
      "metadata": {
        "id": "EH7b596jxFEG"
      },
      "source": [
        "train = pd.read_csv(train_datalink_X)\n",
        "target = pd.read_csv(train_datalink_y)\n",
        "test = pd.read_csv(hackathon_data_link)"
      ],
      "execution_count": 3,
      "outputs": []
    },
    {
      "cell_type": "code",
      "metadata": {
        "id": "UwaEDxRZztne",
        "outputId": "54dd7fb4-d918-4345-f474-84083b824060",
        "colab": {
          "base_uri": "https://localhost:8080/"
        }
      },
      "source": [
        "\n",
        "feat= [f for f in train.columns if \"Feature\" in f]\n",
        "print(feat)"
      ],
      "execution_count": 8,
      "outputs": [
        {
          "output_type": "stream",
          "text": [
            "['Feature_1', 'Feature_2', 'Feature_3', 'Feature_4', 'Feature_5', 'Feature_6', 'Feature_7', 'Feature_8', 'Feature_9', 'Feature_10', 'Feature_11', 'Feature_12', 'Feature_13', 'Feature_14']\n"
          ],
          "name": "stdout"
        }
      ]
    },
    {
      "cell_type": "code",
      "metadata": {
        "id": "gqyKA_3XWrgq"
      },
      "source": [
        "def scorer(y_test, y_pred):\n",
        "    # print(y_test)\n",
        "    true_r, pred_r = y_test['target_r'], y_pred[:, 0]\n",
        "    true_g, pred_g = y_test['target_g'], y_pred[:, 1]\n",
        "    true_b, pred_b = y_test['target_b'], y_pred[:, 2]\n",
        "\n",
        "    score_r = (stats.spearmanr(true_r, pred_r))[0]\n",
        "    score_g = (stats.spearmanr(true_r, pred_r))[0]\n",
        "    score_b = (stats.spearmanr(true_r, pred_r))[0]\n",
        "    # print(score_r, score_g, score_b)\n",
        "\n",
        "    # print(score)\n",
        "    # print('Score as calculated for the leader board (っಠ‿ಠ)っ {}'.format((score_r + score_g + score_b)/3))\n",
        "    return (score_r + score_g + score_b)/ 3 \n",
        "\n",
        "\n",
        "n_split=3\n",
        "n_repeat=2\n",
        "\n",
        "my_scorer = make_scorer(scorer, greater_is_better=True)\n",
        "cv = RepeatedKFold(n_splits=n_split, n_repeats=n_repeat, random_state=60)\n",
        "regressors = [\n",
        "                # ('AdaBoostRegressor', sklearn.ensemble.AdaBoostRegressor()),\n",
        "                # ('BaggingRegressor', sklearn.ensemble.BaggingRegressor()),\n",
        "                # ('BayesianRidge', sklearn.linear_model.BayesianRidge()),\n",
        "                ('DecisionTreeRegressor', sklearn.tree.DecisionTreeRegressor()),\n",
        "                # ('ElasticNet', sklearn.linear_model.ElasticNet()),\n",
        "                # ('ExtraTreeRegressor', sklearn.tree.ExtraTreeRegressor()),\n",
        "                # ('ExtraTreesRegressor', sklearn.ensemble.ExtraTreesRegressor()),\n",
        "                # ('GradientBoostingRegressor', sklearn.ensemble.GradientBoostingRegressor()),\n",
        "                # ('HistGradientBoostingRegressor',sklearn.ensemble.HistGradientBoostingRegressor()),\n",
        "                # ('HuberRegressor', sklearn.linear_model.HuberRegressor()),\n",
        "                # ('Lars', sklearn.linear_model.Lars()),\n",
        "                # ('Lasso', sklearn.linear_model.Lasso()),\n",
        "                # ('LassoLars', sklearn.linear_model.LassoLars()),\n",
        "                # ('LassoLarsIC', sklearn.linear_model.LassoLarsIC()),\n",
        "                # ('LinearRegression', sklearn.linear_model.LinearRegression()),\n",
        "                # ('OrthogonalMatchingPursuit',sklearn.linear_model.OrthogonalMatchingPursuit()),\n",
        "                # ('PassiveAggressiveRegressor',sklearn.linear_model.PassiveAggressiveRegressor()),\n",
        "                # ('RANSACRegressor', sklearn.linear_model.RANSACRegressor()),\n",
        "                # ('RandomForestRegressor', sklearn.ensemble.RandomForestRegressor()),\n",
        "                # ('Ridge', sklearn.linear_model.Ridge()),\n",
        "                # ('SGDRegressor', sklearn.linear_model.SGDRegressor()),\n",
        "                # ('TransformedTargetRegressor',sklearn.compose.TransformedTargetRegressor()),\n",
        "                # (\"XGBRegressor\", xgb.XGBRegressor(objective='reg:squarederror')),\n",
        "                # (\"LGBMRegressor\", lgb.LGBMRegressor())\n",
        "                ]\n",
        "\n",
        "results, names = list(), list()\n",
        "mean_scores = []\n",
        "std_scores = []\n",
        "time_taken_seconds = []\n",
        "for name, model in regressors:\n",
        "    if 'random_state' in model.get_params().keys():\n",
        "        model.set_params(random_state=60)\n",
        "    if 'n_jobs' in model.get_params().keys():\n",
        "            model.set_params(n_jobs=-1)\n",
        "\n",
        "    start = time.time()\n",
        "    wrapper = RegressorChain(model)\n",
        "    scores = cross_val_score(wrapper, train[feat], target, scoring=my_scorer, \n",
        "                            #  n_jobs=-1, \n",
        "                             cv= cv)\n",
        "    results.append(scores)\n",
        "    names.append(name)\n",
        "    mean_scores.append(np.mean(scores))\n",
        "    std_scores.append(np.std(scores))\n",
        "    end = time.time()\n",
        "    time_taken= end-start\n",
        "    time_taken_seconds.append(np.round(time_taken, 2))\n",
        "    print('>%s %.3f (%.3f), (%.3f)' % (name, np.mean(scores), np.std(scores), time_taken), \"seconds\")\n",
        "\n",
        "df1 = pd.DataFrame(np.column_stack([names, mean_scores, std_scores, time_taken_seconds]), \n",
        "                columns=['models', 'mean_score', 'std_score', 'time_taken_seconds'])\n",
        "df2 = pd.DataFrame(results, columns=[\"\".join('score'+ str(i)) for i in range(n_split*n_repeat) ])\n",
        "final_df = pd.concat([df1, df2], axis=1)\n",
        "int_cols = [f for f in final_df.columns if \"score\" in f]\n",
        "for i in int_cols:\n",
        "    final_df[i] = final_df[i].astype('float')\n",
        "\n",
        "final_df.sort_values('mean_score', ascending=False, inplace=True)\n",
        "\n",
        "plt.figure(figsize=(12, 6))\n",
        "# plt.title(target.name)\n",
        "\n",
        "plt.boxplot(final_df.iloc[:, 4:].values.tolist(), labels=final_df['models'].to_list(), showmeans=True)\n",
        "\n",
        "plt.xticks(rotation = 90)\n",
        "plt.show()"
      ],
      "execution_count": null,
      "outputs": []
    },
    {
      "cell_type": "code",
      "metadata": {
        "id": "aD3sMUWB0vLJ"
      },
      "source": [
        "# !pip install optuna"
      ],
      "execution_count": null,
      "outputs": []
    },
    {
      "cell_type": "code",
      "metadata": {
        "id": "n-rHbofuE9mz",
        "outputId": "8a47d3e9-8952-4e78-cce6-959db50d23d3",
        "colab": {
          "base_uri": "https://localhost:8080/",
          "height": 210
        }
      },
      "source": [
        "import optuna\n",
        "\n",
        "n_split = 3\n",
        "n_repeat= 1\n",
        "\n",
        "cv = RepeatedKFold(n_splits=n_split, n_repeats=n_repeat, random_state=60)\n",
        "\n",
        "N_TRIALS = 100\n",
        "def objective(trial):    \n",
        "    params = {\n",
        "            \n",
        "            'n_estimators':trial.suggest_int('n_estimators', 100, 200),\n",
        "            # 'criterion':trial.suggest_categorical('criterion', ['mse', 'mae']),\n",
        "            'max_depth': trial.suggest_int('max_depth', 12, 24),\n",
        "            'min_samples_split' : trial.suggest_int('min_samples_split', 2, 10),\n",
        "            'min_samples_leaf' : trial.suggest_int('min_samples_leaf', 1, 5),\n",
        "\n",
        "            'max_features' : trial.suggest_categorical('max_features', ['auto', 'sqrt', 'log2']),\n",
        "            'bootstrap' : trial.suggest_categorical('bootstrap', ['True', 'Fasle']),\n",
        "            'n_jobs': -1, \n",
        "            'random_state':60, \n",
        "            'warm_start': trial.suggest_categorical('warm_start',['True', \"False\"] ), \n",
        "            # 'max_samples': trial.suggest_uniform('max_samples', 0.5, 1.0)\n",
        "\n",
        "            # 'num_leaves': trial.suggest_int('num_leaves', 4, 32),\n",
        "            # 'max_depth': trial.suggest_int('max_depth', 4, 32),\n",
        "            # 'learning_rate' : trial.suggest_uniform('learning_rate', 0.0001, 0.99),\n",
        "            # 'n_estimators': trial.suggest_int('n_estimators', 100, 1000),\n",
        "            # 'min_split_gain' : trial.suggest_uniform('min_split_gain', 0, 1),\n",
        "            # 'min_child_weight': trial.suggest_uniform('min_child_weight', 1e-3, 1),\n",
        "            # 'min_child_samples': trial.suggest_int('min_child_samples',10, 1000),\n",
        "            # 'subsample' : trial.suggest_uniform('subsample', 0.5, 1),\n",
        "            # 'subsample_freq': trial.suggest_int('subsample_freq', 0, 1),\n",
        "            # 'reg_alpha': trial.suggest_loguniform('reg_alpha', 1e-8, 1.0),\n",
        "            # 'reg_lambda': trial.suggest_loguniform('reg_lambda', 1e-8, 1.0),\n",
        "\n",
        "            }\n",
        "\n",
        "    model = sklearn.ensemble.RandomForestRegressor(**params)\n",
        "    print(model)\n",
        "    wrapper = RegressorChain(model)\n",
        "\n",
        "    scores = cross_val_score(wrapper, train[feat], target, scoring=my_scorer, \n",
        "                            #  n_jobs=-1, \n",
        "                             cv= cv, \n",
        "                             )\n",
        "    from google.colab import output\n",
        "    output.clear()\n",
        "    \n",
        "    return np.mean(scores)\n",
        "\n",
        "study = optuna.create_study(direction='maximize')\n",
        "study.optimize(objective, n_trials=N_TRIALS, show_progress_bar= True)\n",
        "display(study.best_params)\n",
        "display(study.best_trial.value)"
      ],
      "execution_count": 88,
      "outputs": [
        {
          "output_type": "stream",
          "text": [
            "\r\u001b[32m[I 2021-04-24 14:51:10,675]\u001b[0m Trial 99 finished with value: 0.5166910328576746 and parameters: {'n_estimators': 187, 'max_depth': 16, 'min_samples_split': 4, 'min_samples_leaf': 1, 'max_features': 'auto', 'bootstrap': 'True', 'warm_start': 'False'}. Best is trial 64 with value: 0.5174910419057633.\u001b[0m\n",
            "\n"
          ],
          "name": "stdout"
        },
        {
          "output_type": "display_data",
          "data": {
            "text/plain": [
              "{'bootstrap': 'True',\n",
              " 'max_depth': 16,\n",
              " 'max_features': 'auto',\n",
              " 'min_samples_leaf': 1,\n",
              " 'min_samples_split': 3,\n",
              " 'n_estimators': 184,\n",
              " 'warm_start': 'True'}"
            ]
          },
          "metadata": {
            "tags": []
          }
        },
        {
          "output_type": "display_data",
          "data": {
            "text/plain": [
              "0.5174910419057633"
            ]
          },
          "metadata": {
            "tags": []
          }
        }
      ]
    },
    {
      "cell_type": "code",
      "metadata": {
        "id": "N9fU6FzWE9kH",
        "outputId": "56dfd8b5-f85b-4cbf-c78e-ff1ce7419fcc",
        "colab": {
          "base_uri": "https://localhost:8080/",
          "height": 228,
          "referenced_widgets": [
            "dccb52a4c58a4a978a00b8aaa0600a78",
            "1b1147c117e84946964173020f2d10df",
            "0e0f89e4ae2647abb0212e3bc09aa17b",
            "b21f7e55f07e4d84bb8263349d1dd73e",
            "302a112dc65f43f09cbd858b04b58a64",
            "aa66cafc2ebb4834bfe0c6e0e64b2d68",
            "53db7776268d43d68289e11f5d14a3b3",
            "d54887759a644fa898808b54671c1430"
          ]
        }
      },
      "source": [
        "N_TRIALS = 200\n",
        "def objective(trial):    \n",
        "    params = {\n",
        "            \n",
        "            'n_estimators':trial.suggest_int('n_estimators', 100, 200),\n",
        "            # 'criterion':trial.suggest_categorical('criterion', ['mse', 'mae']),\n",
        "            'max_depth': trial.suggest_int('max_depth', 12, 24),\n",
        "            'min_samples_split' : trial.suggest_int('min_samples_split', 2, 10),\n",
        "            'min_samples_leaf' : trial.suggest_int('min_samples_leaf', 1, 5),\n",
        "\n",
        "            'max_features' : trial.suggest_categorical('max_features', ['auto', 'sqrt', 'log2']),\n",
        "            'bootstrap' : trial.suggest_categorical('bootstrap', ['True', 'Fasle']),\n",
        "            'n_jobs': -1, \n",
        "            'random_state':60, \n",
        "            'warm_start': trial.suggest_categorical('warm_start',['True', \"False\"] ), \n",
        "            'max_samples': trial.suggest_uniform('max_samples', 0.5, 1.0)\n",
        "\n",
        "            }\n",
        "\n",
        "    model = sklearn.ensemble.ExtraTreesRegressor(**params)\n",
        "    print(model)\n",
        "    wrapper = RegressorChain(model)\n",
        "\n",
        "    scores = cross_val_score(wrapper, train[feat], target, scoring=my_scorer, \n",
        "                            #  n_jobs=-1, \n",
        "                             cv= cv, \n",
        "                             )\n",
        "    from google.colab import output\n",
        "    output.clear()\n",
        "    \n",
        "    return np.mean(scores)\n",
        "\n",
        "study = optuna.create_study(direction='maximize')\n",
        "study.optimize(objective, n_trials=N_TRIALS, show_progress_bar= True)\n",
        "display(study.best_params)\n",
        "display(study.best_trial.value)"
      ],
      "execution_count": 90,
      "outputs": [
        {
          "output_type": "stream",
          "text": [
            "\r\u001b[32m[I 2021-04-24 15:21:45,501]\u001b[0m Trial 199 finished with value: 0.5208504500381878 and parameters: {'n_estimators': 167, 'max_depth': 17, 'min_samples_split': 4, 'min_samples_leaf': 1, 'max_features': 'auto', 'bootstrap': 'True', 'warm_start': 'False', 'max_samples': 0.9758538141315505}. Best is trial 167 with value: 0.5210896344670551.\u001b[0m\n",
            "\n"
          ],
          "name": "stdout"
        },
        {
          "output_type": "display_data",
          "data": {
            "text/plain": [
              "{'bootstrap': 'True',\n",
              " 'max_depth': 17,\n",
              " 'max_features': 'auto',\n",
              " 'max_samples': 0.9660355603575764,\n",
              " 'min_samples_leaf': 1,\n",
              " 'min_samples_split': 4,\n",
              " 'n_estimators': 169,\n",
              " 'warm_start': 'False'}"
            ]
          },
          "metadata": {
            "tags": []
          }
        },
        {
          "output_type": "display_data",
          "data": {
            "text/plain": [
              "0.5210896344670551"
            ]
          },
          "metadata": {
            "tags": []
          }
        }
      ]
    },
    {
      "cell_type": "code",
      "metadata": {
        "id": "FliY5tJFE9hi"
      },
      "source": [
        "rf_params = {\n",
        "    'bootstrap': 'True',\n",
        "    'max_depth': 16,\n",
        "    'max_features': 'auto',\n",
        "    'min_samples_leaf': 1,\n",
        "    'min_samples_split': 3,\n",
        "    'n_estimators': 184,\n",
        "    'warm_start': 'True'\n",
        "    }\n",
        "\n",
        "et_params = {\n",
        "    'bootstrap': 'True',\n",
        "    'max_depth': 17,\n",
        "    'max_features': 'auto',\n",
        "    'max_samples': 0.9660355603575764,\n",
        "    'min_samples_leaf': 1,\n",
        "    'min_samples_split': 4,\n",
        "    'n_estimators': 169,\n",
        "    'warm_start': 'False'\n",
        "    }"
      ],
      "execution_count": 92,
      "outputs": []
    },
    {
      "cell_type": "code",
      "metadata": {
        "id": "QEvfajkLE9e4"
      },
      "source": [
        "rf = RegressorChain(sklearn.ensemble.RandomForestRegressor(**rf_params , random_state=60, n_jobs=-1))\n",
        "et = RegressorChain(sklearn.ensemble.ExtraTreesRegressor(**et_params, random_state=60, n_jobs=-1))"
      ],
      "execution_count": 93,
      "outputs": []
    },
    {
      "cell_type": "code",
      "metadata": {
        "id": "2odpguEdfm--"
      },
      "source": [
        "training_scores = []\n",
        "validation_scores = []\n",
        "test_score_matrix = []\n",
        "params = study.best_params\n",
        "params['n_estimators'] = 10000\n",
        "params['n_jobs'] = -1\n",
        "    model = rf\n",
        "    train_scores = []\n",
        "    test_scores = []\n",
        "    split = sklearn.model_selection.KFold(n_splits=5, random_state=60)\n",
        "    for train_idx, val_idx in split.split(X_train_fe):\n",
        "        X_tr = X_train_fe.iloc[train_idx]\n",
        "        X_val = X_train_fe.iloc[val_idx]\n",
        "        y_tr = y_train.iloc[train_idx]\n",
        "        y_val = y_train.iloc[val_idx]\n",
        "        \n",
        "        model.fit(X_tr, y_tr, eval_set=[(X_val, y_val)],\n",
        "                  eval_metric=['rmse'],\n",
        "                  early_stopping_rounds=30, verbose=0)\n",
        "                  #callbacks=[optuna.integration.XGBoostPruningCallback(trial, observation_key=\"validation_0-rmse\")])\n",
        "        \n",
        "        train_score = np.round(np.sqrt(mean_squared_error(y_tr, model.predict(X_tr))), 4)\n",
        "        test_score = np.round(np.sqrt(mean_squared_error(y_val, model.predict(X_val))), 4)\n",
        "        train_scores.append(train_score)\n",
        "        test_scores.append(test_score)\n",
        "    test_score_matrix.append(test_scores)\n",
        " \n",
        "    print(f'working on gamma : {gamma}')\n",
        "    print(f'train scores : {train_scores}')\n",
        "    print(f'test scores : {test_scores}')\n",
        "    print(f'Mean OOF RMSLE : {np.mean(test_scores)}')\n",
        "    train_score = np.mean(train_scores)\n",
        "    test_score = np.mean(test_scores)\n",
        "    \n",
        "    training_scores.append(train_score)\n",
        "    validation_scores.append(test_score)\n",
        "    \n",
        "plt.figure(figsize=(15, 8))\n",
        "plt.plot(training_scores, 'r-', label='Train-Gamma-Effect')\n",
        "plt.plot(validation_scores, 'b-', label='Test-Gamma-Effect')\n",
        "plt.legend()\n",
        "plt.grid()\n",
        "plt.show()"
      ],
      "execution_count": null,
      "outputs": []
    },
    {
      "cell_type": "code",
      "metadata": {
        "id": "6j8YLHW7fm8v",
        "outputId": "7ccaaac7-84ca-4dff-ad50-d01e8f4fd17a",
        "colab": {
          "base_uri": "https://localhost:8080/"
        }
      },
      "source": [
        "# This number of folds is forced by time limit\n",
        "folds = 3\n",
        "n_repeat = 2\n",
        "rf_cv_sum = 0\n",
        "et_cv_sum = 0\n",
        "\n",
        "rf_pred = []\n",
        "et_pred = []\n",
        "\n",
        "rf_fpred = []\n",
        "et_fpred = []\n",
        "\n",
        "avreal = target\n",
        "rf_avpred= np.zeros((train[feat].shape[0], 3))\n",
        "et_avpred = np.zeros((train[feat].shape[0], 3))\n",
        "\n",
        "blend_train = []\n",
        "blend_test = []\n",
        "\n",
        "X_train = train[feat]\n",
        "y_train = target\n",
        "\n",
        "kf = sklearn.model_selection.RepeatedKFold(n_splits=folds,n_repeats=n_repeat, random_state=60)\n",
        "for i, (train_index, val_index) in enumerate(kf.split(X_train, y_train)):\n",
        "    Xtrain, Xval = X_train.iloc[train_index], X_train.iloc[val_index]\n",
        "    ytrain, yval = y_train.iloc[train_index], y_train.iloc[val_index]\n",
        "    rf = RegressorChain(sklearn.ensemble.RandomForestRegressor(**rf_params , random_state=60, n_jobs=-1))\n",
        "    rf.fit(Xtrain, ytrain)\n",
        "    rf_scores_val = rf.predict(Xval)\n",
        "    rf_score = scorer(yval, rf_scores_val)\n",
        "    print('\\n Fold %02d Random Forest: %.6f' % ((i + 1), rf_score))\n",
        "    rf_actual_pred = rf.predict(test)\n",
        "\n",
        "    et = RegressorChain(sklearn.ensemble.ExtraTreesRegressor(**et_params, random_state=60, n_jobs=-1))\n",
        "    et.fit(Xtrain, ytrain)\n",
        "    et_scores_val = et.predict(Xval)\n",
        "    et_score = scorer(yval, et_scores_val)\n",
        "    print(' Fold %02d Extra Trees: %.6f' % ((i + 1), et_score))\n",
        "    et_actual_pred = et.predict(test)\n",
        "\n",
        "    rf_avpred[val_index] = rf_scores_val\n",
        "    et_avpred[val_index] = et_scores_val\n",
        "    if i > 0:\n",
        "        rf_fpred = rf_pred + rf_actual_pred\n",
        "        et_fpred = et_pred + et_actual_pred\n",
        "    else:\n",
        "        rf_fpred = rf_actual_pred\n",
        "        et_fpred = et_actual_pred\n",
        "\n",
        "    rf_pred = rf_fpred\n",
        "    et_pred = et_fpred\n",
        "\n",
        "    rf_cv_sum = rf_cv_sum + rf_score\n",
        "    et_cv_sum = et_cv_sum + et_score\n",
        "\n",
        "rf_cv_score = (rf_cv_sum / folds)\n",
        "et_cv_score = (et_cv_sum / folds)\n",
        "\n",
        "rf_oof_RMSLE = scorer(avreal, rf_avpred)\n",
        "et_oof_RMSLE = scorer(avreal, et_avpred)\n",
        "# lgb_oof_RMSLE = np.sqrt(mean_squared_error(avreal, lgb_avpred))\n",
        "\n",
        "print('\\n Average Random Forest:\\t%.6f' % rf_cv_score)\n",
        "print(' Out-of-fold Random Forest:\\t%.6f' % rf_oof_RMSLE)\n",
        "print('\\n Average Extra Trees:\\t%.6f' % et_cv_score)\n",
        "print(' Out-of-fold Extra Trees:\\t%.6f' % et_oof_RMSLE)\n",
        "\n",
        "rf_score = round(rf_oof_RMSLE, 6)\n",
        "et_score = round(et_oof_RMSLE, 6)\n",
        "\n",
        "rf_mpred = rf_pred / folds\n",
        "et_mpred = et_pred / folds"
      ],
      "execution_count": 128,
      "outputs": [
        {
          "output_type": "stream",
          "text": [
            "\n",
            " Fold 01 Random Forest: 0.506317\n",
            " Fold 01 Extra Trees: 0.508427\n",
            "\n",
            " Fold 02 Random Forest: 0.525919\n",
            " Fold 02 Extra Trees: 0.528207\n",
            "\n",
            " Fold 03 Random Forest: 0.520237\n",
            " Fold 03 Extra Trees: 0.526635\n",
            "\n",
            " Average Random Forest:\t0.517491\n",
            " Out-of-fold Random Forest:\t0.517695\n",
            "\n",
            " Average Extra Trees:\t0.521090\n",
            " Out-of-fold Extra Trees:\t0.521171\n"
          ],
          "name": "stdout"
        }
      ]
    },
    {
      "cell_type": "markdown",
      "metadata": {
        "id": "jXO2FPDEE-l_"
      },
      "source": [
        "# TImeSeries MLP"
      ]
    },
    {
      "cell_type": "code",
      "metadata": {
        "id": "IcFYYvIN-0AN"
      },
      "source": [
        "train = pd.concat([train, target], axis=1)"
      ],
      "execution_count": 278,
      "outputs": []
    },
    {
      "cell_type": "code",
      "metadata": {
        "colab": {
          "base_uri": "https://localhost:8080/",
          "height": 416
        },
        "id": "wue1x3vSWw8O",
        "outputId": "9594d4b6-8a92-47c8-98d7-2be775e9099c"
      },
      "source": [
        "train"
      ],
      "execution_count": 279,
      "outputs": [
        {
          "output_type": "execute_result",
          "data": {
            "text/html": [
              "<div>\n",
              "<style scoped>\n",
              "    .dataframe tbody tr th:only-of-type {\n",
              "        vertical-align: middle;\n",
              "    }\n",
              "\n",
              "    .dataframe tbody tr th {\n",
              "        vertical-align: top;\n",
              "    }\n",
              "\n",
              "    .dataframe thead th {\n",
              "        text-align: right;\n",
              "    }\n",
              "</style>\n",
              "<table border=\"1\" class=\"dataframe\">\n",
              "  <thead>\n",
              "    <tr style=\"text-align: right;\">\n",
              "      <th></th>\n",
              "      <th>Feature_1</th>\n",
              "      <th>Feature_2</th>\n",
              "      <th>Feature_3</th>\n",
              "      <th>Feature_4</th>\n",
              "      <th>Feature_5</th>\n",
              "      <th>Feature_6</th>\n",
              "      <th>Feature_7</th>\n",
              "      <th>Feature_8</th>\n",
              "      <th>Feature_9</th>\n",
              "      <th>Feature_10</th>\n",
              "      <th>Feature_11</th>\n",
              "      <th>Feature_12</th>\n",
              "      <th>Feature_13</th>\n",
              "      <th>Feature_14</th>\n",
              "      <th>target_r</th>\n",
              "      <th>target_g</th>\n",
              "      <th>target_b</th>\n",
              "    </tr>\n",
              "  </thead>\n",
              "  <tbody>\n",
              "    <tr>\n",
              "      <th>0</th>\n",
              "      <td>1.00</td>\n",
              "      <td>1.00</td>\n",
              "      <td>0.0</td>\n",
              "      <td>0.00</td>\n",
              "      <td>1.00</td>\n",
              "      <td>0.50</td>\n",
              "      <td>1.00</td>\n",
              "      <td>0.0</td>\n",
              "      <td>1.0</td>\n",
              "      <td>0.0</td>\n",
              "      <td>0.0</td>\n",
              "      <td>0.25</td>\n",
              "      <td>0.00</td>\n",
              "      <td>0.25</td>\n",
              "      <td>1.00</td>\n",
              "      <td>1.00</td>\n",
              "      <td>0.75</td>\n",
              "    </tr>\n",
              "    <tr>\n",
              "      <th>1</th>\n",
              "      <td>1.00</td>\n",
              "      <td>1.00</td>\n",
              "      <td>0.0</td>\n",
              "      <td>0.00</td>\n",
              "      <td>0.50</td>\n",
              "      <td>0.50</td>\n",
              "      <td>0.50</td>\n",
              "      <td>0.0</td>\n",
              "      <td>1.0</td>\n",
              "      <td>0.0</td>\n",
              "      <td>0.0</td>\n",
              "      <td>0.00</td>\n",
              "      <td>0.00</td>\n",
              "      <td>0.00</td>\n",
              "      <td>0.75</td>\n",
              "      <td>0.25</td>\n",
              "      <td>0.50</td>\n",
              "    </tr>\n",
              "    <tr>\n",
              "      <th>2</th>\n",
              "      <td>0.50</td>\n",
              "      <td>0.50</td>\n",
              "      <td>0.0</td>\n",
              "      <td>0.00</td>\n",
              "      <td>0.25</td>\n",
              "      <td>0.75</td>\n",
              "      <td>0.00</td>\n",
              "      <td>0.0</td>\n",
              "      <td>1.0</td>\n",
              "      <td>0.0</td>\n",
              "      <td>0.0</td>\n",
              "      <td>0.00</td>\n",
              "      <td>0.25</td>\n",
              "      <td>0.25</td>\n",
              "      <td>0.75</td>\n",
              "      <td>0.00</td>\n",
              "      <td>0.00</td>\n",
              "    </tr>\n",
              "    <tr>\n",
              "      <th>3</th>\n",
              "      <td>0.75</td>\n",
              "      <td>0.75</td>\n",
              "      <td>0.0</td>\n",
              "      <td>0.00</td>\n",
              "      <td>0.50</td>\n",
              "      <td>1.00</td>\n",
              "      <td>0.00</td>\n",
              "      <td>0.0</td>\n",
              "      <td>0.0</td>\n",
              "      <td>0.0</td>\n",
              "      <td>1.0</td>\n",
              "      <td>0.00</td>\n",
              "      <td>0.50</td>\n",
              "      <td>0.00</td>\n",
              "      <td>0.25</td>\n",
              "      <td>0.00</td>\n",
              "      <td>0.25</td>\n",
              "    </tr>\n",
              "    <tr>\n",
              "      <th>4</th>\n",
              "      <td>1.00</td>\n",
              "      <td>1.00</td>\n",
              "      <td>0.0</td>\n",
              "      <td>0.00</td>\n",
              "      <td>1.00</td>\n",
              "      <td>1.00</td>\n",
              "      <td>0.25</td>\n",
              "      <td>0.0</td>\n",
              "      <td>0.0</td>\n",
              "      <td>0.0</td>\n",
              "      <td>1.0</td>\n",
              "      <td>0.25</td>\n",
              "      <td>0.25</td>\n",
              "      <td>0.50</td>\n",
              "      <td>0.75</td>\n",
              "      <td>0.50</td>\n",
              "      <td>0.50</td>\n",
              "    </tr>\n",
              "    <tr>\n",
              "      <th>...</th>\n",
              "      <td>...</td>\n",
              "      <td>...</td>\n",
              "      <td>...</td>\n",
              "      <td>...</td>\n",
              "      <td>...</td>\n",
              "      <td>...</td>\n",
              "      <td>...</td>\n",
              "      <td>...</td>\n",
              "      <td>...</td>\n",
              "      <td>...</td>\n",
              "      <td>...</td>\n",
              "      <td>...</td>\n",
              "      <td>...</td>\n",
              "      <td>...</td>\n",
              "      <td>...</td>\n",
              "      <td>...</td>\n",
              "      <td>...</td>\n",
              "    </tr>\n",
              "    <tr>\n",
              "      <th>14682</th>\n",
              "      <td>0.00</td>\n",
              "      <td>0.00</td>\n",
              "      <td>1.0</td>\n",
              "      <td>0.75</td>\n",
              "      <td>0.25</td>\n",
              "      <td>0.75</td>\n",
              "      <td>0.00</td>\n",
              "      <td>1.0</td>\n",
              "      <td>0.0</td>\n",
              "      <td>0.0</td>\n",
              "      <td>0.0</td>\n",
              "      <td>0.00</td>\n",
              "      <td>0.75</td>\n",
              "      <td>0.75</td>\n",
              "      <td>0.00</td>\n",
              "      <td>0.50</td>\n",
              "      <td>0.50</td>\n",
              "    </tr>\n",
              "    <tr>\n",
              "      <th>14683</th>\n",
              "      <td>0.25</td>\n",
              "      <td>0.25</td>\n",
              "      <td>1.0</td>\n",
              "      <td>0.75</td>\n",
              "      <td>0.25</td>\n",
              "      <td>0.75</td>\n",
              "      <td>0.25</td>\n",
              "      <td>1.0</td>\n",
              "      <td>0.0</td>\n",
              "      <td>0.0</td>\n",
              "      <td>0.0</td>\n",
              "      <td>0.00</td>\n",
              "      <td>0.75</td>\n",
              "      <td>0.75</td>\n",
              "      <td>0.00</td>\n",
              "      <td>0.50</td>\n",
              "      <td>0.50</td>\n",
              "    </tr>\n",
              "    <tr>\n",
              "      <th>14684</th>\n",
              "      <td>0.25</td>\n",
              "      <td>0.25</td>\n",
              "      <td>1.0</td>\n",
              "      <td>1.00</td>\n",
              "      <td>0.25</td>\n",
              "      <td>0.75</td>\n",
              "      <td>0.00</td>\n",
              "      <td>1.0</td>\n",
              "      <td>0.0</td>\n",
              "      <td>0.0</td>\n",
              "      <td>0.0</td>\n",
              "      <td>0.00</td>\n",
              "      <td>0.00</td>\n",
              "      <td>0.00</td>\n",
              "      <td>0.00</td>\n",
              "      <td>0.25</td>\n",
              "      <td>0.00</td>\n",
              "    </tr>\n",
              "    <tr>\n",
              "      <th>14685</th>\n",
              "      <td>0.00</td>\n",
              "      <td>0.00</td>\n",
              "      <td>1.0</td>\n",
              "      <td>0.75</td>\n",
              "      <td>0.00</td>\n",
              "      <td>0.75</td>\n",
              "      <td>0.00</td>\n",
              "      <td>1.0</td>\n",
              "      <td>0.0</td>\n",
              "      <td>0.0</td>\n",
              "      <td>0.0</td>\n",
              "      <td>0.00</td>\n",
              "      <td>0.75</td>\n",
              "      <td>0.75</td>\n",
              "      <td>0.00</td>\n",
              "      <td>0.50</td>\n",
              "      <td>0.50</td>\n",
              "    </tr>\n",
              "    <tr>\n",
              "      <th>14686</th>\n",
              "      <td>1.00</td>\n",
              "      <td>1.00</td>\n",
              "      <td>1.0</td>\n",
              "      <td>0.00</td>\n",
              "      <td>0.50</td>\n",
              "      <td>1.00</td>\n",
              "      <td>0.25</td>\n",
              "      <td>1.0</td>\n",
              "      <td>0.0</td>\n",
              "      <td>0.0</td>\n",
              "      <td>0.0</td>\n",
              "      <td>0.25</td>\n",
              "      <td>0.00</td>\n",
              "      <td>0.00</td>\n",
              "      <td>0.75</td>\n",
              "      <td>0.75</td>\n",
              "      <td>1.00</td>\n",
              "    </tr>\n",
              "  </tbody>\n",
              "</table>\n",
              "<p>14687 rows × 17 columns</p>\n",
              "</div>"
            ],
            "text/plain": [
              "       Feature_1  Feature_2  Feature_3  Feature_4  Feature_5  Feature_6  \\\n",
              "0           1.00       1.00        0.0       0.00       1.00       0.50   \n",
              "1           1.00       1.00        0.0       0.00       0.50       0.50   \n",
              "2           0.50       0.50        0.0       0.00       0.25       0.75   \n",
              "3           0.75       0.75        0.0       0.00       0.50       1.00   \n",
              "4           1.00       1.00        0.0       0.00       1.00       1.00   \n",
              "...          ...        ...        ...        ...        ...        ...   \n",
              "14682       0.00       0.00        1.0       0.75       0.25       0.75   \n",
              "14683       0.25       0.25        1.0       0.75       0.25       0.75   \n",
              "14684       0.25       0.25        1.0       1.00       0.25       0.75   \n",
              "14685       0.00       0.00        1.0       0.75       0.00       0.75   \n",
              "14686       1.00       1.00        1.0       0.00       0.50       1.00   \n",
              "\n",
              "       Feature_7  Feature_8  Feature_9  Feature_10  Feature_11  Feature_12  \\\n",
              "0           1.00        0.0        1.0         0.0         0.0        0.25   \n",
              "1           0.50        0.0        1.0         0.0         0.0        0.00   \n",
              "2           0.00        0.0        1.0         0.0         0.0        0.00   \n",
              "3           0.00        0.0        0.0         0.0         1.0        0.00   \n",
              "4           0.25        0.0        0.0         0.0         1.0        0.25   \n",
              "...          ...        ...        ...         ...         ...         ...   \n",
              "14682       0.00        1.0        0.0         0.0         0.0        0.00   \n",
              "14683       0.25        1.0        0.0         0.0         0.0        0.00   \n",
              "14684       0.00        1.0        0.0         0.0         0.0        0.00   \n",
              "14685       0.00        1.0        0.0         0.0         0.0        0.00   \n",
              "14686       0.25        1.0        0.0         0.0         0.0        0.25   \n",
              "\n",
              "       Feature_13  Feature_14  target_r  target_g  target_b  \n",
              "0            0.00        0.25      1.00      1.00      0.75  \n",
              "1            0.00        0.00      0.75      0.25      0.50  \n",
              "2            0.25        0.25      0.75      0.00      0.00  \n",
              "3            0.50        0.00      0.25      0.00      0.25  \n",
              "4            0.25        0.50      0.75      0.50      0.50  \n",
              "...           ...         ...       ...       ...       ...  \n",
              "14682        0.75        0.75      0.00      0.50      0.50  \n",
              "14683        0.75        0.75      0.00      0.50      0.50  \n",
              "14684        0.00        0.00      0.00      0.25      0.00  \n",
              "14685        0.75        0.75      0.00      0.50      0.50  \n",
              "14686        0.00        0.00      0.75      0.75      1.00  \n",
              "\n",
              "[14687 rows x 17 columns]"
            ]
          },
          "metadata": {
            "tags": []
          },
          "execution_count": 279
        }
      ]
    },
    {
      "cell_type": "code",
      "metadata": {
        "id": "ZF5_9STO1GKb"
      },
      "source": [
        "# train = train.drop(['Moons', 'id'], axis=1)"
      ],
      "execution_count": 280,
      "outputs": []
    },
    {
      "cell_type": "code",
      "metadata": {
        "id": "4VdsAQhY4DmT",
        "colab": {
          "base_uri": "https://localhost:8080/"
        },
        "outputId": "b01881db-9d60-4fbe-b735-50619bc59b42"
      },
      "source": [
        "train.shape[0] - (4687)"
      ],
      "execution_count": 281,
      "outputs": [
        {
          "output_type": "execute_result",
          "data": {
            "text/plain": [
              "10000"
            ]
          },
          "metadata": {
            "tags": []
          },
          "execution_count": 281
        }
      ]
    },
    {
      "cell_type": "code",
      "metadata": {
        "id": "ysLsAohLO34r",
        "colab": {
          "base_uri": "https://localhost:8080/"
        },
        "outputId": "b18c126a-7529-4578-80fd-cdb37733f84f"
      },
      "source": [
        "validation_data = train[10000: ]\n",
        "train_data = train[:10000]\n",
        "train_data.shape"
      ],
      "execution_count": 282,
      "outputs": [
        {
          "output_type": "execute_result",
          "data": {
            "text/plain": [
              "(10000, 17)"
            ]
          },
          "metadata": {
            "tags": []
          },
          "execution_count": 282
        }
      ]
    },
    {
      "cell_type": "code",
      "metadata": {
        "colab": {
          "base_uri": "https://localhost:8080/"
        },
        "id": "wrj3XSqmYYBB",
        "outputId": "f770a899-4a0c-48f6-f354-addf27bc9bb9"
      },
      "source": [
        "features = [f for f in train_data.columns if 'Feature' in f]\n",
        "len(features)"
      ],
      "execution_count": 283,
      "outputs": [
        {
          "output_type": "execute_result",
          "data": {
            "text/plain": [
              "14"
            ]
          },
          "metadata": {
            "tags": []
          },
          "execution_count": 283
        }
      ]
    },
    {
      "cell_type": "markdown",
      "metadata": {
        "id": "poRcC-PmPIws"
      },
      "source": [
        "# TRAINING"
      ]
    },
    {
      "cell_type": "code",
      "metadata": {
        "id": "IAeBShzMO_h8"
      },
      "source": [
        "def scorer(y_test, y_pred):\n",
        "    score = (stats.spearmanr(y_test, y_pred))[0]\n",
        "    # print('Score as calculated for the leader board (っಠ‿ಠ)っ {}'.format(score))\n",
        "    return score"
      ],
      "execution_count": 284,
      "outputs": []
    },
    {
      "cell_type": "code",
      "metadata": {
        "id": "HT8sI09oPMQ2"
      },
      "source": [
        "# train[:10][['Feature_1', 'target_r']]"
      ],
      "execution_count": 188,
      "outputs": []
    },
    {
      "cell_type": "code",
      "metadata": {
        "id": "IgE--0v-7ZKL"
      },
      "source": [
        ""
      ],
      "execution_count": 188,
      "outputs": []
    },
    {
      "cell_type": "code",
      "metadata": {
        "id": "N_hPzUj3TQF9"
      },
      "source": [
        "def split_sequences(sequences, n_steps):\n",
        "    X, y = list(), list()   \n",
        "    for i in range(len(sequences)):\n",
        "# find the end of this pattern\n",
        "        end_ix = i + n_steps\n",
        "# check if we are beyond the dataset\n",
        "        if end_ix > len(sequences):\n",
        "            break\n",
        "# gather input and output parts of the pattern\n",
        "        seq_x, seq_y = sequences[i:end_ix, :-3], sequences[end_ix-1, -3:]\n",
        "        # print(seq_x.shape)\n",
        "        # print(seq_y.shape)\n",
        "        # print(seq_x, seq_y)\n",
        "        X.append(seq_x)\n",
        "        y.append(seq_y)\n",
        "    return np.array(X), np.array(y)\n",
        "\n"
      ],
      "execution_count": 285,
      "outputs": []
    },
    {
      "cell_type": "code",
      "metadata": {
        "id": "DVQm-15LvxgE"
      },
      "source": [
        "train_data_arr = np.array(train_data)\n",
        "validation_data_arr = np.array(validation_data)"
      ],
      "execution_count": 286,
      "outputs": []
    },
    {
      "cell_type": "code",
      "metadata": {
        "id": "MMSwWHAbv1Nz",
        "colab": {
          "base_uri": "https://localhost:8080/"
        },
        "outputId": "79578b33-c09b-4d03-ef96-4b404eec0949"
      },
      "source": [
        "train_data_arr.shape, validation_data_arr.shape"
      ],
      "execution_count": 287,
      "outputs": [
        {
          "output_type": "execute_result",
          "data": {
            "text/plain": [
              "((10000, 17), (4687, 17))"
            ]
          },
          "metadata": {
            "tags": []
          },
          "execution_count": 287
        }
      ]
    },
    {
      "cell_type": "code",
      "metadata": {
        "id": "zCoDgbLgYybo"
      },
      "source": [
        "%matplotlib inline\n",
        "def plot_metric(history, metric):\n",
        "    train_metrics = history.history[metric]\n",
        "    val_metrics = history.history['val_'+metric]\n",
        "    epochs = range(1, len(train_metrics) + 1)\n",
        "    plt.plot(epochs, train_metrics)\n",
        "    plt.plot(epochs, val_metrics)\n",
        "    plt.title('Training and validation '+ metric)\n",
        "    plt.xlabel(\"Epochs\")\n",
        "    plt.ylabel(metric)\n",
        "    plt.legend([\"train_\"+metric, 'val_'+metric])\n",
        "    plt.show()"
      ],
      "execution_count": 288,
      "outputs": []
    },
    {
      "cell_type": "code",
      "metadata": {
        "id": "mR-XTuWxViYh",
        "colab": {
          "base_uri": "https://localhost:8080/",
          "height": 1000
        },
        "outputId": "6fa9be2f-bb45-4699-9437-876583ed51d4"
      },
      "source": [
        "np.random.seed(60)\n",
        "df = []\n",
        "for i in range(25, 36):\n",
        "    n_steps = i\n",
        "    print( \"TIME STEPS : --------> \" , i)\n",
        "    X_train, y_train = split_sequences(train_data_arr, n_steps)\n",
        "    X_val, y_val = split_sequences(validation_data_arr, n_steps)\n",
        "\n",
        "    n_input = X_train.shape[1] * X_train.shape[2]\n",
        "    X_train = X_train.reshape((X_train.shape[0], n_input))\n",
        "    X_val = X_val.reshape((X_val.shape[0], n_input))\n",
        "\n",
        "    from keras.models import Sequential\n",
        "    from keras.layers import Dense\n",
        "\n",
        "    model = Sequential()\n",
        "    model.add(Dense(1024, activation='sigmoid', input_dim=n_input))\n",
        "    model.add(Dense(512, activation='relu'))\n",
        "    # model.add(Dense(256, activation='relu'))\n",
        "    model.add(Dense(150, activation='relu'))\n",
        "    # model.add(Dense(50, activation='relu'))\n",
        "    model.add(Dense(3))\n",
        "    model.compile(optimizer='rmsprop', loss='mse')\n",
        "\n",
        "\n",
        "    early_stopping = EarlyStopping(monitor='val_loss', mode='min', verbose=1, patience=5)\n",
        "    mcp_save = ModelCheckpoint('./model.hdf5', save_best_only=True, monitor='val_loss', mode='min')\n",
        "\n",
        "    batch_size = 64\n",
        "    epochs = 250\n",
        "\n",
        "    history = model.fit(X_train, y_train, epochs=epochs, batch_size=batch_size,verbose=None, validation_data=(X_val, y_val), \n",
        "                        callbacks=[early_stopping, mcp_save], shuffle=False)\n",
        "\n",
        "    \n",
        "    plot_metric(history, 'loss')\n",
        "    plt.show()\n",
        "\n",
        "    model.load_weights('model.hdf5')\n",
        "    preds= model.predict(X_val, batch_size=batch_size)\n",
        "    cols = ['target_r', 'target_g', 'target_b']\n",
        "    preds = pd.DataFrame(preds, columns=cols)\n",
        "\n",
        "    scores = []\n",
        "    scores.append(n_steps)\n",
        "    scores.append(scorer(y_val[:, 0], preds.target_r))\n",
        "    scores.append(scorer(y_val[:, 1], preds.target_g))\n",
        "    scores.append(scorer(y_val[:, 2], preds.target_b))\n",
        "    df.append(pd.DataFrame(scores))\n",
        "    print(scores)\n",
        "    print(\" \")\n",
        "    print(\" \")\n"
      ],
      "execution_count": 289,
      "outputs": [
        {
          "output_type": "stream",
          "text": [
            "TIME STEPS : -------->  25\n",
            "Epoch 00020: early stopping\n"
          ],
          "name": "stdout"
        },
        {
          "output_type": "display_data",
          "data": {
            "image/png": "[encoded data removed]",
            "text/plain": [
              "<Figure size 432x288 with 1 Axes>"
            ]
          },
          "metadata": {
            "tags": [],
            "needs_background": "light"
          }
        },
        {
          "output_type": "stream",
          "text": [
            "[25, 0.08024573833129627, 0.093507278934123, 0.11262052053418106]\n",
            " \n",
            " \n",
            "TIME STEPS : -------->  26\n",
            "Epoch 00007: early stopping\n"
          ],
          "name": "stdout"
        },
        {
          "output_type": "display_data",
          "data": {
            "image/png": "[encoded data removed]",
            "text/plain": [
              "<Figure size 432x288 with 1 Axes>"
            ]
          },
          "metadata": {
            "tags": [],
            "needs_background": "light"
          }
        },
        {
          "output_type": "stream",
          "text": [
            "[26, -0.03628847812746259, 0.029286393202720685, 0.0656906459300672]\n",
            " \n",
            " \n",
            "TIME STEPS : -------->  27\n",
            "Epoch 00009: early stopping\n"
          ],
          "name": "stdout"
        },
        {
          "output_type": "display_data",
          "data": {
            "image/png": "[encoded data removed]",
            "text/plain": [
              "<Figure size 432x288 with 1 Axes>"
            ]
          },
          "metadata": {
            "tags": [],
            "needs_background": "light"
          }
        },
        {
          "output_type": "stream",
          "text": [
            "[27, 0.04068444635961199, 0.06761526332474266, 0.07682083585599539]\n",
            " \n",
            " \n",
            "TIME STEPS : -------->  28\n",
            "Epoch 00019: early stopping\n"
          ],
          "name": "stdout"
        },
        {
          "output_type": "display_data",
          "data": {
            "image/png": "[encoded data removed]",
            "text/plain": [
              "<Figure size 432x288 with 1 Axes>"
            ]
          },
          "metadata": {
            "tags": [],
            "needs_background": "light"
          }
        },
        {
          "output_type": "stream",
          "text": [
            "[28, 0.09573141218817703, 0.0908034434544681, 0.10589981267165689]\n",
            " \n",
            " \n",
            "TIME STEPS : -------->  29\n",
            "Epoch 00008: early stopping\n"
          ],
          "name": "stdout"
        },
        {
          "output_type": "display_data",
          "data": {
            "image/png": "[encoded data removed]",
            "text/plain": [
              "<Figure size 432x288 with 1 Axes>"
            ]
          },
          "metadata": {
            "tags": [],
            "needs_background": "light"
          }
        },
        {
          "output_type": "stream",
          "text": [
            "[29, -0.0010333477705064967, 0.04389464699802485, 0.08319796780405311]\n",
            " \n",
            " \n",
            "TIME STEPS : -------->  30\n",
            "Epoch 00017: early stopping\n"
          ],
          "name": "stdout"
        },
        {
          "output_type": "display_data",
          "data": {
            "image/png": "[encoded data removed]",
            "text/plain": [
              "<Figure size 432x288 with 1 Axes>"
            ]
          },
          "metadata": {
            "tags": [],
            "needs_background": "light"
          }
        },
        {
          "output_type": "stream",
          "text": [
            "[30, 0.07187222532979981, 0.09427738458553273, 0.09889886954794375]\n",
            " \n",
            " \n",
            "TIME STEPS : -------->  31\n",
            "Epoch 00012: early stopping\n"
          ],
          "name": "stdout"
        },
        {
          "output_type": "display_data",
          "data": {
            "image/png": "[encoded data removed]",
            "text/plain": [
              "<Figure size 432x288 with 1 Axes>"
            ]
          },
          "metadata": {
            "tags": [],
            "needs_background": "light"
          }
        },
        {
          "output_type": "stream",
          "text": [
            "[31, 0.016123827095285558, 0.10382406468112308, 0.10575249748787895]\n",
            " \n",
            " \n",
            "TIME STEPS : -------->  32\n",
            "Epoch 00018: early stopping\n"
          ],
          "name": "stdout"
        },
        {
          "output_type": "display_data",
          "data": {
            "image/png": "[encoded data removed]",
            "text/plain": [
              "<Figure size 432x288 with 1 Axes>"
            ]
          },
          "metadata": {
            "tags": [],
            "needs_background": "light"
          }
        },
        {
          "output_type": "stream",
          "text": [
            "[32, 0.09088580828340595, 0.12152197697531086, 0.1098751548548912]\n",
            " \n",
            " \n",
            "TIME STEPS : -------->  33\n",
            "Epoch 00015: early stopping\n"
          ],
          "name": "stdout"
        },
        {
          "output_type": "display_data",
          "data": {
            "image/png": "[encoded data removed]",
            "text/plain": [
              "<Figure size 432x288 with 1 Axes>"
            ]
          },
          "metadata": {
            "tags": [],
            "needs_background": "light"
          }
        },
        {
          "output_type": "stream",
          "text": [
            "[33, 0.09525855909424669, 0.11756490097928878, 0.11431417750636172]\n",
            " \n",
            " \n",
            "TIME STEPS : -------->  34\n",
            "Epoch 00008: early stopping\n"
          ],
          "name": "stdout"
        },
        {
          "output_type": "display_data",
          "data": {
            "image/png": "[encoded data removed]",
            "text/plain": [
              "<Figure size 432x288 with 1 Axes>"
            ]
          },
          "metadata": {
            "tags": [],
            "needs_background": "light"
          }
        },
        {
          "output_type": "stream",
          "text": [
            "[34, 0.05196347970857242, 0.04164609574195086, 0.09513367228419718]\n",
            " \n",
            " \n",
            "TIME STEPS : -------->  35\n",
            "Epoch 00007: early stopping\n"
          ],
          "name": "stdout"
        },
        {
          "output_type": "display_data",
          "data": {
            "image/png": "[encoded data removed]",
            "text/plain": [
              "<Figure size 432x288 with 1 Axes>"
            ]
          },
          "metadata": {
            "tags": [],
            "needs_background": "light"
          }
        },
        {
          "output_type": "stream",
          "text": [
            "[35, -0.02549784245744199, -0.01483145425831563, 0.047340027128846704]\n",
            " \n",
            " \n"
          ],
          "name": "stdout"
        }
      ]
    },
    {
      "cell_type": "code",
      "metadata": {
        "id": "8S8bAfwlXp1d"
      },
      "source": [
        "# df"
      ],
      "execution_count": 141,
      "outputs": []
    },
    {
      "cell_type": "code",
      "metadata": {
        "id": "RnPAF_k4ajT1"
      },
      "source": [
        "df = pd.concat(df, axis=1)\n",
        "df.columns = df.iloc[0]\n",
        "df.drop(df.index[0], inplace=True)"
      ],
      "execution_count": 290,
      "outputs": []
    },
    {
      "cell_type": "code",
      "metadata": {
        "id": "oyiYYpfgbBu5",
        "colab": {
          "base_uri": "https://localhost:8080/",
          "height": 421
        },
        "outputId": "4caa8508-23d6-486f-807a-78b62c1007a0"
      },
      "source": [
        "df.T"
      ],
      "execution_count": 291,
      "outputs": [
        {
          "output_type": "execute_result",
          "data": {
            "text/html": [
              "<div>\n",
              "<style scoped>\n",
              "    .dataframe tbody tr th:only-of-type {\n",
              "        vertical-align: middle;\n",
              "    }\n",
              "\n",
              "    .dataframe tbody tr th {\n",
              "        vertical-align: top;\n",
              "    }\n",
              "\n",
              "    .dataframe thead th {\n",
              "        text-align: right;\n",
              "    }\n",
              "</style>\n",
              "<table border=\"1\" class=\"dataframe\">\n",
              "  <thead>\n",
              "    <tr style=\"text-align: right;\">\n",
              "      <th></th>\n",
              "      <th>1</th>\n",
              "      <th>2</th>\n",
              "      <th>3</th>\n",
              "    </tr>\n",
              "    <tr>\n",
              "      <th>0</th>\n",
              "      <th></th>\n",
              "      <th></th>\n",
              "      <th></th>\n",
              "    </tr>\n",
              "  </thead>\n",
              "  <tbody>\n",
              "    <tr>\n",
              "      <th>25.0</th>\n",
              "      <td>0.080246</td>\n",
              "      <td>0.093507</td>\n",
              "      <td>0.112621</td>\n",
              "    </tr>\n",
              "    <tr>\n",
              "      <th>26.0</th>\n",
              "      <td>-0.036288</td>\n",
              "      <td>0.029286</td>\n",
              "      <td>0.065691</td>\n",
              "    </tr>\n",
              "    <tr>\n",
              "      <th>27.0</th>\n",
              "      <td>0.040684</td>\n",
              "      <td>0.067615</td>\n",
              "      <td>0.076821</td>\n",
              "    </tr>\n",
              "    <tr>\n",
              "      <th>28.0</th>\n",
              "      <td>0.095731</td>\n",
              "      <td>0.090803</td>\n",
              "      <td>0.105900</td>\n",
              "    </tr>\n",
              "    <tr>\n",
              "      <th>29.0</th>\n",
              "      <td>-0.001033</td>\n",
              "      <td>0.043895</td>\n",
              "      <td>0.083198</td>\n",
              "    </tr>\n",
              "    <tr>\n",
              "      <th>30.0</th>\n",
              "      <td>0.071872</td>\n",
              "      <td>0.094277</td>\n",
              "      <td>0.098899</td>\n",
              "    </tr>\n",
              "    <tr>\n",
              "      <th>31.0</th>\n",
              "      <td>0.016124</td>\n",
              "      <td>0.103824</td>\n",
              "      <td>0.105752</td>\n",
              "    </tr>\n",
              "    <tr>\n",
              "      <th>32.0</th>\n",
              "      <td>0.090886</td>\n",
              "      <td>0.121522</td>\n",
              "      <td>0.109875</td>\n",
              "    </tr>\n",
              "    <tr>\n",
              "      <th>33.0</th>\n",
              "      <td>0.095259</td>\n",
              "      <td>0.117565</td>\n",
              "      <td>0.114314</td>\n",
              "    </tr>\n",
              "    <tr>\n",
              "      <th>34.0</th>\n",
              "      <td>0.051963</td>\n",
              "      <td>0.041646</td>\n",
              "      <td>0.095134</td>\n",
              "    </tr>\n",
              "    <tr>\n",
              "      <th>35.0</th>\n",
              "      <td>-0.025498</td>\n",
              "      <td>-0.014831</td>\n",
              "      <td>0.047340</td>\n",
              "    </tr>\n",
              "  </tbody>\n",
              "</table>\n",
              "</div>"
            ],
            "text/plain": [
              "             1         2         3\n",
              "0                                 \n",
              "25.0  0.080246  0.093507  0.112621\n",
              "26.0 -0.036288  0.029286  0.065691\n",
              "27.0  0.040684  0.067615  0.076821\n",
              "28.0  0.095731  0.090803  0.105900\n",
              "29.0 -0.001033  0.043895  0.083198\n",
              "30.0  0.071872  0.094277  0.098899\n",
              "31.0  0.016124  0.103824  0.105752\n",
              "32.0  0.090886  0.121522  0.109875\n",
              "33.0  0.095259  0.117565  0.114314\n",
              "34.0  0.051963  0.041646  0.095134\n",
              "35.0 -0.025498 -0.014831  0.047340"
            ]
          },
          "metadata": {
            "tags": []
          },
          "execution_count": 291
        }
      ]
    },
    {
      "cell_type": "code",
      "metadata": {
        "id": "0T6-SCSYivm7",
        "colab": {
          "base_uri": "https://localhost:8080/"
        },
        "outputId": "6ff6fa8b-32ba-4bb0-a6a4-d129fb0544d7"
      },
      "source": [
        "df.T.mean(axis=1)"
      ],
      "execution_count": 292,
      "outputs": [
        {
          "output_type": "execute_result",
          "data": {
            "text/plain": [
              "0\n",
              "25.0    0.095458\n",
              "26.0    0.019563\n",
              "27.0    0.061707\n",
              "28.0    0.097478\n",
              "29.0    0.042020\n",
              "30.0    0.088349\n",
              "31.0    0.075233\n",
              "32.0    0.107428\n",
              "33.0    0.109046\n",
              "34.0    0.062914\n",
              "35.0    0.002337\n",
              "dtype: float64"
            ]
          },
          "metadata": {
            "tags": []
          },
          "execution_count": 292
        }
      ]
    },
    {
      "cell_type": "markdown",
      "metadata": {
        "id": "xM6Vtwnj4-DP"
      },
      "source": [
        "# NEW"
      ]
    },
    {
      "cell_type": "code",
      "metadata": {
        "id": "DoD58bWHl4TT"
      },
      "source": [
        "train = pd.read_csv(train_datalink_X)\n",
        "target = pd.read_csv(train_datalink_y)\n",
        "test = pd.read_csv(hackathon_data_link)"
      ],
      "execution_count": 293,
      "outputs": []
    },
    {
      "cell_type": "code",
      "metadata": {
        "id": "PoNreJ6al4TU"
      },
      "source": [
        "train = pd.concat([train, target], axis=1)\n",
        "# train = train.drop(['id', 'Moons'], axis=1)"
      ],
      "execution_count": 294,
      "outputs": []
    },
    {
      "cell_type": "code",
      "metadata": {
        "colab": {
          "base_uri": "https://localhost:8080/"
        },
        "id": "e4N_B0Uml4TV",
        "outputId": "33d90767-d7b8-48f9-8310-ac1ce0a09a13"
      },
      "source": [
        "train.shape"
      ],
      "execution_count": 295,
      "outputs": [
        {
          "output_type": "execute_result",
          "data": {
            "text/plain": [
              "(14687, 17)"
            ]
          },
          "metadata": {
            "tags": []
          },
          "execution_count": 295
        }
      ]
    },
    {
      "cell_type": "code",
      "metadata": {
        "id": "FIqNqm542BkY",
        "colab": {
          "base_uri": "https://localhost:8080/"
        },
        "outputId": "f87eb718-2858-43f1-83d2-6b1669d1efd7"
      },
      "source": [
        "features = [f for f in train_data.columns if 'Feature' in f]\n",
        "len(features)"
      ],
      "execution_count": 296,
      "outputs": [
        {
          "output_type": "execute_result",
          "data": {
            "text/plain": [
              "14"
            ]
          },
          "metadata": {
            "tags": []
          },
          "execution_count": 296
        }
      ]
    },
    {
      "cell_type": "code",
      "metadata": {
        "id": "wqOkmqAKl4TW"
      },
      "source": [
        "validation_data = train[10000: ]\n",
        "train_data = train[:10000]"
      ],
      "execution_count": 297,
      "outputs": []
    },
    {
      "cell_type": "code",
      "metadata": {
        "id": "FrtUgIS9i16f",
        "colab": {
          "base_uri": "https://localhost:8080/"
        },
        "outputId": "d66cad1d-f71b-40da-c2fd-8d21741f2ba4"
      },
      "source": [
        "validation_data.shape[0] - 33"
      ],
      "execution_count": 299,
      "outputs": [
        {
          "output_type": "execute_result",
          "data": {
            "text/plain": [
              "4654"
            ]
          },
          "metadata": {
            "tags": []
          },
          "execution_count": 299
        }
      ]
    },
    {
      "cell_type": "code",
      "metadata": {
        "id": "HlQihgvwYzbD"
      },
      "source": [
        ""
      ],
      "execution_count": 299,
      "outputs": []
    },
    {
      "cell_type": "code",
      "metadata": {
        "id": "MONi5CFncH9r",
        "colab": {
          "base_uri": "https://localhost:8080/"
        },
        "outputId": "4df3b0cd-cc23-4179-ddc6-df2023208786"
      },
      "source": [
        "test_merge = validation_data[4655:]\n",
        "test_merge.shape"
      ],
      "execution_count": 300,
      "outputs": [
        {
          "output_type": "execute_result",
          "data": {
            "text/plain": [
              "(32, 17)"
            ]
          },
          "metadata": {
            "tags": []
          },
          "execution_count": 300
        }
      ]
    },
    {
      "cell_type": "code",
      "metadata": {
        "id": "SEplxHsA5aQP",
        "colab": {
          "base_uri": "https://localhost:8080/"
        },
        "outputId": "253448aa-b524-4181-8f4c-daff06717c11"
      },
      "source": [
        "test.shape"
      ],
      "execution_count": 301,
      "outputs": [
        {
          "output_type": "execute_result",
          "data": {
            "text/plain": [
              "(12910, 14)"
            ]
          },
          "metadata": {
            "tags": []
          },
          "execution_count": 301
        }
      ]
    },
    {
      "cell_type": "code",
      "metadata": {
        "id": "urPZXRKtcWX8"
      },
      "source": [
        "cols = ['target_r', 'target_g', 'target_b']\n",
        "test_merge.drop(columns=cols, inplace=True)"
      ],
      "execution_count": 303,
      "outputs": []
    },
    {
      "cell_type": "code",
      "metadata": {
        "id": "P_dBWHAwclLn",
        "colab": {
          "base_uri": "https://localhost:8080/"
        },
        "outputId": "0f4b740d-666d-40fa-aeb5-9a029503ad6c"
      },
      "source": [
        "validation_data = validation_data[:4655]\n",
        "validation_data.shape"
      ],
      "execution_count": 304,
      "outputs": [
        {
          "output_type": "execute_result",
          "data": {
            "text/plain": [
              "(4655, 17)"
            ]
          },
          "metadata": {
            "tags": []
          },
          "execution_count": 304
        }
      ]
    },
    {
      "cell_type": "code",
      "metadata": {
        "id": "KHwMNbxIb5TZ",
        "colab": {
          "base_uri": "https://localhost:8080/"
        },
        "outputId": "ad700372-9027-4d4d-cd37-be9d2980d09a"
      },
      "source": [
        "train_data_arr = np.array(train_data)\n",
        "validation_data_arr = np.array(validation_data)\n",
        "validation_data_arr.shape"
      ],
      "execution_count": 305,
      "outputs": [
        {
          "output_type": "execute_result",
          "data": {
            "text/plain": [
              "(4655, 17)"
            ]
          },
          "metadata": {
            "tags": []
          },
          "execution_count": 305
        }
      ]
    },
    {
      "cell_type": "code",
      "metadata": {
        "id": "8m9gmn2-baw4",
        "colab": {
          "base_uri": "https://localhost:8080/",
          "height": 403
        },
        "outputId": "2ad4d399-cee4-42ca-b7dd-6e6171efd494"
      },
      "source": [
        "np.random.seed(60)\n",
        "n_steps = 33\n",
        "X_train, y_train = split_sequences(train_data_arr, n_steps)\n",
        "print(X_train.shape)\n",
        "X_val, y_val = split_sequences(validation_data_arr, n_steps)\n",
        "print(X_val.shape)\n",
        "n_input = X_train.shape[1] * X_train.shape[2]\n",
        "X_train = X_train.reshape((X_train.shape[0], n_input))\n",
        "X_val = X_val.reshape((X_val.shape[0], n_input))\n",
        "\n",
        "from keras.models import Sequential\n",
        "from keras.layers import Dense\n",
        "\n",
        "model = Sequential()\n",
        "model.add(Dense(1024, activation='sigmoid', input_dim=n_input))\n",
        "model.add(Dense(512, activation='relu'))\n",
        "# model.add(Dense(256, activation='relu'))\n",
        "model.add(Dense(150, activation='relu'))\n",
        "# model.add(Dense(50, activation='relu'))\n",
        "model.add(Dense(3))\n",
        "model.compile(optimizer='rmsprop', loss='mse')\n",
        "\n",
        "\n",
        "early_stopping = EarlyStopping(monitor='val_loss', mode='min', verbose=1, patience=5)\n",
        "mcp_save = ModelCheckpoint('./model.hdf5', save_best_only=True, monitor='val_loss', mode='min')\n",
        "\n",
        "batch_size = 64\n",
        "epochs = 250\n",
        "\n",
        "\n",
        "\n",
        "history = model.fit(X_train, y_train, epochs=epochs, batch_size=batch_size,verbose=0, validation_data=(X_val, y_val), \n",
        "                    callbacks=[early_stopping, mcp_save], shuffle=True)\n",
        "\n",
        "\n",
        "plot_metric(history, 'loss')\n",
        "\n",
        "model.load_weights('model.hdf5')\n",
        "preds= model.predict(X_val, batch_size=batch_size)\n",
        "cols = ['target_r', 'target_g', 'target_b']\n",
        "preds = pd.DataFrame(preds, columns=cols)\n",
        "\n",
        "print(scorer(y_val[:, 0], preds.target_r))\n",
        "print(scorer(y_val[:, 1], preds.target_g))\n",
        "print(scorer(y_val[:, 2], preds.target_b))"
      ],
      "execution_count": 307,
      "outputs": [
        {
          "output_type": "stream",
          "text": [
            "(9968, 33, 14)\n",
            "(4623, 33, 14)\n",
            "Epoch 00008: early stopping\n"
          ],
          "name": "stdout"
        },
        {
          "output_type": "display_data",
          "data": {
            "image/png": "[encoded data removed]",
            "text/plain": [
              "<Figure size 432x288 with 1 Axes>"
            ]
          },
          "metadata": {
            "tags": [],
            "needs_background": "light"
          }
        },
        {
          "output_type": "stream",
          "text": [
            "0.055463774821318264\n",
            "0.10627915594568438\n",
            "0.11833903780985469\n"
          ],
          "name": "stdout"
        }
      ]
    },
    {
      "cell_type": "code",
      "metadata": {
        "id": "jiN9Fu7Z2gK1",
        "colab": {
          "base_uri": "https://localhost:8080/"
        },
        "outputId": "10442993-95b4-443a-a065-2f3ed16ab92f"
      },
      "source": [
        "X_val.shape"
      ],
      "execution_count": 308,
      "outputs": [
        {
          "output_type": "execute_result",
          "data": {
            "text/plain": [
              "(4623, 462)"
            ]
          },
          "metadata": {
            "tags": []
          },
          "execution_count": 308
        }
      ]
    },
    {
      "cell_type": "code",
      "metadata": {
        "id": "zH5UDkAAbars",
        "colab": {
          "base_uri": "https://localhost:8080/"
        },
        "outputId": "07bf00ad-8042-43ca-8e6b-f23e861989dc"
      },
      "source": [
        "test_data_with_lag = pd.concat([test_merge, test])\n",
        "test_data_with_lag.shape"
      ],
      "execution_count": 309,
      "outputs": [
        {
          "output_type": "execute_result",
          "data": {
            "text/plain": [
              "(12942, 14)"
            ]
          },
          "metadata": {
            "tags": []
          },
          "execution_count": 309
        }
      ]
    },
    {
      "cell_type": "code",
      "metadata": {
        "id": "9sQxUrL23PM2",
        "colab": {
          "base_uri": "https://localhost:8080/"
        },
        "outputId": "1004d487-3ddc-4cb7-d1d4-81b8f5ad032d"
      },
      "source": [
        "test.shape[0]"
      ],
      "execution_count": 310,
      "outputs": [
        {
          "output_type": "execute_result",
          "data": {
            "text/plain": [
              "12910"
            ]
          },
          "metadata": {
            "tags": []
          },
          "execution_count": 310
        }
      ]
    },
    {
      "cell_type": "code",
      "metadata": {
        "id": "xalveW4Xji0K"
      },
      "source": [
        "def split_sequences_for_prediction(sequences, n_steps):\n",
        "    X= list()   \n",
        "    for i in range(len(sequences)):\n",
        "# find the end of this pattern\n",
        "        end_ix = i + n_steps\n",
        "# check if we are beyond the dataset\n",
        "        if end_ix > len(sequences):\n",
        "            break\n",
        "# gather input and output parts of the pattern\n",
        "        seq_x =sequences[i:end_ix]\n",
        "        # print(seq_x)\n",
        "        X.append(seq_x)\n",
        "    return np.array(X)"
      ],
      "execution_count": 311,
      "outputs": []
    },
    {
      "cell_type": "code",
      "metadata": {
        "id": "JOHA1W6qjixU"
      },
      "source": [
        "preds_data = split_sequences_for_prediction(np.array(test_data_with_lag[features]), 33)"
      ],
      "execution_count": 312,
      "outputs": []
    },
    {
      "cell_type": "code",
      "metadata": {
        "id": "LIII01T-lNZn",
        "colab": {
          "base_uri": "https://localhost:8080/"
        },
        "outputId": "dca89220-7c66-4a61-bab7-aea9767873ab"
      },
      "source": [
        "preds_data.shape"
      ],
      "execution_count": 313,
      "outputs": [
        {
          "output_type": "execute_result",
          "data": {
            "text/plain": [
              "(12910, 33, 14)"
            ]
          },
          "metadata": {
            "tags": []
          },
          "execution_count": 313
        }
      ]
    },
    {
      "cell_type": "code",
      "metadata": {
        "id": "fNeU4ysY3eTQ",
        "colab": {
          "base_uri": "https://localhost:8080/"
        },
        "outputId": "d3a8ce92-8d41-4b79-fd9b-a93fd2922d86"
      },
      "source": [
        "n_input"
      ],
      "execution_count": 314,
      "outputs": [
        {
          "output_type": "execute_result",
          "data": {
            "text/plain": [
              "462"
            ]
          },
          "metadata": {
            "tags": []
          },
          "execution_count": 314
        }
      ]
    },
    {
      "cell_type": "code",
      "metadata": {
        "id": "hfc_y3f3j7av",
        "colab": {
          "base_uri": "https://localhost:8080/"
        },
        "outputId": "1faa5d82-6d14-4dfb-801a-59a4176ba3b9"
      },
      "source": [
        "preds_data = preds_data.reshape((preds_data.shape[0], n_input))\n",
        "preds_data.shape"
      ],
      "execution_count": 315,
      "outputs": [
        {
          "output_type": "execute_result",
          "data": {
            "text/plain": [
              "(12910, 462)"
            ]
          },
          "metadata": {
            "tags": []
          },
          "execution_count": 315
        }
      ]
    },
    {
      "cell_type": "code",
      "metadata": {
        "id": "O0IzD_GDr-0E"
      },
      "source": [
        "model.predict()"
      ],
      "execution_count": null,
      "outputs": []
    },
    {
      "cell_type": "code",
      "metadata": {
        "id": "huOGl8Lyj7Xx"
      },
      "source": [
        "prediction = pd.DataFrame(model.predict(preds_data, batch_size=batch_size))"
      ],
      "execution_count": 316,
      "outputs": []
    },
    {
      "cell_type": "code",
      "metadata": {
        "id": "KQPmRrQqj7VB"
      },
      "source": [
        "prediction.columns = cols"
      ],
      "execution_count": 317,
      "outputs": []
    },
    {
      "cell_type": "code",
      "metadata": {
        "id": "e_OXlGtDktZk",
        "colab": {
          "base_uri": "https://localhost:8080/"
        },
        "outputId": "69b3ace3-613e-4924-bfe1-ba47828eaafd"
      },
      "source": [
        "prediction['target_g'].nunique()"
      ],
      "execution_count": 318,
      "outputs": [
        {
          "output_type": "execute_result",
          "data": {
            "text/plain": [
              "12866"
            ]
          },
          "metadata": {
            "tags": []
          },
          "execution_count": 318
        }
      ]
    },
    {
      "cell_type": "code",
      "metadata": {
        "colab": {
          "base_uri": "https://localhost:8080/"
        },
        "id": "joJeox0NZR9Y",
        "outputId": "6a0b3d7e-8ed9-4a01-84db-35caddc8cf57"
      },
      "source": [
        "test.shape, prediction.shape"
      ],
      "execution_count": 319,
      "outputs": [
        {
          "output_type": "execute_result",
          "data": {
            "text/plain": [
              "((12910, 14), (12910, 3))"
            ]
          },
          "metadata": {
            "tags": []
          },
          "execution_count": 319
        }
      ]
    },
    {
      "cell_type": "markdown",
      "metadata": {
        "id": "3DRAjG2hPGW7"
      },
      "source": [
        "# Predictions"
      ]
    },
    {
      "cell_type": "code",
      "metadata": {
        "id": "cYyekZi2wXgE",
        "colab": {
          "base_uri": "https://localhost:8080/",
          "height": 761
        },
        "outputId": "ef160119-00b2-4e0c-da4f-3eb626908c32"
      },
      "source": [
        "prediction['target_r'].plot(kind='hist')\n",
        "plt.show()\n",
        "prediction['target_g'].plot(kind='hist')\n",
        "plt.show()\n",
        "prediction['target_b'].plot(kind='hist')\n",
        "plt.show()"
      ],
      "execution_count": 320,
      "outputs": [
        {
          "output_type": "display_data",
          "data": {
            "image/png": "[encoded data removed]",
            "text/plain": [
              "<Figure size 432x288 with 1 Axes>"
            ]
          },
          "metadata": {
            "tags": [],
            "needs_background": "light"
          }
        },
        {
          "output_type": "display_data",
          "data": {
            "image/png": "[encoded data removed]",
            "text/plain": [
              "<Figure size 432x288 with 1 Axes>"
            ]
          },
          "metadata": {
            "tags": [],
            "needs_background": "light"
          }
        },
        {
          "output_type": "display_data",
          "data": {
            "image/png": "[encoded data removed]",
            "text/plain": [
              "<Figure size 432x288 with 1 Axes>"
            ]
          },
          "metadata": {
            "tags": [],
            "needs_background": "light"
          }
        }
      ]
    },
    {
      "cell_type": "code",
      "metadata": {
        "id": "6FvQl9QBerwb",
        "colab": {
          "base_uri": "https://localhost:8080/"
        },
        "outputId": "2ef62f6f-6e18-490f-a014-f98614786842"
      },
      "source": [
        "API_KEY = \"0GIskIC9Rd1I8sMw6nStutbIbMx7AaZzAyNfuMOVAVWgJtNa1IVQHZAD3WPj\" # <- HERE\n",
        "\n",
        "r = requests.post(\"https://tournament.datacrunch.com/api/submission\",\n",
        "    files = {\n",
        "        \"file\": (\"x\", prediction.to_csv().encode('ascii'))\n",
        "    },\n",
        "    data = {\n",
        "        \"apiKey\": API_KEY\n",
        "    },\n",
        ")\n",
        "\n",
        "if r.status_code == 200:\n",
        "    print(\"Submission submitted :)\")\n",
        "elif r.status_code == 423:\n",
        "    print(\"ERR: Submissions are close\")\n",
        "    print(\"You can only submit during rounds eg: Friday 7pm GMT+1 to Sunday midnight GMT+1.\")\n",
        "    print(\"Or the server is currently crunching the submitted files, please wait some time before retrying.\")\n",
        "elif r.status_code == 422:\n",
        "    print(\"ERR: API Key is missing or empty\")\n",
        "    print(\"Did you forget to fill the API_KEY variable?\")\n",
        "elif r.status_code == 404:\n",
        "    print(\"ERR: Unknown API Key\")\n",
        "    print(\"You should check that the provided API key is valid and is the same as the one you've received by email.\")\n",
        "elif r.status_code == 400:\n",
        "    print(\"ERR: The file must not be empty\")\n",
        "    print(\"You have send a empty file.\")\n",
        "elif r.status_code == 401:\n",
        "    print(\"ERR: Your email hasn't been verified\")\n",
        "    print(\"Please verify your email or contact a cruncher.\")\n",
        "elif r.status_code == 429:\n",
        "    print(\"ERR: Too many submissions\")\n",
        "else:\n",
        "    print(\"ERR: Server returned: \" + str(r.status_code))\n",
        "    print(\"Ouch! It seems that we were not expecting this kind of result from the server, if the probleme persist, contact a cruncher.\")"
      ],
      "execution_count": 321,
      "outputs": [
        {
          "output_type": "stream",
          "text": [
            "Submission submitted :)\n"
          ],
          "name": "stdout"
        }
      ]
    },
    {
      "cell_type": "code",
      "metadata": {
        "id": "2WIE4pRQfD7v"
      },
      "source": [
        ""
      ],
      "execution_count": null,
      "outputs": []
    }
  ]
}